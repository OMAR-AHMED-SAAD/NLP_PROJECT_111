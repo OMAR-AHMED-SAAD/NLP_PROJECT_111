{
 "cells": [
  {
   "cell_type": "code",
   "execution_count": 1,
   "metadata": {},
   "outputs": [],
   "source": [
    "# imports\n",
    "import os\n",
    "import numpy as np\n",
    "import pandas as pd\n",
    "import matplotlib.pyplot as plt"
   ]
  },
  {
   "cell_type": "markdown",
   "metadata": {},
   "source": [
    "#### Data Loading\n",
    "Load 10 episodes from each channel"
   ]
  },
  {
   "cell_type": "code",
   "execution_count": 6,
   "metadata": {},
   "outputs": [],
   "source": [
    "MOKHBIR_DIR = \"./Al_Mokhbir_Al_Eqtisadi/raw_data\"\n",
    "DA7EE7_DIR = \"./Da7ee7/raw_data\"\n",
    "HADARAA_DIR = \"./Fi_Al_Hadaraa/raw_data\""
   ]
  },
  {
   "cell_type": "code",
   "execution_count": 7,
   "metadata": {},
   "outputs": [],
   "source": [
    "def data_loader(dir_path:str, n:int)-> pd.DataFrame:\n",
    "    \"\"\"\n",
    "    Load the data from the file and return a pandas dataframe\n",
    "    :param dir_path: the path to the directory containing the .txt files\n",
    "    :param n: the number of episodes to read\n",
    "    :return: a pandas dataframe\n",
    "    \"\"\"\n",
    "    episodes_files = []\n",
    "    for i, file in enumerate(os.listdir(dir_path)):\n",
    "        if i >= n:\n",
    "            break\n",
    "        if file.endswith(\".txt\"):\n",
    "            with open(os.path.join(dir_path, file), 'r') as f:\n",
    "                episodes_files.append(f.read())\n",
    "    df = pd.DataFrame(episodes_files, columns=['episode_transcript'])\n",
    "    return df"
   ]
  },
  {
   "cell_type": "code",
   "execution_count": 9,
   "metadata": {},
   "outputs": [
    {
     "name": "stdout",
     "output_type": "stream",
     "text": [
      "<class 'pandas.core.frame.DataFrame'>\n",
      "RangeIndex: 10 entries, 0 to 9\n",
      "Data columns (total 1 columns):\n",
      " #   Column              Non-Null Count  Dtype \n",
      "---  ------              --------------  ----- \n",
      " 0   episode_transcript  10 non-null     object\n",
      "dtypes: object(1)\n",
      "memory usage: 212.0+ bytes\n",
      "<class 'pandas.core.frame.DataFrame'>\n",
      "RangeIndex: 10 entries, 0 to 9\n",
      "Data columns (total 1 columns):\n",
      " #   Column              Non-Null Count  Dtype \n",
      "---  ------              --------------  ----- \n",
      " 0   episode_transcript  10 non-null     object\n",
      "dtypes: object(1)\n",
      "memory usage: 212.0+ bytes\n",
      "<class 'pandas.core.frame.DataFrame'>\n",
      "RangeIndex: 10 entries, 0 to 9\n",
      "Data columns (total 1 columns):\n",
      " #   Column              Non-Null Count  Dtype \n",
      "---  ------              --------------  ----- \n",
      " 0   episode_transcript  10 non-null     object\n",
      "dtypes: object(1)\n",
      "memory usage: 212.0+ bytes\n"
     ]
    },
    {
     "data": {
      "text/plain": [
       "(None, None, None)"
      ]
     },
     "execution_count": 9,
     "metadata": {},
     "output_type": "execute_result"
    }
   ],
   "source": [
    "mokhbir_df = data_loader(MOKHBIR_DIR, 10)\n",
    "da7ee7_df = data_loader(DA7EE7_DIR, 10)\n",
    "hadaraa_df = data_loader(HADARAA_DIR, 10)\n",
    "mokhbir_df.info(), da7ee7_df.info(), hadaraa_df.info()"
   ]
  },
  {
   "cell_type": "code",
   "execution_count": null,
   "metadata": {},
   "outputs": [],
   "source": []
  }
 ],
 "metadata": {
  "kernelspec": {
   "display_name": "base",
   "language": "python",
   "name": "python3"
  },
  "language_info": {
   "codemirror_mode": {
    "name": "ipython",
    "version": 3
   },
   "file_extension": ".py",
   "mimetype": "text/x-python",
   "name": "python",
   "nbconvert_exporter": "python",
   "pygments_lexer": "ipython3",
   "version": "3.12.4"
  }
 },
 "nbformat": 4,
 "nbformat_minor": 2
}
