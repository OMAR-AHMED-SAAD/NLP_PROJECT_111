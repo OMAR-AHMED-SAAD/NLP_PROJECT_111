{
 "cells": [
  {
   "cell_type": "markdown",
   "metadata": {},
   "source": [
    "# Milestone 2 - RNN Seperated training notebook"
   ]
  },
  {
   "cell_type": "code",
   "execution_count": 1,
   "metadata": {},
   "outputs": [
    {
     "name": "stdout",
     "output_type": "stream",
     "text": [
      "/home/karimgamaleldin/NLP_PROJECT_111/QA Task milestone\n"
     ]
    },
    {
     "name": "stderr",
     "output_type": "stream",
     "text": [
      "/home/karimgamaleldin/.local/lib/python3.10/site-packages/IPython/core/magics/osm.py:417: UserWarning: This is now an optional IPython functionality, setting dhist requires you to install the `pickleshare` library.\n",
      "  self.shell.db['dhist'] = compress_dhist(dhist)[-100:]\n"
     ]
    }
   ],
   "source": [
    "%cd ..\n",
    "# imports \n",
    "import numpy as np \n",
    "import matplotlib.pyplot as plt\n",
    "import seaborn as sns\n",
    "import os\n",
    "from scripts_m2 import *\n",
    "import torch \n",
    "from torch import nn \n",
    "from torch import optim"
   ]
  },
  {
   "cell_type": "code",
   "execution_count": 2,
   "metadata": {},
   "outputs": [
    {
     "name": "stdout",
     "output_type": "stream",
     "text": [
      "Loading tokenizer from ./tokenizers/tokenizer.json...\n",
      "Filtered dataset size: 19922 out of original 20000\n",
      "Filtered dataset size: 1989 out of original 2000\n"
     ]
    }
   ],
   "source": [
    "# Getting the dataloaders and tokenizers\n",
    "train_dataloader, dev_dataloader, tokenizer = prepare_dataloaders_tokenizer()"
   ]
  },
  {
   "cell_type": "code",
   "execution_count": 3,
   "metadata": {},
   "outputs": [
    {
     "name": "stdout",
     "output_type": "stream",
     "text": [
      "Using device: cuda\n"
     ]
    }
   ],
   "source": [
    "# View the devices\n",
    "device = torch.device(\"cuda\" if torch.cuda.is_available() else \"cpu\")\n",
    "print(f\"Using device: {device}\")"
   ]
  },
  {
   "cell_type": "markdown",
   "metadata": {},
   "source": [
    "### Model Training"
   ]
  },
  {
   "cell_type": "code",
   "execution_count": 4,
   "metadata": {},
   "outputs": [
    {
     "name": "stderr",
     "output_type": "stream",
     "text": [
      "/home/karimgamaleldin/.local/lib/python3.10/site-packages/torch/optim/lr_scheduler.py:62: UserWarning: The verbose parameter is deprecated. Please use get_last_lr() to access the learning rate.\n",
      "  warnings.warn(\n",
      "Epoch 1/20: 100%|██████████| 623/623 [01:11<00:00,  8.66it/s, loss=10.6]\n"
     ]
    },
    {
     "name": "stdout",
     "output_type": "stream",
     "text": [
      "Epoch 1 Loss: 10.5450\n"
     ]
    },
    {
     "name": "stderr",
     "output_type": "stream",
     "text": [
      "Evaluating: 100%|██████████| 623/623 [00:43<00:00, 14.35it/s]\n"
     ]
    },
    {
     "name": "stdout",
     "output_type": "stream",
     "text": [
      "Training Loss: 10.3902\n",
      "Training Metrics: {'start_accuracy': 0.036893886156008436, 'start_precision': 0.004160552605930928, 'start_recall': 0.036893886156008436, 'start_f1_score': 0.007015820143798082, 'end_accuracy': 0.023140246963156308, 'end_precision': 0.0022844626329014002, 'end_recall': 0.023140246963156308, 'end_f1_score': 0.0039020053471102312, 'joint_exact_match': 0.008081517919887562, 'span_overlap_f1': 0.04722672247292376}\n"
     ]
    },
    {
     "name": "stderr",
     "output_type": "stream",
     "text": [
      "Evaluating: 100%|██████████| 63/63 [00:04<00:00, 15.40it/s]\n"
     ]
    },
    {
     "name": "stdout",
     "output_type": "stream",
     "text": [
      "Validation Loss: 10.5467\n",
      "Validation Metrics: {'start_accuracy': 0.030668677727501256, 'start_precision': 0.0033111519034325185, 'start_recall': 0.030668677727501256, 'start_f1_score': 0.0049970332077339105, 'end_accuracy': 0.014077425842131725, 'end_precision': 0.0014539051058058787, 'end_recall': 0.014077425842131725, 'end_f1_score': 0.0018938847176730616, 'joint_exact_match': 0.005530417295123178, 'span_overlap_f1': 0.03867120052914611}\n",
      "Validation loss improved to 10.5467. Saving model state.\n",
      "--------------------------------------------------\n"
     ]
    },
    {
     "name": "stderr",
     "output_type": "stream",
     "text": [
      "Epoch 2/20: 100%|██████████| 623/623 [01:12<00:00,  8.59it/s, loss=10.3]\n"
     ]
    },
    {
     "name": "stdout",
     "output_type": "stream",
     "text": [
      "Epoch 2 Loss: 10.3839\n"
     ]
    },
    {
     "name": "stderr",
     "output_type": "stream",
     "text": [
      "Evaluating: 100%|██████████| 623/623 [00:42<00:00, 14.50it/s]\n"
     ]
    },
    {
     "name": "stdout",
     "output_type": "stream",
     "text": [
      "Training Loss: 10.1818\n",
      "Training Metrics: {'start_accuracy': 0.04196365826724224, 'start_precision': 0.012320765207602382, 'start_recall': 0.04196365826724224, 'start_f1_score': 0.013802521997246598, 'end_accuracy': 0.0317237225178195, 'end_precision': 0.010866924808016645, 'end_recall': 0.0317237225178195, 'end_f1_score': 0.010999320083314064, 'joint_exact_match': 0.012297962052002811, 'span_overlap_f1': 0.04995254441421844}\n"
     ]
    },
    {
     "name": "stderr",
     "output_type": "stream",
     "text": [
      "Evaluating: 100%|██████████| 63/63 [00:04<00:00, 15.51it/s]\n"
     ]
    },
    {
     "name": "stdout",
     "output_type": "stream",
     "text": [
      "Validation Loss: 10.4892\n",
      "Validation Metrics: {'start_accuracy': 0.03117144293614882, 'start_precision': 0.005999224431717991, 'start_recall': 0.03117144293614882, 'start_f1_score': 0.00829346457086375, 'end_accuracy': 0.020613373554550025, 'end_precision': 0.008971057593993147, 'end_recall': 0.020613373554550025, 'end_f1_score': 0.007516879801175786, 'joint_exact_match': 0.008547008547008548, 'span_overlap_f1': 0.037967913421783}\n",
      "Validation loss improved to 10.4892. Saving model state.\n",
      "--------------------------------------------------\n"
     ]
    },
    {
     "name": "stderr",
     "output_type": "stream",
     "text": [
      "Epoch 3/20: 100%|██████████| 623/623 [01:17<00:00,  8.02it/s, loss=9.74]\n"
     ]
    },
    {
     "name": "stdout",
     "output_type": "stream",
     "text": [
      "Epoch 3 Loss: 10.2512\n"
     ]
    },
    {
     "name": "stderr",
     "output_type": "stream",
     "text": [
      "Evaluating: 100%|██████████| 623/623 [00:44<00:00, 14.11it/s]\n"
     ]
    },
    {
     "name": "stdout",
     "output_type": "stream",
     "text": [
      "Training Loss: 9.9656\n",
      "Training Metrics: {'start_accuracy': 0.047234213432386304, 'start_precision': 0.019493258461125526, 'start_recall': 0.047234213432386304, 'start_f1_score': 0.016845948238753888, 'end_accuracy': 0.037747214135126994, 'end_precision': 0.014398277911832645, 'end_recall': 0.037747214135126994, 'end_f1_score': 0.01698411407970752, 'joint_exact_match': 0.018421845196265434, 'span_overlap_f1': 0.05618690857743361}\n"
     ]
    },
    {
     "name": "stderr",
     "output_type": "stream",
     "text": [
      "Evaluating: 100%|██████████| 63/63 [00:04<00:00, 14.93it/s]\n"
     ]
    },
    {
     "name": "stdout",
     "output_type": "stream",
     "text": [
      "Validation Loss: 10.4273\n",
      "Validation Metrics: {'start_accuracy': 0.029663147310206132, 'start_precision': 0.010528485774399339, 'start_recall': 0.029663147310206132, 'start_f1_score': 0.008224070008832464, 'end_accuracy': 0.01860231271995978, 'end_precision': 0.008040815842312785, 'end_recall': 0.01860231271995978, 'end_f1_score': 0.009355934532551503, 'joint_exact_match': 0.008547008547008548, 'span_overlap_f1': 0.040882488105870925}\n",
      "Validation loss improved to 10.4273. Saving model state.\n",
      "--------------------------------------------------\n"
     ]
    },
    {
     "name": "stderr",
     "output_type": "stream",
     "text": [
      "Epoch 4/20: 100%|██████████| 623/623 [01:15<00:00,  8.21it/s, loss=10.1]\n"
     ]
    },
    {
     "name": "stdout",
     "output_type": "stream",
     "text": [
      "Epoch 4 Loss: 10.0005\n"
     ]
    },
    {
     "name": "stderr",
     "output_type": "stream",
     "text": [
      "Evaluating: 100%|██████████| 623/623 [00:43<00:00, 14.26it/s]\n"
     ]
    },
    {
     "name": "stdout",
     "output_type": "stream",
     "text": [
      "Training Loss: 9.6718\n",
      "Training Metrics: {'start_accuracy': 0.05737375765485393, 'start_precision': 0.021453996976900425, 'start_recall': 0.05737375765485393, 'start_f1_score': 0.024288864097167184, 'end_accuracy': 0.04753538801325168, 'end_precision': 0.018921738508495243, 'end_recall': 0.04753538801325168, 'end_f1_score': 0.02183668857283997, 'joint_exact_match': 0.02519827326573637, 'span_overlap_f1': 0.06258896994711094}\n"
     ]
    },
    {
     "name": "stderr",
     "output_type": "stream",
     "text": [
      "Evaluating: 100%|██████████| 63/63 [00:04<00:00, 14.17it/s]\n"
     ]
    },
    {
     "name": "stdout",
     "output_type": "stream",
     "text": [
      "Validation Loss: 10.4043\n",
      "Validation Metrics: {'start_accuracy': 0.03167420814479638, 'start_precision': 0.010726167423558707, 'start_recall': 0.03167420814479638, 'start_f1_score': 0.012219933956736425, 'end_accuracy': 0.02513826043237808, 'end_precision': 0.014426492025954288, 'end_recall': 0.02513826043237808, 'end_f1_score': 0.013665657213775828, 'joint_exact_match': 0.011563599798893917, 'span_overlap_f1': 0.039642515445080684}\n",
      "Validation loss improved to 10.4043. Saving model state.\n",
      "--------------------------------------------------\n"
     ]
    },
    {
     "name": "stderr",
     "output_type": "stream",
     "text": [
      "Epoch 5/20: 100%|██████████| 623/623 [01:14<00:00,  8.39it/s, loss=10]  \n"
     ]
    },
    {
     "name": "stdout",
     "output_type": "stream",
     "text": [
      "Epoch 5 Loss: 9.7944\n"
     ]
    },
    {
     "name": "stderr",
     "output_type": "stream",
     "text": [
      "Evaluating: 100%|██████████| 623/623 [00:42<00:00, 14.52it/s]\n"
     ]
    },
    {
     "name": "stdout",
     "output_type": "stream",
     "text": [
      "Training Loss: 9.4632\n",
      "Training Metrics: {'start_accuracy': 0.06495331793996587, 'start_precision': 0.030530187768295962, 'start_recall': 0.06495331793996587, 'start_f1_score': 0.034680886302034954, 'end_accuracy': 0.05621925509486999, 'end_precision': 0.029383949537095694, 'end_recall': 0.05621925509486999, 'end_f1_score': 0.031389964892978836, 'joint_exact_match': 0.029515108924806747, 'span_overlap_f1': 0.07144189495125429}\n"
     ]
    },
    {
     "name": "stderr",
     "output_type": "stream",
     "text": [
      "Evaluating: 100%|██████████| 63/63 [00:04<00:00, 14.42it/s]\n"
     ]
    },
    {
     "name": "stdout",
     "output_type": "stream",
     "text": [
      "Validation Loss: 10.5049\n",
      "Validation Metrics: {'start_accuracy': 0.02865761689291101, 'start_precision': 0.014901530037636182, 'start_recall': 0.02865761689291101, 'start_f1_score': 0.015314313549734095, 'end_accuracy': 0.023127199597787834, 'end_precision': 0.021300326791864617, 'end_recall': 0.023127199597787834, 'end_f1_score': 0.013547115034036149, 'joint_exact_match': 0.012066365007541479, 'span_overlap_f1': 0.03888044365639708}\n",
      "Validation loss did not improve. No improvement for 1 epochs.\n",
      "--------------------------------------------------\n"
     ]
    },
    {
     "name": "stderr",
     "output_type": "stream",
     "text": [
      "Epoch 6/20: 100%|██████████| 623/623 [01:16<00:00,  8.19it/s, loss=8.74]\n"
     ]
    },
    {
     "name": "stdout",
     "output_type": "stream",
     "text": [
      "Epoch 6 Loss: 9.5618\n"
     ]
    },
    {
     "name": "stderr",
     "output_type": "stream",
     "text": [
      "Evaluating: 100%|██████████| 623/623 [00:42<00:00, 14.59it/s]\n"
     ]
    },
    {
     "name": "stdout",
     "output_type": "stream",
     "text": [
      "Training Loss: 9.1530\n",
      "Training Metrics: {'start_accuracy': 0.07378777231201687, 'start_precision': 0.0382075812124711, 'start_recall': 0.07378777231201687, 'start_f1_score': 0.04227446211248589, 'end_accuracy': 0.06224274671217749, 'end_precision': 0.037183866979022505, 'end_recall': 0.06224274671217749, 'end_f1_score': 0.035541930602682056, 'joint_exact_match': 0.032225680152595124, 'span_overlap_f1': 0.07602445804837592}\n"
     ]
    },
    {
     "name": "stderr",
     "output_type": "stream",
     "text": [
      "Evaluating: 100%|██████████| 63/63 [00:04<00:00, 14.84it/s]\n"
     ]
    },
    {
     "name": "stdout",
     "output_type": "stream",
     "text": [
      "Validation Loss: 10.5470\n",
      "Validation Metrics: {'start_accuracy': 0.027652086475615886, 'start_precision': 0.015258683395160342, 'start_recall': 0.027652086475615886, 'start_f1_score': 0.015934920645137667, 'end_accuracy': 0.01809954751131222, 'end_precision': 0.009983092223607947, 'end_recall': 0.01809954751131222, 'end_f1_score': 0.011042917902089076, 'joint_exact_match': 0.010055304172951232, 'span_overlap_f1': 0.034261926285403616}\n",
      "Validation loss did not improve. No improvement for 2 epochs.\n",
      "--------------------------------------------------\n"
     ]
    },
    {
     "name": "stderr",
     "output_type": "stream",
     "text": [
      "Epoch 7/20: 100%|██████████| 623/623 [01:18<00:00,  7.95it/s, loss=10.1]\n"
     ]
    },
    {
     "name": "stdout",
     "output_type": "stream",
     "text": [
      "Epoch 7 Loss: 9.2940\n"
     ]
    },
    {
     "name": "stderr",
     "output_type": "stream",
     "text": [
      "Evaluating: 100%|██████████| 623/623 [00:45<00:00, 13.64it/s]\n"
     ]
    },
    {
     "name": "stdout",
     "output_type": "stream",
     "text": [
      "Training Loss: 8.7537\n",
      "Training Metrics: {'start_accuracy': 0.09135628952916373, 'start_precision': 0.06875380633547555, 'start_recall': 0.09135628952916373, 'start_f1_score': 0.059864525912455765, 'end_accuracy': 0.08824415219355486, 'end_precision': 0.058776668277350945, 'end_recall': 0.08824415219355486, 'end_f1_score': 0.05767907071595504, 'joint_exact_match': 0.04507579560285112, 'span_overlap_f1': 0.09825190877253563}\n"
     ]
    },
    {
     "name": "stderr",
     "output_type": "stream",
     "text": [
      "Evaluating: 100%|██████████| 63/63 [00:04<00:00, 13.29it/s]\n"
     ]
    },
    {
     "name": "stdout",
     "output_type": "stream",
     "text": [
      "Validation Loss: 10.7881\n",
      "Validation Metrics: {'start_accuracy': 0.026646556058320763, 'start_precision': 0.014788453910683778, 'start_recall': 0.026646556058320763, 'start_f1_score': 0.015902176198021287, 'end_accuracy': 0.027149321266968326, 'end_precision': 0.02080284493557172, 'end_recall': 0.027149321266968326, 'end_f1_score': 0.017909646687736036, 'joint_exact_match': 0.012066365007541479, 'span_overlap_f1': 0.038284436212689676}\n",
      "Validation loss did not improve. No improvement for 3 epochs.\n",
      "--------------------------------------------------\n"
     ]
    },
    {
     "name": "stderr",
     "output_type": "stream",
     "text": [
      "Epoch 8/20: 100%|██████████| 623/623 [01:15<00:00,  8.26it/s, loss=8.13]\n"
     ]
    },
    {
     "name": "stdout",
     "output_type": "stream",
     "text": [
      "Epoch 8 Loss: 8.7983\n"
     ]
    },
    {
     "name": "stderr",
     "output_type": "stream",
     "text": [
      "Evaluating: 100%|██████████| 623/623 [00:43<00:00, 14.34it/s]\n"
     ]
    },
    {
     "name": "stdout",
     "output_type": "stream",
     "text": [
      "Training Loss: 8.5059\n",
      "Training Metrics: {'start_accuracy': 0.10174681256901917, 'start_precision': 0.08501365036455621, 'start_recall': 0.10174681256901917, 'start_f1_score': 0.0726817618841167, 'end_accuracy': 0.0994378074490513, 'end_precision': 0.0699204771454543, 'end_recall': 0.0994378074490513, 'end_f1_score': 0.07077191264223046, 'joint_exact_match': 0.05114948298363618, 'span_overlap_f1': 0.10933696573896423}\n"
     ]
    },
    {
     "name": "stderr",
     "output_type": "stream",
     "text": [
      "Evaluating: 100%|██████████| 63/63 [00:04<00:00, 14.02it/s]\n"
     ]
    },
    {
     "name": "stdout",
     "output_type": "stream",
     "text": [
      "Validation Loss: 11.1627\n",
      "Validation Metrics: {'start_accuracy': 0.02564102564102564, 'start_precision': 0.015269830528178636, 'start_recall': 0.02564102564102564, 'start_f1_score': 0.0154336044932472, 'end_accuracy': 0.02513826043237808, 'end_precision': 0.014608988432690482, 'end_recall': 0.02513826043237808, 'end_f1_score': 0.0156255056287242, 'joint_exact_match': 0.014077425842131725, 'span_overlap_f1': 0.03546568950129095}\n",
      "Validation loss did not improve. No improvement for 4 epochs.\n",
      "--------------------------------------------------\n"
     ]
    },
    {
     "name": "stderr",
     "output_type": "stream",
     "text": [
      "Epoch 9/20: 100%|██████████| 623/623 [01:18<00:00,  7.93it/s, loss=8.84]\n"
     ]
    },
    {
     "name": "stdout",
     "output_type": "stream",
     "text": [
      "Epoch 9 Loss: 8.6368\n"
     ]
    },
    {
     "name": "stderr",
     "output_type": "stream",
     "text": [
      "Evaluating: 100%|██████████| 623/623 [00:43<00:00, 14.21it/s]\n"
     ]
    },
    {
     "name": "stdout",
     "output_type": "stream",
     "text": [
      "Training Loss: 8.3526\n",
      "Training Metrics: {'start_accuracy': 0.1094769601445638, 'start_precision': 0.08978445420105037, 'start_recall': 0.1094769601445638, 'start_f1_score': 0.0820804361273078, 'end_accuracy': 0.10375464310812167, 'end_precision': 0.07973333560386503, 'end_recall': 0.10375464310812167, 'end_f1_score': 0.07669276439769884, 'joint_exact_match': 0.05451259913663287, 'span_overlap_f1': 0.11460313060152329}\n"
     ]
    },
    {
     "name": "stderr",
     "output_type": "stream",
     "text": [
      "Evaluating: 100%|██████████| 63/63 [00:04<00:00, 14.54it/s]"
     ]
    },
    {
     "name": "stdout",
     "output_type": "stream",
     "text": [
      "Validation Loss: 11.3846\n",
      "Validation Metrics: {'start_accuracy': 0.02564102564102564, 'start_precision': 0.016213169145764192, 'start_recall': 0.02564102564102564, 'start_f1_score': 0.01691132881245193, 'end_accuracy': 0.024635495223730517, 'end_precision': 0.015320706415940029, 'end_recall': 0.024635495223730517, 'end_f1_score': 0.016929267569148004, 'joint_exact_match': 0.014077425842131725, 'span_overlap_f1': 0.03475926448722298}\n",
      "Validation loss did not improve. No improvement for 5 epochs.\n",
      "Early stopping triggered.\n",
      "Loaded the best model state.\n"
     ]
    },
    {
     "name": "stderr",
     "output_type": "stream",
     "text": [
      "\n"
     ]
    }
   ],
   "source": [
    "vocab_size = 10000\n",
    "context_max_length = 318\n",
    "\n",
    "model = RNN_QA_Model2(\n",
    "    vocab_size=vocab_size,\n",
    "    embedding_dim=256,\n",
    "    output_dim=context_max_length,\n",
    "    hidden_dim=256,\n",
    "    num_layers=3,\n",
    "    dropout=0.8,\n",
    "    pad_idx=1\n",
    ")\n",
    "\n",
    "#  loss function\n",
    "criterion = nn.CrossEntropyLoss(ignore_index=1)\n",
    "#  optimizer\n",
    "optimizer = torch.optim.AdamW(model.parameters(), lr=0.001)\n",
    "# Training the model\n",
    "train_loss, val_loss = train_qa_context_model_boilerplate(\n",
    "    model=model, \n",
    "    train_dataloader=train_dataloader, \n",
    "    criterion=criterion, \n",
    "    optimizer=optimizer, \n",
    "    num_epochs=20,\n",
    "    device='cuda', \n",
    "    inputs=[\"context\", \"question\"],\n",
    "    val_dataloader=dev_dataloader, \n",
    "    evaluate_val_dataset=True\n",
    ")"
   ]
  },
  {
   "cell_type": "code",
   "execution_count": 15,
   "metadata": {},
   "outputs": [
    {
     "data": {
      "image/png": "[encoded data removed]",
      "text/plain": [
       "<Figure size 1000x600 with 1 Axes>"
      ]
     },
     "metadata": {},
     "output_type": "display_data"
    }
   ],
   "source": [
    "# Plotting the training and validation loss\n",
    "plot_loss_curves(train_loss, val_loss)"
   ]
  },
  {
   "cell_type": "markdown",
   "metadata": {},
   "source": [
    "### Saving the model"
   ]
  },
  {
   "cell_type": "code",
   "execution_count": 6,
   "metadata": {},
   "outputs": [],
   "source": [
    "model_path = \"models/qa_context_model_seperated_rnn.pkl\""
   ]
  },
  {
   "cell_type": "code",
   "execution_count": 7,
   "metadata": {},
   "outputs": [
    {
     "name": "stdout",
     "output_type": "stream",
     "text": [
      "Model saved to models/qa_context_model_seperated_rnn.pkl\n"
     ]
    }
   ],
   "source": [
    "save_model(model, model_path)"
   ]
  },
  {
   "cell_type": "code",
   "execution_count": 8,
   "metadata": {},
   "outputs": [
    {
     "name": "stdout",
     "output_type": "stream",
     "text": [
      "Model loaded from models/qa_context_model_seperated_rnn.pkl\n"
     ]
    }
   ],
   "source": [
    "model = load_model(model_path=model_path)"
   ]
  },
  {
   "cell_type": "markdown",
   "metadata": {},
   "source": [
    "### Evaluation Metrics Models"
   ]
  },
  {
   "cell_type": "markdown",
   "metadata": {},
   "source": [
    "##### 1. Evaluation on Training set"
   ]
  },
  {
   "cell_type": "code",
   "execution_count": 9,
   "metadata": {},
   "outputs": [
    {
     "name": "stderr",
     "output_type": "stream",
     "text": [
      "Evaluating:   0%|          | 0/623 [00:00<?, ?it/s]/home/karimgamaleldin/.local/lib/python3.10/site-packages/torch/nn/modules/rnn.py:1124: UserWarning: RNN module weights are not part of single contiguous chunk of memory. This means they need to be compacted at every call, possibly greatly increasing memory usage. To compact weights again call flatten_parameters(). (Triggered internally at /pytorch/aten/src/ATen/native/cudnn/RNN.cpp:1412.)\n",
      "  result = _VF.lstm(\n",
      "Evaluating: 100%|██████████| 623/623 [00:49<00:00, 12.66it/s]\n"
     ]
    },
    {
     "name": "stdout",
     "output_type": "stream",
     "text": [
      "Training Loss: 9.6719\n",
      "Training Metrics: {'start_accuracy': 0.05737375765485393, 'start_precision': 0.021453996976900425, 'start_recall': 0.05737375765485393, 'start_f1_score': 0.024288864097167184, 'end_accuracy': 0.04753538801325168, 'end_precision': 0.018921738508495243, 'end_recall': 0.04753538801325168, 'end_f1_score': 0.02183668857283997, 'joint_exact_match': 0.02519827326573637, 'span_overlap_f1': 0.06258896994711094}\n"
     ]
    },
    {
     "data": {
      "text/plain": [
       "(9.671856361254452,\n",
       " {'start_accuracy': 0.05737375765485393,\n",
       "  'start_precision': 0.021453996976900425,\n",
       "  'start_recall': 0.05737375765485393,\n",
       "  'start_f1_score': 0.024288864097167184,\n",
       "  'end_accuracy': 0.04753538801325168,\n",
       "  'end_precision': 0.018921738508495243,\n",
       "  'end_recall': 0.04753538801325168,\n",
       "  'end_f1_score': 0.02183668857283997,\n",
       "  'joint_exact_match': 0.02519827326573637,\n",
       "  'span_overlap_f1': 0.06258896994711094})"
      ]
     },
     "execution_count": 9,
     "metadata": {},
     "output_type": "execute_result"
    }
   ],
   "source": [
    "# evaluate the model on the dev set\n",
    "criterion = nn.CrossEntropyLoss(ignore_index=1)\n",
    "evaluate_qa_context_model_boilerplate(model=model, dataloader=train_dataloader, criterion=criterion, device='cuda', inputs = [\"context\", \"question\"], prefix_str=\"Training\")"
   ]
  },
  {
   "cell_type": "markdown",
   "metadata": {},
   "source": [
    "##### 2. Evaluation on Test Set"
   ]
  },
  {
   "cell_type": "code",
   "execution_count": 10,
   "metadata": {},
   "outputs": [
    {
     "name": "stderr",
     "output_type": "stream",
     "text": [
      "Evaluating:   0%|          | 0/63 [00:00<?, ?it/s]/home/karimgamaleldin/.local/lib/python3.10/site-packages/torch/nn/modules/rnn.py:1124: UserWarning: RNN module weights are not part of single contiguous chunk of memory. This means they need to be compacted at every call, possibly greatly increasing memory usage. To compact weights again call flatten_parameters(). (Triggered internally at /pytorch/aten/src/ATen/native/cudnn/RNN.cpp:1412.)\n",
      "  result = _VF.lstm(\n",
      "Evaluating: 100%|██████████| 63/63 [00:05<00:00, 11.95it/s]\n"
     ]
    },
    {
     "name": "stdout",
     "output_type": "stream",
     "text": [
      "Validation Loss: 10.4043\n",
      "Validation Metrics: {'start_accuracy': 0.03167420814479638, 'start_precision': 0.010726167423558707, 'start_recall': 0.03167420814479638, 'start_f1_score': 0.012219933956736425, 'end_accuracy': 0.02513826043237808, 'end_precision': 0.014426492025954288, 'end_recall': 0.02513826043237808, 'end_f1_score': 0.013665657213775828, 'joint_exact_match': 0.011563599798893917, 'span_overlap_f1': 0.039642515445080684}\n"
     ]
    },
    {
     "data": {
      "text/plain": [
       "(10.40425533718533,\n",
       " {'start_accuracy': 0.03167420814479638,\n",
       "  'start_precision': 0.010726167423558707,\n",
       "  'start_recall': 0.03167420814479638,\n",
       "  'start_f1_score': 0.012219933956736425,\n",
       "  'end_accuracy': 0.02513826043237808,\n",
       "  'end_precision': 0.014426492025954288,\n",
       "  'end_recall': 0.02513826043237808,\n",
       "  'end_f1_score': 0.013665657213775828,\n",
       "  'joint_exact_match': 0.011563599798893917,\n",
       "  'span_overlap_f1': 0.039642515445080684})"
      ]
     },
     "execution_count": 10,
     "metadata": {},
     "output_type": "execute_result"
    }
   ],
   "source": [
    "# evaluate the model on the dev set\n",
    "criterion = nn.CrossEntropyLoss(ignore_index=1)\n",
    "evaluate_qa_context_model_boilerplate(model=model, dataloader=dev_dataloader, criterion=criterion, device='cuda', inputs = [\"context\", \"question\"])"
   ]
  },
  {
   "cell_type": "markdown",
   "metadata": {},
   "source": [
    "### Predictions"
   ]
  },
  {
   "cell_type": "markdown",
   "metadata": {},
   "source": [
    "##### 1. Predection on Dev Set"
   ]
  },
  {
   "cell_type": "code",
   "execution_count": 11,
   "metadata": {},
   "outputs": [
    {
     "name": "stderr",
     "output_type": "stream",
     "text": [
      "Predicting:   0%|          | 0/63 [00:00<?, ?it/s]/home/karimgamaleldin/.local/lib/python3.10/site-packages/torch/nn/modules/rnn.py:1124: UserWarning: RNN module weights are not part of single contiguous chunk of memory. This means they need to be compacted at every call, possibly greatly increasing memory usage. To compact weights again call flatten_parameters(). (Triggered internally at /pytorch/aten/src/ATen/native/cudnn/RNN.cpp:1412.)\n",
      "  result = _VF.lstm(\n",
      "Predicting: 100%|██████████| 63/63 [00:05<00:00, 10.78it/s]\n"
     ]
    }
   ],
   "source": [
    "preds, true_labels, contexts, questions = predict_qa_context_model_boilerplate(model=model, dataloader=dev_dataloader, tokenizer=tokenizer, device='cuda', inputs = [\"context\", \"question\"])"
   ]
  },
  {
   "cell_type": "code",
   "execution_count": 12,
   "metadata": {},
   "outputs": [
    {
     "name": "stdout",
     "output_type": "stream",
     "text": [
      "Question: how many khitan tumens were there ?\n",
      "Context: many han chinese and khitan defected to the mongols to fight against the jin . two han chinese leaders , shi tianze , liu heima ( 劉, liu ni ), and the khitan xiao zhala ( ) defected and commanded the 3 tumens in the mongol army . liu heima and shi tianze served ogödei khan . liu heima and shi tianxiang led armies against western xia for the mongols . there were 4 han tumens and 3 khitan tumens , with each tumen consisting of 10 , 000 troops . the three khitan generals shimobeidier ( 石), tabuyir ( 不) and xiaozhacizhizizhongxi ( 之子重喜 ) commanded the three khitan tumens and the four han generals zhang rou , yan shi , shi tianze , and liu heima commanded the four han tumens under ogödei khan .\n",
      "Predicted Answer: \n",
      "True Answer: 3\n",
      "--------------------------------------------------\n",
      "Question: what is the atomic number of the element oxygen ?\n",
      "Context: oxygen is a chemical element with symbol o and atomic number 8 . it is a member of the chalcogen group on the periodic table and is a highly reactive nonmetal and oxidizing agent that readily forms compounds ( notably oxides ) with most elements . by mass , oxygen is the third - most abundant element in the universe , after hydrogen and helium . at standard temperature and pressure , two atoms of the element bind to form dioxygen , a colorless and odorless diatomic gas with the formula o 2 . diatomic oxygen gas constitutes 20 . 8 % of the earth ' s atmosphere . however , monitoring of atmospheric oxygen levels show a global downward trend , because of fossil - fuel burning . oxygen is the most abundant element by mass in the earth ' s crust as part of oxide compounds such as silicon dioxide , making up almost half of the crust ' s mass .\n",
      "Predicted Answer: and atomic\n",
      "True Answer: 8\n",
      "--------------------------------------------------\n",
      "Question: the atomic number of the periodic table for oxygen ?\n",
      "Context: oxygen is a chemical element with symbol o and atomic number 8 . it is a member of the chalcogen group on the periodic table and is a highly reactive nonmetal and oxidizing agent that readily forms compounds ( notably oxides ) with most elements . by mass , oxygen is the third - most abundant element in the universe , after hydrogen and helium . at standard temperature and pressure , two atoms of the element bind to form dioxygen , a colorless and odorless diatomic gas with the formula o 2 . diatomic oxygen gas constitutes 20 . 8 % of the earth ' s atmosphere . however , monitoring of atmospheric oxygen levels show a global downward trend , because of fossil - fuel burning . oxygen is the most abundant element by mass in the earth ' s crust as part of oxide compounds such as silicon dioxide , making up almost half of the crust ' s mass .\n",
      "Predicted Answer: and atomic\n",
      "True Answer: 8\n",
      "--------------------------------------------------\n",
      "Question: how many campuses does the university of california have ?\n",
      "Context: the tech coast is a moniker that has gained use as a descriptor for the region ' s diversified technology and industrial base as well as its multitude of prestigious and world - renowned research universities and other public and private institutions . amongst these include 5 university of california campuses ( irvine , los angeles , riverside , santa barbara , and san diego ); 12 california state university campuses ( bakersfield , channel islands , dominguez hills , fullerton , los angeles , long beach , northridge , pomona , san bernardino , san diego , san marcos , and san luis obispo ); and private institutions such as the california institute of technology , chapman university , the claremont colleges ( claremont mckenna college , harvey mudd college , pitzer college , pomona college , and scripps college ), loma linda university , loyola marymount university , occidental college , pepperdine university , university of redlands , university of san diego , and the university of southern california .\n",
      "Predicted Answer: the tech coast is a moniker that has gained use as a descriptor for the region ' s diversified technology and industrial base as well as its multi\n",
      "True Answer: 5\n",
      "--------------------------------------------------\n",
      "Question: how many cylinders does the energiprojekt ab engine have ?\n",
      "Context: although the reciprocating steam engine is no longer in widespread commercial use , various companies are exploring or exploiting the potential of the engine as an alternative to internal combustion engines . the company energiprojekt ab in sweden has made progress in using modern materials for harnessing the power of steam . the efficiency of energiprojekt ' s steam engine reaches some 27 - 30 % on high - pressure engines . it is a single - step , 5 - cylinder engine ( no compound ) with superheated steam and consumes approx . 4 kg ( 8 . 8 lb ) of steam per kwh .[ not in citation given ]\n",
      "Predicted Answer: to internal\n",
      "True Answer: 5\n",
      "--------------------------------------------------\n",
      "Question: what number did early greeks not regard as a true number ?\n",
      "Context: most early greeks did not even consider 1 to be a number , so they could not consider it to be a prime . by the middle ages and renaissance many mathematicians included 1 as the first prime number . in the mid - 18th century christian goldbach listed 1 as the first prime in his famous correspondence with leonhard euler -- who did not agree . in the 19th century many mathematicians still considered the number 1 to be a prime . for example , derrick norman lehmer ' s list of primes up to 10 , 006 , 721 , reprinted as late as 1956 , started with 1 as its first prime . henri lebesgue is said to be the last professional mathematician to call 1 prime . by the early 20th century , mathematicians began to accept that 1 is not a prime number , but rather forms its own special category as a \" unit \".\n",
      "Predicted Answer: most early greeks did not even consider 1 to be a number , so they could not consider it to be a prime . by the middle ages and renaissance many mathematicians included 1 as the first prime number . in the mid - 18th century christian goldbach listed 1 as the first prime in his famous correspondence with leonhard euler -- who did not agree . in the 19th century many mathematicians still considered\n",
      "True Answer: 1\n",
      "--------------------------------------------------\n",
      "Question: any even number larger than what cannot be considered prime ?\n",
      "Context: hence , 6 is not prime . the image at the right illustrates that 12 is not prime : 12 = 3 · 4 . no even number greater than 2 is prime because by definition , any such number n has at least three distinct divisors , namely 1 , 2 , and n . this implies that n is not prime . accordingly , the term odd prime refers to any prime number greater than 2 . similarly , when written in the usual decimal system , all prime numbers larger than 5 end in 1 , 3 , 7 , or 9 , since even numbers are multiples of 2 and numbers ending in 0 or 5 are multiples of 5 .\n",
      "Predicted Answer: hence , 6\n",
      "True Answer: 2\n",
      "--------------------------------------------------\n",
      "Question: what article of the grundgesetz grants the right to make private schools ?\n",
      "Context: the right to create private schools in germany is in article 7 , paragraph 4 of the grundgesetz and cannot be suspended even in a state of emergency . it is also not possible to abolish these rights . this unusual protection of private schools was implemented to protect these schools from a second gleichschaltung or similar event in the future . still , they are less common than in many other countries . overall , between 1992 and 2008 the percent of pupils in such schools in germany increased from 6 . 1 % to 7 . 8 % ( including rise from 0 . 5 % to 6 . 1 % in the former gdr ). percent of students in private high schools reached 11 . 1 %.\n",
      "Predicted Answer: article 7 ,\n",
      "True Answer: 7\n",
      "--------------------------------------------------\n",
      "Question: besides 1 , 3 and 7 , what other number must all primes greater than 5 end with ?\n",
      "Context: hence , 6 is not prime . the image at the right illustrates that 12 is not prime : 12 = 3 · 4 . no even number greater than 2 is prime because by definition , any such number n has at least three distinct divisors , namely 1 , 2 , and n . this implies that n is not prime . accordingly , the term odd prime refers to any prime number greater than 2 . similarly , when written in the usual decimal system , all prime numbers larger than 5 end in 1 , 3 , 7 , or 9 , since even numbers are multiples of 2 and numbers ending in 0 or 5 are multiples of 5 .\n",
      "Predicted Answer: = 3 · 4 . no even number greater than 2 is prime because by definition , any such\n",
      "True Answer: 9\n",
      "--------------------------------------------------\n",
      "Question: what variable is associated with all problems solved within logarithmic space ?\n",
      "Context: similarly , it is not known if l ( the set of all problems that can be solved in logarithmic space ) is strictly contained in p or equal to p . again , there are many complexity classes between the two , such as nl and nc , and it is not known if they are distinct or equal classes .\n",
      "Predicted Answer: \n",
      "True Answer: l\n",
      "--------------------------------------------------\n",
      "Question: what percentage of british children are educated at gsce level in fee - paying schools ?\n",
      "Context: private schools generally prefer to be called independent schools , because of their freedom to operate outside of government and local government control . some of these are also known as public schools . preparatory schools in the uk prepare pupils aged up to 13 years old to enter public schools . the name \" public school \" is based on the fact that the schools were open to pupils from anywhere , and not merely to those from a certain locality , and of any religion or occupation . according to the good schools guide approximately 9 per cent of children being educated in the uk are doing so at fee - paying schools at gsce level and 13 per cent at a - level .[ citation needed ] many independent schools are single - sex ( though this is becoming less common ). fees range from under £ 3 , 000 to £ 21 , 000 and above per year for day pupils , rising to £ 27 , 000 + per year for boarders . for details in scotland , see \" meeting the cost \".\n",
      "Predicted Answer: private schools generally prefer to be called independent schools , because of their freedom to operate outside of government and local government control . some of these are also known as public schools . preparatory schools in the uk\n",
      "True Answer: 9\n",
      "--------------------------------------------------\n",
      "Question: what complexity class is characterized by a computational tasks and efficient algorithms ?\n",
      "Context: the complexity class p is often seen as a mathematical abstraction modeling those computational tasks that admit an efficient algorithm . this hypothesis is called the cobham – edmonds thesis . the complexity class np , on the other hand , contains many problems that people would like to solve efficiently , but for which no efficient algorithm is known , such as the boolean satisfiability problem , the hamiltonian path problem and the vertex cover problem . since deterministic turing machines are special non - deterministic turing machines , it is easily observed that each problem in p is also member of the class np .\n",
      "Predicted Answer: mit an efficient algorithm . this hypothesis\n",
      "True Answer: p\n",
      "--------------------------------------------------\n",
      "Question: how many members in the seats of the scottish parliament are members of the scottish government ?\n",
      "Context: the debating chamber of the scottish parliament has seating arranged in a hemicycle , which reflects the desire to encourage consensus amongst elected members . there are 131 seats in the debating chamber . of the total 131 seats , 129 are occupied by the parliament ' s elected msps and 2 are seats for the scottish law officers – the lord advocate and the solicitor general for scotland , who are not elected members of the parliament but are members of the scottish government . as such the law officers may attend and speak in the plenary meetings of the parliament but , as they are not elected msps , cannot vote . members are able to sit anywhere in the debating chamber , but typically sit in their party groupings . the first minister , scottish cabinet ministers and law officers sit in the front row , in the middle section of the chamber . the largest party in the parliament sits in the middle of the semicircle , with opposing parties on either side . the presiding officer , parliamentary clerks and officials sit opposite members at the front of the debating chamber .\n",
      "Predicted Answer: . there\n",
      "True Answer: 2\n",
      "--------------------------------------------------\n",
      "Question: how many vector equations did heaviside and gibbs reformilate max\n",
      "Context: the origin of electric and magnetic fields would not be fully explained until 1864 when james clerk maxwell unified a number of earlier theories into a set of 20 scalar equations , which were later reformulated into 4 vector equations by oliver heaviside and josiah willard gibbs . these \" maxwell equations \" fully described the sources of the fields as being stationary and moving charges , and the interactions of the fields themselves . this led maxwell to discover that electric and magnetic fields could be \" self - generating \" through a wave that traveled at a speed that he calculated to be the speed of light . this insight united the nascent fields of electromagnetic theory with optics and led directly to a complete description of the electromagnetic spectrum .\n",
      "Predicted Answer: \n",
      "True Answer: 4\n",
      "--------------------------------------------------\n",
      "Question: the integer factorization problem essentially seeks to determine if the value of of an input is\n",
      "Context: the integer factorization problem is the computational problem of determining the prime factorization of a given integer . phrased as a decision problem , it is the problem of deciding whether the input has a factor less than k . no efficient integer factorization algorithm is known , and this fact forms the basis of several modern cryptographic systems , such as the rsa algorithm . the integer factorization problem is in np and in co - np ( and even in up and co - up ). if the problem is np - complete , the polynomial time hierarchy will collapse to its first level ( i . e ., np will equal co - np ). the best known algorithm for integer factorization is the general number field sieve , which takes time o ( e ( 64 / 9 ) 1 / 3 ( n . log 2 ) 1 / 3 ( log ( n . log 2 )) 2 / 3 ) to factor an n - bit integer . however , the best known quantum algorithm for this problem , shor ' s algorithm , does run in polynomial time . unfortunately , this fact doesn ' t say much about where the problem lies with respect to non - quantum complexity classes .\n",
      "Predicted Answer: \n",
      "True Answer: k\n",
      "--------------------------------------------------\n",
      "Question: how many museums are in warsaw ?\n",
      "Context: as interesting examples of expositions the most notable are : the world ' s first museum of posters boasting one of the largest collections of art posters in the world , museum of hunting and riding and the railway museum . from among warsaw ' s 60 museums , the most prestigious ones are national museum with a collection of works whose origin ranges in time from antiquity till the present epoch as well as one of the best collections of paintings in the country including some paintings from adolf hitler ' s private collection , and museum of the polish army whose set portrays the history of arms .\n",
      "Predicted Answer: one of the largest\n",
      "True Answer: 60\n",
      "--------------------------------------------------\n",
      "Question: what light radiation does ozone absorb ?\n",
      "Context: trioxygen ( o 3 ) is usually known as ozone and is a very reactive allotrope of oxygen that is damaging to lung tissue . ozone is produced in the upper atmosphere when o 2 combines with atomic oxygen made by the splitting of o 2 by ultraviolet ( uv ) radiation . since ozone absorbs strongly in the uv region of the spectrum , the ozone layer of the upper atmosphere functions as a protective radiation shield for the planet . near the earth ' s surface , it is a pollutant formed as a by - product of automobile exhaust . the metastable molecule tetraoxygen ( o 4 ) was discovered in 2001 , and was assumed to exist in one of the six phases of solid oxygen . it was proven in 2006 that this phase , created by pressurizing o 2 to 20 gpa , is in fact a rhombohedral o 8 cluster . this cluster has the potential to be a much more powerful oxidizer than either o 2 or o 3 and may therefore be used in rocket fuel . a metallic phase was discovered in 1990 when solid oxygen is subjected to a pressure of above 96 gpa and it was shown in 1998 that at very low temperatures , this phase becomes superconducting .\n",
      "Predicted Answer: 3\n",
      "True Answer: uv\n",
      "--------------------------------------------------\n",
      "Question: what is the number of constituency msps ?\n",
      "Context: of the 129 msps , 73 are elected to represent first past the post constituencies and are known as \" constituency msps \". voters choose one member to represent the constituency , and the member with most votes is returned as a constituency msp . the 73 scottish parliament constituencies shared the same boundaries as the uk parliament constituencies in scotland , prior to the 2005 reduction in the number of scottish mps , with the exception of orkney and shetland which each return their own constituency msp . currently , the average scottish parliament constituency comprises 55 , 000 electors . given the geographical distribution of population in scotland , this results in constituencies of a smaller area in the central lowlands , where the bulk of scotland ' s population live , and much larger constituency areas in the north and west of the country , which have a low population density . the island archipelagos of orkney , shetland and the western isles comprise a much smaller number of electors , due to their dispersed population and distance from the scottish parliament in edinburgh . if a constituency msp resigns from parliament , this triggers a by - election in his or her constituency , where a replacement msp is returned from one of the parties by the plurality system .\n",
      "Predicted Answer: \n",
      "True Answer: 73\n",
      "--------------------------------------------------\n",
      "Question: how many natural reserves are in warsaw ?\n",
      "Context: there are 13 natural reserves in warsaw – among others , bielany forest , kabaty woods , czerniaków lake . about 15 kilometres ( 9 miles ) from warsaw , the vistula river ' s environment changes strikingly and features a perfectly preserved ecosystem , with a habitat of animals that includes the otter , beaver and hundreds of bird species . there are also several lakes in warsaw – mainly the oxbow lakes , like czerniaków lake , the lakes in the łazienki or wilanów parks , kamionek lake . there are lot of small lakes in the parks , but only a few are permanent – the majority are emptied before winter to clean them of plants and sediments .\n",
      "Predicted Answer: warsaw –\n",
      "True Answer: 13\n",
      "--------------------------------------------------\n",
      "Question: how many total judges are there in the eu ?\n",
      "Context: the judicial branch of the eu has played an important role in the development of eu law , by assuming the task of interpreting the treaties , and accelerating economic and political integration . today the court of justice of the european union ( cjeu ) is the main judicial body , within which there is a higher european court of justice ( commonly abbreviated as ecj ) that deals with cases that contain more public importance , and a general court that deals with issues of detail but without general importance . there is also a civil service tribunal to deal with eu staff issues , and then a separate court of auditors . under the treaty on european union article 19 ( 2 ) there is one judge from each member state , 28 at present , who are supposed to \" possess the qualifications required for appointment to the highest judicial offices \" ( or for the general court , the \" ability required for appointment to high judicial office \"). a president is elected by the judges for three years . under teu article 19 ( 3 ) is to be the ultimate court to interpret questions of eu law . in fact , most eu law is applied by member state courts ( the english court of appeal , the german bundesgerichtshof , the belgian cour du travail , etc .) but they can refer questions to the eu court for a preliminary ruling . the cjeu ' s duty is to \" ensure that in the interpretation and application of the treaties the law is observed \", although realistically it\n",
      "Predicted Answer: the judicial branch of the eu has played an important role in\n",
      "True Answer: 28\n",
      "--------------------------------------------------\n",
      "Question: how many examination boards exist in india ?\n",
      "Context: in india , private schools are called independent schools , but since some private schools receive financial aid from the government , it can be an aided or an unaided school . so , in a strict sense , a private school is an unaided independent school . for the purpose of this definition , only receipt of financial aid is considered , not land purchased from the government at a subsidized rate . it is within the power of both the union government and the state governments to govern schools since education appears in the concurrent list of legislative subjects in the constitution . the practice has been for the union government to provide the broad policy directions while the states create their own rules and regulations for the administration of the sector . among other things , this has also resulted in 30 different examination boards or academic authorities that conduct examinations for school leaving certificates . prominent examination boards that are present in multiple states are the cbse and the cisce , nenbse\n",
      "Predicted Answer: ,\n",
      "True Answer: 30\n",
      "--------------------------------------------------\n",
      "Question: what is the scientific designation of oxygen ?\n",
      "Context: the common allotrope of elemental oxygen on earth is called dioxygen , o 2 . it is the form that is a major part of the earth ' s atmosphere ( see occurrence ). o2 has a bond length of 121 pm and a bond energy of 498 kj · mol − 1 , which is smaller than the energy of other double bonds or pairs of single bonds in the biosphere and responsible for the exothermic reaction of o2 with any organic molecule . due to its energy content , o2 is used by complex forms of life , such as animals , in cellular respiration ( see biological role ). other aspects of o 2 are covered in the remainder of this article .\n",
      "Predicted Answer: the common allotrope of elemental oxygen on earth is called dioxygen , o\n",
      "True Answer: o2\n",
      "--------------------------------------------------\n",
      "Question: what was dalton ' s erroneous formula for water ?\n",
      "Context: john dalton ' s original atomic hypothesis assumed that all elements were monatomic and that the atoms in compounds would normally have the simplest atomic ratios with respect to one another . for example , dalton assumed that water ' s formula was ho , giving the atomic mass of oxygen as 8 times that of hydrogen , instead of the modern value of about 16 . in 1805 , joseph louis gay - lussac and alexander von humboldt showed that water is formed of two volumes of hydrogen and one volume of oxygen ; and by 1811 amedeo avogadro had arrived at the correct interpretation of water ' s composition , based on what is now called avogadro ' s law and the assumption of diatomic elemental molecules .[ a ]\n",
      "Predicted Answer: atomic hypo\n",
      "True Answer: ho\n",
      "--------------------------------------------------\n",
      "Question: which country is a traditional ally of israel ?\n",
      "Context: the embargo was not uniform across europe . of the nine members of the european economic community ( eec ), the netherlands faced a complete embargo , the uk and france received almost uninterrupted supplies ( having refused to allow america to use their airfields and embargoed arms and supplies to both the arabs and the israelis ), while the other six faced partial cutbacks . the uk had traditionally been an ally of israel , and harold wilson ' s government supported the israelis during the six - day war . his successor , ted heath , reversed this policy in 1970 , calling for israel to withdraw to its pre - 1967 borders .\n",
      "Predicted Answer: the embargo was not uniform across europe . of the nine members of the european economic community ( eec ), the netherlands faced a complete\n",
      "True Answer: uk\n",
      "--------------------------------------------------\n",
      "Question: which country is not badly hit by the embargo ?\n",
      "Context: despite being relatively unaffected by the embargo , the uk nonetheless faced an oil crisis of its own - a series of strikes by coal miners and railroad workers over the winter of 1973 – 74 became a major factor in the change of government . heath asked the british to heat only one room in their houses over the winter . the uk , germany , italy , switzerland and norway banned flying , driving and boating on sundays . sweden rationed gasoline and heating oil . the netherlands imposed prison sentences for those who used more than their ration of electricity .\n",
      "Predicted Answer: \n",
      "True Answer: uk\n",
      "--------------------------------------------------\n",
      "Question: how many members are on the warsaw city counil ?\n",
      "Context: legislative power in warsaw is vested in a unicameral warsaw city council ( rada miasta ), which comprises 60 members . council members are elected directly every four years . like most legislative bodies , the city council divides itself into committees which have the oversight of various functions of the city government . bills passed by a simple majority are sent to the mayor ( the president of warsaw ), who may sign them into law . if the mayor vetoes a bill , the council has 30 days to override the veto by a two - thirds majority vote .\n",
      "Predicted Answer: is\n",
      "True Answer: 60\n",
      "--------------------------------------------------\n",
      "Question: how many seats does victoria have in the senate ?\n",
      "Context: politically , victoria has 37 seats in the australian house of representatives and 12 seats in the australian senate . at state level , the parliament of victoria consists of the legislative assembly ( the lower house ) and the legislative council ( the upper house ). victoria is currently governed by the labor party , with daniel andrews the current premier . the personal representative of the queen of australia in the state is the governor of victoria , currently linda dessau . local government is concentrated in 79 municipal districts , including 33 cities , although a number of unincorporated areas still exist , which are administered directly by the state .\n",
      "Predicted Answer: has\n",
      "True Answer: 12\n",
      "--------------------------------------------------\n",
      "Question: how old was toghun temur when he became emperor ?\n",
      "Context: after the death of tugh temür in 1332 and subsequent death of rinchinbal ( emperor ningzong ) the same year , the 13 - year - old toghun temür ( emperor huizong ), the last of the nine successors of kublai khan , was summoned back from guangxi and succeeded to the throne . after el temür ' s death , bayan became as powerful an official as el temür had been in the beginning of his long reign . as toghun temür grew , he came to disapprove of bayan ' s autocratic rule . in 1340 he allied himself with bayan ' s nephew toqto ' a , who was in discord with bayan , and banished bayan by coup . with the dismissal of bayan , toghtogha seized the power of the court . his first administration clearly exhibited fresh new spirit . he also gave a few early signs of a new and positive direction in central government . one of his successful projects was to finish the long - stalled official histories of the liao , jin , and song dynasties , which were eventually completed in 1345 . yet , toghtogha resigned his office with the approval of toghun temür , marking the end of his first administration , and he was not called back until 1349 .\n",
      "Predicted Answer: \n",
      "True Answer: 13\n",
      "--------------------------------------------------\n",
      "Question: what is the weight of a bushel of coal in pounds ?\n",
      "Context: the historical measure of a steam engine ' s energy efficiency was its \" duty \". the concept of duty was first introduced by watt in order to illustrate how much more efficient his engines were over the earlier newcomen designs . duty is the number of foot - pounds of work delivered by burning one bushel ( 94 pounds ) of coal . the best examples of newcomen designs had a duty of about 7 million , but most were closer to 5 million . watt ' s original low - pressure designs were able to deliver duty as high as 25 million , but averaged about 17 . this was a three - fold improvement over the average newcomen design . early watt engines equipped with high - pressure steam improved this to 65 million .\n",
      "Predicted Answer: the historical measure of a steam engine ' s energy efficiency was its \" duty \". the concept of duty was first introduced by watt in order to illustrate how much more efficient his engines were over the\n",
      "True Answer: 94\n",
      "--------------------------------------------------\n",
      "Question: how many megaregions are there in the united states ?\n",
      "Context: the 8 - and 10 - county definitions are not used for the greater southern california megaregion , one of the 11 megaregions of the united states . the megaregion ' s area is more expansive , extending east into las vegas , nevada , and south across the mexican border into tijuana .\n",
      "Predicted Answer: the united\n",
      "True Answer: 11\n",
      "--------------------------------------------------\n",
      "Question: can bskyb veto the presence of channels on their epg ?\n",
      "Context: bskyb has no veto over the presence of channels on their epg , with open access being an enforced part of their operating licence from ofcom . any channel which can get carriage on a suitable beam of a satellite at 28 ° east is entitled to access to bskyb ' s epg for a fee , ranging from £ 15 – 100 , 000 . third - party channels which opt for encryption receive discounts ranging from reduced price to free epg entries , free carriage on a bskyb leased transponder , or actual payment for being carried . however , even in this case , bskyb does not carry any control over the channel ' s content or carriage issues such as picture quality .\n",
      "Predicted Answer: bskyb has no veto over the presence of channels on their epg , with open access being an enforced part of their operating licence from ofcom . any\n",
      "True Answer: no\n",
      "--------------------------------------------------\n",
      "Question: how many rooms does the warsaw historical museum have ?\n",
      "Context: a fine tribute to the fall of warsaw and history of poland can be found in the warsaw uprising museum and in the katyń museum which preserves the memory of the crime . the warsaw uprising museum also operates a rare preserved and operating historic stereoscopic theatre , the warsaw fotoplastikon . the museum of independence preserves patriotic and political objects connected with poland ' s struggles for independence . dating back to 1936 warsaw historical museum contains 60 rooms which host a permanent exhibition of the history of warsaw from its origins until today .\n",
      "Predicted Answer: the katy\n",
      "True Answer: 60\n",
      "--------------------------------------------------\n",
      "Question: how much capital did uk law require to start a company ?\n",
      "Context: in regard to companies , the court of justice held in r ( daily mail and general trust plc ) v hm treasury that member states could restrict a company moving its seat of business , without infringing tfeu article 49 . this meant the daily mail newspaper ' s parent company could not evade tax by shifting its residence to the netherlands without first settling its tax bills in the uk . the uk did not need to justify its action , as rules on company seats were not yet harmonised . by contrast , in centros ltd v erhversus - og selkabssyrelsen the court of justice found that a uk limited company operating in denmark could not be required to comply with denmark ' s minimum share capital rules . uk law only required £ 1 of capital to start a company , while denmark ' s legislature took the view companies should only be started up if they had 200 , 000 danish krone ( around € 27 , 000 ) to protect creditors if the company failed and went insolvent . the court of justice held that denmark ' s minimum capital law infringed centros ltd ' s freedom of establishment and could not be justified , because a company in the uk could admittedly provide services in denmark without being established there , and there were less restrictive means of achieving the aim of creditor protection . this approach was criticised as potentially opening the eu to unjustified regulatory competition , and a race to the\n",
      "Predicted Answer: in regard to companies , the court of justice held in r\n",
      "True Answer: £ 1\n",
      "--------------------------------------------------\n",
      "Question: how many avulsions have occurred in the past 6000 yeas ?\n",
      "Context: since ~ 3000 yr bp (= years before present ), human impact is seen in the delta . as a result of increasing land clearance ( bronze age agriculture ), in the upland areas ( central germany ), the sediment load of the rhine has strongly increased and delta growth has sped up . this caused increased flooding and sedimentation , ending peat formation in the delta . the shifting of river channels to new locations , on the floodplain ( termed avulsion ), was the main process distributing sediment across the subrecent delta . over the past 6000 years , approximately 80 avulsions have occurred . direct human impact in the delta started with peat mining , for salt and fuel , from roman times onward . this was followed by embankment , of the major distributaries and damming of minor distributaries , which took place in the 11 – 13th century ad . thereafter , canals were dug , bends were short cut and groynes were built , to prevent the river ' s channels from migrating or silting up .\n",
      "Predicted Answer: ~ 3\n",
      "True Answer: 80\n",
      "--------------------------------------------------\n",
      "Question: what is the high end of the temperature range in winter ?\n",
      "Context: southern california contains a mediterranean climate , with infrequent rain and many sunny days . summers are hot and dry , while winters are a bit warm or mild and wet . serious rain can occur unusually . in the summers , temperature ranges are 90 - 60 ' s while as winters are 70 - 50 ' s , usually all of southern california have mediterranean climate . but snow is very rare in the southwest of the state , it occurs on the southeast of the state .\n",
      "Predicted Answer: southern california contains a mediterranean climate , with infrequent rain and many sunny days . summers are hot and dry , while winters\n",
      "True Answer: 70\n",
      "--------------------------------------------------\n",
      "Question: what was the average duty of a low - pressure watt engine ?\n",
      "Context: the historical measure of a steam engine ' s energy efficiency was its \" duty \". the concept of duty was first introduced by watt in order to illustrate how much more efficient his engines were over the earlier newcomen designs . duty is the number of foot - pounds of work delivered by burning one bushel ( 94 pounds ) of coal . the best examples of newcomen designs had a duty of about 7 million , but most were closer to 5 million . watt ' s original low - pressure designs were able to deliver duty as high as 25 million , but averaged about 17 . this was a three - fold improvement over the average newcomen design . early watt engines equipped with high - pressure steam improved this to 65 million .\n",
      "Predicted Answer: the\n",
      "True Answer: 17\n",
      "--------------------------------------------------\n",
      "Question: how many city officials were indicted due to corruption ?\n",
      "Context: in the mid - 1960s , corruption scandals began to arise among many of the city ' s officials , who were mainly elected through the traditional old boy network . after a grand jury was convened to investigate , 11 officials were indicted and more were forced to resign . jacksonville consolidation , led by j . j . daniel and claude yates , began to win more support during this period , from both inner city blacks , who wanted more involvement in government , and whites in the suburbs , who wanted more services and more control over the central city . in 1964 all 15 of duval county ' s public high schools lost their accreditation . this added momentum to proposals for government reform . lower taxes , increased economic development , unification of the community , better public spending and effective administration by a more central authority were all cited as reasons for a new consolidated government .\n",
      "Predicted Answer: the mid - 1960s\n",
      "True Answer: 11\n",
      "--------------------------------------------------\n",
      "Question: how many medieval warm period reconstructions were used ?\n",
      "Context: the ipcc fourth assessment report ( ar4 ) published in 2007 featured a graph showing 12 proxy based temperature reconstructions , including the three highlighted in the 2001 third assessment report ( tar ); mann , bradley & hughes 1999 as before , jones et al . 1998 and briffa 2000 had both been calibrated by newer studies . in addition , analysis of the medieval warm period cited reconstructions by crowley & lowery 2000 ( as cited in the tar ) and osborn & briffa 2006 . ten of these 14 reconstructions covered 1 , 000 years or longer . most reconstructions shared some data series , particularly tree ring data , but newer reconstructions used additional data and covered a wider area , using a variety of statistical methods . the section discussed the divergence problem affecting certain tree ring data .\n",
      "Predicted Answer: \n",
      "True Answer: 14\n",
      "--------------------------------------------------\n",
      "Question: what type of electric current is needed for electrolysis ?\n",
      "Context: oxygen gas can also be produced through electrolysis of water into molecular oxygen and hydrogen . dc electricity must be used : if ac is used , the gases in each limb consist of hydrogen and oxygen in the explosive ratio 2 : 1 . contrary to popular belief , the 2 : 1 ratio observed in the dc electrolysis of acidified water does not prove that the empirical formula of water is h2o unless certain assumptions are made about the molecular formulae of hydrogen and oxygen themselves . a similar method is the electrocatalytic o 2 evolution from oxides and oxoacids . chemical catalysts can be used as well , such as in chemical oxygen generators or oxygen candles that are used as part of the life - support equipment on submarines , and are still part of standard equipment on commercial airliners in case of depressurization emergencies . another air separation technology involves forcing air to dissolve through ceramic membranes based on zirconium dioxide by either high pressure or an electric current , to produce nearly pure o 2 gas .\n",
      "Predicted Answer: oxygen gas can also be produced through electrolysis of water into molecular oxygen and hydrogen . dc electricity\n",
      "True Answer: dc\n",
      "--------------------------------------------------\n",
      "Question: what percentage of france ' s population is protestant today ?\n",
      "Context: approximately one million protestants in modern france represent some 2 % of its population . most are concentrated in alsace in northeast france and the cévennes mountain region in the south , who still regard themselves as huguenots to this day .[ citation needed ] a diaspora of french australians still considers itself huguenot , even after centuries of exile . long integrated into australian society , it is encouraged by the huguenot society of australia to embrace and conserve its cultural heritage , aided by the society ' s genealogical research services .\n",
      "Predicted Answer: represent some\n",
      "True Answer: 2 %\n",
      "--------------------------------------------------\n",
      "Question: how many campuses does the california state university have ?\n",
      "Context: the tech coast is a moniker that has gained use as a descriptor for the region ' s diversified technology and industrial base as well as its multitude of prestigious and world - renowned research universities and other public and private institutions . amongst these include 5 university of california campuses ( irvine , los angeles , riverside , santa barbara , and san diego ); 12 california state university campuses ( bakersfield , channel islands , dominguez hills , fullerton , los angeles , long beach , northridge , pomona , san bernardino , san diego , san marcos , and san luis obispo ); and private institutions such as the california institute of technology , chapman university , the claremont colleges ( claremont mckenna college , harvey mudd college , pitzer college , pomona college , and scripps college ), loma linda university , loyola marymount university , occidental college , pepperdine university , university of redlands , university of san diego , and the university of southern california .\n",
      "Predicted Answer: the tech coast is a moniker that has gained use as a descriptor for the region ' s diversified technology and industrial base as well as its multitude of prestigious and world - renowned research universities and other public and private institutions . amongst these include 5 university of california campuses ( irvine , los angeles , riverside , santa barbara , and san diego ); 12 california state university campuses\n",
      "True Answer: 12\n",
      "--------------------------------------------------\n",
      "Question: how many general principles does the social charter declare ?\n",
      "Context: the social chapter is a chapter of the 1997 treaty of amsterdam covering social policy issues in european union law . the basis for the social chapter was developed in 1989 by the \" social partners \" representatives , namely unice , the employers ' confederation , the european trade union confederation ( etuc ) and ceep , the european centre of public enterprises . a toned down version was adopted as the social charter at the 1989 strasbourg european council . the social charter declares 30 general principles , including on fair remuneration of employment , health and safety at work , rights of disabled and elderly , the rights of workers , on vocational training and improvements of living conditions . the social charter became the basis for european community legislation on these issues in 40 pieces of legislation .\n",
      "Predicted Answer: of the 1997 treaty\n",
      "True Answer: 30\n",
      "--------------------------------------------------\n",
      "Question: how many academic majors does the university grant in total ?\n",
      "Context: the college of the university of chicago grants bachelor of arts and bachelor of science degrees in 50 academic majors and 28 minors . the college ' s academics are divided into five divisions : the biological sciences collegiate division , the physical sciences collegiate division , the social sciences collegiate division , the humanities collegiate division , and the new collegiate division . the first four are sections within their corresponding graduate divisions , while the new collegiate division administers interdisciplinary majors and studies which do not fit in one of the other four divisions .\n",
      "Predicted Answer: \n",
      "True Answer: 50\n",
      "--------------------------------------------------\n",
      "Question: how many academic minors does the university grant in total ?\n",
      "Context: the college of the university of chicago grants bachelor of arts and bachelor of science degrees in 50 academic majors and 28 minors . the college ' s academics are divided into five divisions : the biological sciences collegiate division , the physical sciences collegiate division , the social sciences collegiate division , the humanities collegiate division , and the new collegiate division . the first four are sections within their corresponding graduate divisions , while the new collegiate division administers interdisciplinary majors and studies which do not fit in one of the other four divisions .\n",
      "Predicted Answer: \n",
      "True Answer: 28\n",
      "--------------------------------------------------\n",
      "Question: how many people belong to the university ' s board of trustees ?\n",
      "Context: the university of chicago is governed by a board of trustees . the board of trustees oversees the long - term development and plans of the university and manages fundraising efforts , and is composed of 50 members including the university president . directly beneath the president are the provost , fourteen vice presidents ( including the chief financial officer , chief investment officer , and dean of students of the university ), the directors of argonne national laboratory and fermilab , the secretary of the university , and the student ombudsperson . as of august 2009 [ update ], the chairman of the board of trustees is andrew alper , and the president of the university is robert zimmer . in december 2013 it was announced that the director of argonne national laboratory , eric isaacs , would become provost . isaacs was replaced as provost in march 2016 by daniel diermeier .\n",
      "Predicted Answer: the university of chicago is governed by a board of trustees . the board of trustees\n",
      "True Answer: 50\n",
      "--------------------------------------------------\n",
      "Question: does the new deal include video on demand and high definition ?\n",
      "Context: the agreements include fixed annual carriage fees of £ 30m for the channels with both channel suppliers able to secure additional capped payments if their channels meet certain performance - related targets . currently there is no indication as to whether the new deal includes the additional video on demand and high definition content which had previously been offered by bskyb . as part of the agreements , both bskyb and virgin media agreed to terminate all high court proceedings against each other relating to the carriage of their respective basic channels .\n",
      "Predicted Answer: of\n",
      "True Answer: no\n",
      "--------------------------------------------------\n",
      "Question: how many private schools existed in new zealand in april 2014 ?\n",
      "Context: as of april 2014 , there are 88 private schools in new zealand , catering for around 28 , 000 students or 3 . 7 % of the entire student population . private school numbers have been in decline since the mid - 1970s as a result of many private schools opting to become state - integrated schools , mostly due of financial difficulties stemming from changes in student numbers and / or the economy . state - integrated schools keep their private school special character and receives state funds in return for having to operate like a state school , e . g . they must teach the state curriculum , they must employ registered teachers , and they can ' t charge tuition fees ( they can charge \" attendance dues \" for the upkeep on the still - private school land and buildings ). the largest decline in private school numbers occurred between 1979 and 1984 , when the nation ' s then - private catholic school system integrated . as a result , private schools in new zealand are now largely restricted to the largest cities ( auckland , hamilton , wellington and christchurch ) and niche markets .\n",
      "Predicted Answer: as of april\n",
      "True Answer: 88\n",
      "--------------------------------------------------\n",
      "Question: how many research institutes does the university run on campus ?\n",
      "Context: the university operates 12 research institutes and 113 research centers on campus . among these are the oriental institute — a museum and research center for near eastern studies owned and operated by the university — and a number of national resource centers , including the center for middle eastern studies . chicago also operates or is affiliated with a number of research institutions apart from the university proper . the university partially manages argonne national laboratory , part of the united states department of energy ' s national laboratory system , and has a joint stake in fermilab , a nearby particle physics laboratory , as well as a stake in the apache point observatory in sunspot , new mexico . faculty and students at the adjacent toyota technological institute at chicago collaborate with the university , in 2013 , the university announced that it was affiliating the formerly independent marine biological laboratory in woods hole , mass . although formally unrelated , the national opinion research center is located on chicago ' s campus .\n",
      "Predicted Answer: research\n",
      "True Answer: 12\n",
      "--------------------------------------------------\n",
      "Question: how many drugs approved by the fda in 2013 were specialty drugs ?\n",
      "Context: specialty pharmacies supply high cost injectable , oral , infused , or inhaled medications that are used for chronic and complex disease states such as cancer , hepatitis , and rheumatoid arthritis . unlike a traditional community pharmacy where prescriptions for any common medication can be brought in and filled , specialty pharmacies carry novel medications that need to be properly stored , administered , carefully monitored , and clinically managed . in addition to supplying these drugs , specialty pharmacies also provide lab monitoring , adherence counseling , and assist patients with cost - containment strategies needed to obtain their expensive specialty drugs . it is currently the fastest growing sector of the pharmaceutical industry with 19 of 28 newly fda approved medications in 2013 being specialty drugs .\n",
      "Predicted Answer: as cancer , hepatitis , and\n",
      "True Answer: 19\n",
      "--------------------------------------------------\n",
      "Question: what percentage of private school students go to catholic schools ?\n",
      "Context: as of august 2010 , victoria had 1 , 548 public schools , 489 catholic schools and 214 independent schools . just under 540 , 800 students were enrolled in public schools , and just over 311 , 800 in private schools . over 61 per cent of private students attend catholic schools . more than 462 , 000 students were enrolled in primary schools and more than 390 , 000 in secondary schools . retention rates for the final two years of secondary school were 77 per cent for public school students and 90 per cent for private school students . victoria has about 63 , 519 full - time teachers .\n",
      "Predicted Answer: as of august 2010 , victoria had 1 , 548 public schools , 489 catholic schools and 214 independent schools . just under 540\n",
      "True Answer: 61\n",
      "--------------------------------------------------\n",
      "Question: how many scalar equations were formed into a set by james maxwell ?\n",
      "Context: the origin of electric and magnetic fields would not be fully explained until 1864 when james clerk maxwell unified a number of earlier theories into a set of 20 scalar equations , which were later reformulated into 4 vector equations by oliver heaviside and josiah willard gibbs . these \" maxwell equations \" fully described the sources of the fields as being stationary and moving charges , and the interactions of the fields themselves . this led maxwell to discover that electric and magnetic fields could be \" self - generating \" through a wave that traveled at a speed that he calculated to be the speed of light . this insight united the nascent fields of electromagnetic theory with optics and led directly to a complete description of the electromagnetic spectrum .\n",
      "Predicted Answer: scal\n",
      "True Answer: 20\n",
      "--------------------------------------------------\n",
      "Question: how many floors are there in the building that was completed in 1967 ?\n",
      "Context: the tallest building in downtown jacksonville ' s skyline is the bank of america tower , constructed in 1990 as the barnett center . it has a height of 617 ft ( 188 m ) and includes 42 floors . other notable structures include the 37 - story wells fargo center ( with its distinctive flared base making it the defining building in the jacksonville skyline ), originally built in 1972 - 74 by the independent life and accident insurance company , and the 28 floor riverplace tower which , when completed in 1967 , was the tallest precast , post - tensioned concrete structure in the world .\n",
      "Predicted Answer: \n",
      "True Answer: 28\n",
      "--------------------------------------------------\n",
      "Question: what percentage of electricity was made by steam turbine in the 1990s ?\n",
      "Context: the main use for steam turbines is in electricity generation ( in the 1990s about 90 % of the world ' s electric production was by use of steam turbines ) however the recent widespread application of large gas turbine units and typical combined cycle power plants has resulted in reduction of this percentage to the 80 % regime for steam turbines . in electricity production , the high speed of turbine rotation matches well with the speed of modern electric generators , which are typically direct connected to their driving turbines . in marine service , ( pioneered on the turbinia ), steam turbines with reduction gearing ( although the turbinia has direct turbines to propellers with no reduction gearbox ) dominated large ship propulsion throughout the late 20th century , being more efficient ( and requiring far less maintenance ) than reciprocating steam engines . in recent decades , reciprocating diesel engines , and gas turbines , have almost entirely supplanted steam propulsion for marine applications .\n",
      "Predicted Answer: electricity generation\n",
      "True Answer: 90\n",
      "--------------------------------------------------\n",
      "Question: how many degrees south did the amazon rainforest reach from 66 - 34 mya ?\n",
      "Context: following the cretaceous – paleogene extinction event , the extinction of the dinosaurs and the wetter climate may have allowed the tropical rainforest to spread out across the continent . from 66 – 34 mya , the rainforest extended as far south as 45 °. climate fluctuations during the last 34 million years have allowed savanna regions to expand into the tropics . during the oligocene , for example , the rainforest spanned a relatively narrow band . it expanded again during the middle miocene , then retracted to a mostly inland formation at the last glacial maximum . however , the rainforest still managed to thrive during these glacial periods , allowing for the survival and evolution of a broad diversity of species .\n",
      "Predicted Answer: \n",
      "True Answer: 45\n",
      "--------------------------------------------------\n",
      "Question: how many provinces did the ottoman empire contain in the 17th century ?\n",
      "Context: the ottoman empire was an imperial state that lasted from 1299 to 1923 . during the 16th and 17th centuries , in particular at the height of its power under the reign of suleiman the magnificent , the ottoman empire was a powerful multinational , multilingual empire controlling much of southeast europe , western asia , the caucasus , north africa , and the horn of africa . at the beginning of the 17th century the empire contained 32 provinces and numerous vassal states . some of these were later absorbed into the empire , while others were granted various types of autonomy during the course of centuries .\n",
      "Predicted Answer: \n",
      "True Answer: 32\n",
      "--------------------------------------------------\n",
      "Question: how many intercollegiate sports does harvard compete in ncaa division i\n",
      "Context: the harvard crimson competes in 42 intercollegiate sports in the ncaa division i ivy league . harvard has an intense athletic rivalry with yale university culminating in the game , although the harvard – yale regatta predates the football game . this rivalry , though , is put aside every two years when the harvard and yale track and field teams come together to compete against a combined oxford university and cambridge university team , a competition that is the oldest continuous international amateur competition in the world .\n",
      "Predicted Answer: \n",
      "True Answer: 42\n",
      "--------------------------------------------------\n",
      "Question: at a - level , what percentage of british students attend fee - paying schools ?\n",
      "Context: private schools generally prefer to be called independent schools , because of their freedom to operate outside of government and local government control . some of these are also known as public schools . preparatory schools in the uk prepare pupils aged up to 13 years old to enter public schools . the name \" public school \" is based on the fact that the schools were open to pupils from anywhere , and not merely to those from a certain locality , and of any religion or occupation . according to the good schools guide approximately 9 per cent of children being educated in the uk are doing so at fee - paying schools at gsce level and 13 per cent at a - level .[ citation needed ] many independent schools are single - sex ( though this is becoming less common ). fees range from under £ 3 , 000 to £ 21 , 000 and above per year for day pupils , rising to £ 27 , 000 + per year for boarders . for details in scotland , see \" meeting the cost \".\n",
      "Predicted Answer: private schools generally prefer to be called independent schools , because of their freedom to operate outside of government and local government control . some of these are also known as public schools .\n",
      "True Answer: 13\n",
      "--------------------------------------------------\n",
      "Question: how many miles south of san jose is the north - south midway point located ?\n",
      "Context: \" southern california \" is not a formal geographic designation , and definitions of what constitutes southern california vary . geographically , california ' s north - south midway point lies at exactly 37 ° 9 ' 58 . 23 \" latitude , around 11 miles ( 18 km ) south of san jose ; however , this does not coincide with popular use of the term . when the state is divided into two areas ( northern and southern california ), the term \" southern california \" usually refers to the ten southern - most counties of the state . this definition coincides neatly with the county lines at 35 ° 47 ′ 28 ″ north latitude , which form the northern borders of san luis obispo , kern , and san bernardino counties . another definition for southern california uses point conception and the tehachapi mountains as the northern boundary .\n",
      "Predicted Answer: , california\n",
      "True Answer: 11\n",
      "--------------------------------------------------\n",
      "Question: how many pieces of legislation has the social charter become the basis for ?\n",
      "Context: the social chapter is a chapter of the 1997 treaty of amsterdam covering social policy issues in european union law . the basis for the social chapter was developed in 1989 by the \" social partners \" representatives , namely unice , the employers ' confederation , the european trade union confederation ( etuc ) and ceep , the european centre of public enterprises . a toned down version was adopted as the social charter at the 1989 strasbourg european council . the social charter declares 30 general principles , including on fair remuneration of employment , health and safety at work , rights of disabled and elderly , the rights of workers , on vocational training and improvements of living conditions . the social charter became the basis for european community legislation on these issues in 40 pieces of legislation .\n",
      "Predicted Answer: of the 1997 treaty\n",
      "True Answer: 40\n",
      "--------------------------------------------------\n",
      "Question: which state route has been in discussion to upgrade to interstate standards ?\n",
      "Context: fresno is the largest u . s . city not directly linked to an interstate highway . when the interstate highway system was created in the 1950s , the decision was made to build what is now interstate 5 on the west side of the central valley , and thus bypass many of the population centers in the region , instead of upgrading what is now state route 99 . due to rapidly raising population and traffic in cities along sr 99 , as well as the desirability of federal funding , much discussion has been made to upgrade it to interstate standards and eventually incorporate it into the interstate system , most likely as interstate 9 . major improvements to signage , lane width , median separation , vertical clearance , and other concerns are currently underway .\n",
      "Predicted Answer: fresno is the largest u . s . city not directly linked to an interstate highway . when the interstate highway system was created in the 1950s , the decision was made to build what is now interstate 5\n",
      "True Answer: 99\n",
      "--------------------------------------------------\n",
      "Question: up to what age do students in the united kingdom attend preparatory schools ?\n",
      "Context: private schools generally prefer to be called independent schools , because of their freedom to operate outside of government and local government control . some of these are also known as public schools . preparatory schools in the uk prepare pupils aged up to 13 years old to enter public schools . the name \" public school \" is based on the fact that the schools were open to pupils from anywhere , and not merely to those from a certain locality , and of any religion or occupation . according to the good schools guide approximately 9 per cent of children being educated in the uk are doing so at fee - paying schools at gsce level and 13 per cent at a - level .[ citation needed ] many independent schools are single - sex ( though this is becoming less common ). fees range from under £ 3 , 000 to £ 21 , 000 and above per year for day pupils , rising to £ 27 , 000 + per year for boarders . for details in scotland , see \" meeting the cost \".\n",
      "Predicted Answer: private schools generally prefer to be called independent schools , because of their freedom to operate outside of government and local government control . some of these are also known as public schools . preparatory schools in the uk prepare pupils aged up to 13 years old to enter public schools . the name \" public school \" is based on the fact that the schools were open to pupils from anywhere , and not merely to those from a certain locality ,\n",
      "True Answer: 13\n",
      "--------------------------------------------------\n",
      "Question: how many seats does victoria have in the australian house of representatives ?\n",
      "Context: politically , victoria has 37 seats in the australian house of representatives and 12 seats in the australian senate . at state level , the parliament of victoria consists of the legislative assembly ( the lower house ) and the legislative council ( the upper house ). victoria is currently governed by the labor party , with daniel andrews the current premier . the personal representative of the queen of australia in the state is the governor of victoria , currently linda dessau . local government is concentrated in 79 municipal districts , including 33 cities , although a number of unincorporated areas still exist , which are administered directly by the state .\n",
      "Predicted Answer: has\n",
      "True Answer: 37\n",
      "--------------------------------------------------\n",
      "Question: what was the percentage of people that voted in favor of the pico act of 1859 ?\n",
      "Context: subsequently , californios ( dissatisfied with inequitable taxes and land laws ) and pro - slavery southerners in the lightly populated \" cow counties \" of southern california attempted three times in the 1850s to achieve a separate statehood or territorial status separate from northern california . the last attempt , the pico act of 1859 , was passed by the california state legislature and signed by the state governor john b . weller . it was approved overwhelmingly by nearly 75 % of voters in the proposed territory of colorado . this territory was to include all the counties up to the then much larger tulare county ( that included what is now kings , most of kern , and part of inyo counties ) and san luis obispo county . the proposal was sent to washington , d . c . with a strong advocate in senator milton latham . however , the secession crisis following the election of abraham lincoln in 1860 led to the proposal never coming to a vote .\n",
      "Predicted Answer: subsequently , californios ( dissatisfied with inequitable taxes and land laws ) and pro - slavery southerners in the lightly populated \" cow counties \" of southern california attempted three times in the\n",
      "True Answer: 75\n",
      "--------------------------------------------------\n",
      "Question: what percentage of filipino tertiary education takes place in private schools ?\n",
      "Context: in the philippines , the private sector has been a major provider of educational services , accounting for about 7 . 5 % of primary enrollment , 32 % of secondary enrollment and about 80 % of tertiary enrollment . private schools have proven to be efficient in resource utilization . per unit costs in private schools are generally lower when compared to public schools . this situation is more evident at the tertiary level . government regulations have given private education more flexibility and autonomy in recent years , notably by lifting the moratorium on applications for new courses , new schools and conversions , by liberalizing tuition fee policy for private schools , by replacing values education for third and fourth years with english , mathematics and natural science at the option of the school , and by issuing the revised manual of regulations for private schools in august 1992 .\n",
      "Predicted Answer: , the\n",
      "True Answer: 80\n",
      "--------------------------------------------------\n",
      "Question: as of 2008 , about what percentage of swedish students attended private schools ?\n",
      "Context: in sweden , pupils are free to choose a private school and the private school gets paid the same amount as municipal schools . over 10 % of swedish pupils were enrolled in private schools in 2008 . sweden is internationally known for this innovative school voucher model that provides swedish pupils with the opportunity to choose the school they prefer . for instance , the biggest school chain , kunskapsskolan (“ the knowledge school ”), offers 30 schools and a web - based environment , has 700 employees and teaches nearly 10 , 000 pupils . the swedish system has been recommended to barack obama .\n",
      "Predicted Answer: sweden , pupils are free to choose a private school and the private school gets paid the same amount as municipal schools . over 10 % of swedish pupils were enrolled in private schools\n",
      "True Answer: 10\n",
      "--------------------------------------------------\n",
      "Question: what is the expression used to represent a complexity class of counting problems ?\n",
      "Context: other important complexity classes include bpp , zpp and rp , which are defined using probabilistic turing machines ; ac and nc , which are defined using boolean circuits ; and bqp and qma , which are defined using quantum turing machines .  #p is an important complexity class of counting problems ( not decision problems ). classes like ip and am are defined using interactive proof systems . all is the class of all decision problems .\n",
      "Predicted Answer: \n",
      "True Answer:  #p\n",
      "--------------------------------------------------\n",
      "Question: at what degree are the pistons of a two - cylinder compound connected to the c\n",
      "Context: with two - cylinder compounds used in railway work , the pistons are connected to the cranks as with a two - cylinder simple at 90 ° out of phase with each other ( quartered ). when the double expansion group is duplicated , producing a 4 - cylinder compound , the individual pistons within the group are usually balanced at 180 °, the groups being set at 90 ° to each other . in one case ( the first type of vauclain compound ), the pistons worked in the same phase driving a common crosshead and crank , again set at 90 ° as for a two - cylinder engine . with the 3 - cylinder compound arrangement , the lp cranks were either set at 90 ° with the hp one at 135 ° to the other two , or in some cases all three cranks were set at 120 °.[ citation needed ]\n",
      "Predicted Answer: as with a two - cylinder simple at 90 ° out\n",
      "True Answer: 90\n",
      "--------------------------------------------------\n",
      "Question: what percentage of electrical power in the united states is made by steam turbines ?\n",
      "Context: the final major evolution of the steam engine design was the use of steam turbines starting in the late part of the 19th century . steam turbines are generally more efficient than reciprocating piston type steam engines ( for outputs above several hundred horsepower ), have fewer moving parts , and provide rotary power directly instead of through a connecting rod system or similar means . steam turbines virtually replaced reciprocating engines in electricity generating stations early in the 20th century , where their efficiency , higher speed appropriate to generator service , and smooth rotation were advantages . today most electric power is provided by steam turbines . in the united states 90 % of the electric power is produced in this way using a variety of heat sources . steam turbines were extensively applied for propulsion of large ships throughout most of the 20th century .\n",
      "Predicted Answer: ines are\n",
      "True Answer: 90\n",
      "--------------------------------------------------\n",
      "Question: how many developed countries did british researchers use to gather statistics from ?\n",
      "Context: british researchers richard g . wilkinson and kate pickett have found higher rates of health and social problems ( obesity , mental illness , homicides , teenage births , incarceration , child conflict , drug use ), and lower rates of social goods ( life expectancy by country , educational performance , trust among strangers , women ' s status , social mobility , even numbers of patents issued ) in countries and states with higher inequality . using statistics from 23 developed countries and the 50 states of the us , they found social / health problems lower in countries like japan and finland and states like utah and new hampshire with high levels of equality , than in countries ( us and uk ) and states ( mississippi and new york ) with large differences in household income .\n",
      "Predicted Answer: richard\n",
      "True Answer: 23\n",
      "--------------------------------------------------\n",
      "Question: during 2012 - 2013 , how many student were able to take the core classes at a single time ?\n",
      "Context: undergraduate students are required to take a distribution of courses to satisfy the university ' s core curriculum known as the common core . in 2012 - 2013 , the core classes at chicago were limited to 17 students , and are generally led by a full - time professor ( as opposed to a teaching assistant ). as of the 2013 – 2014 school year , 15 courses and demonstrated proficiency in a foreign language are required under the core . undergraduate courses at the university of chicago are known for their demanding standards , heavy workload and academic difficulty ; according to uni in the usa , \" among the academic cream of american universities – harvard , yale , princeton , mit , and the university of chicago – it is uchicago that can most convincingly claim to provide the most rigorous , intense learning experience .\"\n",
      "Predicted Answer: classes at chicago were limited to 17 students\n",
      "True Answer: 17\n",
      "--------------------------------------------------\n",
      "Question: in the philippines , what percentage of secondary school students attend private schools ?\n",
      "Context: in the philippines , the private sector has been a major provider of educational services , accounting for about 7 . 5 % of primary enrollment , 32 % of secondary enrollment and about 80 % of tertiary enrollment . private schools have proven to be efficient in resource utilization . per unit costs in private schools are generally lower when compared to public schools . this situation is more evident at the tertiary level . government regulations have given private education more flexibility and autonomy in recent years , notably by lifting the moratorium on applications for new courses , new schools and conversions , by liberalizing tuition fee policy for private schools , by replacing values education for third and fourth years with english , mathematics and natural science at the option of the school , and by issuing the revised manual of regulations for private schools in august 1992 .\n",
      "Predicted Answer: \n",
      "True Answer: 32\n",
      "--------------------------------------------------\n",
      "Question: as a result of a compromise , about how many chinese schools became national type schools ?\n",
      "Context: after malaysia ' s independence in 1957 , the government instructed all schools to surrender their properties and be assimilated into the national school system . this caused an uproar among the chinese and a compromise was achieved in that the schools would instead become \" national type \" schools . under such a system , the government is only in charge of the school curriculum and teaching personnel while the lands still belonged to the schools . while chinese primary schools were allowed to retain chinese as the medium of instruction , chinese secondary schools are required to change into english - medium schools . over 60 schools converted to become national type schools .\n",
      "Predicted Answer: in 1957\n",
      "True Answer: 60\n",
      "--------------------------------------------------\n",
      "Question: np complete problems contain the lowest likelihood of being located in what problem class ?\n",
      "Context: if a problem x is in c and hard for c , then x is said to be complete for c . this means that x is the hardest problem in c . ( since many problems could be equally hard , one might say that x is one of the hardest problems in c .) thus the class of np - complete problems contains the most difficult problems in np , in the sense that they are the ones most likely not to be in p . because the problem p = np is not solved , being able to reduce a known np - complete problem , π2 , to another problem , π1 , would indicate that there is no known polynomial - time solution for π1 . this is because a polynomial - time solution to π1 would yield a polynomial - time solution to π2 . similarly , because all np problems can be reduced to the set , finding an np - complete problem that can be solved in polynomial time would mean that p = np .\n",
      "Predicted Answer: problem in c . (\n",
      "True Answer: np\n",
      "--------------------------------------------------\n",
      "Question: what complexity class is commonly characterized by unknown algorithms to enhance solvability\n",
      "Context: the complexity class p is often seen as a mathematical abstraction modeling those computational tasks that admit an efficient algorithm . this hypothesis is called the cobham – edmonds thesis . the complexity class np , on the other hand , contains many problems that people would like to solve efficiently , but for which no efficient algorithm is known , such as the boolean satisfiability problem , the hamiltonian path problem and the vertex cover problem . since deterministic turing machines are special non - deterministic turing machines , it is easily observed that each problem in p is also member of the class np .\n",
      "Predicted Answer: mit an efficient algorithm . this hypothesis\n",
      "True Answer: np\n",
      "--------------------------------------------------\n",
      "Question: how many days does the parliament have to nominate a first minister after a general election ?\n",
      "Context: under the scotland act 1998 , ordinary general elections for the scottish parliament are held on the first thursday in may every four years ( 1999 , 2003 , 2007 and so on ). the date of the poll may be varied by up to one month either way by the monarch on the proposal of the presiding officer . if the parliament itself resolves that it should be dissolved ( with at least two - thirds of the members voting in favour ), or if the parliament fails to nominate one of its members to be first minister within 28 days of a general election or of the position becoming vacant , the presiding officer proposes a date for an extraordinary general election and the parliament is dissolved by the queen by royal proclamation . extraordinary general elections are in addition to ordinary general elections , unless held less than six months before the due date of an ordinary general election , in which case they supplant it . the following ordinary election reverts to the first thursday in may , a multiple of four years after 1999 ( i . e ., 5 may 2011 , 7 may 2015 , etc .).\n",
      "Predicted Answer: 1998 ,\n",
      "True Answer: 28\n",
      "--------------------------------------------------\n",
      "Question: at what angle were the groups of pistons set in relation to one another in a 4 - cy\n",
      "Context: with two - cylinder compounds used in railway work , the pistons are connected to the cranks as with a two - cylinder simple at 90 ° out of phase with each other ( quartered ). when the double expansion group is duplicated , producing a 4 - cylinder compound , the individual pistons within the group are usually balanced at 180 °, the groups being set at 90 ° to each other . in one case ( the first type of vauclain compound ), the pistons worked in the same phase driving a common crosshead and crank , again set at 90 ° as for a two - cylinder engine . with the 3 - cylinder compound arrangement , the lp cranks were either set at 90 ° with the hp one at 135 ° to the other two , or in some cases all three cranks were set at 120 °.[ citation needed ]\n",
      "Predicted Answer: \n",
      "True Answer: 90\n",
      "--------------------------------------------------\n",
      "Question: if polynomial time can be utilized within an np - complete problem , what does the\n",
      "Context: if a problem x is in c and hard for c , then x is said to be complete for c . this means that x is the hardest problem in c . ( since many problems could be equally hard , one might say that x is one of the hardest problems in c .) thus the class of np - complete problems contains the most difficult problems in np , in the sense that they are the ones most likely not to be in p . because the problem p = np is not solved , being able to reduce a known np - complete problem , π2 , to another problem , π1 , would indicate that there is no known polynomial - time solution for π1 . this is because a polynomial - time solution to π1 would yield a polynomial - time solution to π2 . similarly , because all np problems can be reduced to the set , finding an np - complete problem that can be solved in polynomial time would mean that p = np .\n",
      "Predicted Answer: \n",
      "True Answer: np\n",
      "--------------------------------------------------\n",
      "Question: what is the minimum percent of alcohol content a german law requires all spirits and liqueurs to\n",
      "Context: often rules apply to all goods neutrally , but may have a greater practical effect on imports than domestic products . for such \" indirect \" discriminatory ( or \" indistinctly applicable \") measures the court of justice has developed more justifications : either those in article 36 , or additional \" mandatory \" or \" overriding \" requirements such as consumer protection , improving labour standards , protecting the environment , press diversity , fairness in commerce , and more : the categories are not closed . in the most famous case rewe - zentral ag v bundesmonopol für branntwein , the court of justice found that a german law requiring all spirits and liqueurs ( not just imported ones ) to have a minimum alcohol content of 25 per cent was contrary to tfeu article 34 , because it had a greater negative effect on imports . german liqueurs were over 25 per cent alcohol , but cassis de dijon , which rewe - zentrale ag wished to import from france , only had 15 to 20 per cent alcohol . the court of justice rejected the german government ' s arguments that the measure proportionately protected public health under tfeu article 36 , because stronger beverages were available and adequate labelling would be enough for consumers to understand what they bought . this rule primarily applies to requirements about a product ' s content or packaging . in walter rau lebensmit\n",
      "Predicted Answer: often rules apply to all goods neutrally , but may have a greater practical effect on imports than domestic products . for such \" indirect \"\n",
      "True Answer: 25\n",
      "--------------------------------------------------\n",
      "Question: what is the lowest ranking one of the counties could have in terms of most populous counties in the united states\n",
      "Context: its counties of los angeles , orange , san diego , san bernardino , and riverside are the five most populous in the state and all are in the top 15 most populous counties in the united states .\n",
      "Predicted Answer: \n",
      "True Answer: 15\n",
      "--------------------------------------------------\n",
      "Question: how many combinatory and graph theoretical problems , formerly believed to be plagued by in\n",
      "Context: in 1967 , manuel blum developed an axiomatic complexity theory based on his axioms and proved an important result , the so - called , speed - up theorem . the field really began to flourish in 1971 when the us researcher stephen cook and , working independently , leonid levin in the ussr , proved that there exist practically relevant problems that are np - complete . in 1972 , richard karp took this idea a leap forward with his landmark paper , \" reducibility among combinatorial problems \", in which he showed that 21 diverse combinatorial and graph theoretical problems , each infamous for its computational intractability , are np - complete .\n",
      "Predicted Answer: m . the field\n",
      "True Answer: 21\n",
      "--------------------------------------------------\n",
      "Question: how many msps are there ?\n",
      "Context: after each election to the scottish parliament , at the beginning of each parliamentary session , parliament elects one msp to serve as presiding officer , the equivalent of the speaker ( currently tricia marwick ), and two msps to serve as deputies ( currently elaine smith and john scott ). the presiding officer and deputies are elected by a secret ballot of the 129 msps , which is the only secret ballot conducted in the scottish parliament . principally , the role of the presiding officer is to chair chamber proceedings and the scottish parliamentary corporate body . when chairing meetings of the parliament , the presiding officer and his / her deputies must be politically impartial . during debates , the presiding officer ( or the deputy ) is assisted by the parliamentary clerks , who give advice on how to interpret the standing orders that govern the proceedings of meetings . a vote clerk sits in front of the presiding officer and operates the electronic voting equipment and chamber clocks .\n",
      "Predicted Answer: after each election\n",
      "True Answer: 129\n",
      "--------------------------------------------------\n",
      "Question: who is videoguard owned by ?\n",
      "Context: bskyb utilises the videoguard pay - tv scrambling system owned by nds , a cisco systems company . there are tight controls over use of videoguard decoders ; they are not available as stand - alone dvb cams ( conditional - access modules ). bskyb has design authority over all digital satellite receivers capable of receiving their service . the receivers , though designed and built by different manufacturers , must conform to the same user interface look - and - feel as all the others . this extends to the personal video recorder ( pvr ) offering ( branded sky +).\n",
      "Predicted Answer: bskyb\n",
      "True Answer: nds\n",
      "--------------------------------------------------\n",
      "Question: what is the mineral wustite ?\n",
      "Context: due to its electronegativity , oxygen forms chemical bonds with almost all other elements to give corresponding oxides . the surface of most metals , such as aluminium and titanium , are oxidized in the presence of air and become coated with a thin film of oxide that passivates the metal and slows further corrosion . many oxides of the transition metals are non - stoichiometric compounds , with slightly less metal than the chemical formula would show . for example , the mineral feo ( wüstite ) is written as fe 1 − xo , where x is usually around 0 . 05 .\n",
      "Predicted Answer: due to its electronegativity , oxygen forms chemical bonds with almost all other elements to give corresponding oxides . the surface of most metals , such as aluminium and titanium ,\n",
      "True Answer: feo\n",
      "--------------------------------------------------\n",
      "Question: who commissioned the tapestry ?\n",
      "Context: by far the most famous work of norman art is the bayeux tapestry , which is not a tapestry but a work of embroidery . it was commissioned by odo , the bishop of bayeux and first earl of kent , employing natives from kent who were learned in the nordic traditions imported in the previous half century by the danish vikings .\n",
      "Predicted Answer: by far the most famous work of norman art is the bayeux tapestry , which is not a tapestry but a work\n",
      "True Answer: odo\n",
      "--------------------------------------------------\n",
      "Question: the symbol for mercuric oxide is ?\n",
      "Context: in the meantime , on august 1 , 1774 , an experiment conducted by the british clergyman joseph priestley focused sunlight on mercuric oxide ( hgo ) inside a glass tube , which liberated a gas he named \" dephlogisticated air \". he noted that candles burned brighter in the gas and that a mouse was more active and lived longer while breathing it . after breathing the gas himself , he wrote : \" the feeling of it to my lungs was not sensibly different from that of common air , but i fancied that my breast felt peculiarly light and easy for some time afterwards .\" priestley published his findings in 1775 in a paper titled \" an account of further discoveries in air \" which was included in the second volume of his book titled experiments and observations on different kinds of air . because he published his findings first , priestley is usually given priority in the discovery .\n",
      "Predicted Answer: , 17\n",
      "True Answer: hgo\n",
      "--------------------------------------------------\n",
      "Question: how many victorians are non - religious ?\n",
      "Context: about 61 . 1 % of victorians describe themselves as christian . roman catholics form the single largest religious group in the state with 26 . 7 % of the victorian population , followed by anglicans and members of the uniting church . buddhism is the state ' s largest non - christian religion , with 168 , 637 members as of the most recent census . victoria is also home of 152 , 775 muslims and 45 , 150 jews . hinduism is the fastest growing religion . around 20 % of victorians claim no religion . amongst those who declare a religious affiliation , church attendance is low .\n",
      "Predicted Answer: \n",
      "True Answer: 20 %\n",
      "--------------------------------------------------\n",
      "Question: how many horsepower was watt ' s engine ?\n",
      "Context: in 1781 james watt patented a steam engine that produced continuous rotary motion . watt ' s ten - horsepower engines enabled a wide range of manufacturing machinery to be powered . the engines could be sited anywhere that water and coal or wood fuel could be obtained . by 1883 , engines that could provide 10 , 000 hp had become feasible . the stationary steam engine was a key component of the industrial revolution , allowing factories to locate where water power was unavailable . the atmospheric engines of newcomen and watt were large compared to the amount of power they produced , but high pressure steam engines were light enough to be applied to vehicles such as traction engines and the railway locomotives .\n",
      "Predicted Answer: 1781\n",
      "True Answer: ten\n",
      "--------------------------------------------------\n",
      "Question: how many major ice ages have occurred ?\n",
      "Context: around 2 . 5 million years ago ( ending 11 , 600 years ago ) was the geological period of the ice ages . since approximately 600 , 000 years ago , six major ice ages have occurred , in which sea level dropped 120 m ( 390 ft ) and much of the continental margins became exposed . in the early pleistocene , the rhine followed a course to the northwest , through the present north sea . during the so - called anglian glaciation (~ 450 , 000 yr bp , marine oxygen isotope stage 12 ), the northern part of the present north sea was blocked by the ice and a large lake developed , that overflowed through the english channel . this caused the rhine ' s course to be diverted through the english channel . since then , during glacial times , the river mouth was located offshore of brest , france and rivers , like the thames and the seine , became tributaries to the rhine . during interglacials , when sea level rose to approximately the present level , the rhine built deltas , in what is now the netherlands .\n",
      "Predicted Answer: .\n",
      "True Answer: six\n",
      "--------------------------------------------------\n",
      "Question: when was the duchy of normandy founded ?\n",
      "Context: in the course of the 10th century , the initially destructive incursions of norse war bands into the rivers of france evolved into more permanent encampments that included local women and personal property . the duchy of normandy , which began in 911 as a fiefdom , was established by the treaty of saint - clair - sur - epte between king charles iii of west francia and the famed viking ruler rollo , and was situated in the former frankish kingdom of neustria . the treaty offered rollo and his men the french lands between the river epte and the atlantic coast in exchange for their protection against further viking incursions . the area corresponded to the northern part of present - day upper normandy down to the river seine , but the duchy would eventually extend west beyond the seine . the territory was roughly equivalent to the old province of rouen , and reproduced the roman administrative structure of gallia lugdunensis ii ( part of the former gallia lugdunensis ).\n",
      "Predicted Answer: the\n",
      "True Answer: 911\n",
      "--------------------------------------------------\n",
      "Question: what percentage of farmland grows wheat ?\n",
      "Context: more than 26 , 000 square kilometres ( 10 , 000 sq mi ) of victorian farmland are sown for grain , mostly in the state ' s west . more than 50 % of this area is sown for wheat , 33 % for barley and 7 % for oats . a further 6 , 000 square kilometres ( 2 , 300 sq mi ) is sown for hay . in 2003 – 04 , victorian farmers produced more than 3 million tonnes of wheat and 2 million tonnes of barley . victorian farms produce nearly 90 % of australian pears and third of apples . it is also a leader in stone fruit production . the main vegetable crops include asparagus , broccoli , carrots , potatoes and tomatoes . last year , 121 , 200 tonnes of pears and 270 , 000 tonnes of tomatoes were produced .\n",
      "Predicted Answer: 000 square kilometres (\n",
      "True Answer: 50 %\n",
      "--------------------------------------------------\n",
      "Question: what are the secretions commonly called ?\n",
      "Context: when some species , including bathyctena chuni , euplokamis stationis and eurhamphaea vexilligera , are disturbed , they produce secretions ( ink ) that luminesce at much the same wavelengths as their bodies . juveniles will luminesce more brightly in relation to their body size than adults , whose luminescence is diffused over their bodies . detailed statistical investigation has not suggested the function of ctenophores ' bioluminescence nor produced any correlation between its exact color and any aspect of the animals ' environments , such as depth or whether they live in coastal or mid - ocean waters .\n",
      "Predicted Answer: when some species , including\n",
      "True Answer: ink\n",
      "--------------------------------------------------\n",
      "Question: how many miles east of berlin is warsaw ?\n",
      "Context: warsaw lies in east - central poland about 300 km ( 190 mi ) from the carpathian mountains and about 260 km ( 160 mi ) from the baltic sea , 523 km ( 325 mi ) east of berlin , germany . the city straddles the vistula river . it is located in the heartland of the masovian plain , and its average elevation is 100 metres ( 330 ft ) above sea level . the highest point on the left side of the city lies at a height of 115 . 7 metres ( 379 . 6 ft ) (\" redutowa \" bus depot , district of wola ), on the right side – 122 . 1 metres ( 400 . 6 ft ) (\" groszówka \" estate , district of wesoła , by the eastern border ). the lowest point lies at a height 75 . 6 metres ( 248 . 0 ft ) ( at the right bank of the vistula , by the eastern border of warsaw ). there are some hills ( mostly artificial ) located within the confines of the city – e . g . warsaw uprising hill ( 121 metres ( 397 . 0 ft )), szczęśliwice hill ( 138 metres ( 452 . 8 ft ) – the highest point of warsaw in general ).\n",
      "Predicted Answer: 300 km\n",
      "True Answer: 325\n",
      "--------------------------------------------------\n",
      "Question: how many catholic schools were in victoria ?\n",
      "Context: as of august 2010 , victoria had 1 , 548 public schools , 489 catholic schools and 214 independent schools . just under 540 , 800 students were enrolled in public schools , and just over 311 , 800 in private schools . over 61 per cent of private students attend catholic schools . more than 462 , 000 students were enrolled in primary schools and more than 390 , 000 in secondary schools . retention rates for the final two years of secondary school were 77 per cent for public school students and 90 per cent for private school students . victoria has about 63 , 519 full - time teachers .\n",
      "Predicted Answer: \n",
      "True Answer: 489\n",
      "--------------------------------------------------\n",
      "Question: what does the nederrikn ' s name change into ?\n",
      "Context: the other third of the water flows through the pannerdens kanaal and redistributes in the ijssel and nederrijn . the ijssel branch carries one ninth of the water flow of the rhine north into the ijsselmeer ( a former bay ), while the nederrijn carries approximately two ninths of the flow west along a route parallel to the waal . however , at wijk bij duurstede , the nederrijn changes its name and becomes the lek . it flows farther west , to rejoin the noord river into the nieuwe maas and to the north sea .\n",
      "Predicted Answer: the i\n",
      "True Answer: lek\n",
      "--------------------------------------------------\n",
      "Question: how many seats are in the debating chamber ?\n",
      "Context: the debating chamber of the scottish parliament has seating arranged in a hemicycle , which reflects the desire to encourage consensus amongst elected members . there are 131 seats in the debating chamber . of the total 131 seats , 129 are occupied by the parliament ' s elected msps and 2 are seats for the scottish law officers – the lord advocate and the solicitor general for scotland , who are not elected members of the parliament but are members of the scottish government . as such the law officers may attend and speak in the plenary meetings of the parliament but , as they are not elected msps , cannot vote . members are able to sit anywhere in the debating chamber , but typically sit in their party groupings . the first minister , scottish cabinet ministers and law officers sit in the front row , in the middle section of the chamber . the largest party in the parliament sits in the middle of the semicircle , with opposing parties on either side . the presiding officer , parliamentary clerks and officials sit opposite members at the front of the debating chamber .\n",
      "Predicted Answer: \n",
      "True Answer: 131\n",
      "--------------------------------------------------\n",
      "Question: how many teams did los angeles used to have ?\n",
      "Context: from 2005 to 2014 , there were two major league soccer teams in los angeles — the la galaxy and chivas usa — that both played at the stubhub center and were local rivals . however , chivas were suspended following the 2014 mls season , with a second mls team scheduled to return in 2018 .\n",
      "Predicted Answer: \n",
      "True Answer: two\n",
      "--------------------------------------------------\n",
      "Question: what does the nederrijn change it ' s name to ?\n",
      "Context: the other third of the water flows through the pannerdens kanaal and redistributes in the ijssel and nederrijn . the ijssel branch carries one ninth of the water flow of the rhine north into the ijsselmeer ( a former bay ), while the nederrijn carries approximately two ninths of the flow west along a route parallel to the waal . however , at wijk bij duurstede , the nederrijn changes its name and becomes the lek . it flows farther west , to rejoin the noord river into the nieuwe maas and to the north sea .\n",
      "Predicted Answer: \n",
      "True Answer: lek\n",
      "--------------------------------------------------\n",
      "Question: how many botanical gardens does warsaw have ?\n",
      "Context: the flora of the city may be considered very rich in species . the species richness is mainly due to the location of warsaw within the border region of several big floral regions comprising substantial proportions of close - to - wilderness areas ( natural forests , wetlands along the vistula ) as well as arable land , meadows and forests . bielany forest , located within the borders of warsaw , is the remaining part of the masovian primeval forest . bielany forest nature reserve is connected with kampinos forest . it is home to rich fauna and flora . within the forest there are three cycling and walking trails . other big forest area is kabaty forest by the southern city border . warsaw has also two botanic gardens : by the łazienki park ( a didactic - research unit of the university of warsaw ) as well as by the park of culture and rest in powsin ( a unit of the polish academy of science ).\n",
      "Predicted Answer: the flora of the city may be considered very rich in species . the species richness is mainly due to the location of warsaw within the border region of several big flor\n",
      "True Answer: two\n",
      "--------------------------------------------------\n",
      "Question: what is the bond order of dioxygen molecules ?\n",
      "Context: in this dioxygen , the two oxygen atoms are chemically bonded to each other . the bond can be variously described based on level of theory , but is reasonably and simply described as a covalent double bond that results from the filling of molecular orbitals formed from the atomic orbitals of the individual oxygen atoms , the filling of which results in a bond order of two . more specifically , the double bond is the result of sequential , low - to - high energy , or aufbau , filling of orbitals , and the resulting cancellation of contributions from the 2s electrons , after sequential filling of the low and * orbitals ; overlap of the two atomic 2p orbitals that lie along the o - o molecular axis and π overlap of two pairs of atomic 2p orbitals perpendicular to the o - o molecular axis , and then cancellation of contributions from the remaining two of the six 2p electrons after their partial filling of the lowest π and π * orbitals .\n",
      "Predicted Answer: in this di\n",
      "True Answer: two\n",
      "--------------------------------------------------\n",
      "Question: how much heavier is oxygen 18 than oxygen 16 ?\n",
      "Context: paleoclimatologists measure the ratio of oxygen - 18 and oxygen - 16 in the shells and skeletons of marine organisms to determine what the climate was like millions of years ago ( see oxygen isotope ratio cycle ). seawater molecules that contain the lighter isotope , oxygen - 16 , evaporate at a slightly faster rate than water molecules containing the 12 % heavier oxygen - 18 ; this disparity increases at lower temperatures . during periods of lower global temperatures , snow and rain from that evaporated water tends to be higher in oxygen - 16 , and the seawater left behind tends to be higher in oxygen - 18 . marine organisms then incorporate more oxygen - 18 into their skeletons and shells than they would in a warmer climate . paleoclimatologists also directly measure this ratio in the water molecules of ice core samples that are up to several hundreds of thousands of years old .\n",
      "Predicted Answer: paleoclimatologists measure the ratio of oxygen - 18 and oxygen - 16 in the shells and skeletons of marine organisms to determine what the climate was like millions of years ago ( see\n",
      "True Answer: 12 %\n",
      "--------------------------------------------------\n"
     ]
    }
   ],
   "source": [
    "# Compare the predictions with the actual answers\n",
    "for i in range(100):\n",
    "    print(f\"Question: {questions[i]}\")\n",
    "    print(f\"Context: {contexts[i]}\")\n",
    "    print(f\"Predicted Answer: {preds[i]}\")\n",
    "    print(f\"True Answer: {true_labels[i]}\")\n",
    "    print(\"-\" * 50)"
   ]
  },
  {
   "cell_type": "markdown",
   "metadata": {},
   "source": [
    "##### 2. Predicitions on Training Set"
   ]
  },
  {
   "cell_type": "code",
   "execution_count": 13,
   "metadata": {},
   "outputs": [
    {
     "name": "stderr",
     "output_type": "stream",
     "text": [
      "Predicting: 100%|██████████| 623/623 [00:51<00:00, 12.02it/s]\n"
     ]
    }
   ],
   "source": [
    "train_preds, train_true_labels, train_context, train_questions = predict_qa_context_model_boilerplate(model=model, dataloader=train_dataloader, tokenizer=tokenizer, device='cuda', inputs = [\"context\", \"question\"])"
   ]
  },
  {
   "cell_type": "code",
   "execution_count": 14,
   "metadata": {},
   "outputs": [
    {
     "name": "stdout",
     "output_type": "stream",
     "text": [
      "Question: how many national newspapers out of the three are from new york ?\n",
      "Context: more than 200 newspapers and 350 consumer magazines have an office in the city , and the publishing industry employs about 25 , 000 people . two of the three national daily newspapers in the united states are new york papers : the wall street journal and the new york times , which has won the most pulitzer prizes for journalism . major tabloid newspapers in the city include : the new york daily news , which was founded in 1919 by joseph medill patterson and the new york post , founded in 1801 by alexander hamilton . the city also has a comprehensive ethnic press , with 270 newspapers and magazines published in more than 40 languages . el diario la prensa is new york ' s largest spanish - language daily and the oldest in the nation . the new york amsterdam news , published in harlem , is a prominent african american newspaper . the village voice is the largest alternative newspaper .\n",
      "Predicted Answer: \n",
      "True Answer: 2\n",
      "--------------------------------------------------\n",
      "Question: what are the women who stormy city halls allowed to do to any passing man ?\n",
      "Context: the \" rheinische \" carnival is held in the west of germany , mainly in the states of north rhine - westphalia or nordrhein - westfalen , rhineland palatinate or rheinland - pfalz , but also in hessen [ including oberhessen ], bavaria and other states . some cities are more famous for celebrations such as parades and costume balls . köln or cologne carnival , as well as mainz and düsseldorf are the largest and most famous . other cities have their own , often less well - known celebrations , parades and parties such as worms am rhein , speyer , kaiserslautern , frankfurt , darmstadt , mannheim , ludwigshafen , stuttgart , augsburg and münchen [ munich ] nürnberg . on carnival thursday ( called \" old women day \" or \" the women ' s day \") in commemoration of an 1824 revolt by washer - women , women storm city halls , cut men ' s ties , and are allowed to kiss any passing man .\n",
      "Predicted Answer: rhine - westphalia or nordrhein - westfal\n",
      "True Answer: kiss\n",
      "--------------------------------------------------\n",
      "Question: who started writing poety during the qing dynasty ?\n",
      "Context: literature grew to new heights in the qing period . poetry continued as a mark of the cultivated gentleman , but women wrote in larger and larger numbers and poets came from all walks of life . the poetry of the qing dynasty is a lively field of research , being studied ( along with the poetry of the ming dynasty ) for its association with chinese opera , developmental trends of classical chinese poetry , the transition to a greater role for vernacular language , and for poetry by women in chinese culture . the qing dynasty was a period of much literary collection and criticism , and many of the modern popular versions of classical chinese poems were transmitted through qing dynasty anthologies , such as the quantangshi and the three hundred tang poems . pu songling brought the short story form to a new level in his strange stories from a chinese studio , published in the mid - 18th century , and shen fu demonstrated the charm of the informal memoir in six chapters of a floating life , written in the early 19th century but published only in 1877 . the art of the novel reached a pinnacle in cao xueqin ' s dream of the red chamber , but its combination of social commentary and psychological insight were echoed in highly skilled novels such as wu jingzi ' s the scholars ( 1750 ) and li ruzhen ' s flowers in the mirror ( 1827 ).\n",
      "Predicted Answer: \n",
      "True Answer: women\n",
      "--------------------------------------------------\n",
      "Question: in what year did the italian occupation of somalia end ?\n",
      "Context: in the late 19th century , after the berlin conference had ended , european empires sailed with their armies to the horn of africa . the imperial clouds wavering over somalia alarmed the dervish leader mohammed abdullah hassan , who gathered somali soldiers from across the horn of africa and began one of the longest anti - colonial wars ever . the dervish state successfully repulsed the british empire four times and forced it to retreat to the coastal region . as a result of its successes against the british , the dervish state received support from the ottoman and german empires . the turks also named hassan emir of the somali nation , and the germans promised to officially recognize any territories the dervishes were to acquire . after a quarter of a century of holding the british at bay , the dervishes were finally defeated in 1920 , when britain for the first time in africa used airplanes to bomb the dervish capital of taleex . as a result of this bombardment , former dervish territories were turned into a protectorate of britain . italy similarly faced the same opposition from somali sultans and armies and did not acquire full control of parts of modern somalia until the fascist era in late 1927 . this occupation lasted till 1941 and was replaced by a british military administration .\n",
      "Predicted Answer: european empires\n",
      "True Answer: 1941\n",
      "--------------------------------------------------\n",
      "Question: how many outreach events were held at eton by oxford university in 2010 ?\n",
      "Context: figures obtained by the daily telegraph had revealed that , in 2010 , 37 applicants from eton were accepted by oxford whilst state schools had difficulty obtaining entry even for pupils with the country ' s most impressive exam results . according to the economist , oxford and cambridge admit more etonians each year than applicants from the whole country who qualify for free school meals . in april 2011 the labour mp david lammy described as unfair and ' indefensible ' the fact that oxford university had organised nine ' outreach events ' at eton in 2010 , although he admitted that it had , in fact , held fewer such events for eton than for another independent school , wellington college .\n",
      "Predicted Answer: 2010 , 37 applicants from eton were accepted by oxford whilst state schools had difficulty obtaining entry\n",
      "True Answer: nine\n",
      "--------------------------------------------------\n",
      "Question: who succeeded the emperor constantius ?\n",
      "Context: the arians no longer presented an unbroken front to their orthodox opponents . the emperor constantius , who had been the cause of so much trouble , died 4 november , 361 and was succeeded by julian . the proclamation of the new prince ' s accession was the signal for a pagan outbreak against the still dominant arian faction in alexandria . george , the usurping bishop , was flung into prison and murdered . an obscure presbyter of the name of pistus was immediately chosen by the arians to succeed him , when fresh news arrived that filled the orthodox party with hope . an edict had been put forth by julian permitting the exiled bishops of the \" galileans \" to return to their \" towns and provinces \". athanasius received a summons from his own flock , and he accordingly re - entered his episcopal capitol on 22 february , 362 .\n",
      "Predicted Answer: the arians no longer presented an unbroken front to their orthodox opponents . the emperor constantius , who had been the cause of so much trouble , died 4 november , 361 and was succeeded by julian . the proclamation of the new prince ' s accession was the signal for a pagan outbreak against the still dominant arian faction in alexandria . george , the usurping bishop , was flung into prison\n",
      "True Answer: julian\n",
      "--------------------------------------------------\n",
      "Question: in march 2014 what number of people were sentenced to death in a single hearing ?\n",
      "Context: egypt actively practices capital punishment . egypt ' s authorities do not release figures on death sentences and executions , despite repeated requests over the years by human rights organisations . the united nations human rights office and various ngos expressed \" deep alarm \" after an egyptian minya criminal court sentenced 529 people to death in a single hearing on 25 march 2014 . sentenced supporters of former president mohamed morsi will be executed for their alleged role in violence following his ousting in july 2013 . the judgment was condemned as a violation of international law . by may 2014 , approximately 16 , 000 people ( and as high as more than 40 , 000 by one independent count ), mostly brotherhood members or supporters , have been imprisoned after the coup after the muslim brotherhood was labelled as terrorist organisation by the post - coup interim egyptian government .\n",
      "Predicted Answer: egypt actively practices capital punishment . egypt ' s authorities do not release figures on death sentences and executions , despite repeated requests over the years by human rights organis\n",
      "True Answer: 529\n",
      "--------------------------------------------------\n",
      "Question: how many satellites provide the link to the internet ?\n",
      "Context: saint helena has a 10 / 3 . 6 mbit / s internet link via intelsat 707 provided by sure . serving a population of more than 4 , 000 , this single satellite link is considered inadequate in terms of bandwidth .\n",
      "Predicted Answer: 3 .\n",
      "True Answer: 1\n",
      "--------------------------------------------------\n",
      "Question: when did the convention for the conservation of antarctic marine living resources come into force ?\n",
      "Context: the passing of the antarctic conservation act ( 1978 ) in the u . s . brought several restrictions to u . s . activity on antarctica . the introduction of alien plants or animals can bring a criminal penalty , as can the extraction of any indigenous species . the overfishing of krill , which plays a large role in the antarctic ecosystem , led officials to enact regulations on fishing . the convention for the conservation of antarctic marine living resources ( ccamlr ), a treaty that came into force in 1980 , requires that regulations managing all southern ocean fisheries consider potential effects on the entire antarctic ecosystem . despite these new acts , unregulated and illegal fishing , particularly of patagonian toothfish ( marketed as chilean sea bass in the u . s .), remains a serious problem . the illegal fishing of toothfish has been increasing , with estimates of 32 , 000 tonnes ( 35 , 300 short tons ) in 2000 .\n",
      "Predicted Answer: ( 1978\n",
      "True Answer: 1980\n",
      "--------------------------------------------------\n",
      "Question: how many municipalities are in mexico city ?\n",
      "Context: mexico city , or the city of mexico ( spanish : ciudad de méxico audio ( help · info ) american spanish : [ sjuˈða ( ð ) ðe ˈméxiko ]; abbreviated as \" cdmx \"), is the capital of mexico . as an \" alpha \" global city , mexico city is one of the most important financial centers in the americas . it is located in the valley of mexico ( valle de méxico ), a large valley in the high plateaus at the center of mexico , at an altitude of 2 , 240 metres ( 7 , 350 ft ). the city consists of sixteen municipalities ( previously called boroughs ).\n",
      "Predicted Answer: \n",
      "True Answer: sixteen\n",
      "--------------------------------------------------\n",
      "Question: who did chopin send his preludes to ?\n",
      "Context: on 3 december , chopin complained about his bad health and the incompetence of the doctors in majorca : \" three doctors have visited me ... the first said i was dead ; the second said i was dying ; and the third said i was about to die .\" he also had problems having his pleyel piano sent to him . it finally arrived from paris in december . chopin wrote to pleyel in january 1839 : \" i am sending you my preludes [( op . 28 )]. i finished them on your little piano , which arrived in the best possible condition in spite of the sea , the bad weather and the palma customs .\" chopin was also able to undertake work on his ballade no . 2 , op . 38 ; two polonaises , op . 40 ; and the scherzo no . 3 , op . 39 .\n",
      "Predicted Answer: \n",
      "True Answer: pleyel\n",
      "--------------------------------------------------\n",
      "Question: in what year did the korean church celebrate the 100th class ?\n",
      "Context: most of the korean presbyterian denominations share the same name in korean , 대한예수교장로회 ( literally means the presbyterian church of korea or pck ), tracing its roots to the united presbyterian assembly before its long history of disputes and schisms . the presbyterian schism began with the controversy in relation to the japanese shrine worship enforced during the japanese colonial period and the establishment of a minor division ( koryu - pa , 고려파 , later the koshin presbyterian church in korea , koshin 고신 ) in 1952 . and in 1953 the second schism happened when the theological orientation of the chosun seminary ( later hanshin university ) founded in 1947 could not be tolerated in the pck and another minor group ( the presbyterian church in the republic of korea , kijang , 기장 ) was separated . the last major schism had to do with the issue of whether the pck should join the wcc . the controversy divided the pck into two denominations , the presbyterian church of korea ( tonghap , 통합 ) and the general assembly of presbyterian church in korea ( hapdong , 합동 ) in 1959 . all major seminaries associated with each denomination claim heritage from the pyung yang theological seminary , therefore , not only presbyterian university and theological seminary and chongsin university which are related to pck but also hanshin university of prok all celebrated the 100th class in 2007 , 100 years from the first graduates of\n",
      "Predicted Answer: 한\n",
      "True Answer: 2007\n",
      "--------------------------------------------------\n",
      "Question: how cheaply could an older laserdisc player be purchased in the 1990s ?\n",
      "Context: another significant issue unique to laserdisc is one involving the inconsistency of playback quality between different makers and models of player . on most televisions , a given dvd player will produce a picture that is visually indistinguishable from other units . differences in image quality between players only becomes easily apparent on large televisions and substantial leaps in image quality are generally only obtained with expensive , high - end players that allow for post - processing of the mpeg - 2 stream during playback . in contrast , laserdisc playback quality is highly dependent on hardware quality . major variances in picture quality appear between different makers and models of ld players , even when tested on a low to mid - range television . the obvious benefits of using high quality equipment has helped keep demand for some players high , thus also keeping pricing for those units comparably high . in the 1990s , notable players sold for anywhere from us $ 200 to well over $ 1 , 000 , while older and less desirable players could be purchased in working condition for as little as $ 25 .\n",
      "Predicted Answer: another significant issue unique to laserdisc is one involving the inconsistency of playback quality between different makers and models of player . on most televisions , a given dv\n",
      "True Answer: $ 25\n",
      "--------------------------------------------------\n",
      "Question: how many members are in the supreme court ?\n",
      "Context: liberia ' s highest judicial authority is the supreme court , made up of five members and headed by the chief justice of liberia . members are nominated to the court by the president and are confirmed by the senate , serving until the age of 70 . the judiciary is further divided into circuit and speciality courts , magistrate courts and justices of the peace . the judicial system is a blend of common law , based on anglo - american law , and customary law . an informal system of traditional courts still exists within the rural areas of the country , with trial by ordeal remaining common despite being officially outlawed .\n",
      "Predicted Answer: \n",
      "True Answer: five\n",
      "--------------------------------------------------\n",
      "Question: a sound reproduction of 24 khz would represent which value of a maximum sampling rate ?\n",
      "Context: several bit rates are specified in the mpeg - 1 audio layer iii standard : 32 , 40 , 48 , 56 , 64 , 80 , 96 , 112 , 128 , 160 , 192 , 224 , 256 and 320 kbit / s , with available sampling frequencies of 32 , 44 . 1 and 48 khz . mpeg - 2 audio layer iii allows bit rates of 8 , 16 , 24 , 32 , 40 , 48 , 56 , 64 , 80 , 96 , 112 , 128 , 144 , 160 kbit / s with sampling frequencies of 16 , 22 . 05 and 24 khz . mpeg - 2 . 5 audio layer iii is restricted to bit rates of 8 , 16 , 24 , 32 , 40 , 48 , 56 and 64 kbit / s with sampling frequencies of 8 , 11 . 025 , and 12 khz .[ citation needed ] because of the nyquist – shannon sampling theorem , frequency reproduction is always strictly less than half of the sampling frequency , and imperfect filters requires a larger margin for error ( noise level versus sharpness of filter ), so 8 khz sampling rate limits the maximum frequency to 4 khz , while 48 khz maximum sampling rate limits an mp3 to 24 khz sound reproduction .\n",
      "Predicted Answer: \n",
      "True Answer: 48\n",
      "--------------------------------------------------\n",
      "Question: individuals must remain jehovah witnesses if they wish to receive what from god ?\n",
      "Context: baptism is a requirement for being considered a member of jehovah ' s witnesses . jehovah ' s witnesses do not practice infant baptism , and previous baptisms performed by other denominations are not considered valid . individuals undergoing baptism must affirm publicly that dedication and baptism identify them \" as one of jehovah ' s witnesses in association with god ' s spirit - directed organization ,\" though witness publications say baptism symbolizes personal dedication to god and not \" to a man , work or organization .\" their literature emphasizes the need for members to be obedient and loyal to jehovah and to \" his organization ,\"[ note 2 ] stating that individuals must remain part of it to receive god ' s favor and to survive armageddon .\n",
      "Predicted Answer: tism is a requirement for being considered a member of jehovah ' s witnesses . jehovah ' s witnesses do not practice infant baptism , and previous baptisms performed by other denominations are not considered\n",
      "True Answer: favor\n",
      "--------------------------------------------------\n",
      "Question: how many db10 ' s were produced ?\n",
      "Context: during the december 2014 press conference announcing the start of filming , aston martin and eon unveiled the new db10 as the official car for the film . the db10 was designed in collaboration between aston martin and the filmmakers , with only 10 being produced especially for spectre as a celebration of the 50th anniversary of the company ' s association with the franchise . only eight of those 10 were used for the film , however ; the remaining two were used for promotional work . after modifying the jaguar c - x75 for the film , williams f1 carried the 007 logo on their cars at the 2015 mexican grand prix , with the team playing host to the cast and crew ahead of the mexican premiere of the film .\n",
      "Predicted Answer: press\n",
      "True Answer: 10\n",
      "--------------------------------------------------\n",
      "Question: what methodology was in force when greece submitted its membership qualification ?\n",
      "Context: in the 2005 oecd report for greece , it was clearly stated that \" the impact of new accounting rules on the fiscal figures for the years 1997 to 1999 ranged from 0 . 7 to 1 percentage point of gdp ; this retroactive change of methodology was responsible for the revised deficit exceeding 3 % in 1999 , the year of [ greece ' s ] emu membership qualification \". the above led the greek minister of finance to clarify that the 1999 budget deficit was below the prescribed 3 % limit when calculated with the esa79 methodology in force at the time of greece ' s application , and thus the criteria had been met .\n",
      "Predicted Answer: \n",
      "True Answer: esa79\n",
      "--------------------------------------------------\n",
      "Question: in what yer was the battle of manzikert fought ?\n",
      "Context: in the 11th century , the seljuk turks took over much of the middle east , occupying persia during the 1040s , armenia in the 1060s , and jerusalem in 1070 . in 1071 , the turkish army defeated the byzantine army at the battle of manzikert and captured the byzantine emperor romanus iv ( r . 1068 – 71 ). the turks were then free to invade asia minor , which dealt a dangerous blow to the byzantine empire by seizing a large part of its population and its economic heartland . although the byzantines regrouped and recovered somewhat , they never fully regained asia minor and were often on the defensive . the turks also had difficulties , losing control of jerusalem to the fatimids of egypt and suffering from a series of internal civil wars . the byzantines also faced a revived bulgaria , which in the late 12th and 13th centuries spread throughout the balkans .\n",
      "Predicted Answer: in the 11th century , the seljuk turks took over much of the middle east , occupying persia during the 1040s , armenia in the 1060s , and jerusalem in 1070 . in 1071 , the turkish army defeated the byzantine army at the battle of manzikert and captured the byzantine emperor romanus iv ( r . 1068 – 71 ). the turks were then free to invade asia minor , which dealt a dangerous blow to the byzantine empire\n",
      "True Answer: 1071\n",
      "--------------------------------------------------\n",
      "Question: the pew research center estimated protestants to be what percentage of europe ' s christian population in 2010 ?\n",
      "Context: in european countries which were most profoundly influenced by the reformation , protestantism still remains the most practiced religion . these include the nordic countries and the united kingdom . in other historical protestant strongholds such as germany , the netherlands , switzerland , latvia , estonia and hungary , it remains one of the most popular religions . although czech republic was the site of one of the most significant pre - reformation movements , there are only few protestant adherents ; mainly due to historical reasons like persecution of protestants by the catholic habsburgs , restrictions during the communist rule , and also the ongoing secularization . over the last several decades , religious practice has been declining as secularization has increased . according to a 2012 study about religiosity in the european union in 2012 by eurobarometer , protestants made up 12 % of the eu population . according to pew research center , protestants constituted nearly one fifth ( or 17 . 8 %) of the continent ' s christian population in 2010 . clarke and beyer estimate that protestants constituted 15 % of all europeans in 2009 , while noll claims that less than 12 % of them lived in europe in 2010 .\n",
      "Predicted Answer: other historical protestant str\n",
      "True Answer: 17 . 8 %\n",
      "--------------------------------------------------\n",
      "Question: what road does the südschnellweg start out as ?\n",
      "Context: the schnellweg ( en : expressway ) system , a number of bundesstraße roads , forms a structure loosely resembling a large ring road together with a2 and a7 . the roads are b 3 , b 6 and b 65 , called westschnellweg ( b6 on the northern part , b3 on the southern part ), messeschnellweg ( b3 , becomes a37 near burgdorf , crosses a2 , becomes b3 again , changes to b6 at seelhorster kreuz , then passes the hanover fairground as b6 and becomes a37 again before merging into a7 ) and südschnellweg ( starts out as b65 , becomes b3 / b6 / b65 upon crossing westschnellweg , then becomes b65 again at seelhorster kreuz ).\n",
      "Predicted Answer: the schnellweg ( en : expressway ) system , a number of bundesstraße roads , forms a structure loosely resembling a large\n",
      "True Answer: b65\n",
      "--------------------------------------------------\n",
      "Question: what number indicates the minimum score for a country to be considered a \" high development \" country ?\n",
      "Context: a hdi of 0 . 8 or more is considered to represent \" high development \". this includes all developed countries , such as those in north america , western europe , oceania , and eastern asia , as well as some developing countries in eastern europe , central and south america , southeast asia , the caribbean , and the oil - rich arabian peninsula . seven countries were promoted to this category this year , leaving the \" medium development \" group : albania , belarus , brazil , libya , macedonia , russia and saudi arabia .\n",
      "Predicted Answer: 0\n",
      "True Answer: 0 . 8\n",
      "--------------------------------------------------\n",
      "Question: what textile were some of the early han maps made from ?\n",
      "Context: evidence found in chinese literature , and archaeological evidence , show that cartography existed in china before the han . some of the earliest han maps discovered were ink - penned silk maps found amongst the mawangdui silk texts in a 2nd - century - bc tomb . the general ma yuan created the world ' s first known raised - relief map from rice in the 1st century ad . this date could be revised if the tomb of qin shi huang is excavated and the account in the records of the grand historian concerning a model map of the empire is proven to be true .\n",
      "Predicted Answer: k - penned silk maps\n",
      "True Answer: silk\n",
      "--------------------------------------------------\n",
      "Question: how many students were in tuvalu schools in 2010 ?\n",
      "Context: required attendance at school is 10 years for males and 11 years for females ( 2001 ). the adult literacy rate is 99 . 0 % ( 2002 ). in 2010 , there were 1 , 918 students who were taught by 109 teachers ( 98 certified and 11 uncertified ). the teacher - pupil ratio for primary schools in tuvalu is around 1 : 18 for all schools with the exception of nauti school , which has a teacher - student ratio of 1 : 27 . nauti school on funafuti is the largest primary in tuvalu with more than 900 students ( 45 percent of the total primary school enrolment ). the pupil - teacher ratio for tuvalu is low compared to the pacific region ( ratio of 1 : 29 ).\n",
      "Predicted Answer: \n",
      "True Answer: 1 , 918\n",
      "--------------------------------------------------\n",
      "Question: how many recent iraqi refugees are in egypt ?\n",
      "Context: egypt also hosts an unknown number of refugees and asylum seekers , estimated to be between 500 , 000 and 3 million . there are some 70 , 000 palestinian refugees , and about 150 , 000 recently arrived iraqi refugees , but the number of the largest group , the sudanese , is contested .[ nb 1 ] the once - vibrant and ancient greek and jewish communities in egypt have almost disappeared , with only a small number remaining in the country , but many egyptian jews visit on religious or other occasions and tourism . several important jewish archaeological and historical sites are found in cairo , alexandria and other cities .\n",
      "Predicted Answer: \n",
      "True Answer: 150 , 000\n",
      "--------------------------------------------------\n",
      "Question: in what year did the walt disney company close the american idol experience ?\n",
      "Context: on february 14 , 2009 , the walt disney company debuted \" the american idol experience \" at its disney ' s hollywood studios theme park at the walt disney world resort in florida . in this live production , co - produced by 19 entertainment , park guests chose from a list of songs and auditioned privately for disney cast members . those selected then performed on a stage in a 1000 - seat theater replicating the idol set . three judges , whose mannerisms and style mimicked those of the real idol judges , critiqued the performances . audience members then voted for their favorite performer . there were several preliminary - round shows during the day that culminated in a \" finals \" show in the evening where one of the winners of the previous rounds that day was selected as the overall winner . the winner of the finals show received a \" dream ticket \" that granted them front - of - the - line privileges at any future american idol audition . the attraction closed on august 30 , 2014 .\n",
      "Predicted Answer: ,\n",
      "True Answer: 2014\n",
      "--------------------------------------------------\n",
      "Question: in what year waas vladan dinic born ?\n",
      "Context: in the years after tito ' s death up to nowadays , some people have disputed his identity . tito ' s personal doctor , aleksandar matunović , wrote a book about tito in which he also questioned his true origin , noting that tito ' s habits and lifestyle could only mean that he was from an aristocratic family . serbian journalist vladan dinić ( born 1949 ), in tito nije tito , includes several possible alternate identities of tito .\n",
      "Predicted Answer: tor , aleksandar matunović , wrote a book about tito in which he also questioned his true origin ,\n",
      "True Answer: 1949\n",
      "--------------------------------------------------\n",
      "Question: what year did the sixth season of american idol first air ?\n",
      "Context: season six began on tuesday , january 16 , 2007 . the premiere drew a massive audience of 37 . 3 million viewers , peaking in the last half hour with more than 41 million viewers .\n",
      "Predicted Answer: january 16\n",
      "True Answer: 2007\n",
      "--------------------------------------------------\n",
      "Question: what category of hurricane was hazel ?\n",
      "Context: severe weather occurs regularly in north carolina . on the average , a hurricane hits the state once a decade . destructive hurricanes that have struck the state include hurricane fran , hurricane floyd , and hurricane hazel , the strongest storm to make landfall in the state , as a category 4 in 1954 . hurricane isabel stands out as the most damaging of the 21st century . tropical storms arrive every 3 or 4 years . in addition , many hurricanes and tropical storms graze the state . in some years , several hurricanes or tropical storms can directly strike the state or brush across the coastal areas . only florida and louisiana are hit by hurricanes more often . although many people believe that hurricanes menace only coastal areas , the rare hurricane which moves inland quickly enough can cause severe damage ; for example , in 1989 , hurricane hugo caused heavy damage in charlotte and even as far inland as the blue ridge mountains in the northwestern part of the state . on the average , north carolina has 50 days of thunderstorm activity per year , with some storms becoming severe enough to produce hail , flash floods , and damaging winds .\n",
      "Predicted Answer: carolina . on\n",
      "True Answer: 4\n",
      "--------------------------------------------------\n",
      "Question: how many times was american idol nominated for an emmy ?\n",
      "Context: american idol was nominated for the emmy ' s outstanding reality competition program for nine years but never won . director bruce gower won a primetime emmy award for outstanding directing for a variety , music or comedy series in 2009 , and the show won a creative arts emmys each in 2007 and 2008 , three in 2009 , and two in 2011 , as well as a governor ' s award in 2007 for its idol gives back edition . it won the people ' s choice award , which honors the popular culture of the previous year as voted by the public , for favorite competition / reality show in 2005 , 2006 , 2007 , 2010 , 2011 and 2012 . it won the first critics ' choice television award in 2011 for best reality competition .\n",
      "Predicted Answer: emmy\n",
      "True Answer: nine\n",
      "--------------------------------------------------\n",
      "Question: what percent of japanese troops died on okinawa ?\n",
      "Context: hard - fought battles on the japanese home islands of iwo jima , okinawa , and others resulted in horrific casualties on both sides but finally produced a japanese defeat . of the 117 , 000 japanese troops defending okinawa , 94 percent died . faced with the loss of most of their experienced pilots , the japanese increased their use of kamikaze tactics in an attempt to create unacceptably high casualties for the allies . the u . s . navy proposed to force a japanese surrender through a total naval blockade and air raids .\n",
      "Predicted Answer: \n",
      "True Answer: 94\n",
      "--------------------------------------------------\n",
      "Question: what creatures did bard experiment on ?\n",
      "Context: phillip bard contributed to the theory with his work on animals . bard found that sensory , motor , and physiological information all had to pass through the diencephalon ( particularly the thalamus ), before being subjected to any further processing . therefore , cannon also argued that it was not anatomically possible for sensory events to trigger a physiological response prior to triggering conscious awareness and emotional stimuli had to trigger both physiological and experiential aspects of emotion simultaneously .\n",
      "Predicted Answer: the diencephalon ( particularly the thalamus ), before being subjected to any further\n",
      "True Answer: animals\n",
      "--------------------------------------------------\n",
      "Question: in what year did the cost of uranium notably begin to increase ?\n",
      "Context: to be considered ' enriched ', the uranium - 235 fraction should be between 3 % and 5 %. this process produces huge quantities of uranium that is depleted of uranium - 235 and with a correspondingly increased fraction of uranium - 238 , called depleted uranium or ' du '. to be considered ' depleted ', the uranium - 235 isotope concentration should be no more than 0 . 3 %. the price of uranium has risen since 2001 , so enrichment tailings containing more than 0 . 35 % uranium - 235 are being considered for re - enrichment , driving the price of depleted uranium hexafluoride above $ 130 per kilogram in july 2007 from $ 5 in 2001 .\n",
      "Predicted Answer: uranium that is depleted of uranium - 235 and with a correspondingly increased fraction of uranium - 2\n",
      "True Answer: 2001\n",
      "--------------------------------------------------\n",
      "Question: how much of the subsidized bulk mail delivery program goes to carriers who offer passenger service ?\n",
      "Context: the bulk of remaining commercial flight offerings come from small regional commuter airlines such as ravn alaska , penair , and frontier flying service . the smallest towns and villages must rely on scheduled or chartered bush flying services using general aviation aircraft such as the cessna caravan , the most popular aircraft in use in the state . much of this service can be attributed to the alaska bypass mail program which subsidizes bulk mail delivery to alaskan rural communities . the program requires 70 % of that subsidy to go to carriers who offer passenger service to the communities .\n",
      "Predicted Answer: , and frontier flying service . the smallest towns and villages must\n",
      "True Answer: 70 %\n",
      "--------------------------------------------------\n",
      "Question: who created the eight banners ?\n",
      "Context: the early qing military was rooted in the eight banners first developed by nurhaci to organize jurchen society beyond petty clan affiliations . there were eight banners in all , differentiated by color . the yellow , bordered yellow , and white banners were known as the \" upper three banners \" and were under the direct command of the emperor . only manchus belonging to the upper three banners , and selected han chinese who had passed the highest level of martial exams could serve as the emperor ' s personal bodyguards . the remaining banners were known as the \" lower five banners .\" they were commanded by hereditary manchu princes descended from nurhachi ' s immediate family , known informally as the \" iron cap princes \". together they formed the ruling council of the manchu nation as well as high command of the army . nurhachi ' s son hong taiji expanded the system to include mirrored mongol and han banners . after capturing beijing in 1644 , the relatively small banner armies were further augmented by the green standard army , made up of those ming troops who had surrendered to the qing , which eventually outnumbered banner troops three to one . they maintained their ming era organization and were led by a mix of banner and green standard officers .[ citation needed ]\n",
      "Predicted Answer: the early qing military was rooted in the eight\n",
      "True Answer: nurhaci\n",
      "--------------------------------------------------\n",
      "Question: what is considered to be a typical food for a nanjing resident ?\n",
      "Context: the radish is also a typical food representing people of nanjing , which has been spread through word of mouth as an interesting fact for many years in china . according to nanjing . gov . cn , \" there is a long history of growing radish in nanjing especially the southern suburb . in the spring , the radish tastes very juicy and sweet . it is well - known that people in nanjing like eating radish . and the people are even addressed as ' nanjing big radish ', which means they are unsophisticated , passionate and conservative . from health perspective , eating radish can help to offset the stodgy food that people take during the spring festival \".\n",
      "Predicted Answer: the radish is also a typical food representing people of nanjing , which has been spread through word of mouth as an interesting fact for many\n",
      "True Answer: radish\n",
      "--------------------------------------------------\n",
      "Question: in what year did the nhl play against world hockey association teams ?\n",
      "Context: under the 1995 – 2004 national hockey league collective bargaining agreement , teams were limited to nine preseason games . from 1975 to 1991 , nhl teams sometimes played exhibition games against teams from the soviet union in the super series , and in 1978 , played against world hockey association teams also in preseason training . like the nfl , the nhl sometimes schedules exhibition games for cities without their own nhl teams , often at a club ' s minor league affiliate ( e . g . carolina hurricanes games at time warner cable arena in charlotte , home of their ahl affiliate ; los angeles kings games at citizens business bank arena in ontario , california , home of their echl affiliate ; montreal canadiens games at colisée pepsi in quebec city , which has no pro hockey but used to have an nhl team until 1995 ; washington capitals at 1st mariner arena in the baltimore hockey classic ; various western canada teams at credit union centre in saskatoon , a potential nhl expansion venue ). since the 2000s , some preseason games have been played in europe against european teams , as part of the nhl challenge and nhl premiere series . in addition to the standard preseason , there also exist prospect tournaments such as the vancouver canucks ' youngstars tournament and the detroit red wings ' training camp , in which nhl teams ' younger prospects face\n",
      "Predicted Answer: arg\n",
      "True Answer: 1978\n",
      "--------------------------------------------------\n",
      "Question: which channel aired ' terra nova '?\n",
      "Context: in 2011 , spielberg launched falling skies , a science fiction television series , on the tnt network . he developed the series with robert rodat and is credited as an executive producer . spielberg is also producing the fox tv series terra nova . terra nova begins in the year 2149 when all life on the planet earth is threatened with extinction resulting in scientists opening a door that allows people to travel back 85 million years to prehistoric times . spielberg also produced the river , smash , under the dome , extant and the whispers , as well as a tv adaptation of minority report .\n",
      "Predicted Answer: 2011 , spielberg launched falling skies , a science fiction television series , on the tnt network . he developed the series with robert rodat and is credited as an executive producer .\n",
      "True Answer: fox\n",
      "--------------------------------------------------\n",
      "Question: how many major medical centers are located in downtown new haven ?\n",
      "Context: the new haven area supports several medical facilities that are considered some of the best hospitals in the country . there are two major medical centers downtown : yale – new haven hospital has four pavilions , including the yale – new haven children ' s hospital and the smilow cancer hospital ; the hospital of saint raphael is several blocks north , and touts its excellent cardiac emergency care program . smaller downtown health facilities are the temple medical center located downtown on temple street , connecticut mental health center / across park street from y - nhh , and the hill health center , which serves the working - class hill neighborhood . a large veterans affairs hospital is located in neighboring west haven . to the west in milford is milford hospital , and to the north in meriden is the midstate medical center .\n",
      "Predicted Answer: \n",
      "True Answer: two\n",
      "--------------------------------------------------\n",
      "Question: for how many reasons did burke oppose democracy ?\n",
      "Context: burke was a leading sceptic with respect to democracy . while admitting that theoretically , in some cases it might be desirable , he insisted a democratic government in britain in his day would not only be inept , but also oppressive . he opposed democracy for three basic reasons . first , government required a degree of intelligence and breadth of knowledge of the sort that occurred rarely among the common people . second , he thought that if they had the vote , common people had dangerous and angry passions that could be aroused easily by demagogues ; he feared that the authoritarian impulses that could be empowered by these passions would undermine cherished traditions and established religion , leading to violence and confiscation of property . third , burke warned that democracy would create a tyranny over unpopular minorities , who needed the protection of the upper classes .\n",
      "Predicted Answer: burke was a leading sceptic with respect to democracy . while admitting that theoretically , in some cases it might be desirable , he insisted a\n",
      "True Answer: three\n",
      "--------------------------------------------------\n",
      "Question: from the 10 of november to the 24 of november how many sermons were actually delivered to the\n",
      "Context: during his period in milan , montini was known as a progressive member of the catholic hierarchy . montini went new ways in pastoral care , which he reformed . he used his authority to ensure that the liturgical reforms of pius xii were carried out at the local level and employed innovative methods to reach the people of milan : huge posters announced that 1 , 000 voices would speak to them from 10 to 24 november 1957 . more than 500 priests and many bishops , cardinals and lay persons delivered 7 , 000 sermons in the period not only in churches but in factories , meeting halls , houses , courtyards , schools , offices , military barracks , hospitals , hotels and other places , where people meet . his goal was the re - introduction of faith to a city without much religion . \" if only we can say our father and know what this means , then we would understand the christian faith .\"\n",
      "Predicted Answer: y . montini went new ways in pastoral care , which he reformed . he used\n",
      "True Answer: 7 , 000\n",
      "--------------------------------------------------\n",
      "Question: what temperature effect causes drought ?\n",
      "Context: tuvalu experiences the effects of el niño and la niña caused by changes in ocean temperatures in the equatorial and central pacific . el niño effects increase the chances of tropical storms and cyclones , while la niña effects increase the chances of drought . typically the islands of tuvalu receive between 200 to 400 mm ( 8 to 16 in ) of rainfall per month . however , in 2011 a weak la niña effect caused a drought by cooling the surface of the sea around tuvalu . a state of emergency was declared on 28 september 2011 ; with rationing of fresh - water on the islands of funafuti and nukulaelae . households on funafuti and nukulaelae were restricted to two buckets of fresh water per day ( 40 litres ).\n",
      "Predicted Answer: \n",
      "True Answer: la niña\n",
      "--------------------------------------------------\n",
      "Question: on which continent other than europe is the premier league especially popular ?\n",
      "Context: the premier league is particularly popular in asia , where it is the most widely distributed sports programme . in australia , fox sports broadcasts almost all of the season ' s 380 matches live , and foxtel gives subscribers the option of selecting which saturday 3pm match to watch . in india , the matches are broadcast live on star sports . in china , the broadcast rights were awarded to super sports in a six - year agreement that began in the 2013 – 14 season . as of the 2013 – 14 season , canadian broadcast rights to the premier league are jointly owned by sportsnet and tsn , with both rival networks holding rights to 190 matches per season .\n",
      "Predicted Answer: in asia\n",
      "True Answer: asia\n",
      "--------------------------------------------------\n",
      "Question: some historians counter that napolean iii sought what ?\n",
      "Context: some historians argue that napoleon iii also sought war , particularly for the diplomatic defeat in 1866 in leveraging any benefits from the austro - prussian war , and he believed he would win a conflict with prussia . they also argue that he wanted a war to resolve growing domestic political problems . other historians , notably french historian pierre milza , dispute this . on 8 may 1870 , shortly before the war , french voters had overwhelmingly supported napoleon iii ' s program in a national plebiscite , with 7 , 358 , 000 votes yes against 1 , 582 , 000 votes no , an increase of support of two million votes since the legislative elections in 1869 . according to milza , the emperor had no need for a war to increase his popularity .\n",
      "Predicted Answer: some historians argue that napoleon iii also sought war , particularly for the\n",
      "True Answer: war\n",
      "--------------------------------------------------\n",
      "Question: in what country is the beer oshikundu produced ?\n",
      "Context: around the world , there are many traditional and ancient starch - based drinks classed as beer . in africa , there are various ethnic beers made from sorghum or millet , such as oshikundu in namibia and tella in ethiopia . kyrgyzstan also has a beer made from millet ; it is a low alcohol , somewhat porridge - like drink called \" bozo \". bhutan , nepal , tibet and sikkim also use millet in chhaang , a popular semi - fermented rice / millet drink in the eastern himalayas . further east in china are found huangjiu and choujiu — traditional rice - based beverages related to beer .\n",
      "Predicted Answer: there\n",
      "True Answer: namibia\n",
      "--------------------------------------------------\n",
      "Question: how many public schools are regulated by the 1868 public schools act ?\n",
      "Context: eton is one of ten english hmc schools , commonly referred to as \" public schools \", regulated by the public schools act of 1868 . following the public school tradition , eton is a full boarding school , which means all pupils live at the school , and it is one of four such remaining single - sex boys ' public schools in the united kingdom ( the others being harrow , radley , and winchester ) to continue this practice . eton has educated 19 british prime ministers and generations of the aristocracy and has been referred to as the chief nurse of england ' s statesmen . charging up to £ 11 , 478 per term ( there are three terms per academic year ) in 2014 / 15 , eton is the sixth most expensive hmc boarding school in the uk .\n",
      "Predicted Answer: ten english hmc schools , commonly referred to as \" public schools \", regulated by the public schools act of 186\n",
      "True Answer: ten\n",
      "--------------------------------------------------\n",
      "Question: when did the faa change it ' s long - standing approach to air traffic control candidates ?\n",
      "Context: in 2014 , the faa changed a long - standing approach to air traffic control candidates that eliminated preferences based on training and experience at flight schools in favor of a personality test open to anyone irrespective of experience . the move was made to increase flight traffic controller racial diversity . before the change , candidates who had completed coursework at participating colleges and universities could be \" fast - tracked \" for consideration . the agency eliminated that program and instead switched to an open system to the general public , with no need for any experience or even a college degree . instead , applicants could take \" a biographical questionnaire \" that many applicants found baffling .\n",
      "Predicted Answer: 2014\n",
      "True Answer: 2014\n",
      "--------------------------------------------------\n",
      "Question: where was rabbi samson raphael hirsch from ?\n",
      "Context: in reaction to the emergence of reform judaism , a group of traditionalist german jews emerged in support of some of the values of the haskalah , but also wanted to defend the classic , traditional interpretation of jewish law and tradition . this group was led by those who opposed the establishment of a new temple in hamburg , as reflected in the booklet \" ele divrei haberit \". as a group of reform rabbis convened in braunschweig , rabbi jacob ettlinger of altona published a manifesto entitled \" shlomei emunei yisrael \" in german and hebrew , having 177 rabbis sign on . at this time the first orthodox jewish periodical , \" der treue zions waechter \", was launched with the hebrew supplement \" shomer zion hane ' eman \" [ 1845 - 1855 ]. in later years it was rav ettlinger ' s students rabbi samson raphael hirsch and rabbi azriel hildesheimer of berlin who deepened the awareness and strength of orthodox jewry . rabbi samson raphael hirsch commented in 1854 :\n",
      "Predicted Answer: the\n",
      "True Answer: berlin\n",
      "--------------------------------------------------\n",
      "Question: in what year was paul vi ' s final counsel session ?\n",
      "Context: between the third and fourth sessions the pope announced reforms in the areas of roman curia , revision of canon law , regulations for mixed marriages involving several faiths , and birth control issues . he opened the final session of the council , concelebrating with bishops from countries where the church was persecuted . several texts proposed for his approval had to be changed . but all texts were finally agreed upon . the council was concluded on 8 december 1965 , the feast of the immaculate conception .\n",
      "Predicted Answer: \n",
      "True Answer: 1965\n",
      "--------------------------------------------------\n",
      "Question: for how long after arsenal ' s first trophy win the team do poorly competitions ?\n",
      "Context: arsenal began winning silverware again with the surprise appointment of club physiotherapist bertie mee as manager in 1966 . after losing two league cup finals , they won their first european trophy , the 1969 – 70 inter - cities fairs cup . this was followed by an even greater triumph : their first league and fa cup double in 1970 – 71 . this marked a premature high point of the decade ; the double - winning side was soon broken up and the following decade was characterised by a series of near misses , starting with arsenal finishing as fa cup runners up in 1972 , and first division runners - up in 1972 – 73 .\n",
      "Predicted Answer: won their first european\n",
      "True Answer: decade\n",
      "--------------------------------------------------\n",
      "Question: how many troops had the japanese lost ?\n",
      "Context: as many japanese had feared , japan ' s supply arrangements could not maintain her forces . once mutaguchi ' s hopes for an early victory were thwarted , his troops , particularly those at kohima , starved . during may , while mutaguchi continued to order attacks , the allies advanced southwards from kohima and northwards from imphal . the two allied attacks met on 22 june , breaking the japanese siege of imphal . the japanese finally broke off the operation on 3 july . they had lost over 50 , 000 troops , mainly to starvation and disease . this represented the worst defeat suffered by the japanese army to that date .[ citation needed ]\n",
      "Predicted Answer: \n",
      "True Answer: 50 , 000\n",
      "--------------------------------------------------\n",
      "Question: what does the aaa feel is incompatible with working with the military ?\n",
      "Context: anthropologists , along with other social scientists , are working with the us military as part of the us army ' s strategy in afghanistan . the christian science monitor reports that \" counterinsurgency efforts focus on better grasping and meeting local needs \" in afghanistan , under the human terrain system ( hts ) program ; in addition , hts teams are working with the us military in iraq . in 2009 , the american anthropological association ' s commission on the engagement of anthropology with the us security and intelligence communities released its final report concluding , in part , that , \" when ethnographic investigation is determined by military missions , not subject to external review , where data collection occurs in the context of war , integrated into the goals of counterinsurgency , and in a potentially coercive environment – all characteristic factors of the hts concept and its application – it can no longer be considered a legitimate professional exercise of anthropology . in summary , while we stress that constructive engagement between anthropology and the military is possible , ceaussic suggests that the aaa emphasize the incompatibility of hts with disciplinary ethics and practice for job seekers and that it further recognize the problem of allowing hts to define the meaning of \" anthropology \" within dod .\"\n",
      "Predicted Answer: anthropologists , along with other social scientists , are working with the us military as part of the us army ' s strategy in afghanistan . the christian science monitor reports that \" counterinsurgency efforts focus on better grasping and meeting local needs \" in afghanistan , under the human terrain system ( hts ) program ; in addition , hts teams are working with the us military in iraq . in 2009 , the american anthropological association ' s commission\n",
      "True Answer: ethics\n",
      "--------------------------------------------------\n",
      "Question: how is the latin small letter e represented in unicode ?\n",
      "Context: unicode includes a mechanism for modifying character shape that greatly extends the supported glyph repertoire . this covers the use of combining diacritical marks . they are inserted after the main character . multiple combining diacritics may be stacked over the same character . unicode also contains precomposed versions of most letter / diacritic combinations in normal use . these make conversion to and from legacy encodings simpler , and allow applications to use unicode as an internal text format without having to implement combining characters . for example , é can be represented in unicode as u + 0065 ( latin small letter e ) followed by u + 0301 ( combining acute accent ), but it can also be represented as the precomposed character u + 00e9 ( latin small letter e with acute ). thus , in many cases , users have multiple ways of encoding the same character . to deal with this , unicode provides the mechanism of canonical equivalence .\n",
      "Predicted Answer: unicode includes a mechanism for modifying character shape that greatly extends the supported glyph repertoire . this covers the use of combining diacritical marks . they are inserted after the main character . multiple combining diacritics may be stacked over the same character . unicode also contains precomposed versions of most letter / diacritic combinations in normal use . these make conversion to and from legacy\n",
      "True Answer: u + 0065\n",
      "--------------------------------------------------\n",
      "Question: when were intergender singles bouts fought on a national scale ?\n",
      "Context: intergender singles bouts were first fought on a national level in the 1990s . this began with luna vachon , who faced men in ecw and wwf . later , chyna became the first female to hold a belt that was not exclusive to women when she won the intercontinental championship . while it is a rare feat in wwe , in tna , odb participates in singles intergender matches . also , odb ' s kayfabe husband and tag team partner eric young held the knockouts tag team championship for a record 478 days before it was stripped by brooke hogan because young was a male .\n",
      "Predicted Answer: wf . later , chyna became the first female to hold a belt that was not exclusive to\n",
      "True Answer: 1990s\n",
      "--------------------------------------------------\n",
      "Question: how many children died in the oklahoma city bombing ?\n",
      "Context: in 1995 , oklahoma city was the site of one of the most destructive acts of domestic terrorism in american history . the oklahoma city bombing of april 19 , 1995 , in which timothy mcveigh and terry nichols detonated an explosive outside of the alfred p . murrah federal building , killed 168 people , including 19 children . the two men were convicted of the bombing : mcveigh was sentenced to death and executed by the federal government on june 11 , 2001 ; his partner nichols is serving a sentence of life in prison without the possibility of parole . mcveigh ' s army buddy , michael fortier , was sentenced to 12 years in federal prison and ordered to pay a $ 75 , 000 fine for his role in the bombing plot ( i . e . assisting in the sale of guns to raise funds for the bombing , and examining the murrah federal building as a possible target before the terrorist attack ). his wife , lori fortier , who has since died , was granted immunity from prosecution in return for her testimony in the case .\n",
      "Predicted Answer: 1995 ,\n",
      "True Answer: 19\n",
      "--------------------------------------------------\n",
      "Question: what provides refuge by preserving the authentic teachings of the buddha ?\n",
      "Context: according to the scriptures , gautama buddha presented himself as a model . the dharma offers a refuge by providing guidelines for the alleviation of suffering and the attainment of nirvana . the sangha is considered to provide a refuge by preserving the authentic teachings of the buddha and providing further examples that the truth of the buddha ' s teachings is attainable .\n",
      "Predicted Answer: \n",
      "True Answer: sangha\n",
      "--------------------------------------------------\n",
      "Question: when was the roman empire split into western and eastern administrative divisions ?\n",
      "Context: the emperor diocletian ( r . 284 – 305 ) split the empire into separately administered eastern and western halves in 286 ; the empire was not considered divided by its inhabitants or rulers , as legal and administrative promulgations in one division were considered valid in the other .[ c ] in 330 , after a period of civil war , constantine the great ( r . 306 – 337 ) refounded the city of byzantium as the newly renamed eastern capital , constantinople . diocletian ' s reforms strengthened the governmental bureaucracy , reformed taxation , and strengthened the army , which bought the empire time but did not resolve the problems it was facing : excessive taxation , a declining birthrate , and pressures on its frontiers , among others . civil war between rival emperors became common in the middle of the 4th century , diverting soldiers from the empire ' s frontier forces and allowing invaders to encroach . for much of the 4th century , roman society stabilised in a new form that differed from the earlier classical period , with a widening gulf between the rich and poor , and a decline in the vitality of the smaller towns . another change was the christianisation , or conversion of the empire to christianity , a gradual process that lasted from the 2nd to the 5th centuries .\n",
      "Predicted Answer: \n",
      "True Answer: 286\n",
      "--------------------------------------------------\n",
      "Question: nyc ' s fashion industry employs how many people ?\n",
      "Context: as of 2013 , the global advertising agencies of omnicom group and interpublic group , both based in manhattan , had combined annual revenues of approximately us $ 21 billion , reflecting new york city ' s role as the top global center for the advertising industry , which is metonymously referred to as \" madison avenue \". the city ' s fashion industry provides approximately 180 , 000 employees with $ 11 billion in annual wages .\n",
      "Predicted Answer: \n",
      "True Answer: 180 , 000\n",
      "--------------------------------------------------\n",
      "Question: when did secondary education emerge in the united states ?\n",
      "Context: secondary education in the united states did not emerge until 1910 , with the rise of large corporations and advancing technology in factories , which required skilled workers . in order to meet this new job demand , high schools were created , with a curriculum focused on practical job skills that would better prepare students for white collar or skilled blue collar work . this proved beneficial for both employers and employees , since the improved human capital lowered costs for the employer , while skilled employees received a higher wages .\n",
      "Predicted Answer: 1910\n",
      "True Answer: 1910\n",
      "--------------------------------------------------\n",
      "Question: the spread of all things greek provided what for the interpretation of rome ' s religions ?\n",
      "Context: the spread of greek literature , mythology and philosophy offered roman poets and antiquarians a model for the interpretation of rome ' s festivals and rituals , and the embellishment of its mythology . ennius translated the work of graeco - sicilian euhemerus , who explained the genesis of the gods as apotheosized mortals . in the last century of the republic , epicurean and particularly stoic interpretations were a preoccupation of the literate elite , most of whom held - or had held - high office and traditional roman priesthoods ; notably , scaevola and the polymath varro . for varro - well versed in euhemerus ' theory - popular religious observance was based on a necessary fiction ; what the people believed was not itself the truth , but their observance led them to as much higher truth as their limited capacity could deal with . whereas in popular belief deities held power over mortal lives , the skeptic might say that mortal devotion had made gods of mortals , and these same gods were only sustained by devotion and cult .\n",
      "Predicted Answer: the spread of greek literature , mythology and philosophy offered roman poets and antiquarians a model for the interpretation of rome ' s festivals and rituals , and the embellishment of its mythology . ennius translated the work of graeco - sicilian euhemerus , who explained the genesis of the gods as apotheosized mortals . in the last century of the republic , epicure\n",
      "True Answer: model\n",
      "--------------------------------------------------\n",
      "Question: what is the sixth most populous city of iran ?\n",
      "Context: shiraz , with a population of around 1 . 4 million ( 2011 census ), is the sixth major city of iran . it is the capital of fars province , and was also a former capital of iran . the area was greatly influenced by the babylonian civilization , and after the emergence of the ancient persians , soon came to be known as persis . persians were present in the region since the 9th century bc , and became rulers of a large empire under the reign of the achaemenid dynasty in the 6th century bc . the ruins of persepolis and pasargadae , two of the four capitals of the achaemenid empire , are located around the modern - day city of shiraz .\n",
      "Predicted Answer: shiraz , with a population of around 1\n",
      "True Answer: shiraz\n",
      "--------------------------------------------------\n",
      "Question: the international deal between the us , other countries , and what controversial nation is not a treaty ?\n",
      "Context: currently , international agreements are executed by executive agreement rather than treaties at a rate of 10 : 1 . despite the relative ease of executive agreements , the president still often chooses to pursue the formal treaty process over an executive agreement in order to gain congressional support on matters that require the congress to pass implementing legislation or appropriate funds , and those agreements that impose long - term , complex legal obligations on the united states . for example , the deal by the united states , iran and other countries is not a treaty .\n",
      "Predicted Answer: choos\n",
      "True Answer: iran\n",
      "--------------------------------------------------\n",
      "Question: when did the great famine happen ?\n",
      "Context: during the british raj , famines in india , often attributed to failed government policies , were some of the worst ever recorded , including the great famine of 1876 – 78 in which 6 . 1 million to 10 . 3 million people died and the indian famine of 1899 – 1900 in which 1 . 25 to 10 million people died . the third plague pandemic in the mid - 19th century killed 10 million people in india . despite persistent diseases and famines , the population of the indian subcontinent , which stood at about 125 million in 1750 , had reached 389 million by 1941 .\n",
      "Predicted Answer: ine of\n",
      "True Answer: 1876 – 78\n",
      "--------------------------------------------------\n",
      "Question: in what country was the model constitution of 1791 in effect for only one year ?\n",
      "Context: in several nations , rulers welcomed leaders of the enlightenment at court and asked them to help design laws and programs to reform the system , typically to build stronger national states . these rulers are called \" enlightened despots \" by historians . they included frederick the great of prussia , catherine the great of russia , leopold ii of tuscany , and joseph ii of austria . joseph was over - enthusiastic , announcing so many reforms that had so little support that revolts broke out and his regime became a comedy of errors and nearly all his programs were reversed . senior ministers pombal in portugal and struensee in denmark also governed according to enlightenment ideals . in poland , the model constitution of 1791 expressed enlightenment ideals , but was in effect for only one year as the nation was partitioned among its neighbors . more enduring were the cultural achievements , which created a nationalist spirit in poland .\n",
      "Predicted Answer: are called \" enlighten\n",
      "True Answer: poland\n",
      "--------------------------------------------------\n",
      "Question: when did prince and smolensky develop their theory ?\n",
      "Context: in a course at the lsa summer institute in 1991 , alan prince and paul smolensky developed optimality theory — an overall architecture for phonology according to which languages choose a pronunciation of a word that best satisfies a list of constraints ordered by importance ; a lower - ranked constraint can be violated when the violation is necessary in order to obey a higher - ranked constraint . the approach was soon extended to morphology by john mccarthy and alan prince , and has become a dominant trend in phonology . the appeal to phonetic grounding of constraints and representational elements ( e . g . features ) in various approaches has been criticized by proponents of ' substance - free phonology ', especially mark hale and charles reiss .\n",
      "Predicted Answer: institute in 1991 ,\n",
      "True Answer: 1991\n",
      "--------------------------------------------------\n",
      "Question: who did the organizers want to arrest ?\n",
      "Context: thousands of muscovites came out to defend the white house ( the russian federation ' s parliament and yeltsin ' s office ), the symbolic seat of russian sovereignty at the time . the organizers tried but ultimately failed to arrest yeltsin , who rallied opposition to the coup with speech - making atop a tank . the special forces dispatched by the coup leaders took up positions near the white house , but members refused to storm the barricaded building . the coup leaders also neglected to jam foreign news broadcasts , so many muscovites watched it unfold live on cnn . even the isolated gorbachev was able to stay abreast of developments by tuning into bbc world service on a small transistor radio .\n",
      "Predicted Answer: \n",
      "True Answer: yeltsin\n",
      "--------------------------------------------------\n",
      "Question: what is consumed in excessive amounts during lent ?\n",
      "Context: carnival ( see other spellings and names ) is a christian festive season that occurs before the christian season of lent . the main events typically occur during february or early march , during the period historically known as shrovetide ( or pre - lent ). carnival typically involves a public celebration and / or parade combining some elements of a circus , masks and public street party . people wear masks and costumes during many such celebrations , allowing them to lose their everyday individuality and experience a heightened sense of social unity . excessive consumption of alcohol , meat , and other foods proscribed during lent is extremely common . other common features of carnival include mock battles such as food fights ; social satire and mockery of authorities ; the grotesque body displaying exaggerated features especially large noses , bellies , mouths , and phalli or elements of animal bodies ; abusive language and degrading acts ; depictions of disease and gleeful death ; and a general reversal of everyday rules and norms .\n",
      "Predicted Answer: carnival ( see other spellings and names ) is a christian festive season that occurs before the christian season of lent . the main events typically occur during february or early march , during the period historically known as shrovetide ( or pre - lent ). carnival typically involves a public celebration and / or parade combining some elements of a circus , masks and public street party . people wear masks and costumes during\n",
      "True Answer: alcohol\n",
      "--------------------------------------------------\n",
      "Question: what is the name of beyoncé ' s second album ?\n",
      "Context: beyoncé ' s second solo album b ' day was released on september 5 , 2006 , in the us , to coincide with her twenty - fifth birthday . it sold 541 , 000 copies in its first week and debuted atop the billboard 200 , becoming beyoncé ' s second consecutive number - one album in the united states . the album ' s lead single \" déjà vu \", featuring jay z , reached the top five on the billboard hot 100 chart . the second international single \" irreplaceable \" was a commercial success worldwide , reaching number one in australia , hungary , ireland , new zealand and the united states . b ' day also produced three other singles ; \" ring the alarm \", \" get me bodied \", and \" green light \" ( released in the united kingdom only ).\n",
      "Predicted Answer: beyoncé ' s second solo album b ' day was released on september\n",
      "True Answer: b ' day\n",
      "--------------------------------------------------\n",
      "Question: was french society open or fearful of female participation in the literary sphere during the enlightenment ?\n",
      "Context: many women played an essential part in the french enlightenment , due to the role they played as salonnières in parisian salons , as the contrast to the male philosophes . the salon was the principal social institution of the republic , and \" became the civil working spaces of the project of enlightenment .\" women , as salonnières , were \" the legitimate governors of [ the ] potentially unruly discourse \" that took place within . while women were marginalized in the public culture of the ancien régime , the french revolution destroyed the old cultural and economic restraints of patronage and corporatism ( guilds ), opening french society to female participation , particularly in the literary sphere .\n",
      "Predicted Answer: \n",
      "True Answer: open\n",
      "--------------------------------------------------\n",
      "Question: how many credits were needed for an m . sc . from a traditional university prior to the b\n",
      "Context: universities of technology are academically similar to other ( non - polytechnic ) universities . prior to bologna process , m . sc . ( tech .) required 180 credits , whereas m . sc . from a normal university required 160 credits . the credits between universities of technology and normal universities are comparable .\n",
      "Predicted Answer: , whereas m .\n",
      "True Answer: 160\n",
      "--------------------------------------------------\n",
      "Question: what is the usual mean temperature in houston ?\n",
      "Context: houston has mild winters in contrast to most areas of the united states . in january , the normal mean temperature at intercontinental airport is 53 . 1 ° f ( 11 . 7 ° c ), while that station has an average of 13 days with a low at or below freezing . snowfall is rare . recent snow events in houston include a storm on december 24 , 2004 when one inch ( 2 . 5 cm ) of snow accumulated in parts of the metro area . falls of at least one inch on both december 10 , 2008 and december 4 , 2009 marked the first time measurable snowfall had occurred in two consecutive years in the city ' s recorded history . the coldest temperature officially recorded in houston was 5 ° f (− 15 ° c ) on january 18 , 1940 . houston has historically received an ample amount of rainfall , averaging about 49 . 8 in ( 1 , 260 mm ) annually per 1981 – 2010 normals . localized flooding often occurs , owing to the extremely flat topography and widespread typical clay - silt prairie soils , which do not drain quickly .\n",
      "Predicted Answer: houston has mild winters in contrast to most\n",
      "True Answer: 53 . 1 °\n",
      "--------------------------------------------------\n",
      "Question: when was the case against the gang of four ?\n",
      "Context: several political figures who served as zhejiang ' s top political office of communist party secretary have played key roles in various events in prc history . tan zhenlin ( term 1949 - 1952 ), the inaugural party secretary , was one of the leading voices against mao ' s cultural revolution during the so - called february countercurrent of 1967 . jiang hua ( term 1956 - 1968 ), was the \" chief justice \" on the special court in the case against the gang of four in 1980 . three provincial party secretaries since the 1990s have gone onto prominence at the national level . they include cpc general secretary and president xi jinping ( term 2002 - 2007 ), national people ' s congress chairman and former vice - premier zhang dejiang ( term 1998 - 2002 ), and zhao hongzhu ( term 2007 - 2012 ), the deputy secretary of the central commission for discipline inspection , china ' s top anti - corruption body . of zhejiang ' s fourteen party secretaries since 1949 , none were native to the province .\n",
      "Predicted Answer: henlin ( term 1949 - 1952 ), the inaugural party secretary , was one of the leading voices against mao\n",
      "True Answer: 1980\n",
      "--------------------------------------------------\n",
      "Question: when was the people ' s republic of china founded ?\n",
      "Context: throughout history there have been a series of lingua francas in the area to allow for better communication . the dialects spoken in hangzhou , shaoxing , and ningbo have taken on this role historically . since the founding of the people ' s republic of china in 1949 , mandarin , which is not mutually intelligible with any of the local dialects , has been promoted as the standard language of communication throughout china . as a result , most of the population now can , to some degree , speak and comprehend mandarin and can code - switch when necessary . a majority of the population educated since 1978 can speak mandarin . urban residents tend to be more fluent in mandarin than rural people . nevertheless , a zhejiang accent is detectable in almost everyone from the area communicating in mandarin , and the home dialect remains an important part of the everyday lives and cultural identities of most zhejiang residents .\n",
      "Predicted Answer: ningbo have taken on this role historically . since the founding of the people ' s republic of china\n",
      "True Answer: 1949\n",
      "--------------------------------------------------\n",
      "Question: how many questions does the saso contain ?\n",
      "Context: the saso consists of 12 questions . six of these questions assess sexual attraction , four assess sexual behavior , and two assess sexual orientation identity . for each question on the scale that measures homosexuality there is a corresponding question that measures heterosexuality giving six matching pairs of questions . taken all together , the six pairs of questions and responses provide a profile of an individual ' s sexual orientation . however , results can be further simplified into four summaries that look specifically at responses that correspond to either homosexuality , heterosexuality , bisexuality or asexuality .\n",
      "Predicted Answer: 12 questions . six\n",
      "True Answer: 12\n",
      "--------------------------------------------------\n",
      "Question: roughly how many same - sex couples were there ?\n",
      "Context: there were 46 , 917 households , out of which 7 , 835 ( 16 . 7 %) had children under the age of 18 living in them , 13 , 092 ( 27 . 9 %) were opposite - sex married couples living together , 3 , 510 ( 7 . 5 %) had a female householder with no husband present , 1 , 327 ( 2 . 8 %) had a male householder with no wife present . there were 2 , 867 ( 6 . 1 %) unmarried opposite - sex partnerships , and 416 ( 0 . 9 %) same - sex married couples or partnerships . 22 , 716 households ( 48 . 4 %) were made up of individuals and 5 , 551 ( 11 . 8 %) had someone living alone who was 65 years of age or older . the average household size was 1 . 87 . there were 17 , 929 families ( 38 . 2 % of all households ); the average family size was 2 . 79 .\n",
      "Predicted Answer: 46\n",
      "True Answer: 416\n",
      "--------------------------------------------------\n",
      "Question: what year was the university of california , berkeley ' s instutute of human development founded\n",
      "Context: jean macfarlane founded the university of california , berkeley ' s institute of human development , formerly called the institute of child welfare , in 1927 . the institute was instrumental in initiating studies of healthy development , in contrast to previous work that had been dominated by theories based on pathological personalities . the studies looked at human development during the great depression and world war ii , unique historical circumstances under which a generation of children grew up . the oakland growth study , initiated by harold jones and herbert stolz in 1931 , aimed to study the physical , intellectual , and social development of children in the oakland area . data collection began in 1932 and continued until 1981 , allowing the researchers to gather longitudinal data on the individuals that extended past adolescence into adulthood . jean macfarlane launched the berkeley guidance study , which examined the development of children in terms of their socioeconomic and family backgrounds . these studies provided the background for glen elder in the 1960s , to propose a life - course perspective of adolescent development . elder formulated several descriptive principles of adolescent development . the principle of historical time and place states that an individual ' s development is shaped by the period and location in which they grow up . the principle of the importance of timing in one ' s life refers to the different impact that life events have on development based on when in one ' s life they occur . the idea of linked lives states that one ' s development is\n",
      "Predicted Answer: s institute of human development , formerly called the institute of child welfare , in 1927 . the\n",
      "True Answer: 1927\n",
      "--------------------------------------------------\n",
      "Question: what year was nhk color created ?\n",
      "Context: the nippon hōsō kyōkai ( nhk , the japan broadcasting corporation ) began conducting research to \" unlock the fundamental mechanism of video and sound interactions with the five human senses \" in 1964 , after the tokyo olympics . nhk set out to create an hdtv system that ended up scoring much higher in subjective tests than ntsc ' s previously dubbed \" hdtv \". this new system , nhk color , created in 1972 , included 1125 lines , a 5 : 3 aspect ratio and 60 hz refresh rate . the society of motion picture and television engineers ( smpte ), headed by charles ginsburg , became the testing and study authority for hdtv technology in the international theater . smpte would test hdtv systems from different companies from every conceivable perspective , but the problem of combining the different formats plagued the technology for many years .\n",
      "Predicted Answer: the japan broadcasting corporation ) began conducting research to \" unlock the fundamental mechanism of video and sound interactions with the five human senses \" in 1964 , after the tokyo olympics\n",
      "True Answer: 1972\n",
      "--------------------------------------------------\n",
      "Question: which soldiers were in high demand under the mercenary system ?\n",
      "Context: changes also took place within the recruitment and composition of armies . the use of the national or feudal levy was gradually replaced by paid troops of domestic retinues or foreign mercenaries . the practice was associated with edward iii of england and the condottieri of the italian city - states . all over europe , swiss soldiers were in particularly high demand . at the same time , the period also saw the emergence of the first permanent armies . it was in valois france , under the heavy demands of the hundred years ' war , that the armed forces gradually assumed a permanent nature .\n",
      "Predicted Answer: \n",
      "True Answer: swiss\n",
      "--------------------------------------------------\n",
      "Question: when was michigan ' s fourth constitution ratified ?\n",
      "Context: several states have never had capital punishment , the first being michigan , which abolished it shortly after entering the union . ( however , the united states government executed tony chebatoris at the federal correctional institution in milan , michigan in 1938 .) article 4 , section 46 of michigan ' s fourth constitution ( ratified in 1963 ; effective in 1964 ) prohibits any law providing for the penalty of death . attempts to change the provision have failed . in 2004 , a constitutional amendment proposed to allow capital punishment in some circumstances failed to make it on the november ballot after a resolution failed in the legislature and a public initiative failed to gather enough signatures .\n",
      "Predicted Answer: chebatoris at the federal correctional institution in milan , michigan in 1938 .) article 4 ,\n",
      "True Answer: 1963\n",
      "--------------------------------------------------\n",
      "Question: what percentage of tuberculosis infections don ' t ever manifest in symptoms of the disease ?\n",
      "Context: if a tuberculosis infection does become active , it most commonly involves the lungs ( in about 90 % of cases ). symptoms may include chest pain and a prolonged cough producing sputum . about 25 % of people may not have any symptoms ( i . e . they remain \" asymptomatic \"). occasionally , people may cough up blood in small amounts , and in very rare cases , the infection may erode into the pulmonary artery or a rasmussen ' s aneurysm , resulting in massive bleeding . tuberculosis may become a chronic illness and cause extensive scarring in the upper lobes of the lungs . the upper lung lobes are more frequently affected by tuberculosis than the lower ones . the reason for this difference is not clear . it may be due either to better air flow , or to poor lymph drainage within the upper lungs .\n",
      "Predicted Answer: if a tuberculosis infection does become active , it most commonly involves the\n",
      "True Answer: 25 %\n",
      "--------------------------------------------------\n",
      "Question: when did france attack prussia ?\n",
      "Context: in 1870 , after france attacked prussia , prussia and its new allies in southern germany ( among them bavaria ) were victorious in the franco - prussian war . it created the german empire in 1871 as a german nation - state , effectively excluding the multi - ethnic austrian habsburg monarchy and liechtenstein . integrating the austrians nevertheless remained a strong desire for many people of germany and austria , especially among the liberals , the social democrats and also the catholics who were a minority within the protestant germany .\n",
      "Predicted Answer: 187\n",
      "True Answer: 1870\n",
      "--------------------------------------------------\n",
      "Question: are knots usually lighter or darker than the surrounding wood ?\n",
      "Context: a knot is a particular type of imperfection in a piece of wood ; it will affect the technical properties of the wood , usually reducing the local strength and increasing the tendency for splitting along the wood grain , but may be exploited for visual effect . in a longitudinally sawn plank , a knot will appear as a roughly circular \" solid \" ( usually darker ) piece of wood around which the grain of the rest of the wood \" flows \" ( parts and rejoins ). within a knot , the direction of the wood ( grain direction ) is up to 90 degrees different from the grain direction of the regular wood .\n",
      "Predicted Answer: increasing the\n",
      "True Answer: darker\n",
      "--------------------------------------------------\n",
      "Question: who is a mythical seeress of anatoian origin ?\n",
      "Context: the old oracles in delphi seem to be connected with a local tradition of the priesthood , and there is not clear evidence that a kind of inspiration - prophecy existed in the temple . this led some scholars to the conclusion that pythia carried on the rituals in a consistent procedure through many centuries , according to the local tradition . in that regard , the mythical seeress sibyl of anatolian origin , with her ecstatic art , looks unrelated to the oracle itself . however , the greek tradition is referring to the existence of vapours and chewing of laurel - leaves , which seem to be confirmed by recent studies .\n",
      "Predicted Answer: \n",
      "True Answer: sibyl\n",
      "--------------------------------------------------\n",
      "Question: in what year did low scores of black firefighters on a promotion test issued by the new haven fire\n",
      "Context: in april 2009 , the united states supreme court agreed to hear a suit over reverse discrimination brought by 18 white firefighters against the city . the suit involved the 2003 promotion test for the new haven fire department . after the tests were scored , no black firefighters scored high enough to qualify for consideration for promotion , so the city announced that no one would be promoted . in the subsequent ricci v . destefano decision the court found 5 - 4 that new haven ' s decision to ignore the test results violated title vii of the civil rights act of 1964 . as a result , a district court subsequently ordered the city to promote 14 of the white firefighters .\n",
      "Predicted Answer: april\n",
      "True Answer: 2003\n",
      "--------------------------------------------------\n",
      "Question: in what year did mstislavich defeat the kiev ?\n",
      "Context: to the southwest , the principality of halych had developed trade relations with its polish , hungarian and lithuanian neighbours and emerged as the local successor to kievan rus '. in 1199 , prince roman mstislavich united the two previously separate principalities . in 1202 he conquered kiev , and assumed the title of grand duke of kievan rus ', which was held by the rulers of vladimir - suzdal since 1169 . his son , prince daniil ( r . 1238 – 1264 ) looked for support from the west . he accepted a crown as a \" rex rusiae \" (\" king of russia \") from the roman papacy , apparently doing so without breaking with constantinople . in 1370 , the patriarch of the eastern orthodox church in constantinople granted the king of poland a metropolitan for his russian subjects . lithuanian rulers also requested and received a metropolitan for novagrudok shortly afterwards . cyprian , a candidate pushed by the lithuanian rulers , became metropolitan of kiev in 1375 and metropolitan of moscow in 1382 ; this way the church in the russian countries was reunited for some time . in 1439 , kiev became the seat of a separate \" metropolitan of kiev , galich and all rus '\" for all greek orthodox christians under polish - lithuanian rule .\n",
      "Predicted Answer: ,\n",
      "True Answer: 1202\n",
      "--------------------------------------------------\n",
      "Question: when did research find evidence for a common ancestry between native americans and altaians ?\n",
      "Context: genetic studies of mitochondrial dna ( mtdna ) of amerindians and some siberian and central asian peoples also revealed that the gene pool of the turkic - speaking peoples of siberia such as altaians , khakas , shors and soyots , living between the altai and lake baikal along the sayan mountains , are genetically closest to amerindians .[ citation needed ] this view is shared by other researchers who argue that \" the ancestors of the american indians were the first to separate from the great asian population in the middle paleolithic . 2012 research found evidence for a recent common ancestry between native americans and indigenous altaians based on mitochondrial dna and y - chromosome analysis . the paternal lineages of altaians mostly belong to the subclades of haplogroup p - m45 ( xr1a 38 - 93 %; xq1a 4 - 32 %).\n",
      "Predicted Answer: mitochondrial\n",
      "True Answer: 2012\n",
      "--------------------------------------------------\n",
      "Question: when did a guerrilla group fight for namibia ' s independence ?\n",
      "Context: in response to the 1966 ruling by the international court of justice , south - west africa people ' s organisation ( swapo ) military wing , people ' s liberation army of namibia , a guerrilla group began their armed struggle for independence , but it was not until 1988 that south africa agreed to end its occupation of namibia , in accordance with a un peace plan for the entire region . during the south african occupation of namibia , white commercial farmers , most of whom came as settlers from south africa and represented 0 . 2 % of the national population , owned 74 % of the arable land . outside the central - southern area of namibia ( known as the \" police zone \" since the german era and which contained the main towns , industries , mines and best arable land ), the country was divided into \" homelands \", the version of south african bantustan applied to namibia , although only a few were actually established because indigenous namibians often did not cooperate .\n",
      "Predicted Answer: ruling by\n",
      "True Answer: 1966\n",
      "--------------------------------------------------\n",
      "Question: how many institutes of technology in the netherlands have converted into full - fledged universities in the past\n",
      "Context: in the netherlands , four former institutes of technology have become universities over the past decades . these are the current three technical universities ( at delft , eindhoven and enschede ), plus the former agricultural institute in wageningen . a list of all hogescholen in the netherlands , including some which might be called polytechnics , can be found here .\n",
      "Predicted Answer: four\n",
      "True Answer: four\n",
      "--------------------------------------------------\n",
      "Question: in what year did the u . s . congress afford connecticut the deed to the site at fort\n",
      "Context: after the american revolutionary war broke out in 1776 , the connecticut colonial government ordered the construction of black rock fort ( to be built on top of an older 17th - century fort ) to protect the port of new haven . in 1779 , during the battle of new haven , british soldiers captured black rock fort and burned the barracks to the ground . the fort was reconstructed in 1807 by the federal government ( on orders from the thomas jefferson administration ), and rechristened fort nathan hale , after the revolutionary war hero who had lived in new haven . the cannons of fort nathan hale were successful in defying british war ships during the war of 1812 . in 1863 , during the civil war , a second fort hale was built next to the original , complete with bomb - resistant bunkers and a moat , to defend the city should a southern raid against new haven be launched . the united states congress deeded the site to the state in 1921 , and all three versions of the fort have been restored . the site is now listed on the national register of historic places and receives thousands of visitors each year .\n",
      "Predicted Answer: \n",
      "True Answer: 1921\n",
      "--------------------------------------------------\n",
      "Question: who needs to attack jehovah witnesses for god to begin the war of armageddon ?\n",
      "Context: a central teaching of jehovah ' s witnesses is that the current world era , or \" system of things \", entered the \" last days \" in 1914 and faces imminent destruction through intervention by god and jesus christ , leading to deliverance for those who worship god acceptably . they consider all other present - day religions to be false , identifying them with \" babylon the great \", or the \" harlot \", of revelation 17 , and believe that they will soon be destroyed by the united nations , which they believe is represented in scripture by the scarlet - colored wild beast of revelation chapter 17 . this development will mark the beginning of the \" great tribulation \". satan will subsequently attack jehovah ' s witnesses , an action that will prompt god to begin the war of armageddon , during which all forms of government and all people not counted as christ ' s \" sheep \", or true followers , will be destroyed . after armageddon , god will extend his heavenly kingdom to include earth , which will be transformed into a paradise similar to the garden of eden . after armageddon , most of those who had died before god ' s intervention will gradually be resurrected during \" judgment day \" lasting for one thousand years . this judgment will be based on their actions after resurrection rather than past deeds . at the end of the thousand years , christ will hand all authority back to god . then a final test\n",
      "Predicted Answer: a central teaching of jehovah ' s witnesses is that the current world era , or \" system of things \", entered the \" last days \" in 1914 and faces imminent destruction\n",
      "True Answer: satan\n",
      "--------------------------------------------------\n",
      "Question: how many standard variants of the serbo - croatian are spoken ?\n",
      "Context: enisa kafadar argues that there is only one serbo - croatian language with several varieties . this has made possible to include all four varieties into a new grammar book . daniel bunčić concludes that it is a pluricentric language , with four standard variants spoken in serbia , croatia , montenegro and bosnia and herzegovina . the mutual intelligibility between their speakers \" exceeds that between the standard variants of english , french , german , or spanish \". other linguists have argued that the differences between the variants of serbo - croatian are less significant than those between the variants of english , german ,, dutch , and hindi - urdu .\n",
      "Predicted Answer: a new grammar book . daniel\n",
      "True Answer: four\n",
      "--------------------------------------------------\n",
      "Question: how many phonemic tones do hokkien dialects have ?\n",
      "Context: in general , hokkien dialects have 5 to 7 phonemic tones . according to the traditional chinese system , however , there are 7 to 9 \" tones \",[ citation needed ] more correctly termed tone classes since two of them are non - phonemic \" entering tones \" ( see the discussion on chinese tone ). tone sandhi is extensive . there are minor variations between the quanzhou and zhangzhou tone systems . taiwanese tones follow the patterns of amoy or quanzhou , depending on the area of taiwan . many dialects have an additional phonemic tone (\" tone 9 \" according to the traditional reckoning ), used only in special or foreign loan words .\n",
      "Predicted Answer: in general , hokkien dialects have 5 to 7 phonemic t\n",
      "True Answer: 5 to 7\n",
      "--------------------------------------------------\n",
      "Question: how many appearances has northwestern ' s football team made in the top 10 ap poll since 1936 ?\n",
      "Context: northwestern ' s football team has made 73 appearances in the top 10 of the ap poll since 1936 ( including 5 at  #1 ) and has won eight big ten conference championships since 1903 . at one time , northwestern had the longest losing streak in division i - a , losing 34 consecutive games between 1979 and 1982 . they did not appear in a bowl game after 1949 until the 1996 rose bowl . the team did not win a bowl since the 1949 rose bowl until the 2013 gator bowl . following the sudden death of football coach randy walker in 2006 , 31 - year - old former all - american northwestern linebacker pat fitzgerald assumed the position , becoming the youngest division i fbs coach at the time .\n",
      "Predicted Answer: team has made 73 appearances in the top 10 of the ap poll since 1936 ( including 5 at  #1 ) and\n",
      "True Answer: 73\n",
      "--------------------------------------------------\n",
      "Question: which type of guna is concened with passion and activity ?\n",
      "Context: samkhya philosophy includes a theory of gunas ( qualities , innate tendencies , psyche ). guna , it states , are of three types : sattva being good , compassionate , illuminating , positive , and constructive ; rajas guna is one of activity , chaotic , passion , impulsive , potentially good or bad ; and tamas being the quality of darkness , ignorance , destructive , lethargic , negative . everything , all life forms and human beings , state samkhya scholars , have these three gunas , but in different proportions . the interplay of these gunas defines the character of someone or something , of nature and determines the progress of life . samkhya theorises a pluralism of souls ( jeevatmas ) who possess consciousness , but denies the existence of ishvara ( god ). classical samkhya is considered an atheist / non - theistic hindu philosophy .\n",
      "Predicted Answer: samkhya philosophy includes a theory of gunas ( qual\n",
      "True Answer: rajas\n",
      "--------------------------------------------------\n",
      "Question: how many us house reps did oklahoma have after the 2000 census ?\n",
      "Context: following the 2000 census , the oklahoma delegation to the u . s . house of representatives was reduced from six to five representatives , each serving one congressional district . for the 112th congress ( 2011 – 2013 ), there were no changes in party strength , and the delegation included four republicans and one democrat . in the 112th congress , oklahoma ' s u . s . senators were republicans jim inhofe and tom coburn , and its u . s . representatives were john sullivan ( r - ok - 1 ), dan boren ( d - ok - 2 ), frank d . lucas ( r - ok - 3 ), tom cole ( r - ok - 4 ), and james lankford ( r - ok - 5 ).\n",
      "Predicted Answer: ,\n",
      "True Answer: five\n",
      "--------------------------------------------------\n",
      "Question: what color is beside red in the visible spectrum of light ?\n",
      "Context: red is the color at the end of the spectrum of visible light next to orange and opposite violet . red color has a predominant light wavelength of roughly 620 – 740 nanometres . red is one of the additive primary colors of visible light , along with green and blue , which in red green blue ( rgb ) color systems are combined to create all the colors on a computer monitor or television screen . red is also one of the subtractive primary colors , along with yellow and blue , of the ryb color space and traditional color wheel used by painters and artists .\n",
      "Predicted Answer: red is the color at the end of the spectrum of visible light next to orange and opposite violet . red color has a predominant\n",
      "True Answer: orange\n",
      "--------------------------------------------------\n",
      "Question: what genre of music is not played frequently on urban ac ?\n",
      "Context: the urban ac stations resemble soft ac rather than hot ac ; they play predominantly r & b and soul music with little hip - hop . this is reflected in many of the urban ac radio stations ' taglines , such as \" today ' s r & b and classic soul \", \" the best variety of r & b hits and oldies \" and \"( city / region )' s r & b leader \". urban ac ' s core artists include luther vandross , trey songz , patti labelle , toni braxton , whitney houston , aretha franklin , frank ocean , craig david and mariah carey .\n",
      "Predicted Answer: rather than\n",
      "True Answer: hip - hop\n",
      "--------------------------------------------------\n",
      "Question: in what year did rome claim victory against the city of veii ?\n",
      "Context: the first roman republican wars were wars of both expansion and defence , aimed at protecting rome itself from neighbouring cities and nations and establishing its territory in the region . initially , rome ' s immediate neighbours were either latin towns and villages , or else tribal sabines from the apennine hills beyond . one by one rome defeated both the persistent sabines and the local cities , both those under etruscan control and those that had cast off their etruscan rulers . rome defeated latin cities in the battle of lake regillus in 496 bc , the battle of mons algidus in 458 bc , the battle of corbione in 446 bc , the battle of aricia , and especially the battle of the cremera in 477 bc wherein it fought against the most important etruscan city of veii .\n",
      "Predicted Answer: \n",
      "True Answer: 477 bc\n",
      "--------------------------------------------------\n",
      "Question: what happened after krishna was accidentally wounded by an arrow of a hunter ?\n",
      "Context: hindu scriptures describe hunting as an acceptable occupation , as well as a sport of the kingly . even figures considered godly are described to have engaged in hunting . one of the names of the god shiva is mrigavyadha , which translates as \" the deer hunter \" ( mriga means deer ; vyadha means hunter ). the word mriga , in many indian languages including malayalam , not only stands for deer , but for all animals and animal instincts ( mriga thrishna ). shiva , as mrigavyadha , is the one who destroys the animal instincts in human beings . in the epic ramayana , dasharatha , the father of rama , is said to have the ability to hunt in the dark . during one of his hunting expeditions , he accidentally killed shravana , mistaking him for game . during rama ' s exile in the forest , ravana kidnapped his wife , sita , from their hut , while rama was asked by sita to capture a golden deer , and his brother lakshman went after him . according to the mahabharat , pandu , the father of the pandavas , accidentally killed the sage kindama and his wife with an arrow , mistaking them for a deer . krishna is said to have died after being accidentally w\n",
      "Predicted Answer: hindu scriptures describe hunting as an acceptable occupation , as\n",
      "True Answer: died\n",
      "--------------------------------------------------\n",
      "Question: when did the bronx ' s income declined ?\n",
      "Context: the history of the bronx during the 20th century may be divided into four periods : a boom period during 1900 – 29 , with a population growth by a factor of six from 200 , 000 in 1900 to 1 . 3 million in 1930 . the great depression and post world war ii years saw a slowing of growth leading into an eventual decline . the mid to late century were hard times , as the bronx declined 1950 – 85 from a predominantly moderate - income to a predominantly lower - income area with high rates of violent crime and poverty . the bronx has experienced an economic and developmental resurgence starting in the late 1980s that continues into today .\n",
      "Predicted Answer: divided\n",
      "True Answer: 1950 – 85\n",
      "--------------------------------------------------\n"
     ]
    }
   ],
   "source": [
    "# Compare the predictions with the actual answers\n",
    "for i in range(100):\n",
    "    print(f\"Question: {train_questions[i]}\")\n",
    "    print(f\"Context: {train_context[i]}\")\n",
    "    print(f\"Predicted Answer: {train_preds[i]}\")\n",
    "    print(f\"True Answer: {train_true_labels[i]}\")\n",
    "    print(\"-\" * 50)"
   ]
  },
  {
   "cell_type": "code",
   "execution_count": null,
   "metadata": {},
   "outputs": [],
   "source": []
  }
 ],
 "metadata": {
  "kernelspec": {
   "display_name": "Python 3",
   "language": "python",
   "name": "python3"
  },
  "language_info": {
   "codemirror_mode": {
    "name": "ipython",
    "version": 3
   },
   "file_extension": ".py",
   "mimetype": "text/x-python",
   "name": "python",
   "nbconvert_exporter": "python",
   "pygments_lexer": "ipython3",
   "version": "3.10.12"
  }
 },
 "nbformat": 4,
 "nbformat_minor": 2
}
