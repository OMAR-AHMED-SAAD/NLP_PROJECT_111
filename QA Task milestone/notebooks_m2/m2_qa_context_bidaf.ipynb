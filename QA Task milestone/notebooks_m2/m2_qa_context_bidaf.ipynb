{
 "cells": [
  {
   "cell_type": "markdown",
   "metadata": {},
   "source": [
    "# Milestone 2 - BiDAF training notebook"
   ]
  },
  {
   "cell_type": "code",
   "execution_count": 1,
   "metadata": {},
   "outputs": [
    {
     "name": "stderr",
     "output_type": "stream",
     "text": [
      "c:\\Users\\001\\anaconda3\\envs\\nlp_env\\Lib\\site-packages\\IPython\\core\\magics\\osm.py:417: UserWarning: This is now an optional IPython functionality, setting dhist requires you to install the `pickleshare` library.\n",
      "  self.shell.db['dhist'] = compress_dhist(dhist)[-100:]\n"
     ]
    },
    {
     "name": "stdout",
     "output_type": "stream",
     "text": [
      "c:\\Users\\001\\OneDrive\\Desktop\\GUC\\semester 10\\nlp\\NLP_PROJECT_111\\QA Task milestone\n"
     ]
    },
    {
     "name": "stderr",
     "output_type": "stream",
     "text": [
      "c:\\Users\\001\\anaconda3\\envs\\nlp_env\\Lib\\site-packages\\torchtext\\data\\__init__.py:4: UserWarning: \n",
      "/!\\ IMPORTANT WARNING ABOUT TORCHTEXT STATUS /!\\ \n",
      "Torchtext is deprecated and the last released version will be 0.18 (this one). You can silence this warning by calling the following at the beginnign of your scripts: `import torchtext; torchtext.disable_torchtext_deprecation_warning()`\n",
      "  warnings.warn(torchtext._TORCHTEXT_DEPRECATION_MSG)\n",
      "c:\\Users\\001\\anaconda3\\envs\\nlp_env\\Lib\\site-packages\\torchtext\\vocab\\__init__.py:4: UserWarning: \n",
      "/!\\ IMPORTANT WARNING ABOUT TORCHTEXT STATUS /!\\ \n",
      "Torchtext is deprecated and the last released version will be 0.18 (this one). You can silence this warning by calling the following at the beginnign of your scripts: `import torchtext; torchtext.disable_torchtext_deprecation_warning()`\n",
      "  warnings.warn(torchtext._TORCHTEXT_DEPRECATION_MSG)\n",
      "c:\\Users\\001\\anaconda3\\envs\\nlp_env\\Lib\\site-packages\\torchtext\\utils.py:4: UserWarning: \n",
      "/!\\ IMPORTANT WARNING ABOUT TORCHTEXT STATUS /!\\ \n",
      "Torchtext is deprecated and the last released version will be 0.18 (this one). You can silence this warning by calling the following at the beginnign of your scripts: `import torchtext; torchtext.disable_torchtext_deprecation_warning()`\n",
      "  warnings.warn(torchtext._TORCHTEXT_DEPRECATION_MSG)\n"
     ]
    }
   ],
   "source": [
    "%cd ..\n",
    "# imports \n",
    "import numpy as np \n",
    "import matplotlib.pyplot as plt\n",
    "import seaborn as sns\n",
    "import os\n",
    "from scripts_m2 import *\n",
    "import torch \n",
    "from torch import nn \n",
    "from torch import optim"
   ]
  },
  {
   "cell_type": "code",
   "execution_count": 5,
   "metadata": {},
   "outputs": [
    {
     "name": "stdout",
     "output_type": "stream",
     "text": [
      "Loading tokenizer from ./tokenizers/tokenizer.json...\n",
      "Filtered dataset size: 19922 out of original 20000\n",
      "Filtered dataset size: 1989 out of original 2000\n"
     ]
    }
   ],
   "source": [
    "# Getting the dataloaders and tokenizers\n",
    "train_dataloader, dev_dataloader, tokenizer = prepare_dataloaders_tokenizer()"
   ]
  },
  {
   "cell_type": "code",
   "execution_count": 6,
   "metadata": {},
   "outputs": [
    {
     "name": "stdout",
     "output_type": "stream",
     "text": [
      "Using device: cuda\n"
     ]
    }
   ],
   "source": [
    "# View the devices\n",
    "device = torch.device(\"cuda\" if torch.cuda.is_available() else \"cpu\")\n",
    "print(f\"Using device: {device}\")"
   ]
  },
  {
   "cell_type": "markdown",
   "metadata": {},
   "source": [
    "### Model Training"
   ]
  },
  {
   "cell_type": "code",
   "execution_count": 4,
   "metadata": {},
   "outputs": [
    {
     "name": "stderr",
     "output_type": "stream",
     "text": [
      "c:\\Users\\001\\anaconda3\\envs\\nlp_env\\Lib\\site-packages\\torch\\optim\\lr_scheduler.py:28: UserWarning: The verbose parameter is deprecated. Please use get_last_lr() to access the learning rate.\n",
      "  warnings.warn(\"The verbose parameter is deprecated. Please use get_last_lr() \"\n",
      "Epoch 1/20: 100%|██████████| 623/623 [00:33<00:00, 18.63it/s, loss=4.92]\n"
     ]
    },
    {
     "name": "stdout",
     "output_type": "stream",
     "text": [
      "Epoch 1 Loss: 6.5496\n"
     ]
    },
    {
     "name": "stderr",
     "output_type": "stream",
     "text": [
      "Evaluating: 100%|██████████| 623/623 [00:22<00:00, 27.68it/s]\n"
     ]
    },
    {
     "name": "stdout",
     "output_type": "stream",
     "text": [
      "Training Loss: 3.2191\n",
      "Training Metrics: {'start_accuracy': 0.5810159622527858, 'start_precision': 0.5842613654931372, 'start_recall': 0.5810159622527858, 'start_f1_score': 0.580136072434499, 'end_accuracy': 0.5825720309205903, 'end_precision': 0.5866722602936955, 'end_recall': 0.5825720309205903, 'end_f1_score': 0.5816061327637063, 'joint_exact_match': 0.5087842586085735, 'span_overlap_f1': 0.5479117487476831}\n"
     ]
    },
    {
     "name": "stderr",
     "output_type": "stream",
     "text": [
      "Evaluating: 100%|██████████| 63/63 [00:02<00:00, 22.87it/s]\n"
     ]
    },
    {
     "name": "stdout",
     "output_type": "stream",
     "text": [
      "Validation Loss: 5.0314\n",
      "Validation Metrics: {'start_accuracy': 0.40824534942182, 'start_precision': 0.43794980518464777, 'start_recall': 0.40824534942182, 'start_f1_score': 0.40714265742809735, 'end_accuracy': 0.39668174962292607, 'end_precision': 0.423685990068493, 'end_recall': 0.39668174962292607, 'end_f1_score': 0.3954720654752996, 'joint_exact_match': 0.3162393162393162, 'span_overlap_f1': 0.384593785778124}\n",
      "Validation loss improved to 5.0314. Saving model state.\n",
      "--------------------------------------------------\n"
     ]
    },
    {
     "name": "stderr",
     "output_type": "stream",
     "text": [
      "Epoch 2/20: 100%|██████████| 623/623 [00:54<00:00, 11.44it/s, loss=2.29]\n"
     ]
    },
    {
     "name": "stdout",
     "output_type": "stream",
     "text": [
      "Epoch 2 Loss: 3.0705\n"
     ]
    },
    {
     "name": "stderr",
     "output_type": "stream",
     "text": [
      "Evaluating: 100%|██████████| 623/623 [00:19<00:00, 32.09it/s]\n"
     ]
    },
    {
     "name": "stdout",
     "output_type": "stream",
     "text": [
      "Training Loss: 1.7925\n",
      "Training Metrics: {'start_accuracy': 0.7637285413111133, 'start_precision': 0.7678700240813439, 'start_recall': 0.7637285413111133, 'start_f1_score': 0.7640246003336488, 'end_accuracy': 0.7569521132416424, 'end_precision': 0.7605383686848619, 'end_recall': 0.7569521132416424, 'end_f1_score': 0.7568054300542415, 'joint_exact_match': 0.7165947194056822, 'span_overlap_f1': 0.747362535015455}\n"
     ]
    },
    {
     "name": "stderr",
     "output_type": "stream",
     "text": [
      "Evaluating: 100%|██████████| 63/63 [00:02<00:00, 27.92it/s]\n"
     ]
    },
    {
     "name": "stdout",
     "output_type": "stream",
     "text": [
      "Validation Loss: 4.3275\n",
      "Validation Metrics: {'start_accuracy': 0.4937154348919055, 'start_precision': 0.5204381089676564, 'start_recall': 0.4937154348919055, 'start_f1_score': 0.4924613215099359, 'end_accuracy': 0.48466566113624937, 'end_precision': 0.5175155102666531, 'end_recall': 0.48466566113624937, 'end_f1_score': 0.4863845796341234, 'joint_exact_match': 0.4167923579688286, 'span_overlap_f1': 0.48815507982769896}\n",
      "Validation loss improved to 4.3275. Saving model state.\n",
      "--------------------------------------------------\n"
     ]
    },
    {
     "name": "stderr",
     "output_type": "stream",
     "text": [
      "Epoch 3/20: 100%|██████████| 623/623 [00:35<00:00, 17.77it/s, loss=2.16] \n"
     ]
    },
    {
     "name": "stdout",
     "output_type": "stream",
     "text": [
      "Epoch 3 Loss: 2.1280\n"
     ]
    },
    {
     "name": "stderr",
     "output_type": "stream",
     "text": [
      "Evaluating: 100%|██████████| 623/623 [00:20<00:00, 30.12it/s]\n"
     ]
    },
    {
     "name": "stdout",
     "output_type": "stream",
     "text": [
      "Training Loss: 1.2613\n",
      "Training Metrics: {'start_accuracy': 0.8345045678144765, 'start_precision': 0.8367867319179747, 'start_recall': 0.8345045678144765, 'start_f1_score': 0.8345027168517684, 'end_accuracy': 0.83340026101797, 'end_precision': 0.8355319234503159, 'end_recall': 0.83340026101797, 'end_f1_score': 0.8330977895391858, 'joint_exact_match': 0.7981126392932436, 'span_overlap_f1': 0.8249751488419728}\n"
     ]
    },
    {
     "name": "stderr",
     "output_type": "stream",
     "text": [
      "Evaluating: 100%|██████████| 63/63 [00:01<00:00, 33.90it/s]\n"
     ]
    },
    {
     "name": "stdout",
     "output_type": "stream",
     "text": [
      "Validation Loss: 4.0775\n",
      "Validation Metrics: {'start_accuracy': 0.5198592257415787, 'start_precision': 0.5445967340009351, 'start_recall': 0.5198592257415787, 'start_f1_score': 0.51910248796085, 'end_accuracy': 0.510306686777275, 'end_precision': 0.5396846717107887, 'end_recall': 0.510306686777275, 'end_f1_score': 0.5107364729301725, 'joint_exact_match': 0.4514831573655103, 'span_overlap_f1': 0.5215231206090468}\n",
      "Validation loss improved to 4.0775. Saving model state.\n",
      "--------------------------------------------------\n"
     ]
    },
    {
     "name": "stderr",
     "output_type": "stream",
     "text": [
      "Epoch 4/20: 100%|██████████| 623/623 [00:32<00:00, 19.34it/s, loss=0.836]\n"
     ]
    },
    {
     "name": "stdout",
     "output_type": "stream",
     "text": [
      "Epoch 4 Loss: 1.6075\n"
     ]
    },
    {
     "name": "stderr",
     "output_type": "stream",
     "text": [
      "Evaluating: 100%|██████████| 623/623 [00:18<00:00, 33.61it/s]\n"
     ]
    },
    {
     "name": "stdout",
     "output_type": "stream",
     "text": [
      "Training Loss: 0.8141\n",
      "Training Metrics: {'start_accuracy': 0.8935849814275675, 'start_precision': 0.8951726167623961, 'start_recall': 0.8935849814275675, 'start_f1_score': 0.8936339489662783, 'end_accuracy': 0.891125389017167, 'end_precision': 0.8927355976025235, 'end_recall': 0.891125389017167, 'end_f1_score': 0.8910788006034722, 'joint_exact_match': 0.8647224174279691, 'span_overlap_f1': 0.8871839389003443}\n"
     ]
    },
    {
     "name": "stderr",
     "output_type": "stream",
     "text": [
      "Evaluating: 100%|██████████| 63/63 [00:01<00:00, 33.36it/s]\n"
     ]
    },
    {
     "name": "stdout",
     "output_type": "stream",
     "text": [
      "Validation Loss: 4.3085\n",
      "Validation Metrics: {'start_accuracy': 0.5268979386626446, 'start_precision': 0.555883265219561, 'start_recall': 0.5268979386626446, 'start_f1_score': 0.5269633249335035, 'end_accuracy': 0.5289089994972348, 'end_precision': 0.5572025600647773, 'end_recall': 0.5289089994972348, 'end_f1_score': 0.5300682633771822, 'joint_exact_match': 0.4580191050779286, 'span_overlap_f1': 0.5320449091885242}\n",
      "Validation loss did not improve. No improvement for 1 epochs.\n",
      "--------------------------------------------------\n"
     ]
    },
    {
     "name": "stderr",
     "output_type": "stream",
     "text": [
      "Epoch 5/20: 100%|██████████| 623/623 [00:32<00:00, 19.05it/s, loss=1]    \n"
     ]
    },
    {
     "name": "stdout",
     "output_type": "stream",
     "text": [
      "Epoch 5 Loss: 1.2350\n"
     ]
    },
    {
     "name": "stderr",
     "output_type": "stream",
     "text": [
      "Evaluating: 100%|██████████| 623/623 [00:18<00:00, 33.60it/s]\n"
     ]
    },
    {
     "name": "stdout",
     "output_type": "stream",
     "text": [
      "Training Loss: 0.5775\n",
      "Training Metrics: {'start_accuracy': 0.921293042867182, 'start_precision': 0.9224823864245026, 'start_recall': 0.921293042867182, 'start_f1_score': 0.9212885603883451, 'end_accuracy': 0.9147675936150989, 'end_precision': 0.9162233114818348, 'end_recall': 0.9147675936150989, 'end_f1_score': 0.9146743625933924, 'joint_exact_match': 0.893183415319747, 'span_overlap_f1': 0.9133889084103345}\n"
     ]
    },
    {
     "name": "stderr",
     "output_type": "stream",
     "text": [
      "Evaluating: 100%|██████████| 63/63 [00:01<00:00, 33.90it/s]\n"
     ]
    },
    {
     "name": "stdout",
     "output_type": "stream",
     "text": [
      "Validation Loss: 4.6933\n",
      "Validation Metrics: {'start_accuracy': 0.5289089994972348, 'start_precision': 0.5653370528749655, 'start_recall': 0.5289089994972348, 'start_f1_score': 0.5328928130871795, 'end_accuracy': 0.5319255907491202, 'end_precision': 0.5683972297363541, 'end_recall': 0.5319255907491202, 'end_f1_score': 0.537454147997392, 'joint_exact_match': 0.4635495223730518, 'span_overlap_f1': 0.5359442554146003}\n",
      "Validation loss did not improve. No improvement for 2 epochs.\n",
      "--------------------------------------------------\n"
     ]
    },
    {
     "name": "stderr",
     "output_type": "stream",
     "text": [
      "Epoch 6/20: 100%|██████████| 623/623 [00:33<00:00, 18.73it/s, loss=0.725]\n"
     ]
    },
    {
     "name": "stdout",
     "output_type": "stream",
     "text": [
      "Epoch 6 Loss: 0.9876\n"
     ]
    },
    {
     "name": "stderr",
     "output_type": "stream",
     "text": [
      "Evaluating: 100%|██████████| 623/623 [00:18<00:00, 33.68it/s]\n"
     ]
    },
    {
     "name": "stdout",
     "output_type": "stream",
     "text": [
      "Training Loss: 0.4097\n",
      "Training Metrics: {'start_accuracy': 0.9459893584981428, 'start_precision': 0.9466256187821847, 'start_recall': 0.9459893584981428, 'start_f1_score': 0.9459649720482723, 'end_accuracy': 0.9376066659973898, 'end_precision': 0.9388049633909888, 'end_recall': 0.9376066659973898, 'end_f1_score': 0.9374975770633875, 'joint_exact_match': 0.9219957835558679, 'span_overlap_f1': 0.9400899030655179}\n"
     ]
    },
    {
     "name": "stderr",
     "output_type": "stream",
     "text": [
      "Evaluating: 100%|██████████| 63/63 [00:01<00:00, 32.01it/s]\n"
     ]
    },
    {
     "name": "stdout",
     "output_type": "stream",
     "text": [
      "Validation Loss: 4.9075\n",
      "Validation Metrics: {'start_accuracy': 0.5354449472096531, 'start_precision': 0.5650047075641471, 'start_recall': 0.5354449472096531, 'start_f1_score': 0.5354829654841077, 'end_accuracy': 0.5354449472096531, 'end_precision': 0.5686131857815027, 'end_recall': 0.5354449472096531, 'end_f1_score': 0.5358098035314229, 'joint_exact_match': 0.4695827048768225, 'span_overlap_f1': 0.5444834608811923}\n",
      "Validation loss did not improve. No improvement for 3 epochs.\n",
      "--------------------------------------------------\n"
     ]
    },
    {
     "name": "stderr",
     "output_type": "stream",
     "text": [
      "Epoch 7/20: 100%|██████████| 623/623 [00:32<00:00, 19.06it/s, loss=1.84]  \n"
     ]
    },
    {
     "name": "stdout",
     "output_type": "stream",
     "text": [
      "Epoch 7 Loss: 0.5792\n"
     ]
    },
    {
     "name": "stderr",
     "output_type": "stream",
     "text": [
      "Evaluating: 100%|██████████| 623/623 [00:18<00:00, 33.63it/s]\n"
     ]
    },
    {
     "name": "stdout",
     "output_type": "stream",
     "text": [
      "Training Loss: 0.2729\n",
      "Training Metrics: {'start_accuracy': 0.9624535689187833, 'start_precision': 0.9628495042351094, 'start_recall': 0.9624535689187833, 'start_f1_score': 0.9624303623241899, 'end_accuracy': 0.9580363417327578, 'end_precision': 0.9587964160400492, 'end_recall': 0.9580363417327578, 'end_f1_score': 0.9579727150615711, 'joint_exact_match': 0.9441823110129505, 'span_overlap_f1': 0.9605840005058739}\n"
     ]
    },
    {
     "name": "stderr",
     "output_type": "stream",
     "text": [
      "Evaluating: 100%|██████████| 63/63 [00:01<00:00, 33.34it/s]\n"
     ]
    },
    {
     "name": "stdout",
     "output_type": "stream",
     "text": [
      "Validation Loss: 5.4253\n",
      "Validation Metrics: {'start_accuracy': 0.5329311211664153, 'start_precision': 0.5665591709082605, 'start_recall': 0.5329311211664153, 'start_f1_score': 0.5347656332550218, 'end_accuracy': 0.5399698340874811, 'end_precision': 0.5754085717724927, 'end_recall': 0.5399698340874811, 'end_f1_score': 0.541805450434287, 'joint_exact_match': 0.4725992961287079, 'span_overlap_f1': 0.5471697125389763}\n",
      "Validation loss did not improve. No improvement for 4 epochs.\n",
      "--------------------------------------------------\n"
     ]
    },
    {
     "name": "stderr",
     "output_type": "stream",
     "text": [
      "Epoch 8/20: 100%|██████████| 623/623 [00:32<00:00, 19.30it/s, loss=0.979] \n"
     ]
    },
    {
     "name": "stdout",
     "output_type": "stream",
     "text": [
      "Epoch 8 Loss: 0.4793\n"
     ]
    },
    {
     "name": "stderr",
     "output_type": "stream",
     "text": [
      "Evaluating: 100%|██████████| 623/623 [00:18<00:00, 34.06it/s]\n"
     ]
    },
    {
     "name": "stdout",
     "output_type": "stream",
     "text": [
      "Training Loss: 0.2273\n",
      "Training Metrics: {'start_accuracy': 0.9703844995482381, 'start_precision': 0.9706862970635155, 'start_recall': 0.9703844995482381, 'start_f1_score': 0.9703434593618413, 'end_accuracy': 0.965465314727437, 'end_precision': 0.9661237956311644, 'end_recall': 0.965465314727437, 'end_f1_score': 0.9653929112551399, 'joint_exact_match': 0.9535689187832547, 'span_overlap_f1': 0.9688520878862635}\n"
     ]
    },
    {
     "name": "stderr",
     "output_type": "stream",
     "text": [
      "Evaluating: 100%|██████████| 63/63 [00:01<00:00, 33.58it/s]"
     ]
    },
    {
     "name": "stdout",
     "output_type": "stream",
     "text": [
      "Validation Loss: 5.7241\n",
      "Validation Metrics: {'start_accuracy': 0.5329311211664153, 'start_precision': 0.5643196572087628, 'start_recall': 0.5329311211664153, 'start_f1_score': 0.5340414554911032, 'end_accuracy': 0.5414781297134238, 'end_precision': 0.5777763311846957, 'end_recall': 0.5414781297134238, 'end_f1_score': 0.5439521063566469, 'joint_exact_match': 0.47561588738059324, 'span_overlap_f1': 0.5499418490301565}\n",
      "Validation loss did not improve. No improvement for 5 epochs.\n",
      "Early stopping triggered.\n",
      "Loaded the best model state.\n"
     ]
    },
    {
     "name": "stderr",
     "output_type": "stream",
     "text": [
      "\n"
     ]
    }
   ],
   "source": [
    "vocab_size = 10000         # Size of the vocabulary\n",
    "embed_dim = 300            # Dimensionality of the embeddings\n",
    "hidden_size = 100          # Base hidden size; BiLSTM outputs will be 2*hidden_size\n",
    "dropout = 0.2\n",
    "device = torch.device('cuda' if torch.cuda.is_available() else 'cpu')\n",
    "\n",
    "# Instantiate the BiDAF model\n",
    "model = BiDAF(vocab_size, embed_dim, hidden_size, dropout=dropout)\n",
    "model = model.to(device)\n",
    "\n",
    "# Setup an optimizer (e.g., Adam)\n",
    "optimizer = optim.AdamW(model.parameters(), lr=0.001)\n",
    "\n",
    "criterion = nn.CrossEntropyLoss(ignore_index=1)\n",
    "\n",
    "\n",
    "train_loss, val_loss = train_qa_context_model_boilerplate(\n",
    "    model=model, \n",
    "    train_dataloader=train_dataloader, \n",
    "    val_dataloader=dev_dataloader, \n",
    "    optimizer=optimizer, \n",
    "    criterion=criterion, \n",
    "    num_epochs=20, \n",
    "    device=device, \n",
    "    inputs = [\"context\", \"question\"],\n",
    "    evaluate_val_dataset=True,\n",
    ")\n"
   ]
  },
  {
   "cell_type": "code",
   "execution_count": 5,
   "metadata": {},
   "outputs": [
    {
     "data": {
      "image/png": "[encoded data removed]",
      "text/plain": [
       "<Figure size 1000x600 with 1 Axes>"
      ]
     },
     "metadata": {},
     "output_type": "display_data"
    }
   ],
   "source": [
    "# Plotting the training and validation loss\n",
    "plot_loss_curves(train_loss, val_loss)"
   ]
  },
  {
   "cell_type": "markdown",
   "metadata": {},
   "source": [
    "### Saving the model"
   ]
  },
  {
   "cell_type": "code",
   "execution_count": 2,
   "metadata": {},
   "outputs": [],
   "source": [
    "model_path = \"models/qa_context_model_bidaf.pkl\""
   ]
  },
  {
   "cell_type": "code",
   "execution_count": 7,
   "metadata": {},
   "outputs": [
    {
     "name": "stdout",
     "output_type": "stream",
     "text": [
      "Model saved to models/qa_context_model_bidaf.pkl\n"
     ]
    }
   ],
   "source": [
    "save_model(model, model_path)"
   ]
  },
  {
   "cell_type": "code",
   "execution_count": 3,
   "metadata": {},
   "outputs": [
    {
     "name": "stdout",
     "output_type": "stream",
     "text": [
      "Model loaded from models/qa_context_model_bidaf.pkl\n"
     ]
    }
   ],
   "source": [
    "model = load_model(model_path=model_path)"
   ]
  },
  {
   "cell_type": "markdown",
   "metadata": {},
   "source": [
    "### Evaluation Metrics Models"
   ]
  },
  {
   "cell_type": "markdown",
   "metadata": {},
   "source": [
    "##### 1. Evaluation on Training set"
   ]
  },
  {
   "cell_type": "code",
   "execution_count": 9,
   "metadata": {},
   "outputs": [
    {
     "name": "stderr",
     "output_type": "stream",
     "text": [
      "Evaluating:   0%|          | 0/623 [00:00<?, ?it/s]c:\\Users\\001\\anaconda3\\envs\\nlp_env\\Lib\\site-packages\\torch\\nn\\modules\\rnn.py:911: UserWarning: RNN module weights are not part of single contiguous chunk of memory. This means they need to be compacted at every call, possibly greatly increasing memory usage. To compact weights again call flatten_parameters(). (Triggered internally at C:\\cb\\pytorch_1000000000000\\work\\aten\\src\\ATen\\native\\cudnn\\RNN.cpp:1424.)\n",
      "  result = _VF.lstm(input, hx, self._flat_weights, self.bias, self.num_layers,\n",
      "Evaluating: 100%|██████████| 623/623 [00:19<00:00, 31.73it/s]"
     ]
    },
    {
     "name": "stdout",
     "output_type": "stream",
     "text": [
      "Training Loss: 1.2688\n",
      "Training Metrics: {'start_accuracy': 0.8345045678144765, 'start_precision': 0.8367867319179747, 'start_recall': 0.8345045678144765, 'start_f1_score': 0.8345027168517684, 'end_accuracy': 0.83340026101797, 'end_precision': 0.8355319234503159, 'end_recall': 0.83340026101797, 'end_f1_score': 0.8330977895391858, 'joint_exact_match': 0.7981126392932436, 'span_overlap_f1': 0.824975148841973}\n"
     ]
    },
    {
     "name": "stderr",
     "output_type": "stream",
     "text": [
      "\n"
     ]
    },
    {
     "data": {
      "text/plain": [
       "(1.2687601241407196,\n",
       " {'start_accuracy': 0.8345045678144765,\n",
       "  'start_precision': 0.8367867319179747,\n",
       "  'start_recall': 0.8345045678144765,\n",
       "  'start_f1_score': 0.8345027168517684,\n",
       "  'end_accuracy': 0.83340026101797,\n",
       "  'end_precision': 0.8355319234503159,\n",
       "  'end_recall': 0.83340026101797,\n",
       "  'end_f1_score': 0.8330977895391858,\n",
       "  'joint_exact_match': 0.7981126392932436,\n",
       "  'span_overlap_f1': 0.824975148841973})"
      ]
     },
     "execution_count": 9,
     "metadata": {},
     "output_type": "execute_result"
    }
   ],
   "source": [
    "# evaluate the model on the dev set\n",
    "criterion = nn.CrossEntropyLoss()\n",
    "evaluate_qa_context_model_boilerplate(model=model, dataloader=train_dataloader, criterion=criterion, device='cuda', inputs = [\"context\", \"question\"], prefix_str=\"Training\")"
   ]
  },
  {
   "cell_type": "markdown",
   "metadata": {},
   "source": [
    "##### 2. Evaluation on Test Set"
   ]
  },
  {
   "cell_type": "code",
   "execution_count": 12,
   "metadata": {},
   "outputs": [
    {
     "name": "stderr",
     "output_type": "stream",
     "text": [
      "Evaluating: 100%|██████████| 63/63 [00:02<00:00, 27.21it/s]"
     ]
    },
    {
     "name": "stdout",
     "output_type": "stream",
     "text": [
      "Validation Loss: 4.0746\n",
      "Validation Metrics: {'start_accuracy': 0.5198592257415787, 'start_precision': 0.5445967340009351, 'start_recall': 0.5198592257415787, 'start_f1_score': 0.51910248796085, 'end_accuracy': 0.510306686777275, 'end_precision': 0.5396846717107887, 'end_recall': 0.510306686777275, 'end_f1_score': 0.5107364729301725, 'joint_exact_match': 0.4514831573655103, 'span_overlap_f1': 0.5215231206090468}\n"
     ]
    },
    {
     "name": "stderr",
     "output_type": "stream",
     "text": [
      "\n"
     ]
    },
    {
     "data": {
      "text/plain": [
       "(4.074582489710005,\n",
       " {'start_accuracy': 0.5198592257415787,\n",
       "  'start_precision': 0.5445967340009351,\n",
       "  'start_recall': 0.5198592257415787,\n",
       "  'start_f1_score': 0.51910248796085,\n",
       "  'end_accuracy': 0.510306686777275,\n",
       "  'end_precision': 0.5396846717107887,\n",
       "  'end_recall': 0.510306686777275,\n",
       "  'end_f1_score': 0.5107364729301725,\n",
       "  'joint_exact_match': 0.4514831573655103,\n",
       "  'span_overlap_f1': 0.5215231206090468})"
      ]
     },
     "execution_count": 12,
     "metadata": {},
     "output_type": "execute_result"
    }
   ],
   "source": [
    "# evaluate the model on the dev set\n",
    "criterion = nn.CrossEntropyLoss()\n",
    "evaluate_qa_context_model_boilerplate(model=model, dataloader=dev_dataloader, criterion=criterion, device='cuda', inputs = [\"context\", \"question\"])"
   ]
  },
  {
   "cell_type": "markdown",
   "metadata": {},
   "source": [
    "### Predictions"
   ]
  },
  {
   "cell_type": "markdown",
   "metadata": {},
   "source": [
    "##### 1. Predection on Dev Set"
   ]
  },
  {
   "cell_type": "code",
   "execution_count": 7,
   "metadata": {},
   "outputs": [
    {
     "name": "stderr",
     "output_type": "stream",
     "text": [
      "Predicting:   0%|          | 0/63 [00:00<?, ?it/s]c:\\Users\\001\\anaconda3\\envs\\nlp_env\\Lib\\site-packages\\torch\\nn\\modules\\rnn.py:911: UserWarning: RNN module weights are not part of single contiguous chunk of memory. This means they need to be compacted at every call, possibly greatly increasing memory usage. To compact weights again call flatten_parameters(). (Triggered internally at C:\\cb\\pytorch_1000000000000\\work\\aten\\src\\ATen\\native\\cudnn\\RNN.cpp:1424.)\n",
      "  result = _VF.lstm(input, hx, self._flat_weights, self.bias, self.num_layers,\n",
      "Predicting: 100%|██████████| 63/63 [00:03<00:00, 19.95it/s]\n"
     ]
    }
   ],
   "source": [
    "preds, true_labels, contexts, questions = predict_qa_context_model_boilerplate(model=model, dataloader=dev_dataloader, tokenizer=tokenizer, device='cuda', inputs = [\"context\", \"question\"])"
   ]
  },
  {
   "cell_type": "code",
   "execution_count": 8,
   "metadata": {},
   "outputs": [
    {
     "name": "stdout",
     "output_type": "stream",
     "text": [
      "Question: how many khitan tumens were there ?\n",
      "Context: many han chinese and khitan defected to the mongols to fight against the jin . two han chinese leaders , shi tianze , liu heima ( 劉, liu ni ), and the khitan xiao zhala ( ) defected and commanded the 3 tumens in the mongol army . liu heima and shi tianze served ogödei khan . liu heima and shi tianxiang led armies against western xia for the mongols . there were 4 han tumens and 3 khitan tumens , with each tumen consisting of 10 , 000 troops . the three khitan generals shimobeidier ( 石), tabuyir ( 不) and xiaozhacizhizizhongxi ( 之子重喜 ) commanded the three khitan tumens and the four han generals zhang rou , yan shi , shi tianze , and liu heima commanded the four han tumens under ogödei khan .\n",
      "Predicted Answer: 3\n",
      "True Answer: 3\n",
      "--------------------------------------------------\n",
      "Question: what is the atomic number of the element oxygen ?\n",
      "Context: oxygen is a chemical element with symbol o and atomic number 8 . it is a member of the chalcogen group on the periodic table and is a highly reactive nonmetal and oxidizing agent that readily forms compounds ( notably oxides ) with most elements . by mass , oxygen is the third - most abundant element in the universe , after hydrogen and helium . at standard temperature and pressure , two atoms of the element bind to form dioxygen , a colorless and odorless diatomic gas with the formula o 2 . diatomic oxygen gas constitutes 20 . 8 % of the earth ' s atmosphere . however , monitoring of atmospheric oxygen levels show a global downward trend , because of fossil - fuel burning . oxygen is the most abundant element by mass in the earth ' s crust as part of oxide compounds such as silicon dioxide , making up almost half of the crust ' s mass .\n",
      "Predicted Answer: 8\n",
      "True Answer: 8\n",
      "--------------------------------------------------\n",
      "Question: the atomic number of the periodic table for oxygen ?\n",
      "Context: oxygen is a chemical element with symbol o and atomic number 8 . it is a member of the chalcogen group on the periodic table and is a highly reactive nonmetal and oxidizing agent that readily forms compounds ( notably oxides ) with most elements . by mass , oxygen is the third - most abundant element in the universe , after hydrogen and helium . at standard temperature and pressure , two atoms of the element bind to form dioxygen , a colorless and odorless diatomic gas with the formula o 2 . diatomic oxygen gas constitutes 20 . 8 % of the earth ' s atmosphere . however , monitoring of atmospheric oxygen levels show a global downward trend , because of fossil - fuel burning . oxygen is the most abundant element by mass in the earth ' s crust as part of oxide compounds such as silicon dioxide , making up almost half of the crust ' s mass .\n",
      "Predicted Answer: 8\n",
      "True Answer: 8\n",
      "--------------------------------------------------\n",
      "Question: how many campuses does the university of california have ?\n",
      "Context: the tech coast is a moniker that has gained use as a descriptor for the region ' s diversified technology and industrial base as well as its multitude of prestigious and world - renowned research universities and other public and private institutions . amongst these include 5 university of california campuses ( irvine , los angeles , riverside , santa barbara , and san diego ); 12 california state university campuses ( bakersfield , channel islands , dominguez hills , fullerton , los angeles , long beach , northridge , pomona , san bernardino , san diego , san marcos , and san luis obispo ); and private institutions such as the california institute of technology , chapman university , the claremont colleges ( claremont mckenna college , harvey mudd college , pitzer college , pomona college , and scripps college ), loma linda university , loyola marymount university , occidental college , pepperdine university , university of redlands , university of san diego , and the university of southern california .\n",
      "Predicted Answer: 12\n",
      "True Answer: 5\n",
      "--------------------------------------------------\n",
      "Question: how many cylinders does the energiprojekt ab engine have ?\n",
      "Context: although the reciprocating steam engine is no longer in widespread commercial use , various companies are exploring or exploiting the potential of the engine as an alternative to internal combustion engines . the company energiprojekt ab in sweden has made progress in using modern materials for harnessing the power of steam . the efficiency of energiprojekt ' s steam engine reaches some 27 - 30 % on high - pressure engines . it is a single - step , 5 - cylinder engine ( no compound ) with superheated steam and consumes approx . 4 kg ( 8 . 8 lb ) of steam per kwh .[ not in citation given ]\n",
      "Predicted Answer: 5\n",
      "True Answer: 5\n",
      "--------------------------------------------------\n",
      "Question: what number did early greeks not regard as a true number ?\n",
      "Context: most early greeks did not even consider 1 to be a number , so they could not consider it to be a prime . by the middle ages and renaissance many mathematicians included 1 as the first prime number . in the mid - 18th century christian goldbach listed 1 as the first prime in his famous correspondence with leonhard euler -- who did not agree . in the 19th century many mathematicians still considered the number 1 to be a prime . for example , derrick norman lehmer ' s list of primes up to 10 , 006 , 721 , reprinted as late as 1956 , started with 1 as its first prime . henri lebesgue is said to be the last professional mathematician to call 1 prime . by the early 20th century , mathematicians began to accept that 1 is not a prime number , but rather forms its own special category as a \" unit \".\n",
      "Predicted Answer: 1\n",
      "True Answer: 1\n",
      "--------------------------------------------------\n",
      "Question: any even number larger than what cannot be considered prime ?\n",
      "Context: hence , 6 is not prime . the image at the right illustrates that 12 is not prime : 12 = 3 · 4 . no even number greater than 2 is prime because by definition , any such number n has at least three distinct divisors , namely 1 , 2 , and n . this implies that n is not prime . accordingly , the term odd prime refers to any prime number greater than 2 . similarly , when written in the usual decimal system , all prime numbers larger than 5 end in 1 , 3 , 7 , or 9 , since even numbers are multiples of 2 and numbers ending in 0 or 5 are multiples of 5 .\n",
      "Predicted Answer: 2\n",
      "True Answer: 2\n",
      "--------------------------------------------------\n",
      "Question: what article of the grundgesetz grants the right to make private schools ?\n",
      "Context: the right to create private schools in germany is in article 7 , paragraph 4 of the grundgesetz and cannot be suspended even in a state of emergency . it is also not possible to abolish these rights . this unusual protection of private schools was implemented to protect these schools from a second gleichschaltung or similar event in the future . still , they are less common than in many other countries . overall , between 1992 and 2008 the percent of pupils in such schools in germany increased from 6 . 1 % to 7 . 8 % ( including rise from 0 . 5 % to 6 . 1 % in the former gdr ). percent of students in private high schools reached 11 . 1 %.\n",
      "Predicted Answer: germany\n",
      "True Answer: 7\n",
      "--------------------------------------------------\n",
      "Question: besides 1 , 3 and 7 , what other number must all primes greater than 5 end with ?\n",
      "Context: hence , 6 is not prime . the image at the right illustrates that 12 is not prime : 12 = 3 · 4 . no even number greater than 2 is prime because by definition , any such number n has at least three distinct divisors , namely 1 , 2 , and n . this implies that n is not prime . accordingly , the term odd prime refers to any prime number greater than 2 . similarly , when written in the usual decimal system , all prime numbers larger than 5 end in 1 , 3 , 7 , or 9 , since even numbers are multiples of 2 and numbers ending in 0 or 5 are multiples of 5 .\n",
      "Predicted Answer: \n",
      "True Answer: 9\n",
      "--------------------------------------------------\n",
      "Question: what variable is associated with all problems solved within logarithmic space ?\n",
      "Context: similarly , it is not known if l ( the set of all problems that can be solved in logarithmic space ) is strictly contained in p or equal to p . again , there are many complexity classes between the two , such as nl and nc , and it is not known if they are distinct or equal classes .\n",
      "Predicted Answer: not\n",
      "True Answer: l\n",
      "--------------------------------------------------\n",
      "Question: what percentage of british children are educated at gsce level in fee - paying schools ?\n",
      "Context: private schools generally prefer to be called independent schools , because of their freedom to operate outside of government and local government control . some of these are also known as public schools . preparatory schools in the uk prepare pupils aged up to 13 years old to enter public schools . the name \" public school \" is based on the fact that the schools were open to pupils from anywhere , and not merely to those from a certain locality , and of any religion or occupation . according to the good schools guide approximately 9 per cent of children being educated in the uk are doing so at fee - paying schools at gsce level and 13 per cent at a - level .[ citation needed ] many independent schools are single - sex ( though this is becoming less common ). fees range from under £ 3 , 000 to £ 21 , 000 and above per year for day pupils , rising to £ 27 , 000 + per year for boarders . for details in scotland , see \" meeting the cost \".\n",
      "Predicted Answer: 13\n",
      "True Answer: 9\n",
      "--------------------------------------------------\n",
      "Question: what complexity class is characterized by a computational tasks and efficient algorithms ?\n",
      "Context: the complexity class p is often seen as a mathematical abstraction modeling those computational tasks that admit an efficient algorithm . this hypothesis is called the cobham – edmonds thesis . the complexity class np , on the other hand , contains many problems that people would like to solve efficiently , but for which no efficient algorithm is known , such as the boolean satisfiability problem , the hamiltonian path problem and the vertex cover problem . since deterministic turing machines are special non - deterministic turing machines , it is easily observed that each problem in p is also member of the class np .\n",
      "Predicted Answer: np\n",
      "True Answer: p\n",
      "--------------------------------------------------\n",
      "Question: how many members in the seats of the scottish parliament are members of the scottish government ?\n",
      "Context: the debating chamber of the scottish parliament has seating arranged in a hemicycle , which reflects the desire to encourage consensus amongst elected members . there are 131 seats in the debating chamber . of the total 131 seats , 129 are occupied by the parliament ' s elected msps and 2 are seats for the scottish law officers – the lord advocate and the solicitor general for scotland , who are not elected members of the parliament but are members of the scottish government . as such the law officers may attend and speak in the plenary meetings of the parliament but , as they are not elected msps , cannot vote . members are able to sit anywhere in the debating chamber , but typically sit in their party groupings . the first minister , scottish cabinet ministers and law officers sit in the front row , in the middle section of the chamber . the largest party in the parliament sits in the middle of the semicircle , with opposing parties on either side . the presiding officer , parliamentary clerks and officials sit opposite members at the front of the debating chamber .\n",
      "Predicted Answer: 131\n",
      "True Answer: 2\n",
      "--------------------------------------------------\n",
      "Question: how many vector equations did heaviside and gibbs reformilate max\n",
      "Context: the origin of electric and magnetic fields would not be fully explained until 1864 when james clerk maxwell unified a number of earlier theories into a set of 20 scalar equations , which were later reformulated into 4 vector equations by oliver heaviside and josiah willard gibbs . these \" maxwell equations \" fully described the sources of the fields as being stationary and moving charges , and the interactions of the fields themselves . this led maxwell to discover that electric and magnetic fields could be \" self - generating \" through a wave that traveled at a speed that he calculated to be the speed of light . this insight united the nascent fields of electromagnetic theory with optics and led directly to a complete description of the electromagnetic spectrum .\n",
      "Predicted Answer: 4\n",
      "True Answer: 4\n",
      "--------------------------------------------------\n",
      "Question: the integer factorization problem essentially seeks to determine if the value of of an input is\n",
      "Context: the integer factorization problem is the computational problem of determining the prime factorization of a given integer . phrased as a decision problem , it is the problem of deciding whether the input has a factor less than k . no efficient integer factorization algorithm is known , and this fact forms the basis of several modern cryptographic systems , such as the rsa algorithm . the integer factorization problem is in np and in co - np ( and even in up and co - up ). if the problem is np - complete , the polynomial time hierarchy will collapse to its first level ( i . e ., np will equal co - np ). the best known algorithm for integer factorization is the general number field sieve , which takes time o ( e ( 64 / 9 ) 1 / 3 ( n . log 2 ) 1 / 3 ( log ( n . log 2 )) 2 / 3 ) to factor an n - bit integer . however , the best known quantum algorithm for this problem , shor ' s algorithm , does run in polynomial time . unfortunately , this fact doesn ' t say much about where the problem lies with respect to non - quantum complexity classes .\n",
      "Predicted Answer: np\n",
      "True Answer: k\n",
      "--------------------------------------------------\n",
      "Question: how many museums are in warsaw ?\n",
      "Context: as interesting examples of expositions the most notable are : the world ' s first museum of posters boasting one of the largest collections of art posters in the world , museum of hunting and riding and the railway museum . from among warsaw ' s 60 museums , the most prestigious ones are national museum with a collection of works whose origin ranges in time from antiquity till the present epoch as well as one of the best collections of paintings in the country including some paintings from adolf hitler ' s private collection , and museum of the polish army whose set portrays the history of arms .\n",
      "Predicted Answer: 60\n",
      "True Answer: 60\n",
      "--------------------------------------------------\n",
      "Question: what light radiation does ozone absorb ?\n",
      "Context: trioxygen ( o 3 ) is usually known as ozone and is a very reactive allotrope of oxygen that is damaging to lung tissue . ozone is produced in the upper atmosphere when o 2 combines with atomic oxygen made by the splitting of o 2 by ultraviolet ( uv ) radiation . since ozone absorbs strongly in the uv region of the spectrum , the ozone layer of the upper atmosphere functions as a protective radiation shield for the planet . near the earth ' s surface , it is a pollutant formed as a by - product of automobile exhaust . the metastable molecule tetraoxygen ( o 4 ) was discovered in 2001 , and was assumed to exist in one of the six phases of solid oxygen . it was proven in 2006 that this phase , created by pressurizing o 2 to 20 gpa , is in fact a rhombohedral o 8 cluster . this cluster has the potential to be a much more powerful oxidizer than either o 2 or o 3 and may therefore be used in rocket fuel . a metallic phase was discovered in 1990 when solid oxygen is subjected to a pressure of above 96 gpa and it was shown in 1998 that at very low temperatures , this phase becomes superconducting .\n",
      "Predicted Answer: bs\n",
      "True Answer: uv\n",
      "--------------------------------------------------\n",
      "Question: what is the number of constituency msps ?\n",
      "Context: of the 129 msps , 73 are elected to represent first past the post constituencies and are known as \" constituency msps \". voters choose one member to represent the constituency , and the member with most votes is returned as a constituency msp . the 73 scottish parliament constituencies shared the same boundaries as the uk parliament constituencies in scotland , prior to the 2005 reduction in the number of scottish mps , with the exception of orkney and shetland which each return their own constituency msp . currently , the average scottish parliament constituency comprises 55 , 000 electors . given the geographical distribution of population in scotland , this results in constituencies of a smaller area in the central lowlands , where the bulk of scotland ' s population live , and much larger constituency areas in the north and west of the country , which have a low population density . the island archipelagos of orkney , shetland and the western isles comprise a much smaller number of electors , due to their dispersed population and distance from the scottish parliament in edinburgh . if a constituency msp resigns from parliament , this triggers a by - election in his or her constituency , where a replacement msp is returned from one of the parties by the plurality system .\n",
      "Predicted Answer: 129\n",
      "True Answer: 73\n",
      "--------------------------------------------------\n",
      "Question: how many natural reserves are in warsaw ?\n",
      "Context: there are 13 natural reserves in warsaw – among others , bielany forest , kabaty woods , czerniaków lake . about 15 kilometres ( 9 miles ) from warsaw , the vistula river ' s environment changes strikingly and features a perfectly preserved ecosystem , with a habitat of animals that includes the otter , beaver and hundreds of bird species . there are also several lakes in warsaw – mainly the oxbow lakes , like czerniaków lake , the lakes in the łazienki or wilanów parks , kamionek lake . there are lot of small lakes in the parks , but only a few are permanent – the majority are emptied before winter to clean them of plants and sediments .\n",
      "Predicted Answer: 13\n",
      "True Answer: 13\n",
      "--------------------------------------------------\n",
      "Question: how many total judges are there in the eu ?\n",
      "Context: the judicial branch of the eu has played an important role in the development of eu law , by assuming the task of interpreting the treaties , and accelerating economic and political integration . today the court of justice of the european union ( cjeu ) is the main judicial body , within which there is a higher european court of justice ( commonly abbreviated as ecj ) that deals with cases that contain more public importance , and a general court that deals with issues of detail but without general importance . there is also a civil service tribunal to deal with eu staff issues , and then a separate court of auditors . under the treaty on european union article 19 ( 2 ) there is one judge from each member state , 28 at present , who are supposed to \" possess the qualifications required for appointment to the highest judicial offices \" ( or for the general court , the \" ability required for appointment to high judicial office \"). a president is elected by the judges for three years . under teu article 19 ( 3 ) is to be the ultimate court to interpret questions of eu law . in fact , most eu law is applied by member state courts ( the english court of appeal , the german bundesgerichtshof , the belgian cour du travail , etc .) but they can refer questions to the eu court for a preliminary ruling . the cjeu ' s duty is to \" ensure that in the interpretation and application of the treaties the law is observed \", although realistically it\n",
      "Predicted Answer: one\n",
      "True Answer: 28\n",
      "--------------------------------------------------\n",
      "Question: how many examination boards exist in india ?\n",
      "Context: in india , private schools are called independent schools , but since some private schools receive financial aid from the government , it can be an aided or an unaided school . so , in a strict sense , a private school is an unaided independent school . for the purpose of this definition , only receipt of financial aid is considered , not land purchased from the government at a subsidized rate . it is within the power of both the union government and the state governments to govern schools since education appears in the concurrent list of legislative subjects in the constitution . the practice has been for the union government to provide the broad policy directions while the states create their own rules and regulations for the administration of the sector . among other things , this has also resulted in 30 different examination boards or academic authorities that conduct examinations for school leaving certificates . prominent examination boards that are present in multiple states are the cbse and the cisce , nenbse\n",
      "Predicted Answer: 30\n",
      "True Answer: 30\n",
      "--------------------------------------------------\n",
      "Question: what is the scientific designation of oxygen ?\n",
      "Context: the common allotrope of elemental oxygen on earth is called dioxygen , o 2 . it is the form that is a major part of the earth ' s atmosphere ( see occurrence ). o2 has a bond length of 121 pm and a bond energy of 498 kj · mol − 1 , which is smaller than the energy of other double bonds or pairs of single bonds in the biosphere and responsible for the exothermic reaction of o2 with any organic molecule . due to its energy content , o2 is used by complex forms of life , such as animals , in cellular respiration ( see biological role ). other aspects of o 2 are covered in the remainder of this article .\n",
      "Predicted Answer: dioxygen , o 2\n",
      "True Answer: o2\n",
      "--------------------------------------------------\n",
      "Question: what was dalton ' s erroneous formula for water ?\n",
      "Context: john dalton ' s original atomic hypothesis assumed that all elements were monatomic and that the atoms in compounds would normally have the simplest atomic ratios with respect to one another . for example , dalton assumed that water ' s formula was ho , giving the atomic mass of oxygen as 8 times that of hydrogen , instead of the modern value of about 16 . in 1805 , joseph louis gay - lussac and alexander von humboldt showed that water is formed of two volumes of hydrogen and one volume of oxygen ; and by 1811 amedeo avogadro had arrived at the correct interpretation of water ' s composition , based on what is now called avogadro ' s law and the assumption of diatomic elemental molecules .[ a ]\n",
      "Predicted Answer: ho\n",
      "True Answer: ho\n",
      "--------------------------------------------------\n",
      "Question: which country is a traditional ally of israel ?\n",
      "Context: the embargo was not uniform across europe . of the nine members of the european economic community ( eec ), the netherlands faced a complete embargo , the uk and france received almost uninterrupted supplies ( having refused to allow america to use their airfields and embargoed arms and supplies to both the arabs and the israelis ), while the other six faced partial cutbacks . the uk had traditionally been an ally of israel , and harold wilson ' s government supported the israelis during the six - day war . his successor , ted heath , reversed this policy in 1970 , calling for israel to withdraw to its pre - 1967 borders .\n",
      "Predicted Answer: uk\n",
      "True Answer: uk\n",
      "--------------------------------------------------\n",
      "Question: which country is not badly hit by the embargo ?\n",
      "Context: despite being relatively unaffected by the embargo , the uk nonetheless faced an oil crisis of its own - a series of strikes by coal miners and railroad workers over the winter of 1973 – 74 became a major factor in the change of government . heath asked the british to heat only one room in their houses over the winter . the uk , germany , italy , switzerland and norway banned flying , driving and boating on sundays . sweden rationed gasoline and heating oil . the netherlands imposed prison sentences for those who used more than their ration of electricity .\n",
      "Predicted Answer: unaffected\n",
      "True Answer: uk\n",
      "--------------------------------------------------\n",
      "Question: how many members are on the warsaw city counil ?\n",
      "Context: legislative power in warsaw is vested in a unicameral warsaw city council ( rada miasta ), which comprises 60 members . council members are elected directly every four years . like most legislative bodies , the city council divides itself into committees which have the oversight of various functions of the city government . bills passed by a simple majority are sent to the mayor ( the president of warsaw ), who may sign them into law . if the mayor vetoes a bill , the council has 30 days to override the veto by a two - thirds majority vote .\n",
      "Predicted Answer: 60\n",
      "True Answer: 60\n",
      "--------------------------------------------------\n",
      "Question: how many seats does victoria have in the senate ?\n",
      "Context: politically , victoria has 37 seats in the australian house of representatives and 12 seats in the australian senate . at state level , the parliament of victoria consists of the legislative assembly ( the lower house ) and the legislative council ( the upper house ). victoria is currently governed by the labor party , with daniel andrews the current premier . the personal representative of the queen of australia in the state is the governor of victoria , currently linda dessau . local government is concentrated in 79 municipal districts , including 33 cities , although a number of unincorporated areas still exist , which are administered directly by the state .\n",
      "Predicted Answer: 12\n",
      "True Answer: 12\n",
      "--------------------------------------------------\n",
      "Question: how old was toghun temur when he became emperor ?\n",
      "Context: after the death of tugh temür in 1332 and subsequent death of rinchinbal ( emperor ningzong ) the same year , the 13 - year - old toghun temür ( emperor huizong ), the last of the nine successors of kublai khan , was summoned back from guangxi and succeeded to the throne . after el temür ' s death , bayan became as powerful an official as el temür had been in the beginning of his long reign . as toghun temür grew , he came to disapprove of bayan ' s autocratic rule . in 1340 he allied himself with bayan ' s nephew toqto ' a , who was in discord with bayan , and banished bayan by coup . with the dismissal of bayan , toghtogha seized the power of the court . his first administration clearly exhibited fresh new spirit . he also gave a few early signs of a new and positive direction in central government . one of his successful projects was to finish the long - stalled official histories of the liao , jin , and song dynasties , which were eventually completed in 1345 . yet , toghtogha resigned his office with the approval of toghun temür , marking the end of his first administration , and he was not called back until 1349 .\n",
      "Predicted Answer: 13\n",
      "True Answer: 13\n",
      "--------------------------------------------------\n",
      "Question: what is the weight of a bushel of coal in pounds ?\n",
      "Context: the historical measure of a steam engine ' s energy efficiency was its \" duty \". the concept of duty was first introduced by watt in order to illustrate how much more efficient his engines were over the earlier newcomen designs . duty is the number of foot - pounds of work delivered by burning one bushel ( 94 pounds ) of coal . the best examples of newcomen designs had a duty of about 7 million , but most were closer to 5 million . watt ' s original low - pressure designs were able to deliver duty as high as 25 million , but averaged about 17 . this was a three - fold improvement over the average newcomen design . early watt engines equipped with high - pressure steam improved this to 65 million .\n",
      "Predicted Answer: ( 94\n",
      "True Answer: 94\n",
      "--------------------------------------------------\n",
      "Question: how many megaregions are there in the united states ?\n",
      "Context: the 8 - and 10 - county definitions are not used for the greater southern california megaregion , one of the 11 megaregions of the united states . the megaregion ' s area is more expansive , extending east into las vegas , nevada , and south across the mexican border into tijuana .\n",
      "Predicted Answer: 11\n",
      "True Answer: 11\n",
      "--------------------------------------------------\n",
      "Question: can bskyb veto the presence of channels on their epg ?\n",
      "Context: bskyb has no veto over the presence of channels on their epg , with open access being an enforced part of their operating licence from ofcom . any channel which can get carriage on a suitable beam of a satellite at 28 ° east is entitled to access to bskyb ' s epg for a fee , ranging from £ 15 – 100 , 000 . third - party channels which opt for encryption receive discounts ranging from reduced price to free epg entries , free carriage on a bskyb leased transponder , or actual payment for being carried . however , even in this case , bskyb does not carry any control over the channel ' s content or carriage issues such as picture quality .\n",
      "Predicted Answer: no\n",
      "True Answer: no\n",
      "--------------------------------------------------\n",
      "Question: how many rooms does the warsaw historical museum have ?\n",
      "Context: a fine tribute to the fall of warsaw and history of poland can be found in the warsaw uprising museum and in the katyń museum which preserves the memory of the crime . the warsaw uprising museum also operates a rare preserved and operating historic stereoscopic theatre , the warsaw fotoplastikon . the museum of independence preserves patriotic and political objects connected with poland ' s struggles for independence . dating back to 1936 warsaw historical museum contains 60 rooms which host a permanent exhibition of the history of warsaw from its origins until today .\n",
      "Predicted Answer: 60\n",
      "True Answer: 60\n",
      "--------------------------------------------------\n",
      "Question: how much capital did uk law require to start a company ?\n",
      "Context: in regard to companies , the court of justice held in r ( daily mail and general trust plc ) v hm treasury that member states could restrict a company moving its seat of business , without infringing tfeu article 49 . this meant the daily mail newspaper ' s parent company could not evade tax by shifting its residence to the netherlands without first settling its tax bills in the uk . the uk did not need to justify its action , as rules on company seats were not yet harmonised . by contrast , in centros ltd v erhversus - og selkabssyrelsen the court of justice found that a uk limited company operating in denmark could not be required to comply with denmark ' s minimum share capital rules . uk law only required £ 1 of capital to start a company , while denmark ' s legislature took the view companies should only be started up if they had 200 , 000 danish krone ( around € 27 , 000 ) to protect creditors if the company failed and went insolvent . the court of justice held that denmark ' s minimum capital law infringed centros ltd ' s freedom of establishment and could not be justified , because a company in the uk could admittedly provide services in denmark without being established there , and there were less restrictive means of achieving the aim of creditor protection . this approach was criticised as potentially opening the eu to unjustified regulatory competition , and a race to the\n",
      "Predicted Answer: £ 1\n",
      "True Answer: £ 1\n",
      "--------------------------------------------------\n",
      "Question: how many avulsions have occurred in the past 6000 yeas ?\n",
      "Context: since ~ 3000 yr bp (= years before present ), human impact is seen in the delta . as a result of increasing land clearance ( bronze age agriculture ), in the upland areas ( central germany ), the sediment load of the rhine has strongly increased and delta growth has sped up . this caused increased flooding and sedimentation , ending peat formation in the delta . the shifting of river channels to new locations , on the floodplain ( termed avulsion ), was the main process distributing sediment across the subrecent delta . over the past 6000 years , approximately 80 avulsions have occurred . direct human impact in the delta started with peat mining , for salt and fuel , from roman times onward . this was followed by embankment , of the major distributaries and damming of minor distributaries , which took place in the 11 – 13th century ad . thereafter , canals were dug , bends were short cut and groynes were built , to prevent the river ' s channels from migrating or silting up .\n",
      "Predicted Answer: 80\n",
      "True Answer: 80\n",
      "--------------------------------------------------\n",
      "Question: what is the high end of the temperature range in winter ?\n",
      "Context: southern california contains a mediterranean climate , with infrequent rain and many sunny days . summers are hot and dry , while winters are a bit warm or mild and wet . serious rain can occur unusually . in the summers , temperature ranges are 90 - 60 ' s while as winters are 70 - 50 ' s , usually all of southern california have mediterranean climate . but snow is very rare in the southwest of the state , it occurs on the southeast of the state .\n",
      "Predicted Answer: 90 - 60\n",
      "True Answer: 70\n",
      "--------------------------------------------------\n",
      "Question: what was the average duty of a low - pressure watt engine ?\n",
      "Context: the historical measure of a steam engine ' s energy efficiency was its \" duty \". the concept of duty was first introduced by watt in order to illustrate how much more efficient his engines were over the earlier newcomen designs . duty is the number of foot - pounds of work delivered by burning one bushel ( 94 pounds ) of coal . the best examples of newcomen designs had a duty of about 7 million , but most were closer to 5 million . watt ' s original low - pressure designs were able to deliver duty as high as 25 million , but averaged about 17 . this was a three - fold improvement over the average newcomen design . early watt engines equipped with high - pressure steam improved this to 65 million .\n",
      "Predicted Answer: 17 . this was a three - fold improvement over the average newcomen design . early\n",
      "True Answer: 17\n",
      "--------------------------------------------------\n",
      "Question: how many city officials were indicted due to corruption ?\n",
      "Context: in the mid - 1960s , corruption scandals began to arise among many of the city ' s officials , who were mainly elected through the traditional old boy network . after a grand jury was convened to investigate , 11 officials were indicted and more were forced to resign . jacksonville consolidation , led by j . j . daniel and claude yates , began to win more support during this period , from both inner city blacks , who wanted more involvement in government , and whites in the suburbs , who wanted more services and more control over the central city . in 1964 all 15 of duval county ' s public high schools lost their accreditation . this added momentum to proposals for government reform . lower taxes , increased economic development , unification of the community , better public spending and effective administration by a more central authority were all cited as reasons for a new consolidated government .\n",
      "Predicted Answer: 11\n",
      "True Answer: 11\n",
      "--------------------------------------------------\n",
      "Question: how many medieval warm period reconstructions were used ?\n",
      "Context: the ipcc fourth assessment report ( ar4 ) published in 2007 featured a graph showing 12 proxy based temperature reconstructions , including the three highlighted in the 2001 third assessment report ( tar ); mann , bradley & hughes 1999 as before , jones et al . 1998 and briffa 2000 had both been calibrated by newer studies . in addition , analysis of the medieval warm period cited reconstructions by crowley & lowery 2000 ( as cited in the tar ) and osborn & briffa 2006 . ten of these 14 reconstructions covered 1 , 000 years or longer . most reconstructions shared some data series , particularly tree ring data , but newer reconstructions used additional data and covered a wider area , using a variety of statistical methods . the section discussed the divergence problem affecting certain tree ring data .\n",
      "Predicted Answer: 12\n",
      "True Answer: 14\n",
      "--------------------------------------------------\n",
      "Question: what type of electric current is needed for electrolysis ?\n",
      "Context: oxygen gas can also be produced through electrolysis of water into molecular oxygen and hydrogen . dc electricity must be used : if ac is used , the gases in each limb consist of hydrogen and oxygen in the explosive ratio 2 : 1 . contrary to popular belief , the 2 : 1 ratio observed in the dc electrolysis of acidified water does not prove that the empirical formula of water is h2o unless certain assumptions are made about the molecular formulae of hydrogen and oxygen themselves . a similar method is the electrocatalytic o 2 evolution from oxides and oxoacids . chemical catalysts can be used as well , such as in chemical oxygen generators or oxygen candles that are used as part of the life - support equipment on submarines , and are still part of standard equipment on commercial airliners in case of depressurization emergencies . another air separation technology involves forcing air to dissolve through ceramic membranes based on zirconium dioxide by either high pressure or an electric current , to produce nearly pure o 2 gas .\n",
      "Predicted Answer: oxygen gas can also be produced through electrolysis of water\n",
      "True Answer: dc\n",
      "--------------------------------------------------\n",
      "Question: what percentage of france ' s population is protestant today ?\n",
      "Context: approximately one million protestants in modern france represent some 2 % of its population . most are concentrated in alsace in northeast france and the cévennes mountain region in the south , who still regard themselves as huguenots to this day .[ citation needed ] a diaspora of french australians still considers itself huguenot , even after centuries of exile . long integrated into australian society , it is encouraged by the huguenot society of australia to embrace and conserve its cultural heritage , aided by the society ' s genealogical research services .\n",
      "Predicted Answer: 2 %\n",
      "True Answer: 2 %\n",
      "--------------------------------------------------\n",
      "Question: how many campuses does the california state university have ?\n",
      "Context: the tech coast is a moniker that has gained use as a descriptor for the region ' s diversified technology and industrial base as well as its multitude of prestigious and world - renowned research universities and other public and private institutions . amongst these include 5 university of california campuses ( irvine , los angeles , riverside , santa barbara , and san diego ); 12 california state university campuses ( bakersfield , channel islands , dominguez hills , fullerton , los angeles , long beach , northridge , pomona , san bernardino , san diego , san marcos , and san luis obispo ); and private institutions such as the california institute of technology , chapman university , the claremont colleges ( claremont mckenna college , harvey mudd college , pitzer college , pomona college , and scripps college ), loma linda university , loyola marymount university , occidental college , pepperdine university , university of redlands , university of san diego , and the university of southern california .\n",
      "Predicted Answer: 12\n",
      "True Answer: 12\n",
      "--------------------------------------------------\n",
      "Question: how many general principles does the social charter declare ?\n",
      "Context: the social chapter is a chapter of the 1997 treaty of amsterdam covering social policy issues in european union law . the basis for the social chapter was developed in 1989 by the \" social partners \" representatives , namely unice , the employers ' confederation , the european trade union confederation ( etuc ) and ceep , the european centre of public enterprises . a toned down version was adopted as the social charter at the 1989 strasbourg european council . the social charter declares 30 general principles , including on fair remuneration of employment , health and safety at work , rights of disabled and elderly , the rights of workers , on vocational training and improvements of living conditions . the social charter became the basis for european community legislation on these issues in 40 pieces of legislation .\n",
      "Predicted Answer: 30\n",
      "True Answer: 30\n",
      "--------------------------------------------------\n",
      "Question: how many academic majors does the university grant in total ?\n",
      "Context: the college of the university of chicago grants bachelor of arts and bachelor of science degrees in 50 academic majors and 28 minors . the college ' s academics are divided into five divisions : the biological sciences collegiate division , the physical sciences collegiate division , the social sciences collegiate division , the humanities collegiate division , and the new collegiate division . the first four are sections within their corresponding graduate divisions , while the new collegiate division administers interdisciplinary majors and studies which do not fit in one of the other four divisions .\n",
      "Predicted Answer: 50\n",
      "True Answer: 50\n",
      "--------------------------------------------------\n",
      "Question: how many academic minors does the university grant in total ?\n",
      "Context: the college of the university of chicago grants bachelor of arts and bachelor of science degrees in 50 academic majors and 28 minors . the college ' s academics are divided into five divisions : the biological sciences collegiate division , the physical sciences collegiate division , the social sciences collegiate division , the humanities collegiate division , and the new collegiate division . the first four are sections within their corresponding graduate divisions , while the new collegiate division administers interdisciplinary majors and studies which do not fit in one of the other four divisions .\n",
      "Predicted Answer: 28\n",
      "True Answer: 28\n",
      "--------------------------------------------------\n",
      "Question: how many people belong to the university ' s board of trustees ?\n",
      "Context: the university of chicago is governed by a board of trustees . the board of trustees oversees the long - term development and plans of the university and manages fundraising efforts , and is composed of 50 members including the university president . directly beneath the president are the provost , fourteen vice presidents ( including the chief financial officer , chief investment officer , and dean of students of the university ), the directors of argonne national laboratory and fermilab , the secretary of the university , and the student ombudsperson . as of august 2009 [ update ], the chairman of the board of trustees is andrew alper , and the president of the university is robert zimmer . in december 2013 it was announced that the director of argonne national laboratory , eric isaacs , would become provost . isaacs was replaced as provost in march 2016 by daniel diermeier .\n",
      "Predicted Answer: 50\n",
      "True Answer: 50\n",
      "--------------------------------------------------\n",
      "Question: does the new deal include video on demand and high definition ?\n",
      "Context: the agreements include fixed annual carriage fees of £ 30m for the channels with both channel suppliers able to secure additional capped payments if their channels meet certain performance - related targets . currently there is no indication as to whether the new deal includes the additional video on demand and high definition content which had previously been offered by bskyb . as part of the agreements , both bskyb and virgin media agreed to terminate all high court proceedings against each other relating to the carriage of their respective basic channels .\n",
      "Predicted Answer: bskyb\n",
      "True Answer: no\n",
      "--------------------------------------------------\n",
      "Question: how many private schools existed in new zealand in april 2014 ?\n",
      "Context: as of april 2014 , there are 88 private schools in new zealand , catering for around 28 , 000 students or 3 . 7 % of the entire student population . private school numbers have been in decline since the mid - 1970s as a result of many private schools opting to become state - integrated schools , mostly due of financial difficulties stemming from changes in student numbers and / or the economy . state - integrated schools keep their private school special character and receives state funds in return for having to operate like a state school , e . g . they must teach the state curriculum , they must employ registered teachers , and they can ' t charge tuition fees ( they can charge \" attendance dues \" for the upkeep on the still - private school land and buildings ). the largest decline in private school numbers occurred between 1979 and 1984 , when the nation ' s then - private catholic school system integrated . as a result , private schools in new zealand are now largely restricted to the largest cities ( auckland , hamilton , wellington and christchurch ) and niche markets .\n",
      "Predicted Answer: 88\n",
      "True Answer: 88\n",
      "--------------------------------------------------\n",
      "Question: how many research institutes does the university run on campus ?\n",
      "Context: the university operates 12 research institutes and 113 research centers on campus . among these are the oriental institute — a museum and research center for near eastern studies owned and operated by the university — and a number of national resource centers , including the center for middle eastern studies . chicago also operates or is affiliated with a number of research institutions apart from the university proper . the university partially manages argonne national laboratory , part of the united states department of energy ' s national laboratory system , and has a joint stake in fermilab , a nearby particle physics laboratory , as well as a stake in the apache point observatory in sunspot , new mexico . faculty and students at the adjacent toyota technological institute at chicago collaborate with the university , in 2013 , the university announced that it was affiliating the formerly independent marine biological laboratory in woods hole , mass . although formally unrelated , the national opinion research center is located on chicago ' s campus .\n",
      "Predicted Answer: 12\n",
      "True Answer: 12\n",
      "--------------------------------------------------\n",
      "Question: how many drugs approved by the fda in 2013 were specialty drugs ?\n",
      "Context: specialty pharmacies supply high cost injectable , oral , infused , or inhaled medications that are used for chronic and complex disease states such as cancer , hepatitis , and rheumatoid arthritis . unlike a traditional community pharmacy where prescriptions for any common medication can be brought in and filled , specialty pharmacies carry novel medications that need to be properly stored , administered , carefully monitored , and clinically managed . in addition to supplying these drugs , specialty pharmacies also provide lab monitoring , adherence counseling , and assist patients with cost - containment strategies needed to obtain their expensive specialty drugs . it is currently the fastest growing sector of the pharmaceutical industry with 19 of 28 newly fda approved medications in 2013 being specialty drugs .\n",
      "Predicted Answer: 28\n",
      "True Answer: 19\n",
      "--------------------------------------------------\n",
      "Question: what percentage of private school students go to catholic schools ?\n",
      "Context: as of august 2010 , victoria had 1 , 548 public schools , 489 catholic schools and 214 independent schools . just under 540 , 800 students were enrolled in public schools , and just over 311 , 800 in private schools . over 61 per cent of private students attend catholic schools . more than 462 , 000 students were enrolled in primary schools and more than 390 , 000 in secondary schools . retention rates for the final two years of secondary school were 77 per cent for public school students and 90 per cent for private school students . victoria has about 63 , 519 full - time teachers .\n",
      "Predicted Answer: 61\n",
      "True Answer: 61\n",
      "--------------------------------------------------\n",
      "Question: how many scalar equations were formed into a set by james maxwell ?\n",
      "Context: the origin of electric and magnetic fields would not be fully explained until 1864 when james clerk maxwell unified a number of earlier theories into a set of 20 scalar equations , which were later reformulated into 4 vector equations by oliver heaviside and josiah willard gibbs . these \" maxwell equations \" fully described the sources of the fields as being stationary and moving charges , and the interactions of the fields themselves . this led maxwell to discover that electric and magnetic fields could be \" self - generating \" through a wave that traveled at a speed that he calculated to be the speed of light . this insight united the nascent fields of electromagnetic theory with optics and led directly to a complete description of the electromagnetic spectrum .\n",
      "Predicted Answer: 20\n",
      "True Answer: 20\n",
      "--------------------------------------------------\n",
      "Question: how many floors are there in the building that was completed in 1967 ?\n",
      "Context: the tallest building in downtown jacksonville ' s skyline is the bank of america tower , constructed in 1990 as the barnett center . it has a height of 617 ft ( 188 m ) and includes 42 floors . other notable structures include the 37 - story wells fargo center ( with its distinctive flared base making it the defining building in the jacksonville skyline ), originally built in 1972 - 74 by the independent life and accident insurance company , and the 28 floor riverplace tower which , when completed in 1967 , was the tallest precast , post - tensioned concrete structure in the world .\n",
      "Predicted Answer: 42\n",
      "True Answer: 28\n",
      "--------------------------------------------------\n",
      "Question: what percentage of electricity was made by steam turbine in the 1990s ?\n",
      "Context: the main use for steam turbines is in electricity generation ( in the 1990s about 90 % of the world ' s electric production was by use of steam turbines ) however the recent widespread application of large gas turbine units and typical combined cycle power plants has resulted in reduction of this percentage to the 80 % regime for steam turbines . in electricity production , the high speed of turbine rotation matches well with the speed of modern electric generators , which are typically direct connected to their driving turbines . in marine service , ( pioneered on the turbinia ), steam turbines with reduction gearing ( although the turbinia has direct turbines to propellers with no reduction gearbox ) dominated large ship propulsion throughout the late 20th century , being more efficient ( and requiring far less maintenance ) than reciprocating steam engines . in recent decades , reciprocating diesel engines , and gas turbines , have almost entirely supplanted steam propulsion for marine applications .\n",
      "Predicted Answer: 90 %\n",
      "True Answer: 90\n",
      "--------------------------------------------------\n",
      "Question: how many degrees south did the amazon rainforest reach from 66 - 34 mya ?\n",
      "Context: following the cretaceous – paleogene extinction event , the extinction of the dinosaurs and the wetter climate may have allowed the tropical rainforest to spread out across the continent . from 66 – 34 mya , the rainforest extended as far south as 45 °. climate fluctuations during the last 34 million years have allowed savanna regions to expand into the tropics . during the oligocene , for example , the rainforest spanned a relatively narrow band . it expanded again during the middle miocene , then retracted to a mostly inland formation at the last glacial maximum . however , the rainforest still managed to thrive during these glacial periods , allowing for the survival and evolution of a broad diversity of species .\n",
      "Predicted Answer: 45\n",
      "True Answer: 45\n",
      "--------------------------------------------------\n",
      "Question: how many provinces did the ottoman empire contain in the 17th century ?\n",
      "Context: the ottoman empire was an imperial state that lasted from 1299 to 1923 . during the 16th and 17th centuries , in particular at the height of its power under the reign of suleiman the magnificent , the ottoman empire was a powerful multinational , multilingual empire controlling much of southeast europe , western asia , the caucasus , north africa , and the horn of africa . at the beginning of the 17th century the empire contained 32 provinces and numerous vassal states . some of these were later absorbed into the empire , while others were granted various types of autonomy during the course of centuries .\n",
      "Predicted Answer: 32\n",
      "True Answer: 32\n",
      "--------------------------------------------------\n",
      "Question: how many intercollegiate sports does harvard compete in ncaa division i\n",
      "Context: the harvard crimson competes in 42 intercollegiate sports in the ncaa division i ivy league . harvard has an intense athletic rivalry with yale university culminating in the game , although the harvard – yale regatta predates the football game . this rivalry , though , is put aside every two years when the harvard and yale track and field teams come together to compete against a combined oxford university and cambridge university team , a competition that is the oldest continuous international amateur competition in the world .\n",
      "Predicted Answer: 42\n",
      "True Answer: 42\n",
      "--------------------------------------------------\n",
      "Question: at a - level , what percentage of british students attend fee - paying schools ?\n",
      "Context: private schools generally prefer to be called independent schools , because of their freedom to operate outside of government and local government control . some of these are also known as public schools . preparatory schools in the uk prepare pupils aged up to 13 years old to enter public schools . the name \" public school \" is based on the fact that the schools were open to pupils from anywhere , and not merely to those from a certain locality , and of any religion or occupation . according to the good schools guide approximately 9 per cent of children being educated in the uk are doing so at fee - paying schools at gsce level and 13 per cent at a - level .[ citation needed ] many independent schools are single - sex ( though this is becoming less common ). fees range from under £ 3 , 000 to £ 21 , 000 and above per year for day pupils , rising to £ 27 , 000 + per year for boarders . for details in scotland , see \" meeting the cost \".\n",
      "Predicted Answer: 13\n",
      "True Answer: 13\n",
      "--------------------------------------------------\n",
      "Question: how many miles south of san jose is the north - south midway point located ?\n",
      "Context: \" southern california \" is not a formal geographic designation , and definitions of what constitutes southern california vary . geographically , california ' s north - south midway point lies at exactly 37 ° 9 ' 58 . 23 \" latitude , around 11 miles ( 18 km ) south of san jose ; however , this does not coincide with popular use of the term . when the state is divided into two areas ( northern and southern california ), the term \" southern california \" usually refers to the ten southern - most counties of the state . this definition coincides neatly with the county lines at 35 ° 47 ′ 28 ″ north latitude , which form the northern borders of san luis obispo , kern , and san bernardino counties . another definition for southern california uses point conception and the tehachapi mountains as the northern boundary .\n",
      "Predicted Answer: 11\n",
      "True Answer: 11\n",
      "--------------------------------------------------\n",
      "Question: how many pieces of legislation has the social charter become the basis for ?\n",
      "Context: the social chapter is a chapter of the 1997 treaty of amsterdam covering social policy issues in european union law . the basis for the social chapter was developed in 1989 by the \" social partners \" representatives , namely unice , the employers ' confederation , the european trade union confederation ( etuc ) and ceep , the european centre of public enterprises . a toned down version was adopted as the social charter at the 1989 strasbourg european council . the social charter declares 30 general principles , including on fair remuneration of employment , health and safety at work , rights of disabled and elderly , the rights of workers , on vocational training and improvements of living conditions . the social charter became the basis for european community legislation on these issues in 40 pieces of legislation .\n",
      "Predicted Answer: 40\n",
      "True Answer: 40\n",
      "--------------------------------------------------\n",
      "Question: which state route has been in discussion to upgrade to interstate standards ?\n",
      "Context: fresno is the largest u . s . city not directly linked to an interstate highway . when the interstate highway system was created in the 1950s , the decision was made to build what is now interstate 5 on the west side of the central valley , and thus bypass many of the population centers in the region , instead of upgrading what is now state route 99 . due to rapidly raising population and traffic in cities along sr 99 , as well as the desirability of federal funding , much discussion has been made to upgrade it to interstate standards and eventually incorporate it into the interstate system , most likely as interstate 9 . major improvements to signage , lane width , median separation , vertical clearance , and other concerns are currently underway .\n",
      "Predicted Answer: 99\n",
      "True Answer: 99\n",
      "--------------------------------------------------\n",
      "Question: up to what age do students in the united kingdom attend preparatory schools ?\n",
      "Context: private schools generally prefer to be called independent schools , because of their freedom to operate outside of government and local government control . some of these are also known as public schools . preparatory schools in the uk prepare pupils aged up to 13 years old to enter public schools . the name \" public school \" is based on the fact that the schools were open to pupils from anywhere , and not merely to those from a certain locality , and of any religion or occupation . according to the good schools guide approximately 9 per cent of children being educated in the uk are doing so at fee - paying schools at gsce level and 13 per cent at a - level .[ citation needed ] many independent schools are single - sex ( though this is becoming less common ). fees range from under £ 3 , 000 to £ 21 , 000 and above per year for day pupils , rising to £ 27 , 000 + per year for boarders . for details in scotland , see \" meeting the cost \".\n",
      "Predicted Answer: 13\n",
      "True Answer: 13\n",
      "--------------------------------------------------\n",
      "Question: how many seats does victoria have in the australian house of representatives ?\n",
      "Context: politically , victoria has 37 seats in the australian house of representatives and 12 seats in the australian senate . at state level , the parliament of victoria consists of the legislative assembly ( the lower house ) and the legislative council ( the upper house ). victoria is currently governed by the labor party , with daniel andrews the current premier . the personal representative of the queen of australia in the state is the governor of victoria , currently linda dessau . local government is concentrated in 79 municipal districts , including 33 cities , although a number of unincorporated areas still exist , which are administered directly by the state .\n",
      "Predicted Answer: 37\n",
      "True Answer: 37\n",
      "--------------------------------------------------\n",
      "Question: what was the percentage of people that voted in favor of the pico act of 1859 ?\n",
      "Context: subsequently , californios ( dissatisfied with inequitable taxes and land laws ) and pro - slavery southerners in the lightly populated \" cow counties \" of southern california attempted three times in the 1850s to achieve a separate statehood or territorial status separate from northern california . the last attempt , the pico act of 1859 , was passed by the california state legislature and signed by the state governor john b . weller . it was approved overwhelmingly by nearly 75 % of voters in the proposed territory of colorado . this territory was to include all the counties up to the then much larger tulare county ( that included what is now kings , most of kern , and part of inyo counties ) and san luis obispo county . the proposal was sent to washington , d . c . with a strong advocate in senator milton latham . however , the secession crisis following the election of abraham lincoln in 1860 led to the proposal never coming to a vote .\n",
      "Predicted Answer: 75 %\n",
      "True Answer: 75\n",
      "--------------------------------------------------\n",
      "Question: what percentage of filipino tertiary education takes place in private schools ?\n",
      "Context: in the philippines , the private sector has been a major provider of educational services , accounting for about 7 . 5 % of primary enrollment , 32 % of secondary enrollment and about 80 % of tertiary enrollment . private schools have proven to be efficient in resource utilization . per unit costs in private schools are generally lower when compared to public schools . this situation is more evident at the tertiary level . government regulations have given private education more flexibility and autonomy in recent years , notably by lifting the moratorium on applications for new courses , new schools and conversions , by liberalizing tuition fee policy for private schools , by replacing values education for third and fourth years with english , mathematics and natural science at the option of the school , and by issuing the revised manual of regulations for private schools in august 1992 .\n",
      "Predicted Answer: 80 %\n",
      "True Answer: 80\n",
      "--------------------------------------------------\n",
      "Question: as of 2008 , about what percentage of swedish students attended private schools ?\n",
      "Context: in sweden , pupils are free to choose a private school and the private school gets paid the same amount as municipal schools . over 10 % of swedish pupils were enrolled in private schools in 2008 . sweden is internationally known for this innovative school voucher model that provides swedish pupils with the opportunity to choose the school they prefer . for instance , the biggest school chain , kunskapsskolan (“ the knowledge school ”), offers 30 schools and a web - based environment , has 700 employees and teaches nearly 10 , 000 pupils . the swedish system has been recommended to barack obama .\n",
      "Predicted Answer: 10 %\n",
      "True Answer: 10\n",
      "--------------------------------------------------\n",
      "Question: what is the expression used to represent a complexity class of counting problems ?\n",
      "Context: other important complexity classes include bpp , zpp and rp , which are defined using probabilistic turing machines ; ac and nc , which are defined using boolean circuits ; and bqp and qma , which are defined using quantum turing machines .  #p is an important complexity class of counting problems ( not decision problems ). classes like ip and am are defined using interactive proof systems . all is the class of all decision problems .\n",
      "Predicted Answer:  #p\n",
      "True Answer:  #p\n",
      "--------------------------------------------------\n",
      "Question: at what degree are the pistons of a two - cylinder compound connected to the c\n",
      "Context: with two - cylinder compounds used in railway work , the pistons are connected to the cranks as with a two - cylinder simple at 90 ° out of phase with each other ( quartered ). when the double expansion group is duplicated , producing a 4 - cylinder compound , the individual pistons within the group are usually balanced at 180 °, the groups being set at 90 ° to each other . in one case ( the first type of vauclain compound ), the pistons worked in the same phase driving a common crosshead and crank , again set at 90 ° as for a two - cylinder engine . with the 3 - cylinder compound arrangement , the lp cranks were either set at 90 ° with the hp one at 135 ° to the other two , or in some cases all three cranks were set at 120 °.[ citation needed ]\n",
      "Predicted Answer: 90 °\n",
      "True Answer: 90\n",
      "--------------------------------------------------\n",
      "Question: what percentage of electrical power in the united states is made by steam turbines ?\n",
      "Context: the final major evolution of the steam engine design was the use of steam turbines starting in the late part of the 19th century . steam turbines are generally more efficient than reciprocating piston type steam engines ( for outputs above several hundred horsepower ), have fewer moving parts , and provide rotary power directly instead of through a connecting rod system or similar means . steam turbines virtually replaced reciprocating engines in electricity generating stations early in the 20th century , where their efficiency , higher speed appropriate to generator service , and smooth rotation were advantages . today most electric power is provided by steam turbines . in the united states 90 % of the electric power is produced in this way using a variety of heat sources . steam turbines were extensively applied for propulsion of large ships throughout most of the 20th century .\n",
      "Predicted Answer: 90 %\n",
      "True Answer: 90\n",
      "--------------------------------------------------\n",
      "Question: how many developed countries did british researchers use to gather statistics from ?\n",
      "Context: british researchers richard g . wilkinson and kate pickett have found higher rates of health and social problems ( obesity , mental illness , homicides , teenage births , incarceration , child conflict , drug use ), and lower rates of social goods ( life expectancy by country , educational performance , trust among strangers , women ' s status , social mobility , even numbers of patents issued ) in countries and states with higher inequality . using statistics from 23 developed countries and the 50 states of the us , they found social / health problems lower in countries like japan and finland and states like utah and new hampshire with high levels of equality , than in countries ( us and uk ) and states ( mississippi and new york ) with large differences in household income .\n",
      "Predicted Answer: 23\n",
      "True Answer: 23\n",
      "--------------------------------------------------\n",
      "Question: during 2012 - 2013 , how many student were able to take the core classes at a single time ?\n",
      "Context: undergraduate students are required to take a distribution of courses to satisfy the university ' s core curriculum known as the common core . in 2012 - 2013 , the core classes at chicago were limited to 17 students , and are generally led by a full - time professor ( as opposed to a teaching assistant ). as of the 2013 – 2014 school year , 15 courses and demonstrated proficiency in a foreign language are required under the core . undergraduate courses at the university of chicago are known for their demanding standards , heavy workload and academic difficulty ; according to uni in the usa , \" among the academic cream of american universities – harvard , yale , princeton , mit , and the university of chicago – it is uchicago that can most convincingly claim to provide the most rigorous , intense learning experience .\"\n",
      "Predicted Answer: 17\n",
      "True Answer: 17\n",
      "--------------------------------------------------\n",
      "Question: in the philippines , what percentage of secondary school students attend private schools ?\n",
      "Context: in the philippines , the private sector has been a major provider of educational services , accounting for about 7 . 5 % of primary enrollment , 32 % of secondary enrollment and about 80 % of tertiary enrollment . private schools have proven to be efficient in resource utilization . per unit costs in private schools are generally lower when compared to public schools . this situation is more evident at the tertiary level . government regulations have given private education more flexibility and autonomy in recent years , notably by lifting the moratorium on applications for new courses , new schools and conversions , by liberalizing tuition fee policy for private schools , by replacing values education for third and fourth years with english , mathematics and natural science at the option of the school , and by issuing the revised manual of regulations for private schools in august 1992 .\n",
      "Predicted Answer: 32 %\n",
      "True Answer: 32\n",
      "--------------------------------------------------\n",
      "Question: as a result of a compromise , about how many chinese schools became national type schools ?\n",
      "Context: after malaysia ' s independence in 1957 , the government instructed all schools to surrender their properties and be assimilated into the national school system . this caused an uproar among the chinese and a compromise was achieved in that the schools would instead become \" national type \" schools . under such a system , the government is only in charge of the school curriculum and teaching personnel while the lands still belonged to the schools . while chinese primary schools were allowed to retain chinese as the medium of instruction , chinese secondary schools are required to change into english - medium schools . over 60 schools converted to become national type schools .\n",
      "Predicted Answer: 60\n",
      "True Answer: 60\n",
      "--------------------------------------------------\n",
      "Question: np complete problems contain the lowest likelihood of being located in what problem class ?\n",
      "Context: if a problem x is in c and hard for c , then x is said to be complete for c . this means that x is the hardest problem in c . ( since many problems could be equally hard , one might say that x is one of the hardest problems in c .) thus the class of np - complete problems contains the most difficult problems in np , in the sense that they are the ones most likely not to be in p . because the problem p = np is not solved , being able to reduce a known np - complete problem , π2 , to another problem , π1 , would indicate that there is no known polynomial - time solution for π1 . this is because a polynomial - time solution to π1 would yield a polynomial - time solution to π2 . similarly , because all np problems can be reduced to the set , finding an np - complete problem that can be solved in polynomial time would mean that p = np .\n",
      "Predicted Answer: π2\n",
      "True Answer: np\n",
      "--------------------------------------------------\n",
      "Question: what complexity class is commonly characterized by unknown algorithms to enhance solvability\n",
      "Context: the complexity class p is often seen as a mathematical abstraction modeling those computational tasks that admit an efficient algorithm . this hypothesis is called the cobham – edmonds thesis . the complexity class np , on the other hand , contains many problems that people would like to solve efficiently , but for which no efficient algorithm is known , such as the boolean satisfiability problem , the hamiltonian path problem and the vertex cover problem . since deterministic turing machines are special non - deterministic turing machines , it is easily observed that each problem in p is also member of the class np .\n",
      "Predicted Answer: np\n",
      "True Answer: np\n",
      "--------------------------------------------------\n",
      "Question: how many days does the parliament have to nominate a first minister after a general election ?\n",
      "Context: under the scotland act 1998 , ordinary general elections for the scottish parliament are held on the first thursday in may every four years ( 1999 , 2003 , 2007 and so on ). the date of the poll may be varied by up to one month either way by the monarch on the proposal of the presiding officer . if the parliament itself resolves that it should be dissolved ( with at least two - thirds of the members voting in favour ), or if the parliament fails to nominate one of its members to be first minister within 28 days of a general election or of the position becoming vacant , the presiding officer proposes a date for an extraordinary general election and the parliament is dissolved by the queen by royal proclamation . extraordinary general elections are in addition to ordinary general elections , unless held less than six months before the due date of an ordinary general election , in which case they supplant it . the following ordinary election reverts to the first thursday in may , a multiple of four years after 1999 ( i . e ., 5 may 2011 , 7 may 2015 , etc .).\n",
      "Predicted Answer: 28\n",
      "True Answer: 28\n",
      "--------------------------------------------------\n",
      "Question: at what angle were the groups of pistons set in relation to one another in a 4 - cy\n",
      "Context: with two - cylinder compounds used in railway work , the pistons are connected to the cranks as with a two - cylinder simple at 90 ° out of phase with each other ( quartered ). when the double expansion group is duplicated , producing a 4 - cylinder compound , the individual pistons within the group are usually balanced at 180 °, the groups being set at 90 ° to each other . in one case ( the first type of vauclain compound ), the pistons worked in the same phase driving a common crosshead and crank , again set at 90 ° as for a two - cylinder engine . with the 3 - cylinder compound arrangement , the lp cranks were either set at 90 ° with the hp one at 135 ° to the other two , or in some cases all three cranks were set at 120 °.[ citation needed ]\n",
      "Predicted Answer: 90 °\n",
      "True Answer: 90\n",
      "--------------------------------------------------\n",
      "Question: if polynomial time can be utilized within an np - complete problem , what does the\n",
      "Context: if a problem x is in c and hard for c , then x is said to be complete for c . this means that x is the hardest problem in c . ( since many problems could be equally hard , one might say that x is one of the hardest problems in c .) thus the class of np - complete problems contains the most difficult problems in np , in the sense that they are the ones most likely not to be in p . because the problem p = np is not solved , being able to reduce a known np - complete problem , π2 , to another problem , π1 , would indicate that there is no known polynomial - time solution for π1 . this is because a polynomial - time solution to π1 would yield a polynomial - time solution to π2 . similarly , because all np problems can be reduced to the set , finding an np - complete problem that can be solved in polynomial time would mean that p = np .\n",
      "Predicted Answer: π2\n",
      "True Answer: np\n",
      "--------------------------------------------------\n",
      "Question: what is the minimum percent of alcohol content a german law requires all spirits and liqueurs to\n",
      "Context: often rules apply to all goods neutrally , but may have a greater practical effect on imports than domestic products . for such \" indirect \" discriminatory ( or \" indistinctly applicable \") measures the court of justice has developed more justifications : either those in article 36 , or additional \" mandatory \" or \" overriding \" requirements such as consumer protection , improving labour standards , protecting the environment , press diversity , fairness in commerce , and more : the categories are not closed . in the most famous case rewe - zentral ag v bundesmonopol für branntwein , the court of justice found that a german law requiring all spirits and liqueurs ( not just imported ones ) to have a minimum alcohol content of 25 per cent was contrary to tfeu article 34 , because it had a greater negative effect on imports . german liqueurs were over 25 per cent alcohol , but cassis de dijon , which rewe - zentrale ag wished to import from france , only had 15 to 20 per cent alcohol . the court of justice rejected the german government ' s arguments that the measure proportionately protected public health under tfeu article 36 , because stronger beverages were available and adequate labelling would be enough for consumers to understand what they bought . this rule primarily applies to requirements about a product ' s content or packaging . in walter rau lebensmit\n",
      "Predicted Answer: 25\n",
      "True Answer: 25\n",
      "--------------------------------------------------\n",
      "Question: what is the lowest ranking one of the counties could have in terms of most populous counties in the united states\n",
      "Context: its counties of los angeles , orange , san diego , san bernardino , and riverside are the five most populous in the state and all are in the top 15 most populous counties in the united states .\n",
      "Predicted Answer: top 15\n",
      "True Answer: 15\n",
      "--------------------------------------------------\n",
      "Question: how many combinatory and graph theoretical problems , formerly believed to be plagued by in\n",
      "Context: in 1967 , manuel blum developed an axiomatic complexity theory based on his axioms and proved an important result , the so - called , speed - up theorem . the field really began to flourish in 1971 when the us researcher stephen cook and , working independently , leonid levin in the ussr , proved that there exist practically relevant problems that are np - complete . in 1972 , richard karp took this idea a leap forward with his landmark paper , \" reducibility among combinatorial problems \", in which he showed that 21 diverse combinatorial and graph theoretical problems , each infamous for its computational intractability , are np - complete .\n",
      "Predicted Answer: 21\n",
      "True Answer: 21\n",
      "--------------------------------------------------\n",
      "Question: how many msps are there ?\n",
      "Context: after each election to the scottish parliament , at the beginning of each parliamentary session , parliament elects one msp to serve as presiding officer , the equivalent of the speaker ( currently tricia marwick ), and two msps to serve as deputies ( currently elaine smith and john scott ). the presiding officer and deputies are elected by a secret ballot of the 129 msps , which is the only secret ballot conducted in the scottish parliament . principally , the role of the presiding officer is to chair chamber proceedings and the scottish parliamentary corporate body . when chairing meetings of the parliament , the presiding officer and his / her deputies must be politically impartial . during debates , the presiding officer ( or the deputy ) is assisted by the parliamentary clerks , who give advice on how to interpret the standing orders that govern the proceedings of meetings . a vote clerk sits in front of the presiding officer and operates the electronic voting equipment and chamber clocks .\n",
      "Predicted Answer: 129\n",
      "True Answer: 129\n",
      "--------------------------------------------------\n",
      "Question: who is videoguard owned by ?\n",
      "Context: bskyb utilises the videoguard pay - tv scrambling system owned by nds , a cisco systems company . there are tight controls over use of videoguard decoders ; they are not available as stand - alone dvb cams ( conditional - access modules ). bskyb has design authority over all digital satellite receivers capable of receiving their service . the receivers , though designed and built by different manufacturers , must conform to the same user interface look - and - feel as all the others . this extends to the personal video recorder ( pvr ) offering ( branded sky +).\n",
      "Predicted Answer: nds\n",
      "True Answer: nds\n",
      "--------------------------------------------------\n",
      "Question: what is the mineral wustite ?\n",
      "Context: due to its electronegativity , oxygen forms chemical bonds with almost all other elements to give corresponding oxides . the surface of most metals , such as aluminium and titanium , are oxidized in the presence of air and become coated with a thin film of oxide that passivates the metal and slows further corrosion . many oxides of the transition metals are non - stoichiometric compounds , with slightly less metal than the chemical formula would show . for example , the mineral feo ( wüstite ) is written as fe 1 − xo , where x is usually around 0 . 05 .\n",
      "Predicted Answer: feo\n",
      "True Answer: feo\n",
      "--------------------------------------------------\n",
      "Question: who commissioned the tapestry ?\n",
      "Context: by far the most famous work of norman art is the bayeux tapestry , which is not a tapestry but a work of embroidery . it was commissioned by odo , the bishop of bayeux and first earl of kent , employing natives from kent who were learned in the nordic traditions imported in the previous half century by the danish vikings .\n",
      "Predicted Answer: \n",
      "True Answer: odo\n",
      "--------------------------------------------------\n",
      "Question: the symbol for mercuric oxide is ?\n",
      "Context: in the meantime , on august 1 , 1774 , an experiment conducted by the british clergyman joseph priestley focused sunlight on mercuric oxide ( hgo ) inside a glass tube , which liberated a gas he named \" dephlogisticated air \". he noted that candles burned brighter in the gas and that a mouse was more active and lived longer while breathing it . after breathing the gas himself , he wrote : \" the feeling of it to my lungs was not sensibly different from that of common air , but i fancied that my breast felt peculiarly light and easy for some time afterwards .\" priestley published his findings in 1775 in a paper titled \" an account of further discoveries in air \" which was included in the second volume of his book titled experiments and observations on different kinds of air . because he published his findings first , priestley is usually given priority in the discovery .\n",
      "Predicted Answer: ( hgo\n",
      "True Answer: hgo\n",
      "--------------------------------------------------\n",
      "Question: how many victorians are non - religious ?\n",
      "Context: about 61 . 1 % of victorians describe themselves as christian . roman catholics form the single largest religious group in the state with 26 . 7 % of the victorian population , followed by anglicans and members of the uniting church . buddhism is the state ' s largest non - christian religion , with 168 , 637 members as of the most recent census . victoria is also home of 152 , 775 muslims and 45 , 150 jews . hinduism is the fastest growing religion . around 20 % of victorians claim no religion . amongst those who declare a religious affiliation , church attendance is low .\n",
      "Predicted Answer: 20 %\n",
      "True Answer: 20 %\n",
      "--------------------------------------------------\n",
      "Question: how many horsepower was watt ' s engine ?\n",
      "Context: in 1781 james watt patented a steam engine that produced continuous rotary motion . watt ' s ten - horsepower engines enabled a wide range of manufacturing machinery to be powered . the engines could be sited anywhere that water and coal or wood fuel could be obtained . by 1883 , engines that could provide 10 , 000 hp had become feasible . the stationary steam engine was a key component of the industrial revolution , allowing factories to locate where water power was unavailable . the atmospheric engines of newcomen and watt were large compared to the amount of power they produced , but high pressure steam engines were light enough to be applied to vehicles such as traction engines and the railway locomotives .\n",
      "Predicted Answer: ten\n",
      "True Answer: ten\n",
      "--------------------------------------------------\n",
      "Question: how many major ice ages have occurred ?\n",
      "Context: around 2 . 5 million years ago ( ending 11 , 600 years ago ) was the geological period of the ice ages . since approximately 600 , 000 years ago , six major ice ages have occurred , in which sea level dropped 120 m ( 390 ft ) and much of the continental margins became exposed . in the early pleistocene , the rhine followed a course to the northwest , through the present north sea . during the so - called anglian glaciation (~ 450 , 000 yr bp , marine oxygen isotope stage 12 ), the northern part of the present north sea was blocked by the ice and a large lake developed , that overflowed through the english channel . this caused the rhine ' s course to be diverted through the english channel . since then , during glacial times , the river mouth was located offshore of brest , france and rivers , like the thames and the seine , became tributaries to the rhine . during interglacials , when sea level rose to approximately the present level , the rhine built deltas , in what is now the netherlands .\n",
      "Predicted Answer: six\n",
      "True Answer: six\n",
      "--------------------------------------------------\n",
      "Question: when was the duchy of normandy founded ?\n",
      "Context: in the course of the 10th century , the initially destructive incursions of norse war bands into the rivers of france evolved into more permanent encampments that included local women and personal property . the duchy of normandy , which began in 911 as a fiefdom , was established by the treaty of saint - clair - sur - epte between king charles iii of west francia and the famed viking ruler rollo , and was situated in the former frankish kingdom of neustria . the treaty offered rollo and his men the french lands between the river epte and the atlantic coast in exchange for their protection against further viking incursions . the area corresponded to the northern part of present - day upper normandy down to the river seine , but the duchy would eventually extend west beyond the seine . the territory was roughly equivalent to the old province of rouen , and reproduced the roman administrative structure of gallia lugdunensis ii ( part of the former gallia lugdunensis ).\n",
      "Predicted Answer: 911\n",
      "True Answer: 911\n",
      "--------------------------------------------------\n",
      "Question: what percentage of farmland grows wheat ?\n",
      "Context: more than 26 , 000 square kilometres ( 10 , 000 sq mi ) of victorian farmland are sown for grain , mostly in the state ' s west . more than 50 % of this area is sown for wheat , 33 % for barley and 7 % for oats . a further 6 , 000 square kilometres ( 2 , 300 sq mi ) is sown for hay . in 2003 – 04 , victorian farmers produced more than 3 million tonnes of wheat and 2 million tonnes of barley . victorian farms produce nearly 90 % of australian pears and third of apples . it is also a leader in stone fruit production . the main vegetable crops include asparagus , broccoli , carrots , potatoes and tomatoes . last year , 121 , 200 tonnes of pears and 270 , 000 tonnes of tomatoes were produced .\n",
      "Predicted Answer: 50 %\n",
      "True Answer: 50 %\n",
      "--------------------------------------------------\n",
      "Question: what are the secretions commonly called ?\n",
      "Context: when some species , including bathyctena chuni , euplokamis stationis and eurhamphaea vexilligera , are disturbed , they produce secretions ( ink ) that luminesce at much the same wavelengths as their bodies . juveniles will luminesce more brightly in relation to their body size than adults , whose luminescence is diffused over their bodies . detailed statistical investigation has not suggested the function of ctenophores ' bioluminescence nor produced any correlation between its exact color and any aspect of the animals ' environments , such as depth or whether they live in coastal or mid - ocean waters .\n",
      "Predicted Answer: ( ink\n",
      "True Answer: ink\n",
      "--------------------------------------------------\n",
      "Question: how many miles east of berlin is warsaw ?\n",
      "Context: warsaw lies in east - central poland about 300 km ( 190 mi ) from the carpathian mountains and about 260 km ( 160 mi ) from the baltic sea , 523 km ( 325 mi ) east of berlin , germany . the city straddles the vistula river . it is located in the heartland of the masovian plain , and its average elevation is 100 metres ( 330 ft ) above sea level . the highest point on the left side of the city lies at a height of 115 . 7 metres ( 379 . 6 ft ) (\" redutowa \" bus depot , district of wola ), on the right side – 122 . 1 metres ( 400 . 6 ft ) (\" groszówka \" estate , district of wesoła , by the eastern border ). the lowest point lies at a height 75 . 6 metres ( 248 . 0 ft ) ( at the right bank of the vistula , by the eastern border of warsaw ). there are some hills ( mostly artificial ) located within the confines of the city – e . g . warsaw uprising hill ( 121 metres ( 397 . 0 ft )), szczęśliwice hill ( 138 metres ( 452 . 8 ft ) – the highest point of warsaw in general ).\n",
      "Predicted Answer: ( 325\n",
      "True Answer: 325\n",
      "--------------------------------------------------\n",
      "Question: how many catholic schools were in victoria ?\n",
      "Context: as of august 2010 , victoria had 1 , 548 public schools , 489 catholic schools and 214 independent schools . just under 540 , 800 students were enrolled in public schools , and just over 311 , 800 in private schools . over 61 per cent of private students attend catholic schools . more than 462 , 000 students were enrolled in primary schools and more than 390 , 000 in secondary schools . retention rates for the final two years of secondary school were 77 per cent for public school students and 90 per cent for private school students . victoria has about 63 , 519 full - time teachers .\n",
      "Predicted Answer: 1 , 548 public schools , 489\n",
      "True Answer: 489\n",
      "--------------------------------------------------\n",
      "Question: what does the nederrikn ' s name change into ?\n",
      "Context: the other third of the water flows through the pannerdens kanaal and redistributes in the ijssel and nederrijn . the ijssel branch carries one ninth of the water flow of the rhine north into the ijsselmeer ( a former bay ), while the nederrijn carries approximately two ninths of the flow west along a route parallel to the waal . however , at wijk bij duurstede , the nederrijn changes its name and becomes the lek . it flows farther west , to rejoin the noord river into the nieuwe maas and to the north sea .\n",
      "Predicted Answer: ijssel\n",
      "True Answer: lek\n",
      "--------------------------------------------------\n",
      "Question: how many seats are in the debating chamber ?\n",
      "Context: the debating chamber of the scottish parliament has seating arranged in a hemicycle , which reflects the desire to encourage consensus amongst elected members . there are 131 seats in the debating chamber . of the total 131 seats , 129 are occupied by the parliament ' s elected msps and 2 are seats for the scottish law officers – the lord advocate and the solicitor general for scotland , who are not elected members of the parliament but are members of the scottish government . as such the law officers may attend and speak in the plenary meetings of the parliament but , as they are not elected msps , cannot vote . members are able to sit anywhere in the debating chamber , but typically sit in their party groupings . the first minister , scottish cabinet ministers and law officers sit in the front row , in the middle section of the chamber . the largest party in the parliament sits in the middle of the semicircle , with opposing parties on either side . the presiding officer , parliamentary clerks and officials sit opposite members at the front of the debating chamber .\n",
      "Predicted Answer: 131\n",
      "True Answer: 131\n",
      "--------------------------------------------------\n",
      "Question: how many teams did los angeles used to have ?\n",
      "Context: from 2005 to 2014 , there were two major league soccer teams in los angeles — the la galaxy and chivas usa — that both played at the stubhub center and were local rivals . however , chivas were suspended following the 2014 mls season , with a second mls team scheduled to return in 2018 .\n",
      "Predicted Answer: two\n",
      "True Answer: two\n",
      "--------------------------------------------------\n",
      "Question: what does the nederrijn change it ' s name to ?\n",
      "Context: the other third of the water flows through the pannerdens kanaal and redistributes in the ijssel and nederrijn . the ijssel branch carries one ninth of the water flow of the rhine north into the ijsselmeer ( a former bay ), while the nederrijn carries approximately two ninths of the flow west along a route parallel to the waal . however , at wijk bij duurstede , the nederrijn changes its name and becomes the lek . it flows farther west , to rejoin the noord river into the nieuwe maas and to the north sea .\n",
      "Predicted Answer: waal\n",
      "True Answer: lek\n",
      "--------------------------------------------------\n",
      "Question: how many botanical gardens does warsaw have ?\n",
      "Context: the flora of the city may be considered very rich in species . the species richness is mainly due to the location of warsaw within the border region of several big floral regions comprising substantial proportions of close - to - wilderness areas ( natural forests , wetlands along the vistula ) as well as arable land , meadows and forests . bielany forest , located within the borders of warsaw , is the remaining part of the masovian primeval forest . bielany forest nature reserve is connected with kampinos forest . it is home to rich fauna and flora . within the forest there are three cycling and walking trails . other big forest area is kabaty forest by the southern city border . warsaw has also two botanic gardens : by the łazienki park ( a didactic - research unit of the university of warsaw ) as well as by the park of culture and rest in powsin ( a unit of the polish academy of science ).\n",
      "Predicted Answer: two\n",
      "True Answer: two\n",
      "--------------------------------------------------\n",
      "Question: what is the bond order of dioxygen molecules ?\n",
      "Context: in this dioxygen , the two oxygen atoms are chemically bonded to each other . the bond can be variously described based on level of theory , but is reasonably and simply described as a covalent double bond that results from the filling of molecular orbitals formed from the atomic orbitals of the individual oxygen atoms , the filling of which results in a bond order of two . more specifically , the double bond is the result of sequential , low - to - high energy , or aufbau , filling of orbitals , and the resulting cancellation of contributions from the 2s electrons , after sequential filling of the low and * orbitals ; overlap of the two atomic 2p orbitals that lie along the o - o molecular axis and π overlap of two pairs of atomic 2p orbitals perpendicular to the o - o molecular axis , and then cancellation of contributions from the remaining two of the six 2p electrons after their partial filling of the lowest π and π * orbitals .\n",
      "Predicted Answer: covalent double\n",
      "True Answer: two\n",
      "--------------------------------------------------\n",
      "Question: how much heavier is oxygen 18 than oxygen 16 ?\n",
      "Context: paleoclimatologists measure the ratio of oxygen - 18 and oxygen - 16 in the shells and skeletons of marine organisms to determine what the climate was like millions of years ago ( see oxygen isotope ratio cycle ). seawater molecules that contain the lighter isotope , oxygen - 16 , evaporate at a slightly faster rate than water molecules containing the 12 % heavier oxygen - 18 ; this disparity increases at lower temperatures . during periods of lower global temperatures , snow and rain from that evaporated water tends to be higher in oxygen - 16 , and the seawater left behind tends to be higher in oxygen - 18 . marine organisms then incorporate more oxygen - 18 into their skeletons and shells than they would in a warmer climate . paleoclimatologists also directly measure this ratio in the water molecules of ice core samples that are up to several hundreds of thousands of years old .\n",
      "Predicted Answer: 12 %\n",
      "True Answer: 12 %\n",
      "--------------------------------------------------\n"
     ]
    }
   ],
   "source": [
    "# Compare the predictions with the actual answers\n",
    "for i in range(100):\n",
    "    print(f\"Question: {questions[i]}\")\n",
    "    print(f\"Context: {contexts[i]}\")\n",
    "    print(f\"Predicted Answer: {preds[i]}\")\n",
    "    print(f\"True Answer: {true_labels[i]}\")\n",
    "    print(\"-\" * 50)"
   ]
  },
  {
   "cell_type": "markdown",
   "metadata": {},
   "source": [
    "##### 2. Predicitions on Training Set"
   ]
  },
  {
   "cell_type": "code",
   "execution_count": 10,
   "metadata": {},
   "outputs": [
    {
     "name": "stderr",
     "output_type": "stream",
     "text": [
      "Predicting: 100%|██████████| 623/623 [00:24<00:00, 24.96it/s]\n"
     ]
    }
   ],
   "source": [
    "train_preds, train_true_labels, train_context, train_questions = predict_qa_context_model_boilerplate(model=model, dataloader=train_dataloader, tokenizer=tokenizer, device='cuda', inputs = [\"context\", \"question\"])"
   ]
  },
  {
   "cell_type": "code",
   "execution_count": 11,
   "metadata": {},
   "outputs": [
    {
     "name": "stdout",
     "output_type": "stream",
     "text": [
      "Question: in what year did the endangered species act become law ?\n",
      "Context: the endangered species act of 1973 ( esa ; 16 u . s . c . § 1531 et seq .) is one of the few dozens of united states environmental laws passed in the 1970s , and serves as the enacting legislation to carry out the provisions outlined in the convention on international trade in endangered species of wild fauna and flora ( cites ). the esa was signed into law by president richard nixon on december 28 , 1973 , it was designed to protect critically imperiled species from extinction as a \" consequence of economic growth and development untempered by adequate concern and conservation .\" the u . s . supreme court found that \" the plain intent of congress in enacting \" the esa \" was to halt and reverse the trend toward species extinction , whatever the cost .\" the act is administered by two federal agencies , the united states fish and wildlife service ( fws ) and the national oceanic and atmospheric administration ( noaa ).\n",
      "Predicted Answer: 1973\n",
      "True Answer: 1973\n",
      "--------------------------------------------------\n",
      "Question: when did drug traffickers begin to use guinea - bissau ?\n",
      "Context: beginning around 2005 , drug traffickers based in latin america began to use guinea - bissau , along with several neighboring west african nations , as a transshipment point to europe for cocaine . the nation was described by a united nations official as being at risk for becoming a \" narco - state \". the government and the military have done little to stop drug trafficking , which increased after the 2012 coup d ' état .\n",
      "Predicted Answer: 2005\n",
      "True Answer: 2005\n",
      "--------------------------------------------------\n",
      "Question: what percent were non - family households ?\n",
      "Context: in 2010 , 24 . 9 percent of households reported having children under the age of 18 living with them , 28 . 3 percent were married couples living together and 22 . 5 percent had a female householder with no husband present , 6 . 0 percent had a male householder with no wife present , and 43 . 2 percent were non - families . the city reported 34 . 1 percent of all households were made up of individuals while 10 . 5 percent had someone living alone who was 65 years of age or older . the average household size was 2 . 45 and the average family size was 3 . 20 . in 2013 , the percentage of women who gave birth in the previous 12 months who were unmarried was 56 percent . of philadelphia ' s adults , 31 percent were married or lived as a couple , 55 percent were not married , 11 percent were divorced or separated , and 3 percent were widowed .\n",
      "Predicted Answer: 43 . 2\n",
      "True Answer: 43 . 2\n",
      "--------------------------------------------------\n",
      "Question: when did john begin his final campaign to reclaim normandy ?\n",
      "Context: in 1214 john began his final campaign to reclaim normandy from philip . john was optimistic , as he had successfully built up alliances with the emperor otto , renaud of boulogne and count ferdinand of flanders ; he was enjoying papal favour ; and he had successfully built up substantial funds to pay for the deployment of his experienced army . nonetheless , when john left for poitou in february 1214 , many barons refused to provide military service ; mercenary knights had to fill the gaps . john ' s plan was to split philip ' s forces by pushing north - east from poitou towards paris , whilst otto , renaud and ferdinand , supported by william longespée , marched south - west from flanders .\n",
      "Predicted Answer: 1214\n",
      "True Answer: 1214\n",
      "--------------------------------------------------\n",
      "Question: what is a source for the particles in paper ?\n",
      "Context: paper is a thin material produced by pressing together moist fibres of cellulose pulp derived from wood , rags or grasses , and drying them into flexible sheets . it is a versatile material with many uses , including writing , printing , packaging , cleaning , and a number of industrial and construction processes .\n",
      "Predicted Answer: rags\n",
      "True Answer: wood\n",
      "--------------------------------------------------\n",
      "Question: when did the international congress of somali studies begin ?\n",
      "Context: the scholarly term for research concerning somalis and greater somalia is known as somali studies . it consists of several disciplines such as anthropology , sociology , linguistics , historiography and archaeology . the field draws from old somali chronicles , records and oral literature , in addition to written accounts and traditions about somalis from explorers and geographers in the horn of africa and the middle east . since 1980 , prominent somalist scholars from around the world have also gathered annually to hold the international congress of somali studies .\n",
      "Predicted Answer: 1980\n",
      "True Answer: 1980\n",
      "--------------------------------------------------\n",
      "Question: what language is mainly spoken in west africa ?\n",
      "Context: arabic dialects are the most widely spoken languages in the sahara . the live in the red sea hills of southeastern egypt and eastern sudan . arabic , berber and its variants now regrouped under the term amazigh ( which includes the guanche language spoken by the original berber inhabitants of the canary islands ) and beja languages are part of the afro - asiatic or hamito - semitic family .[ citation needed ] unlike neighboring west africa and the central governments of the states that comprise the sahara , the french language bears little relevance to inter - personal discourse and commerce within the region , its people retaining staunch ethnic and political affiliations with tuareg and berber leaders and culture . the legacy of the french colonial era administration is primarily manifested in the territorial reorganization enacted by the third and fourth republics , which engendered artificial political divisions within a hitherto isolated and porous region . diplomacy with local clients was primarily conducted in arabic , which was the traditional language of bureaucratic affairs . mediation of disputes and inter - agency communication was served by interpreters contracted by the french government , who , according to keenan , \" documented a space of intercultural mediation ,\" contributing much to preserving indigenous cultural identities in the region .\n",
      "Predicted Answer: french\n",
      "True Answer: french\n",
      "--------------------------------------------------\n",
      "Question: who was the daughter of phlegyas ?\n",
      "Context: coronis , was daughter of phlegyas , king of the lapiths . pregnant with asclepius , coronis fell in love with ischys , son of elatus . a crow informed apollo of the affair . when first informed he disbelieved the crow and turned all crows black ( where they were previously white ) as a punishment for spreading untruths . when he found out the truth he sent his sister , artemis , to kill coronis ( in other stories , apollo himself had killed coronis ). as a result , he also made the crow sacred and gave them the task of announcing important deaths . apollo rescued the baby and gave it to the centaur chiron to raise . phlegyas was irate after the death of his daughter and burned the temple of apollo at delphi . apollo then killed him for what he did .\n",
      "Predicted Answer: coronis\n",
      "True Answer: coronis\n",
      "--------------------------------------------------\n",
      "Question: when did people start living on the edge of the desert ?\n",
      "Context: people lived on the edge of the desert thousands of years ago since the last ice age . the sahara was then a much wetter place than it is today . over 30 , 000 petroglyphs of river animals such as crocodiles survive , with half found in the tassili n ' ajjer in southeast algeria . fossils of dinosaurs , including afrovenator , jobaria and ouranosaurus , have also been found here . the modern sahara , though , is not lush in vegetation , except in the nile valley , at a few oases , and in the northern highlands , where mediterranean plants such as the olive tree are found to grow . it was long believed that the region had been this way since about 1600 bce , after shifts in the earth ' s axis increased temperatures and decreased precipitation . however , this theory has recently been called into dispute , when samples taken from several 7 million year old sand deposits led scientists to reconsider the timeline for desertification .\n",
      "Predicted Answer: ice age\n",
      "True Answer: ice age\n",
      "--------------------------------------------------\n",
      "Question: in what year did the ostrogoths settle in the roman empire ?\n",
      "Context: in 376 , the ostrogoths , fleeing from the huns , received permission from emperor valens ( r . 364 – 378 ) to settle in the roman province of thracia in the balkans . the settlement did not go smoothly , and when roman officials mishandled the situation , the ostrogoths began to raid and plunder .[ d ] valens , attempting to put down the disorder , was killed fighting the ostrogoths at the battle of adrianople on 9 august 378 . as well as the threat from such tribal confederacies from the north , internal divisions within the empire , especially within the christian church , caused problems . in 400 , the visigoths invaded the western roman empire and , although briefly forced back from italy , in 410 sacked the city of rome . in 406 the alans , vandals , and suevi crossed into gaul ; over the next three years they spread across gaul and in 409 crossed the pyrenees mountains into modern - day spain . the migration period began , where various people , initially largely germanic peoples , moved across europe . the franks , alemanni , and the burgundians all ended up in northern gaul while the angles , saxons , and jutes settled in britain . in the 430s the huns began invading the empire ; their king attila ( r . 434 – 453 ) led invasi\n",
      "Predicted Answer: 376\n",
      "True Answer: 376\n",
      "--------------------------------------------------\n",
      "Question: what is the quantity which is canonical conjugate to time ?\n",
      "Context: this law is a fundamental principle of physics . as shown rigorously by noether ' s theorem , the conservation of energy is a mathematical consequence of translational symmetry of time , a property of most phenomena below the cosmic scale that makes them independent of their locations on the time coordinate . put differently , yesterday , today , and tomorrow are physically indistinguishable . this is because energy is the quantity which is canonical conjugate to time . this mathematical entanglement of energy and time also results in the uncertainty principle - it is impossible to define the exact amount of energy during any definite time interval . the uncertainty principle should not be confused with energy conservation - rather it provides mathematical limits to which energy can in principle be defined and measured .\n",
      "Predicted Answer: energy\n",
      "True Answer: energy\n",
      "--------------------------------------------------\n",
      "Question: since when has montana been a destination for trout fisheries ?\n",
      "Context: montana has been a destination for its world - class trout fisheries since the 1930s . fly fishing for several species of native and introduced trout in rivers and lakes is popular for both residents and tourists throughout the state . montana is the home of the federation of fly fishers and hosts many of the organizations annual conclaves . the state has robust recreational lake trout and kokanee salmon fisheries in the west , walleye can be found in many parts of the state , while northern pike , smallmouth and largemouth bass fisheries as well as catfish and paddlefish can be found in the waters of eastern montana . robert redford ' s 1992 film of norman mclean ' s novel , a river runs through it , was filmed in montana and brought national attention to fly fishing and the state .\n",
      "Predicted Answer: 1930s\n",
      "True Answer: 1930s\n",
      "--------------------------------------------------\n",
      "Question: what year was spoleto festival usa founded ?\n",
      "Context: charleston is known for its unique culture , which blends traditional southern u . s ., english , french , and west african elements . the downtown peninsula has gained a reputation for its art , music , local cuisine , and fashion . spoleto festival usa , held annually in late spring , has become one of the world ' s major performing arts festivals . it was founded in 1977 by pulitzer prize - winning composer gian carlo menotti , who sought to establish a counterpart to the festival dei due mondi ( the festival of two worlds ) in spoleto , italy .\n",
      "Predicted Answer: 1977\n",
      "True Answer: 1977\n",
      "--------------------------------------------------\n",
      "Question: which country did saint francis of capistrano come from ?\n",
      "Context: hunyadi succeeded during the siege of belgrade in 1456 against the ottomans , the biggest victory against that empire in decades . this battle became a real crusade against the muslims , as the peasants were motivated by the franciscan monk saint john of capistrano , who came from italy predicating holy war . the effect that it created in that time was one of the main factors that helped in achieving the victory . however the premature death of the hungarian lord left pannonia defenseless and in chaos . in an extremely unusual event for the middle ages , hunyadi ' s son , matthias , was elected as king of hungary by the nobility . for the first time , a member of an aristocratic family ( and not from a royal family ) was crowned .\n",
      "Predicted Answer: italy\n",
      "True Answer: italy\n",
      "--------------------------------------------------\n",
      "Question: where did lilienfeld file his patent ?\n",
      "Context: the thermionic triode , a vacuum tube invented in 1907 , enabled amplified radio technology and long - distance telephony . the triode , however , was a fragile device that consumed a lot of power . physicist julius edgar lilienfeld filed a patent for a field - effect transistor ( fet ) in canada in 1925 , which was intended to be a solid - state replacement for the triode . lilienfeld also filed identical patents in the united states in 1926 and 1928 . however , lilienfeld did not publish any research articles about his devices nor did his patents cite any specific examples of a working prototype . because the production of high - quality semiconductor materials was still decades away , lilienfeld ' s solid - state amplifier ideas would not have found practical use in the 1920s and 1930s , even if such a device had been built . in 1934 , german inventor oskar heil patented a similar device .\n",
      "Predicted Answer: canada\n",
      "True Answer: canada\n",
      "--------------------------------------------------\n",
      "Question: what % of the population claimed social security benefits in 2006 / 7 ?\n",
      "Context: household survey results suggest the percentage of households spending less than £ 20 per week on a per capita basis fell from 27 % to 8 % between 2000 and 2004 , implying a decline in income poverty . nevertheless , 22 % of the population claimed social security benefit in 2006 / 7 , most of them aged over 60 , a sector that represents 20 % of the population .\n",
      "Predicted Answer: 22 %\n",
      "True Answer: 22\n",
      "--------------------------------------------------\n",
      "Question: what sort of touch do the vedettes provide to the parades ?\n",
      "Context: during the celebration , theaters called tablados are built in many places throughout the cities , especially in montevideo . traditionally formed by men and now starting to be open to women , the different carnival groups ( murgas , lubolos or parodistas ) perform a kind of popular opera at the tablados , singing and dancing songs that generally relate to the social and political situation . the ' calls ' groups , basically formed by drummers playing the tamboril , perform candombe rhythmic figures . revelers wear their festival clothing . each group has its own theme . women wearing elegant , bright dresses are called vedettes and provide a sensual touch to parades .\n",
      "Predicted Answer: sensual\n",
      "True Answer: sensual\n",
      "--------------------------------------------------\n",
      "Question: in what section of the new york philharmonic do women outnumber men ?\n",
      "Context: in 2013 , an article in mother jones stated that while \"[ m ] any prestigious orchestras have significant female membership — women outnumber men in the new york philharmonic ' s violin section — and several renowned ensembles , including the national symphony orchestra , the detroit symphony , and the minnesota symphony , are led by women violinists \", the double bass , brass , and percussion sections of major orchestras \"... are still predominantly male .\" a 2014 bbc article stated that the \"... introduction of ' blind ' auditions , where a prospective instrumentalist performs behind a screen so that the judging panel can exercise no gender or racial prejudice , has seen the gender balance of traditionally male - dominated symphony orchestras gradually shift .\"\n",
      "Predicted Answer: viol\n",
      "True Answer: violin\n",
      "--------------------------------------------------\n",
      "Question: how many ports does oklahoma have ?\n",
      "Context: two inland ports on rivers serve oklahoma : the port of muskogee and the tulsa port of catoosa . the only port handling international cargo in the state , the tulsa port of catoosa is the most inland ocean - going port in the nation and ships over two million tons of cargo each year . both ports are located on the mcclellan - kerr arkansas river navigation system , which connects barge traffic from tulsa and muskogee to the mississippi river via the verdigris and arkansas rivers , contributing to one of the busiest waterways in the world .\n",
      "Predicted Answer: two inland\n",
      "True Answer: two\n",
      "--------------------------------------------------\n",
      "Question: when was yale divinity school established ?\n",
      "Context: yale expanded gradually , establishing the yale school of medicine ( 1810 ), yale divinity school ( 1822 ), yale law school ( 1843 ), yale graduate school of arts and sciences ( 1847 ), the sheffield scientific school ( 1847 ), and the yale school of fine arts ( 1869 ). in 1887 , as the college continued to grow under the presidency of timothy dwight v , yale college was renamed yale university . the university would later add the yale school of music ( 1894 ), the yale school of forestry & environmental studies ( founded by gifford pinchot in 1900 ), the yale school of public health ( 1915 ), the yale school of nursing ( 1923 ), the yale school of drama ( 1955 ), the yale physician associate program ( 1973 ), and the yale school of management ( 1976 ). it would also reorganize its relationship with the sheffield scientific school .\n",
      "Predicted Answer: ( 1822\n",
      "True Answer: 1822\n",
      "--------------------------------------------------\n",
      "Question: what percentage of estonians thought of themselves as ethnic estonian ' s in 1945 ?\n",
      "Context: after the estonian war of independence in 1919 , the estonian language became the state language of the newly independent country . in 1945 , 97 . 3 % of estonia considered itself ethnic estonian and spoke the language .\n",
      "Predicted Answer: 97 . 3 %\n",
      "True Answer: 97 . 3 %\n",
      "--------------------------------------------------\n",
      "Question: who spread buddhist texts in east asia ?\n",
      "Context: translation has served as a school of writing for many authors . translators , including monks who spread buddhist texts in east asia , and the early modern european translators of the bible , in the course of their work have shaped the very languages into which they have translated . they have acted as bridges for conveying knowledge between cultures ; and along with ideas , they have imported from the source languages , into their own languages , loanwords and calques of grammatical structures , idioms and vocabulary .\n",
      "Predicted Answer: monks\n",
      "True Answer: monks\n",
      "--------------------------------------------------\n",
      "Question: what term describes all the species of plants in existence ?\n",
      "Context: the number and variety of plants , animals and other organisms that exist is known as biodiversity . it is an essential component of nature and it ensures the survival of human species by providing food , fuel , shelter , medicines and other resources to mankind . the richness of biodiversity depends on the climatic conditions and area of the region . all species of plants taken together are known as flora and about 70 , 000 species of plants are known till date . all species of animals taken together are known as fauna which includes birds , mammals , fish , reptiles , insects , crustaceans , molluscs , etc .\n",
      "Predicted Answer: flora\n",
      "True Answer: flora\n",
      "--------------------------------------------------\n",
      "Question: how much of the glaciation disappeared in switzerland ?\n",
      "Context: high levels of precipitation cause the glaciers to descend to permafrost levels in some areas whereas in other , more arid regions , glaciers remain above about the 3 , 500 m ( 11 , 483 ft ) level . the 1 , 817 square kilometres ( 702 sq mi ) of the alps covered by glaciers in 1876 had shrunk to 1 , 342 km2 ( 518 sq mi ) by 1973 , resulting in decreased river run - off levels . forty percent of the glaciation in austria has disappeared since 1850 , and 30 % of that in switzerland .\n",
      "Predicted Answer: 30 %\n",
      "True Answer: 30 %\n",
      "--------------------------------------------------\n",
      "Question: what is the percent relationship of catalan to spanish ?\n",
      "Context: according to ethnologue , the lexical similarity between catalan and other romance languages is : 87 % with italian ; 85 % with portuguese ; 80 % with spanish ; 76 % with ladin ; 75 % with sardinian ; and 73 % with romanian .\n",
      "Predicted Answer: 80 %\n",
      "True Answer: 80 %\n",
      "--------------------------------------------------\n",
      "Question: what year did this ruling happen ?\n",
      "Context: in 2008 , the high court in south africa ruled that chinese south africans who were residents during the apartheid era ( and their descendants ) are to be reclassified as \" black people ,\" solely for the purposes of accessing affirmative action benefits , because they were also \" disadvantaged \" by racial discrimination . chinese people who arrived in the country after the end of apartheid do not qualify for such benefits .\n",
      "Predicted Answer: 2008\n",
      "True Answer: 2008\n",
      "--------------------------------------------------\n",
      "Question: in what year did strasbourg declare itself a free republic ?\n",
      "Context: a revolution in 1332 resulted in a broad - based city government with participation of the guilds , and strasbourg declared itself a free republic . the deadly bubonic plague of 1348 was followed on 14 february 1349 by one of the first and worst pogroms in pre - modern history : over a thousand jews were publicly burnt to death , with the remainder of the jewish population being expelled from the city . until the end of the 18th century , jews were forbidden to remain in town after 10 pm . the time to leave the city was signalled by a municipal herald blowing the grüselhorn ( see below , museums , musée historique );. a special tax , the pflastergeld ( pavement money ), was furthermore to be paid for any horse that a jew would ride or bring into the city while allowed to .\n",
      "Predicted Answer: 1332\n",
      "True Answer: 1332\n",
      "--------------------------------------------------\n",
      "Question: does a wireless mesh open standard make installation harder ?\n",
      "Context: many newer control systems are using wireless mesh open standards ( such as zigbee ), which provides benefits including easier installation ( no need to run control wires ) and interoperability with other standards - based building control systems ( e . g . security ).\n",
      "Predicted Answer: ( no need\n",
      "True Answer: no\n",
      "--------------------------------------------------\n",
      "Question: the number of chromosome sets determines the offspring ' s what ?\n",
      "Context: other developmental and reproductive variations include haplodiploidy , polymorphism , paedomorphosis or peramorphosis , sexual dimorphism , parthenogenesis and more rarely hermaphroditism .: 143 in haplodiploidy , which is a type of sex - determination system , the offspring ' s sex is determined by the number of sets of chromosomes an individual receives . this system is typical in bees and wasps . polymorphism is where a species may have different morphs or forms , as in the oblong winged katydid , which has four different varieties : green , pink and yellow or tan . some insects may retain phenotypes that are normally only seen in juveniles ; this is called paedomorphosis . in peramorphosis , an opposite sort of phenomenon , insects take on previously unseen traits after they have matured into adults . many insects display sexual dimorphism , in which males and females have notably different appearances , such as the moth orgyia recens as an exemplar of sexual dimorphism in insects .\n",
      "Predicted Answer: sex\n",
      "True Answer: sex\n",
      "--------------------------------------------------\n",
      "Question: how many concentration camps were constructed in hanover ?\n",
      "Context: in september 1941 , through the \" action lauterbacher \" plan , a ghettoisation of the remaining hanoverian jewish families began . even before the wannsee conference , on 15 december 1941 , the first jews from hanover were deported to riga . a total of 2 , 400 people were deported , and very few survived . during the war seven concentration camps were constructed in hanover , in which many jews were confined . of the approximately 4 , 800 jews who had lived in hannover in 1938 , fewer than 100 were still in the city when troops of the united states army arrived on 10 april 1945 to occupy hanover at the end of the war .[ citation needed ] today , a memorial at the opera square is a reminder of the persecution of the jews in hanover . after the war a large group of orthodox jewish survivors of the nearby bergen - belsen concentration camp settled in hanover .\n",
      "Predicted Answer: seven\n",
      "True Answer: seven\n",
      "--------------------------------------------------\n",
      "Question: when did edmund burke start a debate club ?\n",
      "Context: in 1744 , burke started at trinity college dublin , a protestant establishment , which up until 1793 , did not permit catholics to take degrees . in 1747 , he set up a debating society , \" edmund burke ' s club \", which , in 1770 , merged with tcd ' s historical club to form the college historical society ; it is the oldest undergraduate society in the world . the minutes of the meetings of burke ' s club remain in the collection of the historical society . burke graduated from trinity in 1748 . burke ' s father wanted him to read law , and with this in mind he went to london in 1750 , where he entered the middle temple , before soon giving up legal study to travel in continental europe . after eschewing the law , he pursued a livelihood through writing .\n",
      "Predicted Answer: 1770\n",
      "True Answer: 1747\n",
      "--------------------------------------------------\n",
      "Question: what asian country notable influenced somali culture ?\n",
      "Context: the culture of somalia is an amalgamation of traditions developed independently and through interaction with neighbouring and far away civilizations , such as other parts of northeast africa , the arabian peninsula , india and southeast asia .\n",
      "Predicted Answer: amalgamation of traditions developed independently and through interaction with neighbouring and far away civilizations , such as other parts of northeast africa , the arabian peninsula , india\n",
      "True Answer: india\n",
      "--------------------------------------------------\n",
      "Question: in what year did the french reach alsace ?\n",
      "Context: holy roman empire central power had begun to decline following years of imperial adventures in italian lands , often ceding hegemony in western europe to france , which had long since centralized power . france began an aggressive policy of expanding eastward , first to the rivers rhône and meuse , and when those borders were reached , aiming for the rhine . in 1299 , the french proposed a marriage alliance between philip iv of france ' s sister blanche and albert i of germany ' s son rudolf , with alsace to be the dowry ; however , the deal never came off . in 1307 , the town of belfort was first chartered by the counts of montbéliard . during the next century , france was to be militarily shattered by the hundred years ' war , which prevented for a time any further tendencies in this direction . after the conclusion of the war , france was again free to pursue its desire to reach the rhine and in 1444 a french army appeared in lorraine and alsace . it took up winter quarters , demanded the submission of metz and strasbourg and launched an attack on basel .\n",
      "Predicted Answer: 1444\n",
      "True Answer: 1444\n",
      "--------------------------------------------------\n",
      "Question: what type of implication might a certain type of clothing have ?\n",
      "Context: humans have shown extreme inventiveness in devising clothing solutions to environmental hazards . examples include : space suits , air conditioned clothing , armor , diving suits , swimsuits , bee - keeper gear , motorcycle leathers , high - visibility clothing , and other pieces of protective clothing . meanwhile , the distinction between clothing and protective equipment is not always clear - cut — since clothes designed to be fashionable often have protective value and clothes designed for function often consider fashion in their design . wearing clothes also has social implications . they cover parts of the body that social norms require to be covered , act as a form of adornment , and serve other social purposes .\n",
      "Predicted Answer: social\n",
      "True Answer: social\n",
      "--------------------------------------------------\n",
      "Question: in which language is the tafseer e kabir written ?\n",
      "Context: because the quran is spoken in classical arabic , many of the later converts to islam ( mostly non - arabs ) did not always understand the quranic arabic , they did not catch allusions that were clear to early muslims fluent in arabic and they were concerned with reconciling apparent conflict of themes in the quran . commentators erudite in arabic explained the allusions , and perhaps most importantly , explained which quranic verses had been revealed early in muhammad ' s prophetic career , as being appropriate to the very earliest muslim community , and which had been revealed later , canceling out or \" abrogating \" ( nāsikh ) the earlier text ( mansūkh ). other scholars , however , maintain that no abrogation has taken place in the quran . the ahmadiyya muslim community has published a ten - volume urdu commentary on the quran , with the name tafseer e kabir .\n",
      "Predicted Answer: urdu\n",
      "True Answer: urdu\n",
      "--------------------------------------------------\n",
      "Question: who needs to attack jehovah witnesses for god to begin the war of armageddon ?\n",
      "Context: a central teaching of jehovah ' s witnesses is that the current world era , or \" system of things \", entered the \" last days \" in 1914 and faces imminent destruction through intervention by god and jesus christ , leading to deliverance for those who worship god acceptably . they consider all other present - day religions to be false , identifying them with \" babylon the great \", or the \" harlot \", of revelation 17 , and believe that they will soon be destroyed by the united nations , which they believe is represented in scripture by the scarlet - colored wild beast of revelation chapter 17 . this development will mark the beginning of the \" great tribulation \". satan will subsequently attack jehovah ' s witnesses , an action that will prompt god to begin the war of armageddon , during which all forms of government and all people not counted as christ ' s \" sheep \", or true followers , will be destroyed . after armageddon , god will extend his heavenly kingdom to include earth , which will be transformed into a paradise similar to the garden of eden . after armageddon , most of those who had died before god ' s intervention will gradually be resurrected during \" judgment day \" lasting for one thousand years . this judgment will be based on their actions after resurrection rather than past deeds . at the end of the thousand years , christ will hand all authority back to god . then a final test\n",
      "Predicted Answer: \n",
      "True Answer: satan\n",
      "--------------------------------------------------\n",
      "Question: what is the primary means of locomotion for most bird species ?\n",
      "Context: most birds can fly , which distinguishes them from almost all other vertebrate classes . flight is the primary means of locomotion for most bird species and is used for breeding , feeding , and predator avoidance and escape . birds have various adaptations for flight , including a lightweight skeleton , two large flight muscles , the pectoralis ( which accounts for 15 % of the total mass of the bird ) and the supracoracoideus , as well as a modified forelimb ( wing ) that serves as an aerofoil . wing shape and size generally determine a bird species ' type of flight ; many birds combine powered , flapping flight with less energy - intensive soaring flight . about 60 extant bird species are flightless , as were many extinct birds . flightlessness often arises in birds on isolated islands , probably due to limited resources and the absence of land predators . though flightless , penguins use similar musculature and movements to \" fly \" through the water , as do auks , shearwaters and dippers .\n",
      "Predicted Answer: flight\n",
      "True Answer: flight\n",
      "--------------------------------------------------\n",
      "Question: when did \" awakenings \" come out ?\n",
      "Context: penny marshall ' s 1990 film awakenings , which was nominated for several oscars , is based on neurologist oliver sacks ' 1973 account of his psychiatric patients at beth abraham hospital in the bronx who were paralyzed by a form of encephalitis but briefly responded to the drug l - dopa . robin williams played the physician ; robert de niro was one of the patients who emerged from a catatonic ( frozen ) state . the home of williams ' character was shot not far from sacks ' actual city island residence . a 1973 yorkshire television documentary and \" a kind of alaska \", a 1985 play by harold pinter , were also based on sacks ' book .\n",
      "Predicted Answer: 1990\n",
      "True Answer: 1990\n",
      "--------------------------------------------------\n",
      "Question: when had edmund chojecki translated portions of the saragossa manuscript into polish\n",
      "Context: when a historic document survives only in translation , the original having been lost , researchers sometimes undertake back - translation in an effort to reconstruct the original text . an example involves the novel the saragossa manuscript by the polish aristocrat jan potocki ( 1761 – 1815 ), who wrote the novel in french and anonymously published fragments in 1804 and 1813 – 14 . portions of the original french - language manuscript were subsequently lost ; however , the missing fragments survived in a polish translation that was made by edmund chojecki in 1847 from a complete french copy , now lost . french - language versions of the complete saragossa manuscript have since been produced , based on extant french - language fragments and on french - language versions that have been back - translated from chojecki ’ s polish version .\n",
      "Predicted Answer: 1847\n",
      "True Answer: 1847\n",
      "--------------------------------------------------\n",
      "Question: the interjection \" o \" has been replaced by which more common and preferred word in english ?\n",
      "Context: capitalisation in english , in terms of the general orthographic rules independent of context ( e . g . title vs . heading vs . text ), is universally standardized for formal writing . ( informal communication , such as texting , instant messaging or a handwritten sticky note , may not bother , but that is because its users usually do not expect it to be formal .) in english , capital letters are used as the first letter of a sentence , a proper noun , or a proper adjective . there are a few pairs of words of different meanings whose only difference is capitalisation of the first letter . the names of the days of the week and the names of the months are also capitalised , as are the first - person pronoun \" i \" and the interjection \" o \" ( although the latter is uncommon in modern usage , with \" oh \" being preferred ). other words normally start with a lower - case letter . there are , however , situations where further capitalisation may be used to give added emphasis , for example in headings and titles ( see below ). in some traditional forms of poetry , capitalisation has conventionally been used as a marker to indicate the beginning of a line of verse independent of any grammatical feature .\n",
      "Predicted Answer: \" oh\n",
      "True Answer: oh\n",
      "--------------------------------------------------\n",
      "Question: in what year did the rcc appoint nasser as president ?\n",
      "Context: nasser ' s street following was still too small to sustain his plans for reform and to secure him in office . to promote himself and the liberation rally , he gave speeches in a cross - country tour , and imposed controls over the country ' s press by decreeing that all publications had to be approved by the party to prevent \" sedition \". both umm kulthum and abdel halim hafez , the leading arab singers of the era , performed songs praising nasser ' s nationalism . others produced plays denigrating his political opponents . according to his associates , nasser orchestrated the campaign himself . arab nationalist terms such \" arab homeland \" and \" arab nation \" frequently began appearing in his speeches in 1954 – 55 , whereas prior he would refer to the arab \" peoples \" or the \" arab region \". in january 1955 , the rcc appointed him as their president , pending national elections .\n",
      "Predicted Answer: 1955\n",
      "True Answer: 1955\n",
      "--------------------------------------------------\n",
      "Question: what was the population of the island in 1872 ?\n",
      "Context: the ratio of muslims to christians fluctuated throughout the period of ottoman domination . in 1777 – 78 , 47 , 000 muslims constituted a majority over the island ' s 37 , 000 christians . by 1872 , the population of the island had risen to 144 , 000 , comprising 44 , 000 muslims and 100 , 000 christians . the muslim population included numerous crypto - christians , including the linobambaki , a crypto - catholic community that arose due to religious persecution of the catholic community by the ottoman authorities ; this community would assimilate into the turkish cypriot community during british rule .\n",
      "Predicted Answer: 144 , 000\n",
      "True Answer: 144 , 000\n",
      "--------------------------------------------------\n",
      "Question: what version of ps3 contained photo gallery ?\n",
      "Context: photo gallery is an optional application to view , create and group photos from ps3 , which is installed separately from the system software at 105 mb . it was introduced in system software version 2 . 60 and provides a range of tools for sorting through and displaying the system ' s pictures . the key feature of this application is that it can organize photos into groups according to various criteria . notable categorizations are colors , ages , or facial expressions of the people in the photos . slideshows can be viewed with the application , along with music and playlists . the software was updated with the release of system software version 3 . 40 allowing users to upload and browse photos on facebook and picasa .\n",
      "Predicted Answer: 2 . 60\n",
      "True Answer: 2 . 60\n",
      "--------------------------------------------------\n",
      "Question: which color is opposite of red on the visible spectrum ?\n",
      "Context: red is the color at the end of the spectrum of visible light next to orange and opposite violet . red color has a predominant light wavelength of roughly 620 – 740 nanometres . red is one of the additive primary colors of visible light , along with green and blue , which in red green blue ( rgb ) color systems are combined to create all the colors on a computer monitor or television screen . red is also one of the subtractive primary colors , along with yellow and blue , of the ryb color space and traditional color wheel used by painters and artists .\n",
      "Predicted Answer: orange\n",
      "True Answer: violet\n",
      "--------------------------------------------------\n",
      "Question: the pleura is made of how many lateral regions ?\n",
      "Context: the thorax is a tagma composed of three sections , the prothorax , mesothorax and the metathorax . the anterior segment , closest to the head , is the prothorax , with the major features being the first pair of legs and the pronotum . the middle segment is the mesothorax , with the major features being the second pair of legs and the anterior wings . the third and most posterior segment , abutting the abdomen , is the metathorax , which features the third pair of legs and the posterior wings . each segment is dilineated by an intersegmental suture . each segment has four basic regions . the dorsal surface is called the tergum ( or notum ) to distinguish it from the abdominal terga . the two lateral regions are called the pleura ( singular : pleuron ) and the ventral aspect is called the sternum . in turn , the notum of the prothorax is called the pronotum , the notum for the mesothorax is called the mesonotum and the notum for the metathorax is called the metanotum . continuing with this logic , the mesopleura and metapleura , as well as the mesosternum and metasternum , are used .\n",
      "Predicted Answer: two\n",
      "True Answer: two\n",
      "--------------------------------------------------\n",
      "Question: since when has environmental damage in thuringia been reduced ?\n",
      "Context: environmental damage in thuringia has been reduced to a large extent after 1990 . the condition of forests , rivers and air was improved by modernizing factories , houses ( decline of coal heating ) and cars , and contaminated areas such as the former uranium surface mines around ronneburg have been remediated . today ' s environmental problems are the salination of the werra river , caused by discharges of k + s salt mines around unterbreizbach and overfertilisation in agriculture , damaging the soil and small rivers .\n",
      "Predicted Answer: 1990\n",
      "True Answer: 1990\n",
      "--------------------------------------------------\n",
      "Question: in what decade did cuban immigrants introduce their cuisine to miami ?\n",
      "Context: cuban immigrants in the 1960s brought the cuban sandwich , medianoche , cuban espresso , and croquetas , all of which have grown in popularity to all miamians , and have become symbols of the city ' s varied cuisine . today , these are part of the local culture , and can be found throughout the city in window cafés , particularly outside of supermarkets and restaurants . restaurants such as versailles restaurant in little havana is a landmark eatery of miami . located on the atlantic ocean , and with a long history as a seaport , miami is also known for its seafood , with many seafood restaurants located along the miami river , and in and around biscayne bay . miami is also the home of restaurant chains such as burger king , tony roma ' s and benihana .\n",
      "Predicted Answer: 1960s\n",
      "True Answer: 1960s\n",
      "--------------------------------------------------\n",
      "Question: which city did the king and queen stay in even with the bombing threats ?\n",
      "Context: in september 1939 , britain and the self - governing dominions , but not ireland , declared war on nazi germany . george vi and his wife resolved to stay in london , despite german bombing raids . they officially stayed in buckingham palace throughout the war , although they usually spent nights at windsor castle . the first german raid on london , on 7 september 1940 , killed about one thousand civilians , mostly in the east end . on 13 september , the king and queen narrowly avoided death when two german bombs exploded in a courtyard at buckingham palace while they were there . in defiance , the queen famously declared : \" i am glad we have been bombed . it makes me feel we can look the east end in the face \". the royal family were portrayed as sharing the same dangers and deprivations as the rest of the country . they were subject to rationing restrictions , and u . s . first lady eleanor roosevelt remarked on the rationed food served and the limited bathwater that was permitted during a stay at the unheated and boarded - up palace . in august 1942 , the king ' s brother , prince george , duke of kent , was killed on active service .\n",
      "Predicted Answer: london\n",
      "True Answer: london\n",
      "--------------------------------------------------\n",
      "Question: how many seasons was mariah carey a judge on american idol ?\n",
      "Context: towards the end of the season , randy jackson , the last remaining of the original judges , announced that he would no longer serve as a judge to pursue other business ventures . both judges mariah carey and nicki minaj also decided to leave after one season to focus on their music careers .\n",
      "Predicted Answer: one\n",
      "True Answer: one\n",
      "--------------------------------------------------\n",
      "Question: in which year did moody ' s downgrade portugal ' s long - term credit assessment\n",
      "Context: the poor performance of the portuguese economy was explored in april 2007 by the economist , which described portugal as \" a new sick man of europe \". from 2002 to 2007 , the number of unemployed increased by 65 % ( 270 , 500 unemployed citizens in 2002 , 448 , 600 unemployed citizens in 2007 ). by early december 2009 , the unemployment rate had reached 10 . 2 % – a 23 - year record high . in december 2009 , ratings agency standard & poor ' s lowered its long - term credit assessment of portugal to \" negative \" from \" stable ,\" voicing pessimism on the country ' s structural weaknesses in the economy and weak competitiveness that would hamper growth and the capacity to strengthen its public finances and reduce debt . in july 2011 , ratings agency moody ' s downgraded its long - term credit assessment of portugal after warning of deteriorating risk of default in march 2011 .\n",
      "Predicted Answer: 2011\n",
      "True Answer: 2011\n",
      "--------------------------------------------------\n",
      "Question: in what year did the crazy horse saloon open ?\n",
      "Context: the music hall and cabaret are famous paris institutions . the moulin rouge was opened in 1889 . it was highly visible because of its large red imitation windmill on its roof , and became the birthplace of the dance known as the french cancan . it helped make famous the singers mistinguett and édith piaf and the painter toulouse - lautrec , who made posters for the venue . in 1911 , the dance hall olympia paris invented the grand staircase as a settling for its shows , competing with its great rival , the folies bergère , its stars in the 1920s included the american singer and dancer josephine baker . the casino de paris presented many famous french singers , including mistinguett , maurice chevalier , and tino rossi . other famous paris music halls include le lido , on the champs - élysées , opened in 1946 ; and the crazy horse saloon , featuring strip - tease , dance and magic , opened in 1951 . the olympia paris has presented edith piaf , marlene dietrich , miles davis , judy garland , and the grateful dead . a half dozen music halls exist today in paris , attended mostly visitors to the city .\n",
      "Predicted Answer: 1946\n",
      "True Answer: 1951\n",
      "--------------------------------------------------\n",
      "Question: in what year did england reach the quarter - finals of the fifa world cup for the first time ?\n",
      "Context: their first ever defeat on home soil to a foreign team was an 0 – 2 loss to the republic of ireland , on 21 september 1949 at goodison park . a 6 – 3 loss in 1953 to hungary , was their second defeat by a foreign team at wembley . in the return match in budapest , hungary won 7 – 1 . this still stands as england ' s worst ever defeat . after the game , a bewildered syd owen said , \" it was like playing men from outer space \". in the 1954 fifa world cup , england reached the quarter - finals for the first time , and lost 4 – 2 to reigning champions uruguay .\n",
      "Predicted Answer: 1954\n",
      "True Answer: 1954\n",
      "--------------------------------------------------\n",
      "Question: what is the name of god in judaism ?\n",
      "Context: in the english language , the capitalized form of god continues to represent a distinction between monotheistic \" god \" and \" gods \" in polytheism . the english word god and its counterparts in other languages are normally used for any and all conceptions and , in spite of significant differences between religions , the term remains an english translation common to all . the same holds for hebrew el , but in judaism , god is also given a proper name , the tetragrammaton yhwh , in origin possibly the name of an edomite or midianite deity , yahweh . in many translations of the bible , when the word lord is in all capitals , it signifies that the word represents the tetragrammaton .\n",
      "Predicted Answer: yhwh\n",
      "True Answer: yhwh\n",
      "--------------------------------------------------\n",
      "Question: which year did beyonce and her father part business ways ?\n",
      "Context: beyoncé announced a hiatus from her music career in january 2010 , heeding her mother ' s advice , \" to live life , to be inspired by things again \". during the break she and her father parted ways as business partners . beyoncé ' s musical break lasted nine months and saw her visit multiple european cities , the great wall of china , the egyptian pyramids , australia , english music festivals and various museums and ballet performances .\n",
      "Predicted Answer: 2010\n",
      "True Answer: 2010\n",
      "--------------------------------------------------\n",
      "Question: for what reason were maximillian and marcellus executed ?\n",
      "Context: in 295 , a certain maximilian refused military service ; in 298 marcellus renounced his military oath . both were executed for treason ; both were christians . at some time around 302 , a report of ominous haruspicy in diocletian ' s domus and a subsequent ( but undated ) dictat of placatory sacrifice by the entire military triggered a series of edicts against christianity . the first ( 303 ad ) \" ordered the destruction of church buildings and christian texts , forbade services to be held , degraded ofﬁcials who were christians , re - enslaved imperial freedmen who were christians , and reduced the legal rights of all christians ... [ physical ] or capital punishments were not imposed on them \" but soon after , several christians suspected of attempted arson in the palace were executed . the second edict threatened christian priests with imprisonment and the third offered them freedom if they performed sacrifice . an edict of 304 enjoined universal sacrifice to traditional gods , in terms that recall the decian edict .\n",
      "Predicted Answer: treason\n",
      "True Answer: treason\n",
      "--------------------------------------------------\n",
      "Question: michael dell removed employee bonuses from what year with his new incentive ?\n",
      "Context: dell announced a change campaign called \" dell 2 . 0 ,\" reducing the number of employees and diversifying the company ' s products . while chairman of the board after relinquishing his ceo position , michael dell still had significant input in the company during rollins ' years as ceo . with the return of michael dell as ceo , the company saw immediate changes in operations , the exodus of many senior vice - presidents and new personnel brought in from outside the company . michael dell announced a number of initiatives and plans ( part of the \" dell 2 . 0 \" initiative ) to improve the company ' s financial performance . these include elimination of 2006 bonuses for employees with some discretionary awards , reduction in the number of managers reporting directly to michael dell from 20 to 12 , and reduction of \" bureaucracy \". jim schneider retired as cfo and was replaced by donald carty , as the company came under an sec probe for its accounting practices .\n",
      "Predicted Answer: 20 to 12\n",
      "True Answer: 2006\n",
      "--------------------------------------------------\n",
      "Question: what year did mt st . helens erupt causing devastating damage ?\n",
      "Context: the west coast of the continental united states and areas of alaska ( including the aleutian islands , the alaskan peninsula and southern alaskan coast ) make up part of the pacific ring of fire , an area of heavy tectonic and volcanic activity that is the source of 90 % of the world ' s earthquakes .[ citation needed ] the american northwest sees the highest concentration of active volcanoes in the united states , in washington , oregon and northern california along the cascade mountains . there are several active volcanoes located in the islands of hawaii , including kilauea in ongoing eruption since 1983 , but they do not typically adversely affect the inhabitants of the islands . there has not been a major life - threatening eruption on the hawaiian islands since the 17th century . volcanic eruptions can occasionally be devastating , such as in the 1980 eruption of mount st . helens in washington .\n",
      "Predicted Answer: 1980\n",
      "True Answer: 1980\n",
      "--------------------------------------------------\n",
      "Question: at which show did sandisk have their assets seized ?\n",
      "Context: in september 2006 , german officials seized mp3 players from sandisk ' s booth at the ifa show in berlin after an italian patents firm won an injunction on behalf of sisvel against sandisk in a dispute over licensing rights . the injunction was later reversed by a berlin judge , but that reversal was in turn blocked the same day by another judge from the same court , \" bringing the patent wild west to germany \" in the words of one commentator .\n",
      "Predicted Answer: ifa\n",
      "True Answer: ifa\n",
      "--------------------------------------------------\n",
      "Question: where is university college london , or ucl , ranked among the world ' s best colleges and universities ?\n",
      "Context: a number of world - leading education institutions are based in london . in the 2014 / 15 qs world university rankings , imperial college london is ranked joint 2nd in the world ( alongside the university of cambridge ), university college london ( ucl ) is ranked 5th , and king ' s college london ( kcl ) is ranked 16th . the london school of economics has been described as the world ' s leading social science institution for both teaching and research . the london business school is considered one of the world ' s leading business schools and in 2015 its mba programme was ranked second best in the world by the financial times .\n",
      "Predicted Answer: 5th\n",
      "True Answer: 5th\n",
      "--------------------------------------------------\n",
      "Question: which group brought with them the chinese artistic traditions to the southeast asian country ?\n",
      "Context: it has been pointed out that khmer and indonesian classical arts were concerned with depicting the life of the gods , but to the southeast asian mind the life of the gods was the life of the peoples themselves — joyous , earthy , yet divine . the tai , coming late into southeast asia , brought with them some chinese artistic traditions , but they soon shed them in favour of the khmer and mon traditions , and the only indications of their earlier contact with chinese arts were in the style of their temples , especially the tapering roof , and in their lacquerware .\n",
      "Predicted Answer: tai\n",
      "True Answer: tai\n",
      "--------------------------------------------------\n",
      "Question: what term did lee use to describe the town ' s courthouse ?\n",
      "Context: scholars have characterized to kill a mockingbird as both a southern gothic and coming - of - age or bildungsroman novel . the grotesque and near - supernatural qualities of boo radley and his house , and the element of racial injustice involving tom robinson contribute to the aura of the gothic in the novel . lee used the term \" gothic \" to describe the architecture of maycomb ' s courthouse and in regard to dill ' s exaggeratedly morbid performances as boo radley . outsiders are also an important element of southern gothic texts and scout and jem ' s questions about the hierarchy in the town cause scholars to compare the novel to catcher in the rye and adventures of huckleberry finn . despite challenging the town ' s systems , scout reveres atticus as an authority above all others , because he believes that following one ' s conscience is the highest priority , even when the result is social ostracism . however , scholars debate about the southern gothic classification , noting that boo radley is in fact human , protective , and benevolent . furthermore , in addressing themes such as alcoholism , incest , rape , and racial violence , lee wrote about her small town realistically rather than melodramatically . she portrays the problems of individual characters as universal underlying issues in every society .\n",
      "Predicted Answer: \" gothic\n",
      "True Answer: gothic\n",
      "--------------------------------------------------\n",
      "Question: what year was the imperial college school of medicine formally established ?\n",
      "Context: in 1988 imperial merged with st mary ' s hospital medical school , becoming the imperial college of science , technology and medicine . in 1995 imperial launched its own academic publishing house , imperial college press , in partnership with world scientific . imperial merged with the national heart and lung institute in 1995 and the charing cross and westminster medical school , royal postgraduate medical school ( rpms ) and the institute of obstetrics and gynaecology in 1997 . in the same year the imperial college school of medicine was formally established and all of the property of charing cross and westminster medical school , the national heart and lung institute and the royal postgraduate medical school were transferred to imperial as the result of the imperial college act 1997 . in 1998 the sir alexander fleming building was opened by queen elizabeth ii to provide a headquarters for the college ' s medical and biomedical research .\n",
      "Predicted Answer: 1988\n",
      "True Answer: 1997\n",
      "--------------------------------------------------\n",
      "Question: what percent of the desktop share in the u . s . did apple have in 2003 ?\n",
      "Context: statistics from late 2003 indicate that apple had 2 . 06 percent of the desktop share in the united states that had increased to 2 . 88 percent by q4 2004 . as of october 2006 , research firms idc and gartner reported that apple ' s market share in the u . s . had increased to about 6 percent . figures from december 2006 , showing a market share around 6 percent ( idc ) and 6 . 1 percent ( gartner ) are based on a more than 30 percent increase in unit sale from 2005 to 2006 . the installed base of mac computers is hard to determine , with numbers ranging from 5 % ( estimated in 2009 ) to 16 % ( estimated in 2005 ).\n",
      "Predicted Answer: 2 . 06\n",
      "True Answer: 2 . 06\n",
      "--------------------------------------------------\n",
      "Question: what percentage of the city of bostons population is 19 and under ?\n",
      "Context: in the city , the population was spread out with 21 . 9 % at age 19 and under , 14 . 3 % from 20 to 24 , 33 . 2 % from 25 to 44 , 20 . 4 % from 45 to 64 , and 10 . 1 % who were 65 years of age or older . the median age was 30 . 8 years . for every 100 females , there were 92 . 0 males . for every 100 females age 18 and over , there were 89 . 9 males . there were 252 , 699 households , of which 20 . 4 % had children under the age of 18 living in them , 25 . 5 % were married couples living together , 16 . 3 % had a female householder with no husband present , and 54 . 0 % were non - families . 37 . 1 % of all households were made up of individuals and 9 . 0 % had someone living alone who was 65 years of age or older . the average household size was 2 . 26 and the average family size was 3 . 08 .\n",
      "Predicted Answer: 21 . 9 %\n",
      "True Answer: 21 . 9 %\n",
      "--------------------------------------------------\n",
      "Question: up to what wavelength does the human eye perceive ir led sources as red ?\n",
      "Context: the onset of infrared is defined ( according to different standards ) at various values typically between 700 nm and 800 nm , but the boundary between visible and infrared light is not precisely defined . the human eye is markedly less sensitive to light above 700 nm wavelength , so longer wavelengths make insignificant contributions to scenes illuminated by common light sources . however , particularly intense near - ir light ( e . g ., from ir lasers , ir led sources , or from bright daylight with the visible light removed by colored gels ) can be detected up to approximately 780 nm , and will be perceived as red light . sources providing wavelengths as long as 1050 nm can be seen as a dull red glow in intense sources , causing some difficulty in near - ir illumination of scenes in the dark ( usually this practical problem is solved by indirect illumination ). leaves are particularly bright in the near ir , and if all visible light leaks from around an ir - filter are blocked , and the eye is given a moment to adjust to the extremely dim image coming through a visually opaque ir - passing photographic filter , it is possible to see the wood effect that consists of ir - glowing foliage .\n",
      "Predicted Answer: 700 nm\n",
      "True Answer: 780 nm\n",
      "--------------------------------------------------\n",
      "Question: on what computer was the first numerical weather forecast produced ?\n",
      "Context: von neumann ' s team performed the world ' s first numerical weather forecasts on the eniac computer ; von neumann published the paper numerical integration of the barotropic vorticity equation in 1950 . von neumann ' s interest in weather systems and meteorological prediction led him to propose manipulating the environment by spreading colorants on the polar ice caps to enhance absorption of solar radiation ( by reducing the albedo ). thereby inducing global warming . noting that the earth was only 6 ° f ( 3 . 3 ° c ) colder during the last glacial period , he noted that the burning of coal and oil \" a general warming of the earth by about one degree fahrenheit .\"\n",
      "Predicted Answer: eniac\n",
      "True Answer: eniac\n",
      "--------------------------------------------------\n",
      "Question: what was the name of gaddafi ' s daughter who may not have existed ?\n",
      "Context: after the u . s . accused libya of orchestrating the 1986 berlin discotheque bombing , in which two american soldiers died , reagan decided to retaliate militarily . the central intelligence agency were critical of the move , believing that syria were a greater threat and that an attack would strengthen gaddafi ' s reputation ; however libya was recognised as a \" soft target .\" reagan was supported by the u . k . but opposed by other european allies , who argued that it would contravene international law . in operation el dorado canyon , orchestrated on 15 april 1986 , u . s . military planes launched a series of air - strikes on libya , bombing military installations in various parts of the country , killing around 100 libyans , including several civilians . one of the targets had been gaddafi ' s home . himself unharmed , two of gaddafi ' s sons were injured , and he claimed that his four - year - old adopted daughter hanna was killed , although her existence has since been questioned . in the immediate aftermath , gaddafi retreated to the desert to meditate , while there were sporadic clashes between gaddafists and army officers who wanted to overthrow the government . although the u . s . was condemned internationally , reagan received a popularity boost at home . publicly lambasting u . s . imperialism , gaddafi ' s reputation as an anti - imperialist was strengthened both domestically and across the arab world ,\n",
      "Predicted Answer: reagan\n",
      "True Answer: hanna\n",
      "--------------------------------------------------\n",
      "Question: by what year did the 11 - plus exam mainly fall out of use ?\n",
      "Context: by 1975 the majority of local authorities in england and wales had abandoned the 11 - plus examination and moved to a comprehensive system . over that 10 - year period many secondary modern schools and grammar schools were amalgamated to form large neighbourhood comprehensives , whilst a number of new schools were built to accommodate a growing school population . by the mid - 1970s the system had been almost fully implemented , with virtually no secondary modern schools remaining . many grammar schools were either closed or changed to comprehensive status . some local authorities , including sandwell and dudley in the west midlands , changed all of its state secondary schools to comprehensive schools during the 1970s .\n",
      "Predicted Answer: 1975\n",
      "True Answer: 1975\n",
      "--------------------------------------------------\n",
      "Question: the properties of a usable radio frequency can be called its ?\n",
      "Context: the bandwidth characteristics of a resonant antenna element can be characterized according to its q , just as one uses to characterize the sharpness of an l - c resonant circuit . however it is often assumed that there is an advantage in an antenna having a high q . after all , q is short for \" quality factor \" and a low q typically signifies excessive loss ( due to unwanted resistance ) in a resonant l - c circuit . however this understanding does not apply to resonant antennas where the resistance involved is the radiation resistance , a desired quantity which removes energy from the resonant element in order to radiate it ( the purpose of an antenna , after all !). the q is a measure of the ratio of reactance to resistance , so with a fixed radiation resistance ( an element ' s radiation resistance is almost independent of its diameter ) a greater reactance off - resonance corresponds to the poorer bandwidth of a very thin conductor . the q of such a narrowband antenna can be as high as 15 . on the other hand , a thick element presents less reactance at an off - resonant frequency , and consequently a q as low as 5 . these two antennas will perform equivalently at the resonant frequency , but the second antenna will perform over a bandwidth 3 times as wide as the \" hi - q \" antenna consisting of a thin conductor .\n",
      "Predicted Answer: q\n",
      "True Answer: q\n",
      "--------------------------------------------------\n",
      "Question: what year did the u . s . join world war i ?\n",
      "Context: starting in 1910 , the army began acquiring fixed - wing aircraft . in 1910 , mexico was having a civil war , peasant rebels fighting government soldiers . the army was deployed to american towns near the border to ensure safety to lives and property . in 1916 , pancho villa , a major rebel leader , attacked columbus , new mexico , prompting a u . s . intervention in mexico until 7 february 1917 . they fought the rebels and the mexican federal troops until 1918 . the united states joined world war i in 1917 on the side of britain , france , russia , italy and other allies . u . s . troops were sent to the western front and were involved in the last offensives that ended the war . with the armistice in november 1918 , the army once again decreased its forces .\n",
      "Predicted Answer: 1917\n",
      "True Answer: 1917\n",
      "--------------------------------------------------\n",
      "Question: what year did caesars entertainment file for bankruptcy ?\n",
      "Context: caesars entertainment executives have been reconsidering the future of their three remaining atlantic city properties ( bally ' s , caesars and harrah ' s ), in the wake of a chapter 11 bankruptcy filing by the company ' s casino operating unit in january 2015 .\n",
      "Predicted Answer: 2015\n",
      "True Answer: 2015\n",
      "--------------------------------------------------\n",
      "Question: what percent of the population are between 20 - 64 ?\n",
      "Context: as of 2000 [ update ], children and teenagers ( 0 – 19 years old ) make up 15 . 1 % of the population , while adults ( 20 – 64 years old ) make up 65 % and seniors ( over 64 years old ) make up 19 . 9 %.\n",
      "Predicted Answer: 15 . 1 %\n",
      "True Answer: 65 %\n",
      "--------------------------------------------------\n",
      "Question: in what century was eisenhower born ?\n",
      "Context: eisenhower was the last president born in the 19th century , and at age 62 , was the oldest man elected president since james buchanan in 1856 ( president truman stood at 64 in 1948 as the incumbent president at the time of his election four years earlier ). eisenhower was the only general to serve as president in the 20th century and the most recent president to have never held elected office prior to the presidency ( the other presidents who did not have prior elected office were zachary taylor , ulysses s . grant , william howard taft and herbert hoover ).\n",
      "Predicted Answer: 19th\n",
      "True Answer: 19th\n",
      "--------------------------------------------------\n",
      "Question: what is it called when the protagonist loses ?\n",
      "Context: while true exhibition matches are not uncommon , most matches tell a story analogous to a scene in a play or film , or an episode of a serial drama : the face will sometimes win ( triumph ) or sometimes lose ( tragedy ). longer story arcs can result from multiple matches over the course of time . since most promotions have a championship title , competition for the championship is a common impetus for stories . also , anything from a character ' s own hair to their job with the promotion can be wagered in a match . the same type of good vs . evil storylines were also once popular in roller derby .\n",
      "Predicted Answer: ( triumph\n",
      "True Answer: tragedy\n",
      "--------------------------------------------------\n",
      "Question: which country took over kazakhstan ?\n",
      "Context: when russia invaded the turkish balkans in 1853 , fears of russian dominance in the mediterranean and middle east led britain and france to invade the crimean peninsula to destroy russian naval capabilities . the ensuing crimean war ( 1854 – 56 ), which involved new techniques of modern warfare , and was the only global war fought between britain and another imperial power during the pax britannica , was a resounding defeat for russia . the situation remained unresolved in central asia for two more decades , with britain annexing baluchistan in 1876 and russia annexing kirghizia , kazakhstan , and turkmenistan . for a while it appeared that another war would be inevitable , but the two countries reached an agreement on their respective spheres of influence in the region in 1878 and on all outstanding matters in 1907 with the signing of the anglo - russian entente . the destruction of the russian navy by the japanese at the battle of port arthur during the russo - japanese war of 1904 – 05 also limited its threat to the british .\n",
      "Predicted Answer: russia\n",
      "True Answer: russia\n",
      "--------------------------------------------------\n",
      "Question: when was valencia ' s founding ?\n",
      "Context: valencia was founded as a roman colony in 138 bc . the city is situated on the banks of the turia , on the east coast of the iberian peninsula , fronting the gulf of valencia on the mediterranean sea . its historic centre is one of the largest in spain , with approximately 169 hectares ; this heritage of ancient monuments , views and cultural attractions makes valencia one of the country ' s most popular tourist destinations . major monuments include valencia cathedral , the torres de serrans , the torres de quart , the llotja de la seda ( declared a world heritage site by unesco in 1996 ), and the ciutat de les arts i les ciències ( city of arts and sciences ), an entertainment - based cultural and architectural complex designed by santiago calatrava and félix candela . the museu de belles arts de valència houses a large collection of paintings from the 14th to the 18th centuries , including works by velázquez , el greco , and goya , as well as an important series of engravings by piranesi . the institut valencià d ' art modern ( valencian institute of modern art ) houses both permanent collections and temporary exhibitions of contemporary art and photography .\n",
      "Predicted Answer: 138 bc\n",
      "True Answer: 138 bc\n",
      "--------------------------------------------------\n",
      "Question: what shape were the a and b buttons on the earliest famicom controllers ?\n",
      "Context: the original model famicom featured two game controllers , both of which were hardwired to the back of the console . the second controller lacked the start and select buttons , but featured a small microphone . relatively few games made use of this feature . the earliest produced famicom units initially had square a and b buttons . this was changed to the circular designs because of the square buttons being caught in the controller casing when pressed down and glitches within the hardware causing the system to freeze occasionally while playing a game .\n",
      "Predicted Answer: square\n",
      "True Answer: square\n",
      "--------------------------------------------------\n",
      "Question: what other os could use internet explorer ?\n",
      "Context: internet explorer , on the other hand , was bundled free with the windows operating system ( and was also downloadable free ), and therefore it was funded partly by the sales of windows to computer manufacturers and direct to users . internet explorer also used to be available for the mac . it is likely that releasing ie for the mac was part of microsoft ' s overall strategy to fight threats to its quasi - monopoly platform dominance - threats such as web standards and java - by making some web developers , or at least their managers , assume that there was \" no need \" to develop for anything other than internet explorer . in this respect , ie may have contributed to windows and microsoft applications sales in another way , through \" lock - in \" to microsoft ' s browser .\n",
      "Predicted Answer: mac\n",
      "True Answer: mac\n",
      "--------------------------------------------------\n",
      "Question: when was the jewish section attacked ?\n",
      "Context: the city went through serious troubles in the mid - fourteenth century . on the one hand were the decimation of the population by the black death of 1348 and subsequent years of epidemics — and on the other , the series of wars and riots that followed . among these were the war of the union , a citizen revolt against the excesses of the monarchy , led by valencia as the capital of the kingdom — and the war with castile , which forced the hurried raising of a new wall to resist castilian attacks in 1363 and 1364 . in these years the coexistence of the three communities that occupied the city — christian , jewish and muslim — was quite contentious . the jews who occupied the area around the waterfront had progressed economically and socially , and their quarter gradually expanded its boundaries at the expense of neighbouring parishes . meanwhile , muslims who remained in the city after the conquest were entrenched in a moorish neighbourhood next to the present - day market mosen sorel . in 1391 an uncontrolled mob attacked the jewish quarter , causing its virtual disappearance and leading to the forced conversion of its surviving members to christianity . the muslim quarter was attacked during a similar tumult among the populace in 1456 , but the consequences were minor .\n",
      "Predicted Answer: 1391\n",
      "True Answer: 1391\n",
      "--------------------------------------------------\n",
      "Question: in what year did apple face multiple intellectual property lawsuits ?\n",
      "Context: in 2005 , apple faced two lawsuits claiming patent infringement by the ipod line and its associated technologies : advanced audio devices claimed the ipod line breached its patent on a \" music jukebox \", while a hong kong - based ip portfolio company called pat - rights filed a suit claiming that apple ' s fairplay technology breached a patent issued to inventor ho keung tse . the latter case also includes the online music stores of sony , realnetworks , napster , and musicmatch as defendants .\n",
      "Predicted Answer: 2005\n",
      "True Answer: 2005\n",
      "--------------------------------------------------\n",
      "Question: who apologized to chopin for adding embellishments to a musical piece he perforemed that\n",
      "Context: although the two displayed great respect and admiration for each other , their friendship was uneasy and had some qualities of a love - hate relationship . harold c . schonberg believes that chopin displayed a \" tinge of jealousy and spite \" towards liszt ' s virtuosity on the piano , and others have also argued that he had become enchanted with liszt ' s theatricality , showmanship and success . liszt was the dedicatee of chopin ' s op . 10 études , and his performance of them prompted the composer to write to hiller , \" i should like to rob him of the way he plays my studies .\" however , chopin expressed annoyance in 1843 when liszt performed one of his nocturnes with the addition of numerous intricate embellishments , at which chopin remarked that he should play the music as written or not play it at all , forcing an apology . most biographers of chopin state that after this the two had little to do with each other , although in his letters dated as late as 1848 he still referred to him as \" my friend liszt \". some commentators point to events in the two men ' s romantic lives which led to a rift between them ; there are claims that liszt had displayed jealousy of his mistress marie d ' agoult ' s obsession with chopin , while others believe that chopin had\n",
      "Predicted Answer: \n",
      "True Answer: liszt\n",
      "--------------------------------------------------\n",
      "Question: the steppe reaches temperatures above what in the winter ?\n",
      "Context: the plains at the foot of the sierra madre occidental is an elongated mesa known as altiplanicie mexicana that exhibits a steppe climate and serves as a transition zone from the mountain climate in the western part of the state to the desert climate in the eastern side of the state . the steppe zone accounts for a third of the state ' s area , and it experiences pronounced dry and wet seasons . the pronounced rainy season in the steppe is usually observed in the months of july , august , and september . the steppe also encounters extreme temperatures that often reach over 100 ° f in the summer and drop below 32 ° f in the winter . the steppe zone is an important agriculture zone due to an extensive development of canals exploiting several rivers that flow down from the mountains . the steppe zone is the most populated area of the state .\n",
      "Predicted Answer: 100 ° f\n",
      "True Answer: 100 ° f\n",
      "--------------------------------------------------\n",
      "Question: when did venezuela begin to create institutes of technology ?\n",
      "Context: institutes of technology in venezuela were developed in the 1950s as an option for post - secondary education in technical and scientific courses , after the polytechnic french concepts . at that time , technical education was considered essential for the development of a sound middle class economy .\n",
      "Predicted Answer: 1950s\n",
      "True Answer: 1950s\n",
      "--------------------------------------------------\n",
      "Question: how many bus lines does the optile consortium manage ?\n",
      "Context: paris is a major rail , highway , and air transport hub . the syndicat des transports d ' île - de - france ( stif ), formerly syndicat des transports parisiens ( stp ), oversees the transit network in the region . the syndicate coordinates public transport and contracts it out to the ratp ( operating 347 bus lines , the métro , eight tramway lines , and sections of the rer ), the sncf ( operating suburban rails , one tramway line and the other sections of the rer ) and the optile consortium of private operators managing 1 , 176 bus lines .\n",
      "Predicted Answer: 1 , 176\n",
      "True Answer: 1 , 176\n",
      "--------------------------------------------------\n",
      "Question: what country did not prevent a communist victory in china ?\n",
      "Context: by spring 1950 , stalin believed the strategic situation had changed . the soviets had detonated their first nuclear bomb in september 1949 ; american soldiers had fully withdrawn from korea ; the americans had not intervened to stop the communist victory in china , and stalin calculated that the americans would be even less willing to fight in korea — which had seemingly much less strategic significance . the soviets had also cracked the codes used by the us to communicate with the us embassy in moscow , and reading these dispatches convinced stalin that korea did not have the importance to the us that would warrant a nuclear confrontation . stalin began a more aggressive strategy in asia based on these developments , including promising economic and military aid to china through the sino – soviet friendship , alliance , and mutual assistance treaty .\n",
      "Predicted Answer: stalin\n",
      "True Answer: us\n",
      "--------------------------------------------------\n",
      "Question: in what year did abc broadcast an arena football league game ?\n",
      "Context: from the 1987 season until the late 1990s , the most exposure the league would receive was on espn , which aired tape - delayed games , often well after midnight , and often edited to match the alloted time slot . the league received its first taste of wide exposure in 1998 , when arena bowl xii was televised nationally as part of abc ' s old wide world of sports .\n",
      "Predicted Answer: 1998\n",
      "True Answer: 1998\n",
      "--------------------------------------------------\n",
      "Question: when was the most recent constitution of the marshall islands adopted ?\n",
      "Context: the government of the marshall islands operates under a mixed parliamentary - presidential system as set forth in its constitution . elections are held every four years in universal suffrage ( for all citizens above 18 ), with each of the twenty - four constituencies ( see below ) electing one or more representatives ( senators ) to the lower house of rmi ' s unicameral legislature , the nitijela . ( majuro , the capital atoll , elects five senators .) the president , who is head of state as well as head of government , is elected by the 33 senators of the nitijela . four of the five marshallese presidents who have been elected since the constitution was adopted in 1979 have been traditional paramount chiefs .\n",
      "Predicted Answer: 1979\n",
      "True Answer: 1979\n",
      "--------------------------------------------------\n",
      "Question: what group was notably disliked in iran after the persian empire fell ?\n",
      "Context: the books written later in the abbasid period in iran are more anti umayyad . iran was sunni at the time . there was much anti arab feeling in iran after the fall of the persian empire . this anti arab feeling also influenced the books on islamic history . al - tabri was also written in iran during that period . al - tabri was a huge collection including all the text that he could find , from all the sources . it was a collection preserving everything for future generations to codify and for future generations to judge if it was true or false .\n",
      "Predicted Answer: arab\n",
      "True Answer: arab\n",
      "--------------------------------------------------\n",
      "Question: what do somalis call their ancient pyramids ?\n",
      "Context: in ancient somalia , pyramidical structures known in somali as taalo were a popular burial style , with hundreds of these dry stone monuments scattered around the country today . houses were built of dressed stone similar to the ones in ancient egypt . there are also examples of courtyards and large stone walls enclosing settlements , such as the wargaade wall .\n",
      "Predicted Answer: taalo\n",
      "True Answer: taalo\n",
      "--------------------------------------------------\n",
      "Question: in which year did hungary attempt to leave the warsaw pact ?\n",
      "Context: in 1956 , following the declaration of the imre nagy government of withdrawal of hungary from the warsaw pact , soviet troops entered the country and removed the government . soviet forces crushed the nationwide revolt , leading to the death of an estimated 2 , 500 hungarian citizens .\n",
      "Predicted Answer: 1956\n",
      "True Answer: 1956\n",
      "--------------------------------------------------\n",
      "Question: when did the bbc start exploring the use of internet streaming ?\n",
      "Context: in 2008 , the bbc began experimenting with live streaming of certain channels in the uk , and in november 2008 , all standard bbc television channels were made available to watch online .\n",
      "Predicted Answer: uk\n",
      "True Answer: 2008\n",
      "--------------------------------------------------\n",
      "Question: when did henry ii appropriate the estates of the late earl of cornwall ?\n",
      "Context: john had spent the conflict travelling alongside his father , and was given widespread possessions across the angevin empire as part of the montlouis settlement ; from then onwards , most observers regarded john as henry ii ' s favourite child , although he was the furthest removed in terms of the royal succession . henry ii began to find more lands for john , mostly at various nobles ' expense . in 1175 he appropriated the estates of the late earl of cornwall and gave them to john . the following year , henry disinherited the sisters of isabelle of gloucester , contrary to legal custom , and betrothed john to the now extremely wealthy isabelle . in 1177 , at the council of oxford , henry dismissed william fitzaldelm as the lord of ireland and replaced him with the ten - year - old john .\n",
      "Predicted Answer: 1175\n",
      "True Answer: 1175\n",
      "--------------------------------------------------\n",
      "Question: what season is february in tucson ?\n",
      "Context: another popular event held in february , which is early spring in tucson , is the fiesta de los vaqueros , or rodeo week , founded by winter visitor , leighton kramer . while at its heart the fiesta is a sporting event , it includes what is billed as \" the world ' s largest non - mechanized parade \". the rodeo parade is a popular event as most schools give two rodeo days off instead of presidents day . the exception to this is presidio high ( a non - public charter school ), which doesn ' t get either . western wear is seen throughout the city as corporate dress codes are cast aside during the fiesta . the fiesta de los vaqueros marks the beginning of the rodeo season in the united states .\n",
      "Predicted Answer: spring\n",
      "True Answer: spring\n",
      "--------------------------------------------------\n",
      "Question: how many airports are affiliated with london and incorporate the word london in their names ?\n",
      "Context: london is a major international air transport hub with the busiest city airspace in the world . eight airports use the word london in their name , but most traffic passes through six of these . london heathrow airport , in hillingdon , west london , is the busiest airport in the world for international traffic , and is the major hub of the nation ' s flag carrier , british airways . in march 2008 its fifth terminal was opened . there were plans for a third runway and a sixth terminal ; however , these were cancelled by the coalition government on 12 may 2010 .\n",
      "Predicted Answer: eight\n",
      "True Answer: eight\n",
      "--------------------------------------------------\n",
      "Question: which language was used in lectures in early european universities ?\n",
      "Context: the university culture developed differently in northern europe than it did in the south , although the northern ( primarily germany , france and great britain ) and southern universities ( primarily italy ) did have many elements in common . latin was the language of the university , used for all texts , lectures , disputations and examinations . professors lectured on the books of aristotle for logic , natural philosophy , and metaphysics ; while hippocrates , galen , and avicenna were used for medicine . outside of these commonalities , great differences separated north and south , primarily in subject matter . italian universities focused on law and medicine , while the northern universities focused on the arts and theology . there were distinct differences in the quality of instruction in these areas which were congruent with their focus , so scholars would travel north or south based on their interests and means . there was also a difference in the types of degrees awarded at these universities . english , french and german universities usually awarded bachelor ' s degrees , with the exception of degrees in theology , for which the doctorate was more common . italian universities awarded primarily doctorates . the distinction can be attributed to the intent of the degree holder after graduation – in the north the focus tended to be on acquiring teaching positions , while in the south students often went on to professional positions . the structure of northern universities tended to be modeled after the system of faculty governance developed at the university of paris . southern universities tended to be patterned after the student - controlled model begun at the\n",
      "Predicted Answer: latin\n",
      "True Answer: latin\n",
      "--------------------------------------------------\n",
      "Question: how many of victorias daughters were carriers of the blood clotting disease that leopold\n",
      "Context: victoria ' s youngest son , leopold , was affected by the blood - clotting disease haemophilia b and two of her five daughters , alice and beatrice , were carriers . royal haemophiliacs descended from victoria included her great - grandsons , tsarevich alexei of russia , alfonso , prince of asturias , and infante gonzalo of spain . the presence of the disease in victoria ' s descendants , but not in her ancestors , led to modern speculation that her true father was not the duke of kent but a haemophiliac . there is no documentary evidence of a haemophiliac in connection with victoria ' s mother , and as male carriers always suffer the disease , even if such a man had existed he would have been seriously ill . it is more likely that the mutation arose spontaneously because victoria ' s father was over 50 at the time of her conception and haemophilia arises more frequently in the children of older fathers . spontaneous mutations account for about a third of cases .\n",
      "Predicted Answer: two\n",
      "True Answer: two\n",
      "--------------------------------------------------\n",
      "Question: when did suriname officially become independent from the netherlands ?\n",
      "Context: in suriname today , dutch is the sole official language , and over 60 percent of the population speaks it as a mother tongue . dutch is the obligatory medium of instruction in schools in suriname , even for non - native speakers . a further twenty - four percent of the population speaks dutch as a second language . suriname gained its independence from the netherlands in 1975 and has been an associate member of the dutch language union since 2004 . the lingua franca of suriname , however , is sranan tongo , spoken natively by about a fifth of the population .\n",
      "Predicted Answer: 1975\n",
      "True Answer: 1975\n",
      "--------------------------------------------------\n",
      "Question: the nes was duplicated on which medium in order to make clones easy to produce ?\n",
      "Context: the unlicensed clone market has flourished following nintendo ' s discontinuation of the nes . some of the more exotic of these resulting systems have gone beyond the functionality of the original hardware and have included variations such as a portable system with a color lcd ( e . g . pocketfami ). others have been produced with certain specialized markets in mind , such as an nes clone that functions as a rather primitive personal computer , which includes a keyboard and basic word processing software . these unauthorized clones have been helped by the invention of the so - called nes - on - a - chip .\n",
      "Predicted Answer: - a - chip\n",
      "True Answer: chip\n",
      "--------------------------------------------------\n",
      "Question: when was the snes released in australia ?\n",
      "Context: the super nintendo entertainment system ( officially abbreviated the super nes [ b ] or snes [ c ], and commonly shortened to super nintendo [ d ]) is a 16 - bit home video game console developed by nintendo that was released in 1990 in japan and south korea , 1991 in north america , 1992 in europe and australasia ( oceania ), and 1993 in south america . in japan , the system is called the super famicom ( japanese : スーパーファミコン , hepburn : sūpā famikon ?, officially adopting the abbreviated name of its predecessor , the family computer ), or sfc for short . in south korea , it is known as the super comboy ( 슈퍼 컴보이 syupeo keomboi ) and was distributed by hyundai electronics . although each version is essentially the same , several forms of regional lockout prevent the different versions from being compatible with one another . it was released in brazil on september 2 , 1992 , by playtronic .\n",
      "Predicted Answer: 1990\n",
      "True Answer: 1992\n",
      "--------------------------------------------------\n",
      "Question: what was the name of the top - selling anti - inflammatory drug in 2013 ?\n",
      "Context: the top ten best - selling drugs of 2013 totaled $ 75 . 6 billion in sales , with the anti - inflammatory drug humira being the best - selling drug worldwide at $ 10 . 7 billion in sales . the second and third best selling were enbrel and remicade , respectively . the top three best - selling drugs in the united states in 2013 were abilify ($ 6 . 3 billion ,) nexium ($ 6 billion ) and humira ($ 5 . 4 billion ). the best - selling drug ever , lipitor , averaged $ 13 billion annually and netted $ 141 billion total over its lifetime before pfizer ' s patent expired in november 2011 .\n",
      "Predicted Answer: humira\n",
      "True Answer: humira\n",
      "--------------------------------------------------\n"
     ]
    }
   ],
   "source": [
    "# Compare the predictions with the actual answers\n",
    "for i in range(100):\n",
    "    print(f\"Question: {train_questions[i]}\")\n",
    "    print(f\"Context: {train_context[i]}\")\n",
    "    print(f\"Predicted Answer: {train_preds[i]}\")\n",
    "    print(f\"True Answer: {train_true_labels[i]}\")\n",
    "    print(\"-\" * 50)"
   ]
  }
 ],
 "metadata": {
  "kernelspec": {
   "display_name": "nlp_kernel",
   "language": "python",
   "name": "nlp_env"
  },
  "language_info": {
   "codemirror_mode": {
    "name": "ipython",
    "version": 3
   },
   "file_extension": ".py",
   "mimetype": "text/x-python",
   "name": "python",
   "nbconvert_exporter": "python",
   "pygments_lexer": "ipython3",
   "version": "3.11.11"
  }
 },
 "nbformat": 4,
 "nbformat_minor": 2
}
