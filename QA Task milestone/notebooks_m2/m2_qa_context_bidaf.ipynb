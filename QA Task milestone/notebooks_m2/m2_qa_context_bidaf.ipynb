{
 "cells": [
  {
   "cell_type": "markdown",
   "metadata": {},
   "source": [
    "# Milestone 2 - BiDAF training notebook"
   ]
  },
  {
   "cell_type": "code",
   "execution_count": 1,
   "metadata": {},
   "outputs": [
    {
     "name": "stderr",
     "output_type": "stream",
     "text": [
      "c:\\Users\\001\\anaconda3\\envs\\nlp_env\\Lib\\site-packages\\IPython\\core\\magics\\osm.py:417: UserWarning: This is now an optional IPython functionality, setting dhist requires you to install the `pickleshare` library.\n",
      "  self.shell.db['dhist'] = compress_dhist(dhist)[-100:]\n"
     ]
    },
    {
     "name": "stdout",
     "output_type": "stream",
     "text": [
      "c:\\Users\\001\\OneDrive\\Desktop\\GUC\\semester 10\\nlp\\NLP_PROJECT_111\\QA Task milestone\n"
     ]
    },
    {
     "name": "stderr",
     "output_type": "stream",
     "text": [
      "c:\\Users\\001\\anaconda3\\envs\\nlp_env\\Lib\\site-packages\\torchtext\\data\\__init__.py:4: UserWarning: \n",
      "/!\\ IMPORTANT WARNING ABOUT TORCHTEXT STATUS /!\\ \n",
      "Torchtext is deprecated and the last released version will be 0.18 (this one). You can silence this warning by calling the following at the beginnign of your scripts: `import torchtext; torchtext.disable_torchtext_deprecation_warning()`\n",
      "  warnings.warn(torchtext._TORCHTEXT_DEPRECATION_MSG)\n",
      "c:\\Users\\001\\anaconda3\\envs\\nlp_env\\Lib\\site-packages\\torchtext\\vocab\\__init__.py:4: UserWarning: \n",
      "/!\\ IMPORTANT WARNING ABOUT TORCHTEXT STATUS /!\\ \n",
      "Torchtext is deprecated and the last released version will be 0.18 (this one). You can silence this warning by calling the following at the beginnign of your scripts: `import torchtext; torchtext.disable_torchtext_deprecation_warning()`\n",
      "  warnings.warn(torchtext._TORCHTEXT_DEPRECATION_MSG)\n",
      "c:\\Users\\001\\anaconda3\\envs\\nlp_env\\Lib\\site-packages\\torchtext\\utils.py:4: UserWarning: \n",
      "/!\\ IMPORTANT WARNING ABOUT TORCHTEXT STATUS /!\\ \n",
      "Torchtext is deprecated and the last released version will be 0.18 (this one). You can silence this warning by calling the following at the beginnign of your scripts: `import torchtext; torchtext.disable_torchtext_deprecation_warning()`\n",
      "  warnings.warn(torchtext._TORCHTEXT_DEPRECATION_MSG)\n"
     ]
    }
   ],
   "source": [
    "%cd ..\n",
    "# imports \n",
    "import numpy as np \n",
    "import matplotlib.pyplot as plt\n",
    "import seaborn as sns\n",
    "import os\n",
    "from scripts_m2 import *\n",
    "import torch \n",
    "from torch import nn \n",
    "from torch import optim"
   ]
  },
  {
   "cell_type": "code",
   "execution_count": 2,
   "metadata": {},
   "outputs": [
    {
     "name": "stdout",
     "output_type": "stream",
     "text": [
      "Loading tokenizer from ./tokenizers/tokenizer.json...\n",
      "Filtered dataset size: 19922 out of original 20000\n",
      "Filtered dataset size: 1989 out of original 2000\n"
     ]
    }
   ],
   "source": [
    "# Getting the dataloaders and tokenizers\n",
    "train_dataloader, dev_dataloader, tokenizer = prepare_dataloaders_tokenizer()"
   ]
  },
  {
   "cell_type": "code",
   "execution_count": 3,
   "metadata": {},
   "outputs": [
    {
     "name": "stdout",
     "output_type": "stream",
     "text": [
      "Using device: cuda\n"
     ]
    }
   ],
   "source": [
    "# View the devices\n",
    "device = torch.device(\"cuda\" if torch.cuda.is_available() else \"cpu\")\n",
    "print(f\"Using device: {device}\")"
   ]
  },
  {
   "cell_type": "markdown",
   "metadata": {},
   "source": [
    "### Model Training"
   ]
  },
  {
   "cell_type": "code",
   "execution_count": 4,
   "metadata": {},
   "outputs": [
    {
     "name": "stderr",
     "output_type": "stream",
     "text": [
      "c:\\Users\\001\\anaconda3\\envs\\nlp_env\\Lib\\site-packages\\torch\\optim\\lr_scheduler.py:28: UserWarning: The verbose parameter is deprecated. Please use get_last_lr() to access the learning rate.\n",
      "  warnings.warn(\"The verbose parameter is deprecated. Please use get_last_lr() \"\n",
      "Epoch 1/20: 100%|██████████| 623/623 [00:33<00:00, 18.63it/s, loss=4.92]\n"
     ]
    },
    {
     "name": "stdout",
     "output_type": "stream",
     "text": [
      "Epoch 1 Loss: 6.5496\n"
     ]
    },
    {
     "name": "stderr",
     "output_type": "stream",
     "text": [
      "Evaluating: 100%|██████████| 623/623 [00:22<00:00, 27.68it/s]\n"
     ]
    },
    {
     "name": "stdout",
     "output_type": "stream",
     "text": [
      "Training Loss: 3.2191\n",
      "Training Metrics: {'start_accuracy': 0.5810159622527858, 'start_precision': 0.5842613654931372, 'start_recall': 0.5810159622527858, 'start_f1_score': 0.580136072434499, 'end_accuracy': 0.5825720309205903, 'end_precision': 0.5866722602936955, 'end_recall': 0.5825720309205903, 'end_f1_score': 0.5816061327637063, 'joint_exact_match': 0.5087842586085735, 'span_overlap_f1': 0.5479117487476831}\n"
     ]
    },
    {
     "name": "stderr",
     "output_type": "stream",
     "text": [
      "Evaluating: 100%|██████████| 63/63 [00:02<00:00, 22.87it/s]\n"
     ]
    },
    {
     "name": "stdout",
     "output_type": "stream",
     "text": [
      "Validation Loss: 5.0314\n",
      "Validation Metrics: {'start_accuracy': 0.40824534942182, 'start_precision': 0.43794980518464777, 'start_recall': 0.40824534942182, 'start_f1_score': 0.40714265742809735, 'end_accuracy': 0.39668174962292607, 'end_precision': 0.423685990068493, 'end_recall': 0.39668174962292607, 'end_f1_score': 0.3954720654752996, 'joint_exact_match': 0.3162393162393162, 'span_overlap_f1': 0.384593785778124}\n",
      "Validation loss improved to 5.0314. Saving model state.\n",
      "--------------------------------------------------\n"
     ]
    },
    {
     "name": "stderr",
     "output_type": "stream",
     "text": [
      "Epoch 2/20: 100%|██████████| 623/623 [00:54<00:00, 11.44it/s, loss=2.29]\n"
     ]
    },
    {
     "name": "stdout",
     "output_type": "stream",
     "text": [
      "Epoch 2 Loss: 3.0705\n"
     ]
    },
    {
     "name": "stderr",
     "output_type": "stream",
     "text": [
      "Evaluating: 100%|██████████| 623/623 [00:19<00:00, 32.09it/s]\n"
     ]
    },
    {
     "name": "stdout",
     "output_type": "stream",
     "text": [
      "Training Loss: 1.7925\n",
      "Training Metrics: {'start_accuracy': 0.7637285413111133, 'start_precision': 0.7678700240813439, 'start_recall': 0.7637285413111133, 'start_f1_score': 0.7640246003336488, 'end_accuracy': 0.7569521132416424, 'end_precision': 0.7605383686848619, 'end_recall': 0.7569521132416424, 'end_f1_score': 0.7568054300542415, 'joint_exact_match': 0.7165947194056822, 'span_overlap_f1': 0.747362535015455}\n"
     ]
    },
    {
     "name": "stderr",
     "output_type": "stream",
     "text": [
      "Evaluating: 100%|██████████| 63/63 [00:02<00:00, 27.92it/s]\n"
     ]
    },
    {
     "name": "stdout",
     "output_type": "stream",
     "text": [
      "Validation Loss: 4.3275\n",
      "Validation Metrics: {'start_accuracy': 0.4937154348919055, 'start_precision': 0.5204381089676564, 'start_recall': 0.4937154348919055, 'start_f1_score': 0.4924613215099359, 'end_accuracy': 0.48466566113624937, 'end_precision': 0.5175155102666531, 'end_recall': 0.48466566113624937, 'end_f1_score': 0.4863845796341234, 'joint_exact_match': 0.4167923579688286, 'span_overlap_f1': 0.48815507982769896}\n",
      "Validation loss improved to 4.3275. Saving model state.\n",
      "--------------------------------------------------\n"
     ]
    },
    {
     "name": "stderr",
     "output_type": "stream",
     "text": [
      "Epoch 3/20: 100%|██████████| 623/623 [00:35<00:00, 17.77it/s, loss=2.16] \n"
     ]
    },
    {
     "name": "stdout",
     "output_type": "stream",
     "text": [
      "Epoch 3 Loss: 2.1280\n"
     ]
    },
    {
     "name": "stderr",
     "output_type": "stream",
     "text": [
      "Evaluating: 100%|██████████| 623/623 [00:20<00:00, 30.12it/s]\n"
     ]
    },
    {
     "name": "stdout",
     "output_type": "stream",
     "text": [
      "Training Loss: 1.2613\n",
      "Training Metrics: {'start_accuracy': 0.8345045678144765, 'start_precision': 0.8367867319179747, 'start_recall': 0.8345045678144765, 'start_f1_score': 0.8345027168517684, 'end_accuracy': 0.83340026101797, 'end_precision': 0.8355319234503159, 'end_recall': 0.83340026101797, 'end_f1_score': 0.8330977895391858, 'joint_exact_match': 0.7981126392932436, 'span_overlap_f1': 0.8249751488419728}\n"
     ]
    },
    {
     "name": "stderr",
     "output_type": "stream",
     "text": [
      "Evaluating: 100%|██████████| 63/63 [00:01<00:00, 33.90it/s]\n"
     ]
    },
    {
     "name": "stdout",
     "output_type": "stream",
     "text": [
      "Validation Loss: 4.0775\n",
      "Validation Metrics: {'start_accuracy': 0.5198592257415787, 'start_precision': 0.5445967340009351, 'start_recall': 0.5198592257415787, 'start_f1_score': 0.51910248796085, 'end_accuracy': 0.510306686777275, 'end_precision': 0.5396846717107887, 'end_recall': 0.510306686777275, 'end_f1_score': 0.5107364729301725, 'joint_exact_match': 0.4514831573655103, 'span_overlap_f1': 0.5215231206090468}\n",
      "Validation loss improved to 4.0775. Saving model state.\n",
      "--------------------------------------------------\n"
     ]
    },
    {
     "name": "stderr",
     "output_type": "stream",
     "text": [
      "Epoch 4/20: 100%|██████████| 623/623 [00:32<00:00, 19.34it/s, loss=0.836]\n"
     ]
    },
    {
     "name": "stdout",
     "output_type": "stream",
     "text": [
      "Epoch 4 Loss: 1.6075\n"
     ]
    },
    {
     "name": "stderr",
     "output_type": "stream",
     "text": [
      "Evaluating: 100%|██████████| 623/623 [00:18<00:00, 33.61it/s]\n"
     ]
    },
    {
     "name": "stdout",
     "output_type": "stream",
     "text": [
      "Training Loss: 0.8141\n",
      "Training Metrics: {'start_accuracy': 0.8935849814275675, 'start_precision': 0.8951726167623961, 'start_recall': 0.8935849814275675, 'start_f1_score': 0.8936339489662783, 'end_accuracy': 0.891125389017167, 'end_precision': 0.8927355976025235, 'end_recall': 0.891125389017167, 'end_f1_score': 0.8910788006034722, 'joint_exact_match': 0.8647224174279691, 'span_overlap_f1': 0.8871839389003443}\n"
     ]
    },
    {
     "name": "stderr",
     "output_type": "stream",
     "text": [
      "Evaluating: 100%|██████████| 63/63 [00:01<00:00, 33.36it/s]\n"
     ]
    },
    {
     "name": "stdout",
     "output_type": "stream",
     "text": [
      "Validation Loss: 4.3085\n",
      "Validation Metrics: {'start_accuracy': 0.5268979386626446, 'start_precision': 0.555883265219561, 'start_recall': 0.5268979386626446, 'start_f1_score': 0.5269633249335035, 'end_accuracy': 0.5289089994972348, 'end_precision': 0.5572025600647773, 'end_recall': 0.5289089994972348, 'end_f1_score': 0.5300682633771822, 'joint_exact_match': 0.4580191050779286, 'span_overlap_f1': 0.5320449091885242}\n",
      "Validation loss did not improve. No improvement for 1 epochs.\n",
      "--------------------------------------------------\n"
     ]
    },
    {
     "name": "stderr",
     "output_type": "stream",
     "text": [
      "Epoch 5/20: 100%|██████████| 623/623 [00:32<00:00, 19.05it/s, loss=1]    \n"
     ]
    },
    {
     "name": "stdout",
     "output_type": "stream",
     "text": [
      "Epoch 5 Loss: 1.2350\n"
     ]
    },
    {
     "name": "stderr",
     "output_type": "stream",
     "text": [
      "Evaluating: 100%|██████████| 623/623 [00:18<00:00, 33.60it/s]\n"
     ]
    },
    {
     "name": "stdout",
     "output_type": "stream",
     "text": [
      "Training Loss: 0.5775\n",
      "Training Metrics: {'start_accuracy': 0.921293042867182, 'start_precision': 0.9224823864245026, 'start_recall': 0.921293042867182, 'start_f1_score': 0.9212885603883451, 'end_accuracy': 0.9147675936150989, 'end_precision': 0.9162233114818348, 'end_recall': 0.9147675936150989, 'end_f1_score': 0.9146743625933924, 'joint_exact_match': 0.893183415319747, 'span_overlap_f1': 0.9133889084103345}\n"
     ]
    },
    {
     "name": "stderr",
     "output_type": "stream",
     "text": [
      "Evaluating: 100%|██████████| 63/63 [00:01<00:00, 33.90it/s]\n"
     ]
    },
    {
     "name": "stdout",
     "output_type": "stream",
     "text": [
      "Validation Loss: 4.6933\n",
      "Validation Metrics: {'start_accuracy': 0.5289089994972348, 'start_precision': 0.5653370528749655, 'start_recall': 0.5289089994972348, 'start_f1_score': 0.5328928130871795, 'end_accuracy': 0.5319255907491202, 'end_precision': 0.5683972297363541, 'end_recall': 0.5319255907491202, 'end_f1_score': 0.537454147997392, 'joint_exact_match': 0.4635495223730518, 'span_overlap_f1': 0.5359442554146003}\n",
      "Validation loss did not improve. No improvement for 2 epochs.\n",
      "--------------------------------------------------\n"
     ]
    },
    {
     "name": "stderr",
     "output_type": "stream",
     "text": [
      "Epoch 6/20: 100%|██████████| 623/623 [00:33<00:00, 18.73it/s, loss=0.725]\n"
     ]
    },
    {
     "name": "stdout",
     "output_type": "stream",
     "text": [
      "Epoch 6 Loss: 0.9876\n"
     ]
    },
    {
     "name": "stderr",
     "output_type": "stream",
     "text": [
      "Evaluating: 100%|██████████| 623/623 [00:18<00:00, 33.68it/s]\n"
     ]
    },
    {
     "name": "stdout",
     "output_type": "stream",
     "text": [
      "Training Loss: 0.4097\n",
      "Training Metrics: {'start_accuracy': 0.9459893584981428, 'start_precision': 0.9466256187821847, 'start_recall': 0.9459893584981428, 'start_f1_score': 0.9459649720482723, 'end_accuracy': 0.9376066659973898, 'end_precision': 0.9388049633909888, 'end_recall': 0.9376066659973898, 'end_f1_score': 0.9374975770633875, 'joint_exact_match': 0.9219957835558679, 'span_overlap_f1': 0.9400899030655179}\n"
     ]
    },
    {
     "name": "stderr",
     "output_type": "stream",
     "text": [
      "Evaluating: 100%|██████████| 63/63 [00:01<00:00, 32.01it/s]\n"
     ]
    },
    {
     "name": "stdout",
     "output_type": "stream",
     "text": [
      "Validation Loss: 4.9075\n",
      "Validation Metrics: {'start_accuracy': 0.5354449472096531, 'start_precision': 0.5650047075641471, 'start_recall': 0.5354449472096531, 'start_f1_score': 0.5354829654841077, 'end_accuracy': 0.5354449472096531, 'end_precision': 0.5686131857815027, 'end_recall': 0.5354449472096531, 'end_f1_score': 0.5358098035314229, 'joint_exact_match': 0.4695827048768225, 'span_overlap_f1': 0.5444834608811923}\n",
      "Validation loss did not improve. No improvement for 3 epochs.\n",
      "--------------------------------------------------\n"
     ]
    },
    {
     "name": "stderr",
     "output_type": "stream",
     "text": [
      "Epoch 7/20: 100%|██████████| 623/623 [00:32<00:00, 19.06it/s, loss=1.84]  \n"
     ]
    },
    {
     "name": "stdout",
     "output_type": "stream",
     "text": [
      "Epoch 7 Loss: 0.5792\n"
     ]
    },
    {
     "name": "stderr",
     "output_type": "stream",
     "text": [
      "Evaluating: 100%|██████████| 623/623 [00:18<00:00, 33.63it/s]\n"
     ]
    },
    {
     "name": "stdout",
     "output_type": "stream",
     "text": [
      "Training Loss: 0.2729\n",
      "Training Metrics: {'start_accuracy': 0.9624535689187833, 'start_precision': 0.9628495042351094, 'start_recall': 0.9624535689187833, 'start_f1_score': 0.9624303623241899, 'end_accuracy': 0.9580363417327578, 'end_precision': 0.9587964160400492, 'end_recall': 0.9580363417327578, 'end_f1_score': 0.9579727150615711, 'joint_exact_match': 0.9441823110129505, 'span_overlap_f1': 0.9605840005058739}\n"
     ]
    },
    {
     "name": "stderr",
     "output_type": "stream",
     "text": [
      "Evaluating: 100%|██████████| 63/63 [00:01<00:00, 33.34it/s]\n"
     ]
    },
    {
     "name": "stdout",
     "output_type": "stream",
     "text": [
      "Validation Loss: 5.4253\n",
      "Validation Metrics: {'start_accuracy': 0.5329311211664153, 'start_precision': 0.5665591709082605, 'start_recall': 0.5329311211664153, 'start_f1_score': 0.5347656332550218, 'end_accuracy': 0.5399698340874811, 'end_precision': 0.5754085717724927, 'end_recall': 0.5399698340874811, 'end_f1_score': 0.541805450434287, 'joint_exact_match': 0.4725992961287079, 'span_overlap_f1': 0.5471697125389763}\n",
      "Validation loss did not improve. No improvement for 4 epochs.\n",
      "--------------------------------------------------\n"
     ]
    },
    {
     "name": "stderr",
     "output_type": "stream",
     "text": [
      "Epoch 8/20: 100%|██████████| 623/623 [00:32<00:00, 19.30it/s, loss=0.979] \n"
     ]
    },
    {
     "name": "stdout",
     "output_type": "stream",
     "text": [
      "Epoch 8 Loss: 0.4793\n"
     ]
    },
    {
     "name": "stderr",
     "output_type": "stream",
     "text": [
      "Evaluating: 100%|██████████| 623/623 [00:18<00:00, 34.06it/s]\n"
     ]
    },
    {
     "name": "stdout",
     "output_type": "stream",
     "text": [
      "Training Loss: 0.2273\n",
      "Training Metrics: {'start_accuracy': 0.9703844995482381, 'start_precision': 0.9706862970635155, 'start_recall': 0.9703844995482381, 'start_f1_score': 0.9703434593618413, 'end_accuracy': 0.965465314727437, 'end_precision': 0.9661237956311644, 'end_recall': 0.965465314727437, 'end_f1_score': 0.9653929112551399, 'joint_exact_match': 0.9535689187832547, 'span_overlap_f1': 0.9688520878862635}\n"
     ]
    },
    {
     "name": "stderr",
     "output_type": "stream",
     "text": [
      "Evaluating: 100%|██████████| 63/63 [00:01<00:00, 33.58it/s]"
     ]
    },
    {
     "name": "stdout",
     "output_type": "stream",
     "text": [
      "Validation Loss: 5.7241\n",
      "Validation Metrics: {'start_accuracy': 0.5329311211664153, 'start_precision': 0.5643196572087628, 'start_recall': 0.5329311211664153, 'start_f1_score': 0.5340414554911032, 'end_accuracy': 0.5414781297134238, 'end_precision': 0.5777763311846957, 'end_recall': 0.5414781297134238, 'end_f1_score': 0.5439521063566469, 'joint_exact_match': 0.47561588738059324, 'span_overlap_f1': 0.5499418490301565}\n",
      "Validation loss did not improve. No improvement for 5 epochs.\n",
      "Early stopping triggered.\n",
      "Loaded the best model state.\n"
     ]
    },
    {
     "name": "stderr",
     "output_type": "stream",
     "text": [
      "\n"
     ]
    }
   ],
   "source": [
    "vocab_size = 10000         # Size of the vocabulary\n",
    "embed_dim = 300            # Dimensionality of the embeddings\n",
    "hidden_size = 100          # Base hidden size; BiLSTM outputs will be 2*hidden_size\n",
    "dropout = 0.2\n",
    "device = torch.device('cuda' if torch.cuda.is_available() else 'cpu')\n",
    "\n",
    "# Instantiate the BiDAF model\n",
    "model = BiDAF(vocab_size, embed_dim, hidden_size, dropout=dropout)\n",
    "model = model.to(device)\n",
    "\n",
    "# Setup an optimizer (e.g., Adam)\n",
    "optimizer = optim.AdamW(model.parameters(), lr=0.001)\n",
    "\n",
    "criterion = nn.CrossEntropyLoss(ignore_index=1)\n",
    "\n",
    "\n",
    "train_loss, val_loss = train_qa_context_model_boilerplate(\n",
    "    model=model, \n",
    "    train_dataloader=train_dataloader, \n",
    "    val_dataloader=dev_dataloader, \n",
    "    optimizer=optimizer, \n",
    "    criterion=criterion, \n",
    "    num_epochs=20, \n",
    "    device=device, \n",
    "    inputs = [\"context\", \"question\"],\n",
    "    evaluate_val_dataset=True,\n",
    ")\n"
   ]
  },
  {
   "cell_type": "code",
   "execution_count": 5,
   "metadata": {},
   "outputs": [
    {
     "data": {
      "image/png": "[encoded data removed]",
      "text/plain": [
       "<Figure size 1000x600 with 1 Axes>"
      ]
     },
     "metadata": {},
     "output_type": "display_data"
    }
   ],
   "source": [
    "# Plotting the training and validation loss\n",
    "plot_loss_curves(train_loss, val_loss)"
   ]
  },
  {
   "cell_type": "markdown",
   "metadata": {},
   "source": [
    "### Saving the model"
   ]
  },
  {
   "cell_type": "code",
   "execution_count": 6,
   "metadata": {},
   "outputs": [],
   "source": [
    "model_path = \"models/qa_context_model_bidaf.pkl\""
   ]
  },
  {
   "cell_type": "code",
   "execution_count": 7,
   "metadata": {},
   "outputs": [
    {
     "name": "stdout",
     "output_type": "stream",
     "text": [
      "Model saved to models/qa_context_model_bidaf.pkl\n"
     ]
    }
   ],
   "source": [
    "save_model(model, model_path)"
   ]
  },
  {
   "cell_type": "code",
   "execution_count": 8,
   "metadata": {},
   "outputs": [
    {
     "name": "stdout",
     "output_type": "stream",
     "text": [
      "Model loaded from models/qa_context_model_bidaf.pkl\n"
     ]
    }
   ],
   "source": [
    "model = load_model(model_path=model_path)"
   ]
  },
  {
   "cell_type": "markdown",
   "metadata": {},
   "source": [
    "### Evaluation Metrics Models"
   ]
  },
  {
   "cell_type": "markdown",
   "metadata": {},
   "source": [
    "##### 1. Evaluation on Training set"
   ]
  },
  {
   "cell_type": "code",
   "execution_count": 9,
   "metadata": {},
   "outputs": [
    {
     "name": "stderr",
     "output_type": "stream",
     "text": [
      "Evaluating:   0%|          | 0/623 [00:00<?, ?it/s]c:\\Users\\001\\anaconda3\\envs\\nlp_env\\Lib\\site-packages\\torch\\nn\\modules\\rnn.py:911: UserWarning: RNN module weights are not part of single contiguous chunk of memory. This means they need to be compacted at every call, possibly greatly increasing memory usage. To compact weights again call flatten_parameters(). (Triggered internally at C:\\cb\\pytorch_1000000000000\\work\\aten\\src\\ATen\\native\\cudnn\\RNN.cpp:1424.)\n",
      "  result = _VF.lstm(input, hx, self._flat_weights, self.bias, self.num_layers,\n",
      "Evaluating: 100%|██████████| 623/623 [00:19<00:00, 31.73it/s]"
     ]
    },
    {
     "name": "stdout",
     "output_type": "stream",
     "text": [
      "Training Loss: 1.2688\n",
      "Training Metrics: {'start_accuracy': 0.8345045678144765, 'start_precision': 0.8367867319179747, 'start_recall': 0.8345045678144765, 'start_f1_score': 0.8345027168517684, 'end_accuracy': 0.83340026101797, 'end_precision': 0.8355319234503159, 'end_recall': 0.83340026101797, 'end_f1_score': 0.8330977895391858, 'joint_exact_match': 0.7981126392932436, 'span_overlap_f1': 0.824975148841973}\n"
     ]
    },
    {
     "name": "stderr",
     "output_type": "stream",
     "text": [
      "\n"
     ]
    },
    {
     "data": {
      "text/plain": [
       "(1.2687601241407196,\n",
       " {'start_accuracy': 0.8345045678144765,\n",
       "  'start_precision': 0.8367867319179747,\n",
       "  'start_recall': 0.8345045678144765,\n",
       "  'start_f1_score': 0.8345027168517684,\n",
       "  'end_accuracy': 0.83340026101797,\n",
       "  'end_precision': 0.8355319234503159,\n",
       "  'end_recall': 0.83340026101797,\n",
       "  'end_f1_score': 0.8330977895391858,\n",
       "  'joint_exact_match': 0.7981126392932436,\n",
       "  'span_overlap_f1': 0.824975148841973})"
      ]
     },
     "execution_count": 9,
     "metadata": {},
     "output_type": "execute_result"
    }
   ],
   "source": [
    "# evaluate the model on the dev set\n",
    "criterion = nn.CrossEntropyLoss()\n",
    "evaluate_qa_context_model_boilerplate(model=model, dataloader=train_dataloader, criterion=criterion, device='cuda', inputs = [\"context\", \"question\"], prefix_str=\"Training\")"
   ]
  },
  {
   "cell_type": "markdown",
   "metadata": {},
   "source": [
    "##### 2. Evaluation on Test Set"
   ]
  },
  {
   "cell_type": "code",
   "execution_count": 10,
   "metadata": {},
   "outputs": [
    {
     "name": "stderr",
     "output_type": "stream",
     "text": [
      "Evaluating:   0%|          | 0/63 [00:00<?, ?it/s]c:\\Users\\001\\anaconda3\\envs\\nlp_env\\Lib\\site-packages\\torch\\nn\\modules\\rnn.py:911: UserWarning: RNN module weights are not part of single contiguous chunk of memory. This means they need to be compacted at every call, possibly greatly increasing memory usage. To compact weights again call flatten_parameters(). (Triggered internally at C:\\cb\\pytorch_1000000000000\\work\\aten\\src\\ATen\\native\\cudnn\\RNN.cpp:1424.)\n",
      "  result = _VF.lstm(input, hx, self._flat_weights, self.bias, self.num_layers,\n",
      "Evaluating: 100%|██████████| 63/63 [00:02<00:00, 30.03it/s]"
     ]
    },
    {
     "name": "stdout",
     "output_type": "stream",
     "text": [
      "Validation Loss: 4.0746\n",
      "Validation Metrics: {'start_accuracy': 0.5198592257415787, 'start_precision': 0.5445967340009351, 'start_recall': 0.5198592257415787, 'start_f1_score': 0.51910248796085, 'end_accuracy': 0.510306686777275, 'end_precision': 0.5396846717107887, 'end_recall': 0.510306686777275, 'end_f1_score': 0.5107364729301725, 'joint_exact_match': 0.4514831573655103, 'span_overlap_f1': 0.5215231206090468}\n"
     ]
    },
    {
     "name": "stderr",
     "output_type": "stream",
     "text": [
      "\n"
     ]
    },
    {
     "data": {
      "text/plain": [
       "(4.074582489710005,\n",
       " {'start_accuracy': 0.5198592257415787,\n",
       "  'start_precision': 0.5445967340009351,\n",
       "  'start_recall': 0.5198592257415787,\n",
       "  'start_f1_score': 0.51910248796085,\n",
       "  'end_accuracy': 0.510306686777275,\n",
       "  'end_precision': 0.5396846717107887,\n",
       "  'end_recall': 0.510306686777275,\n",
       "  'end_f1_score': 0.5107364729301725,\n",
       "  'joint_exact_match': 0.4514831573655103,\n",
       "  'span_overlap_f1': 0.5215231206090468})"
      ]
     },
     "execution_count": 10,
     "metadata": {},
     "output_type": "execute_result"
    }
   ],
   "source": [
    "# evaluate the model on the dev set\n",
    "criterion = nn.CrossEntropyLoss()\n",
    "evaluate_qa_context_model_boilerplate(model=model, dataloader=dev_dataloader, criterion=criterion, device='cuda', inputs = [\"context\", \"question\"])"
   ]
  },
  {
   "cell_type": "markdown",
   "metadata": {},
   "source": [
    "### Predictions"
   ]
  },
  {
   "cell_type": "markdown",
   "metadata": {},
   "source": [
    "##### 1. Predection on Dev Set"
   ]
  },
  {
   "cell_type": "code",
   "execution_count": 11,
   "metadata": {},
   "outputs": [
    {
     "name": "stderr",
     "output_type": "stream",
     "text": [
      "Predicting:   0%|          | 0/63 [00:00<?, ?it/s]\n"
     ]
    },
    {
     "ename": "TypeError",
     "evalue": "BiDAF.forward() got an unexpected keyword argument 'attention_mask_question'",
     "output_type": "error",
     "traceback": [
      "\u001b[1;31m---------------------------------------------------------------------------\u001b[0m",
      "\u001b[1;31mTypeError\u001b[0m                                 Traceback (most recent call last)",
      "Cell \u001b[1;32mIn[11], line 1\u001b[0m\n\u001b[1;32m----> 1\u001b[0m preds, true_labels, contexts, questions \u001b[38;5;241m=\u001b[39m predict_qa_context_model_boilerplate(model\u001b[38;5;241m=\u001b[39mmodel, dataloader\u001b[38;5;241m=\u001b[39mdev_dataloader, tokenizer\u001b[38;5;241m=\u001b[39mtokenizer, device\u001b[38;5;241m=\u001b[39m\u001b[38;5;124m'\u001b[39m\u001b[38;5;124mcuda\u001b[39m\u001b[38;5;124m'\u001b[39m, inputs \u001b[38;5;241m=\u001b[39m [\u001b[38;5;124m\"\u001b[39m\u001b[38;5;124mcontext\u001b[39m\u001b[38;5;124m\"\u001b[39m, \u001b[38;5;124m\"\u001b[39m\u001b[38;5;124mquestion\u001b[39m\u001b[38;5;124m\"\u001b[39m, \u001b[38;5;124m\"\u001b[39m\u001b[38;5;124mattention_mask_question\u001b[39m\u001b[38;5;124m\"\u001b[39m])\n",
      "File \u001b[1;32mc:\\Users\\001\\OneDrive\\Desktop\\GUC\\semester 10\\nlp\\NLP_PROJECT_111\\QA Task milestone\\scripts_m2\\train.py:206\u001b[0m, in \u001b[0;36mpredict_qa_context_model_boilerplate\u001b[1;34m(model, dataloader, tokenizer, inputs, device)\u001b[0m\n\u001b[0;32m    203\u001b[0m question \u001b[38;5;241m=\u001b[39m batch[\u001b[38;5;124m'\u001b[39m\u001b[38;5;124mquestion\u001b[39m\u001b[38;5;124m'\u001b[39m]\u001b[38;5;241m.\u001b[39mto(device)\n\u001b[0;32m    204\u001b[0m answer \u001b[38;5;241m=\u001b[39m batch[\u001b[38;5;124m'\u001b[39m\u001b[38;5;124manswer\u001b[39m\u001b[38;5;124m'\u001b[39m]\u001b[38;5;241m.\u001b[39mto(device)\n\u001b[1;32m--> 206\u001b[0m start_logits, end_logits \u001b[38;5;241m=\u001b[39m model(\u001b[38;5;241m*\u001b[39m\u001b[38;5;241m*\u001b[39minputs_tensors)\n\u001b[0;32m    208\u001b[0m y_pred_start \u001b[38;5;241m=\u001b[39m start_logits\u001b[38;5;241m.\u001b[39margmax(dim\u001b[38;5;241m=\u001b[39m\u001b[38;5;241m-\u001b[39m\u001b[38;5;241m1\u001b[39m)\u001b[38;5;241m.\u001b[39mcpu()\u001b[38;5;241m.\u001b[39mnumpy()  \u001b[38;5;66;03m# Shape: (batch_size, seq_len)\u001b[39;00m\n\u001b[0;32m    209\u001b[0m y_pred_end \u001b[38;5;241m=\u001b[39m end_logits\u001b[38;5;241m.\u001b[39margmax(dim\u001b[38;5;241m=\u001b[39m\u001b[38;5;241m-\u001b[39m\u001b[38;5;241m1\u001b[39m)\u001b[38;5;241m.\u001b[39mcpu()\u001b[38;5;241m.\u001b[39mnumpy()        \u001b[38;5;66;03m# Shape: (batch_size, seq_len)\u001b[39;00m\n",
      "File \u001b[1;32mc:\\Users\\001\\anaconda3\\envs\\nlp_env\\Lib\\site-packages\\torch\\nn\\modules\\module.py:1532\u001b[0m, in \u001b[0;36mModule._wrapped_call_impl\u001b[1;34m(self, *args, **kwargs)\u001b[0m\n\u001b[0;32m   1530\u001b[0m     \u001b[38;5;28;01mreturn\u001b[39;00m \u001b[38;5;28mself\u001b[39m\u001b[38;5;241m.\u001b[39m_compiled_call_impl(\u001b[38;5;241m*\u001b[39margs, \u001b[38;5;241m*\u001b[39m\u001b[38;5;241m*\u001b[39mkwargs)  \u001b[38;5;66;03m# type: ignore[misc]\u001b[39;00m\n\u001b[0;32m   1531\u001b[0m \u001b[38;5;28;01melse\u001b[39;00m:\n\u001b[1;32m-> 1532\u001b[0m     \u001b[38;5;28;01mreturn\u001b[39;00m \u001b[38;5;28mself\u001b[39m\u001b[38;5;241m.\u001b[39m_call_impl(\u001b[38;5;241m*\u001b[39margs, \u001b[38;5;241m*\u001b[39m\u001b[38;5;241m*\u001b[39mkwargs)\n",
      "File \u001b[1;32mc:\\Users\\001\\anaconda3\\envs\\nlp_env\\Lib\\site-packages\\torch\\nn\\modules\\module.py:1541\u001b[0m, in \u001b[0;36mModule._call_impl\u001b[1;34m(self, *args, **kwargs)\u001b[0m\n\u001b[0;32m   1536\u001b[0m \u001b[38;5;66;03m# If we don't have any hooks, we want to skip the rest of the logic in\u001b[39;00m\n\u001b[0;32m   1537\u001b[0m \u001b[38;5;66;03m# this function, and just call forward.\u001b[39;00m\n\u001b[0;32m   1538\u001b[0m \u001b[38;5;28;01mif\u001b[39;00m \u001b[38;5;129;01mnot\u001b[39;00m (\u001b[38;5;28mself\u001b[39m\u001b[38;5;241m.\u001b[39m_backward_hooks \u001b[38;5;129;01mor\u001b[39;00m \u001b[38;5;28mself\u001b[39m\u001b[38;5;241m.\u001b[39m_backward_pre_hooks \u001b[38;5;129;01mor\u001b[39;00m \u001b[38;5;28mself\u001b[39m\u001b[38;5;241m.\u001b[39m_forward_hooks \u001b[38;5;129;01mor\u001b[39;00m \u001b[38;5;28mself\u001b[39m\u001b[38;5;241m.\u001b[39m_forward_pre_hooks\n\u001b[0;32m   1539\u001b[0m         \u001b[38;5;129;01mor\u001b[39;00m _global_backward_pre_hooks \u001b[38;5;129;01mor\u001b[39;00m _global_backward_hooks\n\u001b[0;32m   1540\u001b[0m         \u001b[38;5;129;01mor\u001b[39;00m _global_forward_hooks \u001b[38;5;129;01mor\u001b[39;00m _global_forward_pre_hooks):\n\u001b[1;32m-> 1541\u001b[0m     \u001b[38;5;28;01mreturn\u001b[39;00m forward_call(\u001b[38;5;241m*\u001b[39margs, \u001b[38;5;241m*\u001b[39m\u001b[38;5;241m*\u001b[39mkwargs)\n\u001b[0;32m   1543\u001b[0m \u001b[38;5;28;01mtry\u001b[39;00m:\n\u001b[0;32m   1544\u001b[0m     result \u001b[38;5;241m=\u001b[39m \u001b[38;5;28;01mNone\u001b[39;00m\n",
      "\u001b[1;31mTypeError\u001b[0m: BiDAF.forward() got an unexpected keyword argument 'attention_mask_question'"
     ]
    }
   ],
   "source": [
    "preds, true_labels, contexts, questions = predict_qa_context_model_boilerplate(model=model, dataloader=dev_dataloader, tokenizer=tokenizer, device='cuda', inputs = [\"context\", \"question\", \"attention_mask_question\"])"
   ]
  },
  {
   "cell_type": "code",
   "execution_count": null,
   "metadata": {},
   "outputs": [
    {
     "name": "stdout",
     "output_type": "stream",
     "text": [
      "Question: how many khitan tumens were there ?\n",
      "Context: many han chinese and khitan defected to the mongols to fight against the jin . two han chinese leaders , shi tianze , liu heima ( 劉, liu ni ), and the khitan xiao zhala ( ) defected and commanded the 3 tumens in the mongol army . liu heima and shi tianze served ogödei khan . liu heima and shi tianxiang led armies against western xia for the mongols . there were 4 han tumens and 3 khitan tumens , with each tumen consisting of 10 , 000 troops . the three khitan generals shimobeidier ( 石), tabuyir ( 不) and xiaozhacizhizizhongxi ( 之子重喜 ) commanded the three khitan tumens and the four han generals zhang rou , yan shi , shi tianze , and liu heima commanded the four han tumens under ogödei khan .\n",
      "Predicted Answer: two\n",
      "True Answer: 3\n",
      "--------------------------------------------------\n",
      "Question: what is the atomic number of the element oxygen ?\n",
      "Context: oxygen is a chemical element with symbol o and atomic number 8 . it is a member of the chalcogen group on the periodic table and is a highly reactive nonmetal and oxidizing agent that readily forms compounds ( notably oxides ) with most elements . by mass , oxygen is the third - most abundant element in the universe , after hydrogen and helium . at standard temperature and pressure , two atoms of the element bind to form dioxygen , a colorless and odorless diatomic gas with the formula o 2 . diatomic oxygen gas constitutes 20 . 8 % of the earth ' s atmosphere . however , monitoring of atmospheric oxygen levels show a global downward trend , because of fossil - fuel burning . oxygen is the most abundant element by mass in the earth ' s crust as part of oxide compounds such as silicon dioxide , making up almost half of the crust ' s mass .\n",
      "Predicted Answer: 8\n",
      "True Answer: 8\n",
      "--------------------------------------------------\n",
      "Question: the atomic number of the periodic table for oxygen ?\n",
      "Context: oxygen is a chemical element with symbol o and atomic number 8 . it is a member of the chalcogen group on the periodic table and is a highly reactive nonmetal and oxidizing agent that readily forms compounds ( notably oxides ) with most elements . by mass , oxygen is the third - most abundant element in the universe , after hydrogen and helium . at standard temperature and pressure , two atoms of the element bind to form dioxygen , a colorless and odorless diatomic gas with the formula o 2 . diatomic oxygen gas constitutes 20 . 8 % of the earth ' s atmosphere . however , monitoring of atmospheric oxygen levels show a global downward trend , because of fossil - fuel burning . oxygen is the most abundant element by mass in the earth ' s crust as part of oxide compounds such as silicon dioxide , making up almost half of the crust ' s mass .\n",
      "Predicted Answer: 8\n",
      "True Answer: 8\n",
      "--------------------------------------------------\n",
      "Question: how many campuses does the university of california have ?\n",
      "Context: the tech coast is a moniker that has gained use as a descriptor for the region ' s diversified technology and industrial base as well as its multitude of prestigious and world - renowned research universities and other public and private institutions . amongst these include 5 university of california campuses ( irvine , los angeles , riverside , santa barbara , and san diego ); 12 california state university campuses ( bakersfield , channel islands , dominguez hills , fullerton , los angeles , long beach , northridge , pomona , san bernardino , san diego , san marcos , and san luis obispo ); and private institutions such as the california institute of technology , chapman university , the claremont colleges ( claremont mckenna college , harvey mudd college , pitzer college , pomona college , and scripps college ), loma linda university , loyola marymount university , occidental college , pepperdine university , university of redlands , university of san diego , and the university of southern california .\n",
      "Predicted Answer: 12\n",
      "True Answer: 5\n",
      "--------------------------------------------------\n",
      "Question: how many cylinders does the energiprojekt ab engine have ?\n",
      "Context: although the reciprocating steam engine is no longer in widespread commercial use , various companies are exploring or exploiting the potential of the engine as an alternative to internal combustion engines . the company energiprojekt ab in sweden has made progress in using modern materials for harnessing the power of steam . the efficiency of energiprojekt ' s steam engine reaches some 27 - 30 % on high - pressure engines . it is a single - step , 5 - cylinder engine ( no compound ) with superheated steam and consumes approx . 4 kg ( 8 . 8 lb ) of steam per kwh .[ not in citation given ]\n",
      "Predicted Answer: 27 - 30 %\n",
      "True Answer: 5\n",
      "--------------------------------------------------\n",
      "Question: what number did early greeks not regard as a true number ?\n",
      "Context: most early greeks did not even consider 1 to be a number , so they could not consider it to be a prime . by the middle ages and renaissance many mathematicians included 1 as the first prime number . in the mid - 18th century christian goldbach listed 1 as the first prime in his famous correspondence with leonhard euler -- who did not agree . in the 19th century many mathematicians still considered the number 1 to be a prime . for example , derrick norman lehmer ' s list of primes up to 10 , 006 , 721 , reprinted as late as 1956 , started with 1 as its first prime . henri lebesgue is said to be the last professional mathematician to call 1 prime . by the early 20th century , mathematicians began to accept that 1 is not a prime number , but rather forms its own special category as a \" unit \".\n",
      "Predicted Answer: 1\n",
      "True Answer: 1\n",
      "--------------------------------------------------\n",
      "Question: any even number larger than what cannot be considered prime ?\n",
      "Context: hence , 6 is not prime . the image at the right illustrates that 12 is not prime : 12 = 3 · 4 . no even number greater than 2 is prime because by definition , any such number n has at least three distinct divisors , namely 1 , 2 , and n . this implies that n is not prime . accordingly , the term odd prime refers to any prime number greater than 2 . similarly , when written in the usual decimal system , all prime numbers larger than 5 end in 1 , 3 , 7 , or 9 , since even numbers are multiples of 2 and numbers ending in 0 or 5 are multiples of 5 .\n",
      "Predicted Answer: 2 . similarly , when written in the usual decimal system , all prime numbers larger than 5 end in 1 , 3 , 7 , or 9 , since even numbers are multiples of 2 and numbers ending in 0 or 5 are multiples of 5\n",
      "True Answer: 2\n",
      "--------------------------------------------------\n",
      "Question: what article of the grundgesetz grants the right to make private schools ?\n",
      "Context: the right to create private schools in germany is in article 7 , paragraph 4 of the grundgesetz and cannot be suspended even in a state of emergency . it is also not possible to abolish these rights . this unusual protection of private schools was implemented to protect these schools from a second gleichschaltung or similar event in the future . still , they are less common than in many other countries . overall , between 1992 and 2008 the percent of pupils in such schools in germany increased from 6 . 1 % to 7 . 8 % ( including rise from 0 . 5 % to 6 . 1 % in the former gdr ). percent of students in private high schools reached 11 . 1 %.\n",
      "Predicted Answer: 11 . 1 %.\n",
      "True Answer: 7\n",
      "--------------------------------------------------\n",
      "Question: besides 1 , 3 and 7 , what other number must all primes greater than 5 end with ?\n",
      "Context: hence , 6 is not prime . the image at the right illustrates that 12 is not prime : 12 = 3 · 4 . no even number greater than 2 is prime because by definition , any such number n has at least three distinct divisors , namely 1 , 2 , and n . this implies that n is not prime . accordingly , the term odd prime refers to any prime number greater than 2 . similarly , when written in the usual decimal system , all prime numbers larger than 5 end in 1 , 3 , 7 , or 9 , since even numbers are multiples of 2 and numbers ending in 0 or 5 are multiples of 5 .\n",
      "Predicted Answer: 2\n",
      "True Answer: 9\n",
      "--------------------------------------------------\n",
      "Question: what variable is associated with all problems solved within logarithmic space ?\n",
      "Context: similarly , it is not known if l ( the set of all problems that can be solved in logarithmic space ) is strictly contained in p or equal to p . again , there are many complexity classes between the two , such as nl and nc , and it is not known if they are distinct or equal classes .\n",
      "Predicted Answer: l\n",
      "True Answer: l\n",
      "--------------------------------------------------\n",
      "Question: what percentage of british children are educated at gsce level in fee - paying schools ?\n",
      "Context: private schools generally prefer to be called independent schools , because of their freedom to operate outside of government and local government control . some of these are also known as public schools . preparatory schools in the uk prepare pupils aged up to 13 years old to enter public schools . the name \" public school \" is based on the fact that the schools were open to pupils from anywhere , and not merely to those from a certain locality , and of any religion or occupation . according to the good schools guide approximately 9 per cent of children being educated in the uk are doing so at fee - paying schools at gsce level and 13 per cent at a - level .[ citation needed ] many independent schools are single - sex ( though this is becoming less common ). fees range from under £ 3 , 000 to £ 21 , 000 and above per year for day pupils , rising to £ 27 , 000 + per year for boarders . for details in scotland , see \" meeting the cost \".\n",
      "Predicted Answer: 9\n",
      "True Answer: 9\n",
      "--------------------------------------------------\n",
      "Question: what complexity class is characterized by a computational tasks and efficient algorithms ?\n",
      "Context: the complexity class p is often seen as a mathematical abstraction modeling those computational tasks that admit an efficient algorithm . this hypothesis is called the cobham – edmonds thesis . the complexity class np , on the other hand , contains many problems that people would like to solve efficiently , but for which no efficient algorithm is known , such as the boolean satisfiability problem , the hamiltonian path problem and the vertex cover problem . since deterministic turing machines are special non - deterministic turing machines , it is easily observed that each problem in p is also member of the class np .\n",
      "Predicted Answer: class np\n",
      "True Answer: p\n",
      "--------------------------------------------------\n",
      "Question: how many members in the seats of the scottish parliament are members of the scottish government ?\n",
      "Context: the debating chamber of the scottish parliament has seating arranged in a hemicycle , which reflects the desire to encourage consensus amongst elected members . there are 131 seats in the debating chamber . of the total 131 seats , 129 are occupied by the parliament ' s elected msps and 2 are seats for the scottish law officers – the lord advocate and the solicitor general for scotland , who are not elected members of the parliament but are members of the scottish government . as such the law officers may attend and speak in the plenary meetings of the parliament but , as they are not elected msps , cannot vote . members are able to sit anywhere in the debating chamber , but typically sit in their party groupings . the first minister , scottish cabinet ministers and law officers sit in the front row , in the middle section of the chamber . the largest party in the parliament sits in the middle of the semicircle , with opposing parties on either side . the presiding officer , parliamentary clerks and officials sit opposite members at the front of the debating chamber .\n",
      "Predicted Answer: 131\n",
      "True Answer: 2\n",
      "--------------------------------------------------\n",
      "Question: how many vector equations did heaviside and gibbs reformilate max\n",
      "Context: the origin of electric and magnetic fields would not be fully explained until 1864 when james clerk maxwell unified a number of earlier theories into a set of 20 scalar equations , which were later reformulated into 4 vector equations by oliver heaviside and josiah willard gibbs . these \" maxwell equations \" fully described the sources of the fields as being stationary and moving charges , and the interactions of the fields themselves . this led maxwell to discover that electric and magnetic fields could be \" self - generating \" through a wave that traveled at a speed that he calculated to be the speed of light . this insight united the nascent fields of electromagnetic theory with optics and led directly to a complete description of the electromagnetic spectrum .\n",
      "Predicted Answer: \n",
      "True Answer: 4\n",
      "--------------------------------------------------\n",
      "Question: the integer factorization problem essentially seeks to determine if the value of of an input is\n",
      "Context: the integer factorization problem is the computational problem of determining the prime factorization of a given integer . phrased as a decision problem , it is the problem of deciding whether the input has a factor less than k . no efficient integer factorization algorithm is known , and this fact forms the basis of several modern cryptographic systems , such as the rsa algorithm . the integer factorization problem is in np and in co - np ( and even in up and co - up ). if the problem is np - complete , the polynomial time hierarchy will collapse to its first level ( i . e ., np will equal co - np ). the best known algorithm for integer factorization is the general number field sieve , which takes time o ( e ( 64 / 9 ) 1 / 3 ( n . log 2 ) 1 / 3 ( log ( n . log 2 )) 2 / 3 ) to factor an n - bit integer . however , the best known quantum algorithm for this problem , shor ' s algorithm , does run in polynomial time . unfortunately , this fact doesn ' t say much about where the problem lies with respect to non - quantum complexity classes .\n",
      "Predicted Answer: integer\n",
      "True Answer: k\n",
      "--------------------------------------------------\n",
      "Question: how many museums are in warsaw ?\n",
      "Context: as interesting examples of expositions the most notable are : the world ' s first museum of posters boasting one of the largest collections of art posters in the world , museum of hunting and riding and the railway museum . from among warsaw ' s 60 museums , the most prestigious ones are national museum with a collection of works whose origin ranges in time from antiquity till the present epoch as well as one of the best collections of paintings in the country including some paintings from adolf hitler ' s private collection , and museum of the polish army whose set portrays the history of arms .\n",
      "Predicted Answer: 60\n",
      "True Answer: 60\n",
      "--------------------------------------------------\n",
      "Question: what light radiation does ozone absorb ?\n",
      "Context: trioxygen ( o 3 ) is usually known as ozone and is a very reactive allotrope of oxygen that is damaging to lung tissue . ozone is produced in the upper atmosphere when o 2 combines with atomic oxygen made by the splitting of o 2 by ultraviolet ( uv ) radiation . since ozone absorbs strongly in the uv region of the spectrum , the ozone layer of the upper atmosphere functions as a protective radiation shield for the planet . near the earth ' s surface , it is a pollutant formed as a by - product of automobile exhaust . the metastable molecule tetraoxygen ( o 4 ) was discovered in 2001 , and was assumed to exist in one of the six phases of solid oxygen . it was proven in 2006 that this phase , created by pressurizing o 2 to 20 gpa , is in fact a rhombohedral o 8 cluster . this cluster has the potential to be a much more powerful oxidizer than either o 2 or o 3 and may therefore be used in rocket fuel . a metallic phase was discovered in 1990 when solid oxygen is subjected to a pressure of above 96 gpa and it was shown in 1998 that at very low temperatures , this phase becomes superconducting .\n",
      "Predicted Answer: lung\n",
      "True Answer: uv\n",
      "--------------------------------------------------\n",
      "Question: what is the number of constituency msps ?\n",
      "Context: of the 129 msps , 73 are elected to represent first past the post constituencies and are known as \" constituency msps \". voters choose one member to represent the constituency , and the member with most votes is returned as a constituency msp . the 73 scottish parliament constituencies shared the same boundaries as the uk parliament constituencies in scotland , prior to the 2005 reduction in the number of scottish mps , with the exception of orkney and shetland which each return their own constituency msp . currently , the average scottish parliament constituency comprises 55 , 000 electors . given the geographical distribution of population in scotland , this results in constituencies of a smaller area in the central lowlands , where the bulk of scotland ' s population live , and much larger constituency areas in the north and west of the country , which have a low population density . the island archipelagos of orkney , shetland and the western isles comprise a much smaller number of electors , due to their dispersed population and distance from the scottish parliament in edinburgh . if a constituency msp resigns from parliament , this triggers a by - election in his or her constituency , where a replacement msp is returned from one of the parties by the plurality system .\n",
      "Predicted Answer: 55 , 000\n",
      "True Answer: 73\n",
      "--------------------------------------------------\n",
      "Question: how many natural reserves are in warsaw ?\n",
      "Context: there are 13 natural reserves in warsaw – among others , bielany forest , kabaty woods , czerniaków lake . about 15 kilometres ( 9 miles ) from warsaw , the vistula river ' s environment changes strikingly and features a perfectly preserved ecosystem , with a habitat of animals that includes the otter , beaver and hundreds of bird species . there are also several lakes in warsaw – mainly the oxbow lakes , like czerniaków lake , the lakes in the łazienki or wilanów parks , kamionek lake . there are lot of small lakes in the parks , but only a few are permanent – the majority are emptied before winter to clean them of plants and sediments .\n",
      "Predicted Answer: 13\n",
      "True Answer: 13\n",
      "--------------------------------------------------\n",
      "Question: how many total judges are there in the eu ?\n",
      "Context: the judicial branch of the eu has played an important role in the development of eu law , by assuming the task of interpreting the treaties , and accelerating economic and political integration . today the court of justice of the european union ( cjeu ) is the main judicial body , within which there is a higher european court of justice ( commonly abbreviated as ecj ) that deals with cases that contain more public importance , and a general court that deals with issues of detail but without general importance . there is also a civil service tribunal to deal with eu staff issues , and then a separate court of auditors . under the treaty on european union article 19 ( 2 ) there is one judge from each member state , 28 at present , who are supposed to \" possess the qualifications required for appointment to the highest judicial offices \" ( or for the general court , the \" ability required for appointment to high judicial office \"). a president is elected by the judges for three years . under teu article 19 ( 3 ) is to be the ultimate court to interpret questions of eu law . in fact , most eu law is applied by member state courts ( the english court of appeal , the german bundesgerichtshof , the belgian cour du travail , etc .) but they can refer questions to the eu court for a preliminary ruling . the cjeu ' s duty is to \" ensure that in the interpretation and application of the treaties the law is observed \", although realistically it\n",
      "Predicted Answer: one\n",
      "True Answer: 28\n",
      "--------------------------------------------------\n",
      "Question: how many examination boards exist in india ?\n",
      "Context: in india , private schools are called independent schools , but since some private schools receive financial aid from the government , it can be an aided or an unaided school . so , in a strict sense , a private school is an unaided independent school . for the purpose of this definition , only receipt of financial aid is considered , not land purchased from the government at a subsidized rate . it is within the power of both the union government and the state governments to govern schools since education appears in the concurrent list of legislative subjects in the constitution . the practice has been for the union government to provide the broad policy directions while the states create their own rules and regulations for the administration of the sector . among other things , this has also resulted in 30 different examination boards or academic authorities that conduct examinations for school leaving certificates . prominent examination boards that are present in multiple states are the cbse and the cisce , nenbse\n",
      "Predicted Answer: 30\n",
      "True Answer: 30\n",
      "--------------------------------------------------\n",
      "Question: what is the scientific designation of oxygen ?\n",
      "Context: the common allotrope of elemental oxygen on earth is called dioxygen , o 2 . it is the form that is a major part of the earth ' s atmosphere ( see occurrence ). o2 has a bond length of 121 pm and a bond energy of 498 kj · mol − 1 , which is smaller than the energy of other double bonds or pairs of single bonds in the biosphere and responsible for the exothermic reaction of o2 with any organic molecule . due to its energy content , o2 is used by complex forms of life , such as animals , in cellular respiration ( see biological role ). other aspects of o 2 are covered in the remainder of this article .\n",
      "Predicted Answer: \n",
      "True Answer: o2\n",
      "--------------------------------------------------\n",
      "Question: what was dalton ' s erroneous formula for water ?\n",
      "Context: john dalton ' s original atomic hypothesis assumed that all elements were monatomic and that the atoms in compounds would normally have the simplest atomic ratios with respect to one another . for example , dalton assumed that water ' s formula was ho , giving the atomic mass of oxygen as 8 times that of hydrogen , instead of the modern value of about 16 . in 1805 , joseph louis gay - lussac and alexander von humboldt showed that water is formed of two volumes of hydrogen and one volume of oxygen ; and by 1811 amedeo avogadro had arrived at the correct interpretation of water ' s composition , based on what is now called avogadro ' s law and the assumption of diatomic elemental molecules .[ a ]\n",
      "Predicted Answer: ho\n",
      "True Answer: ho\n",
      "--------------------------------------------------\n",
      "Question: which country is a traditional ally of israel ?\n",
      "Context: the embargo was not uniform across europe . of the nine members of the european economic community ( eec ), the netherlands faced a complete embargo , the uk and france received almost uninterrupted supplies ( having refused to allow america to use their airfields and embargoed arms and supplies to both the arabs and the israelis ), while the other six faced partial cutbacks . the uk had traditionally been an ally of israel , and harold wilson ' s government supported the israelis during the six - day war . his successor , ted heath , reversed this policy in 1970 , calling for israel to withdraw to its pre - 1967 borders .\n",
      "Predicted Answer: france\n",
      "True Answer: uk\n",
      "--------------------------------------------------\n",
      "Question: which country is not badly hit by the embargo ?\n",
      "Context: despite being relatively unaffected by the embargo , the uk nonetheless faced an oil crisis of its own - a series of strikes by coal miners and railroad workers over the winter of 1973 – 74 became a major factor in the change of government . heath asked the british to heat only one room in their houses over the winter . the uk , germany , italy , switzerland and norway banned flying , driving and boating on sundays . sweden rationed gasoline and heating oil . the netherlands imposed prison sentences for those who used more than their ration of electricity .\n",
      "Predicted Answer: sweden\n",
      "True Answer: uk\n",
      "--------------------------------------------------\n",
      "Question: how many members are on the warsaw city counil ?\n",
      "Context: legislative power in warsaw is vested in a unicameral warsaw city council ( rada miasta ), which comprises 60 members . council members are elected directly every four years . like most legislative bodies , the city council divides itself into committees which have the oversight of various functions of the city government . bills passed by a simple majority are sent to the mayor ( the president of warsaw ), who may sign them into law . if the mayor vetoes a bill , the council has 30 days to override the veto by a two - thirds majority vote .\n",
      "Predicted Answer: 60\n",
      "True Answer: 60\n",
      "--------------------------------------------------\n",
      "Question: how many seats does victoria have in the senate ?\n",
      "Context: politically , victoria has 37 seats in the australian house of representatives and 12 seats in the australian senate . at state level , the parliament of victoria consists of the legislative assembly ( the lower house ) and the legislative council ( the upper house ). victoria is currently governed by the labor party , with daniel andrews the current premier . the personal representative of the queen of australia in the state is the governor of victoria , currently linda dessau . local government is concentrated in 79 municipal districts , including 33 cities , although a number of unincorporated areas still exist , which are administered directly by the state .\n",
      "Predicted Answer: 12\n",
      "True Answer: 12\n",
      "--------------------------------------------------\n",
      "Question: how old was toghun temur when he became emperor ?\n",
      "Context: after the death of tugh temür in 1332 and subsequent death of rinchinbal ( emperor ningzong ) the same year , the 13 - year - old toghun temür ( emperor huizong ), the last of the nine successors of kublai khan , was summoned back from guangxi and succeeded to the throne . after el temür ' s death , bayan became as powerful an official as el temür had been in the beginning of his long reign . as toghun temür grew , he came to disapprove of bayan ' s autocratic rule . in 1340 he allied himself with bayan ' s nephew toqto ' a , who was in discord with bayan , and banished bayan by coup . with the dismissal of bayan , toghtogha seized the power of the court . his first administration clearly exhibited fresh new spirit . he also gave a few early signs of a new and positive direction in central government . one of his successful projects was to finish the long - stalled official histories of the liao , jin , and song dynasties , which were eventually completed in 1345 . yet , toghtogha resigned his office with the approval of toghun temür , marking the end of his first administration , and he was not called back until 1349 .\n",
      "Predicted Answer: 13\n",
      "True Answer: 13\n",
      "--------------------------------------------------\n",
      "Question: what is the weight of a bushel of coal in pounds ?\n",
      "Context: the historical measure of a steam engine ' s energy efficiency was its \" duty \". the concept of duty was first introduced by watt in order to illustrate how much more efficient his engines were over the earlier newcomen designs . duty is the number of foot - pounds of work delivered by burning one bushel ( 94 pounds ) of coal . the best examples of newcomen designs had a duty of about 7 million , but most were closer to 5 million . watt ' s original low - pressure designs were able to deliver duty as high as 25 million , but averaged about 17 . this was a three - fold improvement over the average newcomen design . early watt engines equipped with high - pressure steam improved this to 65 million .\n",
      "Predicted Answer: duty\n",
      "True Answer: 94\n",
      "--------------------------------------------------\n",
      "Question: how many megaregions are there in the united states ?\n",
      "Context: the 8 - and 10 - county definitions are not used for the greater southern california megaregion , one of the 11 megaregions of the united states . the megaregion ' s area is more expansive , extending east into las vegas , nevada , and south across the mexican border into tijuana .\n",
      "Predicted Answer: 11\n",
      "True Answer: 11\n",
      "--------------------------------------------------\n",
      "Question: can bskyb veto the presence of channels on their epg ?\n",
      "Context: bskyb has no veto over the presence of channels on their epg , with open access being an enforced part of their operating licence from ofcom . any channel which can get carriage on a suitable beam of a satellite at 28 ° east is entitled to access to bskyb ' s epg for a fee , ranging from £ 15 – 100 , 000 . third - party channels which opt for encryption receive discounts ranging from reduced price to free epg entries , free carriage on a bskyb leased transponder , or actual payment for being carried . however , even in this case , bskyb does not carry any control over the channel ' s content or carriage issues such as picture quality .\n",
      "Predicted Answer: bskyb\n",
      "True Answer: no\n",
      "--------------------------------------------------\n",
      "Question: how many rooms does the warsaw historical museum have ?\n",
      "Context: a fine tribute to the fall of warsaw and history of poland can be found in the warsaw uprising museum and in the katyń museum which preserves the memory of the crime . the warsaw uprising museum also operates a rare preserved and operating historic stereoscopic theatre , the warsaw fotoplastikon . the museum of independence preserves patriotic and political objects connected with poland ' s struggles for independence . dating back to 1936 warsaw historical museum contains 60 rooms which host a permanent exhibition of the history of warsaw from its origins until today .\n",
      "Predicted Answer: 60\n",
      "True Answer: 60\n",
      "--------------------------------------------------\n",
      "Question: how much capital did uk law require to start a company ?\n",
      "Context: in regard to companies , the court of justice held in r ( daily mail and general trust plc ) v hm treasury that member states could restrict a company moving its seat of business , without infringing tfeu article 49 . this meant the daily mail newspaper ' s parent company could not evade tax by shifting its residence to the netherlands without first settling its tax bills in the uk . the uk did not need to justify its action , as rules on company seats were not yet harmonised . by contrast , in centros ltd v erhversus - og selkabssyrelsen the court of justice found that a uk limited company operating in denmark could not be required to comply with denmark ' s minimum share capital rules . uk law only required £ 1 of capital to start a company , while denmark ' s legislature took the view companies should only be started up if they had 200 , 000 danish krone ( around € 27 , 000 ) to protect creditors if the company failed and went insolvent . the court of justice held that denmark ' s minimum capital law infringed centros ltd ' s freedom of establishment and could not be justified , because a company in the uk could admittedly provide services in denmark without being established there , and there were less restrictive means of achieving the aim of creditor protection . this approach was criticised as potentially opening the eu to unjustified regulatory competition , and a race to the\n",
      "Predicted Answer: £ 1\n",
      "True Answer: £ 1\n",
      "--------------------------------------------------\n",
      "Question: how many avulsions have occurred in the past 6000 yeas ?\n",
      "Context: since ~ 3000 yr bp (= years before present ), human impact is seen in the delta . as a result of increasing land clearance ( bronze age agriculture ), in the upland areas ( central germany ), the sediment load of the rhine has strongly increased and delta growth has sped up . this caused increased flooding and sedimentation , ending peat formation in the delta . the shifting of river channels to new locations , on the floodplain ( termed avulsion ), was the main process distributing sediment across the subrecent delta . over the past 6000 years , approximately 80 avulsions have occurred . direct human impact in the delta started with peat mining , for salt and fuel , from roman times onward . this was followed by embankment , of the major distributaries and damming of minor distributaries , which took place in the 11 – 13th century ad . thereafter , canals were dug , bends were short cut and groynes were built , to prevent the river ' s channels from migrating or silting up .\n",
      "Predicted Answer: 80\n",
      "True Answer: 80\n",
      "--------------------------------------------------\n",
      "Question: what is the high end of the temperature range in winter ?\n",
      "Context: southern california contains a mediterranean climate , with infrequent rain and many sunny days . summers are hot and dry , while winters are a bit warm or mild and wet . serious rain can occur unusually . in the summers , temperature ranges are 90 - 60 ' s while as winters are 70 - 50 ' s , usually all of southern california have mediterranean climate . but snow is very rare in the southwest of the state , it occurs on the southeast of the state .\n",
      "Predicted Answer: 70 - 50\n",
      "True Answer: 70\n",
      "--------------------------------------------------\n",
      "Question: what was the average duty of a low - pressure watt engine ?\n",
      "Context: the historical measure of a steam engine ' s energy efficiency was its \" duty \". the concept of duty was first introduced by watt in order to illustrate how much more efficient his engines were over the earlier newcomen designs . duty is the number of foot - pounds of work delivered by burning one bushel ( 94 pounds ) of coal . the best examples of newcomen designs had a duty of about 7 million , but most were closer to 5 million . watt ' s original low - pressure designs were able to deliver duty as high as 25 million , but averaged about 17 . this was a three - fold improvement over the average newcomen design . early watt engines equipped with high - pressure steam improved this to 65 million .\n",
      "Predicted Answer: 17\n",
      "True Answer: 17\n",
      "--------------------------------------------------\n",
      "Question: how many city officials were indicted due to corruption ?\n",
      "Context: in the mid - 1960s , corruption scandals began to arise among many of the city ' s officials , who were mainly elected through the traditional old boy network . after a grand jury was convened to investigate , 11 officials were indicted and more were forced to resign . jacksonville consolidation , led by j . j . daniel and claude yates , began to win more support during this period , from both inner city blacks , who wanted more involvement in government , and whites in the suburbs , who wanted more services and more control over the central city . in 1964 all 15 of duval county ' s public high schools lost their accreditation . this added momentum to proposals for government reform . lower taxes , increased economic development , unification of the community , better public spending and effective administration by a more central authority were all cited as reasons for a new consolidated government .\n",
      "Predicted Answer: 11\n",
      "True Answer: 11\n",
      "--------------------------------------------------\n",
      "Question: how many medieval warm period reconstructions were used ?\n",
      "Context: the ipcc fourth assessment report ( ar4 ) published in 2007 featured a graph showing 12 proxy based temperature reconstructions , including the three highlighted in the 2001 third assessment report ( tar ); mann , bradley & hughes 1999 as before , jones et al . 1998 and briffa 2000 had both been calibrated by newer studies . in addition , analysis of the medieval warm period cited reconstructions by crowley & lowery 2000 ( as cited in the tar ) and osborn & briffa 2006 . ten of these 14 reconstructions covered 1 , 000 years or longer . most reconstructions shared some data series , particularly tree ring data , but newer reconstructions used additional data and covered a wider area , using a variety of statistical methods . the section discussed the divergence problem affecting certain tree ring data .\n",
      "Predicted Answer: 12\n",
      "True Answer: 14\n",
      "--------------------------------------------------\n",
      "Question: what type of electric current is needed for electrolysis ?\n",
      "Context: oxygen gas can also be produced through electrolysis of water into molecular oxygen and hydrogen . dc electricity must be used : if ac is used , the gases in each limb consist of hydrogen and oxygen in the explosive ratio 2 : 1 . contrary to popular belief , the 2 : 1 ratio observed in the dc electrolysis of acidified water does not prove that the empirical formula of water is h2o unless certain assumptions are made about the molecular formulae of hydrogen and oxygen themselves . a similar method is the electrocatalytic o 2 evolution from oxides and oxoacids . chemical catalysts can be used as well , such as in chemical oxygen generators or oxygen candles that are used as part of the life - support equipment on submarines , and are still part of standard equipment on commercial airliners in case of depressurization emergencies . another air separation technology involves forcing air to dissolve through ceramic membranes based on zirconium dioxide by either high pressure or an electric current , to produce nearly pure o 2 gas .\n",
      "Predicted Answer: h2o\n",
      "True Answer: dc\n",
      "--------------------------------------------------\n",
      "Question: what percentage of france ' s population is protestant today ?\n",
      "Context: approximately one million protestants in modern france represent some 2 % of its population . most are concentrated in alsace in northeast france and the cévennes mountain region in the south , who still regard themselves as huguenots to this day .[ citation needed ] a diaspora of french australians still considers itself huguenot , even after centuries of exile . long integrated into australian society , it is encouraged by the huguenot society of australia to embrace and conserve its cultural heritage , aided by the society ' s genealogical research services .\n",
      "Predicted Answer: 2 %\n",
      "True Answer: 2 %\n",
      "--------------------------------------------------\n",
      "Question: how many campuses does the california state university have ?\n",
      "Context: the tech coast is a moniker that has gained use as a descriptor for the region ' s diversified technology and industrial base as well as its multitude of prestigious and world - renowned research universities and other public and private institutions . amongst these include 5 university of california campuses ( irvine , los angeles , riverside , santa barbara , and san diego ); 12 california state university campuses ( bakersfield , channel islands , dominguez hills , fullerton , los angeles , long beach , northridge , pomona , san bernardino , san diego , san marcos , and san luis obispo ); and private institutions such as the california institute of technology , chapman university , the claremont colleges ( claremont mckenna college , harvey mudd college , pitzer college , pomona college , and scripps college ), loma linda university , loyola marymount university , occidental college , pepperdine university , university of redlands , university of san diego , and the university of southern california .\n",
      "Predicted Answer: 12\n",
      "True Answer: 12\n",
      "--------------------------------------------------\n",
      "Question: how many general principles does the social charter declare ?\n",
      "Context: the social chapter is a chapter of the 1997 treaty of amsterdam covering social policy issues in european union law . the basis for the social chapter was developed in 1989 by the \" social partners \" representatives , namely unice , the employers ' confederation , the european trade union confederation ( etuc ) and ceep , the european centre of public enterprises . a toned down version was adopted as the social charter at the 1989 strasbourg european council . the social charter declares 30 general principles , including on fair remuneration of employment , health and safety at work , rights of disabled and elderly , the rights of workers , on vocational training and improvements of living conditions . the social charter became the basis for european community legislation on these issues in 40 pieces of legislation .\n",
      "Predicted Answer: 40\n",
      "True Answer: 30\n",
      "--------------------------------------------------\n",
      "Question: how many academic majors does the university grant in total ?\n",
      "Context: the college of the university of chicago grants bachelor of arts and bachelor of science degrees in 50 academic majors and 28 minors . the college ' s academics are divided into five divisions : the biological sciences collegiate division , the physical sciences collegiate division , the social sciences collegiate division , the humanities collegiate division , and the new collegiate division . the first four are sections within their corresponding graduate divisions , while the new collegiate division administers interdisciplinary majors and studies which do not fit in one of the other four divisions .\n",
      "Predicted Answer: five\n",
      "True Answer: 50\n",
      "--------------------------------------------------\n",
      "Question: how many academic minors does the university grant in total ?\n",
      "Context: the college of the university of chicago grants bachelor of arts and bachelor of science degrees in 50 academic majors and 28 minors . the college ' s academics are divided into five divisions : the biological sciences collegiate division , the physical sciences collegiate division , the social sciences collegiate division , the humanities collegiate division , and the new collegiate division . the first four are sections within their corresponding graduate divisions , while the new collegiate division administers interdisciplinary majors and studies which do not fit in one of the other four divisions .\n",
      "Predicted Answer: five\n",
      "True Answer: 28\n",
      "--------------------------------------------------\n",
      "Question: how many people belong to the university ' s board of trustees ?\n",
      "Context: the university of chicago is governed by a board of trustees . the board of trustees oversees the long - term development and plans of the university and manages fundraising efforts , and is composed of 50 members including the university president . directly beneath the president are the provost , fourteen vice presidents ( including the chief financial officer , chief investment officer , and dean of students of the university ), the directors of argonne national laboratory and fermilab , the secretary of the university , and the student ombudsperson . as of august 2009 [ update ], the chairman of the board of trustees is andrew alper , and the president of the university is robert zimmer . in december 2013 it was announced that the director of argonne national laboratory , eric isaacs , would become provost . isaacs was replaced as provost in march 2016 by daniel diermeier .\n",
      "Predicted Answer: 50\n",
      "True Answer: 50\n",
      "--------------------------------------------------\n",
      "Question: does the new deal include video on demand and high definition ?\n",
      "Context: the agreements include fixed annual carriage fees of £ 30m for the channels with both channel suppliers able to secure additional capped payments if their channels meet certain performance - related targets . currently there is no indication as to whether the new deal includes the additional video on demand and high definition content which had previously been offered by bskyb . as part of the agreements , both bskyb and virgin media agreed to terminate all high court proceedings against each other relating to the carriage of their respective basic channels .\n",
      "Predicted Answer: £ 30m\n",
      "True Answer: no\n",
      "--------------------------------------------------\n",
      "Question: how many private schools existed in new zealand in april 2014 ?\n",
      "Context: as of april 2014 , there are 88 private schools in new zealand , catering for around 28 , 000 students or 3 . 7 % of the entire student population . private school numbers have been in decline since the mid - 1970s as a result of many private schools opting to become state - integrated schools , mostly due of financial difficulties stemming from changes in student numbers and / or the economy . state - integrated schools keep their private school special character and receives state funds in return for having to operate like a state school , e . g . they must teach the state curriculum , they must employ registered teachers , and they can ' t charge tuition fees ( they can charge \" attendance dues \" for the upkeep on the still - private school land and buildings ). the largest decline in private school numbers occurred between 1979 and 1984 , when the nation ' s then - private catholic school system integrated . as a result , private schools in new zealand are now largely restricted to the largest cities ( auckland , hamilton , wellington and christchurch ) and niche markets .\n",
      "Predicted Answer: 88\n",
      "True Answer: 88\n",
      "--------------------------------------------------\n",
      "Question: how many research institutes does the university run on campus ?\n",
      "Context: the university operates 12 research institutes and 113 research centers on campus . among these are the oriental institute — a museum and research center for near eastern studies owned and operated by the university — and a number of national resource centers , including the center for middle eastern studies . chicago also operates or is affiliated with a number of research institutions apart from the university proper . the university partially manages argonne national laboratory , part of the united states department of energy ' s national laboratory system , and has a joint stake in fermilab , a nearby particle physics laboratory , as well as a stake in the apache point observatory in sunspot , new mexico . faculty and students at the adjacent toyota technological institute at chicago collaborate with the university , in 2013 , the university announced that it was affiliating the formerly independent marine biological laboratory in woods hole , mass . although formally unrelated , the national opinion research center is located on chicago ' s campus .\n",
      "Predicted Answer: 113\n",
      "True Answer: 12\n",
      "--------------------------------------------------\n",
      "Question: how many drugs approved by the fda in 2013 were specialty drugs ?\n",
      "Context: specialty pharmacies supply high cost injectable , oral , infused , or inhaled medications that are used for chronic and complex disease states such as cancer , hepatitis , and rheumatoid arthritis . unlike a traditional community pharmacy where prescriptions for any common medication can be brought in and filled , specialty pharmacies carry novel medications that need to be properly stored , administered , carefully monitored , and clinically managed . in addition to supplying these drugs , specialty pharmacies also provide lab monitoring , adherence counseling , and assist patients with cost - containment strategies needed to obtain their expensive specialty drugs . it is currently the fastest growing sector of the pharmaceutical industry with 19 of 28 newly fda approved medications in 2013 being specialty drugs .\n",
      "Predicted Answer: 19\n",
      "True Answer: 19\n",
      "--------------------------------------------------\n",
      "Question: what percentage of private school students go to catholic schools ?\n",
      "Context: as of august 2010 , victoria had 1 , 548 public schools , 489 catholic schools and 214 independent schools . just under 540 , 800 students were enrolled in public schools , and just over 311 , 800 in private schools . over 61 per cent of private students attend catholic schools . more than 462 , 000 students were enrolled in primary schools and more than 390 , 000 in secondary schools . retention rates for the final two years of secondary school were 77 per cent for public school students and 90 per cent for private school students . victoria has about 63 , 519 full - time teachers .\n",
      "Predicted Answer: 61\n",
      "True Answer: 61\n",
      "--------------------------------------------------\n",
      "Question: how many scalar equations were formed into a set by james maxwell ?\n",
      "Context: the origin of electric and magnetic fields would not be fully explained until 1864 when james clerk maxwell unified a number of earlier theories into a set of 20 scalar equations , which were later reformulated into 4 vector equations by oliver heaviside and josiah willard gibbs . these \" maxwell equations \" fully described the sources of the fields as being stationary and moving charges , and the interactions of the fields themselves . this led maxwell to discover that electric and magnetic fields could be \" self - generating \" through a wave that traveled at a speed that he calculated to be the speed of light . this insight united the nascent fields of electromagnetic theory with optics and led directly to a complete description of the electromagnetic spectrum .\n",
      "Predicted Answer: 20\n",
      "True Answer: 20\n",
      "--------------------------------------------------\n",
      "Question: how many floors are there in the building that was completed in 1967 ?\n",
      "Context: the tallest building in downtown jacksonville ' s skyline is the bank of america tower , constructed in 1990 as the barnett center . it has a height of 617 ft ( 188 m ) and includes 42 floors . other notable structures include the 37 - story wells fargo center ( with its distinctive flared base making it the defining building in the jacksonville skyline ), originally built in 1972 - 74 by the independent life and accident insurance company , and the 28 floor riverplace tower which , when completed in 1967 , was the tallest precast , post - tensioned concrete structure in the world .\n",
      "Predicted Answer: 42\n",
      "True Answer: 28\n",
      "--------------------------------------------------\n",
      "Question: what percentage of electricity was made by steam turbine in the 1990s ?\n",
      "Context: the main use for steam turbines is in electricity generation ( in the 1990s about 90 % of the world ' s electric production was by use of steam turbines ) however the recent widespread application of large gas turbine units and typical combined cycle power plants has resulted in reduction of this percentage to the 80 % regime for steam turbines . in electricity production , the high speed of turbine rotation matches well with the speed of modern electric generators , which are typically direct connected to their driving turbines . in marine service , ( pioneered on the turbinia ), steam turbines with reduction gearing ( although the turbinia has direct turbines to propellers with no reduction gearbox ) dominated large ship propulsion throughout the late 20th century , being more efficient ( and requiring far less maintenance ) than reciprocating steam engines . in recent decades , reciprocating diesel engines , and gas turbines , have almost entirely supplanted steam propulsion for marine applications .\n",
      "Predicted Answer: 90 %\n",
      "True Answer: 90\n",
      "--------------------------------------------------\n",
      "Question: how many degrees south did the amazon rainforest reach from 66 - 34 mya ?\n",
      "Context: following the cretaceous – paleogene extinction event , the extinction of the dinosaurs and the wetter climate may have allowed the tropical rainforest to spread out across the continent . from 66 – 34 mya , the rainforest extended as far south as 45 °. climate fluctuations during the last 34 million years have allowed savanna regions to expand into the tropics . during the oligocene , for example , the rainforest spanned a relatively narrow band . it expanded again during the middle miocene , then retracted to a mostly inland formation at the last glacial maximum . however , the rainforest still managed to thrive during these glacial periods , allowing for the survival and evolution of a broad diversity of species .\n",
      "Predicted Answer: 45\n",
      "True Answer: 45\n",
      "--------------------------------------------------\n",
      "Question: how many provinces did the ottoman empire contain in the 17th century ?\n",
      "Context: the ottoman empire was an imperial state that lasted from 1299 to 1923 . during the 16th and 17th centuries , in particular at the height of its power under the reign of suleiman the magnificent , the ottoman empire was a powerful multinational , multilingual empire controlling much of southeast europe , western asia , the caucasus , north africa , and the horn of africa . at the beginning of the 17th century the empire contained 32 provinces and numerous vassal states . some of these were later absorbed into the empire , while others were granted various types of autonomy during the course of centuries .\n",
      "Predicted Answer: 32\n",
      "True Answer: 32\n",
      "--------------------------------------------------\n",
      "Question: how many intercollegiate sports does harvard compete in ncaa division i\n",
      "Context: the harvard crimson competes in 42 intercollegiate sports in the ncaa division i ivy league . harvard has an intense athletic rivalry with yale university culminating in the game , although the harvard – yale regatta predates the football game . this rivalry , though , is put aside every two years when the harvard and yale track and field teams come together to compete against a combined oxford university and cambridge university team , a competition that is the oldest continuous international amateur competition in the world .\n",
      "Predicted Answer: 42\n",
      "True Answer: 42\n",
      "--------------------------------------------------\n",
      "Question: at a - level , what percentage of british students attend fee - paying schools ?\n",
      "Context: private schools generally prefer to be called independent schools , because of their freedom to operate outside of government and local government control . some of these are also known as public schools . preparatory schools in the uk prepare pupils aged up to 13 years old to enter public schools . the name \" public school \" is based on the fact that the schools were open to pupils from anywhere , and not merely to those from a certain locality , and of any religion or occupation . according to the good schools guide approximately 9 per cent of children being educated in the uk are doing so at fee - paying schools at gsce level and 13 per cent at a - level .[ citation needed ] many independent schools are single - sex ( though this is becoming less common ). fees range from under £ 3 , 000 to £ 21 , 000 and above per year for day pupils , rising to £ 27 , 000 + per year for boarders . for details in scotland , see \" meeting the cost \".\n",
      "Predicted Answer: 9 per cent of children being educated in the uk are doing so at fee - paying schools at gsce level and 13 per cent at a - level .[ citation needed ] many independent schools are single - sex ( though this is becoming less common ). fees range from under £ 3 , 000 to £ 21 , 000 and above per year for day pupils , rising to £ 27 , 000 +\n",
      "True Answer: 13\n",
      "--------------------------------------------------\n",
      "Question: how many miles south of san jose is the north - south midway point located ?\n",
      "Context: \" southern california \" is not a formal geographic designation , and definitions of what constitutes southern california vary . geographically , california ' s north - south midway point lies at exactly 37 ° 9 ' 58 . 23 \" latitude , around 11 miles ( 18 km ) south of san jose ; however , this does not coincide with popular use of the term . when the state is divided into two areas ( northern and southern california ), the term \" southern california \" usually refers to the ten southern - most counties of the state . this definition coincides neatly with the county lines at 35 ° 47 ′ 28 ″ north latitude , which form the northern borders of san luis obispo , kern , and san bernardino counties . another definition for southern california uses point conception and the tehachapi mountains as the northern boundary .\n",
      "Predicted Answer: 11\n",
      "True Answer: 11\n",
      "--------------------------------------------------\n",
      "Question: how many pieces of legislation has the social charter become the basis for ?\n",
      "Context: the social chapter is a chapter of the 1997 treaty of amsterdam covering social policy issues in european union law . the basis for the social chapter was developed in 1989 by the \" social partners \" representatives , namely unice , the employers ' confederation , the european trade union confederation ( etuc ) and ceep , the european centre of public enterprises . a toned down version was adopted as the social charter at the 1989 strasbourg european council . the social charter declares 30 general principles , including on fair remuneration of employment , health and safety at work , rights of disabled and elderly , the rights of workers , on vocational training and improvements of living conditions . the social charter became the basis for european community legislation on these issues in 40 pieces of legislation .\n",
      "Predicted Answer: 40\n",
      "True Answer: 40\n",
      "--------------------------------------------------\n",
      "Question: which state route has been in discussion to upgrade to interstate standards ?\n",
      "Context: fresno is the largest u . s . city not directly linked to an interstate highway . when the interstate highway system was created in the 1950s , the decision was made to build what is now interstate 5 on the west side of the central valley , and thus bypass many of the population centers in the region , instead of upgrading what is now state route 99 . due to rapidly raising population and traffic in cities along sr 99 , as well as the desirability of federal funding , much discussion has been made to upgrade it to interstate standards and eventually incorporate it into the interstate system , most likely as interstate 9 . major improvements to signage , lane width , median separation , vertical clearance , and other concerns are currently underway .\n",
      "Predicted Answer: sno\n",
      "True Answer: 99\n",
      "--------------------------------------------------\n",
      "Question: up to what age do students in the united kingdom attend preparatory schools ?\n",
      "Context: private schools generally prefer to be called independent schools , because of their freedom to operate outside of government and local government control . some of these are also known as public schools . preparatory schools in the uk prepare pupils aged up to 13 years old to enter public schools . the name \" public school \" is based on the fact that the schools were open to pupils from anywhere , and not merely to those from a certain locality , and of any religion or occupation . according to the good schools guide approximately 9 per cent of children being educated in the uk are doing so at fee - paying schools at gsce level and 13 per cent at a - level .[ citation needed ] many independent schools are single - sex ( though this is becoming less common ). fees range from under £ 3 , 000 to £ 21 , 000 and above per year for day pupils , rising to £ 27 , 000 + per year for boarders . for details in scotland , see \" meeting the cost \".\n",
      "Predicted Answer: 13\n",
      "True Answer: 13\n",
      "--------------------------------------------------\n",
      "Question: how many seats does victoria have in the australian house of representatives ?\n",
      "Context: politically , victoria has 37 seats in the australian house of representatives and 12 seats in the australian senate . at state level , the parliament of victoria consists of the legislative assembly ( the lower house ) and the legislative council ( the upper house ). victoria is currently governed by the labor party , with daniel andrews the current premier . the personal representative of the queen of australia in the state is the governor of victoria , currently linda dessau . local government is concentrated in 79 municipal districts , including 33 cities , although a number of unincorporated areas still exist , which are administered directly by the state .\n",
      "Predicted Answer: 12\n",
      "True Answer: 37\n",
      "--------------------------------------------------\n",
      "Question: what was the percentage of people that voted in favor of the pico act of 1859 ?\n",
      "Context: subsequently , californios ( dissatisfied with inequitable taxes and land laws ) and pro - slavery southerners in the lightly populated \" cow counties \" of southern california attempted three times in the 1850s to achieve a separate statehood or territorial status separate from northern california . the last attempt , the pico act of 1859 , was passed by the california state legislature and signed by the state governor john b . weller . it was approved overwhelmingly by nearly 75 % of voters in the proposed territory of colorado . this territory was to include all the counties up to the then much larger tulare county ( that included what is now kings , most of kern , and part of inyo counties ) and san luis obispo county . the proposal was sent to washington , d . c . with a strong advocate in senator milton latham . however , the secession crisis following the election of abraham lincoln in 1860 led to the proposal never coming to a vote .\n",
      "Predicted Answer: 75 %\n",
      "True Answer: 75\n",
      "--------------------------------------------------\n",
      "Question: what percentage of filipino tertiary education takes place in private schools ?\n",
      "Context: in the philippines , the private sector has been a major provider of educational services , accounting for about 7 . 5 % of primary enrollment , 32 % of secondary enrollment and about 80 % of tertiary enrollment . private schools have proven to be efficient in resource utilization . per unit costs in private schools are generally lower when compared to public schools . this situation is more evident at the tertiary level . government regulations have given private education more flexibility and autonomy in recent years , notably by lifting the moratorium on applications for new courses , new schools and conversions , by liberalizing tuition fee policy for private schools , by replacing values education for third and fourth years with english , mathematics and natural science at the option of the school , and by issuing the revised manual of regulations for private schools in august 1992 .\n",
      "Predicted Answer: 32 %\n",
      "True Answer: 80\n",
      "--------------------------------------------------\n",
      "Question: as of 2008 , about what percentage of swedish students attended private schools ?\n",
      "Context: in sweden , pupils are free to choose a private school and the private school gets paid the same amount as municipal schools . over 10 % of swedish pupils were enrolled in private schools in 2008 . sweden is internationally known for this innovative school voucher model that provides swedish pupils with the opportunity to choose the school they prefer . for instance , the biggest school chain , kunskapsskolan (“ the knowledge school ”), offers 30 schools and a web - based environment , has 700 employees and teaches nearly 10 , 000 pupils . the swedish system has been recommended to barack obama .\n",
      "Predicted Answer: 10 %\n",
      "True Answer: 10\n",
      "--------------------------------------------------\n",
      "Question: what is the expression used to represent a complexity class of counting problems ?\n",
      "Context: other important complexity classes include bpp , zpp and rp , which are defined using probabilistic turing machines ; ac and nc , which are defined using boolean circuits ; and bqp and qma , which are defined using quantum turing machines .  #p is an important complexity class of counting problems ( not decision problems ). classes like ip and am are defined using interactive proof systems . all is the class of all decision problems .\n",
      "Predicted Answer:  #p\n",
      "True Answer:  #p\n",
      "--------------------------------------------------\n",
      "Question: at what degree are the pistons of a two - cylinder compound connected to the c\n",
      "Context: with two - cylinder compounds used in railway work , the pistons are connected to the cranks as with a two - cylinder simple at 90 ° out of phase with each other ( quartered ). when the double expansion group is duplicated , producing a 4 - cylinder compound , the individual pistons within the group are usually balanced at 180 °, the groups being set at 90 ° to each other . in one case ( the first type of vauclain compound ), the pistons worked in the same phase driving a common crosshead and crank , again set at 90 ° as for a two - cylinder engine . with the 3 - cylinder compound arrangement , the lp cranks were either set at 90 ° with the hp one at 135 ° to the other two , or in some cases all three cranks were set at 120 °.[ citation needed ]\n",
      "Predicted Answer: 90 °\n",
      "True Answer: 90\n",
      "--------------------------------------------------\n",
      "Question: what percentage of electrical power in the united states is made by steam turbines ?\n",
      "Context: the final major evolution of the steam engine design was the use of steam turbines starting in the late part of the 19th century . steam turbines are generally more efficient than reciprocating piston type steam engines ( for outputs above several hundred horsepower ), have fewer moving parts , and provide rotary power directly instead of through a connecting rod system or similar means . steam turbines virtually replaced reciprocating engines in electricity generating stations early in the 20th century , where their efficiency , higher speed appropriate to generator service , and smooth rotation were advantages . today most electric power is provided by steam turbines . in the united states 90 % of the electric power is produced in this way using a variety of heat sources . steam turbines were extensively applied for propulsion of large ships throughout most of the 20th century .\n",
      "Predicted Answer: 90 %\n",
      "True Answer: 90\n",
      "--------------------------------------------------\n",
      "Question: how many developed countries did british researchers use to gather statistics from ?\n",
      "Context: british researchers richard g . wilkinson and kate pickett have found higher rates of health and social problems ( obesity , mental illness , homicides , teenage births , incarceration , child conflict , drug use ), and lower rates of social goods ( life expectancy by country , educational performance , trust among strangers , women ' s status , social mobility , even numbers of patents issued ) in countries and states with higher inequality . using statistics from 23 developed countries and the 50 states of the us , they found social / health problems lower in countries like japan and finland and states like utah and new hampshire with high levels of equality , than in countries ( us and uk ) and states ( mississippi and new york ) with large differences in household income .\n",
      "Predicted Answer: 23\n",
      "True Answer: 23\n",
      "--------------------------------------------------\n",
      "Question: during 2012 - 2013 , how many student were able to take the core classes at a single time ?\n",
      "Context: undergraduate students are required to take a distribution of courses to satisfy the university ' s core curriculum known as the common core . in 2012 - 2013 , the core classes at chicago were limited to 17 students , and are generally led by a full - time professor ( as opposed to a teaching assistant ). as of the 2013 – 2014 school year , 15 courses and demonstrated proficiency in a foreign language are required under the core . undergraduate courses at the university of chicago are known for their demanding standards , heavy workload and academic difficulty ; according to uni in the usa , \" among the academic cream of american universities – harvard , yale , princeton , mit , and the university of chicago – it is uchicago that can most convincingly claim to provide the most rigorous , intense learning experience .\"\n",
      "Predicted Answer: 17\n",
      "True Answer: 17\n",
      "--------------------------------------------------\n",
      "Question: in the philippines , what percentage of secondary school students attend private schools ?\n",
      "Context: in the philippines , the private sector has been a major provider of educational services , accounting for about 7 . 5 % of primary enrollment , 32 % of secondary enrollment and about 80 % of tertiary enrollment . private schools have proven to be efficient in resource utilization . per unit costs in private schools are generally lower when compared to public schools . this situation is more evident at the tertiary level . government regulations have given private education more flexibility and autonomy in recent years , notably by lifting the moratorium on applications for new courses , new schools and conversions , by liberalizing tuition fee policy for private schools , by replacing values education for third and fourth years with english , mathematics and natural science at the option of the school , and by issuing the revised manual of regulations for private schools in august 1992 .\n",
      "Predicted Answer: 32 %\n",
      "True Answer: 32\n",
      "--------------------------------------------------\n",
      "Question: as a result of a compromise , about how many chinese schools became national type schools ?\n",
      "Context: after malaysia ' s independence in 1957 , the government instructed all schools to surrender their properties and be assimilated into the national school system . this caused an uproar among the chinese and a compromise was achieved in that the schools would instead become \" national type \" schools . under such a system , the government is only in charge of the school curriculum and teaching personnel while the lands still belonged to the schools . while chinese primary schools were allowed to retain chinese as the medium of instruction , chinese secondary schools are required to change into english - medium schools . over 60 schools converted to become national type schools .\n",
      "Predicted Answer: 60\n",
      "True Answer: 60\n",
      "--------------------------------------------------\n",
      "Question: np complete problems contain the lowest likelihood of being located in what problem class ?\n",
      "Context: if a problem x is in c and hard for c , then x is said to be complete for c . this means that x is the hardest problem in c . ( since many problems could be equally hard , one might say that x is one of the hardest problems in c .) thus the class of np - complete problems contains the most difficult problems in np , in the sense that they are the ones most likely not to be in p . because the problem p = np is not solved , being able to reduce a known np - complete problem , π2 , to another problem , π1 , would indicate that there is no known polynomial - time solution for π1 . this is because a polynomial - time solution to π1 would yield a polynomial - time solution to π2 . similarly , because all np problems can be reduced to the set , finding an np - complete problem that can be solved in polynomial time would mean that p = np .\n",
      "Predicted Answer: np\n",
      "True Answer: np\n",
      "--------------------------------------------------\n",
      "Question: what complexity class is commonly characterized by unknown algorithms to enhance solvability\n",
      "Context: the complexity class p is often seen as a mathematical abstraction modeling those computational tasks that admit an efficient algorithm . this hypothesis is called the cobham – edmonds thesis . the complexity class np , on the other hand , contains many problems that people would like to solve efficiently , but for which no efficient algorithm is known , such as the boolean satisfiability problem , the hamiltonian path problem and the vertex cover problem . since deterministic turing machines are special non - deterministic turing machines , it is easily observed that each problem in p is also member of the class np .\n",
      "Predicted Answer: class np\n",
      "True Answer: np\n",
      "--------------------------------------------------\n",
      "Question: how many days does the parliament have to nominate a first minister after a general election ?\n",
      "Context: under the scotland act 1998 , ordinary general elections for the scottish parliament are held on the first thursday in may every four years ( 1999 , 2003 , 2007 and so on ). the date of the poll may be varied by up to one month either way by the monarch on the proposal of the presiding officer . if the parliament itself resolves that it should be dissolved ( with at least two - thirds of the members voting in favour ), or if the parliament fails to nominate one of its members to be first minister within 28 days of a general election or of the position becoming vacant , the presiding officer proposes a date for an extraordinary general election and the parliament is dissolved by the queen by royal proclamation . extraordinary general elections are in addition to ordinary general elections , unless held less than six months before the due date of an ordinary general election , in which case they supplant it . the following ordinary election reverts to the first thursday in may , a multiple of four years after 1999 ( i . e ., 5 may 2011 , 7 may 2015 , etc .).\n",
      "Predicted Answer: six\n",
      "True Answer: 28\n",
      "--------------------------------------------------\n",
      "Question: at what angle were the groups of pistons set in relation to one another in a 4 - cy\n",
      "Context: with two - cylinder compounds used in railway work , the pistons are connected to the cranks as with a two - cylinder simple at 90 ° out of phase with each other ( quartered ). when the double expansion group is duplicated , producing a 4 - cylinder compound , the individual pistons within the group are usually balanced at 180 °, the groups being set at 90 ° to each other . in one case ( the first type of vauclain compound ), the pistons worked in the same phase driving a common crosshead and crank , again set at 90 ° as for a two - cylinder engine . with the 3 - cylinder compound arrangement , the lp cranks were either set at 90 ° with the hp one at 135 ° to the other two , or in some cases all three cranks were set at 120 °.[ citation needed ]\n",
      "Predicted Answer: \n",
      "True Answer: 90\n",
      "--------------------------------------------------\n",
      "Question: if polynomial time can be utilized within an np - complete problem , what does the\n",
      "Context: if a problem x is in c and hard for c , then x is said to be complete for c . this means that x is the hardest problem in c . ( since many problems could be equally hard , one might say that x is one of the hardest problems in c .) thus the class of np - complete problems contains the most difficult problems in np , in the sense that they are the ones most likely not to be in p . because the problem p = np is not solved , being able to reduce a known np - complete problem , π2 , to another problem , π1 , would indicate that there is no known polynomial - time solution for π1 . this is because a polynomial - time solution to π1 would yield a polynomial - time solution to π2 . similarly , because all np problems can be reduced to the set , finding an np - complete problem that can be solved in polynomial time would mean that p = np .\n",
      "Predicted Answer: c\n",
      "True Answer: np\n",
      "--------------------------------------------------\n",
      "Question: what is the minimum percent of alcohol content a german law requires all spirits and liqueurs to\n",
      "Context: often rules apply to all goods neutrally , but may have a greater practical effect on imports than domestic products . for such \" indirect \" discriminatory ( or \" indistinctly applicable \") measures the court of justice has developed more justifications : either those in article 36 , or additional \" mandatory \" or \" overriding \" requirements such as consumer protection , improving labour standards , protecting the environment , press diversity , fairness in commerce , and more : the categories are not closed . in the most famous case rewe - zentral ag v bundesmonopol für branntwein , the court of justice found that a german law requiring all spirits and liqueurs ( not just imported ones ) to have a minimum alcohol content of 25 per cent was contrary to tfeu article 34 , because it had a greater negative effect on imports . german liqueurs were over 25 per cent alcohol , but cassis de dijon , which rewe - zentrale ag wished to import from france , only had 15 to 20 per cent alcohol . the court of justice rejected the german government ' s arguments that the measure proportionately protected public health under tfeu article 36 , because stronger beverages were available and adequate labelling would be enough for consumers to understand what they bought . this rule primarily applies to requirements about a product ' s content or packaging . in walter rau lebensmit\n",
      "Predicted Answer: 25\n",
      "True Answer: 25\n",
      "--------------------------------------------------\n",
      "Question: what is the lowest ranking one of the counties could have in terms of most populous counties in the united states\n",
      "Context: its counties of los angeles , orange , san diego , san bernardino , and riverside are the five most populous in the state and all are in the top 15 most populous counties in the united states .\n",
      "Predicted Answer: five\n",
      "True Answer: 15\n",
      "--------------------------------------------------\n",
      "Question: how many combinatory and graph theoretical problems , formerly believed to be plagued by in\n",
      "Context: in 1967 , manuel blum developed an axiomatic complexity theory based on his axioms and proved an important result , the so - called , speed - up theorem . the field really began to flourish in 1971 when the us researcher stephen cook and , working independently , leonid levin in the ussr , proved that there exist practically relevant problems that are np - complete . in 1972 , richard karp took this idea a leap forward with his landmark paper , \" reducibility among combinatorial problems \", in which he showed that 21 diverse combinatorial and graph theoretical problems , each infamous for its computational intractability , are np - complete .\n",
      "Predicted Answer: 21\n",
      "True Answer: 21\n",
      "--------------------------------------------------\n",
      "Question: how many msps are there ?\n",
      "Context: after each election to the scottish parliament , at the beginning of each parliamentary session , parliament elects one msp to serve as presiding officer , the equivalent of the speaker ( currently tricia marwick ), and two msps to serve as deputies ( currently elaine smith and john scott ). the presiding officer and deputies are elected by a secret ballot of the 129 msps , which is the only secret ballot conducted in the scottish parliament . principally , the role of the presiding officer is to chair chamber proceedings and the scottish parliamentary corporate body . when chairing meetings of the parliament , the presiding officer and his / her deputies must be politically impartial . during debates , the presiding officer ( or the deputy ) is assisted by the parliamentary clerks , who give advice on how to interpret the standing orders that govern the proceedings of meetings . a vote clerk sits in front of the presiding officer and operates the electronic voting equipment and chamber clocks .\n",
      "Predicted Answer: one\n",
      "True Answer: 129\n",
      "--------------------------------------------------\n",
      "Question: who is videoguard owned by ?\n",
      "Context: bskyb utilises the videoguard pay - tv scrambling system owned by nds , a cisco systems company . there are tight controls over use of videoguard decoders ; they are not available as stand - alone dvb cams ( conditional - access modules ). bskyb has design authority over all digital satellite receivers capable of receiving their service . the receivers , though designed and built by different manufacturers , must conform to the same user interface look - and - feel as all the others . this extends to the personal video recorder ( pvr ) offering ( branded sky +).\n",
      "Predicted Answer: nds\n",
      "True Answer: nds\n",
      "--------------------------------------------------\n",
      "Question: what is the mineral wustite ?\n",
      "Context: due to its electronegativity , oxygen forms chemical bonds with almost all other elements to give corresponding oxides . the surface of most metals , such as aluminium and titanium , are oxidized in the presence of air and become coated with a thin film of oxide that passivates the metal and slows further corrosion . many oxides of the transition metals are non - stoichiometric compounds , with slightly less metal than the chemical formula would show . for example , the mineral feo ( wüstite ) is written as fe 1 − xo , where x is usually around 0 . 05 .\n",
      "Predicted Answer: 0 . 05\n",
      "True Answer: feo\n",
      "--------------------------------------------------\n",
      "Question: who commissioned the tapestry ?\n",
      "Context: by far the most famous work of norman art is the bayeux tapestry , which is not a tapestry but a work of embroidery . it was commissioned by odo , the bishop of bayeux and first earl of kent , employing natives from kent who were learned in the nordic traditions imported in the previous half century by the danish vikings .\n",
      "Predicted Answer: odo\n",
      "True Answer: odo\n",
      "--------------------------------------------------\n",
      "Question: the symbol for mercuric oxide is ?\n",
      "Context: in the meantime , on august 1 , 1774 , an experiment conducted by the british clergyman joseph priestley focused sunlight on mercuric oxide ( hgo ) inside a glass tube , which liberated a gas he named \" dephlogisticated air \". he noted that candles burned brighter in the gas and that a mouse was more active and lived longer while breathing it . after breathing the gas himself , he wrote : \" the feeling of it to my lungs was not sensibly different from that of common air , but i fancied that my breast felt peculiarly light and easy for some time afterwards .\" priestley published his findings in 1775 in a paper titled \" an account of further discoveries in air \" which was included in the second volume of his book titled experiments and observations on different kinds of air . because he published his findings first , priestley is usually given priority in the discovery .\n",
      "Predicted Answer: longer\n",
      "True Answer: hgo\n",
      "--------------------------------------------------\n",
      "Question: how many victorians are non - religious ?\n",
      "Context: about 61 . 1 % of victorians describe themselves as christian . roman catholics form the single largest religious group in the state with 26 . 7 % of the victorian population , followed by anglicans and members of the uniting church . buddhism is the state ' s largest non - christian religion , with 168 , 637 members as of the most recent census . victoria is also home of 152 , 775 muslims and 45 , 150 jews . hinduism is the fastest growing religion . around 20 % of victorians claim no religion . amongst those who declare a religious affiliation , church attendance is low .\n",
      "Predicted Answer: 168 , 637\n",
      "True Answer: 20 %\n",
      "--------------------------------------------------\n",
      "Question: how many horsepower was watt ' s engine ?\n",
      "Context: in 1781 james watt patented a steam engine that produced continuous rotary motion . watt ' s ten - horsepower engines enabled a wide range of manufacturing machinery to be powered . the engines could be sited anywhere that water and coal or wood fuel could be obtained . by 1883 , engines that could provide 10 , 000 hp had become feasible . the stationary steam engine was a key component of the industrial revolution , allowing factories to locate where water power was unavailable . the atmospheric engines of newcomen and watt were large compared to the amount of power they produced , but high pressure steam engines were light enough to be applied to vehicles such as traction engines and the railway locomotives .\n",
      "Predicted Answer: 1781\n",
      "True Answer: ten\n",
      "--------------------------------------------------\n",
      "Question: how many major ice ages have occurred ?\n",
      "Context: around 2 . 5 million years ago ( ending 11 , 600 years ago ) was the geological period of the ice ages . since approximately 600 , 000 years ago , six major ice ages have occurred , in which sea level dropped 120 m ( 390 ft ) and much of the continental margins became exposed . in the early pleistocene , the rhine followed a course to the northwest , through the present north sea . during the so - called anglian glaciation (~ 450 , 000 yr bp , marine oxygen isotope stage 12 ), the northern part of the present north sea was blocked by the ice and a large lake developed , that overflowed through the english channel . this caused the rhine ' s course to be diverted through the english channel . since then , during glacial times , the river mouth was located offshore of brest , france and rivers , like the thames and the seine , became tributaries to the rhine . during interglacials , when sea level rose to approximately the present level , the rhine built deltas , in what is now the netherlands .\n",
      "Predicted Answer: six\n",
      "True Answer: six\n",
      "--------------------------------------------------\n",
      "Question: when was the duchy of normandy founded ?\n",
      "Context: in the course of the 10th century , the initially destructive incursions of norse war bands into the rivers of france evolved into more permanent encampments that included local women and personal property . the duchy of normandy , which began in 911 as a fiefdom , was established by the treaty of saint - clair - sur - epte between king charles iii of west francia and the famed viking ruler rollo , and was situated in the former frankish kingdom of neustria . the treaty offered rollo and his men the french lands between the river epte and the atlantic coast in exchange for their protection against further viking incursions . the area corresponded to the northern part of present - day upper normandy down to the river seine , but the duchy would eventually extend west beyond the seine . the territory was roughly equivalent to the old province of rouen , and reproduced the roman administrative structure of gallia lugdunensis ii ( part of the former gallia lugdunensis ).\n",
      "Predicted Answer: 911\n",
      "True Answer: 911\n",
      "--------------------------------------------------\n",
      "Question: what percentage of farmland grows wheat ?\n",
      "Context: more than 26 , 000 square kilometres ( 10 , 000 sq mi ) of victorian farmland are sown for grain , mostly in the state ' s west . more than 50 % of this area is sown for wheat , 33 % for barley and 7 % for oats . a further 6 , 000 square kilometres ( 2 , 300 sq mi ) is sown for hay . in 2003 – 04 , victorian farmers produced more than 3 million tonnes of wheat and 2 million tonnes of barley . victorian farms produce nearly 90 % of australian pears and third of apples . it is also a leader in stone fruit production . the main vegetable crops include asparagus , broccoli , carrots , potatoes and tomatoes . last year , 121 , 200 tonnes of pears and 270 , 000 tonnes of tomatoes were produced .\n",
      "Predicted Answer: 50 % of this area is sown for wheat , 33 %\n",
      "True Answer: 50 %\n",
      "--------------------------------------------------\n",
      "Question: what are the secretions commonly called ?\n",
      "Context: when some species , including bathyctena chuni , euplokamis stationis and eurhamphaea vexilligera , are disturbed , they produce secretions ( ink ) that luminesce at much the same wavelengths as their bodies . juveniles will luminesce more brightly in relation to their body size than adults , whose luminescence is diffused over their bodies . detailed statistical investigation has not suggested the function of ctenophores ' bioluminescence nor produced any correlation between its exact color and any aspect of the animals ' environments , such as depth or whether they live in coastal or mid - ocean waters .\n",
      "Predicted Answer: adults\n",
      "True Answer: ink\n",
      "--------------------------------------------------\n",
      "Question: how many miles east of berlin is warsaw ?\n",
      "Context: warsaw lies in east - central poland about 300 km ( 190 mi ) from the carpathian mountains and about 260 km ( 160 mi ) from the baltic sea , 523 km ( 325 mi ) east of berlin , germany . the city straddles the vistula river . it is located in the heartland of the masovian plain , and its average elevation is 100 metres ( 330 ft ) above sea level . the highest point on the left side of the city lies at a height of 115 . 7 metres ( 379 . 6 ft ) (\" redutowa \" bus depot , district of wola ), on the right side – 122 . 1 metres ( 400 . 6 ft ) (\" groszówka \" estate , district of wesoła , by the eastern border ). the lowest point lies at a height 75 . 6 metres ( 248 . 0 ft ) ( at the right bank of the vistula , by the eastern border of warsaw ). there are some hills ( mostly artificial ) located within the confines of the city – e . g . warsaw uprising hill ( 121 metres ( 397 . 0 ft )), szczęśliwice hill ( 138 metres ( 452 . 8 ft ) – the highest point of warsaw in general ).\n",
      "Predicted Answer: 300\n",
      "True Answer: 325\n",
      "--------------------------------------------------\n",
      "Question: how many catholic schools were in victoria ?\n",
      "Context: as of august 2010 , victoria had 1 , 548 public schools , 489 catholic schools and 214 independent schools . just under 540 , 800 students were enrolled in public schools , and just over 311 , 800 in private schools . over 61 per cent of private students attend catholic schools . more than 462 , 000 students were enrolled in primary schools and more than 390 , 000 in secondary schools . retention rates for the final two years of secondary school were 77 per cent for public school students and 90 per cent for private school students . victoria has about 63 , 519 full - time teachers .\n",
      "Predicted Answer: 214\n",
      "True Answer: 489\n",
      "--------------------------------------------------\n",
      "Question: what does the nederrikn ' s name change into ?\n",
      "Context: the other third of the water flows through the pannerdens kanaal and redistributes in the ijssel and nederrijn . the ijssel branch carries one ninth of the water flow of the rhine north into the ijsselmeer ( a former bay ), while the nederrijn carries approximately two ninths of the flow west along a route parallel to the waal . however , at wijk bij duurstede , the nederrijn changes its name and becomes the lek . it flows farther west , to rejoin the noord river into the nieuwe maas and to the north sea .\n",
      "Predicted Answer: waal\n",
      "True Answer: lek\n",
      "--------------------------------------------------\n",
      "Question: how many seats are in the debating chamber ?\n",
      "Context: the debating chamber of the scottish parliament has seating arranged in a hemicycle , which reflects the desire to encourage consensus amongst elected members . there are 131 seats in the debating chamber . of the total 131 seats , 129 are occupied by the parliament ' s elected msps and 2 are seats for the scottish law officers – the lord advocate and the solicitor general for scotland , who are not elected members of the parliament but are members of the scottish government . as such the law officers may attend and speak in the plenary meetings of the parliament but , as they are not elected msps , cannot vote . members are able to sit anywhere in the debating chamber , but typically sit in their party groupings . the first minister , scottish cabinet ministers and law officers sit in the front row , in the middle section of the chamber . the largest party in the parliament sits in the middle of the semicircle , with opposing parties on either side . the presiding officer , parliamentary clerks and officials sit opposite members at the front of the debating chamber .\n",
      "Predicted Answer: 131\n",
      "True Answer: 131\n",
      "--------------------------------------------------\n",
      "Question: how many teams did los angeles used to have ?\n",
      "Context: from 2005 to 2014 , there were two major league soccer teams in los angeles — the la galaxy and chivas usa — that both played at the stubhub center and were local rivals . however , chivas were suspended following the 2014 mls season , with a second mls team scheduled to return in 2018 .\n",
      "Predicted Answer: two\n",
      "True Answer: two\n",
      "--------------------------------------------------\n",
      "Question: what does the nederrijn change it ' s name to ?\n",
      "Context: the other third of the water flows through the pannerdens kanaal and redistributes in the ijssel and nederrijn . the ijssel branch carries one ninth of the water flow of the rhine north into the ijsselmeer ( a former bay ), while the nederrijn carries approximately two ninths of the flow west along a route parallel to the waal . however , at wijk bij duurstede , the nederrijn changes its name and becomes the lek . it flows farther west , to rejoin the noord river into the nieuwe maas and to the north sea .\n",
      "Predicted Answer: waal\n",
      "True Answer: lek\n",
      "--------------------------------------------------\n",
      "Question: how many botanical gardens does warsaw have ?\n",
      "Context: the flora of the city may be considered very rich in species . the species richness is mainly due to the location of warsaw within the border region of several big floral regions comprising substantial proportions of close - to - wilderness areas ( natural forests , wetlands along the vistula ) as well as arable land , meadows and forests . bielany forest , located within the borders of warsaw , is the remaining part of the masovian primeval forest . bielany forest nature reserve is connected with kampinos forest . it is home to rich fauna and flora . within the forest there are three cycling and walking trails . other big forest area is kabaty forest by the southern city border . warsaw has also two botanic gardens : by the łazienki park ( a didactic - research unit of the university of warsaw ) as well as by the park of culture and rest in powsin ( a unit of the polish academy of science ).\n",
      "Predicted Answer: three\n",
      "True Answer: two\n",
      "--------------------------------------------------\n",
      "Question: what is the bond order of dioxygen molecules ?\n",
      "Context: in this dioxygen , the two oxygen atoms are chemically bonded to each other . the bond can be variously described based on level of theory , but is reasonably and simply described as a covalent double bond that results from the filling of molecular orbitals formed from the atomic orbitals of the individual oxygen atoms , the filling of which results in a bond order of two . more specifically , the double bond is the result of sequential , low - to - high energy , or aufbau , filling of orbitals , and the resulting cancellation of contributions from the 2s electrons , after sequential filling of the low and * orbitals ; overlap of the two atomic 2p orbitals that lie along the o - o molecular axis and π overlap of two pairs of atomic 2p orbitals perpendicular to the o - o molecular axis , and then cancellation of contributions from the remaining two of the six 2p electrons after their partial filling of the lowest π and π * orbitals .\n",
      "Predicted Answer: aufbau\n",
      "True Answer: two\n",
      "--------------------------------------------------\n",
      "Question: how much heavier is oxygen 18 than oxygen 16 ?\n",
      "Context: paleoclimatologists measure the ratio of oxygen - 18 and oxygen - 16 in the shells and skeletons of marine organisms to determine what the climate was like millions of years ago ( see oxygen isotope ratio cycle ). seawater molecules that contain the lighter isotope , oxygen - 16 , evaporate at a slightly faster rate than water molecules containing the 12 % heavier oxygen - 18 ; this disparity increases at lower temperatures . during periods of lower global temperatures , snow and rain from that evaporated water tends to be higher in oxygen - 16 , and the seawater left behind tends to be higher in oxygen - 18 . marine organisms then incorporate more oxygen - 18 into their skeletons and shells than they would in a warmer climate . paleoclimatologists also directly measure this ratio in the water molecules of ice core samples that are up to several hundreds of thousands of years old .\n",
      "Predicted Answer: oxygen - 18\n",
      "True Answer: 12 %\n",
      "--------------------------------------------------\n"
     ]
    }
   ],
   "source": [
    "# Compare the predictions with the actual answers\n",
    "for i in range(100):\n",
    "    print(f\"Question: {questions[i]}\")\n",
    "    print(f\"Context: {contexts[i]}\")\n",
    "    print(f\"Predicted Answer: {preds[i]}\")\n",
    "    print(f\"True Answer: {true_labels[i]}\")\n",
    "    print(\"-\" * 50)"
   ]
  },
  {
   "cell_type": "markdown",
   "metadata": {},
   "source": [
    "##### 2. Predicitions on Training Set"
   ]
  },
  {
   "cell_type": "code",
   "execution_count": null,
   "metadata": {},
   "outputs": [
    {
     "name": "stderr",
     "output_type": "stream",
     "text": [
      "Predicting: 100%|██████████| 623/623 [00:49<00:00, 12.59it/s]\n"
     ]
    }
   ],
   "source": [
    "train_preds, train_true_labels, train_context, train_questions = predict_qa_context_model_boilerplate(model=model, dataloader=train_dataloader, tokenizer=tokenizer, device='cuda', inputs = [\"context\", \"question\", \"attention_mask_question\"])"
   ]
  },
  {
   "cell_type": "code",
   "execution_count": null,
   "metadata": {},
   "outputs": [
    {
     "name": "stdout",
     "output_type": "stream",
     "text": [
      "Question: how many troops had the japanese lost ?\n",
      "Context: as many japanese had feared , japan ' s supply arrangements could not maintain her forces . once mutaguchi ' s hopes for an early victory were thwarted , his troops , particularly those at kohima , starved . during may , while mutaguchi continued to order attacks , the allies advanced southwards from kohima and northwards from imphal . the two allied attacks met on 22 june , breaking the japanese siege of imphal . the japanese finally broke off the operation on 3 july . they had lost over 50 , 000 troops , mainly to starvation and disease . this represented the worst defeat suffered by the japanese army to that date .[ citation needed ]\n",
      "Predicted Answer: 50 , 000\n",
      "True Answer: 50 , 000\n",
      "--------------------------------------------------\n",
      "Question: with the formal end of maratha empire the eic created a firm hold on what country ?\n",
      "Context: with the gradual weakening of the marathas in the aftermath of the three anglo - maratha wars , the british also secured the ganges - jumna doab , the delhi - agra region , parts of bundelkhand , broach , some districts of gujarat , the fort of ahmmadnagar , province of cuttack ( which included mughalbandi / the coastal part of odisha , garjat / the princely states of odisha , balasore port , parts of midnapore district of west bengal ), bombay ( mumbai ) and the surrounding areas , leading to a formal end of the maratha empire and firm establishment of the british east india company in india .\n",
      "Predicted Answer: india\n",
      "True Answer: india\n",
      "--------------------------------------------------\n",
      "Question: what language was used by the eastern church ?\n",
      "Context: christianity was a major unifying factor between eastern and western europe before the arab conquests , but the conquest of north africa sundered maritime connections between those areas . increasingly the byzantine church differed in language , practices , and liturgy from the western church . the eastern church used greek instead of the western latin . theological and political differences emerged , and by the early and middle 8th century issues such as iconoclasm , clerical marriage , and state control of the church had widened to the extent that the cultural and religious differences were greater than the similarities . the formal break came in 1054 , when the papacy and the patriarchy of constantinople clashed over papal supremacy and excommunicated each other , which led to the division of christianity into two churches — the western branch became the roman catholic church and the eastern branch the orthodox church .\n",
      "Predicted Answer: greek\n",
      "True Answer: greek\n",
      "--------------------------------------------------\n",
      "Question: what company worked with kanye in 2009 to create his own shoe line ?\n",
      "Context: in september 2005 , west announced that he would release his pastelle clothing line in spring 2006 , claiming \" now that i have a grammy under my belt and late registration is finished , i am ready to launch my clothing line next spring .\" the line was developed over the following four years – with multiple pieces teased by west himself – before the line was ultimately cancelled in 2009 . in 2009 , west collaborated with nike to release his own shoe , the air yeezys , with a second version released in 2012 . in january 2009 , west introduced his first shoe line designed for louis vuitton during paris fashion week . the line was released in summer 2009 . west has additionally designed shoewear for bape and italian shoemaker giuseppe zanotti .\n",
      "Predicted Answer: nike\n",
      "True Answer: nike\n",
      "--------------------------------------------------\n",
      "Question: where did islamic influence in tibet come from ?\n",
      "Context: muslims have been living in tibet since as early as the 8th or 9th century . in tibetan cities , there are small communities of muslims , known as kachee ( kache ), who trace their origin to immigrants from three main regions : kashmir ( kachee yul in ancient tibetan ), ladakh and the central asian turkic countries . islamic influence in tibet also came from persia . after 1959 a group of tibetan muslims made a case for indian nationality based on their historic roots to kashmir and the indian government declared all tibetan muslims indian citizens later on that year . other muslim ethnic groups who have long inhabited tibet include hui , salar , dongxiang and bonan . there is also a well established chinese muslim community ( gya kachee ), which traces its ancestry back to the hui ethnic group of china .\n",
      "Predicted Answer: persia\n",
      "True Answer: persia\n",
      "--------------------------------------------------\n",
      "Question: when was ins v chadha tried before the supreme court ?\n",
      "Context: congress often writes legislation to restrain executive officials to the performance of their duties , as laid out by the laws congress passes . in ins v . chadha ( 1983 ), the supreme court decided ( a ) the prescription for legislative action in art . i , § 1 — requiring all legislative powers to be vested in a congress consisting of a senate and a house of representatives — and § 7 — requiring every bill passed by the house and senate , before becoming law , to be presented to the president , and , if he disapproves , to be repassed by two - thirds of the senate and house — represents the framers ' decision that the legislative power of the federal government be exercised in accord with a single , finely wrought and exhaustively considered procedure . this procedure is an integral part of the constitutional design for the separation of powers . further rulings clarified the case ; even both houses acting together cannot override executive vetos without a 2 ⁄ 3 majority . legislation may always prescribe regulations governing executive officers .\n",
      "Predicted Answer: ( 1983\n",
      "True Answer: 1983\n",
      "--------------------------------------------------\n",
      "Question: how many microbreweries exist in richmond ?\n",
      "Context: richmond is also fast - becoming known for its food scene , with several restaurants in the fan , church hill , jackson ward and elsewhere around the city generating regional and national attention for their fare . departures magazine named richmond \" the next great american food city \" in august 2014 . also in 2014 , southern living magazine named three richmond restaurants – comfort , heritage and the roosevelt – among its \" 100 best restaurants in the south \", while metzger bar & butchery made its \" best new restaurants : 12 to watch \" list . craft beer and liquor production is also growing in the river city , with twelve micro - breweries in city proper ; the oldest is legend brewery , founded in 1994 . three distilleries , reservoir distillery , belle isle craft spirits and james river distillery , were established in 2010 , 2013 and 2014 , respectively .\n",
      "Predicted Answer: twelve\n",
      "True Answer: twelve\n",
      "--------------------------------------------------\n",
      "Question: what is the main thing that we experience ?\n",
      "Context: \" the mind - stuff of the world is , of course , something more general than our individual conscious minds .... the mind - stuff is not spread in space and time ; these are part of the cyclic scheme ultimately derived out of it .... it is necessary to keep reminding ourselves that all knowledge of our environment from which the world of physics is constructed , has entered in the form of messages transmitted along the nerves to the seat of consciousness .... consciousness is not sharply defined , but fades into subconsciousness ; and beyond that we must postulate something indefinite but yet continuous with our mental nature .... it is difficult for the matter - of - fact physicist to accept the view that the substratum of everything is of mental character . but no one can deny that mind is the first and most direct thing in our experience , and all else is remote inference .\"\n",
      "Predicted Answer: mind\n",
      "True Answer: mind\n",
      "--------------------------------------------------\n",
      "Question: when did a nigerian civil war begin ?\n",
      "Context: modern - day nigeria has been the site of numerous kingdoms and tribal states over the millennia . the modern state originated from british colonial rule beginning in the 19th century , and the merging of the southern nigeria protectorate and northern nigeria protectorate in 1914 . the british set up administrative and legal structures whilst practising indirect rule through traditional chiefdoms . nigeria became a formally independent federation in 1960 , and plunged into a civil war from 1967 to 1970 . it has since alternated between democratically - elected civilian governments and military dictatorships , until it achieved a stable democracy in 1999 , with its 2011 presidential elections being viewed as the first to be conducted reasonably freely and fairly .\n",
      "Predicted Answer: 1960\n",
      "True Answer: 1967\n",
      "--------------------------------------------------\n",
      "Question: in what year did comcast take over a majority interest in qvc ?\n",
      "Context: in 1994 , comcast became the third largest cable operator in the united states with around 3 . 5 million subscribers following its purchase of maclean - hunter ' s american division for $ 1 . 27 billion . the company ' s uk branch , comcast uk cable partners , goes public while constructing a cable telecommunications network . with five other media companies , the corporation becomes an original investor in the golf channel . following a bid in 1994 for $ 2 . 1 billion , comcast increased its ownership of qvc from 15 . 5 % of stock to a majority , in a move to prevent qvc from merging with cbs . comcast later sold its qvc shares in 2004 to liberty media for $ 7 . 9 billion .\n",
      "Predicted Answer: 1994\n",
      "True Answer: 1994\n",
      "--------------------------------------------------\n",
      "Question: what planet is neptune ' s near - twin ?\n",
      "Context: neptune is the eighth and farthest known planet from the sun in the solar system . it is the fourth - largest planet by diameter and the third - largest by mass . among the giant planets in the solar system , neptune is the most dense . neptune is 17 times the mass of earth and is slightly more massive than its near - twin uranus , which is 15 times the mass of earth and slightly larger than neptune .[ c ] neptune orbits the sun once every 164 . 8 years at an average distance of 30 . 1 astronomical units ( 4 . 50 × 109 km ). named after the roman god of the sea , its astronomical symbol is ♆, a stylised version of the god neptune ' s trident .\n",
      "Predicted Answer: uranus\n",
      "True Answer: uranus\n",
      "--------------------------------------------------\n",
      "Question: nyc ' s fashion industry employs how many people ?\n",
      "Context: as of 2013 , the global advertising agencies of omnicom group and interpublic group , both based in manhattan , had combined annual revenues of approximately us $ 21 billion , reflecting new york city ' s role as the top global center for the advertising industry , which is metonymously referred to as \" madison avenue \". the city ' s fashion industry provides approximately 180 , 000 employees with $ 11 billion in annual wages .\n",
      "Predicted Answer: 180 , 000\n",
      "True Answer: 180 , 000\n",
      "--------------------------------------------------\n",
      "Question: where could one study roman law in 1100 ?\n",
      "Context: legal studies advanced during the 12th century . both secular law and canon law , or ecclesiastical law , were studied in the high middle ages . secular law , or roman law , was advanced greatly by the discovery of the corpus juris civilis in the 11th century , and by 1100 roman law was being taught at bologna . this led to the recording and standardisation of legal codes throughout western europe . canon law was also studied , and around 1140 a monk named gratian ( fl . 12th century ), a teacher at bologna , wrote what became the standard text of canon law — the decretum .\n",
      "Predicted Answer: bologna\n",
      "True Answer: bologna\n",
      "--------------------------------------------------\n",
      "Question: what is neptune ' s largest moon ?\n",
      "Context: neptune is not visible to the unaided eye and is the only planet in the solar system found by mathematical prediction rather than by empirical observation . unexpected changes in the orbit of uranus led alexis bouvard to deduce that its orbit was subject to gravitational perturbation by an unknown planet . neptune was subsequently observed with a telescope on 23 september 1846 by johann galle within a degree of the position predicted by urbain le verrier . its largest moon , triton , was discovered shortly thereafter , though none of the planet ' s remaining known 14 moons were located telescopically until the 20th century . the planet ' s distance from earth gives it a very small apparent size , making it challenging to study with earth - based telescopes . neptune was visited by voyager 2 , when it flew by the planet on 25 august 1989 . the advent of hubble space telescope and large ground - based telescopes with adaptive optics has recently allowed for additional detailed observations from afar .\n",
      "Predicted Answer: triton\n",
      "True Answer: triton\n",
      "--------------------------------------------------\n",
      "Question: greece holds what rank among most visited countries in the world ?\n",
      "Context: greece is a developed country with high standards of living [ citation needed ] and high human development index . its economy mainly comprises the service sector ( 85 . 0 %) and industry ( 12 . 0 %), while agriculture makes up 3 . 0 % of the national economic output . important greek industries include tourism ( with 14 . 9 million international tourists in 2009 , it is ranked as the 7th most visited country in the european union and 16th in the world by the united nations world tourism organization ) and merchant shipping ( at 16 . 2 % of the world ' s total capacity , the greek merchant marine is the largest in the world ), while the country is also a considerable agricultural producer ( including fisheries ) within the union .\n",
      "Predicted Answer: 16th\n",
      "True Answer: 16th\n",
      "--------------------------------------------------\n",
      "Question: what is the second longest show at the dominion theatre ?\n",
      "Context: the original london production was scheduled to close on saturday , 7 october 2006 , at the dominion theatre , but due to public demand , the show ran until may 2014 . we will rock you has become the longest running musical ever to run at this prime london theatre , overtaking the previous record holder , the grease musical . brian may stated in 2008 that they were considering writing a sequel to the musical . the musical toured around the uk in 2009 , playing at manchester palace theatre , sunderland empire , birmingham hippodrome , bristol hippodrome , and edinburgh playhouse .\n",
      "Predicted Answer: grease\n",
      "True Answer: grease\n",
      "--------------------------------------------------\n",
      "Question: columbia pictures has been owned by sony since what year ?\n",
      "Context: the merger made columbia and epic sister labels to rca records , which was once owned by rca which also owned cbs rival nbc . it also started the process of bringing bmg ' s arista records back under common ownership with its former parent columbia pictures , a sony division since 1989 , and also brought arista founder clive davis back into the fold . davis is still with sony music as chief creative officer .\n",
      "Predicted Answer: 1989\n",
      "True Answer: 1989\n",
      "--------------------------------------------------\n",
      "Question: in what year did tufts researchers reportedly uncover what is believed to be the oldest known im\n",
      "Context: the higher - level phylogeny of the arthropods continues to be a matter of debate and research . in 2008 , researchers at tufts university uncovered what they believe is the world ' s oldest known full - body impression of a primitive flying insect , a 300 million - year - old specimen from the carboniferous period . the oldest definitive insect fossil is the devonian rhyniognatha hirsti , from the 396 - million - year - old rhynie chert . it may have superficially resembled a modern - day silverfish insect . this species already possessed dicondylic mandibles ( two articulations in the mandible ), a feature associated with winged insects , suggesting that wings may already have evolved at this time . thus , the first insects probably appeared earlier , in the silurian period .\n",
      "Predicted Answer: 2008\n",
      "True Answer: 2008\n",
      "--------------------------------------------------\n",
      "Question: in what year was the legion of the united states established ?\n",
      "Context: after the war , though , the continental army was quickly given land certificates and disbanded in a reflection of the republican distrust of standing armies . state militias became the new nation ' s sole ground army , with the exception of a regiment to guard the western frontier and one battery of artillery guarding west point ' s arsenal . however , because of continuing conflict with native americans , it was soon realized that it was necessary to field a trained standing army . the regular army was at first very small , and after general st . clair ' s defeat at the battle of the wabash , the regular army was reorganized as the legion of the united states , which was established in 1791 and renamed the \" united states army \" in 1796 .\n",
      "Predicted Answer: 1791\n",
      "True Answer: 1791\n",
      "--------------------------------------------------\n",
      "Question: how many days is jesus traditionally said to have fasted in the desert ?\n",
      "Context: while christian festivals such as corpus christi were church - sanctioned celebrations , carnival was also a manifestation of european folk culture . in the christian tradition the fasting is to commemorate the 40 days that jesus fasted in the desert according to the new testament and also to reflect on christian values . as with many other christian festivals such as christmas which was originally a pagan midwinter festival , the christian church has found it easier to turn the pagan carnaval in a catholic tradition than to eliminate it . unlike today , carnival in the middle ages took not just a few days , but it covered almost the entire period between christmas and the beginning of lent . in those two months , several catholic holidays were seized by the catholic population as an outlet for their daily frustrations .\n",
      "Predicted Answer: 40\n",
      "True Answer: 40\n",
      "--------------------------------------------------\n",
      "Question: sumerians also built houses from reeds not very different from ones built by inhabitants in iraq as recently\n",
      "Context: the most impressive and famous of sumerian buildings are the ziggurats , large layered platforms which supported temples . sumerian cylinder seals also depict houses built from reeds not unlike those built by the marsh arabs of southern iraq until as recently as 400 ce . the sumerians also developed the arch , which enabled them to develop a strong type of dome . they built this by constructing and linking several arches . sumerian temples and palaces made use of more advanced materials and techniques ,[ citation needed ] such as buttresses , recesses , half columns , and clay nails .\n",
      "Predicted Answer: 400 ce\n",
      "True Answer: 400 ce\n",
      "--------------------------------------------------\n",
      "Question: how many people died in the textile factory riots ?\n",
      "Context: preceding the reform law , in august 1952 , communist - led riots broke out at textile factories in kafr el - dawwar , leading to a clash with the army that left nine people dead . while most of the rcc insisted on executing the riot ' s two ringleaders , nasser opposed this . nonetheless , the sentences were carried out . the muslim brotherhood supported the rcc , and after naguib ' s assumption of power , demanded four ministerial portfolios in the new cabinet . nasser turned down their demands and instead hoped to co - opt the brotherhood by giving two of its members , who were willing to serve officially as independents , minor ministerial posts .\n",
      "Predicted Answer: nine\n",
      "True Answer: nine\n",
      "--------------------------------------------------\n",
      "Question: where did peirce and james meet ?\n",
      "Context: in the late 19th and early 20th century several forms of pragmatic philosophy arose . the ideas of pragmatism , in its various forms , developed mainly from discussions between charles sanders peirce and william james when both men were at harvard in the 1870s . james popularized the term \" pragmatism \", giving peirce full credit for its patrimony , but peirce later demurred from the tangents that the movement was taking , and redubbed what he regarded as the original idea with the name of \" pragmaticism \". along with its pragmatic theory of truth , this perspective integrates the basic insights of empirical ( experience - based ) and rational ( concept - based ) thinking .\n",
      "Predicted Answer: harvard\n",
      "True Answer: harvard\n",
      "--------------------------------------------------\n",
      "Question: when did judea become an allied kingdom to rome ?\n",
      "Context: for at least a century before the establishment of the augustan principate , jews and judaism were tolerated in rome by diplomatic treaty with judaea ' s hellenised elite . diaspora jews had much in common with the overwhelmingly hellenic or hellenised communities that surrounded them . early italian synagogues have left few traces ; but one was dedicated in ostia around the mid - 1st century bc and several more are attested during the imperial period . judaea ' s enrollment as a client kingdom in 63 bc increased the jewish diaspora ; in rome , this led to closer official scrutiny of their religion . their synagogues were recognised as legitimate collegia by julius caesar . by the augustan era , the city of rome was home to several thousand jews . in some periods under roman rule , jews were legally exempt from official sacrifice , under certain conditions . judaism was a superstitio to cicero , but the church father tertullian described it as religio licita ( an officially permitted religion ) in contrast to christianity .\n",
      "Predicted Answer: 63 bc\n",
      "True Answer: 63 bc\n",
      "--------------------------------------------------\n",
      "Question: how many square miles is the island of iwo jima ?\n",
      "Context: the battle of iwo jima (\" operation detachment \") in february 1945 was one of the bloodiest battles fought by the americans in the pacific war . iwo jima was an 8 sq mile ( 21 km2 ) island situated halfway between tokyo and the mariana islands . holland smith , the commander of the invasion force , aimed to capture the island , and utilize its three airfields as bases to carry out air attacks against the home islands . lt . general tadamichi kuribayashi , the commander of the island ' s defense , knew that he could not win the battle , but he hoped to make the americans suffer far more than they could endure .\n",
      "Predicted Answer: 8\n",
      "True Answer: 8\n",
      "--------------------------------------------------\n",
      "Question: in what year did a golden bull make the king of bohemia first among the imperial electors\n",
      "Context: bohemia prospered in the 14th century , and the golden bull of 1356 made the king of bohemia first among the imperial electors , but the hussite revolution threw the country into crisis . the holy roman empire passed to the habsburgs in 1438 , where it remained until its dissolution in 1806 . yet in spite of the extensive territories held by the habsburgs , the empire itself remained fragmented , and much real power and influence lay with the individual principalities . in addition , financial institutions , such as the hanseatic league and the fugger family , held great power , on both economic and a political levels .\n",
      "Predicted Answer: 1356\n",
      "True Answer: 1356\n",
      "--------------------------------------------------\n",
      "Question: where does mac hardware boot directly to in all intel - based macs ?\n",
      "Context: originally , the hardware architecture was so closely tied to the mac os operating system that it was impossible to boot an alternative operating system . the most common workaround , is to boot into mac os and then to hand over control to a mac os - based bootloader application . used even by apple for a / ux and mklinux , this technique is no longer necessary since the introduction of open firmware - based pci macs , though it was formerly used for convenience on many old world rom systems due to bugs in the firmware implementation .[ citation needed ] now , mac hardware boots directly from open firmware in most powerpc - based macs or efi in all intel - based macs .\n",
      "Predicted Answer: efi\n",
      "True Answer: efi\n",
      "--------------------------------------------------\n",
      "Question: in what year did the reauthorization of capital punishment occur ?\n",
      "Context: possibly in part due to expedited federal habeas corpus procedures embodied in the antiterrorism and effective death penalty act of 1996 , the pace of executions picked up , reaching a peak of 98 in 1999 and then they declined gradually to 28 in 2015 . since the death penalty was reauthorized in 1976 , 1 , 411 people have been executed , almost exclusively by the states , with most occurring after 1990 . texas has accounted for over one - third of modern executions ( although only two death sentences were imposed in texas during 2015 , with the courts preferring to issue sentences of life without parole instead ) and over four times as many as oklahoma , the state with the second - highest number . california has the greatest number of prisoners on death row , has issued the highest number of death sentences but has held relatively few executions .\n",
      "Predicted Answer: 1976\n",
      "True Answer: 1976\n",
      "--------------------------------------------------\n",
      "Question: in what place did the engineering school at ku appear in 2016 ?\n",
      "Context: in the u . s . news & world report ' s \" america ’ s best colleges \" 2016 issue , ku ’ s school of engineering was ranked tied for 90th among national universities .\n",
      "Predicted Answer: 90th\n",
      "True Answer: 90th\n",
      "--------------------------------------------------\n",
      "Question: how many aspects are there to dukkha ?\n",
      "Context: the first truth explains the nature of dukkha . dukkha is commonly translated as \" suffering \", \" anxiety \", \" unsatisfactoriness \", \" unease \", etc ., and it is said to have the following three aspects :\n",
      "Predicted Answer: three\n",
      "True Answer: three\n",
      "--------------------------------------------------\n",
      "Question: what song did beyonce record for the film epic ?\n",
      "Context: beyoncé embarked on the mrs . carter show world tour on april 15 in belgrade , serbia ; the tour included 132 dates that ran through to march 2014 . it became the most successful tour of her career and one of the most - successful tours of all time . in may , beyoncé ' s cover of amy winehouse ' s \" back to black \" with andré 3000 on the great gatsby soundtrack was released . she was also honorary chair of the 2013 met gala . beyoncé voiced queen tara in the 3d cgi animated film , epic , released by 20th century fox on may 24 , and recorded an original song for the film , \" rise up \", co - written with sia .\n",
      "Predicted Answer: \" rise up\n",
      "True Answer: rise up\n",
      "--------------------------------------------------\n",
      "Question: when were the mosaics at the basilica of sant ' apollinare created ?\n",
      "Context: after 539 ravenna was reconquered by the romans in the form of the eastern roman empire ( byzantine empire ) and became the seat of the exarchate of ravenna . the greatest development of christian mosaics unfolded in the second half of the 6th century . outstanding examples of byzantine mosaic art are the later phase mosaics in the basilica of san vitale and basilica of sant ' apollinare nuovo . the mosaic depicting emperor saint justinian i and empress theodora in the basilica of san vitale were executed shortly after the byzantine conquest . the mosaics of the basilica of sant ' apollinare in classe were made around 549 . the anti - arian theme is obvious in the apse mosaic of san michele in affricisco , executed in 545 – 547 ( largely destroyed ; the remains in berlin ).\n",
      "Predicted Answer: 549\n",
      "True Answer: 549\n",
      "--------------------------------------------------\n",
      "Question: how many germans were living in east prussia in 1945 ?\n",
      "Context: shortly after the end of the war in may 1945 , germans who had fled in early 1945 tried to return to their homes in east prussia . an estimated number of 800 , 000 germans were living in east prussia during the summer of 1945 . many more were prevented from returning ,[ citation needed ] and the german population of east prussia was almost completely expelled by the communist regimes . during the war and for some time thereafter 45 camps were established for about 200 , 000 - 250 , 000 forced labourers , the vast majority of whom were deported to the soviet union , including the gulag camp system . the largest camp with about 48 , 000 inmates was established at deutsch eylau ( iława ). orphaned children who were left behind in the zone occupied by the soviet union were referred to as wolf children .\n",
      "Predicted Answer: 800 , 000\n",
      "True Answer: 800 , 000\n",
      "--------------------------------------------------\n",
      "Question: which group brought with them the chinese artistic traditions to the southeast asian country ?\n",
      "Context: it has been pointed out that khmer and indonesian classical arts were concerned with depicting the life of the gods , but to the southeast asian mind the life of the gods was the life of the peoples themselves — joyous , earthy , yet divine . the tai , coming late into southeast asia , brought with them some chinese artistic traditions , but they soon shed them in favour of the khmer and mon traditions , and the only indications of their earlier contact with chinese arts were in the style of their temples , especially the tapering roof , and in their lacquerware .\n",
      "Predicted Answer: tai\n",
      "True Answer: tai\n",
      "--------------------------------------------------\n",
      "Question: how much money did victoria donate to famine relief ?\n",
      "Context: in 1845 , ireland was hit by a potato blight . in the next four years over a million irish people died and another million emigrated in what became known as the great famine . in ireland , victoria was labelled \" the famine queen \". she personally donated £ 2 , 000 to famine relief , more than any other individual donor , and also supported the maynooth grant to a roman catholic seminary in ireland , despite protestant opposition . the story that she donated only £ 5 in aid to the irish , and on the same day gave the same amount to battersea dogs home , was a myth generated towards the end of the 19th century .\n",
      "Predicted Answer: £ 2 , 000\n",
      "True Answer: £ 2 , 000\n",
      "--------------------------------------------------\n",
      "Question: what percentage of review on rotten tomatoes were positive ?\n",
      "Context: spectre has received mixed reviews , with many reviewers either giving the film highly positive or highly negative feedback . many critics praised the film ' s opening scene , action sequences , stuntwork , cinematography and performances from the cast . in some early reviews , the film received favourable comparisons with its predecessor , skyfall . rotten tomatoes sampled 274 reviews and judged 64 % of the critiques to be positive , saying that the film \" nudges daniel craig ' s rebooted bond closer to the glorious , action - driven spectacle of earlier entries , although it ' s admittedly reliant on established 007 formula .\" on metacritic , the film has a rating of 60 out of 100 , based on 48 critics , indicating \" mixed or average reviews \". audiences polled by cinemascore gave the film an average grade of \" a −\" on an a + to f scale .\n",
      "Predicted Answer: 64 %\n",
      "True Answer: 64\n",
      "--------------------------------------------------\n",
      "Question: what are estuaries called in galicia ?\n",
      "Context: topographically , a remarkable feature of galicia is the presence of many firth - like inlets along the coast , estuaries that were drowned with rising sea levels after the ice age . these are called rías and are divided into the smaller rías altas (\" high rías \"), and the larger rías baixas (\" low rías \"). the rías altas include ribadeo , foz , viveiro , barqueiro , ortigueira , cedeira , ferrol , betanzos , a coruña , corme e laxe and camariñas . the rías baixas , found south of fisterra , include corcubión , muros e noia , arousa , pontevedra and vigo . the rías altas can sometimes refer only to those east of estaca de bares , with the others being called rías medias (\" intermediate rías \").\n",
      "Predicted Answer: rías\n",
      "True Answer: rías\n",
      "--------------------------------------------------\n",
      "Question: what is generally the lowest sound a human can hear ?\n",
      "Context: there is a theory that vinyl records can audibly represent higher frequencies than compact discs . according to red book specifications , the compact disc has a frequency response of 20 hz up to 22 , 050 hz , and most cd players measure flat within a fraction of a decibel from at least 20 hz to 20 khz at full output . turntable rumble obscures the low - end limit of vinyl but the upper end can be , with some cartridges , reasonably flat within a few decibels to 30 khz , with gentle roll - off . carrier signals of quad lps popular in the 1970s were at 30 khz to be out of the range of human hearing . the average human auditory system is sensitive to frequencies from 20 hz to a maximum of around 20 , 000 hz . the upper and lower frequency limits of human hearing vary per person .\n",
      "Predicted Answer: 20 hz\n",
      "True Answer: 20 hz\n",
      "--------------------------------------------------\n",
      "Question: who had lavinia already been promised to ?\n",
      "Context: book 7 ( beginning the iliadic half ) opens with an address to the muse and recounts aeneas ' arrival in italy and betrothal to lavinia , daughter of king latinus . lavinia had already been promised to turnus , the king of the rutulians , who is roused to war by the fury allecto , and amata lavinia ' s mother . in book 8 , aeneas allies with king evander , who occupies the future site of rome , and is given new armor and a shield depicting roman history . book 9 records an assault by nisus and euryalus on the rutulians , book 10 , the death of evander ' s young son pallas , and 11 the death of the volscian warrior princess camilla and the decision to settle the war with a duel between aeneas and turnus . the aeneid ends in book 12 with the taking of latinus ' city , the death of amata , and aeneas ' defeat and killing of turnus , whose pleas for mercy are spurned . the final book ends with the image of turnus ' soul lamenting as it flees to the underworld .\n",
      "Predicted Answer: turnus\n",
      "True Answer: turnus\n",
      "--------------------------------------------------\n",
      "Question: most insects have what kind of vision ?\n",
      "Context: most insects , except some species of cave crickets , are able to perceive light and dark . many species have acute vision capable of detecting minute movements . the eyes may include simple eyes or ocelli as well as compound eyes of varying sizes . many species are able to detect light in the infrared , ultraviolet and the visible light wavelengths . color vision has been demonstrated in many species and phylogenetic analysis suggests that uv - green - blue trichromacy existed from at least the devonian period between 416 and 359 million years ago .\n",
      "Predicted Answer: minute\n",
      "True Answer: acute\n",
      "--------------------------------------------------\n",
      "Question: who committed to a strict \" no re - election \" policy when running for office ?\n",
      "Context: despite the internal stability ( known as the paz porfiriana ), modernization , and economic growth in mexico during the porfiriato from 1876 to 1910 , many across the state became deeply dissatisfied with the political system . when díaz first ran for office , he committed to a strict “ no re - election ” policy in which he disqualified himself to serve consecutive terms . eventually backtracking on many of his initial political positions díaz became a de facto dictator . díaz became increasingly unpopular due to brutal suppression of political dissidents by using the rurales and manipulating the elections to solidify his political machine . the working class was frustrated with the díaz regime due to the corruption of the political system that had increased the inequality between the rich and poor . the peasants felt disenfranchised by the policies that promoted the unfair distribution of land where 95 % of the land was owned by the top 5 %.\n",
      "Predicted Answer: díaz first ran for office , he committed to a strict “ no re - election ” policy in which he disqualified himself to serve consecutive terms . eventually backtracking on many of his initial political positions díaz became a de facto dictator . díaz\n",
      "True Answer: díaz\n",
      "--------------------------------------------------\n",
      "Question: what country is the organisation cask marque located ?\n",
      "Context: drinking chilled beer began with the development of artificial refrigeration and by the 1870s , was spread in those countries that concentrated on brewing pale lager . chilling beer makes it more refreshing , though below 15 . 5 ° c the chilling starts to reduce taste awareness and reduces it significantly below 10 ° c ( 50 ° f ). beer served unchilled — either cool or at room temperature , reveal more of their flavours . cask marque , a non - profit uk beer organisation , has set a temperature standard range of 12 °– 14 ° c ( 53 °– 57 ° f ) for cask ales to be served .\n",
      "Predicted Answer: uk\n",
      "True Answer: uk\n",
      "--------------------------------------------------\n",
      "Question: in what century did some german - trained classicists in the us suggest modifying the common usage to\n",
      "Context: in the late empire and middle ages vergilius was spelled virgilius . two explanations are commonly given for this alteration . one deduces a false etymology associated with the word virgo (\" maiden \" in latin ) due to virgil ' s excessive , \" maiden \"- like modesty . alternatively , some argue that vergilius was altered to virgilius by analogy with the latin virga (\" wand \") due to the magical or prophetic powers attributed to virgil in the middle ages ( this explanation is found in only a handful of manuscripts , however , and was probably not widespread ). in norman schools ( following the french practice ), the habit was to anglicize latin names by dropping their latin endings , hence virgil . in the 19th century , some german - trained classicists in the united states suggested modification to vergil , as it is closer to his original name , and is also the traditional german spelling .[ citation needed ] modern usage permits both , though the oxford guide to style recommends vergilius to avoid confusion with the 8th - century grammarian virgilius maro grammaticus . some post - renaissance writers liked to affect the sobriquet \" the swan of mantua \".[ citation needed ]\n",
      "Predicted Answer: 19th\n",
      "True Answer: 19th\n",
      "--------------------------------------------------\n",
      "Question: in what decade did the southern railway company commission the program that created the western docks ?\n",
      "Context: town quay is the original public quay , and dates from the 13th century . today ' s eastern docks were created in the 1830s by land reclamation of the mud flats between the itchen & test estuaries . the western docks date from the 1930s when the southern railway company commissioned a major land reclamation and dredging programme . most of the material used for reclamation came from dredging of southampton water , to ensure that the port can continue to handle large ships .\n",
      "Predicted Answer: 1930s\n",
      "True Answer: 1930s\n",
      "--------------------------------------------------\n",
      "Question: the vrina plain basilica is in which city ?\n",
      "Context: the mosaic pavement of the vrina plain basilica of butrint , albania appear to pre - date that of the baptistery by almost a generation , dating to the last quarter of the 5th or the first years of the 6th century . the mosaic displays a variety of motifs including sea - creatures , birds , terrestrial beasts , fruits , flowers , trees and abstracts – designed to depict a terrestrial paradise of god ’ s creation . superimposed on this scheme are two large tablets , tabulae ansatae , carrying inscriptions . a variety of fish , a crab , a lobster , shrimps , mushrooms , flowers , a stag and two cruciform designs surround the smaller of the two inscriptions , which reads : in fulfilment of the vow ( prayer ) of those whose names god knows . this anonymous dedicatory inscription is a public demonstration of the benefactors ’ humility and an acknowledgement of god ’ s omniscience .\n",
      "Predicted Answer: butrint , albania\n",
      "True Answer: butrint\n",
      "--------------------------------------------------\n",
      "Question: on what continent was the book of healing finally available fifty years after its composition ?\n",
      "Context: his book of healing became available in europe in partial latin translation some fifty years after its composition , under the title sufficientia , and some authors have identified a \" latin avicennism \" as flourishing for some time , paralleling the more influential latin averroism , but suppressed by the parisian decrees of 1210 and 1215 . avicenna ' s psychology and theory of knowledge influenced william of auvergne , bishop of paris and albertus magnus , while his metaphysics had an impact on the thought of thomas aquinas .\n",
      "Predicted Answer: europe\n",
      "True Answer: europe\n",
      "--------------------------------------------------\n",
      "Question: in what modern country is avicenna considered an icon ?\n",
      "Context: in modern iran , he is considered a national icon , and is often regarded as one of the greatest persians to have ever lived . a monument was erected outside the bukhara museum [ year needed ]. the avicenna mausoleum and museum in hamadan was built in 1952 . bu - ali sina university in hamadan ( iran ), avicenna research institute in tehran ( iran ), the ibn sīnā tajik state medical university in dushanbe , ibn sina academy of medieval medicine and sciences at aligarh , india , avicenna school in karachi and avicenna medical college in lahore , pakistan ibne sina balkh medical school in his native province of balkh in afghanistan , ibni sina faculty of medicine of ankara university ankara , turkey and ibn sina integrated school in marawi city ( philippines ) are all named in his honour . his portrait hangs in the hall of the avicenna faculty of medicine in the university of paris . there is also a crater on the moon named avicenna and a plant genus avicennia .\n",
      "Predicted Answer: iran\n",
      "True Answer: iran\n",
      "--------------------------------------------------\n",
      "Question: the 1919 riot involving popper ' s comrades was part of what larger political move ?\n",
      "Context: in his early years popper was impressed by marxism , whether of communists or socialists . an event that happened in 1919 had a profound effect on him : during a riot , caused by the communists , the police shot several unarmed people , including some of popper ' s friends , when they tried to free party comrades from prison . the riot had , in fact , been part of a plan by which leaders of the communist party with connections to béla kun tried to take power by a coup ; popper did not know about this at that time . however , he knew that the riot instigators were swayed by the marxist doctrine that class struggle would produce vastly more dead men than the inevitable revolution brought about as quickly as possible , and so had no scruples to put the life of the rioters at risk to achieve their selfish goal of becoming the future leaders of the working class . this was the start of his later criticism of historicism . popper began to reject marxist historicism , which he associated with questionable means , and later socialism , which he associated with placing equality before freedom ( to the possible disadvantage of equality ).\n",
      "Predicted Answer: a coup\n",
      "True Answer: a coup\n",
      "--------------------------------------------------\n",
      "Question: in what year was the most recent ipod touch released ?\n",
      "Context: in mid - 2015 , a new model of the ipod touch was announced by apple , and was officially released on the apple store on july 15 , 2015 . the sixth generation ipod touch includes a wide variety of spec improvements such as the upgraded a8 processor and higher - quality screen . the core is over 5 times faster than previous models and is built to be roughly on par with the iphone 5s . it is available in 5 different colors : space grey , pink , gold , silver and product ( red ).\n",
      "Predicted Answer: - 2015\n",
      "True Answer: 2015\n",
      "--------------------------------------------------\n",
      "Question: attendees of the boat show can expect to see at least how many exhibitors ?\n",
      "Context: the annual southampton boat show is held in september each year , with over 600 exhibitors present . it runs for just over a week at mayflower park on the city ' s waterfront , where it has been held since 1968 . the boat show itself is the climax of sea city , which runs from april to september each year to celebrate southampton ' s links with the sea .\n",
      "Predicted Answer: 600\n",
      "True Answer: 600\n",
      "--------------------------------------------------\n",
      "Question: the single ray of light debut at which number of the billboard hot 100 ?\n",
      "Context: the album garnered critical acclaim . ray of light was honored with four grammy awards . in 2003 , slant magazine called it \" one of the great pop masterpieces of the ' 90s \" and rolling stone listed it among \" the 500 greatest albums of all time \". commercially , the album peaked at number one in numerous countries and sold more than 16 million copies worldwide . the album ' s first single , \" frozen \", became madonna ' s first single to debut at number one in the uk , while in the u . s . it became her sixth number - two single , setting another record for madonna as the artist with the most number two hits . the second single , \" ray of light \", debuted at number five on the billboard hot 100 .\n",
      "Predicted Answer: five\n",
      "True Answer: five\n",
      "--------------------------------------------------\n",
      "Question: what year were the northern and southern carolinas seperated ?\n",
      "Context: north carolina became one of the english thirteen colonies and with the territory of south carolina was originally known as the province of carolina . the northern and southern parts of the original province separated in 1729 . originally settled by small farmers , sometimes having a few slaves , who were oriented toward subsistence agriculture , the colony lacked cities or towns . pirates menaced the coastal settlements , but by 1718 the pirates had been captured and killed . growth was strong in the middle of the 18th century , as the economy attracted scots - irish , quaker , english and german immigrants . the colonists generally supported the american revolution , as the number of loyalists was smaller than in some other colonies .\n",
      "Predicted Answer: 1718\n",
      "True Answer: 1729\n",
      "--------------------------------------------------\n",
      "Question: which country had the lowest rate of software piracy ?\n",
      "Context: according to a 2007 bsa and international data corporation ( idc ) study , the five countries with the highest rates of software piracy were : 1 . armenia ( 93 %); 2 . bangladesh ( 92 %); 3 . azerbaijan ( 92 %); 4 . moldova ( 92 %); and 5 . zimbabwe ( 91 %). according to the study ' s results , the five countries with the lowest piracy rates were : 1 . u . s . ( 20 %); 2 . luxembourg ( 21 %); 3 . new zealand ( 22 %); 4 . japan ( 23 %); and 5 . austria ( 25 %). the 2007 report showed that the asia - pacific region was associated with the highest amount of loss , in terms of u . s . dollars , with $ 14 , 090 , 000 , followed by the european union , with a loss of $ 12 , 383 , 000 ; the lowest amount of u . s . dollars was lost in the middle east / africa region , where $ 2 , 446 , 000 was documented .\n",
      "Predicted Answer: u\n",
      "True Answer: u . s .\n",
      "--------------------------------------------------\n",
      "Question: what is the capacity for gibson ampitheatre ?\n",
      "Context: the finale is the two - hour last episode of the season , culminating in revealing the winner . for seasons one , three through six , and fourteen , it was broadcast from the dolby theatre , which has an audience capacity of approximately 3 , 400 . the finale for season two took place at the gibson amphitheatre , which has an audience capacity of over 6 , 000 . in seasons seven through thirteen , the venue was at the nokia theatre , which holds an audience of over 7 , 000 .\n",
      "Predicted Answer: 3 , 400\n",
      "True Answer: 6 , 000\n",
      "--------------------------------------------------\n",
      "Question: in what year did the u . s . supreme court agree to hear a lawsuit originally filed by\n",
      "Context: in april 2009 , the united states supreme court agreed to hear a suit over reverse discrimination brought by 20 white and hispanic firefighters against the city . the suit involved the 2003 promotion test for the new haven fire department . after the tests were scored , no blacks scored high enough to qualify for consideration for promotion , so the city announced that no one would be promoted . on 29 june 2009 , the united states supreme court ruled in favor of the firefighters , agreeing that they were improperly denied promotion because of their race . the case , ricci v . destefano , became highly publicized and brought national attention to new haven politics due to the involvement of then - supreme court nominee ( and yale law school graduate ) sonia sotomayor in a lower court decision .\n",
      "Predicted Answer: 2009\n",
      "True Answer: 2009\n",
      "--------------------------------------------------\n",
      "Question: what is the largest atlantic province city ?\n",
      "Context: st . john ' s is located along the coast of the atlantic ocean , on the northeast of the avalon peninsula in southeast newfoundland . the city covers an area of 446 . 04 square kilometres ( 172 . 22 sq mi ) and is the most easterly city in north america , excluding greenland ; it is 295 miles ( 475 km ) closer to london , england than it is to edmonton , alberta . the city of st . john ' s is located at a distance by air of 3 , 636 kilometres ( 2 , 259 mi ) from lorient , france which lies on a nearly precisely identical latitude across the atlantic on the french western coast . the city is the largest in the province and the second largest in the atlantic provinces after halifax , nova scotia . its downtown area lies to the west and north of st . john ' s harbour , and the rest of the city expands from the downtown to the north , south , east and west .\n",
      "Predicted Answer: halifax\n",
      "True Answer: halifax\n",
      "--------------------------------------------------\n",
      "Question: how many finnish people lost their homes ?\n",
      "Context: after the baltic states were forced to accept treaties , stalin turned his sights on finland , confident that finnish capitulation could be attained without great effort . the soviets demanded territories on the karelian isthmus , the islands of the gulf of finland and a military base near the finnish capital helsinki , which finland rejected . the soviets staged the shelling of mainila and used it as a pretext to withdraw from the non - aggression pact . the red army attacked in november 1939 . simultaneously , stalin set up a puppet government in the finnish democratic republic .[ clarification needed ] the leader of the leningrad military district andrei zhdanov commissioned a celebratory piece from dmitri shostakovich , entitled \" suite on finnish themes \" to be performed as the marching bands of the red army would be parading through helsinki . after finnish defenses surprisingly held out for over three months while inflicting stiff losses on soviet forces , the soviets settled for an interim peace . finland ceded southeastern areas of karelia ( 10 % of finnish territory ), which resulted in approximately 422 , 000 karelians ( 12 % of finland ' s population ) losing their homes . soviet official casualty counts in the war exceeded 200 , 000 , although soviet premier nikita khrushchev later claimed the casualties may have been one million .\n",
      "Predicted Answer: 422 , 000\n",
      "True Answer: 422 , 000\n",
      "--------------------------------------------------\n",
      "Question: what metal is often under the gold plating on edge connectors ?\n",
      "Context: other platings used are osp ( organic surface protectant ), immersion silver ( iag ), immersion tin , electroless nickel with immersion gold coating ( enig ), electroless nickel electroless palladium immersion gold ( enepig ) and direct gold plating ( over nickel ). edge connectors , placed along one edge of some boards , are often nickel plated then gold plated . another coating consideration is rapid diffusion of coating metal into tin solder . tin forms intermetallics such as cu5sn6 and ag3cu that dissolve into the tin liquidus or solidus (@ 50c ), stripping surface coating or leaving voids .\n",
      "Predicted Answer: nickel\n",
      "True Answer: nickel\n",
      "--------------------------------------------------\n",
      "Question: what decade had significant studies of dog genes to determine origins ?\n",
      "Context: although initially thought to have originated as a manmade variant of an extant canid species ( variously supposed as being the dhole , golden jackal , or gray wolf ), extensive genetic studies undertaken during the 2010s indicate that dogs diverged from an extinct wolf - like canid in eurasia 40 , 000 years ago . being the oldest domesticated animal , their long association with people has allowed dogs to be uniquely attuned to human behavior , as well as thrive on a starch - rich diet which would be inadequate for other canid species .\n",
      "Predicted Answer: 2010s\n",
      "True Answer: 2010s\n",
      "--------------------------------------------------\n",
      "Question: what was \" black by definition \"?\n",
      "Context: isidore of seville , writing in the 7th century , claimed that the latin word maurus was derived from the greek mauron , μαύρον , which is the greek word for black . indeed , by the time isidore of seville came to write his etymologies , the word maurus or \" moor \" had become an adjective in latin , \" for the greeks call black , mauron \". \" in isidore ’ s day , moors were black by definition …\"\n",
      "Predicted Answer: moors\n",
      "True Answer: moors\n",
      "--------------------------------------------------\n",
      "Question: how many miles is tuscon from phoenix ?\n",
      "Context: tucson is located 118 mi ( 190 km ) southeast of phoenix and 60 mi ( 97 km ) north of the united states - mexico border . the 2010 united states census puts the city ' s population at 520 , 116 with a metropolitan area population at 980 , 263 . in 2009 , tucson ranked as the 32nd largest city and 52nd largest metropolitan area in the united states . a major city in the arizona sun corridor , tucson is the largest city in southern arizona , the second largest in the state after phoenix . it is also the largest city in the area of the gadsden purchase . as of 2015 , the greater tucson metro area has exceeded a population of 1 million .\n",
      "Predicted Answer: 60\n",
      "True Answer: 118\n",
      "--------------------------------------------------\n",
      "Question: how much in dollars did the super famicom cost in japan ?\n",
      "Context: designed by masayuki uemura , the designer of the original famicom , the super famicom was released in japan on wednesday , november 21 , 1990 for ¥ 25 , 000 ( us $ 210 ). it was an instant success ; nintendo ' s initial shipment of 300 , 000 units sold out within hours , and the resulting social disturbance led the japanese government to ask video game manufacturers to schedule future console releases on weekends . the system ' s release also gained the attention of the yakuza , leading to a decision to ship the devices at night to avoid robbery .\n",
      "Predicted Answer: ¥ 25 , 000\n",
      "True Answer: us $ 210\n",
      "--------------------------------------------------\n",
      "Question: according to a recent study , how many men of the dhulbahante clan married women from\n",
      "Context: somali society is traditionally ethnically endogamous . so to extend ties of alliance , marriage is often to another ethnic somali from a different clan . thus , for example , a recent study observed that in 89 marriages contracted by men of the dhulbahante clan , 55 ( 62 %) were with women of dhulbahante sub - clans other than those of their husbands ; 30 ( 33 . 7 %) were with women of surrounding clans of other clan families ( isaaq , 28 ; hawiye , 3 ); and 3 ( 4 . 3 %) were with women of other clans of the darod clan family ( majerteen 2 , ogaden 1 ).\n",
      "Predicted Answer: 55 ( 62 %) were with women of dhulbahante sub - clans other than those of their husbands ; 30 ( 33 . 7 %) were with women of surrounding clans of other clan families ( isaaq , 28 ; hawiye , 3\n",
      "True Answer: 3\n",
      "--------------------------------------------------\n",
      "Question: what rank did about . com give kanye \" top 50 hip - hop producers \" list ?\n",
      "Context: as of 2013 , west has won a total of 21 grammy awards , making him one of the most awarded artists of all - time . about . com ranked kanye west no . 8 on their \" top 50 hip - hop producers \" list . on may 16 , 2008 , kanye west was crowned by mtv as the year ' s no . 1 \" hottest mc in the game .\" on december 17 , 2010 , kanye west was voted as the mtv man of the year by mtv . billboard ranked kanye west no . 3 on their list of top 10 producers of the decade . west ties with bob dylan for having topped the annual pazz & jop critic poll the most number of times ever , with four number - one albums each . west has also been included twice in the time 100 annual lists of the most influential people in the world as well as being listed in a number of forbes annual lists .\n",
      "Predicted Answer: 8\n",
      "True Answer: 8\n",
      "--------------------------------------------------\n",
      "Question: schwarzenegger underwent heart valve replacement in what year ?\n",
      "Context: schwarzenegger was born with a bicuspid aortic valve , an aortic valve with only two leaflets ( a normal aortic valve has three leaflets ). schwarzenegger opted in 1997 for a replacement heart valve made of his own transplanted tissue ; medical experts predicted he would require heart valve replacement surgery in the following two to eight years as his valve would progressively degrade . schwarzenegger apparently opted against a mechanical valve , the only permanent solution available at the time of his surgery , because it would have sharply limited his physical activity and capacity to exercise .\n",
      "Predicted Answer: 1997\n",
      "True Answer: 1997\n",
      "--------------------------------------------------\n",
      "Question: what is the greek word for power ?\n",
      "Context: the rule of law has been considered as one of the key dimensions that determine the quality and good governance of a country . research , like the worldwide governance indicators , defines the rule of law as : \" the extent to which agents have confidence and abide by the rules of society , and in particular the quality of contract enforcement , the police and the courts , as well as the likelihood of crime or violence .\" based on this definition the worldwide governance indicators project has developed aggregate measurements for the rule of law in more than 200 countries , as seen in the map below . a government based on the rule of law can be called a \" nomocracy \", from the greek nomos ( law ) and kratos ( power or rule ).\n",
      "Predicted Answer: nomos\n",
      "True Answer: kratos\n",
      "--------------------------------------------------\n",
      "Question: in what year did bandai post information about a reboot on his website ?\n",
      "Context: in 2011 , bandai posted a countdown on a teaser site . once the countdown was finished , it revealed a reboot of the digimon world series titled digimon world re : digitize . an enhanced version of the game released on nintendo 3ds as digimon world re : digitize decode in 2013 . another role - playing game by the name digimon story : cyber sleuth is set for release in 2015 for playstation vita . it is part of the digimon story sub - series , originally on nintendo ds and has also been released with english subtitles in north america .\n",
      "Predicted Answer: 2011\n",
      "True Answer: 2011\n",
      "--------------------------------------------------\n",
      "Question: what is another term for specific formal prescriptions ?\n",
      "Context: texts on architecture have been written since ancient time . these texts provided both general advice and specific formal prescriptions or canons . some examples of canons are found in the writings of the 1st - century bce roman architect vitruvius . some of the most important early examples of canonic architecture are religious .\n",
      "Predicted Answer: canons\n",
      "True Answer: canons\n",
      "--------------------------------------------------\n",
      "Question: what year is considered to be the beginning of the scientific revolution ?\n",
      "Context: the willingness to question previously held truths and search for new answers resulted in a period of major scientific advancements , now known as the scientific revolution . the scientific revolution is traditionally held by most historians to have begun in 1543 , when the books de humani corporis fabrica ( on the workings of the human body ) by andreas vesalius , and also de revolutionibus , by the astronomer nicolaus copernicus , were first printed . the thesis of copernicus ' book was that the earth moved around the sun . the period culminated with the publication of the philosophiæ naturalis principia mathematica in 1687 by isaac newton , representative of the unprecedented growth of scientific publications throughout europe .\n",
      "Predicted Answer: 1543\n",
      "True Answer: 1543\n",
      "--------------------------------------------------\n",
      "Question: how many of the former republics had representatives sign the protocol ?\n",
      "Context: doubts remained over the authority of the belavezha accords to disband the soviet union , since they were signed by only three republics . however , on december 21 , 1991 , representatives of 11 of the 12 former republics – all except georgia – signed the alma - ata protocol , which confirmed the dissolution of the union and formally established the cis . they also \" accepted \" gorbachev ' s resignation . while gorbachev hadn ' t made any formal plans to leave the scene yet , he did tell cbs news that he would resign as soon as he saw that the cis was indeed a reality .\n",
      "Predicted Answer: 11\n",
      "True Answer: 11\n",
      "--------------------------------------------------\n",
      "Question: for what was most of the the bitumont plant ' s output was used for waterproofing\n",
      "Context: the value of the deposit was obvious from the start , but the means of extracting the bitumen were not . the nearest town , fort mcmurray , alberta was a small fur trading post , other markets were far away , and transportation costs were too high to ship the raw bituminous sand for paving . in 1915 , sidney ells of the federal mines branch experimented with separation techniques and used the bitumen to pave 600 feet of road in edmonton , alberta . other roads in alberta were paved with oil sands , but it was generally not economic . during the 1920s dr . karl a . clark of the alberta research council patented a hot water oil separation process and entrepreneur robert c . fitzsimmons built the bitumount oil separation plant , which between 1925 and 1958 produced up to 300 barrels ( 50 m3 ) per day of bitumen using dr . clark ' s method . most of the bitumen was used for waterproofing roofs , but other uses included fuels , lubrication oils , printers ink , medicines , rust and acid - proof paints , fireproof roofing , street paving , patent leather , and fence post preservatives . eventually fitzsimmons ran out of money and the plant was taken over by the alberta government . today the bitumount plant is a provincial historic site .\n",
      "Predicted Answer: roofs\n",
      "True Answer: roofs\n",
      "--------------------------------------------------\n",
      "Question: where does oklahoma rank by land area ?\n",
      "Context: oklahoma is the 20th largest state in the united states , covering an area of 69 , 898 square miles ( 181 , 035 km2 ), with 68 , 667 square miles ( 177847 km2 ) of land and 1 , 281 square miles ( 3 , 188 km2 ) of water . it is one of six states on the frontier strip and lies partly in the great plains near the geographical center of the 48 contiguous states . it is bounded on the east by arkansas and missouri , on the north by kansas , on the northwest by colorado , on the far west by new mexico , and on the south and near - west by texas .\n",
      "Predicted Answer: 20th\n",
      "True Answer: 20th\n",
      "--------------------------------------------------\n",
      "Question: in what year did thomas j . watson , sr . join ctr ?\n",
      "Context: thomas j . watson , sr ., fired from the national cash register company by john henry patterson , called on flint and , in 1914 , was offered ctr . watson joined ctr as general manager then , 11 months later , was made president when court cases relating to his time at ncr were resolved . having learned patterson ' s pioneering business practices , watson proceeded to put the stamp of ncr onto ctr ' s companies . he implemented sales conventions , \" generous sales incentives , a focus on customer service , an insistence on well - groomed , dark - suited salesmen and had an evangelical fervor for instilling company pride and loyalty in every worker \". his favorite slogan , \" think \", became a mantra for each company ' s employees . during watson ' s first four years , revenues more than doubled to $ 9 million and the company ' s operations expanded to europe , south america , asia and australia . \" watson had never liked the clumsy hyphenated title of the ctr \" and chose to replace it with the more expansive title \" international business machines \". first as a name for a 1917 canadian subsidiary , then as a line in advertisements . for example , the mcclures magazine , v53 , may 1921 , has a full page ad with , at the bottom :\n",
      "Predicted Answer: 1914\n",
      "True Answer: 1914\n",
      "--------------------------------------------------\n",
      "Question: according to the federal constitution , how many cantons are equal in status ?\n",
      "Context: the cantons have a permanent constitutional status and , in comparison with the situation in other countries , a high degree of independence . under the federal constitution , all 26 cantons are equal in status . each canton has its own constitution , and its own parliament , government and courts . however , there are considerable differences between the individual cantons , most particularly in terms of population and geographical area . their populations vary between 15 , 000 ( appenzell innerrhoden ) and 1 , 253 , 500 ( zürich ), and their area between 37 km2 ( 14 sq mi ) ( basel - stadt ) and 7 , 105 km2 ( 2 , 743 sq mi ) ( graubünden ). the cantons comprise a total of 2 , 485 municipalities . within switzerland there are two enclaves : büsingen belongs to germany , campione d ' italia belongs to italy .\n",
      "Predicted Answer: 26\n",
      "True Answer: all 26\n",
      "--------------------------------------------------\n",
      "Question: what language was the saragossa manuscript originally written in ?\n",
      "Context: when a historic document survives only in translation , the original having been lost , researchers sometimes undertake back - translation in an effort to reconstruct the original text . an example involves the novel the saragossa manuscript by the polish aristocrat jan potocki ( 1761 – 1815 ), who wrote the novel in french and anonymously published fragments in 1804 and 1813 – 14 . portions of the original french - language manuscript were subsequently lost ; however , the missing fragments survived in a polish translation that was made by edmund chojecki in 1847 from a complete french copy , now lost . french - language versions of the complete saragossa manuscript have since been produced , based on extant french - language fragments and on french - language versions that have been back - translated from chojecki ’ s polish version .\n",
      "Predicted Answer: french\n",
      "True Answer: french\n",
      "--------------------------------------------------\n",
      "Question: what is south africa ' s ranking ?\n",
      "Context: a hdi below 0 . 5 is considered to represent \" low development \". all 22 countries in that category are located in africa . the highest - scoring sub - saharan countries , gabon and south africa , are ranked 119th and 121st , respectively . nine countries departed from this category this year and joined the \" medium development \" group .\n",
      "Predicted Answer: 121st\n",
      "True Answer: 121st\n",
      "--------------------------------------------------\n",
      "Question: when were the immigration protocols relaxed in norfolk island ?\n",
      "Context: the island is subject to separate immigration controls from the remainder of australia . until recently immigration to norfolk island even by other australian citizens was heavily restricted . in 2012 , immigration controls were relaxed with the introduction of an unrestricted entry permit for all australian and new zealand citizens upon arrival and the option to apply for residency ; the only criteria are to pass a police check and be able to pay into the local health scheme . from 1 july 2016 , the australian migration system will replace the immigration arrangements currently maintained by the norfolk island government .\n",
      "Predicted Answer: 2012\n",
      "True Answer: 2012\n",
      "--------------------------------------------------\n",
      "Question: in what year was cesar made pontifex maximus ?\n",
      "Context: the augustan settlement built upon a cultural shift in roman society . in the middle republican era , even scipio ' s tentative hints that he might be jupiter ' s special protege sat ill with his colleagues . politicians of the later republic were less equivocal ; both sulla and pompey claimed special relationships with venus . julius caesar went further , and claimed her as his ancestress . such claims suggested personal character and policy as divinely inspired ; an appointment to priesthood offered divine validation . in 63 bc , julius caesar ' s appointment as pontifex maximus \" signaled his emergence as a major player in roman politics \". likewise , political candidates could sponsor temples , priesthoods and the immensely popular , spectacular public ludi and munera whose provision became increasingly indispensable to the factional politics of the late republic . under the principate , such opportunities were limited by law ; priestly and political power were consolidated in the person of the princeps (\" first citizen \").\n",
      "Predicted Answer: 63 bc\n",
      "True Answer: 63 bc\n",
      "--------------------------------------------------\n",
      "Question: when was she on the sports illustrated cover ?\n",
      "Context: according to italian fashion designer roberto cavalli , beyoncé uses different fashion styles to work with her music while performing . her mother co - wrote a book , published in 2002 , titled destiny ' s style an account of how fashion had an impact on the trio ' s success . the b ' day anthology video album showed many instances of fashion - oriented footage , depicting classic to contemporary wardrobe styles . in 2007 , beyoncé was featured on the cover of the sports illustrated swimsuit issue , becoming the second african american woman after tyra banks , and people magazine recognized beyoncé as the best - dressed celebrity .\n",
      "Predicted Answer: 2002\n",
      "True Answer: 2007\n",
      "--------------------------------------------------\n",
      "Question: besides occurrences in canada , where in the us is asphalt found ?\n",
      "Context: asphalt / bitumen also occurs in unconsolidated sandstones known as \" oil sands \" in alberta , canada , and the similar \" tar sands \" in utah , us . the canadian province of alberta has most of the world ' s reserves of natural bitumen , in three huge deposits covering 142 , 000 square kilometres ( 55 , 000 sq mi ), an area larger than england or new york state . these bituminous sands contain 166 billion barrels ( 26 . 4 × 10 ^ 9 m3 ) of commercially established oil reserves , giving canada the third largest oil reserves in the world . and produce over 2 . 3 million barrels per day ( 370 × 10 ^ 3 m3 / d ) of heavy crude oil and synthetic crude oil . although historically it was used without refining to pave roads , nearly all of the bitumen is now used as raw material for oil refineries in canada and the united states .\n",
      "Predicted Answer: utah\n",
      "True Answer: utah\n",
      "--------------------------------------------------\n",
      "Question: how many students does the university of houston have ?\n",
      "Context: four separate and distinct state universities are located in houston . the university of houston is a nationally recognized tier one research university , and is the flagship institution of the university of houston system . the third - largest university in texas , the university of houston has nearly 40 , 000 students on its 667 - acre campus in southeast houston . the university of houston – clear lake and the university of houston – downtown are stand - alone universities ; they are not branch campuses of the university of houston . located in the historic community of third ward is texas southern university , one of the largest historically black colleges and universities in the united states .\n",
      "Predicted Answer: 40 , 000\n",
      "True Answer: 40 , 000\n",
      "--------------------------------------------------\n",
      "Question: what is a form of solid state lighting ?\n",
      "Context: in recent years light emitting diodes ( leds ) are becoming increasingly efficient leading to an extraordinary increase in the use of solid state lighting . in many situations , controlling the light emission of leds may be done most effectively by using the principles of nonimaging optics .\n",
      "Predicted Answer: ( leds\n",
      "True Answer: leds\n",
      "--------------------------------------------------\n",
      "Question: what was the percentage of whites in 1970 ?\n",
      "Context: according to the 2010 census , whites made up 51 % of houston ' s population ; 26 % of the total population were non - hispanic whites . blacks or african americans made up 25 % of houston ' s population . american indians made up 0 . 7 % of the population . asians made up 6 % ( 1 . 7 % vietnamese , 1 . 3 % chinese , 1 . 3 % indian , 0 . 9 % pakistani , 0 . 4 % filipino , 0 . 3 % korean , 0 . 1 % japanese ), while pacific islanders made up 0 . 1 %. individuals from some other race made up 15 . 2 % of the city ' s population , of which 0 . 2 % were non - hispanic . individuals from two or more races made up 3 . 3 % of the city . at the 2000 census , there were 1 , 953 , 631 people and the population density was 3 , 371 . 7 people per square mile ( 1 , 301 . 8 / km ²). the racial makeup of the city was 49 . 3 % white , 25 . 3 % african american , 5 . 3 % asian , 0 . 7 % american indian , 0 . 1 % pacific islander , 16 . 5 % from some other race , and 3 . 1 % from two or more races . in addition , hispanics made up 37 . 4 % of houston ' s population while non - hispanic whites made up 30 . 8 %, down from 62 . 4 % in 1970 .\n",
      "Predicted Answer: \n",
      "True Answer: 62 . 4 %\n",
      "--------------------------------------------------\n",
      "Question: how many pcs does dell employ energy management software on ?\n",
      "Context: the company aims to reduce its external environmental impact through energy - efficient evolution of products , and also reduce its direct operational impact through energy - efficiency programs . internal energy - efficiency programs reportedly save the company more than $ 3 million annually in energy - cost savings . the largest component of the company ' s internal energy - efficiency savings comes through pc power management : the company expects to save $ 1 . 8 million in energy costs through using specialized energy - management software on a network of 50 , 000 pcs .\n",
      "Predicted Answer: 50 , 000\n",
      "True Answer: 50 , 000\n",
      "--------------------------------------------------\n",
      "Question: who described the process of making verdigris in ancient times ?\n",
      "Context: verdigris is made by placing a plate or blade of copper , brass or bronze , slightly warmed , into a vat of fermenting wine , leaving it there for several weeks , and then scraping off and drying the green powder that forms on the metal . the process of making verdigris was described in ancient times by pliny . it was used by the romans in the murals of pompeii , and in celtic medieval manuscripts as early as the 5th century ad . it produced a blue - green which no other pigment could imitate , but it had drawbacks ; it was unstable , it could not resist dampness , it did not mix well with other colors , it could ruin other colors with which it came into contact ., and it was toxic . leonardo da vinci , in his treatise on painting , warned artists not to use it . it was widely used in miniature paintings in europe and persia in the 16th and 17th centuries . its use largely ended in the late 19th century , when it was replaced by the safer and more stable chrome green . viridian , also called chrome green , is a pigment made with chromium oxide dihydrate , was patented in 1859 . it became popular with painters , since , unlike other synthetic greens , it was stable and not toxic . vincent van gogh used it , along with prussian blue , to create a\n",
      "Predicted Answer: pliny\n",
      "True Answer: pliny\n",
      "--------------------------------------------------\n",
      "Question: where does tui ag host their headquarters ?\n",
      "Context: various industrial businesses are located in hannover . the volkswagen commercial vehicles transporter ( vwn ) factory at hannover - stöcken is the biggest employer in the region and operates a huge plant at the northern edge of town adjoining the mittellandkanal and motorway a2 . jointly with a factory of german tire and automobile parts manufacturer continental ag , they have a coal - burning power plant . continental ag , founded in hanover in 1871 , is one of the city ' s major companies , as is sennheiser . since 2008 a take - over is in progress : the schaeffler group from herzogenaurach ( bavaria ) holds the majority of the stock but were required due to the financial crisis to deposit the options as securities at banks . tui ag has its hq in hanover . hanover is home to many insurance companies , many of which operate only in germany . one major global reinsurance company is hannover re , whose headquarters are east of the city centre .\n",
      "Predicted Answer: hanover\n",
      "True Answer: hanover\n",
      "--------------------------------------------------\n",
      "Question: procopius ' contemporary jordanes referred to the slavs in what language ?\n",
      "Context: the slavic autonym is reconstructed in proto - slavic as * slověninъ , plural * slověne . the oldest documents written in old church slavonic and dating from the 9th century attest словѣне slověne to describe the slavs . other early slavic attestations include old east slavic словѣнѣ slověně for \" an east slavic group near novgorod .\" however , the earliest written references to the slavs under this name are in other languages . in the 6th century ad procopius , writing in byzantine greek , refers to the σκλάβοι sklaboi , σκλαβηνοί sklabēnoi , σκλαυηνοί sklauenoi , σθλαβηνοί sthlabenoi , or σκλαβῖνοι sklabinoi , while his contemporary jordanes refers to the sclaveni in latin .\n",
      "Predicted Answer: latin\n",
      "True Answer: latin\n",
      "--------------------------------------------------\n",
      "Question: how many movements are symphonies written in the classical period usually divided into ?\n",
      "Context: longer works are often divided into self - contained pieces , called movements , often with contrasting characters or moods . for instance , symphonies written during the classical period are usually divided into four movements : ( 1 ) an opening allegro in sonata form , ( 2 ) a slow movement , ( 3 ) a minuet or scherzo , and ( 4 ) a final allegro . these movements can then be further broken down into a hierarchy of smaller units : first sections , then periods , and finally phrases .\n",
      "Predicted Answer: four\n",
      "True Answer: four\n",
      "--------------------------------------------------\n",
      "Question: who did compaq overtake in the price war of 1994 ?\n",
      "Context: compaq , who had previously held the third place spot among pc manufacturers during the 1980s and early - mid 1990s , initiated a successful price war in 1994 that vaulted them to the biggest by the year end , overtaking a struggling ibm and relegating apple to third place . apple ' s market share further struggled due to the release of the windows 95 operating system , which unified microsoft ' s formerly separate ms - dos and windows products . windows 95 significantly enhanced the multimedia capability and performance of ibm pc compatible computers , and brought the capabilities of windows to parity with the mac os gui .\n",
      "Predicted Answer: ibm\n",
      "True Answer: ibm\n",
      "--------------------------------------------------\n",
      "Question: the german empire had how many universities ?\n",
      "Context: during the early modern period ( approximately late 15th century to 1800 ), the universities of europe would see a tremendous amount of growth , productivity and innovative research . at the end of the middle ages , about 400 years after the first university was founded , there were twenty - nine universities spread throughout europe . in the 15th century , twenty - eight new ones were created , with another eighteen added between 1500 and 1625 . this pace continued until by the end of the 18th century there were approximately 143 universities in europe and eastern europe , with the highest concentrations in the german empire ( 34 ), italian countries ( 26 ), france ( 25 ), and spain ( 23 ) – this was close to a 500 % increase over the number of universities toward the end of the middle ages . this number does not include the numerous universities that disappeared , or institutions that merged with other universities during this time . it should be noted that the identification of a university was not necessarily obvious during the early modern period , as the term is applied to a burgeoning number of institutions . in fact , the term \" university \" was not always used to designate a higher education institution . in mediterranean countries , the term studium generale was still often used , while \" academy \" was common in northern european countries .\n",
      "Predicted Answer: 143\n",
      "True Answer: 34\n",
      "--------------------------------------------------\n",
      "Question: how many political municipalities has the city of montevideo been divided into as of 2010 ?\n",
      "Context: as of 2010 [ update ], the city of montevideo has been divided into 8 political municipalities ( municipios ), referred to with the letters from a to g , including ch , each presided over by a mayor elected by the citizens registered in the constituency . this division , according to the municipality of montevideo , \" aims to advance political and administrative decentralization in the department of montevideo , with the aim of deepening the democratic participation of citizens in governance .\" the head of each municipio is called an alcalde or ( if female ) alcaldesa .\n",
      "Predicted Answer: 8\n",
      "True Answer: 8\n",
      "--------------------------------------------------\n",
      "Question: community , or nation are direct translations of what word in reference to islam ?\n",
      "Context: the term muslim world , also known as islamic world and the ummah ( arabic : أمة ‎, meaning \" nation \" or \" community \") has different meanings . in a religious sense , the islamic ummah refers to those who adhere to the teachings of islam , referred to as muslims . in a cultural sense , the muslim ummah refers to islamic civilization , exclusive of non - muslims living in that civilization . in a modern geopolitical sense , the term \" islamic nation \" usually refers collectively to muslim - majority countries , states , districts , or towns .\n",
      "Predicted Answer: ummah\n",
      "True Answer: ummah\n",
      "--------------------------------------------------\n",
      "Question: what was copper called in greece ?\n",
      "Context: in greece , copper was known by the name chalkos ( χαλκός ). it was an important resource for the romans , greeks and other ancient peoples . in roman times , it was known as aes cyprium , aes being the generic latin term for copper alloys and cyprium from cyprus , where much copper was mined . the phrase was simplified to cuprum , hence the english copper . aphrodite and venus represented copper in mythology and alchemy , because of its lustrous beauty , its ancient use in producing mirrors , and its association with cyprus , which was sacred to the goddess . the seven heavenly bodies known to the ancients were associated with the seven metals known in antiquity , and venus was assigned to copper .\n",
      "Predicted Answer: chalkos\n",
      "True Answer: chalkos\n",
      "--------------------------------------------------\n",
      "Question: what is the molecular make - up of hydrogen ?\n",
      "Context: the universal emergence of atomic hydrogen first occurred during the recombination epoch . at standard temperature and pressure , hydrogen is a colorless , odorless , tasteless , non - toxic , nonmetallic , highly combustible diatomic gas with the molecular formula h2 . since hydrogen readily forms covalent compounds with most non - metallic elements , most of the hydrogen on earth exists in molecular forms such as in the form of water or organic compounds . hydrogen plays a particularly important role in acid – base reactions as many acid - base reactions involve the exchange of protons between soluble molecules . in ionic compounds , hydrogen can take the form of a negative charge ( i . e ., anion ) when it is known as a hydride , or as a positively charged ( i . e ., cation ) species denoted by the symbol h +. the hydrogen cation is written as though composed of a bare proton , but in reality , hydrogen cations in ionic compounds are always more complex species than that would suggest . as the only neutral atom for which the schrödinger equation can be solved analytically , study of the energetics and bonding of the hydrogen atom has played a key role in the development of quantum mechanics .\n",
      "Predicted Answer: h2\n",
      "True Answer: h2\n",
      "--------------------------------------------------\n",
      "Question: what research was egypt known for ?\n",
      "Context: ancient egypt made significant advances in astronomy , mathematics and medicine . their development of geometry was a necessary outgrowth of surveying to preserve the layout and ownership of farmland , which was flooded annually by the nile river . the 3 - 4 - 5 right triangle and other rules of thumb were used to build rectilinear structures , and the post and lintel architecture of egypt . egypt was also a center of alchemy research for much of the mediterranean . the edwin smith papyrus is one of the first medical documents still extant , and perhaps the earliest document that attempts to describe and analyse the brain : it might be seen as the very beginnings of modern neuroscience . however , while egyptian medicine had some effective practices , it was not without its ineffective and sometimes harmful practices . medical historians believe that ancient egyptian pharmacology , for example , was largely ineffective . nevertheless , it applies the following components to the treatment of disease : examination , diagnosis , treatment , and prognosis , which display strong parallels to the basic empirical method of science and according to g . e . r . lloyd played a significant role in the development of this methodology . the ebers papyrus ( c . 1550 bc ) also contains evidence of traditional empiricism .\n",
      "Predicted Answer: alchemy\n",
      "True Answer: alchemy\n",
      "--------------------------------------------------\n",
      "Question: how many people per square mile are there in tucson ?\n",
      "Context: as of the census of 2010 , there were 520 , 116 people , 229 , 762 households , and 112 , 455 families residing in the city . the population density was 2 , 500 . 1 inhabitants per square mile ( 965 . 3 / km ²). there were 209 , 609 housing units at an average density of 1 , 076 . 7 per square mile ( 415 . 7 / km ²). the racial makeup of the city was 69 . 7 % white ( down from 94 . 8 % in 1970 ), 5 . 0 % black or african - american , 2 . 7 % native american , 2 . 9 % asian , 0 . 2 % pacific islander , 16 . 9 % from other races , and 3 . 8 % from two or more races . hispanic or latino of any race were 41 . 6 % of the population . non - hispanic whites were 47 . 2 % of the population in 2010 , down from 72 . 8 % in 1970 .\n",
      "Predicted Answer: 520 , 116\n",
      "True Answer: 2 , 500 .\n",
      "--------------------------------------------------\n",
      "Question: what album was ranked 8 on a list of 100 albums ?\n",
      "Context: the pitchfork online music publication ranked my beautiful dark twisted fantasy as the world ' s best album of the decade \" so far \"— between 2010 and 2014 — on august 19 , 2014 , while yeezus was ranked in the eighth position of a list of 100 albums . during the same week , the song \" runaway \" ( featuring pusha t ) was ranked in the third position in the publication ' s list of the 200 \" best tracks \" released since 2010 .\n",
      "Predicted Answer: yeezus\n",
      "True Answer: yeezus\n",
      "--------------------------------------------------\n",
      "Question: what decade did the term \" graphic novel \" become well known by the public ?\n",
      "Context: the graphic novel — book - length comics — began to gain attention after will eisner popularized the term with his book a contract with god ( 1978 ). the term became widely known with the public after the commercial success of maus , watchmen , and the dark knight returns in the mid - 1980s . in the 21st century graphic novels became established in mainstream bookstores and libraries and webcomics became common .\n",
      "Predicted Answer: - 1980s\n",
      "True Answer: 1980s\n",
      "--------------------------------------------------\n",
      "Question: how does oklahoma rank among us states for agriculture ?\n",
      "Context: oklahoma is host to a diverse range of sectors including aviation , energy , transportation equipment , food processing , electronics , and telecommunications . oklahoma is an important producer of natural gas , aircraft , and food . the state ranks third in the nation for production of natural gas , is the 27th - most agriculturally productive state , and also ranks 5th in production of wheat . four fortune 500 companies and six fortune 1000 companies are headquartered in oklahoma , and it has been rated one of the most business - friendly states in the nation , with the 7th - lowest tax burden in 2007 .\n",
      "Predicted Answer: 5th\n",
      "True Answer: 27th\n",
      "--------------------------------------------------\n",
      "Question: how many \" temporal series \" did mctaggart propose ?\n",
      "Context: the problem of the flow of time , as it has been treated in analytic philosophy , owes its beginning to a paper written by j . m . e . mctaggart . in this paper mctaggart proposes two \" temporal series \". the first series , which means to account for our intuitions about temporal becoming , or the moving now , is called the a - series . the a - series orders events according to their being in the past , present or future , simpliciter and in comparison to each other . the b - series eliminates all reference to the present , and the associated temporal modalities of past and future , and orders all events by the temporal relations earlier than and later than .\n",
      "Predicted Answer: two\n",
      "True Answer: two\n",
      "--------------------------------------------------\n"
     ]
    }
   ],
   "source": [
    "# Compare the predictions with the actual answers\n",
    "for i in range(100):\n",
    "    print(f\"Question: {train_questions[i]}\")\n",
    "    print(f\"Context: {train_context[i]}\")\n",
    "    print(f\"Predicted Answer: {train_preds[i]}\")\n",
    "    print(f\"True Answer: {train_true_labels[i]}\")\n",
    "    print(\"-\" * 50)"
   ]
  }
 ],
 "metadata": {
  "kernelspec": {
   "display_name": "nlp_kernel",
   "language": "python",
   "name": "nlp_env"
  },
  "language_info": {
   "codemirror_mode": {
    "name": "ipython",
    "version": 3
   },
   "file_extension": ".py",
   "mimetype": "text/x-python",
   "name": "python",
   "nbconvert_exporter": "python",
   "pygments_lexer": "ipython3",
   "version": "3.11.11"
  }
 },
 "nbformat": 4,
 "nbformat_minor": 2
}
