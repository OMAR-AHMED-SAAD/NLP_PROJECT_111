{
  "cells": [
    {
      "cell_type": "markdown",
      "metadata": {
        "id": "furWbet6M3Jn"
      },
      "source": [
        "# Milestone 2 - Training Transformer Models with GloVe embeddings"
      ]
    },
    {
      "cell_type": "markdown",
      "metadata": {},
      "source": [
        "### Imports"
      ]
    },
    {
      "cell_type": "code",
      "execution_count": 1,
      "metadata": {
        "colab": {
          "base_uri": "https://localhost:8080/"
        },
        "id": "Rd_xZP2iM3Jq",
        "outputId": "9e6e465a-f13a-443e-c4aa-035ef5c04a98"
      },
      "outputs": [
        {
          "name": "stderr",
          "output_type": "stream",
          "text": [
            "c:\\Users\\001\\anaconda3\\envs\\nlp_env\\Lib\\site-packages\\IPython\\core\\magics\\osm.py:417: UserWarning: This is now an optional IPython functionality, setting dhist requires you to install the `pickleshare` library.\n",
            "  self.shell.db['dhist'] = compress_dhist(dhist)[-100:]\n"
          ]
        },
        {
          "name": "stdout",
          "output_type": "stream",
          "text": [
            "c:\\Users\\001\\OneDrive\\Desktop\\GUC\\semester 10\\nlp\\NLP_PROJECT_111\\QA Task milestone\n"
          ]
        },
        {
          "name": "stderr",
          "output_type": "stream",
          "text": [
            "c:\\Users\\001\\anaconda3\\envs\\nlp_env\\Lib\\site-packages\\torchtext\\data\\__init__.py:4: UserWarning: \n",
            "/!\\ IMPORTANT WARNING ABOUT TORCHTEXT STATUS /!\\ \n",
            "Torchtext is deprecated and the last released version will be 0.18 (this one). You can silence this warning by calling the following at the beginnign of your scripts: `import torchtext; torchtext.disable_torchtext_deprecation_warning()`\n",
            "  warnings.warn(torchtext._TORCHTEXT_DEPRECATION_MSG)\n",
            "c:\\Users\\001\\anaconda3\\envs\\nlp_env\\Lib\\site-packages\\torchtext\\vocab\\__init__.py:4: UserWarning: \n",
            "/!\\ IMPORTANT WARNING ABOUT TORCHTEXT STATUS /!\\ \n",
            "Torchtext is deprecated and the last released version will be 0.18 (this one). You can silence this warning by calling the following at the beginnign of your scripts: `import torchtext; torchtext.disable_torchtext_deprecation_warning()`\n",
            "  warnings.warn(torchtext._TORCHTEXT_DEPRECATION_MSG)\n",
            "c:\\Users\\001\\anaconda3\\envs\\nlp_env\\Lib\\site-packages\\torchtext\\utils.py:4: UserWarning: \n",
            "/!\\ IMPORTANT WARNING ABOUT TORCHTEXT STATUS /!\\ \n",
            "Torchtext is deprecated and the last released version will be 0.18 (this one). You can silence this warning by calling the following at the beginnign of your scripts: `import torchtext; torchtext.disable_torchtext_deprecation_warning()`\n",
            "  warnings.warn(torchtext._TORCHTEXT_DEPRECATION_MSG)\n"
          ]
        }
      ],
      "source": [
        "%cd ..\n",
        "# imports\n",
        "from scripts_m2 import *\n"
      ]
    },
    {
      "cell_type": "markdown",
      "metadata": {
        "id": "UMWcb8n-M3Jr"
      },
      "source": [
        "### 1. Get Dataloaders"
      ]
    },
    {
      "cell_type": "code",
      "execution_count": 2,
      "metadata": {},
      "outputs": [
        {
          "name": "stdout",
          "output_type": "stream",
          "text": [
            "Loading tokenizer from ./tokenizers/tokenizer.json...\n",
            "Filtered dataset size: 19922 out of original 20000\n",
            "Filtered dataset size: 1989 out of original 2000\n"
          ]
        }
      ],
      "source": [
        "train_dataloader, dev_dataloader, tokenizer = prepare_dataloaders_tokenizer()"
      ]
    },
    {
      "cell_type": "markdown",
      "metadata": {
        "id": "GLzOX80RM3Jy"
      },
      "source": [
        "### 2. Model Training"
      ]
    },
    {
      "cell_type": "markdown",
      "metadata": {
        "id": "F4tMuCuhM3Jy"
      },
      "source": [
        "#### Question [PAD] [SEP] Context [PAD]"
      ]
    },
    {
      "cell_type": "code",
      "execution_count": 3,
      "metadata": {
        "colab": {
          "base_uri": "https://localhost:8080/"
        },
        "id": "zAjCoVWuM3Jz",
        "outputId": "9ee7f527-8404-466d-de5e-8a31d3689f48"
      },
      "outputs": [
        {
          "name": "stderr",
          "output_type": "stream",
          "text": [
            "c:\\Users\\001\\anaconda3\\envs\\nlp_env\\Lib\\site-packages\\torch\\nn\\modules\\transformer.py:306: UserWarning: enable_nested_tensor is True, but self.use_nested_tensor is False because encoder_layer.self_attn.batch_first was not True(use batch_first for better inference performance)\n",
            "  warnings.warn(f\"enable_nested_tensor is True, but self.use_nested_tensor is False because {why_not_sparsity_fast_path}\")\n",
            "c:\\Users\\001\\anaconda3\\envs\\nlp_env\\Lib\\site-packages\\torch\\optim\\lr_scheduler.py:28: UserWarning: The verbose parameter is deprecated. Please use get_last_lr() to access the learning rate.\n",
            "  warnings.warn(\"The verbose parameter is deprecated. Please use get_last_lr() \"\n",
            "Epoch 1/20:   0%|          | 0/623 [00:00<?, ?it/s]c:\\Users\\001\\anaconda3\\envs\\nlp_env\\Lib\\site-packages\\torch\\nn\\functional.py:5504: UserWarning: 1Torch was not compiled with flash attention. (Triggered internally at C:\\cb\\pytorch_1000000000000\\work\\aten\\src\\ATen\\native\\transformers\\cuda\\sdp_utils.cpp:455.)\n",
            "  attn_output = scaled_dot_product_attention(q, k, v, attn_mask, dropout_p, is_causal)\n",
            "Epoch 1/20: 100%|██████████| 623/623 [00:31<00:00, 19.83it/s, loss=7.13]\n"
          ]
        },
        {
          "name": "stdout",
          "output_type": "stream",
          "text": [
            "Epoch 1 Loss: 7.9825\n"
          ]
        },
        {
          "name": "stderr",
          "output_type": "stream",
          "text": [
            "Evaluating: 100%|██████████| 623/623 [00:17<00:00, 34.86it/s]\n"
          ]
        },
        {
          "name": "stdout",
          "output_type": "stream",
          "text": [
            "Training Loss: 6.7346\n",
            "Training Metrics: {'start_accuracy': 0.18276277482180503, 'start_precision': 0.18613876394343815, 'start_recall': 0.18276277482180503, 'start_f1_score': 0.17412230264348538, 'end_accuracy': 0.20479871498845498, 'end_precision': 0.21508403024850262, 'end_recall': 0.20479871498845498, 'end_f1_score': 0.19402977422562848, 'joint_exact_match': 0.09466920991868287, 'span_overlap_f1': 0.12165630278149003}\n"
          ]
        },
        {
          "name": "stderr",
          "output_type": "stream",
          "text": [
            "Evaluating: 100%|██████████| 63/63 [00:01<00:00, 34.37it/s]\n"
          ]
        },
        {
          "name": "stdout",
          "output_type": "stream",
          "text": [
            "Validation Loss: 8.4975\n",
            "Validation Metrics: {'start_accuracy': 0.11362493715434892, 'start_precision': 0.12444251100721332, 'start_recall': 0.11362493715434892, 'start_f1_score': 0.10482065041437376, 'end_accuracy': 0.10960281548516843, 'end_precision': 0.12490755422264008, 'end_recall': 0.10960281548516843, 'end_f1_score': 0.0997945045107789, 'joint_exact_match': 0.05379587732528909, 'span_overlap_f1': 0.07825174486139358}\n",
            "Validation loss improved to 8.4975. Saving model state.\n",
            "--------------------------------------------------\n"
          ]
        },
        {
          "name": "stderr",
          "output_type": "stream",
          "text": [
            "Epoch 2/20: 100%|██████████| 623/623 [00:30<00:00, 20.18it/s, loss=6.34]\n"
          ]
        },
        {
          "name": "stdout",
          "output_type": "stream",
          "text": [
            "Epoch 2 Loss: 6.6717\n"
          ]
        },
        {
          "name": "stderr",
          "output_type": "stream",
          "text": [
            "Evaluating: 100%|██████████| 623/623 [00:17<00:00, 35.09it/s]\n"
          ]
        },
        {
          "name": "stdout",
          "output_type": "stream",
          "text": [
            "Training Loss: 6.0382\n",
            "Training Metrics: {'start_accuracy': 0.20404577853629155, 'start_precision': 0.20360217894521726, 'start_recall': 0.20404577853629155, 'start_f1_score': 0.18959877896982089, 'end_accuracy': 0.21970685674129103, 'end_precision': 0.2273346258211045, 'end_recall': 0.21970685674129103, 'end_f1_score': 0.20751890003815152, 'joint_exact_match': 0.12383294849914667, 'span_overlap_f1': 0.15061651000710552}\n"
          ]
        },
        {
          "name": "stderr",
          "output_type": "stream",
          "text": [
            "Evaluating: 100%|██████████| 63/63 [00:01<00:00, 34.84it/s]\n"
          ]
        },
        {
          "name": "stdout",
          "output_type": "stream",
          "text": [
            "Validation Loss: 8.8258\n",
            "Validation Metrics: {'start_accuracy': 0.11161387631975868, 'start_precision': 0.11731202179289632, 'start_recall': 0.11161387631975868, 'start_f1_score': 0.10003969993657054, 'end_accuracy': 0.11613876319758673, 'end_precision': 0.12632258033370247, 'end_recall': 0.11613876319758673, 'end_f1_score': 0.10680122571121882, 'joint_exact_match': 0.06385118149824032, 'span_overlap_f1': 0.08793874205168829}\n",
            "Validation loss did not improve. No improvement for 1 epochs.\n",
            "--------------------------------------------------\n"
          ]
        },
        {
          "name": "stderr",
          "output_type": "stream",
          "text": [
            "Epoch 3/20: 100%|██████████| 623/623 [00:30<00:00, 20.23it/s, loss=5.22]\n"
          ]
        },
        {
          "name": "stdout",
          "output_type": "stream",
          "text": [
            "Epoch 3 Loss: 6.3200\n"
          ]
        },
        {
          "name": "stderr",
          "output_type": "stream",
          "text": [
            "Evaluating: 100%|██████████| 623/623 [00:17<00:00, 35.19it/s]\n"
          ]
        },
        {
          "name": "stdout",
          "output_type": "stream",
          "text": [
            "Training Loss: 5.8453\n",
            "Training Metrics: {'start_accuracy': 0.21539002108222066, 'start_precision': 0.21315338960576938, 'start_recall': 0.21539002108222066, 'start_f1_score': 0.19998714905928416, 'end_accuracy': 0.23772713582973598, 'end_precision': 0.2421602352195144, 'end_recall': 0.23772713582973598, 'end_f1_score': 0.22582395805075234, 'joint_exact_match': 0.14019676739283204, 'span_overlap_f1': 0.16784615882879877}\n"
          ]
        },
        {
          "name": "stderr",
          "output_type": "stream",
          "text": [
            "Evaluating: 100%|██████████| 63/63 [00:01<00:00, 34.05it/s]\n"
          ]
        },
        {
          "name": "stdout",
          "output_type": "stream",
          "text": [
            "Validation Loss: 10.5118\n",
            "Validation Metrics: {'start_accuracy': 0.11412770236299648, 'start_precision': 0.10963875106927311, 'start_recall': 0.11412770236299648, 'start_f1_score': 0.10086078133849997, 'end_accuracy': 0.1282051282051282, 'end_precision': 0.12675671914321082, 'end_recall': 0.1282051282051282, 'end_f1_score': 0.11445975138425857, 'joint_exact_match': 0.06636500754147813, 'span_overlap_f1': 0.09320546969824707}\n",
            "Validation loss did not improve. No improvement for 2 epochs.\n",
            "--------------------------------------------------\n"
          ]
        },
        {
          "name": "stderr",
          "output_type": "stream",
          "text": [
            "Epoch 4/20: 100%|██████████| 623/623 [00:32<00:00, 19.01it/s, loss=6.79]\n"
          ]
        },
        {
          "name": "stdout",
          "output_type": "stream",
          "text": [
            "Epoch 4 Loss: 6.0952\n"
          ]
        },
        {
          "name": "stderr",
          "output_type": "stream",
          "text": [
            "Evaluating: 100%|██████████| 623/623 [00:19<00:00, 31.71it/s]\n"
          ]
        },
        {
          "name": "stdout",
          "output_type": "stream",
          "text": [
            "Training Loss: 5.6590\n",
            "Training Metrics: {'start_accuracy': 0.21850215841782952, 'start_precision': 0.21696535127748084, 'start_recall': 0.21850215841782952, 'start_f1_score': 0.20784106672411826, 'end_accuracy': 0.2437004316835659, 'end_precision': 0.24845623136456302, 'end_recall': 0.2437004316835659, 'end_f1_score': 0.23483581907642925, 'joint_exact_match': 0.1314125087842586, 'span_overlap_f1': 0.15875645115590153}\n"
          ]
        },
        {
          "name": "stderr",
          "output_type": "stream",
          "text": [
            "Evaluating: 100%|██████████| 63/63 [00:02<00:00, 29.26it/s]\n"
          ]
        },
        {
          "name": "stdout",
          "output_type": "stream",
          "text": [
            "Validation Loss: 9.7168\n",
            "Validation Metrics: {'start_accuracy': 0.11161387631975868, 'start_precision': 0.10646510142026955, 'start_recall': 0.11161387631975868, 'start_f1_score': 0.10081911543184142, 'end_accuracy': 0.12518853695324283, 'end_precision': 0.13787049511264574, 'end_recall': 0.12518853695324283, 'end_f1_score': 0.11744730056928336, 'joint_exact_match': 0.0628456510809452, 'span_overlap_f1': 0.08617629834194569}\n",
            "Validation loss did not improve. No improvement for 3 epochs.\n",
            "--------------------------------------------------\n"
          ]
        },
        {
          "name": "stderr",
          "output_type": "stream",
          "text": [
            "Epoch 5/20: 100%|██████████| 623/623 [00:31<00:00, 19.56it/s, loss=4.79]\n"
          ]
        },
        {
          "name": "stdout",
          "output_type": "stream",
          "text": [
            "Epoch 5 Loss: 5.5715\n"
          ]
        },
        {
          "name": "stderr",
          "output_type": "stream",
          "text": [
            "Evaluating: 100%|██████████| 623/623 [00:18<00:00, 32.94it/s]\n"
          ]
        },
        {
          "name": "stdout",
          "output_type": "stream",
          "text": [
            "Training Loss: 5.2216\n",
            "Training Metrics: {'start_accuracy': 0.24595924104005623, 'start_precision': 0.24266792306105, 'start_recall': 0.24595924104005623, 'start_f1_score': 0.23270213574183973, 'end_accuracy': 0.2720610380483887, 'end_precision': 0.2711578359177734, 'end_recall': 0.2720610380483887, 'end_f1_score': 0.26225841244789627, 'joint_exact_match': 0.16253388214034736, 'span_overlap_f1': 0.19263977898768567}\n"
          ]
        },
        {
          "name": "stderr",
          "output_type": "stream",
          "text": [
            "Evaluating: 100%|██████████| 63/63 [00:01<00:00, 33.69it/s]\n"
          ]
        },
        {
          "name": "stdout",
          "output_type": "stream",
          "text": [
            "Validation Loss: 10.9681\n",
            "Validation Metrics: {'start_accuracy': 0.11161387631975868, 'start_precision': 0.10708752115735458, 'start_recall': 0.11161387631975868, 'start_f1_score': 0.0979922389413296, 'end_accuracy': 0.13021618903971846, 'end_precision': 0.13664983515619492, 'end_recall': 0.13021618903971846, 'end_f1_score': 0.11956759231933001, 'joint_exact_match': 0.07038712921065862, 'span_overlap_f1': 0.0979220731936641}\n",
            "Validation loss did not improve. No improvement for 4 epochs.\n",
            "--------------------------------------------------\n"
          ]
        },
        {
          "name": "stderr",
          "output_type": "stream",
          "text": [
            "Epoch 6/20: 100%|██████████| 623/623 [00:31<00:00, 19.51it/s, loss=4.6] \n"
          ]
        },
        {
          "name": "stdout",
          "output_type": "stream",
          "text": [
            "Epoch 6 Loss: 5.4262\n"
          ]
        },
        {
          "name": "stderr",
          "output_type": "stream",
          "text": [
            "Evaluating: 100%|██████████| 623/623 [00:19<00:00, 32.71it/s]\n"
          ]
        },
        {
          "name": "stdout",
          "output_type": "stream",
          "text": [
            "Training Loss: 5.0807\n",
            "Training Metrics: {'start_accuracy': 0.25399056319646623, 'start_precision': 0.2502566292802019, 'start_recall': 0.25399056319646623, 'start_f1_score': 0.24260011597506584, 'end_accuracy': 0.28235116956128903, 'end_precision': 0.28179358372437197, 'end_recall': 0.28235116956128903, 'end_f1_score': 0.2740689414801526, 'joint_exact_match': 0.1657966067663889, 'span_overlap_f1': 0.19492510904423122}\n"
          ]
        },
        {
          "name": "stderr",
          "output_type": "stream",
          "text": [
            "Evaluating: 100%|██████████| 63/63 [00:01<00:00, 31.74it/s]"
          ]
        },
        {
          "name": "stdout",
          "output_type": "stream",
          "text": [
            "Validation Loss: 11.0085\n",
            "Validation Metrics: {'start_accuracy': 0.11664152840623429, 'start_precision': 0.11843908365732293, 'start_recall': 0.11664152840623429, 'start_f1_score': 0.10684639118850403, 'end_accuracy': 0.13122171945701358, 'end_precision': 0.13867289756153708, 'end_recall': 0.13122171945701358, 'end_f1_score': 0.1225025930515359, 'joint_exact_match': 0.06887883358471594, 'span_overlap_f1': 0.09453027184724076}\n",
            "Validation loss did not improve. No improvement for 5 epochs.\n",
            "Early stopping triggered.\n",
            "Loaded the best model state.\n"
          ]
        },
        {
          "name": "stderr",
          "output_type": "stream",
          "text": [
            "\n"
          ]
        }
      ],
      "source": [
        "device = torch.device('cuda' if torch.cuda.is_available() else 'cpu')\n",
        "\n",
        "model = TransformerQAModel2(\n",
        "    vocab_size=10000,\n",
        "    embed_dim= 512,\n",
        "    num_heads= 8,\n",
        "    ff_dim= 512,\n",
        "    num_q_layers = 3,\n",
        "    num_cross_layers = 3,\n",
        "    dropout = 0.1,\n",
        "    max_len = 318,\n",
        "    pad_idx = 1\n",
        ")\n",
        "model = model.to(device)\n",
        "\n",
        "# Setup an optimizer (e.g., Adam)\n",
        "optimizer = optim.AdamW(model.parameters(), lr=0.001)\n",
        "criterion = nn.CrossEntropyLoss()\n",
        "\n",
        "train_loss, val_loss = train_qa_context_model_boilerplate(\n",
        "    model=model,\n",
        "    train_dataloader=train_dataloader,\n",
        "    val_dataloader=dev_dataloader,\n",
        "    optimizer=optimizer,\n",
        "    criterion=criterion,\n",
        "    num_epochs=20,\n",
        "    device=device,\n",
        "    inputs = [\"context\",\"question\", \"attention_mask_context\", \"attention_mask_question\"],\n",
        "    evaluate_val_dataset=True,\n",
        ")\n"
      ]
    },
    {
      "cell_type": "code",
      "execution_count": 4,
      "metadata": {},
      "outputs": [
        {
          "data": {
            "image/png": "[encoded data removed]",
            "text/plain": [
              "<Figure size 1000x600 with 1 Axes>"
            ]
          },
          "metadata": {},
          "output_type": "display_data"
        }
      ],
      "source": [
        "# Plotting the training and validation loss\n",
        "plot_loss_curves(train_loss, val_loss)"
      ]
    },
    {
      "cell_type": "markdown",
      "metadata": {},
      "source": [
        "#### Save Model"
      ]
    },
    {
      "cell_type": "code",
      "execution_count": 5,
      "metadata": {
        "id": "rmP6zvJbM3J0"
      },
      "outputs": [],
      "source": [
        "model_path = \"models/qa_context_model_transformer_cross_attn.pkl\""
      ]
    },
    {
      "cell_type": "code",
      "execution_count": 6,
      "metadata": {
        "colab": {
          "base_uri": "https://localhost:8080/"
        },
        "id": "G16tYCuvM3J0",
        "outputId": "e78ea058-7c30-4537-8ff4-8a95ba7c854d"
      },
      "outputs": [
        {
          "name": "stdout",
          "output_type": "stream",
          "text": [
            "Model saved to models/qa_context_model_transformer_cross_attn.pkl\n"
          ]
        }
      ],
      "source": [
        "save_model(model, model_path)"
      ]
    },
    {
      "cell_type": "code",
      "execution_count": 7,
      "metadata": {
        "id": "tcyNyqXiM3J0"
      },
      "outputs": [
        {
          "name": "stdout",
          "output_type": "stream",
          "text": [
            "Model loaded from models/qa_context_model_transformer_cross_attn.pkl\n"
          ]
        }
      ],
      "source": [
        "device = torch.device('cuda' if torch.cuda.is_available() else 'cpu')\n",
        "model = load_model(model_path=model_path)"
      ]
    },
    {
      "cell_type": "markdown",
      "metadata": {},
      "source": [
        "#### Evaluation"
      ]
    },
    {
      "cell_type": "code",
      "execution_count": 8,
      "metadata": {
        "id": "pwnFTqXBM3J1",
        "outputId": "7e94a5ef-ada2-4a58-defc-cd367169a425"
      },
      "outputs": [
        {
          "name": "stderr",
          "output_type": "stream",
          "text": [
            "Evaluating: 100%|██████████| 623/623 [00:20<00:00, 30.39it/s]"
          ]
        },
        {
          "name": "stdout",
          "output_type": "stream",
          "text": [
            "Validation Loss: 6.7354\n",
            "Validation Metrics: {'start_accuracy': 0.18276277482180503, 'start_precision': 0.18613876394343815, 'start_recall': 0.18276277482180503, 'start_f1_score': 0.17412230264348538, 'end_accuracy': 0.20479871498845498, 'end_precision': 0.21508403024850262, 'end_recall': 0.20479871498845498, 'end_f1_score': 0.19402977422562848, 'joint_exact_match': 0.09466920991868287, 'span_overlap_f1': 0.12165630278149003}\n"
          ]
        },
        {
          "name": "stderr",
          "output_type": "stream",
          "text": [
            "\n"
          ]
        },
        {
          "data": {
            "text/plain": [
              "(6.735394742668728,\n",
              " {'start_accuracy': 0.18276277482180503,\n",
              "  'start_precision': 0.18613876394343815,\n",
              "  'start_recall': 0.18276277482180503,\n",
              "  'start_f1_score': 0.17412230264348538,\n",
              "  'end_accuracy': 0.20479871498845498,\n",
              "  'end_precision': 0.21508403024850262,\n",
              "  'end_recall': 0.20479871498845498,\n",
              "  'end_f1_score': 0.19402977422562848,\n",
              "  'joint_exact_match': 0.09466920991868287,\n",
              "  'span_overlap_f1': 0.12165630278149003})"
            ]
          },
          "execution_count": 8,
          "metadata": {},
          "output_type": "execute_result"
        }
      ],
      "source": [
        "# evaluate the model on the dev set\n",
        "criterion = nn.CrossEntropyLoss()\n",
        "device = 'cuda' if torch.cuda.is_available() else 'cpu'\n",
        "evaluate_qa_context_model_boilerplate(model=model, dataloader=train_dataloader, criterion=criterion, device=device, inputs = [\"context\",\"question\", \"attention_mask_context\", \"attention_mask_question\"])"
      ]
    },
    {
      "cell_type": "code",
      "execution_count": 9,
      "metadata": {
        "id": "0KINMB6LM3J1",
        "outputId": "a7a6a107-1d16-4dc7-897e-191e9c174461"
      },
      "outputs": [
        {
          "name": "stderr",
          "output_type": "stream",
          "text": [
            "Evaluating: 100%|██████████| 63/63 [00:02<00:00, 29.08it/s]"
          ]
        },
        {
          "name": "stdout",
          "output_type": "stream",
          "text": [
            "Validation Loss: 8.4975\n",
            "Validation Metrics: {'start_accuracy': 0.11362493715434892, 'start_precision': 0.12444251100721332, 'start_recall': 0.11362493715434892, 'start_f1_score': 0.10482065041437376, 'end_accuracy': 0.10960281548516843, 'end_precision': 0.12490755422264008, 'end_recall': 0.10960281548516843, 'end_f1_score': 0.0997945045107789, 'joint_exact_match': 0.05379587732528909, 'span_overlap_f1': 0.07825174486139358}\n"
          ]
        },
        {
          "name": "stderr",
          "output_type": "stream",
          "text": [
            "\n"
          ]
        },
        {
          "data": {
            "text/plain": [
              "(8.49748244361272,\n",
              " {'start_accuracy': 0.11362493715434892,\n",
              "  'start_precision': 0.12444251100721332,\n",
              "  'start_recall': 0.11362493715434892,\n",
              "  'start_f1_score': 0.10482065041437376,\n",
              "  'end_accuracy': 0.10960281548516843,\n",
              "  'end_precision': 0.12490755422264008,\n",
              "  'end_recall': 0.10960281548516843,\n",
              "  'end_f1_score': 0.0997945045107789,\n",
              "  'joint_exact_match': 0.05379587732528909,\n",
              "  'span_overlap_f1': 0.07825174486139358})"
            ]
          },
          "execution_count": 9,
          "metadata": {},
          "output_type": "execute_result"
        }
      ],
      "source": [
        "# evaluate the model on the dev set\n",
        "criterion = nn.CrossEntropyLoss()\n",
        "evaluate_qa_context_model_boilerplate(model=model, dataloader=dev_dataloader, criterion=criterion, device=device, inputs = [\"context\",\"question\", \"attention_mask_context\", \"attention_mask_question\"])"
      ]
    },
    {
      "cell_type": "markdown",
      "metadata": {},
      "source": [
        "##### Evaluate predictions on test set"
      ]
    },
    {
      "cell_type": "code",
      "execution_count": 10,
      "metadata": {
        "id": "OxgMim37M3J1",
        "outputId": "107f8052-6a96-4742-88de-19ef0b781b94"
      },
      "outputs": [
        {
          "name": "stderr",
          "output_type": "stream",
          "text": [
            "Predicting: 100%|██████████| 63/63 [00:02<00:00, 22.75it/s]\n"
          ]
        }
      ],
      "source": [
        "preds, true_labels, contexts, questions = predict_qa_context_model_boilerplate(model=model, dataloader=dev_dataloader, tokenizer=tokenizer, device=device, inputs = [\"context\",\"question\", \"attention_mask_context\", \"attention_mask_question\"])"
      ]
    },
    {
      "cell_type": "code",
      "execution_count": 11,
      "metadata": {
        "id": "4tpz8QPkM3J2",
        "outputId": "35d18808-40e2-456e-8080-370dff9f68d0"
      },
      "outputs": [
        {
          "name": "stdout",
          "output_type": "stream",
          "text": [
            "Question: how many khitan tumens were there ?\n",
            "Context: many han chinese and khitan defected to the mongols to fight against the jin . two han chinese leaders , shi tianze , liu heima ( 劉, liu ni ), and the khitan xiao zhala ( ) defected and commanded the 3 tumens in the mongol army . liu heima and shi tianze served ogödei khan . liu heima and shi tianxiang led armies against western xia for the mongols . there were 4 han tumens and 3 khitan tumens , with each tumen consisting of 10 , 000 troops . the three khitan generals shimobeidier ( 石), tabuyir ( 不) and xiaozhacizhizizhongxi ( 之子重喜 ) commanded the three khitan tumens and the four han generals zhang rou , yan shi , shi tianze , and liu heima commanded the four han tumens under ogödei khan .\n",
            "Predicted Answer: \n",
            "True Answer: 3\n",
            "--------------------------------------------------\n",
            "Question: what is the atomic number of the element oxygen ?\n",
            "Context: oxygen is a chemical element with symbol o and atomic number 8 . it is a member of the chalcogen group on the periodic table and is a highly reactive nonmetal and oxidizing agent that readily forms compounds ( notably oxides ) with most elements . by mass , oxygen is the third - most abundant element in the universe , after hydrogen and helium . at standard temperature and pressure , two atoms of the element bind to form dioxygen , a colorless and odorless diatomic gas with the formula o 2 . diatomic oxygen gas constitutes 20 . 8 % of the earth ' s atmosphere . however , monitoring of atmospheric oxygen levels show a global downward trend , because of fossil - fuel burning . oxygen is the most abundant element by mass in the earth ' s crust as part of oxide compounds such as silicon dioxide , making up almost half of the crust ' s mass .\n",
            "Predicted Answer: 20 . 8 %\n",
            "True Answer: 8\n",
            "--------------------------------------------------\n",
            "Question: the atomic number of the periodic table for oxygen ?\n",
            "Context: oxygen is a chemical element with symbol o and atomic number 8 . it is a member of the chalcogen group on the periodic table and is a highly reactive nonmetal and oxidizing agent that readily forms compounds ( notably oxides ) with most elements . by mass , oxygen is the third - most abundant element in the universe , after hydrogen and helium . at standard temperature and pressure , two atoms of the element bind to form dioxygen , a colorless and odorless diatomic gas with the formula o 2 . diatomic oxygen gas constitutes 20 . 8 % of the earth ' s atmosphere . however , monitoring of atmospheric oxygen levels show a global downward trend , because of fossil - fuel burning . oxygen is the most abundant element by mass in the earth ' s crust as part of oxide compounds such as silicon dioxide , making up almost half of the crust ' s mass .\n",
            "Predicted Answer: 20 . 8 %\n",
            "True Answer: 8\n",
            "--------------------------------------------------\n",
            "Question: how many campuses does the university of california have ?\n",
            "Context: the tech coast is a moniker that has gained use as a descriptor for the region ' s diversified technology and industrial base as well as its multitude of prestigious and world - renowned research universities and other public and private institutions . amongst these include 5 university of california campuses ( irvine , los angeles , riverside , santa barbara , and san diego ); 12 california state university campuses ( bakersfield , channel islands , dominguez hills , fullerton , los angeles , long beach , northridge , pomona , san bernardino , san diego , san marcos , and san luis obispo ); and private institutions such as the california institute of technology , chapman university , the claremont colleges ( claremont mckenna college , harvey mudd college , pitzer college , pomona college , and scripps college ), loma linda university , loyola marymount university , occidental college , pepperdine university , university of redlands , university of san diego , and the university of southern california .\n",
            "Predicted Answer: \n",
            "True Answer: 5\n",
            "--------------------------------------------------\n",
            "Question: how many cylinders does the energiprojekt ab engine have ?\n",
            "Context: although the reciprocating steam engine is no longer in widespread commercial use , various companies are exploring or exploiting the potential of the engine as an alternative to internal combustion engines . the company energiprojekt ab in sweden has made progress in using modern materials for harnessing the power of steam . the efficiency of energiprojekt ' s steam engine reaches some 27 - 30 % on high - pressure engines . it is a single - step , 5 - cylinder engine ( no compound ) with superheated steam and consumes approx . 4 kg ( 8 . 8 lb ) of steam per kwh .[ not in citation given ]\n",
            "Predicted Answer: 30 %\n",
            "True Answer: 5\n",
            "--------------------------------------------------\n",
            "Question: what number did early greeks not regard as a true number ?\n",
            "Context: most early greeks did not even consider 1 to be a number , so they could not consider it to be a prime . by the middle ages and renaissance many mathematicians included 1 as the first prime number . in the mid - 18th century christian goldbach listed 1 as the first prime in his famous correspondence with leonhard euler -- who did not agree . in the 19th century many mathematicians still considered the number 1 to be a prime . for example , derrick norman lehmer ' s list of primes up to 10 , 006 , 721 , reprinted as late as 1956 , started with 1 as its first prime . henri lebesgue is said to be the last professional mathematician to call 1 prime . by the early 20th century , mathematicians began to accept that 1 is not a prime number , but rather forms its own special category as a \" unit \".\n",
            "Predicted Answer: 1956\n",
            "True Answer: 1\n",
            "--------------------------------------------------\n",
            "Question: any even number larger than what cannot be considered prime ?\n",
            "Context: hence , 6 is not prime . the image at the right illustrates that 12 is not prime : 12 = 3 · 4 . no even number greater than 2 is prime because by definition , any such number n has at least three distinct divisors , namely 1 , 2 , and n . this implies that n is not prime . accordingly , the term odd prime refers to any prime number greater than 2 . similarly , when written in the usual decimal system , all prime numbers larger than 5 end in 1 , 3 , 7 , or 9 , since even numbers are multiples of 2 and numbers ending in 0 or 5 are multiples of 5 .\n",
            "Predicted Answer: 12 = 3 · 4 . no even number greater than 2 is prime because by definition , any such number n has at least three distinct divisors , namely 1 , 2 , and n . this implies that n is not prime . accordingly , the term odd prime refers to any prime number greater than 2 . similarly , when written in the usual decimal system , all prime numbers larger than 5 end in 1 , 3 , 7 , or 9\n",
            "True Answer: 2\n",
            "--------------------------------------------------\n",
            "Question: what article of the grundgesetz grants the right to make private schools ?\n",
            "Context: the right to create private schools in germany is in article 7 , paragraph 4 of the grundgesetz and cannot be suspended even in a state of emergency . it is also not possible to abolish these rights . this unusual protection of private schools was implemented to protect these schools from a second gleichschaltung or similar event in the future . still , they are less common than in many other countries . overall , between 1992 and 2008 the percent of pupils in such schools in germany increased from 6 . 1 % to 7 . 8 % ( including rise from 0 . 5 % to 6 . 1 % in the former gdr ). percent of students in private high schools reached 11 . 1 %.\n",
            "Predicted Answer: 1992 and 2008 the percent of pupils in such schools in germany increased from 6 . 1 % to 7 . 8 % ( including rise from 0 . 5 % to 6 . 1 %\n",
            "True Answer: 7\n",
            "--------------------------------------------------\n",
            "Question: besides 1 , 3 and 7 , what other number must all primes greater than 5 end with ?\n",
            "Context: hence , 6 is not prime . the image at the right illustrates that 12 is not prime : 12 = 3 · 4 . no even number greater than 2 is prime because by definition , any such number n has at least three distinct divisors , namely 1 , 2 , and n . this implies that n is not prime . accordingly , the term odd prime refers to any prime number greater than 2 . similarly , when written in the usual decimal system , all prime numbers larger than 5 end in 1 , 3 , 7 , or 9 , since even numbers are multiples of 2 and numbers ending in 0 or 5 are multiples of 5 .\n",
            "Predicted Answer: 12 = 3 · 4 . no even number greater than 2 is prime because by definition , any such number n has at least three distinct divisors , namely 1 , 2 , and n . this implies that n is not prime . accordingly , the term odd prime refers to any prime number greater than 2 . similarly , when written in the usual decimal system , all prime numbers larger than 5 end in 1 , 3 , 7 , or 9\n",
            "True Answer: 9\n",
            "--------------------------------------------------\n",
            "Question: what variable is associated with all problems solved within logarithmic space ?\n",
            "Context: similarly , it is not known if l ( the set of all problems that can be solved in logarithmic space ) is strictly contained in p or equal to p . again , there are many complexity classes between the two , such as nl and nc , and it is not known if they are distinct or equal classes .\n",
            "Predicted Answer: ( the set of all problems that can be solved in logarithmic space ) is strictly contained in p or equal to p . again , there are many complexity classes between the two , such as nl and nc\n",
            "True Answer: l\n",
            "--------------------------------------------------\n",
            "Question: what percentage of british children are educated at gsce level in fee - paying schools ?\n",
            "Context: private schools generally prefer to be called independent schools , because of their freedom to operate outside of government and local government control . some of these are also known as public schools . preparatory schools in the uk prepare pupils aged up to 13 years old to enter public schools . the name \" public school \" is based on the fact that the schools were open to pupils from anywhere , and not merely to those from a certain locality , and of any religion or occupation . according to the good schools guide approximately 9 per cent of children being educated in the uk are doing so at fee - paying schools at gsce level and 13 per cent at a - level .[ citation needed ] many independent schools are single - sex ( though this is becoming less common ). fees range from under £ 3 , 000 to £ 21 , 000 and above per year for day pupils , rising to £ 27 , 000 + per year for boarders . for details in scotland , see \" meeting the cost \".\n",
            "Predicted Answer: £ 3 , 000\n",
            "True Answer: 9\n",
            "--------------------------------------------------\n",
            "Question: what complexity class is characterized by a computational tasks and efficient algorithms ?\n",
            "Context: the complexity class p is often seen as a mathematical abstraction modeling those computational tasks that admit an efficient algorithm . this hypothesis is called the cobham – edmonds thesis . the complexity class np , on the other hand , contains many problems that people would like to solve efficiently , but for which no efficient algorithm is known , such as the boolean satisfiability problem , the hamiltonian path problem and the vertex cover problem . since deterministic turing machines are special non - deterministic turing machines , it is easily observed that each problem in p is also member of the class np .\n",
            "Predicted Answer: \n",
            "True Answer: p\n",
            "--------------------------------------------------\n",
            "Question: how many members in the seats of the scottish parliament are members of the scottish government ?\n",
            "Context: the debating chamber of the scottish parliament has seating arranged in a hemicycle , which reflects the desire to encourage consensus amongst elected members . there are 131 seats in the debating chamber . of the total 131 seats , 129 are occupied by the parliament ' s elected msps and 2 are seats for the scottish law officers – the lord advocate and the solicitor general for scotland , who are not elected members of the parliament but are members of the scottish government . as such the law officers may attend and speak in the plenary meetings of the parliament but , as they are not elected msps , cannot vote . members are able to sit anywhere in the debating chamber , but typically sit in their party groupings . the first minister , scottish cabinet ministers and law officers sit in the front row , in the middle section of the chamber . the largest party in the parliament sits in the middle of the semicircle , with opposing parties on either side . the presiding officer , parliamentary clerks and officials sit opposite members at the front of the debating chamber .\n",
            "Predicted Answer: 131 seats in the debating chamber . of the total 131 seats , 129 are occupied by the parliament ' s elected msps and 2\n",
            "True Answer: 2\n",
            "--------------------------------------------------\n",
            "Question: how many vector equations did heaviside and gibbs reformilate max\n",
            "Context: the origin of electric and magnetic fields would not be fully explained until 1864 when james clerk maxwell unified a number of earlier theories into a set of 20 scalar equations , which were later reformulated into 4 vector equations by oliver heaviside and josiah willard gibbs . these \" maxwell equations \" fully described the sources of the fields as being stationary and moving charges , and the interactions of the fields themselves . this led maxwell to discover that electric and magnetic fields could be \" self - generating \" through a wave that traveled at a speed that he calculated to be the speed of light . this insight united the nascent fields of electromagnetic theory with optics and led directly to a complete description of the electromagnetic spectrum .\n",
            "Predicted Answer: 1864\n",
            "True Answer: 4\n",
            "--------------------------------------------------\n",
            "Question: the integer factorization problem essentially seeks to determine if the value of of an input is\n",
            "Context: the integer factorization problem is the computational problem of determining the prime factorization of a given integer . phrased as a decision problem , it is the problem of deciding whether the input has a factor less than k . no efficient integer factorization algorithm is known , and this fact forms the basis of several modern cryptographic systems , such as the rsa algorithm . the integer factorization problem is in np and in co - np ( and even in up and co - up ). if the problem is np - complete , the polynomial time hierarchy will collapse to its first level ( i . e ., np will equal co - np ). the best known algorithm for integer factorization is the general number field sieve , which takes time o ( e ( 64 / 9 ) 1 / 3 ( n . log 2 ) 1 / 3 ( log ( n . log 2 )) 2 / 3 ) to factor an n - bit integer . however , the best known quantum algorithm for this problem , shor ' s algorithm , does run in polynomial time . unfortunately , this fact doesn ' t say much about where the problem lies with respect to non - quantum complexity classes .\n",
            "Predicted Answer: ( n . log 2 ) 1 / 3\n",
            "True Answer: k\n",
            "--------------------------------------------------\n",
            "Question: how many museums are in warsaw ?\n",
            "Context: as interesting examples of expositions the most notable are : the world ' s first museum of posters boasting one of the largest collections of art posters in the world , museum of hunting and riding and the railway museum . from among warsaw ' s 60 museums , the most prestigious ones are national museum with a collection of works whose origin ranges in time from antiquity till the present epoch as well as one of the best collections of paintings in the country including some paintings from adolf hitler ' s private collection , and museum of the polish army whose set portrays the history of arms .\n",
            "Predicted Answer: 60\n",
            "True Answer: 60\n",
            "--------------------------------------------------\n",
            "Question: what light radiation does ozone absorb ?\n",
            "Context: trioxygen ( o 3 ) is usually known as ozone and is a very reactive allotrope of oxygen that is damaging to lung tissue . ozone is produced in the upper atmosphere when o 2 combines with atomic oxygen made by the splitting of o 2 by ultraviolet ( uv ) radiation . since ozone absorbs strongly in the uv region of the spectrum , the ozone layer of the upper atmosphere functions as a protective radiation shield for the planet . near the earth ' s surface , it is a pollutant formed as a by - product of automobile exhaust . the metastable molecule tetraoxygen ( o 4 ) was discovered in 2001 , and was assumed to exist in one of the six phases of solid oxygen . it was proven in 2006 that this phase , created by pressurizing o 2 to 20 gpa , is in fact a rhombohedral o 8 cluster . this cluster has the potential to be a much more powerful oxidizer than either o 2 or o 3 and may therefore be used in rocket fuel . a metallic phase was discovered in 1990 when solid oxygen is subjected to a pressure of above 96 gpa and it was shown in 1998 that at very low temperatures , this phase becomes superconducting .\n",
            "Predicted Answer: oxygen\n",
            "True Answer: uv\n",
            "--------------------------------------------------\n",
            "Question: what is the number of constituency msps ?\n",
            "Context: of the 129 msps , 73 are elected to represent first past the post constituencies and are known as \" constituency msps \". voters choose one member to represent the constituency , and the member with most votes is returned as a constituency msp . the 73 scottish parliament constituencies shared the same boundaries as the uk parliament constituencies in scotland , prior to the 2005 reduction in the number of scottish mps , with the exception of orkney and shetland which each return their own constituency msp . currently , the average scottish parliament constituency comprises 55 , 000 electors . given the geographical distribution of population in scotland , this results in constituencies of a smaller area in the central lowlands , where the bulk of scotland ' s population live , and much larger constituency areas in the north and west of the country , which have a low population density . the island archipelagos of orkney , shetland and the western isles comprise a much smaller number of electors , due to their dispersed population and distance from the scottish parliament in edinburgh . if a constituency msp resigns from parliament , this triggers a by - election in his or her constituency , where a replacement msp is returned from one of the parties by the plurality system .\n",
            "Predicted Answer: 129 msps , 73 are elected to represent first past the post constituencies and are known as \" constituency msps \". voters choose one member to represent the constituency , and the member with most votes is returned as a constituency msp . the 73 scottish parliament constituencies shared the same boundaries as the uk parliament constituencies in scotland , prior to the 2005\n",
            "True Answer: 73\n",
            "--------------------------------------------------\n",
            "Question: how many natural reserves are in warsaw ?\n",
            "Context: there are 13 natural reserves in warsaw – among others , bielany forest , kabaty woods , czerniaków lake . about 15 kilometres ( 9 miles ) from warsaw , the vistula river ' s environment changes strikingly and features a perfectly preserved ecosystem , with a habitat of animals that includes the otter , beaver and hundreds of bird species . there are also several lakes in warsaw – mainly the oxbow lakes , like czerniaków lake , the lakes in the łazienki or wilanów parks , kamionek lake . there are lot of small lakes in the parks , but only a few are permanent – the majority are emptied before winter to clean them of plants and sediments .\n",
            "Predicted Answer: \n",
            "True Answer: 13\n",
            "--------------------------------------------------\n",
            "Question: how many total judges are there in the eu ?\n",
            "Context: the judicial branch of the eu has played an important role in the development of eu law , by assuming the task of interpreting the treaties , and accelerating economic and political integration . today the court of justice of the european union ( cjeu ) is the main judicial body , within which there is a higher european court of justice ( commonly abbreviated as ecj ) that deals with cases that contain more public importance , and a general court that deals with issues of detail but without general importance . there is also a civil service tribunal to deal with eu staff issues , and then a separate court of auditors . under the treaty on european union article 19 ( 2 ) there is one judge from each member state , 28 at present , who are supposed to \" possess the qualifications required for appointment to the highest judicial offices \" ( or for the general court , the \" ability required for appointment to high judicial office \"). a president is elected by the judges for three years . under teu article 19 ( 3 ) is to be the ultimate court to interpret questions of eu law . in fact , most eu law is applied by member state courts ( the english court of appeal , the german bundesgerichtshof , the belgian cour du travail , etc .) but they can refer questions to the eu court for a preliminary ruling . the cjeu ' s duty is to \" ensure that in the interpretation and application of the treaties the law is observed \", although realistically it\n",
            "Predicted Answer: 19\n",
            "True Answer: 28\n",
            "--------------------------------------------------\n",
            "Question: how many examination boards exist in india ?\n",
            "Context: in india , private schools are called independent schools , but since some private schools receive financial aid from the government , it can be an aided or an unaided school . so , in a strict sense , a private school is an unaided independent school . for the purpose of this definition , only receipt of financial aid is considered , not land purchased from the government at a subsidized rate . it is within the power of both the union government and the state governments to govern schools since education appears in the concurrent list of legislative subjects in the constitution . the practice has been for the union government to provide the broad policy directions while the states create their own rules and regulations for the administration of the sector . among other things , this has also resulted in 30 different examination boards or academic authorities that conduct examinations for school leaving certificates . prominent examination boards that are present in multiple states are the cbse and the cisce , nenbse\n",
            "Predicted Answer: 30\n",
            "True Answer: 30\n",
            "--------------------------------------------------\n",
            "Question: what is the scientific designation of oxygen ?\n",
            "Context: the common allotrope of elemental oxygen on earth is called dioxygen , o 2 . it is the form that is a major part of the earth ' s atmosphere ( see occurrence ). o2 has a bond length of 121 pm and a bond energy of 498 kj · mol − 1 , which is smaller than the energy of other double bonds or pairs of single bonds in the biosphere and responsible for the exothermic reaction of o2 with any organic molecule . due to its energy content , o2 is used by complex forms of life , such as animals , in cellular respiration ( see biological role ). other aspects of o 2 are covered in the remainder of this article .\n",
            "Predicted Answer: 498\n",
            "True Answer: o2\n",
            "--------------------------------------------------\n",
            "Question: what was dalton ' s erroneous formula for water ?\n",
            "Context: john dalton ' s original atomic hypothesis assumed that all elements were monatomic and that the atoms in compounds would normally have the simplest atomic ratios with respect to one another . for example , dalton assumed that water ' s formula was ho , giving the atomic mass of oxygen as 8 times that of hydrogen , instead of the modern value of about 16 . in 1805 , joseph louis gay - lussac and alexander von humboldt showed that water is formed of two volumes of hydrogen and one volume of oxygen ; and by 1811 amedeo avogadro had arrived at the correct interpretation of water ' s composition , based on what is now called avogadro ' s law and the assumption of diatomic elemental molecules .[ a ]\n",
            "Predicted Answer: \n",
            "True Answer: ho\n",
            "--------------------------------------------------\n",
            "Question: which country is a traditional ally of israel ?\n",
            "Context: the embargo was not uniform across europe . of the nine members of the european economic community ( eec ), the netherlands faced a complete embargo , the uk and france received almost uninterrupted supplies ( having refused to allow america to use their airfields and embargoed arms and supplies to both the arabs and the israelis ), while the other six faced partial cutbacks . the uk had traditionally been an ally of israel , and harold wilson ' s government supported the israelis during the six - day war . his successor , ted heath , reversed this policy in 1970 , calling for israel to withdraw to its pre - 1967 borders .\n",
            "Predicted Answer: nine\n",
            "True Answer: uk\n",
            "--------------------------------------------------\n",
            "Question: which country is not badly hit by the embargo ?\n",
            "Context: despite being relatively unaffected by the embargo , the uk nonetheless faced an oil crisis of its own - a series of strikes by coal miners and railroad workers over the winter of 1973 – 74 became a major factor in the change of government . heath asked the british to heat only one room in their houses over the winter . the uk , germany , italy , switzerland and norway banned flying , driving and boating on sundays . sweden rationed gasoline and heating oil . the netherlands imposed prison sentences for those who used more than their ration of electricity .\n",
            "Predicted Answer: 1973\n",
            "True Answer: uk\n",
            "--------------------------------------------------\n",
            "Question: how many members are on the warsaw city counil ?\n",
            "Context: legislative power in warsaw is vested in a unicameral warsaw city council ( rada miasta ), which comprises 60 members . council members are elected directly every four years . like most legislative bodies , the city council divides itself into committees which have the oversight of various functions of the city government . bills passed by a simple majority are sent to the mayor ( the president of warsaw ), who may sign them into law . if the mayor vetoes a bill , the council has 30 days to override the veto by a two - thirds majority vote .\n",
            "Predicted Answer: four years . like most legislative bodies , the city council divides itself into committees which have the oversight of various functions of the city government . bills passed by a simple majority are sent to the mayor ( the president of warsaw ), who may sign them into law . if the mayor vetoes a bill , the council has 30\n",
            "True Answer: 60\n",
            "--------------------------------------------------\n",
            "Question: how many seats does victoria have in the senate ?\n",
            "Context: politically , victoria has 37 seats in the australian house of representatives and 12 seats in the australian senate . at state level , the parliament of victoria consists of the legislative assembly ( the lower house ) and the legislative council ( the upper house ). victoria is currently governed by the labor party , with daniel andrews the current premier . the personal representative of the queen of australia in the state is the governor of victoria , currently linda dessau . local government is concentrated in 79 municipal districts , including 33 cities , although a number of unincorporated areas still exist , which are administered directly by the state .\n",
            "Predicted Answer: 12\n",
            "True Answer: 12\n",
            "--------------------------------------------------\n",
            "Question: how old was toghun temur when he became emperor ?\n",
            "Context: after the death of tugh temür in 1332 and subsequent death of rinchinbal ( emperor ningzong ) the same year , the 13 - year - old toghun temür ( emperor huizong ), the last of the nine successors of kublai khan , was summoned back from guangxi and succeeded to the throne . after el temür ' s death , bayan became as powerful an official as el temür had been in the beginning of his long reign . as toghun temür grew , he came to disapprove of bayan ' s autocratic rule . in 1340 he allied himself with bayan ' s nephew toqto ' a , who was in discord with bayan , and banished bayan by coup . with the dismissal of bayan , toghtogha seized the power of the court . his first administration clearly exhibited fresh new spirit . he also gave a few early signs of a new and positive direction in central government . one of his successful projects was to finish the long - stalled official histories of the liao , jin , and song dynasties , which were eventually completed in 1345 . yet , toghtogha resigned his office with the approval of toghun temür , marking the end of his first administration , and he was not called back until 1349 .\n",
            "Predicted Answer: 1332 and subsequent death of rinchinbal ( emperor ningzong ) the same year , the 13 - year - old toghun temür ( emperor huizong ), the last of the nine\n",
            "True Answer: 13\n",
            "--------------------------------------------------\n",
            "Question: what is the weight of a bushel of coal in pounds ?\n",
            "Context: the historical measure of a steam engine ' s energy efficiency was its \" duty \". the concept of duty was first introduced by watt in order to illustrate how much more efficient his engines were over the earlier newcomen designs . duty is the number of foot - pounds of work delivered by burning one bushel ( 94 pounds ) of coal . the best examples of newcomen designs had a duty of about 7 million , but most were closer to 5 million . watt ' s original low - pressure designs were able to deliver duty as high as 25 million , but averaged about 17 . this was a three - fold improvement over the average newcomen design . early watt engines equipped with high - pressure steam improved this to 65 million .\n",
            "Predicted Answer: 17\n",
            "True Answer: 94\n",
            "--------------------------------------------------\n",
            "Question: how many megaregions are there in the united states ?\n",
            "Context: the 8 - and 10 - county definitions are not used for the greater southern california megaregion , one of the 11 megaregions of the united states . the megaregion ' s area is more expansive , extending east into las vegas , nevada , and south across the mexican border into tijuana .\n",
            "Predicted Answer: \n",
            "True Answer: 11\n",
            "--------------------------------------------------\n",
            "Question: can bskyb veto the presence of channels on their epg ?\n",
            "Context: bskyb has no veto over the presence of channels on their epg , with open access being an enforced part of their operating licence from ofcom . any channel which can get carriage on a suitable beam of a satellite at 28 ° east is entitled to access to bskyb ' s epg for a fee , ranging from £ 15 – 100 , 000 . third - party channels which opt for encryption receive discounts ranging from reduced price to free epg entries , free carriage on a bskyb leased transponder , or actual payment for being carried . however , even in this case , bskyb does not carry any control over the channel ' s content or carriage issues such as picture quality .\n",
            "Predicted Answer: £ 15 – 100 , 000\n",
            "True Answer: no\n",
            "--------------------------------------------------\n",
            "Question: how many rooms does the warsaw historical museum have ?\n",
            "Context: a fine tribute to the fall of warsaw and history of poland can be found in the warsaw uprising museum and in the katyń museum which preserves the memory of the crime . the warsaw uprising museum also operates a rare preserved and operating historic stereoscopic theatre , the warsaw fotoplastikon . the museum of independence preserves patriotic and political objects connected with poland ' s struggles for independence . dating back to 1936 warsaw historical museum contains 60 rooms which host a permanent exhibition of the history of warsaw from its origins until today .\n",
            "Predicted Answer: 1936 warsaw historical museum contains 60\n",
            "True Answer: 60\n",
            "--------------------------------------------------\n",
            "Question: how much capital did uk law require to start a company ?\n",
            "Context: in regard to companies , the court of justice held in r ( daily mail and general trust plc ) v hm treasury that member states could restrict a company moving its seat of business , without infringing tfeu article 49 . this meant the daily mail newspaper ' s parent company could not evade tax by shifting its residence to the netherlands without first settling its tax bills in the uk . the uk did not need to justify its action , as rules on company seats were not yet harmonised . by contrast , in centros ltd v erhversus - og selkabssyrelsen the court of justice found that a uk limited company operating in denmark could not be required to comply with denmark ' s minimum share capital rules . uk law only required £ 1 of capital to start a company , while denmark ' s legislature took the view companies should only be started up if they had 200 , 000 danish krone ( around € 27 , 000 ) to protect creditors if the company failed and went insolvent . the court of justice held that denmark ' s minimum capital law infringed centros ltd ' s freedom of establishment and could not be justified , because a company in the uk could admittedly provide services in denmark without being established there , and there were less restrictive means of achieving the aim of creditor protection . this approach was criticised as potentially opening the eu to unjustified regulatory competition , and a race to the\n",
            "Predicted Answer: £ 1 of capital to start a company , while denmark ' s legislature took the view companies should only be started up if they had 200 , 000 danish krone ( around € 27 , 000\n",
            "True Answer: £ 1\n",
            "--------------------------------------------------\n",
            "Question: how many avulsions have occurred in the past 6000 yeas ?\n",
            "Context: since ~ 3000 yr bp (= years before present ), human impact is seen in the delta . as a result of increasing land clearance ( bronze age agriculture ), in the upland areas ( central germany ), the sediment load of the rhine has strongly increased and delta growth has sped up . this caused increased flooding and sedimentation , ending peat formation in the delta . the shifting of river channels to new locations , on the floodplain ( termed avulsion ), was the main process distributing sediment across the subrecent delta . over the past 6000 years , approximately 80 avulsions have occurred . direct human impact in the delta started with peat mining , for salt and fuel , from roman times onward . this was followed by embankment , of the major distributaries and damming of minor distributaries , which took place in the 11 – 13th century ad . thereafter , canals were dug , bends were short cut and groynes were built , to prevent the river ' s channels from migrating or silting up .\n",
            "Predicted Answer: 3000\n",
            "True Answer: 80\n",
            "--------------------------------------------------\n",
            "Question: what is the high end of the temperature range in winter ?\n",
            "Context: southern california contains a mediterranean climate , with infrequent rain and many sunny days . summers are hot and dry , while winters are a bit warm or mild and wet . serious rain can occur unusually . in the summers , temperature ranges are 90 - 60 ' s while as winters are 70 - 50 ' s , usually all of southern california have mediterranean climate . but snow is very rare in the southwest of the state , it occurs on the southeast of the state .\n",
            "Predicted Answer: 90 - 60 ' s while as winters are 70\n",
            "True Answer: 70\n",
            "--------------------------------------------------\n",
            "Question: what was the average duty of a low - pressure watt engine ?\n",
            "Context: the historical measure of a steam engine ' s energy efficiency was its \" duty \". the concept of duty was first introduced by watt in order to illustrate how much more efficient his engines were over the earlier newcomen designs . duty is the number of foot - pounds of work delivered by burning one bushel ( 94 pounds ) of coal . the best examples of newcomen designs had a duty of about 7 million , but most were closer to 5 million . watt ' s original low - pressure designs were able to deliver duty as high as 25 million , but averaged about 17 . this was a three - fold improvement over the average newcomen design . early watt engines equipped with high - pressure steam improved this to 65 million .\n",
            "Predicted Answer: 17\n",
            "True Answer: 17\n",
            "--------------------------------------------------\n",
            "Question: how many city officials were indicted due to corruption ?\n",
            "Context: in the mid - 1960s , corruption scandals began to arise among many of the city ' s officials , who were mainly elected through the traditional old boy network . after a grand jury was convened to investigate , 11 officials were indicted and more were forced to resign . jacksonville consolidation , led by j . j . daniel and claude yates , began to win more support during this period , from both inner city blacks , who wanted more involvement in government , and whites in the suburbs , who wanted more services and more control over the central city . in 1964 all 15 of duval county ' s public high schools lost their accreditation . this added momentum to proposals for government reform . lower taxes , increased economic development , unification of the community , better public spending and effective administration by a more central authority were all cited as reasons for a new consolidated government .\n",
            "Predicted Answer: 1964\n",
            "True Answer: 11\n",
            "--------------------------------------------------\n",
            "Question: how many medieval warm period reconstructions were used ?\n",
            "Context: the ipcc fourth assessment report ( ar4 ) published in 2007 featured a graph showing 12 proxy based temperature reconstructions , including the three highlighted in the 2001 third assessment report ( tar ); mann , bradley & hughes 1999 as before , jones et al . 1998 and briffa 2000 had both been calibrated by newer studies . in addition , analysis of the medieval warm period cited reconstructions by crowley & lowery 2000 ( as cited in the tar ) and osborn & briffa 2006 . ten of these 14 reconstructions covered 1 , 000 years or longer . most reconstructions shared some data series , particularly tree ring data , but newer reconstructions used additional data and covered a wider area , using a variety of statistical methods . the section discussed the divergence problem affecting certain tree ring data .\n",
            "Predicted Answer: 2007 featured a graph showing 12 proxy based temperature reconstructions , including the three highlighted in the 2001 third assessment report ( tar ); mann , bradley & hughes 1999 as before , jones et al . 1998 and briffa 2000 had both been calibrated by newer studies . in addition , analysis of the medieval warm period cited reconstructions by crowley & lowery 2000 ( as cited in the tar ) and osborn & briffa 2006 . ten of these 14 reconstructions covered 1 , 000\n",
            "True Answer: 14\n",
            "--------------------------------------------------\n",
            "Question: what type of electric current is needed for electrolysis ?\n",
            "Context: oxygen gas can also be produced through electrolysis of water into molecular oxygen and hydrogen . dc electricity must be used : if ac is used , the gases in each limb consist of hydrogen and oxygen in the explosive ratio 2 : 1 . contrary to popular belief , the 2 : 1 ratio observed in the dc electrolysis of acidified water does not prove that the empirical formula of water is h2o unless certain assumptions are made about the molecular formulae of hydrogen and oxygen themselves . a similar method is the electrocatalytic o 2 evolution from oxides and oxoacids . chemical catalysts can be used as well , such as in chemical oxygen generators or oxygen candles that are used as part of the life - support equipment on submarines , and are still part of standard equipment on commercial airliners in case of depressurization emergencies . another air separation technology involves forcing air to dissolve through ceramic membranes based on zirconium dioxide by either high pressure or an electric current , to produce nearly pure o 2 gas .\n",
            "Predicted Answer: \n",
            "True Answer: dc\n",
            "--------------------------------------------------\n",
            "Question: what percentage of france ' s population is protestant today ?\n",
            "Context: approximately one million protestants in modern france represent some 2 % of its population . most are concentrated in alsace in northeast france and the cévennes mountain region in the south , who still regard themselves as huguenots to this day .[ citation needed ] a diaspora of french australians still considers itself huguenot , even after centuries of exile . long integrated into australian society , it is encouraged by the huguenot society of australia to embrace and conserve its cultural heritage , aided by the society ' s genealogical research services .\n",
            "Predicted Answer: 2 %\n",
            "True Answer: 2 %\n",
            "--------------------------------------------------\n",
            "Question: how many campuses does the california state university have ?\n",
            "Context: the tech coast is a moniker that has gained use as a descriptor for the region ' s diversified technology and industrial base as well as its multitude of prestigious and world - renowned research universities and other public and private institutions . amongst these include 5 university of california campuses ( irvine , los angeles , riverside , santa barbara , and san diego ); 12 california state university campuses ( bakersfield , channel islands , dominguez hills , fullerton , los angeles , long beach , northridge , pomona , san bernardino , san diego , san marcos , and san luis obispo ); and private institutions such as the california institute of technology , chapman university , the claremont colleges ( claremont mckenna college , harvey mudd college , pitzer college , pomona college , and scripps college ), loma linda university , loyola marymount university , occidental college , pepperdine university , university of redlands , university of san diego , and the university of southern california .\n",
            "Predicted Answer: \n",
            "True Answer: 12\n",
            "--------------------------------------------------\n",
            "Question: how many general principles does the social charter declare ?\n",
            "Context: the social chapter is a chapter of the 1997 treaty of amsterdam covering social policy issues in european union law . the basis for the social chapter was developed in 1989 by the \" social partners \" representatives , namely unice , the employers ' confederation , the european trade union confederation ( etuc ) and ceep , the european centre of public enterprises . a toned down version was adopted as the social charter at the 1989 strasbourg european council . the social charter declares 30 general principles , including on fair remuneration of employment , health and safety at work , rights of disabled and elderly , the rights of workers , on vocational training and improvements of living conditions . the social charter became the basis for european community legislation on these issues in 40 pieces of legislation .\n",
            "Predicted Answer: 1997\n",
            "True Answer: 30\n",
            "--------------------------------------------------\n",
            "Question: how many academic majors does the university grant in total ?\n",
            "Context: the college of the university of chicago grants bachelor of arts and bachelor of science degrees in 50 academic majors and 28 minors . the college ' s academics are divided into five divisions : the biological sciences collegiate division , the physical sciences collegiate division , the social sciences collegiate division , the humanities collegiate division , and the new collegiate division . the first four are sections within their corresponding graduate divisions , while the new collegiate division administers interdisciplinary majors and studies which do not fit in one of the other four divisions .\n",
            "Predicted Answer: four are sections within their corresponding graduate divisions , while the new collegiate division administers interdisciplinary majors and studies which do not fit in one of the other four\n",
            "True Answer: 50\n",
            "--------------------------------------------------\n",
            "Question: how many academic minors does the university grant in total ?\n",
            "Context: the college of the university of chicago grants bachelor of arts and bachelor of science degrees in 50 academic majors and 28 minors . the college ' s academics are divided into five divisions : the biological sciences collegiate division , the physical sciences collegiate division , the social sciences collegiate division , the humanities collegiate division , and the new collegiate division . the first four are sections within their corresponding graduate divisions , while the new collegiate division administers interdisciplinary majors and studies which do not fit in one of the other four divisions .\n",
            "Predicted Answer: four are sections within their corresponding graduate divisions , while the new collegiate division administers interdisciplinary majors and studies which do not fit in one of the other four\n",
            "True Answer: 28\n",
            "--------------------------------------------------\n",
            "Question: how many people belong to the university ' s board of trustees ?\n",
            "Context: the university of chicago is governed by a board of trustees . the board of trustees oversees the long - term development and plans of the university and manages fundraising efforts , and is composed of 50 members including the university president . directly beneath the president are the provost , fourteen vice presidents ( including the chief financial officer , chief investment officer , and dean of students of the university ), the directors of argonne national laboratory and fermilab , the secretary of the university , and the student ombudsperson . as of august 2009 [ update ], the chairman of the board of trustees is andrew alper , and the president of the university is robert zimmer . in december 2013 it was announced that the director of argonne national laboratory , eric isaacs , would become provost . isaacs was replaced as provost in march 2016 by daniel diermeier .\n",
            "Predicted Answer: 2013\n",
            "True Answer: 50\n",
            "--------------------------------------------------\n",
            "Question: does the new deal include video on demand and high definition ?\n",
            "Context: the agreements include fixed annual carriage fees of £ 30m for the channels with both channel suppliers able to secure additional capped payments if their channels meet certain performance - related targets . currently there is no indication as to whether the new deal includes the additional video on demand and high definition content which had previously been offered by bskyb . as part of the agreements , both bskyb and virgin media agreed to terminate all high court proceedings against each other relating to the carriage of their respective basic channels .\n",
            "Predicted Answer: 30m for the channels with both channel suppliers able to secure additional capped payments if their channels meet certain performance - related targets . currently there is no indication as to whether the new deal includes the additional video on demand and high definition content which had previously been offered by bskyb . as part of the agreements , both bskyb\n",
            "True Answer: no\n",
            "--------------------------------------------------\n",
            "Question: how many private schools existed in new zealand in april 2014 ?\n",
            "Context: as of april 2014 , there are 88 private schools in new zealand , catering for around 28 , 000 students or 3 . 7 % of the entire student population . private school numbers have been in decline since the mid - 1970s as a result of many private schools opting to become state - integrated schools , mostly due of financial difficulties stemming from changes in student numbers and / or the economy . state - integrated schools keep their private school special character and receives state funds in return for having to operate like a state school , e . g . they must teach the state curriculum , they must employ registered teachers , and they can ' t charge tuition fees ( they can charge \" attendance dues \" for the upkeep on the still - private school land and buildings ). the largest decline in private school numbers occurred between 1979 and 1984 , when the nation ' s then - private catholic school system integrated . as a result , private schools in new zealand are now largely restricted to the largest cities ( auckland , hamilton , wellington and christchurch ) and niche markets .\n",
            "Predicted Answer: 28 , 000 students or 3 . 7 %\n",
            "True Answer: 88\n",
            "--------------------------------------------------\n",
            "Question: how many research institutes does the university run on campus ?\n",
            "Context: the university operates 12 research institutes and 113 research centers on campus . among these are the oriental institute — a museum and research center for near eastern studies owned and operated by the university — and a number of national resource centers , including the center for middle eastern studies . chicago also operates or is affiliated with a number of research institutions apart from the university proper . the university partially manages argonne national laboratory , part of the united states department of energy ' s national laboratory system , and has a joint stake in fermilab , a nearby particle physics laboratory , as well as a stake in the apache point observatory in sunspot , new mexico . faculty and students at the adjacent toyota technological institute at chicago collaborate with the university , in 2013 , the university announced that it was affiliating the formerly independent marine biological laboratory in woods hole , mass . although formally unrelated , the national opinion research center is located on chicago ' s campus .\n",
            "Predicted Answer: 113 research centers on campus . among these are the oriental institute — a museum and research center for near eastern studies owned and operated by the university — and a number of national resource centers , including the center for middle eastern studies . chicago also operates or is affiliated with a number of research institutions apart from the university proper . the university partially manages argonne national laboratory , part of the united states department of energy ' s national laboratory system , and has a joint stake in fermilab , a nearby particle physics laboratory , as well as a stake in the apache point observatory in sunspot , new mexico . faculty and students at the adjacent toyota technological institute at chicago collaborate with the university , in 2013\n",
            "True Answer: 12\n",
            "--------------------------------------------------\n",
            "Question: how many drugs approved by the fda in 2013 were specialty drugs ?\n",
            "Context: specialty pharmacies supply high cost injectable , oral , infused , or inhaled medications that are used for chronic and complex disease states such as cancer , hepatitis , and rheumatoid arthritis . unlike a traditional community pharmacy where prescriptions for any common medication can be brought in and filled , specialty pharmacies carry novel medications that need to be properly stored , administered , carefully monitored , and clinically managed . in addition to supplying these drugs , specialty pharmacies also provide lab monitoring , adherence counseling , and assist patients with cost - containment strategies needed to obtain their expensive specialty drugs . it is currently the fastest growing sector of the pharmaceutical industry with 19 of 28 newly fda approved medications in 2013 being specialty drugs .\n",
            "Predicted Answer: 2013\n",
            "True Answer: 19\n",
            "--------------------------------------------------\n",
            "Question: what percentage of private school students go to catholic schools ?\n",
            "Context: as of august 2010 , victoria had 1 , 548 public schools , 489 catholic schools and 214 independent schools . just under 540 , 800 students were enrolled in public schools , and just over 311 , 800 in private schools . over 61 per cent of private students attend catholic schools . more than 462 , 000 students were enrolled in primary schools and more than 390 , 000 in secondary schools . retention rates for the final two years of secondary school were 77 per cent for public school students and 90 per cent for private school students . victoria has about 63 , 519 full - time teachers .\n",
            "Predicted Answer: \n",
            "True Answer: 61\n",
            "--------------------------------------------------\n",
            "Question: how many scalar equations were formed into a set by james maxwell ?\n",
            "Context: the origin of electric and magnetic fields would not be fully explained until 1864 when james clerk maxwell unified a number of earlier theories into a set of 20 scalar equations , which were later reformulated into 4 vector equations by oliver heaviside and josiah willard gibbs . these \" maxwell equations \" fully described the sources of the fields as being stationary and moving charges , and the interactions of the fields themselves . this led maxwell to discover that electric and magnetic fields could be \" self - generating \" through a wave that traveled at a speed that he calculated to be the speed of light . this insight united the nascent fields of electromagnetic theory with optics and led directly to a complete description of the electromagnetic spectrum .\n",
            "Predicted Answer: 1864\n",
            "True Answer: 20\n",
            "--------------------------------------------------\n",
            "Question: how many floors are there in the building that was completed in 1967 ?\n",
            "Context: the tallest building in downtown jacksonville ' s skyline is the bank of america tower , constructed in 1990 as the barnett center . it has a height of 617 ft ( 188 m ) and includes 42 floors . other notable structures include the 37 - story wells fargo center ( with its distinctive flared base making it the defining building in the jacksonville skyline ), originally built in 1972 - 74 by the independent life and accident insurance company , and the 28 floor riverplace tower which , when completed in 1967 , was the tallest precast , post - tensioned concrete structure in the world .\n",
            "Predicted Answer: \n",
            "True Answer: 28\n",
            "--------------------------------------------------\n",
            "Question: what percentage of electricity was made by steam turbine in the 1990s ?\n",
            "Context: the main use for steam turbines is in electricity generation ( in the 1990s about 90 % of the world ' s electric production was by use of steam turbines ) however the recent widespread application of large gas turbine units and typical combined cycle power plants has resulted in reduction of this percentage to the 80 % regime for steam turbines . in electricity production , the high speed of turbine rotation matches well with the speed of modern electric generators , which are typically direct connected to their driving turbines . in marine service , ( pioneered on the turbinia ), steam turbines with reduction gearing ( although the turbinia has direct turbines to propellers with no reduction gearbox ) dominated large ship propulsion throughout the late 20th century , being more efficient ( and requiring far less maintenance ) than reciprocating steam engines . in recent decades , reciprocating diesel engines , and gas turbines , have almost entirely supplanted steam propulsion for marine applications .\n",
            "Predicted Answer: 90 %\n",
            "True Answer: 90\n",
            "--------------------------------------------------\n",
            "Question: how many degrees south did the amazon rainforest reach from 66 - 34 mya ?\n",
            "Context: following the cretaceous – paleogene extinction event , the extinction of the dinosaurs and the wetter climate may have allowed the tropical rainforest to spread out across the continent . from 66 – 34 mya , the rainforest extended as far south as 45 °. climate fluctuations during the last 34 million years have allowed savanna regions to expand into the tropics . during the oligocene , for example , the rainforest spanned a relatively narrow band . it expanded again during the middle miocene , then retracted to a mostly inland formation at the last glacial maximum . however , the rainforest still managed to thrive during these glacial periods , allowing for the survival and evolution of a broad diversity of species .\n",
            "Predicted Answer: 45\n",
            "True Answer: 45\n",
            "--------------------------------------------------\n",
            "Question: how many provinces did the ottoman empire contain in the 17th century ?\n",
            "Context: the ottoman empire was an imperial state that lasted from 1299 to 1923 . during the 16th and 17th centuries , in particular at the height of its power under the reign of suleiman the magnificent , the ottoman empire was a powerful multinational , multilingual empire controlling much of southeast europe , western asia , the caucasus , north africa , and the horn of africa . at the beginning of the 17th century the empire contained 32 provinces and numerous vassal states . some of these were later absorbed into the empire , while others were granted various types of autonomy during the course of centuries .\n",
            "Predicted Answer: 1923\n",
            "True Answer: 32\n",
            "--------------------------------------------------\n",
            "Question: how many intercollegiate sports does harvard compete in ncaa division i\n",
            "Context: the harvard crimson competes in 42 intercollegiate sports in the ncaa division i ivy league . harvard has an intense athletic rivalry with yale university culminating in the game , although the harvard – yale regatta predates the football game . this rivalry , though , is put aside every two years when the harvard and yale track and field teams come together to compete against a combined oxford university and cambridge university team , a competition that is the oldest continuous international amateur competition in the world .\n",
            "Predicted Answer: 42\n",
            "True Answer: 42\n",
            "--------------------------------------------------\n",
            "Question: at a - level , what percentage of british students attend fee - paying schools ?\n",
            "Context: private schools generally prefer to be called independent schools , because of their freedom to operate outside of government and local government control . some of these are also known as public schools . preparatory schools in the uk prepare pupils aged up to 13 years old to enter public schools . the name \" public school \" is based on the fact that the schools were open to pupils from anywhere , and not merely to those from a certain locality , and of any religion or occupation . according to the good schools guide approximately 9 per cent of children being educated in the uk are doing so at fee - paying schools at gsce level and 13 per cent at a - level .[ citation needed ] many independent schools are single - sex ( though this is becoming less common ). fees range from under £ 3 , 000 to £ 21 , 000 and above per year for day pupils , rising to £ 27 , 000 + per year for boarders . for details in scotland , see \" meeting the cost \".\n",
            "Predicted Answer: £ 3 , 000\n",
            "True Answer: 13\n",
            "--------------------------------------------------\n",
            "Question: how many miles south of san jose is the north - south midway point located ?\n",
            "Context: \" southern california \" is not a formal geographic designation , and definitions of what constitutes southern california vary . geographically , california ' s north - south midway point lies at exactly 37 ° 9 ' 58 . 23 \" latitude , around 11 miles ( 18 km ) south of san jose ; however , this does not coincide with popular use of the term . when the state is divided into two areas ( northern and southern california ), the term \" southern california \" usually refers to the ten southern - most counties of the state . this definition coincides neatly with the county lines at 35 ° 47 ′ 28 ″ north latitude , which form the northern borders of san luis obispo , kern , and san bernardino counties . another definition for southern california uses point conception and the tehachapi mountains as the northern boundary .\n",
            "Predicted Answer: \n",
            "True Answer: 11\n",
            "--------------------------------------------------\n",
            "Question: how many pieces of legislation has the social charter become the basis for ?\n",
            "Context: the social chapter is a chapter of the 1997 treaty of amsterdam covering social policy issues in european union law . the basis for the social chapter was developed in 1989 by the \" social partners \" representatives , namely unice , the employers ' confederation , the european trade union confederation ( etuc ) and ceep , the european centre of public enterprises . a toned down version was adopted as the social charter at the 1989 strasbourg european council . the social charter declares 30 general principles , including on fair remuneration of employment , health and safety at work , rights of disabled and elderly , the rights of workers , on vocational training and improvements of living conditions . the social charter became the basis for european community legislation on these issues in 40 pieces of legislation .\n",
            "Predicted Answer: 1997\n",
            "True Answer: 40\n",
            "--------------------------------------------------\n",
            "Question: which state route has been in discussion to upgrade to interstate standards ?\n",
            "Context: fresno is the largest u . s . city not directly linked to an interstate highway . when the interstate highway system was created in the 1950s , the decision was made to build what is now interstate 5 on the west side of the central valley , and thus bypass many of the population centers in the region , instead of upgrading what is now state route 99 . due to rapidly raising population and traffic in cities along sr 99 , as well as the desirability of federal funding , much discussion has been made to upgrade it to interstate standards and eventually incorporate it into the interstate system , most likely as interstate 9 . major improvements to signage , lane width , median separation , vertical clearance , and other concerns are currently underway .\n",
            "Predicted Answer: 1950s , the decision was made to build what is now interstate 5 on the west side of the central valley , and thus bypass many of the population centers in the region , instead of upgrading what is now state route 99 . due to rapidly raising population and traffic in cities along sr 99 , as well as the desirability of federal funding , much discussion has been made to upgrade it to interstate standards and eventually incorporate it into the interstate system , most likely as interstate 9\n",
            "True Answer: 99\n",
            "--------------------------------------------------\n",
            "Question: up to what age do students in the united kingdom attend preparatory schools ?\n",
            "Context: private schools generally prefer to be called independent schools , because of their freedom to operate outside of government and local government control . some of these are also known as public schools . preparatory schools in the uk prepare pupils aged up to 13 years old to enter public schools . the name \" public school \" is based on the fact that the schools were open to pupils from anywhere , and not merely to those from a certain locality , and of any religion or occupation . according to the good schools guide approximately 9 per cent of children being educated in the uk are doing so at fee - paying schools at gsce level and 13 per cent at a - level .[ citation needed ] many independent schools are single - sex ( though this is becoming less common ). fees range from under £ 3 , 000 to £ 21 , 000 and above per year for day pupils , rising to £ 27 , 000 + per year for boarders . for details in scotland , see \" meeting the cost \".\n",
            "Predicted Answer: £ 3 , 000\n",
            "True Answer: 13\n",
            "--------------------------------------------------\n",
            "Question: how many seats does victoria have in the australian house of representatives ?\n",
            "Context: politically , victoria has 37 seats in the australian house of representatives and 12 seats in the australian senate . at state level , the parliament of victoria consists of the legislative assembly ( the lower house ) and the legislative council ( the upper house ). victoria is currently governed by the labor party , with daniel andrews the current premier . the personal representative of the queen of australia in the state is the governor of victoria , currently linda dessau . local government is concentrated in 79 municipal districts , including 33 cities , although a number of unincorporated areas still exist , which are administered directly by the state .\n",
            "Predicted Answer: 12\n",
            "True Answer: 37\n",
            "--------------------------------------------------\n",
            "Question: what was the percentage of people that voted in favor of the pico act of 1859 ?\n",
            "Context: subsequently , californios ( dissatisfied with inequitable taxes and land laws ) and pro - slavery southerners in the lightly populated \" cow counties \" of southern california attempted three times in the 1850s to achieve a separate statehood or territorial status separate from northern california . the last attempt , the pico act of 1859 , was passed by the california state legislature and signed by the state governor john b . weller . it was approved overwhelmingly by nearly 75 % of voters in the proposed territory of colorado . this territory was to include all the counties up to the then much larger tulare county ( that included what is now kings , most of kern , and part of inyo counties ) and san luis obispo county . the proposal was sent to washington , d . c . with a strong advocate in senator milton latham . however , the secession crisis following the election of abraham lincoln in 1860 led to the proposal never coming to a vote .\n",
            "Predicted Answer: 1850s to achieve a separate statehood or territorial status separate from northern california . the last attempt , the pico act of 1859 , was passed by the california state legislature and signed by the state governor john b . weller . it was approved overwhelmingly by nearly 75 %\n",
            "True Answer: 75\n",
            "--------------------------------------------------\n",
            "Question: what percentage of filipino tertiary education takes place in private schools ?\n",
            "Context: in the philippines , the private sector has been a major provider of educational services , accounting for about 7 . 5 % of primary enrollment , 32 % of secondary enrollment and about 80 % of tertiary enrollment . private schools have proven to be efficient in resource utilization . per unit costs in private schools are generally lower when compared to public schools . this situation is more evident at the tertiary level . government regulations have given private education more flexibility and autonomy in recent years , notably by lifting the moratorium on applications for new courses , new schools and conversions , by liberalizing tuition fee policy for private schools , by replacing values education for third and fourth years with english , mathematics and natural science at the option of the school , and by issuing the revised manual of regulations for private schools in august 1992 .\n",
            "Predicted Answer: \n",
            "True Answer: 80\n",
            "--------------------------------------------------\n",
            "Question: as of 2008 , about what percentage of swedish students attended private schools ?\n",
            "Context: in sweden , pupils are free to choose a private school and the private school gets paid the same amount as municipal schools . over 10 % of swedish pupils were enrolled in private schools in 2008 . sweden is internationally known for this innovative school voucher model that provides swedish pupils with the opportunity to choose the school they prefer . for instance , the biggest school chain , kunskapsskolan (“ the knowledge school ”), offers 30 schools and a web - based environment , has 700 employees and teaches nearly 10 , 000 pupils . the swedish system has been recommended to barack obama .\n",
            "Predicted Answer: \n",
            "True Answer: 10\n",
            "--------------------------------------------------\n",
            "Question: what is the expression used to represent a complexity class of counting problems ?\n",
            "Context: other important complexity classes include bpp , zpp and rp , which are defined using probabilistic turing machines ; ac and nc , which are defined using boolean circuits ; and bqp and qma , which are defined using quantum turing machines .  #p is an important complexity class of counting problems ( not decision problems ). classes like ip and am are defined using interactive proof systems . all is the class of all decision problems .\n",
            "Predicted Answer: \n",
            "True Answer:  #p\n",
            "--------------------------------------------------\n",
            "Question: at what degree are the pistons of a two - cylinder compound connected to the c\n",
            "Context: with two - cylinder compounds used in railway work , the pistons are connected to the cranks as with a two - cylinder simple at 90 ° out of phase with each other ( quartered ). when the double expansion group is duplicated , producing a 4 - cylinder compound , the individual pistons within the group are usually balanced at 180 °, the groups being set at 90 ° to each other . in one case ( the first type of vauclain compound ), the pistons worked in the same phase driving a common crosshead and crank , again set at 90 ° as for a two - cylinder engine . with the 3 - cylinder compound arrangement , the lp cranks were either set at 90 ° with the hp one at 135 ° to the other two , or in some cases all three cranks were set at 120 °.[ citation needed ]\n",
            "Predicted Answer: \n",
            "True Answer: 90\n",
            "--------------------------------------------------\n",
            "Question: what percentage of electrical power in the united states is made by steam turbines ?\n",
            "Context: the final major evolution of the steam engine design was the use of steam turbines starting in the late part of the 19th century . steam turbines are generally more efficient than reciprocating piston type steam engines ( for outputs above several hundred horsepower ), have fewer moving parts , and provide rotary power directly instead of through a connecting rod system or similar means . steam turbines virtually replaced reciprocating engines in electricity generating stations early in the 20th century , where their efficiency , higher speed appropriate to generator service , and smooth rotation were advantages . today most electric power is provided by steam turbines . in the united states 90 % of the electric power is produced in this way using a variety of heat sources . steam turbines were extensively applied for propulsion of large ships throughout most of the 20th century .\n",
            "Predicted Answer: 90 %\n",
            "True Answer: 90\n",
            "--------------------------------------------------\n",
            "Question: how many developed countries did british researchers use to gather statistics from ?\n",
            "Context: british researchers richard g . wilkinson and kate pickett have found higher rates of health and social problems ( obesity , mental illness , homicides , teenage births , incarceration , child conflict , drug use ), and lower rates of social goods ( life expectancy by country , educational performance , trust among strangers , women ' s status , social mobility , even numbers of patents issued ) in countries and states with higher inequality . using statistics from 23 developed countries and the 50 states of the us , they found social / health problems lower in countries like japan and finland and states like utah and new hampshire with high levels of equality , than in countries ( us and uk ) and states ( mississippi and new york ) with large differences in household income .\n",
            "Predicted Answer: 23\n",
            "True Answer: 23\n",
            "--------------------------------------------------\n",
            "Question: during 2012 - 2013 , how many student were able to take the core classes at a single time ?\n",
            "Context: undergraduate students are required to take a distribution of courses to satisfy the university ' s core curriculum known as the common core . in 2012 - 2013 , the core classes at chicago were limited to 17 students , and are generally led by a full - time professor ( as opposed to a teaching assistant ). as of the 2013 – 2014 school year , 15 courses and demonstrated proficiency in a foreign language are required under the core . undergraduate courses at the university of chicago are known for their demanding standards , heavy workload and academic difficulty ; according to uni in the usa , \" among the academic cream of american universities – harvard , yale , princeton , mit , and the university of chicago – it is uchicago that can most convincingly claim to provide the most rigorous , intense learning experience .\"\n",
            "Predicted Answer: 2013 , the core classes at chicago were limited to 17 students , and are generally led by a full - time professor ( as opposed to a teaching assistant ). as of the 2013\n",
            "True Answer: 17\n",
            "--------------------------------------------------\n",
            "Question: in the philippines , what percentage of secondary school students attend private schools ?\n",
            "Context: in the philippines , the private sector has been a major provider of educational services , accounting for about 7 . 5 % of primary enrollment , 32 % of secondary enrollment and about 80 % of tertiary enrollment . private schools have proven to be efficient in resource utilization . per unit costs in private schools are generally lower when compared to public schools . this situation is more evident at the tertiary level . government regulations have given private education more flexibility and autonomy in recent years , notably by lifting the moratorium on applications for new courses , new schools and conversions , by liberalizing tuition fee policy for private schools , by replacing values education for third and fourth years with english , mathematics and natural science at the option of the school , and by issuing the revised manual of regulations for private schools in august 1992 .\n",
            "Predicted Answer: \n",
            "True Answer: 32\n",
            "--------------------------------------------------\n",
            "Question: as a result of a compromise , about how many chinese schools became national type schools ?\n",
            "Context: after malaysia ' s independence in 1957 , the government instructed all schools to surrender their properties and be assimilated into the national school system . this caused an uproar among the chinese and a compromise was achieved in that the schools would instead become \" national type \" schools . under such a system , the government is only in charge of the school curriculum and teaching personnel while the lands still belonged to the schools . while chinese primary schools were allowed to retain chinese as the medium of instruction , chinese secondary schools are required to change into english - medium schools . over 60 schools converted to become national type schools .\n",
            "Predicted Answer: 1957\n",
            "True Answer: 60\n",
            "--------------------------------------------------\n",
            "Question: np complete problems contain the lowest likelihood of being located in what problem class ?\n",
            "Context: if a problem x is in c and hard for c , then x is said to be complete for c . this means that x is the hardest problem in c . ( since many problems could be equally hard , one might say that x is one of the hardest problems in c .) thus the class of np - complete problems contains the most difficult problems in np , in the sense that they are the ones most likely not to be in p . because the problem p = np is not solved , being able to reduce a known np - complete problem , π2 , to another problem , π1 , would indicate that there is no known polynomial - time solution for π1 . this is because a polynomial - time solution to π1 would yield a polynomial - time solution to π2 . similarly , because all np problems can be reduced to the set , finding an np - complete problem that can be solved in polynomial time would mean that p = np .\n",
            "Predicted Answer: ( since many problems could be equally hard , one might say that x is one of the hardest problems in c .) thus the class of np - complete problems contains the most difficult problems in np , in the sense that they are the ones most likely not to be in p . because the problem p = np is not solved , being able to reduce a known np - complete problem , π2\n",
            "True Answer: np\n",
            "--------------------------------------------------\n",
            "Question: what complexity class is commonly characterized by unknown algorithms to enhance solvability\n",
            "Context: the complexity class p is often seen as a mathematical abstraction modeling those computational tasks that admit an efficient algorithm . this hypothesis is called the cobham – edmonds thesis . the complexity class np , on the other hand , contains many problems that people would like to solve efficiently , but for which no efficient algorithm is known , such as the boolean satisfiability problem , the hamiltonian path problem and the vertex cover problem . since deterministic turing machines are special non - deterministic turing machines , it is easily observed that each problem in p is also member of the class np .\n",
            "Predicted Answer: \n",
            "True Answer: np\n",
            "--------------------------------------------------\n",
            "Question: how many days does the parliament have to nominate a first minister after a general election ?\n",
            "Context: under the scotland act 1998 , ordinary general elections for the scottish parliament are held on the first thursday in may every four years ( 1999 , 2003 , 2007 and so on ). the date of the poll may be varied by up to one month either way by the monarch on the proposal of the presiding officer . if the parliament itself resolves that it should be dissolved ( with at least two - thirds of the members voting in favour ), or if the parliament fails to nominate one of its members to be first minister within 28 days of a general election or of the position becoming vacant , the presiding officer proposes a date for an extraordinary general election and the parliament is dissolved by the queen by royal proclamation . extraordinary general elections are in addition to ordinary general elections , unless held less than six months before the due date of an ordinary general election , in which case they supplant it . the following ordinary election reverts to the first thursday in may , a multiple of four years after 1999 ( i . e ., 5 may 2011 , 7 may 2015 , etc .).\n",
            "Predicted Answer: \n",
            "True Answer: 28\n",
            "--------------------------------------------------\n",
            "Question: at what angle were the groups of pistons set in relation to one another in a 4 - cy\n",
            "Context: with two - cylinder compounds used in railway work , the pistons are connected to the cranks as with a two - cylinder simple at 90 ° out of phase with each other ( quartered ). when the double expansion group is duplicated , producing a 4 - cylinder compound , the individual pistons within the group are usually balanced at 180 °, the groups being set at 90 ° to each other . in one case ( the first type of vauclain compound ), the pistons worked in the same phase driving a common crosshead and crank , again set at 90 ° as for a two - cylinder engine . with the 3 - cylinder compound arrangement , the lp cranks were either set at 90 ° with the hp one at 135 ° to the other two , or in some cases all three cranks were set at 120 °.[ citation needed ]\n",
            "Predicted Answer: \n",
            "True Answer: 90\n",
            "--------------------------------------------------\n",
            "Question: if polynomial time can be utilized within an np - complete problem , what does the\n",
            "Context: if a problem x is in c and hard for c , then x is said to be complete for c . this means that x is the hardest problem in c . ( since many problems could be equally hard , one might say that x is one of the hardest problems in c .) thus the class of np - complete problems contains the most difficult problems in np , in the sense that they are the ones most likely not to be in p . because the problem p = np is not solved , being able to reduce a known np - complete problem , π2 , to another problem , π1 , would indicate that there is no known polynomial - time solution for π1 . this is because a polynomial - time solution to π1 would yield a polynomial - time solution to π2 . similarly , because all np problems can be reduced to the set , finding an np - complete problem that can be solved in polynomial time would mean that p = np .\n",
            "Predicted Answer: ( since many problems could be equally hard , one might say that x is one of the hardest problems in c .) thus the class of np - complete problems contains the most difficult problems in np , in the sense that they are the ones most likely not to be in p . because the problem p = np is not solved , being able to reduce a known np - complete problem , π2\n",
            "True Answer: np\n",
            "--------------------------------------------------\n",
            "Question: what is the minimum percent of alcohol content a german law requires all spirits and liqueurs to\n",
            "Context: often rules apply to all goods neutrally , but may have a greater practical effect on imports than domestic products . for such \" indirect \" discriminatory ( or \" indistinctly applicable \") measures the court of justice has developed more justifications : either those in article 36 , or additional \" mandatory \" or \" overriding \" requirements such as consumer protection , improving labour standards , protecting the environment , press diversity , fairness in commerce , and more : the categories are not closed . in the most famous case rewe - zentral ag v bundesmonopol für branntwein , the court of justice found that a german law requiring all spirits and liqueurs ( not just imported ones ) to have a minimum alcohol content of 25 per cent was contrary to tfeu article 34 , because it had a greater negative effect on imports . german liqueurs were over 25 per cent alcohol , but cassis de dijon , which rewe - zentrale ag wished to import from france , only had 15 to 20 per cent alcohol . the court of justice rejected the german government ' s arguments that the measure proportionately protected public health under tfeu article 36 , because stronger beverages were available and adequate labelling would be enough for consumers to understand what they bought . this rule primarily applies to requirements about a product ' s content or packaging . in walter rau lebensmit\n",
            "Predicted Answer: 34\n",
            "True Answer: 25\n",
            "--------------------------------------------------\n",
            "Question: what is the lowest ranking one of the counties could have in terms of most populous counties in the united states\n",
            "Context: its counties of los angeles , orange , san diego , san bernardino , and riverside are the five most populous in the state and all are in the top 15 most populous counties in the united states .\n",
            "Predicted Answer: \n",
            "True Answer: 15\n",
            "--------------------------------------------------\n",
            "Question: how many combinatory and graph theoretical problems , formerly believed to be plagued by in\n",
            "Context: in 1967 , manuel blum developed an axiomatic complexity theory based on his axioms and proved an important result , the so - called , speed - up theorem . the field really began to flourish in 1971 when the us researcher stephen cook and , working independently , leonid levin in the ussr , proved that there exist practically relevant problems that are np - complete . in 1972 , richard karp took this idea a leap forward with his landmark paper , \" reducibility among combinatorial problems \", in which he showed that 21 diverse combinatorial and graph theoretical problems , each infamous for its computational intractability , are np - complete .\n",
            "Predicted Answer: \n",
            "True Answer: 21\n",
            "--------------------------------------------------\n",
            "Question: how many msps are there ?\n",
            "Context: after each election to the scottish parliament , at the beginning of each parliamentary session , parliament elects one msp to serve as presiding officer , the equivalent of the speaker ( currently tricia marwick ), and two msps to serve as deputies ( currently elaine smith and john scott ). the presiding officer and deputies are elected by a secret ballot of the 129 msps , which is the only secret ballot conducted in the scottish parliament . principally , the role of the presiding officer is to chair chamber proceedings and the scottish parliamentary corporate body . when chairing meetings of the parliament , the presiding officer and his / her deputies must be politically impartial . during debates , the presiding officer ( or the deputy ) is assisted by the parliamentary clerks , who give advice on how to interpret the standing orders that govern the proceedings of meetings . a vote clerk sits in front of the presiding officer and operates the electronic voting equipment and chamber clocks .\n",
            "Predicted Answer: 129\n",
            "True Answer: 129\n",
            "--------------------------------------------------\n",
            "Question: who is videoguard owned by ?\n",
            "Context: bskyb utilises the videoguard pay - tv scrambling system owned by nds , a cisco systems company . there are tight controls over use of videoguard decoders ; they are not available as stand - alone dvb cams ( conditional - access modules ). bskyb has design authority over all digital satellite receivers capable of receiving their service . the receivers , though designed and built by different manufacturers , must conform to the same user interface look - and - feel as all the others . this extends to the personal video recorder ( pvr ) offering ( branded sky +).\n",
            "Predicted Answer: \n",
            "True Answer: nds\n",
            "--------------------------------------------------\n",
            "Question: what is the mineral wustite ?\n",
            "Context: due to its electronegativity , oxygen forms chemical bonds with almost all other elements to give corresponding oxides . the surface of most metals , such as aluminium and titanium , are oxidized in the presence of air and become coated with a thin film of oxide that passivates the metal and slows further corrosion . many oxides of the transition metals are non - stoichiometric compounds , with slightly less metal than the chemical formula would show . for example , the mineral feo ( wüstite ) is written as fe 1 − xo , where x is usually around 0 . 05 .\n",
            "Predicted Answer: oxygen\n",
            "True Answer: feo\n",
            "--------------------------------------------------\n",
            "Question: who commissioned the tapestry ?\n",
            "Context: by far the most famous work of norman art is the bayeux tapestry , which is not a tapestry but a work of embroidery . it was commissioned by odo , the bishop of bayeux and first earl of kent , employing natives from kent who were learned in the nordic traditions imported in the previous half century by the danish vikings .\n",
            "Predicted Answer: by far the most famous work of norman art is the bayeux tapestry , which is not a tapestry but a work of embroidery . it was commissioned by odo , the bishop of bayeux\n",
            "True Answer: odo\n",
            "--------------------------------------------------\n",
            "Question: the symbol for mercuric oxide is ?\n",
            "Context: in the meantime , on august 1 , 1774 , an experiment conducted by the british clergyman joseph priestley focused sunlight on mercuric oxide ( hgo ) inside a glass tube , which liberated a gas he named \" dephlogisticated air \". he noted that candles burned brighter in the gas and that a mouse was more active and lived longer while breathing it . after breathing the gas himself , he wrote : \" the feeling of it to my lungs was not sensibly different from that of common air , but i fancied that my breast felt peculiarly light and easy for some time afterwards .\" priestley published his findings in 1775 in a paper titled \" an account of further discoveries in air \" which was included in the second volume of his book titled experiments and observations on different kinds of air . because he published his findings first , priestley is usually given priority in the discovery .\n",
            "Predicted Answer: 1774 , an experiment conducted by the british clergyman joseph priestley focused sunlight on mercuric oxide ( hgo ) inside a glass tube , which liberated a gas he named \" dephlogisticated air \". he noted that candles burned brighter in the gas and that a mouse was more active and lived longer while breathing it . after breathing the gas himself , he wrote : \" the feeling of it to my lungs was not sensibly different from that of common air , but i fancied that my breast felt peculiarly light and easy for some time afterwards .\" priestley published his findings in 1775\n",
            "True Answer: hgo\n",
            "--------------------------------------------------\n",
            "Question: how many victorians are non - religious ?\n",
            "Context: about 61 . 1 % of victorians describe themselves as christian . roman catholics form the single largest religious group in the state with 26 . 7 % of the victorian population , followed by anglicans and members of the uniting church . buddhism is the state ' s largest non - christian religion , with 168 , 637 members as of the most recent census . victoria is also home of 152 , 775 muslims and 45 , 150 jews . hinduism is the fastest growing religion . around 20 % of victorians claim no religion . amongst those who declare a religious affiliation , church attendance is low .\n",
            "Predicted Answer: 168 , 637 members as of the most recent census . victoria is also home of 152 , 775 muslims and 45 , 150 jews . hinduism is the fastest growing religion . around 20 %\n",
            "True Answer: 20 %\n",
            "--------------------------------------------------\n",
            "Question: how many horsepower was watt ' s engine ?\n",
            "Context: in 1781 james watt patented a steam engine that produced continuous rotary motion . watt ' s ten - horsepower engines enabled a wide range of manufacturing machinery to be powered . the engines could be sited anywhere that water and coal or wood fuel could be obtained . by 1883 , engines that could provide 10 , 000 hp had become feasible . the stationary steam engine was a key component of the industrial revolution , allowing factories to locate where water power was unavailable . the atmospheric engines of newcomen and watt were large compared to the amount of power they produced , but high pressure steam engines were light enough to be applied to vehicles such as traction engines and the railway locomotives .\n",
            "Predicted Answer: 1781 james watt patented a steam engine that produced continuous rotary motion . watt ' s ten - horsepower engines enabled a wide range of manufacturing machinery to be powered . the engines could be sited anywhere that water and coal or wood fuel could be obtained . by 1883 , engines that could provide 10 , 000\n",
            "True Answer: ten\n",
            "--------------------------------------------------\n",
            "Question: how many major ice ages have occurred ?\n",
            "Context: around 2 . 5 million years ago ( ending 11 , 600 years ago ) was the geological period of the ice ages . since approximately 600 , 000 years ago , six major ice ages have occurred , in which sea level dropped 120 m ( 390 ft ) and much of the continental margins became exposed . in the early pleistocene , the rhine followed a course to the northwest , through the present north sea . during the so - called anglian glaciation (~ 450 , 000 yr bp , marine oxygen isotope stage 12 ), the northern part of the present north sea was blocked by the ice and a large lake developed , that overflowed through the english channel . this caused the rhine ' s course to be diverted through the english channel . since then , during glacial times , the river mouth was located offshore of brest , france and rivers , like the thames and the seine , became tributaries to the rhine . during interglacials , when sea level rose to approximately the present level , the rhine built deltas , in what is now the netherlands .\n",
            "Predicted Answer: 390 ft ) and much of the continental margins became exposed . in the early pleistocene , the rhine followed a course to the northwest , through the present north sea . during the so - called anglian glaciation (~ 450 , 000\n",
            "True Answer: six\n",
            "--------------------------------------------------\n",
            "Question: when was the duchy of normandy founded ?\n",
            "Context: in the course of the 10th century , the initially destructive incursions of norse war bands into the rivers of france evolved into more permanent encampments that included local women and personal property . the duchy of normandy , which began in 911 as a fiefdom , was established by the treaty of saint - clair - sur - epte between king charles iii of west francia and the famed viking ruler rollo , and was situated in the former frankish kingdom of neustria . the treaty offered rollo and his men the french lands between the river epte and the atlantic coast in exchange for their protection against further viking incursions . the area corresponded to the northern part of present - day upper normandy down to the river seine , but the duchy would eventually extend west beyond the seine . the territory was roughly equivalent to the old province of rouen , and reproduced the roman administrative structure of gallia lugdunensis ii ( part of the former gallia lugdunensis ).\n",
            "Predicted Answer: \n",
            "True Answer: 911\n",
            "--------------------------------------------------\n",
            "Question: what percentage of farmland grows wheat ?\n",
            "Context: more than 26 , 000 square kilometres ( 10 , 000 sq mi ) of victorian farmland are sown for grain , mostly in the state ' s west . more than 50 % of this area is sown for wheat , 33 % for barley and 7 % for oats . a further 6 , 000 square kilometres ( 2 , 300 sq mi ) is sown for hay . in 2003 – 04 , victorian farmers produced more than 3 million tonnes of wheat and 2 million tonnes of barley . victorian farms produce nearly 90 % of australian pears and third of apples . it is also a leader in stone fruit production . the main vegetable crops include asparagus , broccoli , carrots , potatoes and tomatoes . last year , 121 , 200 tonnes of pears and 270 , 000 tonnes of tomatoes were produced .\n",
            "Predicted Answer: 10 , 000 sq mi ) of victorian farmland are sown for grain , mostly in the state ' s west . more than 50 %\n",
            "True Answer: 50 %\n",
            "--------------------------------------------------\n",
            "Question: what are the secretions commonly called ?\n",
            "Context: when some species , including bathyctena chuni , euplokamis stationis and eurhamphaea vexilligera , are disturbed , they produce secretions ( ink ) that luminesce at much the same wavelengths as their bodies . juveniles will luminesce more brightly in relation to their body size than adults , whose luminescence is diffused over their bodies . detailed statistical investigation has not suggested the function of ctenophores ' bioluminescence nor produced any correlation between its exact color and any aspect of the animals ' environments , such as depth or whether they live in coastal or mid - ocean waters .\n",
            "Predicted Answer: \n",
            "True Answer: ink\n",
            "--------------------------------------------------\n",
            "Question: how many miles east of berlin is warsaw ?\n",
            "Context: warsaw lies in east - central poland about 300 km ( 190 mi ) from the carpathian mountains and about 260 km ( 160 mi ) from the baltic sea , 523 km ( 325 mi ) east of berlin , germany . the city straddles the vistula river . it is located in the heartland of the masovian plain , and its average elevation is 100 metres ( 330 ft ) above sea level . the highest point on the left side of the city lies at a height of 115 . 7 metres ( 379 . 6 ft ) (\" redutowa \" bus depot , district of wola ), on the right side – 122 . 1 metres ( 400 . 6 ft ) (\" groszówka \" estate , district of wesoła , by the eastern border ). the lowest point lies at a height 75 . 6 metres ( 248 . 0 ft ) ( at the right bank of the vistula , by the eastern border of warsaw ). there are some hills ( mostly artificial ) located within the confines of the city – e . g . warsaw uprising hill ( 121 metres ( 397 . 0 ft )), szczęśliwice hill ( 138 metres ( 452 . 8 ft ) – the highest point of warsaw in general ).\n",
            "Predicted Answer: \n",
            "True Answer: 325\n",
            "--------------------------------------------------\n",
            "Question: how many catholic schools were in victoria ?\n",
            "Context: as of august 2010 , victoria had 1 , 548 public schools , 489 catholic schools and 214 independent schools . just under 540 , 800 students were enrolled in public schools , and just over 311 , 800 in private schools . over 61 per cent of private students attend catholic schools . more than 462 , 000 students were enrolled in primary schools and more than 390 , 000 in secondary schools . retention rates for the final two years of secondary school were 77 per cent for public school students and 90 per cent for private school students . victoria has about 63 , 519 full - time teachers .\n",
            "Predicted Answer: \n",
            "True Answer: 489\n",
            "--------------------------------------------------\n",
            "Question: what does the nederrikn ' s name change into ?\n",
            "Context: the other third of the water flows through the pannerdens kanaal and redistributes in the ijssel and nederrijn . the ijssel branch carries one ninth of the water flow of the rhine north into the ijsselmeer ( a former bay ), while the nederrijn carries approximately two ninths of the flow west along a route parallel to the waal . however , at wijk bij duurstede , the nederrijn changes its name and becomes the lek . it flows farther west , to rejoin the noord river into the nieuwe maas and to the north sea .\n",
            "Predicted Answer: \n",
            "True Answer: lek\n",
            "--------------------------------------------------\n",
            "Question: how many seats are in the debating chamber ?\n",
            "Context: the debating chamber of the scottish parliament has seating arranged in a hemicycle , which reflects the desire to encourage consensus amongst elected members . there are 131 seats in the debating chamber . of the total 131 seats , 129 are occupied by the parliament ' s elected msps and 2 are seats for the scottish law officers – the lord advocate and the solicitor general for scotland , who are not elected members of the parliament but are members of the scottish government . as such the law officers may attend and speak in the plenary meetings of the parliament but , as they are not elected msps , cannot vote . members are able to sit anywhere in the debating chamber , but typically sit in their party groupings . the first minister , scottish cabinet ministers and law officers sit in the front row , in the middle section of the chamber . the largest party in the parliament sits in the middle of the semicircle , with opposing parties on either side . the presiding officer , parliamentary clerks and officials sit opposite members at the front of the debating chamber .\n",
            "Predicted Answer: 131 seats in the debating chamber . of the total 131 seats , 129 are occupied by the parliament ' s elected msps and 2\n",
            "True Answer: 131\n",
            "--------------------------------------------------\n",
            "Question: how many teams did los angeles used to have ?\n",
            "Context: from 2005 to 2014 , there were two major league soccer teams in los angeles — the la galaxy and chivas usa — that both played at the stubhub center and were local rivals . however , chivas were suspended following the 2014 mls season , with a second mls team scheduled to return in 2018 .\n",
            "Predicted Answer: 2005\n",
            "True Answer: two\n",
            "--------------------------------------------------\n",
            "Question: what does the nederrijn change it ' s name to ?\n",
            "Context: the other third of the water flows through the pannerdens kanaal and redistributes in the ijssel and nederrijn . the ijssel branch carries one ninth of the water flow of the rhine north into the ijsselmeer ( a former bay ), while the nederrijn carries approximately two ninths of the flow west along a route parallel to the waal . however , at wijk bij duurstede , the nederrijn changes its name and becomes the lek . it flows farther west , to rejoin the noord river into the nieuwe maas and to the north sea .\n",
            "Predicted Answer: \n",
            "True Answer: lek\n",
            "--------------------------------------------------\n",
            "Question: how many botanical gardens does warsaw have ?\n",
            "Context: the flora of the city may be considered very rich in species . the species richness is mainly due to the location of warsaw within the border region of several big floral regions comprising substantial proportions of close - to - wilderness areas ( natural forests , wetlands along the vistula ) as well as arable land , meadows and forests . bielany forest , located within the borders of warsaw , is the remaining part of the masovian primeval forest . bielany forest nature reserve is connected with kampinos forest . it is home to rich fauna and flora . within the forest there are three cycling and walking trails . other big forest area is kabaty forest by the southern city border . warsaw has also two botanic gardens : by the łazienki park ( a didactic - research unit of the university of warsaw ) as well as by the park of culture and rest in powsin ( a unit of the polish academy of science ).\n",
            "Predicted Answer: three\n",
            "True Answer: two\n",
            "--------------------------------------------------\n",
            "Question: what is the bond order of dioxygen molecules ?\n",
            "Context: in this dioxygen , the two oxygen atoms are chemically bonded to each other . the bond can be variously described based on level of theory , but is reasonably and simply described as a covalent double bond that results from the filling of molecular orbitals formed from the atomic orbitals of the individual oxygen atoms , the filling of which results in a bond order of two . more specifically , the double bond is the result of sequential , low - to - high energy , or aufbau , filling of orbitals , and the resulting cancellation of contributions from the 2s electrons , after sequential filling of the low and * orbitals ; overlap of the two atomic 2p orbitals that lie along the o - o molecular axis and π overlap of two pairs of atomic 2p orbitals perpendicular to the o - o molecular axis , and then cancellation of contributions from the remaining two of the six 2p electrons after their partial filling of the lowest π and π * orbitals .\n",
            "Predicted Answer: \n",
            "True Answer: two\n",
            "--------------------------------------------------\n",
            "Question: how much heavier is oxygen 18 than oxygen 16 ?\n",
            "Context: paleoclimatologists measure the ratio of oxygen - 18 and oxygen - 16 in the shells and skeletons of marine organisms to determine what the climate was like millions of years ago ( see oxygen isotope ratio cycle ). seawater molecules that contain the lighter isotope , oxygen - 16 , evaporate at a slightly faster rate than water molecules containing the 12 % heavier oxygen - 18 ; this disparity increases at lower temperatures . during periods of lower global temperatures , snow and rain from that evaporated water tends to be higher in oxygen - 16 , and the seawater left behind tends to be higher in oxygen - 18 . marine organisms then incorporate more oxygen - 18 into their skeletons and shells than they would in a warmer climate . paleoclimatologists also directly measure this ratio in the water molecules of ice core samples that are up to several hundreds of thousands of years old .\n",
            "Predicted Answer: 12 %\n",
            "True Answer: 12 %\n",
            "--------------------------------------------------\n"
          ]
        }
      ],
      "source": [
        "# Compare the predictions with the actual answers\n",
        "for i in range(100):\n",
        "    print(f\"Question: {questions[i]}\")\n",
        "    print(f\"Context: {contexts[i]}\")\n",
        "    print(f\"Predicted Answer: {preds[i]}\")\n",
        "    print(f\"True Answer: {true_labels[i]}\")\n",
        "    print(\"-\" * 50)"
      ]
    },
    {
      "cell_type": "markdown",
      "metadata": {},
      "source": [
        "##### Evaluate predictions on training set"
      ]
    },
    {
      "cell_type": "code",
      "execution_count": 12,
      "metadata": {
        "id": "nkq7ofTKM3J2",
        "outputId": "cbe2b8d5-a8d3-43f0-f096-558728bbca41"
      },
      "outputs": [
        {
          "name": "stderr",
          "output_type": "stream",
          "text": [
            "Predicting: 100%|██████████| 623/623 [00:26<00:00, 23.48it/s]\n"
          ]
        }
      ],
      "source": [
        "train_preds, train_true_labels, train_contexts, train_questions = predict_qa_context_model_boilerplate(model=model, dataloader=train_dataloader, tokenizer=tokenizer, device=device, inputs = [\"context\",\"question\", \"attention_mask_context\", \"attention_mask_question\"])"
      ]
    },
    {
      "cell_type": "code",
      "execution_count": 13,
      "metadata": {
        "id": "xq15_9YiM3J2",
        "outputId": "b6cde1b3-3ab6-4df7-ed91-c49900ad8fce"
      },
      "outputs": [
        {
          "name": "stdout",
          "output_type": "stream",
          "text": [
            "Question: christians were said to be the scapegoat of who ?\n",
            "Context: the earliest occurrences of the term in non - christian literature include josephus , referring to \" the tribe of christians , so named from him ;\" pliny the younger in correspondence with trajan ; and tacitus , writing near the end of the 1st century . in the annals he relates that \" by vulgar appellation [ they were ] commonly called christians \" and identifies christians as nero ' s scapegoats for the great fire of rome .\n",
            "Predicted Answer: \n",
            "True Answer: nero\n",
            "--------------------------------------------------\n",
            "Question: in denmark , wind power accounts for what percentage of electricity generated ?\n",
            "Context: some of the second - generation renewables , such as wind power , have high potential and have already realised relatively low production costs . global wind power installations increased by 35 , 800 mw in 2010 , bringing total installed capacity up to 194 , 400 mw , a 22 . 5 % increase on the 158 , 700 mw installed at the end of 2009 . the increase for 2010 represents investments totalling € 47 . 3 billion ( us $ 65 billion ) and for the first time more than half of all new wind power was added outside of the traditional markets of europe and north america , mainly driven , by the continuing boom in china which accounted for nearly half of all of the installations at 16 , 500 mw . china now has 42 , 300 mw of wind power installed . wind power accounts for approximately 19 % of electricity generated in denmark , 9 % in spain and portugal , and 6 % in germany and the republic of ireland . in australian state of south australia wind power , championed by premier mike rann ( 2002 – 2011 ), now comprises 26 % of the state ' s electricity generation , edging out coal fired power . at the end of 2011 south australia , with 7 . 2 % of australia ' s population , had 54 % of the nation ' s installed wind power capacity . wind power ' s share of worldwide electricity usage at the end of 2014 was 3 . 1 %. these are some of the largest wind farms in the world :\n",
            "Predicted Answer: 194 , 400 mw , a 22 . 5 %\n",
            "True Answer: 19 %\n",
            "--------------------------------------------------\n",
            "Question: what is the official language of bern ?\n",
            "Context: the official language of bern is ( the swiss variety of standard ) german , but the main spoken language is the alemannic swiss german dialect called bernese german .\n",
            "Predicted Answer: ( the swiss variety of standard ) german , but the main spoken language is the alemannic swiss german\n",
            "True Answer: german\n",
            "--------------------------------------------------\n",
            "Question: what notable theater is present in overtown ?\n",
            "Context: the northern side of miami includes midtown , a district with a great mix of diversity with many west indians , hispanics , european americans , bohemians , and artists . edgewater , and wynwood , are neighborhoods of midtown and are made up mostly of high - rise residential towers and are home to the adrienne arsht center for the performing arts . the wealthier residents usually live in the northeastern part , in midtown , the design district , and the upper east side , with many sought after 1920s homes and home of the mimo historic district , a style of architecture originated in miami in the 1950s . the northern side of miami also has notable african american and caribbean immigrant communities such as little haiti , overtown ( home of the lyric theater ), and liberty city .\n",
            "Predicted Answer: \n",
            "True Answer: lyric\n",
            "--------------------------------------------------\n",
            "Question: what country are the zargos mountains located in ?\n",
            "Context: the earliest known chemical evidence of barley beer dates to circa 3500 – 3100 bc from the site of godin tepe in the zagros mountains of western iran . some of the earliest sumerian writings contain references to beer ; examples include a prayer to the goddess ninkasi , known as \" the hymn to ninkasi \", which served as both a prayer as well as a method of remembering the recipe for beer in a culture with few literate people , and the ancient advice ( fill your belly . day and night make merry ) to gilgamesh , recorded in the epic of gilgamesh , by the ale - wife siduri may , at least in part , have referred to the consumption of beer . the ebla tablets , discovered in 1974 in ebla , syria , show that beer was produced in the city in 2500 bc . a fermented beverage using rice and fruit was made in china around 7000 bc . unlike sake , mould was not used to saccharify the rice ( amylolytic fermentation ); the rice was probably prepared for fermentation by mastication or malting .\n",
            "Predicted Answer: 3500 – 3100 bc\n",
            "True Answer: iran\n",
            "--------------------------------------------------\n",
            "Question: how much of the gdp has agriculture accounted for most recently ?\n",
            "Context: agriculture accounted for less than 20 % of both net material product and total employment before the dissolution of the soviet union in 1991 . after independence , the importance of agriculture in the economy increased markedly , its share at the end of the 1990s rising to more than 30 % of gdp and more than 40 % of total employment . this increase in the importance of agriculture was attributable to food security needs of the population in the face of uncertainty during the first phases of transition and the collapse of the non - agricultural sectors of the economy in the early 1990s . as the economic situation stabilized and growth resumed , the share of agriculture in gdp dropped to slightly over 20 % ( 2006 data ), although the share of agriculture in employment remained more than 40 %.\n",
            "Predicted Answer: \n",
            "True Answer: 20 %\n",
            "--------------------------------------------------\n",
            "Question: what was the party membership at the end of 2009 ?\n",
            "Context: blair announced in september 2006 that he would quit as leader within the year , though he had been under pressure to quit earlier than may 2007 in order to get a new leader in place before the may elections which were expected to be disastrous for labour . in the event , the party did lose power in scotland to a minority scottish national party government at the 2007 elections and , shortly after this , blair resigned as prime minister and was replaced by his chancellor , gordon brown . although the party experienced a brief rise in the polls after this , its popularity soon slumped to its lowest level since the days of michael foot . during may 2008 , labour suffered heavy defeats in the london mayoral election , local elections and the loss in the crewe and nantwich by - election , culminating in the party registering its worst ever opinion poll result since records began in 1943 , of 23 %, with many citing brown ' s leadership as a key factor . membership of the party also reached a low ebb , falling to 156 , 205 by the end of 2009 : over 40 per cent of the 405 , 000 peak reached in 1997 and thought to be the lowest total since the party was founded .\n",
            "Predicted Answer: \n",
            "True Answer: 156 , 20\n",
            "--------------------------------------------------\n",
            "Question: what year was suranaree university of technology founded ?\n",
            "Context: institutes of technology with different origins are asian institute of technology , which developed from seato graduate school of engineering , and sirindhorn international institute of technology , an engineering school of thammasat university . suranaree university of technology is the only government - owned technological university in thailand that was established ( 1989 ) as such ; while mahanakorn university of technology is the most well known private technological institute . technology / technical colleges in thailand is associated with bitter rivalries which erupts into frequent off - campus brawls and assassinations of students in public locations that has been going on for nearly a decade , with innocent bystanders also commonly among the injured and the military under martial law still unable to stop them from occurring .\n",
            "Predicted Answer: 1989\n",
            "True Answer: 1989\n",
            "--------------------------------------------------\n",
            "Question: what style of literature could commonly be found in roman works ?\n",
            "Context: roman literature was from its very inception influenced heavily by greek authors . some of the earliest works we possess are of historical epics telling the early military history of rome . as the republic expanded , authors began to produce poetry , comedy , history , and tragedy . virgil represents the pinnacle of roman epic poetry . his aeneid tells the story of flight of aeneas from troy and his settlement of the city that would become rome .[ citation needed ] lucretius , in his on the nature of things , attempted to explicate science in an epic poem . the genre of satire was common in rome , and satires were written by , among others , juvenal and persius . the rhetorical works of cicero are considered [ by whom ?] to be some of the best bodies of correspondence recorded in antiquity .[ citation needed ]\n",
            "Predicted Answer: rome\n",
            "True Answer: poetry\n",
            "--------------------------------------------------\n",
            "Question: in what century was it believed that the uk used the word varsity to refer to a university ?\n",
            "Context: colloquially , the term university may be used to describe a phase in one ' s life : \" when i was at university ...\" ( in the united states and ireland , college is often used instead : \" when i was in college ...\"). in australia , canada , new zealand , the united kingdom , nigeria , the netherlands , spain and the german - speaking countries university is often contracted to uni . in ghana , new zealand and in south africa it is sometimes called \" varsity \" ( although this has become uncommon in new zealand in recent years ). \" varsity \" was also common usage in the uk in the 19th century .[ citation needed ] \" varsity \" is still in common usage in scotland .\n",
            "Predicted Answer: ( in the united states and ireland , college is often used instead : \" when i was in college ...\"). in australia , canada , new zealand , the united kingdom , nigeria , the netherlands , spain and the german - speaking countries university is often contracted to uni . in ghana\n",
            "True Answer: 19th\n",
            "--------------------------------------------------\n",
            "Question: the second most prominent religion in new york is what ?\n",
            "Context: christianity ( 59 %), particularly catholicism ( 33 %), was the most prevalently practiced religion in new york as of 2014 , followed by judaism , with approximately 1 . 1 million jews in new york city , over half living in brooklyn . islam ranks third in new york city , with official estimates ranging between 600 , 000 and 1 , 000 , 000 observers and including 10 % of the city ' s public schoolchildren , followed by hinduism , buddhism , and a variety of other religions , as well as atheism . in 2014 , 24 % self - identified with no organized religious affiliation .\n",
            "Predicted Answer: 10 %\n",
            "True Answer: judaism\n",
            "--------------------------------------------------\n",
            "Question: what year saw the death of gundobad ?\n",
            "Context: the political structure of western europe changed with the end of the united roman empire . although the movements of peoples during this period are usually described as \" invasions \", they were not just military expeditions but migrations of entire peoples into the empire . such movements were aided by the refusal of the western roman elites to support the army or pay the taxes that would have allowed the military to suppress the migration . the emperors of the 5th century were often controlled by military strongmen such as stilicho ( d . 408 ), aspar ( d . 471 ), ricimer ( d . 472 ), or gundobad ( d . 516 ), who were partly or fully of non - roman background . when the line of western emperors ceased , many of the kings who replaced them were from the same background . intermarriage between the new kings and the roman elites was common . this led to a fusion of roman culture with the customs of the invading tribes , including the popular assemblies that allowed free male tribal members more say in political matters than was common in the roman state . material artefacts left by the romans and the invaders are often similar , and tribal items were often modelled on roman objects . much of the scholarly and written culture of the new kingdoms was also based on roman intellectual traditions . an important difference was the gradual loss of tax revenue by the new polities . many of the new political entities no longer supported their armies through taxes , instead relying on granting them\n",
            "Predicted Answer: 471 ), ricimer ( d . 472 ), or gundobad ( d . 516\n",
            "True Answer: 516\n",
            "--------------------------------------------------\n",
            "Question: how many crosstown streets are mapped in the commissioner ' s plan of 1811 ?\n",
            "Context: 155th street is a major crosstown street considered to form the boundary between harlem and washington heights . it is the northernmost of the 155 crosstown streets mapped out in the commissioner ' s plan of 1811 that established the numbered street grid in manhattan .\n",
            "Predicted Answer: 155\n",
            "True Answer: 155\n",
            "--------------------------------------------------\n",
            "Question: in the drought stricken areas , how many litres of water did residents consume each day ?\n",
            "Context: in 2013 , the northern atolls of the marshall islands experienced drought . the drought left 6 , 000 people surviving on less than 1 litre ( 0 . 22 imp gal ; 0 . 26 us gal ) of water per day . this resulted in the failure of food crops and the spread of diseases such as diarrhea , pink eye , and influenza . these emergencies resulted in the united states president declaring an emergency in the islands . this declaration activated support from us government agencies under the republic ' s \" free association \" status with the united states , which provides humanitarian and other vital support .\n",
            "Predicted Answer: 2013\n",
            "True Answer: 1\n",
            "--------------------------------------------------\n",
            "Question: how many theories were included within the principia mathematica ?\n",
            "Context: in 1687 , isaac newton published the principia mathematica , detailing two comprehensive and successful physical theories : newton ' s laws of motion , which led to classical mechanics ; and newton ' s law of gravitation , which describes the fundamental force of gravity . the behavior of electricity and magnetism was studied by faraday , ohm , and others during the early 19th century . these studies led to the unification of the two phenomena into a single theory of electromagnetism , by james clerk maxwell ( known as maxwell ' s equations ).\n",
            "Predicted Answer: 1687 , isaac\n",
            "True Answer: two\n",
            "--------------------------------------------------\n",
            "Question: how many soldiers defended torii ' s last stand ?\n",
            "Context: torii mototada ( 1539 – 1600 ) was a feudal lord in the service of tokugawa ieyasu . on the eve of the battle of sekigahara , he volunteered to remain behind in the doomed fushimi castle while his lord advanced to the east . torii and tokugawa both agreed that the castle was indefensible . in an act of loyalty to his lord , torii chose to remain behind , pledging that he and his men would fight to the finish . as was custom , torii vowed that he would not be taken alive . in a dramatic last stand , the garrison of 2 , 000 men held out against overwhelming odds for ten days against the massive army of ishida mitsunari ' s 40 , 000 warriors . in a moving last statement to his son tadamasa , he wrote :\n",
            "Predicted Answer: 1539 – 1600 ) was a feudal lord in the service of tokugawa ieyasu . on the eve of the battle of sekigahara , he volunteered to remain behind in the doomed fushimi castle while his lord advanced to the east . torii and tokugawa both agreed that the castle was indefensible . in an act of loyalty to his lord , torii chose to remain behind , pledging that he and his men would fight to the finish . as was custom , torii vowed that he would not be taken alive . in a dramatic last stand , the garrison of 2 , 000\n",
            "True Answer: 2 , 000\n",
            "--------------------------------------------------\n",
            "Question: who did anglophone colonies democratically glorify hunting for ?\n",
            "Context: in most parts of medieval europe , the upper class obtained the sole rights to hunt in certain areas of a feudal territory . game in these areas was used as a source of food and furs , often provided via professional huntsmen , but it was also expected to provide a form of recreation for the aristocracy . the importance of this proprietary view of game can be seen in the robin hood legends , in which one of the primary charges against the outlaws is that they \" hunt the king ' s deer \". in contrast , settlers in anglophone colonies gloried democratically in hunting for all .\n",
            "Predicted Answer: in most parts of medieval europe , the upper class obtained the sole\n",
            "True Answer: all\n",
            "--------------------------------------------------\n",
            "Question: what subset includes every character in mes - 1 and wgl - 4 ?\n",
            "Context: several subsets of unicode are standardized : microsoft windows since windows nt 4 . 0 supports wgl - 4 with 652 characters , which is considered to support all contemporary european languages using the latin , greek , or cyrillic script . other standardized subsets of unicode include the multilingual european subsets : mes - 1 ( latin scripts only , 335 characters ), mes - 2 ( latin , greek and cyrillic 1062 characters ) and mes - 3a & mes - 3b ( two larger subsets , not shown here ). note that mes - 2 includes every character in mes - 1 and wgl - 4 .\n",
            "Predicted Answer: 335\n",
            "True Answer: mes - 2\n",
            "--------------------------------------------------\n",
            "Question: how many earthquake relief workers were killed ?\n",
            "Context: according to chinese state officials , the quake caused 69 , 180 known deaths including 68 , 636 in sichuan province ; 18 , 498 people are listed as missing , and 374 , 176 injured , but these figures may further increase as more reports come in .[ dated info ] this estimate includes 158 earthquake relief workers who were killed in landslides as they tried to repair roads .\n",
            "Predicted Answer: 158\n",
            "True Answer: 158\n",
            "--------------------------------------------------\n",
            "Question: when did alexander the great die ?\n",
            "Context: the hellenistic period covers the period of ancient greek ( hellenic ) history and mediterranean history between the death of alexander the great in 323 bc and the emergence of the roman empire as signified by the battle of actium in 31 bc and the subsequent conquest of ptolemaic egypt the following year . at this time , greek cultural influence and power was at its peak in europe , africa and asia , experiencing prosperity and progress in the arts , exploration , literature , theatre , architecture , music , mathematics , philosophy , and science . for example , competitive public games took place , ideas in biology , and popular entertainment in theaters . it is often considered a period of transition , sometimes even of decadence or degeneration , compared to the enlightenment of the greek classical era . the hellenistic period saw the rise of new comedy , alexandrian poetry , the septuagint and the philosophies of stoicism and epicureanism . greek science was advanced by the works of the mathematician euclid and the polymath archimedes . the religious sphere expanded to include new gods such as the greco - egyptian serapis , eastern deities such as attis and cybele and the greek adoption of buddhism .\n",
            "Predicted Answer: 323 bc and the emergence of the roman empire as signified by the battle of actium in 31 bc\n",
            "True Answer: 323 bc\n",
            "--------------------------------------------------\n",
            "Question: what type of miracle was attributed to pope paul vi ?\n",
            "Context: on 24 april 2014 , it was reported in the italian magazine credere that the late pope could possibly be beatified on 19 october 2014 . this report from the magazine further stated that several cardinals and bishops would meet on 5 may to confirm the miracle that had previously been approved , and then present it to pope francis who may sign the decree for beatification shortly after that . the congregation for the causes of saints held that meeting and positively concluded that the healing was indeed a miracle that could be attributed to the late pope . the matter shall now soon be presented to the pope for approval .\n",
            "Predicted Answer: 24\n",
            "True Answer: healing\n",
            "--------------------------------------------------\n",
            "Question: in what decade was disco popular ?\n",
            "Context: in the early 1970s , the miami disco sound came to life with tk records , featuring the music of kc and the sunshine band , with such hits as \" get down tonight \", \"( shake , shake , shake ) shake your booty \" and \" that ' s the way ( i like it )\"; and the latin - american disco group , foxy ( band ), with their hit singles \" get off \" and \" hot number \". miami - area natives george mccrae and teri desario were also popular music artists during the 1970s disco era . the bee gees moved to miami in 1975 and have lived here ever since then . miami - influenced , gloria estefan and the miami sound machine , hit the popular music scene with their cuban - oriented sound and had hits in the 1980s with \" conga \" and \" bad boys \".\n",
            "Predicted Answer: 1970s\n",
            "True Answer: 1970s\n",
            "--------------------------------------------------\n",
            "Question: where are hts teams working with the military in addition to afghanistan ?\n",
            "Context: anthropologists , along with other social scientists , are working with the us military as part of the us army ' s strategy in afghanistan . the christian science monitor reports that \" counterinsurgency efforts focus on better grasping and meeting local needs \" in afghanistan , under the human terrain system ( hts ) program ; in addition , hts teams are working with the us military in iraq . in 2009 , the american anthropological association ' s commission on the engagement of anthropology with the us security and intelligence communities released its final report concluding , in part , that , \" when ethnographic investigation is determined by military missions , not subject to external review , where data collection occurs in the context of war , integrated into the goals of counterinsurgency , and in a potentially coercive environment – all characteristic factors of the hts concept and its application – it can no longer be considered a legitimate professional exercise of anthropology . in summary , while we stress that constructive engagement between anthropology and the military is possible , ceaussic suggests that the aaa emphasize the incompatibility of hts with disciplinary ethics and practice for job seekers and that it further recognize the problem of allowing hts to define the meaning of \" anthropology \" within dod .\"\n",
            "Predicted Answer: ( hts ) program ; in addition , hts teams are working with the us military in iraq . in 2009\n",
            "True Answer: iraq\n",
            "--------------------------------------------------\n",
            "Question: how many natural isotopes does hydrogen have >\n",
            "Context: hydrogen has three naturally occurring isotopes , denoted 1h , 2h and 3h . other , highly unstable nuclei ( 4h to 7h ) have been synthesized in the laboratory but not observed in nature .\n",
            "Predicted Answer: \n",
            "True Answer: 3h\n",
            "--------------------------------------------------\n",
            "Question: dinic gives several alternate identities of what person ?\n",
            "Context: in the years after tito ' s death up to nowadays , some people have disputed his identity . tito ' s personal doctor , aleksandar matunović , wrote a book about tito in which he also questioned his true origin , noting that tito ' s habits and lifestyle could only mean that he was from an aristocratic family . serbian journalist vladan dinić ( born 1949 ), in tito nije tito , includes several possible alternate identities of tito .\n",
            "Predicted Answer: 1949\n",
            "True Answer: tito\n",
            "--------------------------------------------------\n",
            "Question: when did sewall wright make his suggestion about human populations ?\n",
            "Context: in 1978 , sewall wright suggested that human populations that have long inhabited separated parts of the world should , in general , be considered different subspecies by the usual criterion that most individuals of such populations can be allocated correctly by inspection . wright argued that it does not require a trained anthropologist to classify an array of englishmen , west africans , and chinese with 100 % accuracy by features , skin color , and type of hair despite so much variability within each of these groups that every individual can easily be distinguished from every other . however , it is customary to use the term race rather than subspecies for the major subdivisions of the human species as well as for minor ones .\n",
            "Predicted Answer: 1978 , sewall wright suggested that human populations that have long inhabited separated parts of the world should , in general , be considered different subspecies by the usual criterion that most individuals of such populations can be allocated correctly by inspection . wright argued that it does not require a trained anthropologist to classify an array of englishmen , west africans , and chinese with 100 %\n",
            "True Answer: 1978\n",
            "--------------------------------------------------\n",
            "Question: what percentage of students at notre dame are the children of former notre dame students ?\n",
            "Context: in 2014 the notre dame student body consisted of 12 , 179 students , with 8 , 448 undergraduates , 2 , 138 graduate and professional and 1 , 593 professional ( law , m . div ., business , m . ed .) students . around 21 – 24 % of students are children of alumni , and although 37 % of students come from the midwestern united states , the student body represents all 50 states and 100 countries . as of march 2007 [ update ] the princeton review ranked the school as the fifth highest ' dream school ' for parents to send their children . as of march 2015 [ update ] the princeton review ranked notre dame as the ninth highest . the school has been previously criticized for its lack of diversity , and the princeton review ranks the university highly among schools at which \" alternative lifestyles [ are ] not an alternative .\" it has also been commended by some diversity oriented publications ; hispanic magazine in 2004 ranked the university ninth on its list of the top – 25 colleges for latinos , and the journal of blacks in higher education recognized the university in 2006 for raising enrollment of african - american students . with 6 , 000 participants , the university ' s intramural sports program was named in 2004 by sports illustrated as the best program in the country , while in 2007 the princeton review named it as the top school where \" everyone plays intramural sports .\" the annual bookstore basketball tournament is the largest outdoor five -\n",
            "Predicted Answer: 179 students , with 8 , 448 undergraduates , 2 , 138 graduate and professional and 1 , 593 professional ( law , m . div ., business , m . ed .) students . around 21 – 24 %\n",
            "True Answer: 21 – 24 %\n",
            "--------------------------------------------------\n",
            "Question: what word is used to denominate nobility ?\n",
            "Context: in lithuania propria and in samogitia prior to the creation of the kingdom of lithuania by mindaugas , nobles were named die beste leuten in sources that were written in german language . in the lithuanian language nobles were named ponai . the higher nobility were named ' kunigai ' or ' kunigaikščiai ' ( dukes )— i . e ., loanword from scandinavic konung . they were the established local leaders and warlords . during the development of the state they gradually became subordinated to higher dukes , and later to the king of lithuania . because of expansion of lithuanian duchy into lands of ruthenia in the mid of 14th century a new term appeared to denominate nobility bajorai — from ruthenian ( modern ukrainian and belarusian languages ) бояре . this word to this day is used in lithuanian language to name nobility , not only for own , but also for nobility of other countries .\n",
            "Predicted Answer: \n",
            "True Answer: бояр\n",
            "--------------------------------------------------\n",
            "Question: what are the women who stormy city halls allowed to do to any passing man ?\n",
            "Context: the \" rheinische \" carnival is held in the west of germany , mainly in the states of north rhine - westphalia or nordrhein - westfalen , rhineland palatinate or rheinland - pfalz , but also in hessen [ including oberhessen ], bavaria and other states . some cities are more famous for celebrations such as parades and costume balls . köln or cologne carnival , as well as mainz and düsseldorf are the largest and most famous . other cities have their own , often less well - known celebrations , parades and parties such as worms am rhein , speyer , kaiserslautern , frankfurt , darmstadt , mannheim , ludwigshafen , stuttgart , augsburg and münchen [ munich ] nürnberg . on carnival thursday ( called \" old women day \" or \" the women ' s day \") in commemoration of an 1824 revolt by washer - women , women storm city halls , cut men ' s ties , and are allowed to kiss any passing man .\n",
            "Predicted Answer: \n",
            "True Answer: kiss\n",
            "--------------------------------------------------\n",
            "Question: in meters , what is the average height above sea level of the miami area ?\n",
            "Context: miami and its suburbs are located on a broad plain between the florida everglades to the west and biscayne bay to the east , which also extends from florida bay north to lake okeechobee . the elevation of the area never rises above 40 ft ( 12 m ) and averages at around 6 ft ( 1 . 8 m ) above mean sea level in most neighborhoods , especially near the coast . the highest undulations are found along the coastal miami rock ridge , whose substrate underlies most of the eastern miami metropolitan region . the main portion of the city lies on the shores of biscayne bay which contains several hundred natural and artificially created barrier islands , the largest of which contains miami beach and south beach . the gulf stream , a warm ocean current , runs northward just 15 miles ( 24 km ) off the coast , allowing the city ' s climate to stay warm and mild all year .\n",
            "Predicted Answer: 12 m ) and averages at around 6 ft ( 1 . 8\n",
            "True Answer: 1 . 8\n",
            "--------------------------------------------------\n",
            "Question: when did the southern and northern nigeria protectorates merge ?\n",
            "Context: modern - day nigeria has been the site of numerous kingdoms and tribal states over the millennia . the modern state originated from british colonial rule beginning in the 19th century , and the merging of the southern nigeria protectorate and northern nigeria protectorate in 1914 . the british set up administrative and legal structures whilst practising indirect rule through traditional chiefdoms . nigeria became a formally independent federation in 1960 , and plunged into a civil war from 1967 to 1970 . it has since alternated between democratically - elected civilian governments and military dictatorships , until it achieved a stable democracy in 1999 , with its 2011 presidential elections being viewed as the first to be conducted reasonably freely and fairly .\n",
            "Predicted Answer: 1914 . the british set up administrative and legal structures whilst practising indirect rule through traditional chiefdoms . nigeria became a formally independent federation in 1960\n",
            "True Answer: 1914\n",
            "--------------------------------------------------\n",
            "Question: how many bird species are long distance migrants ?\n",
            "Context: migration is the regular seasonal movement , often north and south , undertaken by many species of birds . bird movements include those made in response to changes in food availability , habitat , or weather . sometimes , journeys are not termed \" true migration \" because they are irregular ( nomadism , invasions , irruptions ) or in only one direction ( dispersal , movement of young away from natal area ). migration is marked by its annual seasonality . non - migratory birds are said to be resident or sedentary . approximately 1800 of the world ' s 10 , 000 bird species are long - distance migrants .\n",
            "Predicted Answer: 1800 of the world ' s 10 , 000\n",
            "True Answer: 1800\n",
            "--------------------------------------------------\n",
            "Question: what was the capital of danish estonia ?\n",
            "Context: the capital of danish estonia ( danish : hertugdømmet estland ) was reval ( tallinn ), founded at the place of lyndanisse after the invasion of 1219 . the danes built the fortress of castrum danorum at toompea hill . estonians still call their capital \" tallinn \", which according to legend derives from taani linna ( meaning danish town or castle ). reval was granted lübeck city rights ( 1248 ) and joined the hanseatic league . even today , danish influence can be seen in heraldic symbols . the danish cross is on the city of tallinn ' s coat of arms , and estonia ' s coat of arms displays three lions similar to those found on the danish coat of arms .\n",
            "Predicted Answer: 1248 ) and joined the hanseatic league . even today , danish influence can be seen in heraldic symbols . the danish cross is on the city of tallinn ' s coat of arms , and estonia ' s coat of arms displays three\n",
            "True Answer: reval\n",
            "--------------------------------------------------\n",
            "Question: by 1931 , ashkenazi jews were what percentage of the world jewry ?\n",
            "Context: in an essay on sephardi jewry , daniel elazar at the jerusalem center for public affairs summarized the demographic history of ashkenazi jews in the last thousand years , noting that at the end of the 11th century , 97 % of world jewry was sephardic and 3 % ashkenazi ; by the end of xvi century , the : ' treaty on the redemption of captives ', by gracian of the god ' s mother , mercy priest , who was imprisoned by turks , cites a tunisian hebrew , made captive when arriving to gaeta , who aided others with money , named : ' simon escanasi ', in the mid - 17th century , \" sephardim still outnumbered ashkenazim three to two \", but by the end of the 18th century , \" ashkenazim outnumbered sephardim three to two , the result of improved living conditions in christian europe versus the ottoman muslim world .\" by 1931 , ashkenazi jews accounted for nearly 92 % of world jewry . these factors are sheer demography showing the migration patterns of jews from southern and western europe to central and eastern europe .\n",
            "Predicted Answer: \n",
            "True Answer: 92 %\n",
            "--------------------------------------------------\n",
            "Question: the conservative movement occurred during which year ?\n",
            "Context: the state united behind the plan of ayutla and ratified the new constitution in 1855 . the state was able to survive through the reform war with minimal damage due to the large number of liberal political figures . the 1858 conservative movement did not succeed in the state even after the successful military campaign of the conservative zuloaga with 1 , 000 men occupied the cities of chihuahua and parral . in august 1859 , zuloaga and his forces were defeated by the liberal orozco and his forces ; orozco soon after deposed the state governor , but had to flee to durango two months later . in the late 1860s the conservative general cajen briefly entered the state after his campaign through the state of jalisco and helped establish conservative politicians and ran out the liberal leaders jesús gonzález ortega and josé maría patoni . cajen took possession of the state capital and established himself as governor ; he brooked no delay in uniting a large force to combat the liberal forces which he defeated in la batalla del gallo . cajen attained several advantages over the liberals within the state , but soon lost his standing due to a strong resurgence of the liberal forces within the state . the successful liberal leaders josé maría patoni of durango and j . e . muñoz of chihuahua quickly strengthened their standing by limiting the political rights\n",
            "Predicted Answer: 1855 . the state was able to survive through the reform war with minimal damage due to the large number of liberal political figures . the 1858 conservative movement did not succeed in the state even after the successful military campaign of the conservative zuloaga with 1 , 000\n",
            "True Answer: 1858\n",
            "--------------------------------------------------\n",
            "Question: how many people were stricken by drought in 2013 ?\n",
            "Context: in 2013 , the northern atolls of the marshall islands experienced drought . the drought left 6 , 000 people surviving on less than 1 litre ( 0 . 22 imp gal ; 0 . 26 us gal ) of water per day . this resulted in the failure of food crops and the spread of diseases such as diarrhea , pink eye , and influenza . these emergencies resulted in the united states president declaring an emergency in the islands . this declaration activated support from us government agencies under the republic ' s \" free association \" status with the united states , which provides humanitarian and other vital support .\n",
            "Predicted Answer: 2013\n",
            "True Answer: 6 , 000\n",
            "--------------------------------------------------\n",
            "Question: in literary contexts , who represents harmony , order and reason ?\n",
            "Context: in literary contexts , apollo represents harmony , order , and reason — characteristics contrasted with those of dionysus , god of wine , who represents ecstasy and disorder . the contrast between the roles of these gods is reflected in the adjectives apollonian and dionysian . however , the greeks thought of the two qualities as complementary : the two gods are brothers , and when apollo at winter left for hyperborea , he would leave the delphic oracle to dionysus . this contrast appears to be shown on the two sides of the borghese vase .\n",
            "Predicted Answer: \n",
            "True Answer: apollo\n",
            "--------------------------------------------------\n",
            "Question: britian faught side by side with what country in the second opium war ?\n",
            "Context: in 1838 with the amount of smuggled opium entering china approaching 1 , 400 tons a year , the chinese imposed a death penalty for opium smuggling and sent a special imperial commissioner , lin zexu , to curb smuggling . this resulted in the first opium war ( 1839 – 42 ). after the war hong kong island was ceded to britain under the treaty of nanking and the chinese market opened to the opium traders of britain and other nations . the jardines and apcar and company dominated the trade , although p & o also tried to take a share . a second opium war fought by britain and france against china lasted from 1856 until 1860 and led to the treaty of tientsin , which legalised the importation of opium . legalisation stimulated domestic chinese opium production and increased the importation of opium from turkey and persia . this increased competition for the chinese market led to india reducing its opium output and diversifying its exports .\n",
            "Predicted Answer: 1838\n",
            "True Answer: france\n",
            "--------------------------------------------------\n",
            "Question: about what percentage of old english words are not present in modern english ?\n",
            "Context: old english was not static , and its usage covered a period of 700 years , from the anglo - saxon settlement of britain in the 5th century to the late 11th century , some time after the norman invasion . while indicating that the establishment of dates is an arbitrary process , albert baugh dates old english from 450 to 1150 , a period of full inflections , a synthetic language . perhaps around 85 per cent of old english words are no longer in use , but those that survived , to be sure , are basic elements of modern english vocabulary .\n",
            "Predicted Answer: \n",
            "True Answer: 85\n",
            "--------------------------------------------------\n",
            "Question: what radio station aired the hot mix 5 show ?\n",
            "Context: club play from pioneering chicago djs such as hardy and lil louis , local dance music record shops such as importes , state street records , loop records , gramaphone records and the popular hot mix 5 shows on radio station wbmx - fm helped popularize house music in chicago . later , visiting djs & producers from detroit fell into the genre . trax records and dj international records , chicago labels with wider distribution , helped popularize house music inside and outside of chicago . one 1986 house tune called \" move your body \" by marshall jefferson , taken from the appropriately titled \" the house music anthem \" ep , became a big hit in chicago and eventually worldwide . by 1986 , uk labels were releasing house music by chicago acts , and by 1987 house tracks by chicago djs and producers were appearing on and topping the uk music chart . by this time , house music released by chicago - based labels was considered a must - play in clubs .\n",
            "Predicted Answer: 1986\n",
            "True Answer: wbmx\n",
            "--------------------------------------------------\n",
            "Question: in what year did the tito - stalin split occur ?\n",
            "Context: the decorations were seldom displayed , however . after the tito – stalin split of 1948 and his inauguration as president in 1953 , tito rarely wore his uniform except when present in a military function , and then ( with rare exception ) only wore his yugoslav ribbons for obvious practical reasons . the awards were displayed in full number only at his funeral in 1980 . tito ' s reputation as one of the allied leaders of world war ii , along with his diplomatic position as the founder of the non - aligned movement , was primarily the cause of the favorable international recognition .\n",
            "Predicted Answer: \n",
            "True Answer: 1948\n",
            "--------------------------------------------------\n",
            "Question: what usually partakes in a form of parthenogenesis ?\n",
            "Context: some insects use parthenogenesis , a process in which the female can reproduce and give birth without having the eggs fertilized by a male . many aphids undergo a form of parthenogenesis , called cyclical parthenogenesis , in which they alternate between one or many generations of asexual and sexual reproduction . in summer , aphids are generally female and parthenogenetic ; in the autumn , males may be produced for sexual reproduction . other insects produced by parthenogenesis are bees , wasps and ants , in which they spawn males . however , overall , most individuals are female , which are produced by fertilization . the males are haploid and the females are diploid . more rarely , some insects display hermaphroditism , in which a given individual has both male and female reproductive organs .\n",
            "Predicted Answer: some insects use parthenogenesis , a process in which the female can reproduce and give birth without having the eggs fertilized by a male . many aphids undergo a form of parthenogenesis , called cyclical parthenogenesis , in which they alternate between one or many generations of asexual and sexual reproduction . in summer , aphids are generally female and parthenogenetic ; in the autumn\n",
            "True Answer: aphids\n",
            "--------------------------------------------------\n",
            "Question: where does sciarra ' s funeral take place ?\n",
            "Context: bond disobeys m ' s order and travels to rome to attend sciarra ' s funeral . that evening he visits sciarra ' s widow lucia , who tells him about spectre , a criminal organisation to which her husband belonged . bond infiltrates a spectre meeting , where he identifies the leader , franz oberhauser . when oberhauser addresses bond by name , he escapes and is pursued by mr . hinx , a spectre assassin . moneypenny informs bond that the information he collected leads to mr . white , former member of quantum , a subsidiary of spectre . bond asks her to investigate oberhauser , who was presumed dead years earlier .\n",
            "Predicted Answer: rome to attend sciarra\n",
            "True Answer: rome\n",
            "--------------------------------------------------\n",
            "Question: when did monks in the drepung and sera monasteries start protesting for independence ?\n",
            "Context: in 1980 , general secretary and reformist hu yaobang visited tibet and ushered in a period of social , political , and economic liberalization . at the end of the decade , however , analogously to the tiananmen square protests of 1989 , monks in the drepung and sera monasteries started protesting for independence , and so the government halted reforms and started an anti - separatist campaign . human rights organisations have been critical of the beijing and lhasa governments ' approach to human rights in the region when cracking down on separatist convulsions that have occurred around monasteries and cities , most recently in the 2008 tibetan unrest .\n",
            "Predicted Answer: 1980\n",
            "True Answer: 1989\n",
            "--------------------------------------------------\n",
            "Question: what year did the end of imperial china occur ?\n",
            "Context: on 12 february 1912 , after rounds of negotiations , longyu issued an imperial edict bringing about the abdication of the child emperor puyi . this brought an end to over 2 , 000 years of imperial china and began an extended period of instability of warlord factionalism . the unorganized political and economic systems combined with a widespread criticism of chinese culture led to questioning and doubt about the future . in the 1930s , the empire of japan invaded northeast china and founded manchukuo in 1932 , with puyi , as the emperor . after the invasion by the soviet union , manchukuo collapsed in 1945 .\n",
            "Predicted Answer: \n",
            "True Answer: 1912\n",
            "--------------------------------------------------\n",
            "Question: who developed the social bond theory ?\n",
            "Context: in the 1990s , sociologists focused on different aspects of specific emotions and how these emotions were socially relevant . for cooley ( 1992 ), pride and shame were the most important emotions that drive people to take various social actions . during every encounter , he proposed that we monitor ourselves through the \" looking glass \" that the gestures and reactions of others provide . depending on these reactions , we either experience pride or shame and this results in particular paths of action . retzinger ( 1991 ) conducted studies of married couples who experienced cycles of rage and shame . drawing predominantly on goffman and cooley ' s work , scheff ( 1990 ) developed a micro sociological theory of the social bond . the formation or disruption of social bonds is dependent on the emotions that people experience during interactions .\n",
            "Predicted Answer: \n",
            "True Answer: scheff\n",
            "--------------------------------------------------\n",
            "Question: when did madonna have nude photos taken of her in new york ?\n",
            "Context: beginning in april 1985 , madonna embarked on her first concert tour in north america , the virgin tour , with the beastie boys as her opening act . she progressed from playing cbgb and the mudd club to playing large sporting arenas . at that time she released two more hit singles from the album , \" angel \" and \" dress you up \". in july , penthouse and playboy magazines published a number of nude photos of madonna , taken in new york in 1978 . she had posed for the photographs as she needed money at the time , and was paid as little as $ 25 a session . the publication of the photos caused a media uproar , but madonna remained \" unapologetic and defiant \". the photographs were ultimately sold for up to $ 100 , 000 . she referred to these events at the 1985 outdoor live aid charity concert , saying that she would not take her jacket off because \"[ the media ] might hold it against me ten years from now .\"\n",
            "Predicted Answer: $ 25 a session . the publication of the photos caused a media uproar , but madonna remained \" unapologetic and defiant \". the photographs were ultimately sold for up to $ 100 , 000\n",
            "True Answer: 1978\n",
            "--------------------------------------------------\n",
            "Question: compared to the rest of the us , does alaska has many or few road connections ?\n",
            "Context: alaska has few road connections compared to the rest of the u . s . the state ' s road system covers a relatively small area of the state , linking the central population centers and the alaska highway , the principal route out of the state through canada . the state capital , juneau , is not accessible by road , only a car ferry , which has spurred several debates over the decades about moving the capital to a city on the road system , or building a road connection from haines . the western part of alaska has no road system connecting the communities with the rest of alaska .\n",
            "Predicted Answer: \n",
            "True Answer: few\n",
            "--------------------------------------------------\n",
            "Question: what was the title of the leader of a monastery ?\n",
            "Context: the early middle ages witnessed the rise of monasticism in the west . the shape of european monasticism was determined by traditions and ideas that originated with the desert fathers of egypt and syria . most european monasteries were of the type that focuses on community experience of the spiritual life , called cenobitism , which was pioneered by pachomius ( d . 348 ) in the 4th century . monastic ideals spread from egypt to western europe in the 5th and 6th centuries through hagiographical literature such as the life of anthony . benedict of nursia ( d . 547 ) wrote the benedictine rule for western monasticism during the 6th century , detailing the administrative and spiritual responsibilities of a community of monks led by an abbot . monks and monasteries had a deep effect on the religious and political life of the early middle ages , in various cases acting as land trusts for powerful families , centres of propaganda and royal support in newly conquered regions , and bases for missions and proselytisation . they were the main and sometimes only outposts of education and literacy in a region . many of the surviving manuscripts of the latin classics were copied in monasteries in the early middle ages . monks were also the authors of new works , including history , theology , and other subjects , written by authors such as bede ( d . 735 ), a native of northern england who wrote in the late 7th and early 8th centuries .\n",
            "Predicted Answer: 348\n",
            "True Answer: abbot\n",
            "--------------------------------------------------\n",
            "Question: visits to the times website have decreased by how much since october 2011 ?\n",
            "Context: visits to the websites have decreased by 87 % since the paywall was introduced , from 21 million unique users per month to 2 . 7 million . in april 2009 , the timesonline site had a readership of 750 , 000 readers per day . as of october 2011 , there were around 111 , 000 subscribers to the times ' digital products .\n",
            "Predicted Answer: \n",
            "True Answer: 87 %\n",
            "--------------------------------------------------\n",
            "Question: what year was the deadly bubonic plague in strasbourg ?\n",
            "Context: a revolution in 1332 resulted in a broad - based city government with participation of the guilds , and strasbourg declared itself a free republic . the deadly bubonic plague of 1348 was followed on 14 february 1349 by one of the first and worst pogroms in pre - modern history : over a thousand jews were publicly burnt to death , with the remainder of the jewish population being expelled from the city . until the end of the 18th century , jews were forbidden to remain in town after 10 pm . the time to leave the city was signalled by a municipal herald blowing the grüselhorn ( see below , museums , musée historique );. a special tax , the pflastergeld ( pavement money ), was furthermore to be paid for any horse that a jew would ride or bring into the city while allowed to .\n",
            "Predicted Answer: 1332 resulted in a broad - based city government with participation of the guilds , and strasbourg declared itself a free republic . the deadly bubonic plague of 1348 was followed on 14 february 1349\n",
            "True Answer: 1348\n",
            "--------------------------------------------------\n",
            "Question: which channel aired ' falling skies '?\n",
            "Context: in 2011 , spielberg launched falling skies , a science fiction television series , on the tnt network . he developed the series with robert rodat and is credited as an executive producer . spielberg is also producing the fox tv series terra nova . terra nova begins in the year 2149 when all life on the planet earth is threatened with extinction resulting in scientists opening a door that allows people to travel back 85 million years to prehistoric times . spielberg also produced the river , smash , under the dome , extant and the whispers , as well as a tv adaptation of minority report .\n",
            "Predicted Answer: \n",
            "True Answer: tnt\n",
            "--------------------------------------------------\n",
            "Question: when was the first major controversy that surfaced from the book ?\n",
            "Context: one of the first incidents of the book being challenged was in hanover , virginia , in 1966 : a parent protested that the use of rape as a plot device was immoral . johnson cites examples of letters to local newspapers , which ranged from amusement to fury ; those letters expressing the most outrage , however , complained about mayella ewell ' s attraction to tom robinson over the depictions of rape . upon learning the school administrators were holding hearings to decide the book ' s appropriateness for the classroom , harper lee sent $ 10 to the richmond news leader suggesting it to be used toward the enrollment of \" the hanover county school board in any first grade of its choice \". the national education association in 1968 placed the novel second on a list of books receiving the most complaints from private organizations — after little black sambo .\n",
            "Predicted Answer: $ 10 to the richmond news leader suggesting it to be used toward the enrollment of \" the hanover county school board in any first grade of its choice \". the national education association in 1968\n",
            "True Answer: 1966\n",
            "--------------------------------------------------\n",
            "Question: how many hectares is southampton common ?\n",
            "Context: southampton is divided into council wards , suburbs , constituencies , ecclesiastical parishes , and other less formal areas . it has a number of parks and green spaces , the largest being the 148 hectare southampton common , parts of which are used to host the annual summer festivals , circuses and fun fairs . the common includes hawthorns urban wildlife centre on the former site of southampton zoo , a paddling pool and several lakes and ponds .\n",
            "Predicted Answer: 148\n",
            "True Answer: 148\n",
            "--------------------------------------------------\n",
            "Question: brain tissue that is living is what color on the outside ?\n",
            "Context: the brains of vertebrates are made of very soft tissue . living brain tissue is pinkish on the outside and mostly white on the inside , with subtle variations in color . vertebrate brains are surrounded by a system of connective tissue membranes called meninges that separate the skull from the brain . blood vessels enter the central nervous system through holes in the meningeal layers . the cells in the blood vessel walls are joined tightly to one another , forming the blood – brain barrier , which blocks the passage of many toxins and pathogens ( though at the same time blocking antibodies and some drugs , thereby presenting special challenges in treatment of diseases of the brain ).\n",
            "Predicted Answer: white\n",
            "True Answer: pinkish\n",
            "--------------------------------------------------\n",
            "Question: dogs do not require a very high level of what when eating ?\n",
            "Context: despite their descent from wolves and classification as carnivora , dogs are variously described in scholarly and other writings as carnivores or omnivores . unlike obligate carnivores , such as the cat family with its shorter small intestine , dogs can adapt to a wide - ranging diet , and are not dependent on meat - specific protein nor a very high level of protein in order to fulfill their basic dietary requirements . dogs will healthily digest a variety of foods , including vegetables and grains , and can consume a large proportion of these in their diet . comparing dogs and wolves , dogs have adaptations in genes involved in starch digestion that contribute to an increased ability to thrive on a starch - rich diet .\n",
            "Predicted Answer: despite their descent from wolves and classification as carnivora , dogs are variously described in scholarly and other writings as carnivores or omnivores . unlike obligate carnivores , such as the cat family with its shorter small intestine , dogs can adapt to a wide - ranging diet , and are not dependent on meat - specific protein nor a very high level of protein in order to fulfill their basic dietary requirements . dogs will healthily digest a variety of foods , including vegetables and grains , and can consume a large proportion of these in their diet . comparing dogs and wolves , dogs have adaptations in genes involved in starch\n",
            "True Answer: protein\n",
            "--------------------------------------------------\n",
            "Question: what language , according to the text , may need double stops to indicate aspiration length ?\n",
            "Context: there are no dedicated ipa symbols for degrees of aspiration and typically only two degrees are marked : unaspirated ⟨ k ⟩ and aspirated ⟨ kʰ ⟩. an old symbol for light aspiration was ⟨ ʻ ⟩, but this is now obsolete . the aspiration modifier letter may be doubled to indicate especially strong or long aspiration . hence , the two degrees of aspiration in korean stops are sometimes transcribed ⟨ kʰ kʰʰ ⟩ or ⟨ kʻ ⟩ and ⟨ kʰ ⟩, but they are usually transcribed [ k ] and [ kʰ ], with the details of voice - onset time given numerically .\n",
            "Predicted Answer: \n",
            "True Answer: korean\n",
            "--------------------------------------------------\n",
            "Question: how many billboard hits did american idol produce in its first ten years ?\n",
            "Context: the success of american idol has been described as \" unparalleled in broadcasting history \". the series was also said by a rival tv executive to be \" the most impactful show in the history of television \". it has become a recognized springboard for launching the career of many artists as bona fide stars . according to billboard magazine , in its first ten years , \" idol has spawned 345 billboard chart - toppers and a platoon of pop idols , including kelly clarkson , carrie underwood , chris daughtry , fantasia , ruben studdard , jennifer hudson , clay aiken , adam lambert and jordin sparks while remaining a tv ratings juggernaut .\"\n",
            "Predicted Answer: 345\n",
            "True Answer: 345\n",
            "--------------------------------------------------\n",
            "Question: how many bearers of the torch were used in india ?\n",
            "Context: india : due to concerns about pro - tibet protests , the relay through new delhi on april 17 was cut to just 2 . 3 km ( less than 1 . 5 miles ), which was shared amongst 70 runners . it concluded at the india gate . the event was peaceful due to the public not being allowed at the relay . a total of five intended torchbearers - kiran bedi , soha ali khan , sachin tendulkar , bhaichung bhutia and sunil gavaskar - withdrew from the event , citing \" personal reasons \", or , in bhutia ' s case , explicitly wishing to \" stand by the people of tibet and their struggle \" and protest against the prc \" crackdown \" in tibet . indian national football captain , baichung bhutia refused to take part in the indian leg of the torch relay , citing concerns over tibet . bhutia , who is sikkimese , is the first athlete to refuse to run with the torch . indian film star aamir khan states on his personal blog that the \" olympic games do not belong to china \" and confirms taking part in the torch relay \" with a prayer in his heart for the people of tibet , and ... for all people across the world who are victims of human rights violations \". rahul gandhi , son of the congress president sonia gandhi and scion of the nehru - gand\n",
            "Predicted Answer: \n",
            "True Answer: 70\n",
            "--------------------------------------------------\n",
            "Question: near what city were concave spectacles invented ?\n",
            "Context: in the 12th and 13th centuries , europe produced economic growth and innovations in methods of production . major technological advances included the invention of the windmill , the first mechanical clocks , the manufacture of distilled spirits , and the use of the astrolabe . concave spectacles were invented around 1286 by an unknown italian artisan , probably working in or near pisa .\n",
            "Predicted Answer: \n",
            "True Answer: pisa\n",
            "--------------------------------------------------\n",
            "Question: what other musician shows to have elements of chopin in his work ?\n",
            "Context: chopin ' s qualities as a pianist and composer were recognized by many of his fellow musicians . schumann named a piece for him in his suite carnaval , and chopin later dedicated his ballade no . 2 in f major to schumann . elements of chopin ' s music can be traced in many of liszt ' s later works . liszt later transcribed for piano six of chopin ' s polish songs . a less fraught friendship was with alkan , with whom he discussed elements of folk music , and who was deeply affected by chopin ' s death .\n",
            "Predicted Answer: six\n",
            "True Answer: liszt\n",
            "--------------------------------------------------\n",
            "Question: how many major department stores did baltimore have at the time ?\n",
            "Context: all major cities have their distinctive local department stores , which anchored the downtown shopping district until the arrival of the malls in the 1960s . washington , for example , after 1887 had woodward & lothrop and garfinckel ' s starting in 1905 . garfield ' s went bankrupt in 1990 , as did woodward & lothrop in 1994 . baltimore had four major department stores : hutzler ' s was the prestige leader , followed by hecht ' s , hochschild ' s and stewart ' s . they all operated branches in the suburbs , but all closed in the late twentieth century . by 2015 , most locally owned department stores around the country had been consolidated into larger chains , or had closed down entirely .\n",
            "Predicted Answer: 1905 . garfield ' s went bankrupt in 1990\n",
            "True Answer: four\n",
            "--------------------------------------------------\n",
            "Question: what percentage of greece ' s gdp does shipping account for ?\n",
            "Context: in terms of ship categories , greek companies have 22 . 6 % of the world ' s tankers and 16 . 1 % of the world ' s bulk carriers ( in dwt ). an additional equivalent of 27 . 45 % of the world ' s tanker dwt is on order , with another 12 . 7 % of bulk carriers also on order . shipping accounts for an estimated 6 % of greek gdp , employs about 160 , 000 people ( 4 % of the workforce ), and represents 1 / 3 of the country ' s trade deficit . earnings from shipping amounted to € 14 . 1 billion in 2011 , while between 2000 and 2010 greek shipping contributed a total of € 140 billion ( half of the country ' s public debt in 2009 and 3 . 5 times the receipts from the european union in the period 2000 – 2013 ). the 2011 ecsa report showed that there are approximately 750 greek shipping companies in operation .\n",
            "Predicted Answer: \n",
            "True Answer: 6 %\n",
            "--------------------------------------------------\n",
            "Question: when was the low point in philadelphia ' s population ?\n",
            "Context: according to the 2014 united states census estimates , there were 1 , 560 , 297 people residing in the city of philadelphia , representing a 2 . 2 % increase since 2010 . from the 1960s up until 2006 , the city ' s population declined year after year . it eventually reached a low of 1 , 488 , 710 residents in 2006 before beginning to rise again . since 2006 , philadelphia added 71 , 587 residents in eight years . a study done by the city projected that the population would increase to about 1 , 630 , 000 residents by 2035 , an increase of about 100 , 000 from 2010 .\n",
            "Predicted Answer: 297 people residing in the city of philadelphia , representing a 2 . 2 %\n",
            "True Answer: 2006\n",
            "--------------------------------------------------\n",
            "Question: what was burke ' s mother ' s maiden name ?\n",
            "Context: burke was born in dublin , ireland . his mother mary née nagle ( c . 1702 – 1770 ) was a roman catholic who hailed from a déclassé county cork family ( and a cousin of nano nagle ), whereas his father , a successful solicitor , richard ( died 1761 ), was a member of the church of ireland ; it remains unclear whether this is the same richard burke who converted from catholicism . the burke dynasty descends from an anglo - norman knight surnamed de burgh ( latinised as de burgo ) who arrived in ireland in 1185 following henry ii of england ' s 1171 invasion of ireland .\n",
            "Predicted Answer: 1770\n",
            "True Answer: nagle\n",
            "--------------------------------------------------\n",
            "Question: who became the emperor ?\n",
            "Context: hong taiji died suddenly in september 1643 without a designated heir . as the jurchens had traditionally \" elected \" their leader through a council of nobles , the qing state did not have in place a clear succession system until the reign of the kangxi emperor . the leading contenders for power at this time were hong taiji ' s oldest son hooge and hong taiji ' half brother dorgon . a compromise candidate in the person of hong taiji ' s five - year - old son , fulin , was installed as the shunzhi emperor , with dorgon as regent and de facto leader of the manchu nation .\n",
            "Predicted Answer: 1643 without a designated heir . as the jurchens had traditionally \" elected \" their leader through a council of nobles , the qing state did not have in place a clear succession system until the reign of the kangxi emperor . the leading contenders for power at this time were hong taiji ' s oldest son hooge and hong taiji ' half brother dorgon . a compromise candidate in the person of hong taiji ' s five\n",
            "True Answer: fulin\n",
            "--------------------------------------------------\n",
            "Question: how many people attended the lviv pre - election meetings ?\n",
            "Context: from april 20 – 23 , 1989 , pre - election meetings were held in lviv for four consecutive days , drawing crowds of up to 25 , 000 . the action included an one - hour warning strike at eight local factories and institutions . it was the first labor strike in lviv since 1944 . on may 3 , a pre - election rally attracted 30 , 000 in lviv . on may 7 , the memorial society organized a mass meeting at bykivnia , site of a mass grave of ukrainian and polish victims of stalinist terror . after a march from kiev to the site , a memorial service was staged .\n",
            "Predicted Answer: four consecutive days , drawing crowds of up to 25 , 000\n",
            "True Answer: 25 , 000\n",
            "--------------------------------------------------\n",
            "Question: what percentage of people worked in finance and insurance ?\n",
            "Context: at the 2012 census , 59 . 5 % of jobs in the paris region were in market services ( 12 . 0 % in wholesale and retail trade , 9 . 7 % in professional , scientific , and technical services , 6 . 5 % in information and communication , 6 . 5 % in transportation and warehousing , 5 . 9 % in finance and insurance , 5 . 8 % in administrative and support services , 4 . 6 % in accommodation and food services , and 8 . 5 % in various other market services ), 26 . 9 % in non - market services ( 10 . 4 % in human health and social work activities , 9 . 6 % in public administration and defence , and 6 . 9 % in education ), 8 . 2 % in manufacturing and utilities ( 6 . 6 % in manufacturing and 1 . 5 % in utilities ), 5 . 2 % in construction , and 0 . 2 % in agriculture .\n",
            "Predicted Answer: \n",
            "True Answer: 5 . 9\n",
            "--------------------------------------------------\n",
            "Question: in pcleds method , a fraction of what light is used ?\n",
            "Context: this method involves coating leds of one color ( mostly blue leds made of ingan ) with phosphors of different colors to form white light ; the resultant leds are called phosphor - based or phosphor - converted white leds ( pcleds ). a fraction of the blue light undergoes the stokes shift being transformed from shorter wavelengths to longer . depending on the color of the original led , phosphors of different colors can be employed . if several phosphor layers of distinct colors are applied , the emitted spectrum is broadened , effectively raising the color rendering index ( cri ) value of a given led .\n",
            "Predicted Answer: white\n",
            "True Answer: blue\n",
            "--------------------------------------------------\n",
            "Question: when did aryabhata live ?\n",
            "Context: indian astronomer and mathematician aryabhata ( 476 - 550 ), in his aryabhatiya ( 499 ) introduced a number of trigonometric functions ( including sine , versine , cosine and inverse sine ), trigonometric tables , and techniques and algorithms of algebra . in 628 ad , brahmagupta suggested that gravity was a force of attraction . he also lucidly explained the use of zero as both a placeholder and a decimal digit , along with the hindu - arabic numeral system now used universally throughout the world . arabic translations of the two astronomers ' texts were soon available in the islamic world , introducing what would become arabic numerals to the islamic world by the 9th century . during the 14th – 16th centuries , the kerala school of astronomy and mathematics made significant advances in astronomy and especially mathematics , including fields such as trigonometry and analysis . in particular , madhava of sangamagrama is considered the \" founder of mathematical analysis \".\n",
            "Predicted Answer: 476 - 550\n",
            "True Answer: 476 - 5\n",
            "--------------------------------------------------\n",
            "Question: when was gaddafi ' s son by fatiha al - nuri born ?\n",
            "Context: gaddafi married his first wife , fatiha al - nuri , in 1969 . she was the daughter of general khalid , a senior figure in king idris ' administration , and was from a middle - class background . although they had one son , muhammad gaddafi ( b . 1970 ), their relationship was strained , and they divorced in 1970 . gaddafi ' s second wife was safia farkash , née el - brasai , a former nurse from obeidat tribe born in bayda . they met in 1969 , following his ascension to power , when he was hospitalized with appendicitis ; he claimed that it was love at first sight . the couple remained married until his death . together they had seven biological children : saif al - islam gaddafi ( b . 1972 ), al - saadi gaddafi ( b . 1973 ), mutassim gaddafi ( 1974 – 2011 ), hannibal muammar gaddafi ( b . 1975 ), ayesha gaddafi ( b . 1976 ), saif al - arab gaddafi ( 1982 – 2011 ), and khamis gaddafi ( 1983 – 2011 ). he also adopted two children , hanna gaddafi and milad gaddafi .\n",
            "Predicted Answer: 1969\n",
            "True Answer: 1970\n",
            "--------------------------------------------------\n",
            "Question: in which year did chopin begin experiencing a serious decline in health ?\n",
            "Context: from 1842 onwards , chopin showed signs of serious illness . after a solo recital in paris on 21 february 1842 , he wrote to grzymała : \" i have to lie in bed all day long , my mouth and tonsils are aching so much .\" he was forced by illness to decline a written invitation from alkan to participate in a repeat performance of the beethoven seventh symphony arrangement at erard ' s on 1 march 1843 . late in 1844 , charles hallé visited chopin and found him \" hardly able to move , bent like a half - opened penknife and evidently in great pain \", although his spirits returned when he started to play the piano for his visitor . chopin ' s health continued to deteriorate , particularly from this time onwards . modern research suggests that apart from any other illnesses , he may also have suffered from temporal lobe epilepsy .\n",
            "Predicted Answer: 1842\n",
            "True Answer: 1842\n",
            "--------------------------------------------------\n",
            "Question: what country was prussia fighting on another front ?\n",
            "Context: by this point frederick was increasingly concerned by the russian advance from the east and marched to counter it . just east of the oder in brandenburg - neumark , at the battle of zorndorf ( now sarbinowo , poland ), a prussian army of 35 , 000 men under frederick on aug . 25 , 1758 , fought a russian army of 43 , 000 commanded by count william fermor . both sides suffered heavy casualties – the prussians 12 , 800 , the russians 18 , 000 – but the russians withdrew , and frederick claimed victory . in the undecided battle of tornow on 25 september , a swedish army repulsed six assaults by a prussian army but did not push on berlin following the battle of fehrbellin .\n",
            "Predicted Answer: 1758 , fought a russian army of 43 , 000\n",
            "True Answer: swedish\n",
            "--------------------------------------------------\n",
            "Question: by the 1830 ' s , how much of all cotton was processed in lancashire ?\n",
            "Context: lancashire emerged as a major commercial and industrial region during the industrial revolution . manchester and liverpool grew into its largest cities , dominating global trade and the birth of modern capitalism . the county contained several mill towns and the collieries of the lancashire coalfield . by the 1830s , approximately 85 % of all cotton manufactured worldwide was processed in lancashire . accrington , blackburn , bolton , burnley , bury , chorley , colne , darwen , nelson , oldham , preston , rochdale and wigan were major cotton mill towns during this time . blackpool was a centre for tourism for the inhabitants of lancashire ' s mill towns , particularly during wakes week .\n",
            "Predicted Answer: 1830s , approximately 85 %\n",
            "True Answer: 85 %\n",
            "--------------------------------------------------\n",
            "Question: what was schwarzenegger ' s second film with co - star danny devito ?\n",
            "Context: that same year , the comedy junior was released , the last of schwarzenegger ' s three collaborations with ivan reitman and again co - starring danny devito . this film brought him his second golden globe nomination , this time for best actor – musical or comedy . it was followed by the action thriller eraser ( 1996 ), the christmas comedy jingle all the way ( 1996 ), and the comic book - based batman & robin ( 1997 ), in which he played the villain mr . freeze . this was his final film before taking time to recuperate from a back injury . following the critical failure of batman & robin , his film career and box office prominence went into decline . he returned with the supernatural thriller end of days ( 1999 ), later followed by the action films the 6th day ( 2000 ) and collateral damage ( 2002 ), both of which failed to do well at the box office . in 2003 , he made his third appearance as the title character in terminator 3 : rise of the machines , which went on to earn over $ 150 million domestically .\n",
            "Predicted Answer: \n",
            "True Answer: junior\n",
            "--------------------------------------------------\n",
            "Question: who interviewed retailers as part of their investigation ?\n",
            "Context: nintendo was accused of antitrust behavior because of the strict licensing requirements . the united states department of justice and several states began probing nintendo ' s business practices , leading to the involvement of congress and the federal trade commission ( ftc ). the ftc conducted an extensive investigation which included interviewing hundreds of retailers . during the ftc probe , nintendo changed the terms of its publisher licensing agreements to eliminate the two - year rule and other restrictive terms . nintendo and the ftc settled the case in april 1991 , with nintendo required to send vouchers giving a $ 5 discount off to a new game , to every person that had purchased a nes title between june 1988 and december 1990 . gamespy remarked that nintendo ' s punishment was particularly weak giving the case ' s findings , although it has been speculated that the ftc did not want to damage the video game industry in the united states .\n",
            "Predicted Answer: $ 5 discount off to a new game , to every person that had purchased a nes title between june 1988\n",
            "True Answer: ftc\n",
            "--------------------------------------------------\n",
            "Question: how many fleet planes did the u . s . fifth fleet have ?\n",
            "Context: it was imperative for japanese commanders to hold saipan . the only way to do this was to destroy the u . s . fifth fleet , which had 15 fleet carriers and 956 planes , 7 battleships , 28 submarines , and 69 destroyers , as well as several light and heavy cruisers . vice admiral jisaburo ozawa attacked with nine - tenths of japan ' s fighting fleet , which included nine carriers with 473 planes , 5 battleships , several cruisers , and 28 destroyers . ozawa ' s pilots were outnumbered 2 : 1 and their aircraft were becoming or were already obsolete . the japanese had considerable antiaircraft defenses but lacked proximity fuzes or good radar . with the odds against him , ozawa devised an appropriate strategy . his planes had greater range because they were not weighed down with protective armor ; they could attack at about 480 km ( 300 mi )[ citation needed ], and could search a radius of 900 km [ citation needed ] ( 560 mi ). u . s . navy hellcat fighters could only attack within 200 miles ( 320 km ) and only search within a 325 - mile ( 523 km )[ citation needed ] radius . ozawa planned to use this advantage by positioning his fleet 300 miles ( 480 km )[ citation needed ] out . the japanese planes would hit the u . s . carriers , land\n",
            "Predicted Answer: nine\n",
            "True Answer: 956\n",
            "--------------------------------------------------\n",
            "Question: what percentage makes up for the whites living in the city ?\n",
            "Context: as of the 2010 u . s . census , there were 113 , 394 people , 45 , 634 households , and 21 , 704 families residing in the city . the population density was 4 , 270 . 33 people per square mile ( 2653 . 47 / km ²). there were 49 , 982 housing units at an average density of 1 , 748 . 0 per square mile ( 675 . 0 / km ²), making it less densely populated than inner - ring detroit suburbs like oak park and ferndale ( and than detroit proper ), but more densely populated than outer - ring suburbs like livonia or troy . the racial makeup of the city was 73 . 0 % white ( 70 . 4 % non - hispanic white ), 7 . 7 % black or african american , 0 . 3 % native american , 14 . 4 % asian , 0 . 0 % pacific islander , 1 . 0 % from other races , and 3 . 6 % from two or more races . hispanic or latino residents of any race were 4 . 1 % of the population .\n",
            "Predicted Answer: 394 people , 45 , 634 households , and 21 , 704 families residing in the city . the population density was 4 , 270 . 33 people per square mile ( 2653 . 47 / km ²). there were 49 , 982 housing units at an average density of 1 , 748 . 0 per square mile ( 675 . 0 / km ²), making it less densely populated than inner - ring detroit suburbs like oak park and ferndale ( and than detroit proper ), but more densely populated than outer - ring suburbs like livonia or troy . the racial makeup of the city was 73 . 0 % white ( 70 . 4 %\n",
            "True Answer: 73 . 0 %\n",
            "--------------------------------------------------\n",
            "Question: what do the newars call boudhanath ?\n",
            "Context: the boudhanath , ( also written bouddhanath , bodhnath , baudhanath or the khāsa chaitya ), is one of the holiest buddhist sites in nepal , along with swayambhu . it is a very popular tourist site . boudhanath is known as khāsti by newars and as bauddha or bodhnāth by speakers of nepali . located about 11 km ( 7 mi ) from the center and northeastern outskirts of kathmandu , the stupa ' s massive mandala makes it one of the largest spherical stupas in nepal . boudhanath became a unesco world heritage site in 1979 .\n",
            "Predicted Answer: 1979\n",
            "True Answer: khāsti\n",
            "--------------------------------------------------\n",
            "Question: what name had not been used for a pope since the year 1605 ?\n",
            "Context: upon his election to the papacy , montini took the pontifical name paul vi ( the first to take the name \" paul \" since 1605 ) to indicate a renewed worldwide mission to spread the message of christ , following the example of apostle st . paul .[ citation needed ] he re - convened the second vatican council , which was automatically closed with the death of john xxiii , and gave it priority and direction . after the council had concluded its work , paul vi took charge of the interpretation and implementation of its mandates , often walking a thin line between the conflicting expectations of various groups within catholicism . the magnitude and depth of the reforms affecting all fields of church life during his pontificate exceeded similar reform policies of his predecessors and successors . paul vi was a marian devotee , speaking repeatedly to marian congresses and mariological meetings , visiting marian shrines and issuing three marian encyclicals . following his famous predecessor saint ambrose of milan , he named mary as the mother of the church during the second vatican council . paul vi sought dialogue with the world , with other christians , other religions , and atheists , excluding nobody . he saw himself as a humble servant for a suffering humanity and demanded significant changes of the rich in north america and europe in favour of the poor in the third world . his positions on birth control , promulgated most famously\n",
            "Predicted Answer: 1605 ) to indicate a renewed worldwide mission to spread the message of christ , following the example of apostle st . paul .[ citation needed ] he re - convened the second vatican council , which was automatically closed with the death of john xxiii , and gave it priority and direction . after the council had concluded its work , paul vi took charge of the interpretation and implementation of its mandates , often walking a thin line between the conflicting expectations of various groups within catholicism . the magnitude and depth of the reforms affecting all fields of church life during his pontificate exceeded similar reform policies of his predecessors and successors . paul vi was a marian devotee , speaking repeatedly to marian congresses and mariological meetings , visiting marian shrines and issuing three\n",
            "True Answer: \" paul \"\n",
            "--------------------------------------------------\n",
            "Question: how many local jobs are produced by the university of houston ?\n",
            "Context: the university of houston system ' s annual impact on the houston area ' s economy equates to that of a major corporation : $ 1 . 1 billion in new funds attracted annually to the houston area , $ 3 . 13 billion in total economic benefit and 24 , 000 local jobs generated . this is in addition to the 12 , 500 new graduates the u . h . system produces every year who enter the workforce in houston and throughout the state of texas . these degree - holders tend to stay in houston . after five years , 80 . 5 % of graduates are still living and working in the region .\n",
            "Predicted Answer: $ 3 . 13 billion in total economic benefit and 24 , 000 local jobs generated . this is in addition to the 12 , 500 new graduates the u . h . system produces every year who enter the workforce in houston and throughout the state of texas . these degree - holders tend to stay in houston . after five years , 80 . 5 %\n",
            "True Answer: 24 , 000\n",
            "--------------------------------------------------\n",
            "Question: when did censuses start being conducted in st . john ' s ?\n",
            "Context: by 1620 , the fishermen of england ' s west country controlled most of newfoundland ' s east coast . in 1627 , william payne , called st . john ' s \" the principal prime and chief lot in all the whole country \". the population grew slowly in the 17th century and st . john ' s was the largest settlement in newfoundland when english naval officers began to take censuses around 1675 . the population would grow in the summers with the arrival of migratory fishermen . in 1680 , fishing ships ( mostly from south devon ) set up fishing rooms at st . john ' s , bringing hundreds of irish men into the port to operate inshore fishing boats .\n",
            "Predicted Answer: 1620\n",
            "True Answer: 1675\n",
            "--------------------------------------------------\n",
            "Question: which country did saint francis of capistrano come from ?\n",
            "Context: hunyadi succeeded during the siege of belgrade in 1456 against the ottomans , the biggest victory against that empire in decades . this battle became a real crusade against the muslims , as the peasants were motivated by the franciscan monk saint john of capistrano , who came from italy predicating holy war . the effect that it created in that time was one of the main factors that helped in achieving the victory . however the premature death of the hungarian lord left pannonia defenseless and in chaos . in an extremely unusual event for the middle ages , hunyadi ' s son , matthias , was elected as king of hungary by the nobility . for the first time , a member of an aristocratic family ( and not from a royal family ) was crowned .\n",
            "Predicted Answer: 1456\n",
            "True Answer: italy\n",
            "--------------------------------------------------\n",
            "Question: what supply port was opened late in 1944 ?\n",
            "Context: once the coastal assault had succeeded , eisenhower insisted on retaining personal control over the land battle strategy , and was immersed in the command and supply of multiple assaults through france on germany . field marshal montgomery insisted priority be given to his 21st army group ' s attack being made in the north , while generals bradley ( 12th u . s . army group ) and devers ( sixth u . s . army group ) insisted they be given priority in the center and south of the front ( respectively ). eisenhower worked tirelessly to address the demands of the rival commanders to optimize allied forces , often by giving them tactical , though sometimes ineffective , latitude ; many historians conclude this delayed the allied victory in europe . however , due to eisenhower ' s persistence , the pivotal supply port at antwerp was successfully , albeit belatedly , opened in late 1944 , and victory became a more distinct probability .\n",
            "Predicted Answer: france\n",
            "True Answer: antwerp\n",
            "--------------------------------------------------\n",
            "Question: how many reserve soldiers did north korea have ?\n",
            "Context: by mid - 1950 , north korean forces numbered between 150 , 000 and 200 , 000 troops , organized into 10 infantry divisions , one tank division , and one air force division , with 210 fighter planes and 280 tanks , who captured scheduled objectives and territory , among them kaesong , chuncheon , uijeongbu , and ongjin . their forces included 274 t - 34 - 85 tanks , 200 artillery pieces , 110 attack bombers , some 150 yak fighter planes , 78 yak trainers , and 35 reconnaissance aircraft . in addition to the invasion force , the north kpa had 114 fighters , 78 bombers , 105 t - 34 - 85 tanks , and some 30 , 000 soldiers stationed in reserve in north korea . although each navy consisted of only several small warships , the north and south korean navies fought in the war as sea - borne artillery for their in - country armies .\n",
            "Predicted Answer: \n",
            "True Answer: 30 , 000\n",
            "--------------------------------------------------\n",
            "Question: when did the qing qianlong emperor send a large chinese army into tibet ?\n",
            "Context: for several decades , peace reigned in tibet , but in 1792 the qing qianlong emperor sent a large chinese army into tibet to push the invading nepalese out . this prompted yet another qing reorganization of the tibetan government , this time through a written plan called the \" twenty - nine regulations for better government in tibet \". qing military garrisons staffed with qing troops were now also established near the nepalese border . tibet was dominated by the manchus in various stages in the 18th century , and the years immediately following the 1792 regulations were the peak of the qing imperial commissioners ' authority ; but there was no attempt to make tibet a chinese province .\n",
            "Predicted Answer: \n",
            "True Answer: 1792\n",
            "--------------------------------------------------\n",
            "Question: in what year was epic records created ?\n",
            "Context: columbia founded epic records in 1953 . in 1956 , conkling left columbia , he would help establish the national academy of recording arts and sciences before eventually becoming the first president of the newly launched warner bros . records , and goddard lieberson began the first of two stints as head of the record company . in 1958 , columbia founded another label , date records , which initially issued rockabilly music .\n",
            "Predicted Answer: 1956\n",
            "True Answer: 1953\n",
            "--------------------------------------------------\n",
            "Question: beyonce released the song \" formation \" on which online music service ?\n",
            "Context: on february 6 , 2016 , one day before her performance at the super bowl , beyoncé released a new single exclusively on music streaming service tidal called \" formation \".\n",
            "Predicted Answer: \n",
            "True Answer: tidal\n",
            "--------------------------------------------------\n",
            "Question: what is the geological term for asphalt ?\n",
            "Context: in british english , the word ' asphalt ' is used to refer to a mixture of mineral aggregate and asphalt / bitumen ( also called tarmac in common parlance ). when bitumen is mixed with clay it is usually called asphaltum . the earlier word ' asphaltum ' is now archaic and not commonly used .[ citation needed ] in american english , ' asphalt ' is equivalent to the british ' bitumen '. however , ' asphalt ' is also commonly used as a shortened form of ' asphalt concrete ' ( therefore equivalent to the british ' asphalt ' or ' tarmac '). in australian english , bitumen is often used as the generic term for road surfaces . in canadian english , the word bitumen is used to refer to the vast canadian deposits of extremely heavy crude oil , while asphalt is used for the oil refinery product used to pave roads and manufacture roof shingles and various waterproofing products . diluted bitumen ( diluted with naphtha to make it flow in pipelines ) is known as dilbit in the canadian petroleum industry , while bitumen \" upgraded \" to synthetic crude oil is known as syncrude and syncrude blended with bitumen as synbit . bitumen is still the preferred geological term for naturally occurring deposits of the solid or semi - solid form of petroleum . bituminous rock is a form of sandstone impregnated with bitumen . the tar sands of alberta , canada are a similar\n",
            "Predicted Answer: ( also called tarmac\n",
            "True Answer: bitumen\n",
            "--------------------------------------------------\n",
            "Question: in what year could nepal be said to have been discovered by the outside world ?\n",
            "Context: kathmandu valley is described as \" an enormous treasure house of art and sculptures \", which are made of wood , stone , metal , and terracotta , and found in profusion in temples , shrines , stupas , gompas , chaityasm and palaces . the art objects are also seen in street corners , lanes , private courtyards and in open ground . most art is in the form of icons of gods and goddesses . kathmandu valley has had this art treasure for a very long time , but received worldwide recognition only after the country opened to the outside world in 1950 .\n",
            "Predicted Answer: 1950\n",
            "True Answer: 1950\n",
            "--------------------------------------------------\n",
            "Question: what was the capital of the safavid dynasty ?\n",
            "Context: by the 1500s , ismail i from ardabil , established the safavid dynasty , with tabriz as the capital . beginning with azerbaijan , he subsequently extended his authority over all of the iranian territories , and established an intermittent iranian hegemony over the vast relative regions , reasserting the iranian identity within large parts of the greater iran . iran was predominantly sunni , but ismail instigated a forced conversion to the shia branch of islam , by which the shia islam spread throughout the safavid territories in the caucasus , iran , anatolia , and mesopotamia . as a result , thereof , the modern - day iran is the only official shia nation of the world , with it holding an absolute majority in iran and the republic of azerbaijan , having there the 1st and 2nd highest number of shia inhabitants by population percentage in the world .\n",
            "Predicted Answer: 1500s , ismail i from ardabil , established the safavid dynasty , with tabriz as the capital . beginning with azerbaijan , he subsequently extended his authority over all of the iranian territories , and established an intermittent iranian hegemony over the vast relative regions , reasserting the iranian identity within large parts of the greater iran . iran was predominantly sunni , but ismail instigated a forced conversion to the shia branch of islam , by which the shia islam spread throughout the safavid territories in the caucasus , iran , anatolia , and mesopotamia . as a result , thereof , the modern - day iran is the only official shia nation of the world , with it holding an absolute majority in iran and the republic of azerbaijan , having there the 1st and 2nd\n",
            "True Answer: tabriz\n",
            "--------------------------------------------------\n",
            "Question: how much of the brazilian population had connections to african ancestry in 2007 ?\n",
            "Context: by the 2000 census , demographic changes including the end to slavery , immigration from europe and asia , assimilation of multiracial persons , and other factors resulted in a population in which 6 . 2 % of the population identified as black , 40 % as pardo , and 55 % as white . essentially most of the black population was absorbed into the multi - racial category by intermixing . a 2007 genetic study found that at least 29 % of the middle - class , white brazilian population had some recent ( since 1822 and the end of the colonial period ) african ancestry .\n",
            "Predicted Answer: \n",
            "True Answer: 29 %\n",
            "--------------------------------------------------\n",
            "Question: the word vacuum stems from what latin adjective ?\n",
            "Context: vacuum is space void of matter . the word stems from the latin adjective vacuus for \" vacant \" or \" void \". an approximation to such vacuum is a region with a gaseous pressure much less than atmospheric pressure . physicists often discuss ideal test results that would occur in a perfect vacuum , which they sometimes simply call \" vacuum \" or free space , and use the term partial vacuum to refer to an actual imperfect vacuum as one might have in a laboratory or in space . in engineering and applied physics on the other hand , vacuum refers to any space in which the pressure is lower than atmospheric pressure . the latin term in vacuo is used to describe an object as being in what would otherwise be a vacuum .\n",
            "Predicted Answer: latin\n",
            "True Answer: vacuus\n",
            "--------------------------------------------------\n",
            "Question: when was the first known use of the word \" computer \"?\n",
            "Context: the first known use of the word \" computer \" was in 1613 in a book called the yong mans gleanings by english writer richard braithwait : \" i haue read the truest computer of times , and the best arithmetician that euer breathed , and he reduceth thy dayes into a short number .\" it referred to a person who carried out calculations , or computations . the word continued with the same meaning until the middle of the 20th century . from the end of the 19th century the word began to take on its more familiar meaning , a machine that carries out computations .\n",
            "Predicted Answer: 1613\n",
            "True Answer: 1613\n",
            "--------------------------------------------------\n",
            "Question: what is the plural version of mozny ?\n",
            "Context: some powerful polish nobles were referred to as \" magnates \" ( polish singular : \" magnat \", plural : \" magnaci \") and \" możny \" (\" magnate \", \" oligarch \"; plural : \" możni \"); see magnates of poland and lithuania .\n",
            "Predicted Answer: ( polish\n",
            "True Answer: możni\n",
            "--------------------------------------------------\n",
            "Question: what acronym was the music corporation of america known by ?\n",
            "Context: by the late 1950s , the motion picture business was again changing . the combination of the studio / theater - chain break - up and the rise of television saw the reduced audience size for cinema productions . the music corporation of america ( mca ), then predominately a talent agency , had also become a powerful television producer , renting space at republic studios for its revue productions subsidiary . after a period of complete shutdown , a moribund universal agreed to sell its 360 - acre ( 1 . 5 km ²) studio lot to mca in 1958 , for $ 11 million , renamed revue studios . mca owned the studio lot , but not universal pictures , yet was increasingly influential on universal ' s product . the studio lot was upgraded and modernized , while mca clients like doris day , lana turner , cary grant , and director alfred hitchcock were signed to universal pictures contracts .\n",
            "Predicted Answer: \n",
            "True Answer: mca\n",
            "--------------------------------------------------\n",
            "Question: what did the percentage fall to ?\n",
            "Context: the \" yo yo \" in the opinion polls continued into 1992 , though after november 1990 any labour lead in the polls was rarely sufficient for a majority . major resisted kinnock ' s calls for a general election throughout 1991 . kinnock campaigned on the theme \" it ' s time for a change \", urging voters to elect a new government after more than a decade of unbroken conservative rule . however , the conservatives themselves had undergone a dramatic change in the change of leader from thatcher to major , at least in terms of style if not substance . from the outset , it was clearly a well - received change , as labour ' s 14 - point lead in the november 1990 \" poll of polls \" was replaced by an 8 % tory lead a month later .\n",
            "Predicted Answer: 1991 . kinnock campaigned on the theme \" it ' s time for a change \", urging voters to elect a new government after more than a decade of unbroken conservative rule . however , the conservatives themselves had undergone a dramatic change in the change of leader from thatcher to major , at least in terms of style if not substance . from the outset , it was clearly a well - received change , as labour ' s 14 - point lead in the november 1990 \" poll of polls \" was replaced by an 8 %\n",
            "True Answer: 8 %\n",
            "--------------------------------------------------\n",
            "Question: what do they call it when a protagonist wins ?\n",
            "Context: while true exhibition matches are not uncommon , most matches tell a story analogous to a scene in a play or film , or an episode of a serial drama : the face will sometimes win ( triumph ) or sometimes lose ( tragedy ). longer story arcs can result from multiple matches over the course of time . since most promotions have a championship title , competition for the championship is a common impetus for stories . also , anything from a character ' s own hair to their job with the promotion can be wagered in a match . the same type of good vs . evil storylines were also once popular in roller derby .\n",
            "Predicted Answer: ( triumph\n",
            "True Answer: triumph\n",
            "--------------------------------------------------\n",
            "Question: how many tents did the sichuan ministry provide for the homeless ?\n",
            "Context: the red cross society of china flew 557 tents and 2 , 500 quilts valued at 788 , 000 yuan ( us $ 113 , 000 ) to wenchuan county . the amity foundation already began relief work in the region and has earmarked us $ 143 , 000 for disaster relief . the sichuan ministry of civil affairs said that they have provided 30 , 000 tents for those left homeless .\n",
            "Predicted Answer: 113 , 000 ) to wenchuan county . the amity foundation already began relief work in the region and has earmarked us $ 143 , 000\n",
            "True Answer: 30 , 000\n",
            "--------------------------------------------------\n",
            "Question: people still used dogs as pack animals even after what other animal began being used for this purpose ?\n",
            "Context: emigrants from siberia that walked across the bering land bridge into north america may have had dogs in their company , and one writer suggests that the use of sled dogs may have been critical to the success of the waves that entered north america roughly 12 , 000 years ago , although the earliest archaeological evidence of dog - like canids in north america dates from about 9 , 400 years ago .: 104 dogs were an important part of life for the athabascan population in north america , and were their only domesticated animal . dogs also carried much of the load in the migration of the apache and navajo tribes 1 , 400 years ago . use of dogs as pack animals in these cultures often persisted after the introduction of the horse to north america .\n",
            "Predicted Answer: \n",
            "True Answer: horse\n",
            "--------------------------------------------------\n"
          ]
        }
      ],
      "source": [
        "# Compare the predictions with the actual answers\n",
        "for i in range(100):\n",
        "    print(f\"Question: {train_questions[i]}\")\n",
        "    print(f\"Context: {train_contexts[i]}\")\n",
        "    print(f\"Predicted Answer: {train_preds[i]}\")\n",
        "    print(f\"True Answer: {train_true_labels[i]}\")\n",
        "    print(\"-\" * 50)"
      ]
    }
  ],
  "metadata": {
    "accelerator": "GPU",
    "colab": {
      "gpuType": "T4",
      "provenance": []
    },
    "kernelspec": {
      "display_name": "nlp_kernel",
      "language": "python",
      "name": "nlp_env"
    },
    "language_info": {
      "codemirror_mode": {
        "name": "ipython",
        "version": 3
      },
      "file_extension": ".py",
      "mimetype": "text/x-python",
      "name": "python",
      "nbconvert_exporter": "python",
      "pygments_lexer": "ipython3",
      "version": "3.11.11"
    }
  },
  "nbformat": 4,
  "nbformat_minor": 0
}
