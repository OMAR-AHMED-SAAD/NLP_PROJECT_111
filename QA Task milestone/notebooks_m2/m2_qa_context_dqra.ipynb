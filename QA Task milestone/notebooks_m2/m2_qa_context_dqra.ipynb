{
 "cells": [
  {
   "cell_type": "markdown",
   "metadata": {},
   "source": [
    "# Milestone 2"
   ]
  },
  {
   "cell_type": "code",
   "execution_count": 1,
   "metadata": {},
   "outputs": [
    {
     "name": "stdout",
     "output_type": "stream",
     "text": [
      "/home/karimgamaleldin/NLP_PROJECT_111/QA Task milestone\n"
     ]
    },
    {
     "name": "stderr",
     "output_type": "stream",
     "text": [
      "/home/karimgamaleldin/.local/lib/python3.10/site-packages/IPython/core/magics/osm.py:417: UserWarning: This is now an optional IPython functionality, setting dhist requires you to install the `pickleshare` library.\n",
      "  self.shell.db['dhist'] = compress_dhist(dhist)[-100:]\n"
     ]
    }
   ],
   "source": [
    "%cd ..\n",
    "# imports \n",
    "import numpy as np \n",
    "import matplotlib.pyplot as plt\n",
    "import seaborn as sns\n",
    "import os\n",
    "from scripts_m2 import *\n",
    "import torch \n",
    "from torch import nn \n",
    "from torch import optim"
   ]
  },
  {
   "cell_type": "code",
   "execution_count": 2,
   "metadata": {},
   "outputs": [
    {
     "name": "stdout",
     "output_type": "stream",
     "text": [
      "Loading tokenizer from ./tokenizers/tokenizer.json...\n",
      "Filtered dataset size: 19922 out of original 20000\n",
      "Filtered dataset size: 1990 out of original 2000\n"
     ]
    }
   ],
   "source": [
    "# Getting the dataloaders and tokenizers\n",
    "train_dataloader, dev_dataloader, tokenizer = prepare_dataloaders_tokenizer()"
   ]
  },
  {
   "cell_type": "code",
   "execution_count": 3,
   "metadata": {},
   "outputs": [
    {
     "name": "stderr",
     "output_type": "stream",
     "text": [
      "Epoch 1/10: 100%|██████████| 623/623 [01:07<00:00,  9.30it/s, loss=5.87]\n"
     ]
    },
    {
     "name": "stdout",
     "output_type": "stream",
     "text": [
      "Epoch 1 Loss: 6.8258\n"
     ]
    },
    {
     "name": "stderr",
     "output_type": "stream",
     "text": [
      "Evaluating: 100%|██████████| 623/623 [00:37<00:00, 16.79it/s]\n"
     ]
    },
    {
     "name": "stdout",
     "output_type": "stream",
     "text": [
      "Training Loss: 4.6409\n",
      "Training Metrics: {'start_accuracy': 0.3583977512297962, 'start_precision': 0.3688954431456202, 'start_recall': 0.3583977512297962, 'start_f1_score': 0.3603355697388289, 'end_accuracy': 0.3560385503463508, 'end_precision': 0.36624483185311424, 'end_recall': 0.3560385503463508, 'end_f1_score': 0.3578968229078386, 'joint_exact_match': 0.275474349964863, 'span_overlap_f1': 0.2979185907537065}\n"
     ]
    },
    {
     "name": "stderr",
     "output_type": "stream",
     "text": [
      "Evaluating: 100%|██████████| 63/63 [00:03<00:00, 17.24it/s]\n"
     ]
    },
    {
     "name": "stdout",
     "output_type": "stream",
     "text": [
      "Validation Loss: 6.8176\n",
      "Validation Metrics: {'start_accuracy': 0.21608040201005024, 'start_precision': 0.23616890634390694, 'start_recall': 0.21608040201005024, 'start_f1_score': 0.21400371426042397, 'end_accuracy': 0.19798994974874373, 'end_precision': 0.22170399218564196, 'end_recall': 0.19798994974874373, 'end_f1_score': 0.1989026761868289, 'joint_exact_match': 0.14522613065326634, 'span_overlap_f1': 0.17623466233310553}\n",
      "--------------------------------------------------\n"
     ]
    },
    {
     "name": "stderr",
     "output_type": "stream",
     "text": [
      "Epoch 2/10: 100%|██████████| 623/623 [01:08<00:00,  9.10it/s, loss=3.41]\n"
     ]
    },
    {
     "name": "stdout",
     "output_type": "stream",
     "text": [
      "Epoch 2 Loss: 4.7402\n"
     ]
    },
    {
     "name": "stderr",
     "output_type": "stream",
     "text": [
      "Evaluating: 100%|██████████| 623/623 [00:37<00:00, 16.69it/s]\n"
     ]
    },
    {
     "name": "stdout",
     "output_type": "stream",
     "text": [
      "Training Loss: 3.6788\n",
      "Training Metrics: {'start_accuracy': 0.453418331492822, 'start_precision': 0.4555288685516468, 'start_recall': 0.453418331492822, 'start_f1_score': 0.4505768173811648, 'end_accuracy': 0.4488505170163638, 'end_precision': 0.4521622930107122, 'end_recall': 0.4488505170163638, 'end_f1_score': 0.4464446088871563, 'joint_exact_match': 0.38726031522939464, 'span_overlap_f1': 0.40779735344533413}\n"
     ]
    },
    {
     "name": "stderr",
     "output_type": "stream",
     "text": [
      "Evaluating: 100%|██████████| 63/63 [00:03<00:00, 16.57it/s]\n"
     ]
    },
    {
     "name": "stdout",
     "output_type": "stream",
     "text": [
      "Validation Loss: 6.5524\n",
      "Validation Metrics: {'start_accuracy': 0.24874371859296482, 'start_precision': 0.27547002932164627, 'start_recall': 0.24874371859296482, 'start_f1_score': 0.24772684600579428, 'end_accuracy': 0.23417085427135678, 'end_precision': 0.2566613270523482, 'end_recall': 0.23417085427135678, 'end_f1_score': 0.23353377820214144, 'joint_exact_match': 0.18643216080402011, 'span_overlap_f1': 0.2176058821320398}\n",
      "--------------------------------------------------\n"
     ]
    },
    {
     "name": "stderr",
     "output_type": "stream",
     "text": [
      "Epoch 3/10: 100%|██████████| 623/623 [01:08<00:00,  9.04it/s, loss=3.29]\n"
     ]
    },
    {
     "name": "stdout",
     "output_type": "stream",
     "text": [
      "Epoch 3 Loss: 3.9894\n"
     ]
    },
    {
     "name": "stderr",
     "output_type": "stream",
     "text": [
      "Evaluating: 100%|██████████| 623/623 [00:34<00:00, 18.06it/s]\n"
     ]
    },
    {
     "name": "stdout",
     "output_type": "stream",
     "text": [
      "Training Loss: 2.9858\n",
      "Training Metrics: {'start_accuracy': 0.5391526955124988, 'start_precision': 0.5444468353742897, 'start_recall': 0.5391526955124988, 'start_f1_score': 0.5324864650042791, 'end_accuracy': 0.528109627547435, 'end_precision': 0.5314561365884747, 'end_recall': 0.528109627547435, 'end_f1_score': 0.5219003924945064, 'joint_exact_match': 0.4732958538299368, 'span_overlap_f1': 0.4940390263610219}\n"
     ]
    },
    {
     "name": "stderr",
     "output_type": "stream",
     "text": [
      "Evaluating: 100%|██████████| 63/63 [00:03<00:00, 20.73it/s]\n"
     ]
    },
    {
     "name": "stdout",
     "output_type": "stream",
     "text": [
      "Validation Loss: 6.5993\n",
      "Validation Metrics: {'start_accuracy': 0.2743718592964824, 'start_precision': 0.28911617242319243, 'start_recall': 0.2743718592964824, 'start_f1_score': 0.26571482947464337, 'end_accuracy': 0.2547738693467337, 'end_precision': 0.2788622267512823, 'end_recall': 0.2547738693467337, 'end_f1_score': 0.24907092209843565, 'joint_exact_match': 0.20954773869346735, 'span_overlap_f1': 0.24256864192385047}\n",
      "--------------------------------------------------\n"
     ]
    },
    {
     "name": "stderr",
     "output_type": "stream",
     "text": [
      "Epoch 4/10: 100%|██████████| 623/623 [01:07<00:00,  9.26it/s, loss=3.95]\n"
     ]
    },
    {
     "name": "stdout",
     "output_type": "stream",
     "text": [
      "Epoch 4 Loss: 3.4236\n"
     ]
    },
    {
     "name": "stderr",
     "output_type": "stream",
     "text": [
      "Evaluating: 100%|██████████| 623/623 [00:42<00:00, 14.74it/s]\n"
     ]
    },
    {
     "name": "stdout",
     "output_type": "stream",
     "text": [
      "Training Loss: 2.5059\n",
      "Training Metrics: {'start_accuracy': 0.5908543318943881, 'start_precision': 0.5954687373154529, 'start_recall': 0.5908543318943881, 'start_f1_score': 0.5854039492485139, 'end_accuracy': 0.5956731251882341, 'end_precision': 0.6022012649915559, 'end_recall': 0.5956731251882341, 'end_f1_score': 0.5903073227435562, 'joint_exact_match': 0.5344342937456079, 'span_overlap_f1': 0.5556140126460564}\n"
     ]
    },
    {
     "name": "stderr",
     "output_type": "stream",
     "text": [
      "Evaluating: 100%|██████████| 63/63 [00:04<00:00, 14.96it/s]\n"
     ]
    },
    {
     "name": "stdout",
     "output_type": "stream",
     "text": [
      "Validation Loss: 6.8651\n",
      "Validation Metrics: {'start_accuracy': 0.2914572864321608, 'start_precision': 0.31388084693615137, 'start_recall': 0.2914572864321608, 'start_f1_score': 0.2853959107919503, 'end_accuracy': 0.27889447236180903, 'end_precision': 0.29729941263042287, 'end_recall': 0.27889447236180903, 'end_f1_score': 0.2726557955779637, 'joint_exact_match': 0.2321608040201005, 'span_overlap_f1': 0.2617375646152558}\n",
      "--------------------------------------------------\n"
     ]
    },
    {
     "name": "stderr",
     "output_type": "stream",
     "text": [
      "Epoch 5/10: 100%|██████████| 623/623 [01:13<00:00,  8.46it/s, loss=2.84]\n"
     ]
    },
    {
     "name": "stdout",
     "output_type": "stream",
     "text": [
      "Epoch 5 Loss: 3.0209\n"
     ]
    },
    {
     "name": "stderr",
     "output_type": "stream",
     "text": [
      "Evaluating: 100%|██████████| 623/623 [00:36<00:00, 17.14it/s]\n"
     ]
    },
    {
     "name": "stdout",
     "output_type": "stream",
     "text": [
      "Training Loss: 1.9954\n",
      "Training Metrics: {'start_accuracy': 0.6648428872603153, 'start_precision': 0.6701240751369882, 'start_recall': 0.6648428872603153, 'start_f1_score': 0.6613461297230686, 'end_accuracy': 0.6586186125890975, 'end_precision': 0.6657702667301493, 'end_recall': 0.6586186125890975, 'end_f1_score': 0.6538048172277333, 'joint_exact_match': 0.608422849111535, 'span_overlap_f1': 0.6278803636578872}\n"
     ]
    },
    {
     "name": "stderr",
     "output_type": "stream",
     "text": [
      "Evaluating: 100%|██████████| 63/63 [00:03<00:00, 16.67it/s]\n"
     ]
    },
    {
     "name": "stdout",
     "output_type": "stream",
     "text": [
      "Validation Loss: 7.0935\n",
      "Validation Metrics: {'start_accuracy': 0.2809045226130653, 'start_precision': 0.2928491694582389, 'start_recall': 0.2809045226130653, 'start_f1_score': 0.2749867645408512, 'end_accuracy': 0.27638190954773867, 'end_precision': 0.2973677444487567, 'end_recall': 0.27638190954773867, 'end_f1_score': 0.27219903375798493, 'joint_exact_match': 0.23015075376884422, 'span_overlap_f1': 0.2615133954797457}\n",
      "--------------------------------------------------\n"
     ]
    },
    {
     "name": "stderr",
     "output_type": "stream",
     "text": [
      "Epoch 6/10: 100%|██████████| 623/623 [01:07<00:00,  9.19it/s, loss=3.66]\n"
     ]
    },
    {
     "name": "stdout",
     "output_type": "stream",
     "text": [
      "Epoch 6 Loss: 2.6091\n"
     ]
    },
    {
     "name": "stderr",
     "output_type": "stream",
     "text": [
      "Evaluating: 100%|██████████| 623/623 [00:36<00:00, 17.03it/s]\n"
     ]
    },
    {
     "name": "stdout",
     "output_type": "stream",
     "text": [
      "Training Loss: 1.6901\n",
      "Training Metrics: {'start_accuracy': 0.7149382592109226, 'start_precision': 0.7206134298050783, 'start_recall': 0.7149382592109226, 'start_f1_score': 0.7122011626025023, 'end_accuracy': 0.7082120269049292, 'end_precision': 0.7133358249157447, 'end_recall': 0.7082120269049292, 'end_f1_score': 0.7050272701442158, 'joint_exact_match': 0.6626342736673024, 'span_overlap_f1': 0.6823541826100772}\n"
     ]
    },
    {
     "name": "stderr",
     "output_type": "stream",
     "text": [
      "Evaluating: 100%|██████████| 63/63 [00:04<00:00, 15.06it/s]\n"
     ]
    },
    {
     "name": "stdout",
     "output_type": "stream",
     "text": [
      "Validation Loss: 7.5984\n",
      "Validation Metrics: {'start_accuracy': 0.2894472361809045, 'start_precision': 0.30892005318750426, 'start_recall': 0.2894472361809045, 'start_f1_score': 0.2855886880514639, 'end_accuracy': 0.2804020100502513, 'end_precision': 0.30374260305189255, 'end_recall': 0.2804020100502513, 'end_f1_score': 0.27650686377726563, 'joint_exact_match': 0.2321608040201005, 'span_overlap_f1': 0.26834948824354077}\n",
      "--------------------------------------------------\n"
     ]
    },
    {
     "name": "stderr",
     "output_type": "stream",
     "text": [
      "Epoch 7/10: 100%|██████████| 623/623 [01:12<00:00,  8.61it/s, loss=2.01]\n"
     ]
    },
    {
     "name": "stdout",
     "output_type": "stream",
     "text": [
      "Epoch 7 Loss: 2.2939\n"
     ]
    },
    {
     "name": "stderr",
     "output_type": "stream",
     "text": [
      "Evaluating: 100%|██████████| 623/623 [00:42<00:00, 14.82it/s]\n"
     ]
    },
    {
     "name": "stdout",
     "output_type": "stream",
     "text": [
      "Training Loss: 1.4931\n",
      "Training Metrics: {'start_accuracy': 0.7530368436903925, 'start_precision': 0.7581690871494441, 'start_recall': 0.7530368436903925, 'start_f1_score': 0.7511322232877061, 'end_accuracy': 0.747816484288726, 'end_precision': 0.7543644614999152, 'end_recall': 0.747816484288726, 'end_f1_score': 0.7450172401645501, 'joint_exact_match': 0.7059030217849613, 'span_overlap_f1': 0.7241652355333722}\n"
     ]
    },
    {
     "name": "stderr",
     "output_type": "stream",
     "text": [
      "Evaluating: 100%|██████████| 63/63 [00:04<00:00, 15.35it/s]\n"
     ]
    },
    {
     "name": "stdout",
     "output_type": "stream",
     "text": [
      "Validation Loss: 7.8124\n",
      "Validation Metrics: {'start_accuracy': 0.2894472361809045, 'start_precision': 0.29958050078281717, 'start_recall': 0.2894472361809045, 'start_f1_score': 0.2840278612000578, 'end_accuracy': 0.2819095477386935, 'end_precision': 0.3003522622249341, 'end_recall': 0.2819095477386935, 'end_f1_score': 0.2770701326329021, 'joint_exact_match': 0.2371859296482412, 'span_overlap_f1': 0.268902594875427}\n",
      "--------------------------------------------------\n"
     ]
    },
    {
     "name": "stderr",
     "output_type": "stream",
     "text": [
      "Epoch 8/10: 100%|██████████| 623/623 [01:10<00:00,  8.89it/s, loss=1.67]\n"
     ]
    },
    {
     "name": "stdout",
     "output_type": "stream",
     "text": [
      "Epoch 8 Loss: 2.0559\n"
     ]
    },
    {
     "name": "stderr",
     "output_type": "stream",
     "text": [
      "Evaluating: 100%|██████████| 623/623 [00:38<00:00, 16.12it/s]\n"
     ]
    },
    {
     "name": "stdout",
     "output_type": "stream",
     "text": [
      "Training Loss: 1.2177\n",
      "Training Metrics: {'start_accuracy': 0.7855135026603755, 'start_precision': 0.7900240894306049, 'start_recall': 0.7855135026603755, 'start_f1_score': 0.7845205713490565, 'end_accuracy': 0.7826523441421545, 'end_precision': 0.7871827572172262, 'end_recall': 0.7826523441421545, 'end_f1_score': 0.780582436586587, 'joint_exact_match': 0.7460596325670114, 'span_overlap_f1': 0.7626816977189129}\n"
     ]
    },
    {
     "name": "stderr",
     "output_type": "stream",
     "text": [
      "Evaluating: 100%|██████████| 63/63 [00:03<00:00, 16.41it/s]\n"
     ]
    },
    {
     "name": "stdout",
     "output_type": "stream",
     "text": [
      "Validation Loss: 8.6219\n",
      "Validation Metrics: {'start_accuracy': 0.28391959798994976, 'start_precision': 0.2989443347689812, 'start_recall': 0.28391959798994976, 'start_f1_score': 0.28001065868967046, 'end_accuracy': 0.28492462311557787, 'end_precision': 0.30677959861513143, 'end_recall': 0.28492462311557787, 'end_f1_score': 0.28295638225764574, 'joint_exact_match': 0.24321608040201004, 'span_overlap_f1': 0.27157508814415}\n",
      "--------------------------------------------------\n"
     ]
    },
    {
     "name": "stderr",
     "output_type": "stream",
     "text": [
      "Epoch 9/10: 100%|██████████| 623/623 [01:10<00:00,  8.81it/s, loss=1.97] \n"
     ]
    },
    {
     "name": "stdout",
     "output_type": "stream",
     "text": [
      "Epoch 9 Loss: 1.8172\n"
     ]
    },
    {
     "name": "stderr",
     "output_type": "stream",
     "text": [
      "Evaluating: 100%|██████████| 623/623 [00:37<00:00, 16.53it/s]\n"
     ]
    },
    {
     "name": "stdout",
     "output_type": "stream",
     "text": [
      "Training Loss: 1.0226\n",
      "Training Metrics: {'start_accuracy': 0.8140748920791085, 'start_precision': 0.8176678110923485, 'start_recall': 0.8140748920791085, 'start_f1_score': 0.8131972233210221, 'end_accuracy': 0.8098082521835157, 'end_precision': 0.8135544691224529, 'end_recall': 0.8098082521835157, 'end_f1_score': 0.8083534095451276, 'joint_exact_match': 0.7753237626744303, 'span_overlap_f1': 0.7913178182656193}\n"
     ]
    },
    {
     "name": "stderr",
     "output_type": "stream",
     "text": [
      "Evaluating: 100%|██████████| 63/63 [00:03<00:00, 16.17it/s]\n"
     ]
    },
    {
     "name": "stdout",
     "output_type": "stream",
     "text": [
      "Validation Loss: 9.7270\n",
      "Validation Metrics: {'start_accuracy': 0.29095477386934676, 'start_precision': 0.3041664338831781, 'start_recall': 0.29095477386934676, 'start_f1_score': 0.2871132675829966, 'end_accuracy': 0.28693467336683415, 'end_precision': 0.30214590475156144, 'end_recall': 0.28693467336683415, 'end_f1_score': 0.2820551941092284, 'joint_exact_match': 0.2442211055276382, 'span_overlap_f1': 0.2759489186796409}\n",
      "--------------------------------------------------\n"
     ]
    },
    {
     "name": "stderr",
     "output_type": "stream",
     "text": [
      "Epoch 10/10: 100%|██████████| 623/623 [01:10<00:00,  8.89it/s, loss=1.08] \n"
     ]
    },
    {
     "name": "stdout",
     "output_type": "stream",
     "text": [
      "Epoch 10 Loss: 1.6464\n"
     ]
    },
    {
     "name": "stderr",
     "output_type": "stream",
     "text": [
      "Evaluating: 100%|██████████| 623/623 [00:39<00:00, 15.89it/s]\n"
     ]
    },
    {
     "name": "stdout",
     "output_type": "stream",
     "text": [
      "Training Loss: 0.9134\n",
      "Training Metrics: {'start_accuracy': 0.8374159220961751, 'start_precision': 0.8420309858278996, 'start_recall': 0.8374159220961751, 'start_f1_score': 0.8366143085204243, 'end_accuracy': 0.8294849914667202, 'end_precision': 0.83503216030159, 'end_recall': 0.8294849914667202, 'end_f1_score': 0.8277332544971849, 'joint_exact_match': 0.8001706655958237, 'span_overlap_f1': 0.8164271478540908}\n"
     ]
    },
    {
     "name": "stderr",
     "output_type": "stream",
     "text": [
      "Evaluating: 100%|██████████| 63/63 [00:03<00:00, 16.01it/s]"
     ]
    },
    {
     "name": "stdout",
     "output_type": "stream",
     "text": [
      "Validation Loss: 10.0587\n",
      "Validation Metrics: {'start_accuracy': 0.28241206030150756, 'start_precision': 0.2978009009657185, 'start_recall': 0.28241206030150756, 'start_f1_score': 0.2768936913924274, 'end_accuracy': 0.2798994974874372, 'end_precision': 0.2923221864455237, 'end_recall': 0.2798994974874372, 'end_f1_score': 0.27231106970619506, 'joint_exact_match': 0.2422110552763819, 'span_overlap_f1': 0.27276099594754605}\n",
      "--------------------------------------------------\n"
     ]
    },
    {
     "name": "stderr",
     "output_type": "stream",
     "text": [
      "\n"
     ]
    }
   ],
   "source": [
    "vocab_size = 10000         # Size of the vocabulary\n",
    "embed_dim = 300            # Dimensionality of the embeddings\n",
    "hidden_size = 100          # Base hidden size; BiLSTM outputs will be 2*hidden_size\n",
    "dropout = 0.2\n",
    "num_layers = 3          # Number of LSTM layers\n",
    "pad_idx = 1\n",
    "device = torch.device('cuda' if torch.cuda.is_available() else 'cpu')\n",
    "\n",
    "# Instantiate the BiDAF model\n",
    "model = DrQAReader(vocab_size=vocab_size, embed_dim=embed_dim, hidden_size=hidden_size, dropout=dropout, pad_idx=pad_idx, num_layers=num_layers)\n",
    "model = model.to(device)\n",
    "\n",
    "# Setup an optimizer (e.g., Adam)\n",
    "optimizer = optim.AdamW(model.parameters(), lr=0.001)\n",
    "criterion = nn.CrossEntropyLoss(ignore_index=pad_idx)\n",
    "\n",
    "train_loss, val_loss = train_qa_context_model_boilerplate(\n",
    "    model=model, \n",
    "    train_dataloader=train_dataloader, \n",
    "    val_dataloader=dev_dataloader, \n",
    "    optimizer=optimizer, \n",
    "    criterion=criterion, \n",
    "    num_epochs=10, \n",
    "    device=device, \n",
    "    inputs = [\"context\", \"question\", \"attention_mask_question\"],\n",
    "    evaluate_val_dataset=True,\n",
    ")\n"
   ]
  },
  {
   "cell_type": "code",
   "execution_count": 4,
   "metadata": {},
   "outputs": [
    {
     "data": {
      "image/png": "[encoded data removed]",
      "text/plain": [
       "<Figure size 1000x600 with 1 Axes>"
      ]
     },
     "metadata": {},
     "output_type": "display_data"
    }
   ],
   "source": [
    "# Plotting the training and validation loss\n",
    "plot_loss_curves(train_loss, val_loss)"
   ]
  },
  {
   "cell_type": "code",
   "execution_count": 21,
   "metadata": {},
   "outputs": [],
   "source": [
    "model_path = \"models/qa_context_model_dqra.pkl\""
   ]
  },
  {
   "cell_type": "code",
   "execution_count": 22,
   "metadata": {},
   "outputs": [
    {
     "name": "stdout",
     "output_type": "stream",
     "text": [
      "Model file models/qa_context_model_dqra.pkl already exists. Skipping save.\n"
     ]
    }
   ],
   "source": [
    "save_model(model, model_path)"
   ]
  },
  {
   "cell_type": "code",
   "execution_count": 23,
   "metadata": {},
   "outputs": [
    {
     "name": "stdout",
     "output_type": "stream",
     "text": [
      "Model loaded from models/qa_context_model_dqra.pkl\n"
     ]
    }
   ],
   "source": [
    "model = load_model(model_path=model_path)"
   ]
  },
  {
   "cell_type": "code",
   "execution_count": 24,
   "metadata": {},
   "outputs": [
    {
     "name": "stderr",
     "output_type": "stream",
     "text": [
      "Evaluating:   0%|          | 0/623 [00:00<?, ?it/s]/home/karimgamaleldin/.local/lib/python3.10/site-packages/torch/nn/modules/rnn.py:1124: UserWarning: RNN module weights are not part of single contiguous chunk of memory. This means they need to be compacted at every call, possibly greatly increasing memory usage. To compact weights again call flatten_parameters(). (Triggered internally at /pytorch/aten/src/ATen/native/cudnn/RNN.cpp:1412.)\n",
      "  result = _VF.lstm(\n",
      "Evaluating: 100%|██████████| 623/623 [00:39<00:00, 15.84it/s]\n"
     ]
    },
    {
     "name": "stdout",
     "output_type": "stream",
     "text": [
      "Validation Loss: 0.9130\n",
      "Validation Metrics: {'start_accuracy': 0.8374159220961751, 'start_precision': 0.8420309858278996, 'start_recall': 0.8374159220961751, 'start_f1_score': 0.8366143085204243, 'end_accuracy': 0.8294849914667202, 'end_precision': 0.83503216030159, 'end_recall': 0.8294849914667202, 'end_f1_score': 0.8277332544971849, 'joint_exact_match': 0.8001706655958237, 'span_overlap_f1': 0.8164271478540908}\n"
     ]
    },
    {
     "data": {
      "text/plain": [
       "(0.9130401326220835,\n",
       " {'start_accuracy': 0.8374159220961751,\n",
       "  'start_precision': 0.8420309858278996,\n",
       "  'start_recall': 0.8374159220961751,\n",
       "  'start_f1_score': 0.8366143085204243,\n",
       "  'end_accuracy': 0.8294849914667202,\n",
       "  'end_precision': 0.83503216030159,\n",
       "  'end_recall': 0.8294849914667202,\n",
       "  'end_f1_score': 0.8277332544971849,\n",
       "  'joint_exact_match': 0.8001706655958237,\n",
       "  'span_overlap_f1': 0.8164271478540908})"
      ]
     },
     "execution_count": 24,
     "metadata": {},
     "output_type": "execute_result"
    }
   ],
   "source": [
    "# evaluate the model on the dev set\n",
    "criterion = nn.CrossEntropyLoss(ignore_index=1)\n",
    "evaluate_qa_context_model_boilerplate(model=model, dataloader=train_dataloader, criterion=criterion, device='cuda', inputs = [\"context\", \"question\", \"attention_mask_question\"])"
   ]
  },
  {
   "cell_type": "code",
   "execution_count": 25,
   "metadata": {},
   "outputs": [
    {
     "name": "stderr",
     "output_type": "stream",
     "text": [
      "Evaluating:   0%|          | 0/63 [00:00<?, ?it/s]/home/karimgamaleldin/.local/lib/python3.10/site-packages/torch/nn/modules/rnn.py:1124: UserWarning: RNN module weights are not part of single contiguous chunk of memory. This means they need to be compacted at every call, possibly greatly increasing memory usage. To compact weights again call flatten_parameters(). (Triggered internally at /pytorch/aten/src/ATen/native/cudnn/RNN.cpp:1412.)\n",
      "  result = _VF.lstm(\n",
      "Evaluating: 100%|██████████| 63/63 [00:04<00:00, 13.51it/s]"
     ]
    },
    {
     "name": "stdout",
     "output_type": "stream",
     "text": [
      "Validation Loss: 10.0587\n",
      "Validation Metrics: {'start_accuracy': 0.28241206030150756, 'start_precision': 0.2978009009657185, 'start_recall': 0.28241206030150756, 'start_f1_score': 0.2768936913924274, 'end_accuracy': 0.2798994974874372, 'end_precision': 0.2923221864455237, 'end_recall': 0.2798994974874372, 'end_f1_score': 0.27231106970619506, 'joint_exact_match': 0.2422110552763819, 'span_overlap_f1': 0.27276099594754605}\n"
     ]
    },
    {
     "name": "stderr",
     "output_type": "stream",
     "text": [
      "\n"
     ]
    },
    {
     "data": {
      "text/plain": [
       "(10.058694892459446,\n",
       " {'start_accuracy': 0.28241206030150756,\n",
       "  'start_precision': 0.2978009009657185,\n",
       "  'start_recall': 0.28241206030150756,\n",
       "  'start_f1_score': 0.2768936913924274,\n",
       "  'end_accuracy': 0.2798994974874372,\n",
       "  'end_precision': 0.2923221864455237,\n",
       "  'end_recall': 0.2798994974874372,\n",
       "  'end_f1_score': 0.27231106970619506,\n",
       "  'joint_exact_match': 0.2422110552763819,\n",
       "  'span_overlap_f1': 0.27276099594754605})"
      ]
     },
     "execution_count": 25,
     "metadata": {},
     "output_type": "execute_result"
    }
   ],
   "source": [
    "# evaluate the model on the dev set\n",
    "criterion = nn.CrossEntropyLoss(ignore_index=1)\n",
    "evaluate_qa_context_model_boilerplate(model=model, dataloader=dev_dataloader, criterion=criterion, device='cuda', inputs = [\"context\", \"question\", \"attention_mask_question\"])"
   ]
  },
  {
   "cell_type": "code",
   "execution_count": 26,
   "metadata": {},
   "outputs": [
    {
     "name": "stderr",
     "output_type": "stream",
     "text": [
      "Predicting:   0%|          | 0/63 [00:00<?, ?it/s]/home/karimgamaleldin/.local/lib/python3.10/site-packages/torch/nn/modules/rnn.py:1124: UserWarning: RNN module weights are not part of single contiguous chunk of memory. This means they need to be compacted at every call, possibly greatly increasing memory usage. To compact weights again call flatten_parameters(). (Triggered internally at /pytorch/aten/src/ATen/native/cudnn/RNN.cpp:1412.)\n",
      "  result = _VF.lstm(\n",
      "Predicting: 100%|██████████| 63/63 [00:04<00:00, 14.25it/s]\n"
     ]
    }
   ],
   "source": [
    "preds, true_labels = predict_qa_context_model_boilerplate(model=model, dataloader=dev_dataloader, tokenizer=tokenizer, device='cuda', inputs = [\"context\", \"question\", \"attention_mask_question\"])"
   ]
  },
  {
   "cell_type": "code",
   "execution_count": 27,
   "metadata": {},
   "outputs": [
    {
     "name": "stdout",
     "output_type": "stream",
     "text": [
      "Predicted Answer: two\n",
      "True Answer: 3\n",
      "--------------------------------------------------\n",
      "Predicted Answer: 8\n",
      "True Answer: 8\n",
      "--------------------------------------------------\n",
      "Predicted Answer: 8\n",
      "True Answer: 8\n",
      "--------------------------------------------------\n",
      "Predicted Answer: 12\n",
      "True Answer: 5\n",
      "--------------------------------------------------\n",
      "Predicted Answer: 27 - 30 %\n",
      "True Answer: 5\n",
      "--------------------------------------------------\n",
      "Predicted Answer: 1\n",
      "True Answer: 1\n",
      "--------------------------------------------------\n",
      "Predicted Answer: 2 . similarly , when written in the usual decimal system , all prime numbers larger than 5 end in 1 , 3 , 7 , or 9 , since even numbers are multiples of 2 and numbers ending in 0 or 5 are multiples of 5\n",
      "True Answer: 2\n",
      "--------------------------------------------------\n",
      "Predicted Answer: 11 . 1 %.\n",
      "True Answer: 7\n",
      "--------------------------------------------------\n",
      "Predicted Answer: 2\n",
      "True Answer: 9\n",
      "--------------------------------------------------\n",
      "Predicted Answer: l\n",
      "True Answer: l\n",
      "--------------------------------------------------\n",
      "Predicted Answer: 9\n",
      "True Answer: 9\n",
      "--------------------------------------------------\n",
      "Predicted Answer: class np\n",
      "True Answer: p\n",
      "--------------------------------------------------\n",
      "Predicted Answer: 131\n",
      "True Answer: 2\n",
      "--------------------------------------------------\n",
      "Predicted Answer: \n",
      "True Answer: 4\n",
      "--------------------------------------------------\n",
      "Predicted Answer: integer\n",
      "True Answer: k\n",
      "--------------------------------------------------\n",
      "Predicted Answer: 60\n",
      "True Answer: 60\n",
      "--------------------------------------------------\n",
      "Predicted Answer: lung\n",
      "True Answer: uv\n",
      "--------------------------------------------------\n",
      "Predicted Answer: 55 , 000\n",
      "True Answer: 73\n",
      "--------------------------------------------------\n",
      "Predicted Answer: 13\n",
      "True Answer: 13\n",
      "--------------------------------------------------\n",
      "Predicted Answer: one\n",
      "True Answer: 28\n",
      "--------------------------------------------------\n",
      "Predicted Answer: 30\n",
      "True Answer: 30\n",
      "--------------------------------------------------\n",
      "Predicted Answer: \n",
      "True Answer: o2\n",
      "--------------------------------------------------\n",
      "Predicted Answer: ho\n",
      "True Answer: ho\n",
      "--------------------------------------------------\n",
      "Predicted Answer: france\n",
      "True Answer: uk\n",
      "--------------------------------------------------\n",
      "Predicted Answer: sweden\n",
      "True Answer: uk\n",
      "--------------------------------------------------\n",
      "Predicted Answer: 60\n",
      "True Answer: 60\n",
      "--------------------------------------------------\n",
      "Predicted Answer: 12\n",
      "True Answer: 12\n",
      "--------------------------------------------------\n",
      "Predicted Answer: 13\n",
      "True Answer: 13\n",
      "--------------------------------------------------\n",
      "Predicted Answer: duty\n",
      "True Answer: 94\n",
      "--------------------------------------------------\n",
      "Predicted Answer: 11\n",
      "True Answer: 11\n",
      "--------------------------------------------------\n",
      "Predicted Answer: bskyb\n",
      "True Answer: no\n",
      "--------------------------------------------------\n",
      "Predicted Answer: 60\n",
      "True Answer: 60\n",
      "--------------------------------------------------\n",
      "Predicted Answer: £ 1\n",
      "True Answer: £ 1\n",
      "--------------------------------------------------\n",
      "Predicted Answer: 80\n",
      "True Answer: 80\n",
      "--------------------------------------------------\n",
      "Predicted Answer: 70 - 50\n",
      "True Answer: 70\n",
      "--------------------------------------------------\n",
      "Predicted Answer: 17\n",
      "True Answer: 17\n",
      "--------------------------------------------------\n",
      "Predicted Answer: 11\n",
      "True Answer: 11\n",
      "--------------------------------------------------\n",
      "Predicted Answer: 12\n",
      "True Answer: 14\n",
      "--------------------------------------------------\n",
      "Predicted Answer: h2o\n",
      "True Answer: dc\n",
      "--------------------------------------------------\n",
      "Predicted Answer: 2 %\n",
      "True Answer: 2 %\n",
      "--------------------------------------------------\n",
      "Predicted Answer: 12\n",
      "True Answer: 12\n",
      "--------------------------------------------------\n",
      "Predicted Answer: 40\n",
      "True Answer: 30\n",
      "--------------------------------------------------\n",
      "Predicted Answer: five\n",
      "True Answer: 50\n",
      "--------------------------------------------------\n",
      "Predicted Answer: five\n",
      "True Answer: 28\n",
      "--------------------------------------------------\n",
      "Predicted Answer: 50\n",
      "True Answer: 50\n",
      "--------------------------------------------------\n",
      "Predicted Answer: £ 30m\n",
      "True Answer: no\n",
      "--------------------------------------------------\n",
      "Predicted Answer: 88\n",
      "True Answer: 88\n",
      "--------------------------------------------------\n",
      "Predicted Answer: 113\n",
      "True Answer: 12\n",
      "--------------------------------------------------\n",
      "Predicted Answer: 19\n",
      "True Answer: 19\n",
      "--------------------------------------------------\n",
      "Predicted Answer: 61\n",
      "True Answer: 61\n",
      "--------------------------------------------------\n",
      "Predicted Answer: 20\n",
      "True Answer: 20\n",
      "--------------------------------------------------\n",
      "Predicted Answer: 42\n",
      "True Answer: 28\n",
      "--------------------------------------------------\n",
      "Predicted Answer: 90 %\n",
      "True Answer: 90\n",
      "--------------------------------------------------\n",
      "Predicted Answer: 45\n",
      "True Answer: 45\n",
      "--------------------------------------------------\n",
      "Predicted Answer: 32\n",
      "True Answer: 32\n",
      "--------------------------------------------------\n",
      "Predicted Answer: 42\n",
      "True Answer: 42\n",
      "--------------------------------------------------\n",
      "Predicted Answer: 9 per cent of children being educated in the uk are doing so at fee - paying schools at gsce level and 13 per cent at a - level .[ citation needed ] many independent schools are single - sex ( though this is becoming less common ). fees range from under £ 3 , 000 to £ 21 , 000 and above per year for day pupils , rising to £ 27 , 000 +\n",
      "True Answer: 13\n",
      "--------------------------------------------------\n",
      "Predicted Answer: 11\n",
      "True Answer: 11\n",
      "--------------------------------------------------\n",
      "Predicted Answer: 40\n",
      "True Answer: 40\n",
      "--------------------------------------------------\n",
      "Predicted Answer: sno\n",
      "True Answer: 99\n",
      "--------------------------------------------------\n",
      "Predicted Answer: 13\n",
      "True Answer: 13\n",
      "--------------------------------------------------\n",
      "Predicted Answer: 12\n",
      "True Answer: 37\n",
      "--------------------------------------------------\n",
      "Predicted Answer: 75 %\n",
      "True Answer: 75\n",
      "--------------------------------------------------\n",
      "Predicted Answer: 32 %\n",
      "True Answer: 80\n",
      "--------------------------------------------------\n",
      "Predicted Answer: 10 %\n",
      "True Answer: 10\n",
      "--------------------------------------------------\n",
      "Predicted Answer:  #p\n",
      "True Answer:  #p\n",
      "--------------------------------------------------\n",
      "Predicted Answer: 90 °\n",
      "True Answer: 90\n",
      "--------------------------------------------------\n",
      "Predicted Answer: 90 %\n",
      "True Answer: 90\n",
      "--------------------------------------------------\n",
      "Predicted Answer: 23\n",
      "True Answer: 23\n",
      "--------------------------------------------------\n",
      "Predicted Answer: 17\n",
      "True Answer: 17\n",
      "--------------------------------------------------\n",
      "Predicted Answer: 32 %\n",
      "True Answer: 32\n",
      "--------------------------------------------------\n",
      "Predicted Answer: 60\n",
      "True Answer: 60\n",
      "--------------------------------------------------\n",
      "Predicted Answer: np\n",
      "True Answer: np\n",
      "--------------------------------------------------\n",
      "Predicted Answer: class np\n",
      "True Answer: np\n",
      "--------------------------------------------------\n",
      "Predicted Answer: six\n",
      "True Answer: 28\n",
      "--------------------------------------------------\n",
      "Predicted Answer: \n",
      "True Answer: 90\n",
      "--------------------------------------------------\n",
      "Predicted Answer: c\n",
      "True Answer: np\n",
      "--------------------------------------------------\n",
      "Predicted Answer: 25\n",
      "True Answer: 25\n",
      "--------------------------------------------------\n",
      "Predicted Answer: five\n",
      "True Answer: 15\n",
      "--------------------------------------------------\n",
      "Predicted Answer: 21\n",
      "True Answer: 21\n",
      "--------------------------------------------------\n",
      "Predicted Answer: one\n",
      "True Answer: 129\n",
      "--------------------------------------------------\n",
      "Predicted Answer: nds\n",
      "True Answer: nds\n",
      "--------------------------------------------------\n",
      "Predicted Answer: 0 . 05\n",
      "True Answer: feo\n",
      "--------------------------------------------------\n",
      "Predicted Answer: odo\n",
      "True Answer: odo\n",
      "--------------------------------------------------\n",
      "Predicted Answer: longer\n",
      "True Answer: hgo\n",
      "--------------------------------------------------\n",
      "Predicted Answer: 168 , 637\n",
      "True Answer: 20 %\n",
      "--------------------------------------------------\n",
      "Predicted Answer: 1781\n",
      "True Answer: ten\n",
      "--------------------------------------------------\n",
      "Predicted Answer: six\n",
      "True Answer: six\n",
      "--------------------------------------------------\n",
      "Predicted Answer: 911\n",
      "True Answer: 911\n",
      "--------------------------------------------------\n",
      "Predicted Answer: 50 % of this area is sown for wheat , 33 %\n",
      "True Answer: 50 %\n",
      "--------------------------------------------------\n",
      "Predicted Answer: adults\n",
      "True Answer: ink\n",
      "--------------------------------------------------\n",
      "Predicted Answer: 300\n",
      "True Answer: 325\n",
      "--------------------------------------------------\n",
      "Predicted Answer: 214\n",
      "True Answer: 489\n",
      "--------------------------------------------------\n",
      "Predicted Answer: waal\n",
      "True Answer: lek\n",
      "--------------------------------------------------\n",
      "Predicted Answer: 131\n",
      "True Answer: 131\n",
      "--------------------------------------------------\n",
      "Predicted Answer: two\n",
      "True Answer: two\n",
      "--------------------------------------------------\n",
      "Predicted Answer: waal\n",
      "True Answer: lek\n",
      "--------------------------------------------------\n",
      "Predicted Answer: three\n",
      "True Answer: two\n",
      "--------------------------------------------------\n",
      "Predicted Answer: aufbau\n",
      "True Answer: two\n",
      "--------------------------------------------------\n",
      "Predicted Answer: oxygen - 18\n",
      "True Answer: 12 %\n",
      "--------------------------------------------------\n"
     ]
    }
   ],
   "source": [
    "# Compare the predictions with the actual answers\n",
    "for i in range(100):\n",
    "    print(f\"Predicted Answer: {preds[i]}\")\n",
    "    print(f\"True Answer: {true_labels[i]}\")\n",
    "    print(\"-\" * 50)"
   ]
  },
  {
   "cell_type": "code",
   "execution_count": 28,
   "metadata": {},
   "outputs": [
    {
     "name": "stderr",
     "output_type": "stream",
     "text": [
      "Predicting: 100%|██████████| 623/623 [00:41<00:00, 14.87it/s]\n"
     ]
    }
   ],
   "source": [
    "train_preds, train_true_labels = predict_qa_context_model_boilerplate(model=model, dataloader=train_dataloader, tokenizer=tokenizer, device='cuda', inputs = [\"context\", \"question\", \"attention_mask_question\"])"
   ]
  },
  {
   "cell_type": "code",
   "execution_count": 29,
   "metadata": {},
   "outputs": [
    {
     "name": "stdout",
     "output_type": "stream",
     "text": [
      "Predicted Answer: 1953\n",
      "True Answer: 1953\n",
      "--------------------------------------------------\n",
      "Predicted Answer: 2 , 300\n",
      "True Answer: 2 , 300\n",
      "--------------------------------------------------\n",
      "Predicted Answer: 1992 and also only narrowly lost the state in 1996\n",
      "True Answer: 1996\n",
      "--------------------------------------------------\n",
      "Predicted Answer: ( 1983\n",
      "True Answer: 1983\n",
      "--------------------------------------------------\n",
      "Predicted Answer: 5 %\n",
      "True Answer: 5 %\n",
      "--------------------------------------------------\n",
      "Predicted Answer: alcohol\n",
      "True Answer: alcohol\n",
      "--------------------------------------------------\n",
      "Predicted Answer: ad 43\n",
      "True Answer: ad 43\n",
      "--------------------------------------------------\n",
      "Predicted Answer: 1913\n",
      "True Answer: 1913\n",
      "--------------------------------------------------\n",
      "Predicted Answer: prague\n",
      "True Answer: prague\n",
      "--------------------------------------------------\n",
      "Predicted Answer: 1784\n",
      "True Answer: 1784\n",
      "--------------------------------------------------\n",
      "Predicted Answer: abilene\n",
      "True Answer: abilene\n",
      "--------------------------------------------------\n",
      "Predicted Answer: 1806\n",
      "True Answer: 1806\n",
      "--------------------------------------------------\n",
      "Predicted Answer: 2012\n",
      "True Answer: 2012\n",
      "--------------------------------------------------\n",
      "Predicted Answer: 1370\n",
      "True Answer: 1370\n",
      "--------------------------------------------------\n",
      "Predicted Answer: 1987\n",
      "True Answer: 1987\n",
      "--------------------------------------------------\n",
      "Predicted Answer: $ 7 . 60\n",
      "True Answer: $ 2 . 09\n",
      "--------------------------------------------------\n",
      "Predicted Answer: 1988\n",
      "True Answer: 1997\n",
      "--------------------------------------------------\n",
      "Predicted Answer: larger\n",
      "True Answer: larger\n",
      "--------------------------------------------------\n",
      "Predicted Answer: stone\n",
      "True Answer: stone\n",
      "--------------------------------------------------\n",
      "Predicted Answer: bees\n",
      "True Answer: bees\n",
      "--------------------------------------------------\n",
      "Predicted Answer: cancer\n",
      "True Answer: cancer\n",
      "--------------------------------------------------\n",
      "Predicted Answer: ten\n",
      "True Answer: ten\n",
      "--------------------------------------------------\n",
      "Predicted Answer: ephesus\n",
      "True Answer: ephesus\n",
      "--------------------------------------------------\n",
      "Predicted Answer: 1987\n",
      "True Answer: 1980\n",
      "--------------------------------------------------\n",
      "Predicted Answer: 1987\n",
      "True Answer: 1994\n",
      "--------------------------------------------------\n",
      "Predicted Answer: 311\n",
      "True Answer: in 311\n",
      "--------------------------------------------------\n",
      "Predicted Answer: 1790\n",
      "True Answer: 1790\n",
      "--------------------------------------------------\n",
      "Predicted Answer: jupiter\n",
      "True Answer: jupiter\n",
      "--------------------------------------------------\n",
      "Predicted Answer: vishnu\n",
      "True Answer: vishnu\n",
      "--------------------------------------------------\n",
      "Predicted Answer: 1915\n",
      "True Answer: 1970\n",
      "--------------------------------------------------\n",
      "Predicted Answer: \n",
      "True Answer: 1999\n",
      "--------------------------------------------------\n",
      "Predicted Answer: second\n",
      "True Answer: second\n",
      "--------------------------------------------------\n",
      "Predicted Answer: 1839\n",
      "True Answer: 1839\n",
      "--------------------------------------------------\n",
      "Predicted Answer: nine\n",
      "True Answer: nine\n",
      "--------------------------------------------------\n",
      "Predicted Answer: 860 bc\n",
      "True Answer: 860 bc\n",
      "--------------------------------------------------\n",
      "Predicted Answer: warmth\n",
      "True Answer: warmth\n",
      "--------------------------------------------------\n",
      "Predicted Answer: 50 %,\n",
      "True Answer: 30 %\n",
      "--------------------------------------------------\n",
      "Predicted Answer: 200 , 000\n",
      "True Answer: 200 , 000\n",
      "--------------------------------------------------\n",
      "Predicted Answer: 14\n",
      "True Answer: 14\n",
      "--------------------------------------------------\n",
      "Predicted Answer: 1962\n",
      "True Answer: 1962\n",
      "--------------------------------------------------\n",
      "Predicted Answer: 2000\n",
      "True Answer: 2000\n",
      "--------------------------------------------------\n",
      "Predicted Answer: france\n",
      "True Answer: france\n",
      "--------------------------------------------------\n",
      "Predicted Answer: rossabi\n",
      "True Answer: rossabi\n",
      "--------------------------------------------------\n",
      "Predicted Answer: 45 rpm\n",
      "True Answer: 45 rpm\n",
      "--------------------------------------------------\n",
      "Predicted Answer: rangoon\n",
      "True Answer: rangoon\n",
      "--------------------------------------------------\n",
      "Predicted Answer: 1249\n",
      "True Answer: 1240\n",
      "--------------------------------------------------\n",
      "Predicted Answer: \" geld\n",
      "True Answer: geld\n",
      "--------------------------------------------------\n",
      "Predicted Answer: 2012\n",
      "True Answer: 2012\n",
      "--------------------------------------------------\n",
      "Predicted Answer: 1985\n",
      "True Answer: 1985\n",
      "--------------------------------------------------\n",
      "Predicted Answer: 26 , 000\n",
      "True Answer: 26 , 000\n",
      "--------------------------------------------------\n",
      "Predicted Answer: tsampa\n",
      "True Answer: tsampa\n",
      "--------------------------------------------------\n",
      "Predicted Answer: quran\n",
      "True Answer: quran\n",
      "--------------------------------------------------\n",
      "Predicted Answer: ērān\n",
      "True Answer: ērān\n",
      "--------------------------------------------------\n",
      "Predicted Answer: 345\n",
      "True Answer: 345\n",
      "--------------------------------------------------\n",
      "Predicted Answer: poland\n",
      "True Answer: poland\n",
      "--------------------------------------------------\n",
      "Predicted Answer: nanking\n",
      "True Answer: nanking\n",
      "--------------------------------------------------\n",
      "Predicted Answer: zinc\n",
      "True Answer: zinc\n",
      "--------------------------------------------------\n",
      "Predicted Answer: ram it\n",
      "True Answer: ram it\n",
      "--------------------------------------------------\n",
      "Predicted Answer: five\n",
      "True Answer: five\n",
      "--------------------------------------------------\n",
      "Predicted Answer: whig\n",
      "True Answer: whig\n",
      "--------------------------------------------------\n",
      "Predicted Answer: greek drama exemplifies the earliest form of drama of which we have substantial knowledge . tragedy , as a dramatic genre , developed as a performance associated with religious and civic festivals , typically enacting or developing upon well - known historical or mythological themes . tragedies generally presented very serious themes . with the advent of newer\n",
      "True Answer: greek\n",
      "--------------------------------------------------\n",
      "Predicted Answer: manila\n",
      "True Answer: manila\n",
      "--------------------------------------------------\n",
      "Predicted Answer: \" musette\n",
      "True Answer: musette\n",
      "--------------------------------------------------\n",
      "Predicted Answer: ( 1960\n",
      "True Answer: 1960\n",
      "--------------------------------------------------\n",
      "Predicted Answer: 310\n",
      "True Answer: 310\n",
      "--------------------------------------------------\n",
      "Predicted Answer: ph\n",
      "True Answer: ph\n",
      "--------------------------------------------------\n",
      "Predicted Answer: 4\n",
      "True Answer: 4\n",
      "--------------------------------------------------\n",
      "Predicted Answer: sunday\n",
      "True Answer: sunday\n",
      "--------------------------------------------------\n",
      "Predicted Answer: blue\n",
      "True Answer: blue\n",
      "--------------------------------------------------\n",
      "Predicted Answer: 1874\n",
      "True Answer: 1919\n",
      "--------------------------------------------------\n",
      "Predicted Answer: 75 . 6 ° f\n",
      "True Answer: − 9 ° f\n",
      "--------------------------------------------------\n",
      "Predicted Answer: śāradā\n",
      "True Answer: śāradā\n",
      "--------------------------------------------------\n",
      "Predicted Answer: 20th\n",
      "True Answer: 20th\n",
      "--------------------------------------------------\n",
      "Predicted Answer: \n",
      "True Answer: 1327\n",
      "--------------------------------------------------\n",
      "Predicted Answer: 2013\n",
      "True Answer: 2013\n",
      "--------------------------------------------------\n",
      "Predicted Answer: 2011\n",
      "True Answer: 2011\n",
      "--------------------------------------------------\n",
      "Predicted Answer: ($ 2 , 644\n",
      "True Answer: $ 2 , 6\n",
      "--------------------------------------------------\n",
      "Predicted Answer: 19th\n",
      "True Answer: 19th\n",
      "--------------------------------------------------\n",
      "Predicted Answer: 13\n",
      "True Answer: 13\n",
      "--------------------------------------------------\n",
      "Predicted Answer: hawaii\n",
      "True Answer: hawaii\n",
      "--------------------------------------------------\n",
      "Predicted Answer: 30 %\n",
      "True Answer: 30 %\n",
      "--------------------------------------------------\n",
      "Predicted Answer: 391\n",
      "True Answer: 391\n",
      "--------------------------------------------------\n",
      "Predicted Answer: 883\n",
      "True Answer: 883\n",
      "--------------------------------------------------\n",
      "Predicted Answer: foggy\n",
      "True Answer: foggy\n",
      "--------------------------------------------------\n",
      "Predicted Answer: 115 , 349\n",
      "True Answer: 115 , 3\n",
      "--------------------------------------------------\n",
      "Predicted Answer: 2005\n",
      "True Answer: 2005\n",
      "--------------------------------------------------\n",
      "Predicted Answer: 18 . 7\n",
      "True Answer: 18 . 7\n",
      "--------------------------------------------------\n",
      "Predicted Answer: rain\n",
      "True Answer: water\n",
      "--------------------------------------------------\n",
      "Predicted Answer: hokkien\n",
      "True Answer: hokkien\n",
      "--------------------------------------------------\n",
      "Predicted Answer: eleven\n",
      "True Answer: eleven\n",
      "--------------------------------------------------\n",
      "Predicted Answer: 85\n",
      "True Answer: 85\n",
      "--------------------------------------------------\n",
      "Predicted Answer: \" craic\n",
      "True Answer: craic\n",
      "--------------------------------------------------\n",
      "Predicted Answer: manually\n",
      "True Answer: manual\n",
      "--------------------------------------------------\n",
      "Predicted Answer: ( wujud\n",
      "True Answer: wujud\n",
      "--------------------------------------------------\n",
      "Predicted Answer: slavic\n",
      "True Answer: slavic\n",
      "--------------------------------------------------\n",
      "Predicted Answer: three\n",
      "True Answer: three\n",
      "--------------------------------------------------\n",
      "Predicted Answer: pcf - 3\n",
      "True Answer: pcf - 3\n",
      "--------------------------------------------------\n",
      "Predicted Answer: 2003\n",
      "True Answer: 2003\n",
      "--------------------------------------------------\n",
      "Predicted Answer: 1908\n",
      "True Answer: 1946\n",
      "--------------------------------------------------\n",
      "Predicted Answer: 1987\n",
      "True Answer: 1987\n",
      "--------------------------------------------------\n"
     ]
    }
   ],
   "source": [
    "# Compare the predictions with the actual answers\n",
    "for i in range(100):\n",
    "    print(f\"Predicted Answer: {train_preds[i]}\")\n",
    "    print(f\"True Answer: {train_true_labels[i]}\")\n",
    "    print(\"-\" * 50)"
   ]
  }
 ],
 "metadata": {
  "kernelspec": {
   "display_name": "Python 3",
   "language": "python",
   "name": "python3"
  },
  "language_info": {
   "codemirror_mode": {
    "name": "ipython",
    "version": 3
   },
   "file_extension": ".py",
   "mimetype": "text/x-python",
   "name": "python",
   "nbconvert_exporter": "python",
   "pygments_lexer": "ipython3",
   "version": "3.10.12"
  }
 },
 "nbformat": 4,
 "nbformat_minor": 2
}
