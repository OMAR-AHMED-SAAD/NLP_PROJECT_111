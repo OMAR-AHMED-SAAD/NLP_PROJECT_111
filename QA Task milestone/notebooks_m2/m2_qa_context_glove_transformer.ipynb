{
  "cells": [
    {
      "cell_type": "markdown",
      "metadata": {
        "id": "furWbet6M3Jn"
      },
      "source": [
        "# Milestone 2 - Training Transformer Models with GloVe embeddings"
      ]
    },
    {
      "cell_type": "markdown",
      "metadata": {},
      "source": [
        "### Imports"
      ]
    },
    {
      "cell_type": "code",
      "execution_count": 1,
      "metadata": {
        "colab": {
          "base_uri": "https://localhost:8080/"
        },
        "id": "Rd_xZP2iM3Jq",
        "outputId": "9e6e465a-f13a-443e-c4aa-035ef5c04a98"
      },
      "outputs": [
        {
          "name": "stdout",
          "output_type": "stream",
          "text": [
            "c:\\Users\\001\\OneDrive\\Desktop\\GUC\\semester 10\\nlp\\NLP_PROJECT_111\\QA Task milestone\n"
          ]
        },
        {
          "name": "stderr",
          "output_type": "stream",
          "text": [
            "c:\\Users\\001\\anaconda3\\envs\\nlp_env\\Lib\\site-packages\\IPython\\core\\magics\\osm.py:417: UserWarning: This is now an optional IPython functionality, setting dhist requires you to install the `pickleshare` library.\n",
            "  self.shell.db['dhist'] = compress_dhist(dhist)[-100:]\n",
            "c:\\Users\\001\\anaconda3\\envs\\nlp_env\\Lib\\site-packages\\torchtext\\data\\__init__.py:4: UserWarning: \n",
            "/!\\ IMPORTANT WARNING ABOUT TORCHTEXT STATUS /!\\ \n",
            "Torchtext is deprecated and the last released version will be 0.18 (this one). You can silence this warning by calling the following at the beginnign of your scripts: `import torchtext; torchtext.disable_torchtext_deprecation_warning()`\n",
            "  warnings.warn(torchtext._TORCHTEXT_DEPRECATION_MSG)\n",
            "c:\\Users\\001\\anaconda3\\envs\\nlp_env\\Lib\\site-packages\\torchtext\\vocab\\__init__.py:4: UserWarning: \n",
            "/!\\ IMPORTANT WARNING ABOUT TORCHTEXT STATUS /!\\ \n",
            "Torchtext is deprecated and the last released version will be 0.18 (this one). You can silence this warning by calling the following at the beginnign of your scripts: `import torchtext; torchtext.disable_torchtext_deprecation_warning()`\n",
            "  warnings.warn(torchtext._TORCHTEXT_DEPRECATION_MSG)\n",
            "c:\\Users\\001\\anaconda3\\envs\\nlp_env\\Lib\\site-packages\\torchtext\\utils.py:4: UserWarning: \n",
            "/!\\ IMPORTANT WARNING ABOUT TORCHTEXT STATUS /!\\ \n",
            "Torchtext is deprecated and the last released version will be 0.18 (this one). You can silence this warning by calling the following at the beginnign of your scripts: `import torchtext; torchtext.disable_torchtext_deprecation_warning()`\n",
            "  warnings.warn(torchtext._TORCHTEXT_DEPRECATION_MSG)\n"
          ]
        }
      ],
      "source": [
        "%cd ..\n",
        "# imports\n",
        "from scripts_m2 import *\n"
      ]
    },
    {
      "cell_type": "markdown",
      "metadata": {
        "id": "UMWcb8n-M3Jr"
      },
      "source": [
        "### 1. Get Dataloaders"
      ]
    },
    {
      "cell_type": "code",
      "execution_count": 2,
      "metadata": {},
      "outputs": [
        {
          "name": "stdout",
          "output_type": "stream",
          "text": [
            "Filtered dataset size: 19900 out of original 20000\n",
            "Filtered dataset size: 1986 out of original 2000\n"
          ]
        }
      ],
      "source": [
        "train_dataloader, dev_dataloader, tokenizer = prepare_dataloaders_tokenizer_glove()"
      ]
    },
    {
      "cell_type": "markdown",
      "metadata": {
        "id": "GLzOX80RM3Jy"
      },
      "source": [
        "### 2. Model Training"
      ]
    },
    {
      "cell_type": "markdown",
      "metadata": {
        "id": "F4tMuCuhM3Jy"
      },
      "source": [
        "#### Question [PAD] [SEP] Context [PAD]"
      ]
    },
    {
      "cell_type": "code",
      "execution_count": 3,
      "metadata": {
        "colab": {
          "base_uri": "https://localhost:8080/"
        },
        "id": "F5DWI_gHM3Jz",
        "outputId": "fb185619-b220-4d37-aef2-0d0db604c0f0"
      },
      "outputs": [
        {
          "name": "stdout",
          "output_type": "stream",
          "text": [
            "torch.Size([400006, 300])\n"
          ]
        }
      ],
      "source": [
        "print(tokenizer.get_pretrained_embeddings().shape)"
      ]
    },
    {
      "cell_type": "code",
      "execution_count": null,
      "metadata": {
        "colab": {
          "base_uri": "https://localhost:8080/"
        },
        "id": "zAjCoVWuM3Jz",
        "outputId": "9ee7f527-8404-466d-de5e-8a31d3689f48"
      },
      "outputs": [
        {
          "name": "stderr",
          "output_type": "stream",
          "text": [
            "c:\\Users\\001\\anaconda3\\envs\\nlp_env\\Lib\\site-packages\\torch\\nn\\modules\\transformer.py:306: UserWarning: enable_nested_tensor is True, but self.use_nested_tensor is False because encoder_layer.self_attn.batch_first was not True(use batch_first for better inference performance)\n",
            "  warnings.warn(f\"enable_nested_tensor is True, but self.use_nested_tensor is False because {why_not_sparsity_fast_path}\")\n",
            "c:\\Users\\001\\anaconda3\\envs\\nlp_env\\Lib\\site-packages\\torch\\optim\\lr_scheduler.py:28: UserWarning: The verbose parameter is deprecated. Please use get_last_lr() to access the learning rate.\n",
            "  warnings.warn(\"The verbose parameter is deprecated. Please use get_last_lr() \"\n",
            "Epoch 1/10:   0%|          | 0/622 [00:00<?, ?it/s]c:\\Users\\001\\anaconda3\\envs\\nlp_env\\Lib\\site-packages\\torch\\nn\\functional.py:5504: UserWarning: 1Torch was not compiled with flash attention. (Triggered internally at C:\\cb\\pytorch_1000000000000\\work\\aten\\src\\ATen\\native\\transformers\\cuda\\sdp_utils.cpp:455.)\n",
            "  attn_output = scaled_dot_product_attention(q, k, v, attn_mask, dropout_p, is_causal)\n",
            "Epoch 1/10: 100%|██████████| 622/622 [01:06<00:00,  9.36it/s, loss=7.77]\n"
          ]
        },
        {
          "name": "stdout",
          "output_type": "stream",
          "text": [
            "Epoch 1 Loss: 7.6752\n"
          ]
        },
        {
          "name": "stderr",
          "output_type": "stream",
          "text": [
            "Evaluating: 100%|██████████| 622/622 [00:43<00:00, 14.38it/s]\n"
          ]
        },
        {
          "name": "stdout",
          "output_type": "stream",
          "text": [
            "Training Loss: 6.6155\n",
            "Training Metrics: {'start_accuracy': 0.1641206030150754, 'start_precision': 0.16559214540170503, 'start_recall': 0.1641206030150754, 'start_f1_score': 0.16132594275523873, 'end_accuracy': 0.171356783919598, 'end_precision': 0.1747481482298578, 'end_recall': 0.171356783919598, 'end_f1_score': 0.1691803254112028, 'joint_exact_match': 0.13467336683417086, 'span_overlap_f1': 0.14695445654072556}\n"
          ]
        },
        {
          "name": "stderr",
          "output_type": "stream",
          "text": [
            "Evaluating: 100%|██████████| 63/63 [00:04<00:00, 14.47it/s]\n"
          ]
        },
        {
          "name": "stdout",
          "output_type": "stream",
          "text": [
            "Validation Loss: 8.4002\n",
            "Validation Metrics: {'start_accuracy': 0.09718026183282981, 'start_precision': 0.11898831141598541, 'start_recall': 0.09718026183282981, 'start_f1_score': 0.09438474808888687, 'end_accuracy': 0.09617321248741188, 'end_precision': 0.11081795723160802, 'end_recall': 0.09617321248741188, 'end_f1_score': 0.0947156435036993, 'joint_exact_match': 0.07150050352467271, 'span_overlap_f1': 0.08669758897191275}\n",
            "Validation loss improved to 8.4002. Saving model state.\n",
            "--------------------------------------------------\n"
          ]
        },
        {
          "name": "stderr",
          "output_type": "stream",
          "text": [
            "Epoch 2/10: 100%|██████████| 622/622 [01:06<00:00,  9.40it/s, loss=5.77]\n"
          ]
        },
        {
          "name": "stdout",
          "output_type": "stream",
          "text": [
            "Epoch 2 Loss: 6.4809\n"
          ]
        },
        {
          "name": "stderr",
          "output_type": "stream",
          "text": [
            "Evaluating: 100%|██████████| 622/622 [00:40<00:00, 15.30it/s]\n"
          ]
        },
        {
          "name": "stdout",
          "output_type": "stream",
          "text": [
            "Training Loss: 5.9621\n",
            "Training Metrics: {'start_accuracy': 0.2178391959798995, 'start_precision': 0.21670068102358048, 'start_recall': 0.2178391959798995, 'start_f1_score': 0.21465968952873835, 'end_accuracy': 0.22301507537688442, 'end_precision': 0.2255572928019536, 'end_recall': 0.22301507537688442, 'end_f1_score': 0.22082259818246763, 'joint_exact_match': 0.18532663316582915, 'span_overlap_f1': 0.2020579828335672}\n"
          ]
        },
        {
          "name": "stderr",
          "output_type": "stream",
          "text": [
            "Evaluating: 100%|██████████| 63/63 [00:04<00:00, 15.21it/s]\n"
          ]
        },
        {
          "name": "stdout",
          "output_type": "stream",
          "text": [
            "Validation Loss: 8.2372\n",
            "Validation Metrics: {'start_accuracy': 0.09113796576032225, 'start_precision': 0.10163873236996188, 'start_recall': 0.09113796576032225, 'start_f1_score': 0.08935587704322452, 'end_accuracy': 0.09969788519637462, 'end_precision': 0.10925037240112463, 'end_recall': 0.09969788519637462, 'end_f1_score': 0.09721856237636166, 'joint_exact_match': 0.07099697885196375, 'span_overlap_f1': 0.08864529047385149}\n",
            "Validation loss improved to 8.2372. Saving model state.\n",
            "--------------------------------------------------\n"
          ]
        },
        {
          "name": "stderr",
          "output_type": "stream",
          "text": [
            "Epoch 3/10: 100%|██████████| 622/622 [01:03<00:00,  9.72it/s, loss=9.27]\n"
          ]
        },
        {
          "name": "stdout",
          "output_type": "stream",
          "text": [
            "Epoch 3 Loss: 6.0957\n"
          ]
        },
        {
          "name": "stderr",
          "output_type": "stream",
          "text": [
            "Evaluating: 100%|██████████| 622/622 [00:39<00:00, 15.74it/s]\n"
          ]
        },
        {
          "name": "stdout",
          "output_type": "stream",
          "text": [
            "Training Loss: 8.7606\n",
            "Training Metrics: {'start_accuracy': 0.01678391959798995, 'start_precision': 0.019665650728251455, 'start_recall': 0.01678391959798995, 'start_f1_score': 0.017414981134722552, 'end_accuracy': 0.014924623115577889, 'end_precision': 0.018302084450620846, 'end_recall': 0.014924623115577889, 'end_f1_score': 0.015695225862870296, 'joint_exact_match': 0.01, 'span_overlap_f1': 0.013488939208309349}\n"
          ]
        },
        {
          "name": "stderr",
          "output_type": "stream",
          "text": [
            "Evaluating: 100%|██████████| 63/63 [00:04<00:00, 15.35it/s]\n"
          ]
        },
        {
          "name": "stdout",
          "output_type": "stream",
          "text": [
            "Validation Loss: 9.2609\n",
            "Validation Metrics: {'start_accuracy': 0.01460221550855992, 'start_precision': 0.01644973086848654, 'start_recall': 0.01460221550855992, 'start_f1_score': 0.014622266709871145, 'end_accuracy': 0.012084592145015106, 'end_precision': 0.014438813498999949, 'end_recall': 0.012084592145015106, 'end_f1_score': 0.012609277355992866, 'joint_exact_match': 0.008559919436052367, 'span_overlap_f1': 0.011670890901556244}\n",
            "Validation loss did not improve. No improvement for 1 epochs.\n",
            "--------------------------------------------------\n"
          ]
        },
        {
          "name": "stderr",
          "output_type": "stream",
          "text": [
            "Epoch 4/10: 100%|██████████| 622/622 [01:04<00:00,  9.59it/s, loss=10.9]\n"
          ]
        },
        {
          "name": "stdout",
          "output_type": "stream",
          "text": [
            "Epoch 4 Loss: 10.9573\n"
          ]
        },
        {
          "name": "stderr",
          "output_type": "stream",
          "text": [
            "Evaluating: 100%|██████████| 622/622 [00:38<00:00, 16.10it/s]\n"
          ]
        },
        {
          "name": "stdout",
          "output_type": "stream",
          "text": [
            "Training Loss: 11.0349\n",
            "Training Metrics: {'start_accuracy': 0.055728643216080405, 'start_precision': 0.07454809918710627, 'start_recall': 0.055728643216080405, 'start_f1_score': 0.0602606444515502, 'end_accuracy': 0.05155778894472362, 'end_precision': 0.06971910856383136, 'end_recall': 0.05155778894472362, 'end_f1_score': 0.058343582807644505, 'joint_exact_match': 0.02321608040201005, 'span_overlap_f1': 0.03671962061130895}\n"
          ]
        },
        {
          "name": "stderr",
          "output_type": "stream",
          "text": [
            "Evaluating: 100%|██████████| 63/63 [00:03<00:00, 16.15it/s]\n"
          ]
        },
        {
          "name": "stdout",
          "output_type": "stream",
          "text": [
            "Validation Loss: 11.0349\n",
            "Validation Metrics: {'start_accuracy': 0.032225579053373615, 'start_precision': 0.041543659659450026, 'start_recall': 0.032225579053373615, 'start_f1_score': 0.029749795242735327, 'end_accuracy': 0.029707955689828803, 'end_precision': 0.03445707707920367, 'end_recall': 0.029707955689828803, 'end_f1_score': 0.03069325858713136, 'joint_exact_match': 0.011077542799597181, 'span_overlap_f1': 0.02562781260307603}\n",
            "Validation loss did not improve. No improvement for 2 epochs.\n",
            "--------------------------------------------------\n"
          ]
        },
        {
          "name": "stderr",
          "output_type": "stream",
          "text": [
            "Epoch 5/10: 100%|██████████| 622/622 [01:05<00:00,  9.45it/s, loss=11]  \n"
          ]
        },
        {
          "name": "stdout",
          "output_type": "stream",
          "text": [
            "Epoch 5 Loss: 11.0396\n"
          ]
        },
        {
          "name": "stderr",
          "output_type": "stream",
          "text": [
            "Evaluating: 100%|██████████| 622/622 [00:38<00:00, 16.14it/s]\n"
          ]
        },
        {
          "name": "stdout",
          "output_type": "stream",
          "text": [
            "Training Loss: 11.0349\n",
            "Training Metrics: {'start_accuracy': 0.052613065326633165, 'start_precision': 0.07674816164703524, 'start_recall': 0.052613065326633165, 'start_f1_score': 0.057374491091849424, 'end_accuracy': 0.05633165829145729, 'end_precision': 0.0774764747196129, 'end_recall': 0.05633165829145729, 'end_f1_score': 0.06455023095398423, 'joint_exact_match': 0.024120603015075376, 'span_overlap_f1': 0.039009187863821695}\n"
          ]
        },
        {
          "name": "stderr",
          "output_type": "stream",
          "text": [
            "Evaluating: 100%|██████████| 63/63 [00:03<00:00, 17.67it/s]\n"
          ]
        },
        {
          "name": "stdout",
          "output_type": "stream",
          "text": [
            "Validation Loss: 11.0349\n",
            "Validation Metrics: {'start_accuracy': 0.039778449144008056, 'start_precision': 0.05722282019265688, 'start_recall': 0.039778449144008056, 'start_f1_score': 0.03814216082319086, 'end_accuracy': 0.03423967774420947, 'end_precision': 0.04593052987557673, 'end_recall': 0.03423967774420947, 'end_f1_score': 0.036945435405945186, 'joint_exact_match': 0.01460221550855992, 'span_overlap_f1': 0.03132403341222094}\n",
            "Validation loss did not improve. No improvement for 3 epochs.\n",
            "--------------------------------------------------\n"
          ]
        },
        {
          "name": "stderr",
          "output_type": "stream",
          "text": [
            "Epoch 6/10: 100%|██████████| 622/622 [01:05<00:00,  9.47it/s, loss=11.1]\n"
          ]
        },
        {
          "name": "stdout",
          "output_type": "stream",
          "text": [
            "Epoch 6 Loss: 11.0383\n"
          ]
        },
        {
          "name": "stderr",
          "output_type": "stream",
          "text": [
            "Evaluating: 100%|██████████| 622/622 [00:38<00:00, 16.06it/s]\n"
          ]
        },
        {
          "name": "stdout",
          "output_type": "stream",
          "text": [
            "Training Loss: 11.0349\n",
            "Training Metrics: {'start_accuracy': 0.05150753768844221, 'start_precision': 0.07367917620467457, 'start_recall': 0.05150753768844221, 'start_f1_score': 0.056005343301516575, 'end_accuracy': 0.04758793969849246, 'end_precision': 0.0791950360942711, 'end_recall': 0.04758793969849246, 'end_f1_score': 0.058761403865325953, 'joint_exact_match': 0.021608040201005024, 'span_overlap_f1': 0.03460735915342874}\n"
          ]
        },
        {
          "name": "stderr",
          "output_type": "stream",
          "text": [
            "Evaluating: 100%|██████████| 63/63 [00:03<00:00, 16.24it/s]\n"
          ]
        },
        {
          "name": "stdout",
          "output_type": "stream",
          "text": [
            "Validation Loss: 11.0349\n",
            "Validation Metrics: {'start_accuracy': 0.03272910372608258, 'start_precision': 0.04338261057719145, 'start_recall': 0.03272910372608258, 'start_f1_score': 0.029311650034506243, 'end_accuracy': 0.02920443101711984, 'end_precision': 0.04733700380985162, 'end_recall': 0.02920443101711984, 'end_f1_score': 0.03438144742290269, 'joint_exact_match': 0.011077542799597181, 'span_overlap_f1': 0.024066299098487797}\n",
            "Validation loss did not improve. No improvement for 4 epochs.\n",
            "--------------------------------------------------\n"
          ]
        },
        {
          "name": "stderr",
          "output_type": "stream",
          "text": [
            "Epoch 7/10: 100%|██████████| 622/622 [01:04<00:00,  9.59it/s, loss=11.1]\n"
          ]
        },
        {
          "name": "stdout",
          "output_type": "stream",
          "text": [
            "Epoch 7 Loss: 11.0370\n"
          ]
        },
        {
          "name": "stderr",
          "output_type": "stream",
          "text": [
            "Evaluating: 100%|██████████| 622/622 [00:38<00:00, 16.29it/s]\n"
          ]
        },
        {
          "name": "stdout",
          "output_type": "stream",
          "text": [
            "Training Loss: 11.0349\n",
            "Training Metrics: {'start_accuracy': 0.07175879396984924, 'start_precision': 0.08268472146645446, 'start_recall': 0.07175879396984924, 'start_f1_score': 0.074904378687262, 'end_accuracy': 0.04989949748743719, 'end_precision': 0.07856501537045972, 'end_recall': 0.04989949748743719, 'end_f1_score': 0.06031194839457181, 'joint_exact_match': 0.030653266331658293, 'span_overlap_f1': 0.03946282617710031}\n"
          ]
        },
        {
          "name": "stderr",
          "output_type": "stream",
          "text": [
            "Evaluating: 100%|██████████| 63/63 [00:03<00:00, 16.19it/s]"
          ]
        },
        {
          "name": "stdout",
          "output_type": "stream",
          "text": [
            "Validation Loss: 11.0349\n",
            "Validation Metrics: {'start_accuracy': 0.04179254783484391, 'start_precision': 0.04708160051347164, 'start_recall': 0.04179254783484391, 'start_f1_score': 0.03965114775481537, 'end_accuracy': 0.029707955689828803, 'end_precision': 0.049651333573744676, 'end_recall': 0.029707955689828803, 'end_f1_score': 0.034843178006358846, 'joint_exact_match': 0.015609264853977844, 'span_overlap_f1': 0.024464712586470105}\n",
            "Validation loss did not improve. No improvement for 5 epochs.\n",
            "Early stopping triggered.\n",
            "Loaded the best model state.\n"
          ]
        },
        {
          "name": "stderr",
          "output_type": "stream",
          "text": [
            "\n"
          ]
        }
      ],
      "source": [
        "device = torch.device('cuda' if torch.cuda.is_available() else 'cpu')\n",
        "\n",
        "model = model = TransformerQAModel3(\n",
        "    vocab_size=10_000,\n",
        "    d_model=300,\n",
        "    num_layers=4,\n",
        "    num_heads=6,\n",
        "    dim_feedforward=512,\n",
        "    max_question_len=20,\n",
        "    max_context_len=249,\n",
        "    dropout=0.01,\n",
        "    pretrained_embeddings=tokenizer.get_pretrained_embeddings(),\n",
        "    freeze_embeddings=False,\n",
        ")\n",
        "model = model.to(device)\n",
        "\n",
        "# Setup an optimizer (e.g., Adam)\n",
        "optimizer = optim.AdamW(model.parameters(), lr=0.001)\n",
        "criterion = nn.CrossEntropyLoss()\n",
        "\n",
        "train_loss, val_loss = train_qa_context_model_boilerplate(\n",
        "    model=model,\n",
        "    train_dataloader=train_dataloader,\n",
        "    val_dataloader=dev_dataloader,\n",
        "    optimizer=optimizer,\n",
        "    criterion=criterion,\n",
        "    num_epochs=10,\n",
        "    device=device,\n",
        "    inputs = [\"context_question\", \"attention_mask_context_question\"],\n",
        "    evaluate_val_dataset=True,\n",
        ")\n"
      ]
    },
    {
      "cell_type": "code",
      "execution_count": 5,
      "metadata": {},
      "outputs": [
        {
          "data": {
            "image/png": "[encoded data removed]",
            "text/plain": [
              "<Figure size 1000x600 with 1 Axes>"
            ]
          },
          "metadata": {},
          "output_type": "display_data"
        }
      ],
      "source": [
        "# Plotting the training and validation loss\n",
        "plot_loss_curves(train_loss, val_loss)"
      ]
    },
    {
      "cell_type": "markdown",
      "metadata": {},
      "source": [
        "#### Save Model"
      ]
    },
    {
      "cell_type": "code",
      "execution_count": 6,
      "metadata": {
        "id": "rmP6zvJbM3J0"
      },
      "outputs": [],
      "source": [
        "model_path = \"models/glove_qa_context_model_transformer.pkl\""
      ]
    },
    {
      "cell_type": "code",
      "execution_count": 7,
      "metadata": {
        "colab": {
          "base_uri": "https://localhost:8080/"
        },
        "id": "G16tYCuvM3J0",
        "outputId": "e78ea058-7c30-4537-8ff4-8a95ba7c854d"
      },
      "outputs": [
        {
          "name": "stdout",
          "output_type": "stream",
          "text": [
            "Model saved to models/glove_qa_context_model_transformer.pkl\n"
          ]
        }
      ],
      "source": [
        "save_model(model, model_path)"
      ]
    },
    {
      "cell_type": "code",
      "execution_count": 8,
      "metadata": {
        "id": "tcyNyqXiM3J0"
      },
      "outputs": [
        {
          "name": "stdout",
          "output_type": "stream",
          "text": [
            "Model loaded from models/glove_qa_context_model_transformer.pkl\n"
          ]
        }
      ],
      "source": [
        "device = torch.device('cuda' if torch.cuda.is_available() else 'cpu')\n",
        "model = load_model(model_path=model_path)"
      ]
    },
    {
      "cell_type": "markdown",
      "metadata": {},
      "source": [
        "#### Evaluation"
      ]
    },
    {
      "cell_type": "code",
      "execution_count": 9,
      "metadata": {
        "id": "pwnFTqXBM3J1",
        "outputId": "7e94a5ef-ada2-4a58-defc-cd367169a425"
      },
      "outputs": [
        {
          "name": "stderr",
          "output_type": "stream",
          "text": [
            "Evaluating: 100%|██████████| 622/622 [00:41<00:00, 15.11it/s]"
          ]
        },
        {
          "name": "stdout",
          "output_type": "stream",
          "text": [
            "Validation Loss: 5.9620\n",
            "Validation Metrics: {'start_accuracy': 0.2178391959798995, 'start_precision': 0.21670068102358048, 'start_recall': 0.2178391959798995, 'start_f1_score': 0.21465968952873835, 'end_accuracy': 0.22301507537688442, 'end_precision': 0.2255572928019536, 'end_recall': 0.22301507537688442, 'end_f1_score': 0.22082259818246763, 'joint_exact_match': 0.18532663316582915, 'span_overlap_f1': 0.2020579828335672}\n"
          ]
        },
        {
          "name": "stderr",
          "output_type": "stream",
          "text": [
            "\n"
          ]
        },
        {
          "data": {
            "text/plain": [
              "(5.962009769543958,\n",
              " {'start_accuracy': 0.2178391959798995,\n",
              "  'start_precision': 0.21670068102358048,\n",
              "  'start_recall': 0.2178391959798995,\n",
              "  'start_f1_score': 0.21465968952873835,\n",
              "  'end_accuracy': 0.22301507537688442,\n",
              "  'end_precision': 0.2255572928019536,\n",
              "  'end_recall': 0.22301507537688442,\n",
              "  'end_f1_score': 0.22082259818246763,\n",
              "  'joint_exact_match': 0.18532663316582915,\n",
              "  'span_overlap_f1': 0.2020579828335672})"
            ]
          },
          "execution_count": 9,
          "metadata": {},
          "output_type": "execute_result"
        }
      ],
      "source": [
        "# evaluate the model on the dev set\n",
        "criterion = nn.CrossEntropyLoss()\n",
        "device = 'cuda' if torch.cuda.is_available() else 'cpu'\n",
        "evaluate_qa_context_model_boilerplate(model=model, dataloader=train_dataloader, criterion=criterion, device=device, inputs = [\"context_question\", \"attention_mask_context_question\"])"
      ]
    },
    {
      "cell_type": "code",
      "execution_count": 10,
      "metadata": {
        "id": "0KINMB6LM3J1",
        "outputId": "a7a6a107-1d16-4dc7-897e-191e9c174461"
      },
      "outputs": [
        {
          "name": "stderr",
          "output_type": "stream",
          "text": [
            "Evaluating: 100%|██████████| 63/63 [00:04<00:00, 15.72it/s]"
          ]
        },
        {
          "name": "stdout",
          "output_type": "stream",
          "text": [
            "Validation Loss: 8.2372\n",
            "Validation Metrics: {'start_accuracy': 0.09113796576032225, 'start_precision': 0.10163873236996188, 'start_recall': 0.09113796576032225, 'start_f1_score': 0.08935587704322452, 'end_accuracy': 0.09969788519637462, 'end_precision': 0.10925037240112463, 'end_recall': 0.09969788519637462, 'end_f1_score': 0.09721856237636166, 'joint_exact_match': 0.07099697885196375, 'span_overlap_f1': 0.08864529047385149}\n"
          ]
        },
        {
          "name": "stderr",
          "output_type": "stream",
          "text": [
            "\n"
          ]
        },
        {
          "data": {
            "text/plain": [
              "(8.237185591743106,\n",
              " {'start_accuracy': 0.09113796576032225,\n",
              "  'start_precision': 0.10163873236996188,\n",
              "  'start_recall': 0.09113796576032225,\n",
              "  'start_f1_score': 0.08935587704322452,\n",
              "  'end_accuracy': 0.09969788519637462,\n",
              "  'end_precision': 0.10925037240112463,\n",
              "  'end_recall': 0.09969788519637462,\n",
              "  'end_f1_score': 0.09721856237636166,\n",
              "  'joint_exact_match': 0.07099697885196375,\n",
              "  'span_overlap_f1': 0.08864529047385149})"
            ]
          },
          "execution_count": 10,
          "metadata": {},
          "output_type": "execute_result"
        }
      ],
      "source": [
        "# evaluate the model on the dev set\n",
        "criterion = nn.CrossEntropyLoss()\n",
        "evaluate_qa_context_model_boilerplate(model=model, dataloader=dev_dataloader, criterion=criterion, device=device, inputs = [\"context_question\", \"attention_mask_context_question\"])"
      ]
    },
    {
      "cell_type": "markdown",
      "metadata": {},
      "source": [
        "##### Evaluate predictions on test set"
      ]
    },
    {
      "cell_type": "code",
      "execution_count": 14,
      "metadata": {
        "id": "OxgMim37M3J1",
        "outputId": "107f8052-6a96-4742-88de-19ef0b781b94"
      },
      "outputs": [
        {
          "name": "stderr",
          "output_type": "stream",
          "text": [
            "Predicting: 100%|██████████| 63/63 [00:03<00:00, 15.75it/s]\n"
          ]
        }
      ],
      "source": [
        "preds, true_labels, contexts, questions = predict_qa_context_model_boilerplate(model=model, dataloader=dev_dataloader, tokenizer=tokenizer, device=device, inputs = [\"context_question\", \"attention_mask_context_question\"])"
      ]
    },
    {
      "cell_type": "code",
      "execution_count": 15,
      "metadata": {
        "id": "4tpz8QPkM3J2",
        "outputId": "35d18808-40e2-456e-8080-370dff9f68d0"
      },
      "outputs": [
        {
          "name": "stdout",
          "output_type": "stream",
          "text": [
            "Question: how many khitan tumens were there ?\n",
            "Context: many han chinese and khitan defected to mongols to fight against jin . two han chinese leaders , shi , liu ( , liu ni ) , and khitan xiao ( ) defected and commanded 3 tumens in mongol army . liu and shi served khan . liu and shi tianxiang led armies against western xia for mongols . there were 4 han tumens and 3 khitan tumens , with each tumen consisting of 10 , 000 troops . three khitan generals ( ) , ( ) and ( ) commanded three khitan tumens and four han generals zhang rou , yan shi , shi , and liu commanded four han tumens under khan .\n",
            "Predicted Answer: \n",
            "True Answer: 3\n",
            "--------------------------------------------------\n",
            "Question: what is atomic number of element oxygen ?\n",
            "Context: oxygen is a chemical element with symbol o and atomic number 8 . it is a member of group on periodic table and is a highly reactive nonmetal and oxidizing agent that readily forms compounds ( notably oxides ) with most elements . by mass , oxygen is third-most abundant element in universe , after hydrogen and helium . at standard temperature and pressure , two atoms of element bind to form dioxygen , a colorless and odorless diatomic gas with formula o 2 . diatomic oxygen gas constitutes 20 . of earth ' s atmosphere . however , monitoring of atmospheric oxygen levels show a global downward trend , because of fossil-fuel burning . oxygen is most abundant element by mass in earth ' s crust as part of oxide compounds such as silicon dioxide , making up almost half of crust ' s mass .\n",
            "Predicted Answer: half\n",
            "True Answer: 8\n",
            "--------------------------------------------------\n",
            "Question: atomic number of periodic table for oxygen ?\n",
            "Context: oxygen is a chemical element with symbol o and atomic number 8 . it is a member of group on periodic table and is a highly reactive nonmetal and oxidizing agent that readily forms compounds ( notably oxides ) with most elements . by mass , oxygen is third-most abundant element in universe , after hydrogen and helium . at standard temperature and pressure , two atoms of element bind to form dioxygen , a colorless and odorless diatomic gas with formula o 2 . diatomic oxygen gas constitutes 20 . of earth ' s atmosphere . however , monitoring of atmospheric oxygen levels show a global downward trend , because of fossil-fuel burning . oxygen is most abundant element by mass in earth ' s crust as part of oxide compounds such as silicon dioxide , making up almost half of crust ' s mass .\n",
            "Predicted Answer: half\n",
            "True Answer: 8\n",
            "--------------------------------------------------\n",
            "Question: how many campuses does university of california have ?\n",
            "Context: tech coast is a moniker that has gained use as a descriptor for region ' s diversified technology and industrial base as well as its multitude of prestigious and world-renowned research universities and other public and private institutions . amongst these include 5 university of california campuses ( irvine , los angeles , riverside , santa barbara , and san diego ) 12 california state university campuses ( bakersfield , channel islands , dominguez hills , fullerton , los angeles , long beach , northridge , pomona , san bernardino , san diego , san marcos , and san luis obispo ) and private institutions such as california institute of technology , chapman university , claremont colleges ( claremont mckenna college , harvey mudd college , pitzer college , pomona college , and scripps college ) , loma linda university , loyola marymount university , occidental college , pepperdine university , university of redlands , university of san diego , and university of southern california .\n",
            "Predicted Answer: descriptor\n",
            "True Answer: 5\n",
            "--------------------------------------------------\n",
            "Question: how many cylinders does ab engine have ?\n",
            "Context: although reciprocating steam engine is no longer in widespread commercial use , various companies are exploring or exploiting potential of engine as an alternative to internal combustion engines . company ab in sweden has made progress in using modern materials for harnessing power of steam . efficiency of ' s steam engine reaches some on high-pressure engines . it is a single-step , 5-cylinder engine ( no compound ) with superheated steam and consumes approx . 4 kg ( 8 . 8 lb ) of steam per kwh . in citation\n",
            "Predicted Answer: high-pressure\n",
            "True Answer: 5\n",
            "--------------------------------------------------\n",
            "Question: what number did early greeks not regard as a true number ?\n",
            "Context: most early greeks did not even consider 1 to be a number , so they could not consider it to be a prime . by middle ages and renaissance many mathematicians included 1 as first prime number . in mid-18th century christian goldbach listed 1 as first prime in his famous correspondence with leonhard euler -- who did not agree . in 19th century many mathematicians still considered number 1 to be a prime . for example , derrick norman lehmer ' s list of primes up to 10 , 006 , 721 , reprinted as late as 1956 , started with 1 as its first prime . henri lebesgue is said to be last professional mathematician to call 1 prime . by early 20th century , mathematicians began to accept that 1 is not a prime number , but rather forms its own special category as a unit .\n",
            "Predicted Answer: 1956\n",
            "True Answer: 1\n",
            "--------------------------------------------------\n",
            "Question: any even number larger than what cannot be considered prime ?\n",
            "Context: hence , 6 is not prime . image at right illustrates that 12 is not prime 12 = 3 · 4 . no even number greater than 2 is prime because by definition , any such number n has at least three distinct divisors , namely 1 , 2 , and n . this implies that n is not prime . accordingly , term odd prime refers to any prime number greater than 2 . similarly , when written in usual decimal system , all prime numbers larger than 5 end in 1 , 3 , 7 , or 9 , since even numbers are multiples of 2 and numbers ending in 0 or 5 are multiples of 5 .\n",
            "Predicted Answer: 2 is prime because by definition , any such number n has at least three distinct divisors\n",
            "True Answer: 2\n",
            "--------------------------------------------------\n",
            "Question: what article of grundgesetz grants right to make private schools ?\n",
            "Context: right to create private schools in germany is in article 7 , paragraph 4 of grundgesetz and cannot be suspended even in a state of emergency . it is also not possible to abolish these rights . this unusual protection of private schools was implemented to protect these schools from a second gleichschaltung or similar event in future . still , they are less common than in many other countries . overall , between 1992 and 2008 percent of pupils in such schools in germany increased from 6 . to 7 . ( including rise from 0 . to 6 . in former gdr ) . percent of students in private high schools reached 11 . .\n",
            "Predicted Answer: 1992\n",
            "True Answer: 7\n",
            "--------------------------------------------------\n",
            "Question: besides 1 , 3 and 7 , what other number must all primes greater than 5 end with ?\n",
            "Context: hence , 6 is not prime . image at right illustrates that 12 is not prime 12 = 3 · 4 . no even number greater than 2 is prime because by definition , any such number n has at least three distinct divisors , namely 1 , 2 , and n . this implies that n is not prime . accordingly , term odd prime refers to any prime number greater than 2 . similarly , when written in usual decimal system , all prime numbers larger than 5 end in 1 , 3 , 7 , or 9 , since even numbers are multiples of 2 and numbers ending in 0 or 5 are multiples of 5 .\n",
            "Predicted Answer: 2 is prime because by definition , any such number n has at least three distinct divisors\n",
            "True Answer: 9\n",
            "--------------------------------------------------\n",
            "Question: what variable is associated with all problems solved within logarithmic space ?\n",
            "Context: similarly , it is not known if l ( set of all problems that can be solved in logarithmic space ) is strictly contained in p or equal to p . again , there are many complexity classes between two , such as nl and nc , and it is not known if they are distinct or equal classes .\n",
            "Predicted Answer: logarithmic\n",
            "True Answer: l\n",
            "--------------------------------------------------\n",
            "Question: what percentage of british children are educated at level in fee-paying schools ?\n",
            "Context: private schools generally prefer to be called independent schools , because of their freedom to operate outside of government and local government control . some of these are also known as public schools . preparatory schools in uk prepare pupils aged up to 13 years old to enter public schools . name public school is based on fact that schools were open to pupils from anywhere , and not merely to those from a certain locality , and of any religion or occupation . according to good schools guide approximately 9 per cent of children being educated in uk are doing so at fee-paying schools at level and 13 per cent at a-level . many independent schools are single-sex ( though this is becoming less common ) . fees range from under , 000 to , 000 and above per year for day pupils , rising to , per year for boarders . for details in scotland , see meeting cost .\n",
            "Predicted Answer: fee-paying schools at level and 13 per cent at a-level . many independent schools are single-sex ( though this is becoming less common ) . fees range from under , 000 to , 000\n",
            "True Answer: 9\n",
            "--------------------------------------------------\n",
            "Question: what complexity class is characterized by a computational tasks and efficient algorithms ?\n",
            "Context: complexity class p is often seen as a mathematical abstraction modeling those computational tasks that admit an efficient algorithm . this hypothesis is called thesis . complexity class np , on other hand , contains many problems that people would like to solve efficiently , but for which no efficient algorithm is known , such as boolean satisfiability problem , hamiltonian path problem and vertex cover problem . since deterministic turing machines are special non-deterministic turing machines , it is easily observed that each problem in p is also member of class np .\n",
            "Predicted Answer: satisfiability\n",
            "True Answer: p\n",
            "--------------------------------------------------\n",
            "Question: how many members in seats of scottish parliament are members of scottish government ?\n",
            "Context: debating chamber of scottish parliament has seating arranged in a hemicycle , which reflects desire to encourage consensus amongst elected members . there are 131 seats in debating chamber . of total 131 seats , 129 are occupied by parliament ' s elected msps and 2 are seats for scottish law officers – lord advocate and solicitor general for scotland , who are not elected members of parliament but are members of scottish government . as such law officers may attend and speak in plenary meetings of parliament but , as they are not elected msps , cannot vote . members are able to sit anywhere in debating chamber , but typically sit in their party groupings . first minister , scottish cabinet ministers and law officers sit in front row , in middle section of chamber . largest party in parliament sits in middle of semicircle , with opposing parties on either side . presiding officer , parliamentary clerks and officials sit opposite members at front of debating chamber .\n",
            "Predicted Answer: 131\n",
            "True Answer: 2\n",
            "--------------------------------------------------\n",
            "Question: how many vector equations did heaviside and gibbs maxwell ' s 20 scalar into ?\n",
            "Context: origin of electric and magnetic fields would not be fully explained until 1864 when james clerk maxwell unified a number of earlier theories into a set of 20 scalar equations , which were later reformulated into 4 vector equations by oliver heaviside and josiah willard gibbs . these maxwell equations fully described sources of fields as being stationary and moving charges , and interactions of fields themselves . this led maxwell to discover that electric and magnetic fields could be through a wave that traveled at a speed that he calculated to be speed of light . this insight united nascent fields of electromagnetic theory with optics and led directly to a complete description of electromagnetic spectrum .\n",
            "Predicted Answer: 20 scalar equations , which were later reformulated into 4 vector equations by oliver heaviside\n",
            "True Answer: 4\n",
            "--------------------------------------------------\n",
            "Question: integer factorization problem essentially seeks to determine if value of of an input is less than what\n",
            "Context: integer factorization problem is computational problem of determining prime factorization of a given integer . phrased as a decision problem , it is problem of deciding whether input has a factor less than k . no efficient integer factorization algorithm is known , and this fact forms basis of several modern cryptographic systems , such as rsa algorithm . integer factorization problem is in np and in co-np ( and even in up and ) . if problem is np-complete , polynomial time hierarchy will collapse to its first level ( i . e . , np will equal co-np ) . best known algorithm for integer factorization is general number field sieve , which takes time o ( e ( ) 1/3 ( n . log 2 ) 1/3 ( log ( n . log 2 ) ) 2/3 ) to factor an integer . however , best known quantum algorithm for this problem , shor ' s algorithm , does run in polynomial time . unfortunately , this fact doesn ' t say much about where problem lies with respect to complexity classes .\n",
            "Predicted Answer: sieve\n",
            "True Answer: k\n",
            "--------------------------------------------------\n",
            "Question: how many museums are in warsaw ?\n",
            "Context: as interesting examples of expositions most notable are world ' s first museum of posters boasting one of largest collections of art posters in world , museum of hunting and riding and railway museum . from among warsaw ' s 60 museums , most prestigious ones are national museum with a collection of works whose origin ranges in time from antiquity till present epoch as well as one of best collections of paintings in country including some paintings from adolf hitler ' s private collection , and museum of polish army whose set portrays history of arms .\n",
            "Predicted Answer: hunting\n",
            "True Answer: 60\n",
            "--------------------------------------------------\n",
            "Question: what light radiation does ozone absorb ?\n",
            "Context: ( o 3 ) is usually known as ozone and is a very reactive allotrope of oxygen that is damaging to lung tissue . ozone is produced in upper atmosphere when o 2 combines with atomic oxygen made by splitting of o 2 by ultraviolet ( uv ) radiation . since ozone absorbs strongly in uv region of spectrum , ozone layer of upper atmosphere functions as a protective radiation shield for planet . near earth ' s surface , it is a pollutant formed as a by-product of automobile exhaust . metastable molecule ( o 4 ) was discovered in 2001 , and was assumed to exist in one of six phases of solid oxygen . it was proven in 2006 that this phase , created by pressurizing o 2 to 20 gpa , is in fact a rhombohedral o 8 cluster . this cluster has potential to be a much more powerful oxidizer than either o 2 or o 3 and may therefore be used in rocket fuel . a metallic phase was discovered in 1990 when solid oxygen is subjected to a pressure of above 96 gpa and it was shown in 1998 that at very low temperatures , this phase becomes superconducting .\n",
            "Predicted Answer: \n",
            "True Answer: uv\n",
            "--------------------------------------------------\n",
            "Question: what is number of constituency msps ?\n",
            "Context: of 129 msps , 73 are elected to represent first past post constituencies and are known as constituency msps . voters choose one member to represent constituency , and member with most votes is returned as a constituency msp . 73 scottish parliament constituencies shared same boundaries as uk parliament constituencies in scotland , prior to 2005 reduction in number of scottish mps , with exception of orkney and shetland which each return their own constituency msp . currently , average scottish parliament constituency comprises 55 , 000 electors . given geographical distribution of population in scotland , this results in constituencies of a smaller area in central lowlands , where bulk of scotland ' s population live , and much larger constituency areas in north and west of country , which have a low population density . island archipelagos of orkney , shetland and western isles comprise a much smaller number of electors , due to their dispersed population and distance from scottish parliament in edinburgh . if a constituency msp resigns from parliament , this triggers a by-election in his or her constituency , where a replacement msp is returned from one of parties by plurality system .\n",
            "Predicted Answer: 73 are elected to represent first past post constituencies and are known as constituency msps . voters choose one member to represent constituency , and member with most votes is returned as a constituency msp . 73 scottish parliament constituencies shared same boundaries as uk parliament constituencies in scotland , prior to 2005 reduction in number of scottish mps , with exception of orkney and shetland which each return their own constituency msp . currently , average scottish parliament constituency comprises 55 , 000\n",
            "True Answer: 73\n",
            "--------------------------------------------------\n",
            "Question: how many natural reserves are in warsaw ?\n",
            "Context: there are 13 natural reserves in warsaw – among others , bielany forest , woods , czerniaków lake . about 15 kilometres ( 9 miles ) from warsaw , vistula river ' s environment changes strikingly and features a perfectly preserved ecosystem , with a habitat of animals that includes otter , beaver and hundreds of bird species . there are also several lakes in warsaw – mainly oxbow lakes , like czerniaków lake , lakes in or wilanów parks , lake . there are lot of small lakes in parks , but only a few are permanent – majority are emptied before winter to clean them of plants and sediments .\n",
            "Predicted Answer: otter\n",
            "True Answer: 13\n",
            "--------------------------------------------------\n",
            "Question: how many total judges are there in eu ?\n",
            "Context: judicial branch of eu has played an important role in development of eu law , by assuming task of interpreting treaties , and accelerating economic and political integration . today court of justice of european union ( ) is main judicial body , within which there is a higher european court of justice ( commonly abbreviated as ecj ) that deals with cases that contain more public importance , and a general court that deals with issues of detail but without general importance . there is also a civil service tribunal to deal with eu staff issues , and then a separate court of auditors . under treaty on european union article 19 ( 2 ) there is one judge from each member state , 28 at present , who are supposed to possess qualifications required for appointment to highest judicial offices ( or for general court , ability required for appointment to high judicial office ) . a president is elected by judges for three years . under teu article 19 ( 3 ) is to be ultimate court to interpret questions of eu law . in fact , most eu law is applied by member state courts ( english court of appeal , german bundesgerichtshof , belgian cour du travail , etc . ) but they can refer questions to eu court for a preliminary ruling\n",
            "Predicted Answer: teu\n",
            "True Answer: 28\n",
            "--------------------------------------------------\n",
            "Question: how many examination boards exist in india ?\n",
            "Context: in india , private schools are called independent schools , but since some private schools receive financial aid from government , it can be an aided or an unaided school . so , in a strict sense , a private school is an unaided independent school . for purpose of this definition , only receipt of financial aid is considered , not land purchased from government at a subsidized rate . it is within power of both union government and state governments to govern schools since education appears in concurrent list of legislative subjects in constitution . practice has been for union government to provide broad policy directions while states create their own rules and regulations for administration of sector . among other things , this has also resulted in 30 different examination boards or academic authorities that conduct examinations for school leaving certificates . prominent examination boards that are present in multiple states are cbse and cisce ,\n",
            "Predicted Answer: 30\n",
            "True Answer: 30\n",
            "--------------------------------------------------\n",
            "Question: what is scientific designation of oxygen ?\n",
            "Context: common allotrope of elemental oxygen on earth is called dioxygen , o 2 . it is form that is a major part of earth ' s atmosphere ( see occurrence ) . o2 has a bond length of 121 pm and a bond energy of 498 , which is smaller than energy of other double bonds or pairs of single bonds in biosphere and responsible for exothermic reaction of o2 with any organic molecule . due to its energy content , o2 is used by complex forms of life , such as animals , in cellular respiration ( see biological role ) . other aspects of o 2 are covered in remainder of this article .\n",
            "Predicted Answer: 121\n",
            "True Answer: o2\n",
            "--------------------------------------------------\n",
            "Question: what was dalton ' s erroneous formula for water ?\n",
            "Context: john dalton ' s original atomic hypothesis assumed that all elements were monatomic and that atoms in compounds would normally have simplest atomic ratios with respect to one another . for example , dalton assumed that water ' s formula was ho , giving atomic mass of oxygen as 8 times that of hydrogen , instead of modern value of about 16 . in 1805 , joseph louis gay-lussac and alexander von humboldt showed that water is formed of two volumes of hydrogen and one volume of oxygen and by 1811 amedeo avogadro had arrived at correct interpretation of water ' s composition , based on what is now called avogadro ' s law and assumption of diatomic elemental molecules .\n",
            "Predicted Answer: 16\n",
            "True Answer: ho\n",
            "--------------------------------------------------\n",
            "Question: which country is a traditional ally of israel ?\n",
            "Context: embargo was not uniform across europe . of nine members of european economic community ( eec ) , netherlands faced a complete embargo , uk and france received almost uninterrupted supplies ( having refused to allow america to use their airfields and embargoed arms and supplies to both arabs and israelis ) , while other six faced partial cutbacks . uk had traditionally been an ally of israel , and harold wilson ' s government supported israelis during six-day war . his successor , ted heath , reversed this policy in 1970 , calling for israel to withdraw to its pre-1967 borders .\n",
            "Predicted Answer: six\n",
            "True Answer: uk\n",
            "--------------------------------------------------\n",
            "Question: which country is not badly hit by embargo ?\n",
            "Context: despite being relatively unaffected by embargo , uk nonetheless faced an oil crisis of its own - a series of strikes by coal miners and railroad workers over winter of became a major factor in change of government . heath asked british to heat only one room in their houses over winter . uk , germany , italy , switzerland and norway banned flying , driving and boating on sundays . sweden rationed gasoline and heating oil . netherlands imposed prison sentences for those who used more than their ration of electricity .\n",
            "Predicted Answer: sundays\n",
            "True Answer: uk\n",
            "--------------------------------------------------\n",
            "Question: how many members are on warsaw city ?\n",
            "Context: legislative power in warsaw is vested in a unicameral warsaw city council ( rada ) , which comprises 60 members . council members are elected directly every four years . like most legislative bodies , city council divides itself into committees which have oversight of various functions of city government . bills passed by a simple majority are sent to mayor ( president of warsaw ) , who may sign them into law . if mayor vetoes a bill , council has 30 days to override veto by a two-thirds majority vote .\n",
            "Predicted Answer: four\n",
            "True Answer: 60\n",
            "--------------------------------------------------\n",
            "Question: how many seats does victoria have in senate ?\n",
            "Context: politically , victoria has 37 seats in australian house of representatives and 12 seats in australian senate . at state level , parliament of victoria consists of legislative assembly ( lower house ) and legislative council ( upper house ) . victoria is currently governed by labor party , with daniel andrews current premier . personal representative of queen of australia in state is governor of victoria , currently linda dessau . local government is concentrated in 79 municipal districts , including 33 cities , although a number of unincorporated areas still exist , which are administered directly by state .\n",
            "Predicted Answer: 37\n",
            "True Answer: 12\n",
            "--------------------------------------------------\n",
            "Question: how old was temur when he became emperor ?\n",
            "Context: after death of tugh temür in 1332 and subsequent death of ( emperor ) same year , 13-year-old temür ( emperor huizong ) , last of nine successors of kublai khan , was summoned back from guangxi and succeeded to throne . after el temür ' s death , bayan became as powerful an official as el temür had been in beginning of his long reign . as temür grew , he came to disapprove of bayan ' s autocratic rule . in 1340 he allied himself with bayan ' s nephew ' a , who was in discord with bayan , and banished bayan by coup . with dismissal of bayan , seized power of court . his first administration clearly exhibited fresh new spirit . he also gave a few early signs of a new and positive direction in central government . one of his successful projects was to finish official histories of liao , jin , and song dynasties , which were eventually completed in 1345 . yet , resigned his office with approval of temür , marking end of his first administration , and he was not called back until 1349 .\n",
            "Predicted Answer: 1332\n",
            "True Answer: 13\n",
            "--------------------------------------------------\n",
            "Question: what is weight of a bushel of coal in pounds ?\n",
            "Context: historical measure of a steam engine ' s energy efficiency was its duty . concept of duty was first introduced by watt in order to illustrate how much more efficient his engines were over earlier newcomen designs . duty is number of of work delivered by burning one bushel ( 94 pounds ) of coal . best examples of newcomen designs had a duty of about 7 million , but most were closer to 5 million . watt ' s original low-pressure designs were able to deliver duty as high as 25 million , but averaged about 17 . this was a three-fold improvement over average newcomen design . early watt engines equipped with high-pressure steam improved this to 65 million .\n",
            "Predicted Answer: 94\n",
            "True Answer: 94\n",
            "--------------------------------------------------\n",
            "Question: how many are there in united states ?\n",
            "Context: and 10-county definitions are not used for greater southern california , one of 11 of united states . ' s area is more expansive , extending east into las vegas , nevada , and south across mexican border into tijuana .\n",
            "Predicted Answer: 11\n",
            "True Answer: 11\n",
            "--------------------------------------------------\n",
            "Question: can bskyb veto presence of channels on their epg ?\n",
            "Context: bskyb has no veto over presence of channels on their epg , with open access being an enforced part of their operating licence from ofcom . any channel which can get carriage on a suitable beam of a satellite at east is entitled to access to bskyb ' s epg for a fee , ranging from , 000 . third-party channels which opt for encryption receive discounts ranging from reduced price to free epg entries , free carriage on a bskyb leased transponder , or actual payment for being carried . however , even in this case , bskyb does not carry any control over channel ' s content or carriage issues such as picture quality .\n",
            "Predicted Answer: ofcom . any channel which can get carriage on a suitable beam of a satellite at east is entitled to access to bskyb ' s epg for a fee , ranging from , 000\n",
            "True Answer: no\n",
            "--------------------------------------------------\n",
            "Question: how many rooms does warsaw historical museum have ?\n",
            "Context: a fine tribute to fall of warsaw and history of poland can be found in warsaw uprising museum and in katyń museum which preserves memory of crime . warsaw uprising museum also operates a rare preserved and operating historic stereoscopic theatre , warsaw . museum of independence preserves patriotic and political objects connected with poland ' s struggles for independence . dating back to 1936 warsaw historical museum contains 60 rooms which host a permanent exhibition of history of warsaw from its origins until today .\n",
            "Predicted Answer: 1936\n",
            "True Answer: 60\n",
            "--------------------------------------------------\n",
            "Question: how much capital did uk law require to start a company ?\n",
            "Context: in regard to companies , court of justice held in r ( daily mail and general trust plc ) v hm treasury that member states could restrict a company moving its seat of business , without infringing tfeu article 49 . this meant daily mail newspaper ' s parent company could not evade tax by shifting its residence to netherlands without first settling its tax bills in uk . uk did not need to justify its action , as rules on company seats were not yet harmonised . by contrast , in centros ltd v court of justice found that a uk limited company operating in denmark could not be required to comply with denmark ' s minimum share capital rules . uk law only required of capital to start a company , while denmark ' s legislature took view companies should only be started up if they had 200 , 000 danish krone ( around , 000 ) to protect creditors if company failed and went insolvent . court of justice held that denmark ' s minimum capital law infringed centros ltd ' s freedom of establishment and could not be justified , because a company in uk could admittedly provide services in denmark without being established there , and there were less restrictive means of achieving aim of creditor protection . this approach was criticised as potentially opening eu to\n",
            "Predicted Answer: 200 , 000 danish krone ( around , 000\n",
            "True Answer: \n",
            "--------------------------------------------------\n",
            "Question: how many have occurred in past 6000 yeas ?\n",
            "Context: since yr bp ( = years before present ) , human impact is seen in delta . as a result of increasing land clearance ( bronze age agriculture ) , in upland areas ( central germany ) , sediment load of rhine has strongly increased and delta growth has sped up . this caused increased flooding and sedimentation , ending peat formation in delta . shifting of river channels to new locations , on floodplain ( termed avulsion ) , was main process distributing sediment across delta . over past 6000 years , approximately 80 have occurred . direct human impact in delta started with peat mining , for salt and fuel , from roman times onward . this was followed by embankment , of major distributaries and damming of minor distributaries , which took place in century ad . thereafter , canals were dug , bends were short cut and groynes were built , to prevent river ' s channels from migrating or silting up .\n",
            "Predicted Answer: yr\n",
            "True Answer: 80\n",
            "--------------------------------------------------\n",
            "Question: what is high end of temperature range in winter ?\n",
            "Context: southern california contains a mediterranean climate , with infrequent rain and many sunny days . summers are hot and dry , while winters are a bit warm or mild and wet . serious rain can occur unusually . in summers , temperature ranges are ' s while as winters are ' s , usually all of southern california have mediterranean climate . but snow is very rare in southwest of state , it occurs on southeast of state .\n",
            "Predicted Answer: rare\n",
            "True Answer: 70\n",
            "--------------------------------------------------\n",
            "Question: what was average duty of a low-pressure watt engine ?\n",
            "Context: historical measure of a steam engine ' s energy efficiency was its duty . concept of duty was first introduced by watt in order to illustrate how much more efficient his engines were over earlier newcomen designs . duty is number of of work delivered by burning one bushel ( 94 pounds ) of coal . best examples of newcomen designs had a duty of about 7 million , but most were closer to 5 million . watt ' s original low-pressure designs were able to deliver duty as high as 25 million , but averaged about 17 . this was a three-fold improvement over average newcomen design . early watt engines equipped with high-pressure steam improved this to 65 million .\n",
            "Predicted Answer: 94\n",
            "True Answer: 17\n",
            "--------------------------------------------------\n",
            "Question: how many city officials were indicted due to corruption ?\n",
            "Context: in mid-1960s , corruption scandals began to arise among many of city ' s officials , who were mainly elected through traditional old boy network . after a grand jury was convened to investigate , 11 officials were indicted and more were forced to resign . jacksonville consolidation , led by j . j . daniel and claude yates , began to win more support during this period , from both inner city blacks , who wanted more involvement in government , and whites in suburbs , who wanted more services and more control over central city . in 1964 all 15 of duval county ' s public high schools lost their accreditation . this added momentum to proposals for government reform . lower taxes , increased economic development , unification of community , better public spending and effective administration by a more central authority were all cited as reasons for a new consolidated government .\n",
            "Predicted Answer: 1964\n",
            "True Answer: 11\n",
            "--------------------------------------------------\n",
            "Question: how many medieval warm period reconstructions were used ?\n",
            "Context: ipcc fourth assessment report ( ar4 ) published in 2007 featured a graph showing 12 proxy based temperature reconstructions , including three highlighted in 2001 third assessment report ( tar ) mann , bradley & hughes 1999 as before , jones et al . 1998 and briffa 2000 had both been calibrated by newer studies . in addition , analysis of medieval warm period cited reconstructions by crowley & lowery 2000 ( as cited in tar ) and osborn & briffa 2006 . ten of these 14 reconstructions covered 1 , 000 years or longer . most reconstructions shared some data series , particularly tree ring data , but newer reconstructions used additional data and covered a wider area , using a variety of statistical methods . section discussed divergence problem affecting certain tree ring data .\n",
            "Predicted Answer: 1999 as before , jones et al . 1998 and briffa 2000 had both been calibrated by newer studies . in addition , analysis of medieval warm period cited reconstructions by crowley & lowery 2000 ( as cited in tar ) and osborn & briffa 2006 . ten of these 14 reconstructions covered 1 , 000\n",
            "True Answer: 14\n",
            "--------------------------------------------------\n",
            "Question: what type of electric current is needed for electrolysis ?\n",
            "Context: oxygen gas can also be produced through electrolysis of water into molecular oxygen and hydrogen . dc electricity must be used if ac is used , gases in each limb consist of hydrogen and oxygen in explosive ratio 2 1 . contrary to popular belief , 2 1 ratio observed in dc electrolysis of acidified water does not prove that empirical formula of water is h2o unless certain assumptions are made about molecular formulae of hydrogen and oxygen themselves . a similar method is o 2 evolution from oxides and . chemical catalysts can be used as well , such as in chemical oxygen generators or oxygen candles that are used as part of life-support equipment on submarines , and are still part of standard equipment on commercial airliners in case of depressurization emergencies . another air separation technology involves forcing air to dissolve through ceramic membranes based on zirconium dioxide by either high pressure or an electric current , to produce nearly pure o 2 gas .\n",
            "Predicted Answer: catalysts\n",
            "True Answer: dc\n",
            "--------------------------------------------------\n",
            "Question: what percentage of france ' s population is protestant today ?\n",
            "Context: approximately one million protestants in modern france represent some of its population . most are concentrated in alsace in northeast france and cévennes mountain region in south , who still regard themselves as huguenots to this day . a diaspora of french australians still considers itself huguenot , even after centuries of exile . long integrated into australian society , it is encouraged by huguenot society of australia to embrace and conserve its cultural heritage , aided by society ' s genealogical research services .\n",
            "Predicted Answer: cévennes\n",
            "True Answer: \n",
            "--------------------------------------------------\n",
            "Question: how many campuses does california state university have ?\n",
            "Context: tech coast is a moniker that has gained use as a descriptor for region ' s diversified technology and industrial base as well as its multitude of prestigious and world-renowned research universities and other public and private institutions . amongst these include 5 university of california campuses ( irvine , los angeles , riverside , santa barbara , and san diego ) 12 california state university campuses ( bakersfield , channel islands , dominguez hills , fullerton , los angeles , long beach , northridge , pomona , san bernardino , san diego , san marcos , and san luis obispo ) and private institutions such as california institute of technology , chapman university , claremont colleges ( claremont mckenna college , harvey mudd college , pitzer college , pomona college , and scripps college ) , loma linda university , loyola marymount university , occidental college , pepperdine university , university of redlands , university of san diego , and university of southern california .\n",
            "Predicted Answer: descriptor\n",
            "True Answer: 12\n",
            "--------------------------------------------------\n",
            "Question: how many general principles does social charter declare ?\n",
            "Context: social chapter is a chapter of 1997 treaty of amsterdam covering social policy issues in european union law . basis for social chapter was developed in 1989 by social partners representatives , namely unice , employers ' confederation , european trade union confederation ( etuc ) and , european centre of public enterprises . a toned down version was adopted as social charter at 1989 strasbourg european council . social charter declares 30 general principles , including on fair remuneration of employment , health and safety at work , rights of disabled and elderly , rights of workers , on vocational training and improvements of living conditions . social charter became basis for european community legislation on these issues in 40 pieces of legislation .\n",
            "Predicted Answer: 30\n",
            "True Answer: 30\n",
            "--------------------------------------------------\n",
            "Question: how many academic majors does university grant in total ?\n",
            "Context: college of university of chicago grants bachelor of arts and bachelor of science degrees in 50 academic majors and 28 minors . college ' s academics are divided into five divisions biological sciences collegiate division , physical sciences collegiate division , social sciences collegiate division , humanities collegiate division , and new collegiate division . first four are sections within their corresponding graduate divisions , while new collegiate division administers interdisciplinary majors and studies which do not fit in one of other four divisions .\n",
            "Predicted Answer: four\n",
            "True Answer: 50\n",
            "--------------------------------------------------\n",
            "Question: how many academic minors does university grant in total ?\n",
            "Context: college of university of chicago grants bachelor of arts and bachelor of science degrees in 50 academic majors and 28 minors . college ' s academics are divided into five divisions biological sciences collegiate division , physical sciences collegiate division , social sciences collegiate division , humanities collegiate division , and new collegiate division . first four are sections within their corresponding graduate divisions , while new collegiate division administers interdisciplinary majors and studies which do not fit in one of other four divisions .\n",
            "Predicted Answer: four\n",
            "True Answer: 28\n",
            "--------------------------------------------------\n",
            "Question: how many people belong to university ' s board of trustees ?\n",
            "Context: university of chicago is governed by a board of trustees . board of trustees oversees long-term development and plans of university and manages fundraising efforts , and is composed of 50 members including university president . directly beneath president are provost , fourteen vice presidents ( including chief financial officer , chief investment officer , and dean of students of university ) , directors of argonne national laboratory and fermilab , secretary of university , and student ombudsperson . as of august , chairman of board of trustees is andrew alper , and president of university is robert zimmer . in december 2013 it was announced that director of argonne national laboratory , eric isaacs , would become provost . isaacs was replaced as provost in march 2016 by daniel .\n",
            "Predicted Answer: 50 members including university president . directly beneath president are provost , fourteen vice presidents ( including chief financial officer , chief investment officer , and dean of students of university ) , directors of argonne national laboratory and fermilab , secretary of university , and student ombudsperson . as of august , chairman of board of trustees is andrew alper\n",
            "True Answer: 50\n",
            "--------------------------------------------------\n",
            "Question: does new deal include video on demand and high definition ?\n",
            "Context: agreements include fixed annual carriage fees of for channels with both channel suppliers able to secure additional capped payments if their channels meet certain performance-related targets . currently there is no indication as to whether new deal includes additional video on demand and high definition content which had previously been offered by bskyb . as part of agreements , both bskyb and virgin media agreed to terminate all high court proceedings against each other relating to carriage of their respective basic channels .\n",
            "Predicted Answer: performance-related\n",
            "True Answer: no\n",
            "--------------------------------------------------\n",
            "Question: how many private schools existed in new zealand in april 2014 ?\n",
            "Context: as of april 2014 , there are 88 private schools in new zealand , catering for around 28 , 000 students or 3 . of entire student population . private school numbers have been in decline since mid-1970s as a result of many private schools opting to become schools , mostly due of financial difficulties stemming from changes in student numbers and/or economy . schools keep their private school special character and receives state funds in return for having to operate like a state school , e . g . they must teach state curriculum , they must employ registered teachers , and they can ' t charge tuition fees ( they can charge attendance dues for upkeep on school land and buildings ) . largest decline in private school numbers occurred between 1979 and 1984 , when nation ' s catholic school system integrated . as a result , private schools in new zealand are now largely restricted to largest cities ( auckland , hamilton , wellington and christchurch ) and niche markets .\n",
            "Predicted Answer: \n",
            "True Answer: 88\n",
            "--------------------------------------------------\n",
            "Question: how many research institutes does university run on campus ?\n",
            "Context: university operates 12 research institutes and 113 research centers on campus . among these are oriental museum and research center for near eastern studies owned and operated by a number of national resource centers , including center for middle eastern studies . chicago also operates or is affiliated with a number of research institutions apart from university proper . university partially manages argonne national laboratory , part of united states department of energy ' s national laboratory system , and has a joint stake in fermilab , a nearby particle physics laboratory , as well as a stake in apache point observatory in sunspot , new mexico . faculty and students at adjacent toyota technological institute at chicago collaborate with university , in 2013 , university announced that it was affiliating formerly independent marine biological laboratory in woods hole , mass . although formally unrelated , national opinion research center is located on chicago ' s campus .\n",
            "Predicted Answer: \n",
            "True Answer: 12\n",
            "--------------------------------------------------\n",
            "Question: how many drugs approved by fda in 2013 were specialty drugs ?\n",
            "Context: specialty pharmacies supply high cost injectable , oral , infused , or inhaled medications that are used for chronic and complex disease states such as cancer , hepatitis , and rheumatoid arthritis . unlike a traditional community pharmacy where prescriptions for any common medication can be brought in and filled , specialty pharmacies carry novel medications that need to be properly stored , administered , carefully monitored , and clinically managed . in addition to supplying these drugs , specialty pharmacies also provide lab monitoring , adherence counseling , and assist patients with strategies needed to obtain their expensive specialty drugs . it is currently fastest growing sector of pharmaceutical industry with 19 of 28 newly fda approved medications in 2013 being specialty drugs .\n",
            "Predicted Answer: injectable\n",
            "True Answer: 19\n",
            "--------------------------------------------------\n",
            "Question: what percentage of private school students go to catholic schools ?\n",
            "Context: as of august 2010 , victoria had 1 , 548 public schools , 489 catholic schools and 214 independent schools . just under 540 , 800 students were enrolled in public schools , and just over 311 , 800 in private schools . over 61 per cent of private students attend catholic schools . more than 462 , 000 students were enrolled in primary schools and more than 390 , 000 in secondary schools . retention rates for final two years of secondary school were 77 per cent for public school students and 90 per cent for private school students . victoria has about 63 , 519 full-time teachers .\n",
            "Predicted Answer: \n",
            "True Answer: 61\n",
            "--------------------------------------------------\n",
            "Question: how many scalar equations were formed into a set by james maxwell ?\n",
            "Context: origin of electric and magnetic fields would not be fully explained until 1864 when james clerk maxwell unified a number of earlier theories into a set of 20 scalar equations , which were later reformulated into 4 vector equations by oliver heaviside and josiah willard gibbs . these maxwell equations fully described sources of fields as being stationary and moving charges , and interactions of fields themselves . this led maxwell to discover that electric and magnetic fields could be through a wave that traveled at a speed that he calculated to be speed of light . this insight united nascent fields of electromagnetic theory with optics and led directly to a complete description of electromagnetic spectrum .\n",
            "Predicted Answer: 20 scalar equations , which were later reformulated into 4 vector equations by oliver heaviside\n",
            "True Answer: 20\n",
            "--------------------------------------------------\n",
            "Question: how many floors are there in building that was completed in 1967 ?\n",
            "Context: tallest building in downtown jacksonville ' s skyline is bank of america tower , constructed in 1990 as barnett center . it has a height of 617 ft ( 188 m ) and includes 42 floors . other notable structures include 37-story wells fargo center ( with its distinctive flared base making it defining building in jacksonville skyline ) , originally built in 1972-74 by independent life and accident insurance company , and 28 floor tower which , when completed in 1967 , was tallest precast , post-tensioned concrete structure in world .\n",
            "Predicted Answer: \n",
            "True Answer: 28\n",
            "--------------------------------------------------\n",
            "Question: what percentage of electricity was made by steam turbine in 1990s ?\n",
            "Context: main use for steam turbines is in electricity generation ( in 1990s about of world ' s electric production was by use of steam turbines ) however recent widespread application of large gas turbine units and typical combined cycle power plants has resulted in reduction of this percentage to regime for steam turbines . in electricity production , high speed of turbine rotation matches well with speed of modern electric generators , which are typically direct connected to their driving turbines . in marine service , ( pioneered on ) , steam turbines with reduction gearing ( although has direct turbines to propellers with no reduction gearbox ) dominated large ship propulsion throughout late 20th century , being more efficient ( and requiring far less maintenance ) than reciprocating steam engines . in recent decades , reciprocating diesel engines , and gas turbines , have almost entirely supplanted steam propulsion for marine applications .\n",
            "Predicted Answer: 1990s\n",
            "True Answer: 90\n",
            "--------------------------------------------------\n",
            "Question: how many degrees south did amazon rainforest reach from 66-34 mya ?\n",
            "Context: following extinction event , extinction of dinosaurs and wetter climate may have allowed tropical rainforest to spread out across continent . from mya , rainforest extended as far south as . climate fluctuations during last 34 million years have allowed savanna regions to expand into tropics . during oligocene , for example , rainforest spanned a relatively narrow band . it expanded again during middle miocene , then retracted to a mostly inland formation at last glacial maximum . however , rainforest still managed to thrive during these glacial periods , allowing for survival and evolution of a broad diversity of species .\n",
            "Predicted Answer: 34\n",
            "True Answer: 45\n",
            "--------------------------------------------------\n",
            "Question: how many provinces did ottoman empire contain in 17th century ?\n",
            "Context: ottoman empire was an imperial state that lasted from 1299 to 1923 . during 16th and 17th centuries , in particular at height of its power under reign of suleiman magnificent , ottoman empire was a powerful multinational , multilingual empire controlling much of southeast europe , western asia , caucasus , north africa , and horn of africa . at beginning of 17th century empire contained 32 provinces and numerous vassal states . some of these were later absorbed into empire , while others were granted various types of autonomy during course of centuries .\n",
            "Predicted Answer: 1299\n",
            "True Answer: 32\n",
            "--------------------------------------------------\n",
            "Question: how many intercollegiate sports does harvard compete in ncaa division i\n",
            "Context: harvard crimson competes in 42 intercollegiate sports in ncaa division i ivy league . harvard has an intense athletic rivalry with yale university culminating in game , although regatta predates football game . this rivalry , though , is put aside every two years when harvard and yale track and field teams come together to compete against a combined oxford university and cambridge university team , a competition that is oldest continuous international amateur competition in world .\n",
            "Predicted Answer: oxford\n",
            "True Answer: 42\n",
            "--------------------------------------------------\n",
            "Question: at a-level , what percentage of british students attend fee-paying schools ?\n",
            "Context: private schools generally prefer to be called independent schools , because of their freedom to operate outside of government and local government control . some of these are also known as public schools . preparatory schools in uk prepare pupils aged up to 13 years old to enter public schools . name public school is based on fact that schools were open to pupils from anywhere , and not merely to those from a certain locality , and of any religion or occupation . according to good schools guide approximately 9 per cent of children being educated in uk are doing so at fee-paying schools at level and 13 per cent at a-level . many independent schools are single-sex ( though this is becoming less common ) . fees range from under , 000 to , 000 and above per year for day pupils , rising to , per year for boarders . for details in scotland , see meeting cost .\n",
            "Predicted Answer: fee-paying schools at level and 13 per cent at a-level . many independent schools are single-sex ( though this is becoming less common ) . fees range from under , 000 to , 000\n",
            "True Answer: 13\n",
            "--------------------------------------------------\n",
            "Question: how many miles south of san jose is north - south midway point located ?\n",
            "Context: southern california is not a formal geographic designation , and definitions of what constitutes southern california vary . geographically , california ' s north-south midway point lies at exactly 9 ' 58 . 23 latitude , around 11 miles ( 18 km ) south of san jose however , this does not coincide with popular use of term . when state is divided into two areas ( northern and southern california ) , term southern california usually refers to ten southern-most counties of state . this definition coincides neatly with county lines at north latitude , which form northern borders of san luis obispo , kern , and san bernardino counties . another definition for southern california uses point conception and tehachapi mountains as northern boundary .\n",
            "Predicted Answer: tehachapi\n",
            "True Answer: 11\n",
            "--------------------------------------------------\n",
            "Question: how many pieces of legislation has social charter become basis for ?\n",
            "Context: social chapter is a chapter of 1997 treaty of amsterdam covering social policy issues in european union law . basis for social chapter was developed in 1989 by social partners representatives , namely unice , employers ' confederation , european trade union confederation ( etuc ) and , european centre of public enterprises . a toned down version was adopted as social charter at 1989 strasbourg european council . social charter declares 30 general principles , including on fair remuneration of employment , health and safety at work , rights of disabled and elderly , rights of workers , on vocational training and improvements of living conditions . social charter became basis for european community legislation on these issues in 40 pieces of legislation .\n",
            "Predicted Answer: 30\n",
            "True Answer: 40\n",
            "--------------------------------------------------\n",
            "Question: which state route has been in discussion to upgrade to interstate standards ?\n",
            "Context: fresno is largest u . s . city not directly linked to an interstate highway . when interstate highway system was created in 1950s , decision was made to build what is now interstate 5 on west side of central valley , and thus bypass many of population centers in region , instead of upgrading what is now state route 99 . due to rapidly raising population and traffic in cities along sr 99 , as well as desirability of federal funding , much discussion has been made to upgrade it to interstate standards and eventually incorporate it into interstate system , most likely as interstate 9 . major improvements to signage , lane width , median separation , vertical clearance , and other concerns are currently underway .\n",
            "Predicted Answer: 1950s\n",
            "True Answer: 99\n",
            "--------------------------------------------------\n",
            "Question: up to what age do students in united kingdom attend preparatory schools ?\n",
            "Context: private schools generally prefer to be called independent schools , because of their freedom to operate outside of government and local government control . some of these are also known as public schools . preparatory schools in uk prepare pupils aged up to 13 years old to enter public schools . name public school is based on fact that schools were open to pupils from anywhere , and not merely to those from a certain locality , and of any religion or occupation . according to good schools guide approximately 9 per cent of children being educated in uk are doing so at fee-paying schools at level and 13 per cent at a-level . many independent schools are single-sex ( though this is becoming less common ) . fees range from under , 000 to , 000 and above per year for day pupils , rising to , per year for boarders . for details in scotland , see meeting cost .\n",
            "Predicted Answer: fee-paying schools at level and 13 per cent at a-level . many independent schools are single-sex ( though this is becoming less common ) . fees range from under , 000 to , 000\n",
            "True Answer: 13\n",
            "--------------------------------------------------\n",
            "Question: how many seats does victoria have in australian house of representatives ?\n",
            "Context: politically , victoria has 37 seats in australian house of representatives and 12 seats in australian senate . at state level , parliament of victoria consists of legislative assembly ( lower house ) and legislative council ( upper house ) . victoria is currently governed by labor party , with daniel andrews current premier . personal representative of queen of australia in state is governor of victoria , currently linda dessau . local government is concentrated in 79 municipal districts , including 33 cities , although a number of unincorporated areas still exist , which are administered directly by state .\n",
            "Predicted Answer: 37\n",
            "True Answer: 37\n",
            "--------------------------------------------------\n",
            "Question: what was percentage of people that voted in favor of pico act of 1859 ?\n",
            "Context: subsequently , californios ( dissatisfied with inequitable taxes and land laws ) and pro-slavery southerners in lightly populated cow counties of southern california attempted three times in 1850s to achieve a separate statehood or territorial status separate from northern california . last attempt , pico act of 1859 , was passed by california state legislature and signed by state governor john b . weller . it was approved overwhelmingly by nearly of voters in proposed territory of colorado . this territory was to include all counties up to then much larger tulare county ( that included what is now kings , most of kern , and part of inyo counties ) and san luis obispo county . proposal was sent to washington , d . c . with a strong advocate in senator milton latham . however , secession crisis following election of abraham lincoln in 1860 led to proposal never coming to a vote .\n",
            "Predicted Answer: 1860\n",
            "True Answer: 75\n",
            "--------------------------------------------------\n",
            "Question: what percentage of filipino tertiary education takes place in private schools ?\n",
            "Context: in philippines , private sector has been a major provider of educational services , accounting for about 7 . of primary enrollment , of secondary enrollment and about of tertiary enrollment . private schools have proven to be efficient in resource utilization . per unit costs in private schools are generally lower when compared to public schools . this situation is more evident at tertiary level . government regulations have given private education more flexibility and autonomy in recent years , notably by lifting moratorium on applications for new courses , new schools and conversions , by liberalizing tuition fee policy for private schools , by replacing values education for third and fourth years with english , mathematics and natural science at option of school , and by issuing revised manual of regulations for private schools in august 1992 .\n",
            "Predicted Answer: 1992\n",
            "True Answer: 80\n",
            "--------------------------------------------------\n",
            "Question: as of 2008 , about what percentage of swedish students attended private schools ?\n",
            "Context: in sweden , pupils are free to choose a private school and private school gets paid same amount as municipal schools . over of swedish pupils were enrolled in private schools in 2008 . sweden is internationally known for this innovative school voucher model that provides swedish pupils with opportunity to choose school they prefer . for instance , biggest school chain , ( knowledge ) , offers 30 schools and a web-based environment , has 700 employees and teaches nearly 10 , 000 pupils . swedish system has been recommended to barack obama .\n",
            "Predicted Answer: 30 schools and a web-based environment , has 700 employees and teaches nearly 10 , 000\n",
            "True Answer: 10\n",
            "--------------------------------------------------\n",
            "Question: what is expression used to represent a complexity class of counting problems ?\n",
            "Context: other important complexity classes include bpp , zpp and rp , which are defined using probabilistic turing machines ac and nc , which are defined using boolean circuits and and qma , which are defined using quantum turing machines . #p is an important complexity class of counting problems ( not decision problems ) . classes like ip and am are defined using interactive proof systems . all is class of all decision problems .\n",
            "Predicted Answer: probabilistic\n",
            "True Answer: #p\n",
            "--------------------------------------------------\n",
            "Question: at what degree are pistons of a two-cylinder compound connected to cranks ?\n",
            "Context: with two-cylinder compounds used in railway work , pistons are connected to cranks as with a two-cylinder simple at out of phase with each other ( quartered ) . when double expansion group is duplicated , producing a 4-cylinder compound , individual pistons within group are usually balanced at , groups being set at to each other . in one case ( first type of compound ) , pistons worked in same phase driving a common crosshead and crank , again set at as for a two-cylinder engine . with 3-cylinder compound arrangement , lp cranks were either set at with hp one at to other two , or in some cases all three cranks were set at .\n",
            "Predicted Answer: three\n",
            "True Answer: 90\n",
            "--------------------------------------------------\n",
            "Question: what percentage of electrical power in united states is made by steam turbines ?\n",
            "Context: final major evolution of steam engine design was use of steam turbines starting in late part of 19th century . steam turbines are generally more efficient than reciprocating piston type steam engines ( for outputs above several hundred horsepower ) , have fewer moving parts , and provide rotary power directly instead of through a connecting rod system or similar means . steam turbines virtually replaced reciprocating engines in electricity generating stations early in 20th century , where their efficiency , higher speed appropriate to generator service , and smooth rotation were advantages . today most electric power is provided by steam turbines . in united states of electric power is produced in this way using a variety of heat sources . steam turbines were extensively applied for propulsion of large ships throughout most of 20th century .\n",
            "Predicted Answer: rotary\n",
            "True Answer: 90\n",
            "--------------------------------------------------\n",
            "Question: how many developed countries did british researchers use to gather statistics from ?\n",
            "Context: british researchers richard g . wilkinson and kate pickett have found higher rates of health and social problems ( obesity , mental illness , homicides , teenage births , incarceration , child conflict , drug use ) , and lower rates of social goods ( life expectancy by country , educational performance , trust among strangers , women ' s status , social mobility , even numbers of patents issued ) in countries and states with higher inequality . using statistics from 23 developed countries and 50 states of us , they found problems lower in countries like japan and finland and states like utah and new hampshire with high levels of equality , than in countries ( us and uk ) and states ( mississippi and new york ) with large differences in household income .\n",
            "Predicted Answer: 50 states of us , they found problems lower in countries like japan and finland\n",
            "True Answer: 23\n",
            "--------------------------------------------------\n",
            "Question: during 2012-2013 , how many student were able to take core classes at a single time ?\n",
            "Context: undergraduate students are required to take a distribution of courses to satisfy university ' s core curriculum known as common core . in 2012-2013 , core classes at chicago were limited to 17 students , and are generally led by a full-time professor ( as opposed to a teaching assistant ) . as of school year , 15 courses and demonstrated proficiency in a foreign language are required under core . undergraduate courses at university of chicago are known for their demanding standards , heavy workload and academic difficulty according to uni in usa , among academic cream of american universities – harvard , yale , princeton , mit , and university of chicago – it is that can most convincingly claim to provide most rigorous , intense learning experience .\n",
            "Predicted Answer: 2012-2013\n",
            "True Answer: 17\n",
            "--------------------------------------------------\n",
            "Question: in philippines , what percentage of secondary school students attend private schools ?\n",
            "Context: in philippines , private sector has been a major provider of educational services , accounting for about 7 . of primary enrollment , of secondary enrollment and about of tertiary enrollment . private schools have proven to be efficient in resource utilization . per unit costs in private schools are generally lower when compared to public schools . this situation is more evident at tertiary level . government regulations have given private education more flexibility and autonomy in recent years , notably by lifting moratorium on applications for new courses , new schools and conversions , by liberalizing tuition fee policy for private schools , by replacing values education for third and fourth years with english , mathematics and natural science at option of school , and by issuing revised manual of regulations for private schools in august 1992 .\n",
            "Predicted Answer: 1992\n",
            "True Answer: 32\n",
            "--------------------------------------------------\n",
            "Question: as a result of a compromise , about how many chinese schools became national type schools ?\n",
            "Context: after malaysia ' s independence in 1957 , government instructed all schools to surrender their properties and be assimilated into national school system . this caused an uproar among chinese and a compromise was achieved in that schools would instead become national type schools . under such a system , government is only in charge of school curriculum and teaching personnel while lands still belonged to schools . while chinese primary schools were allowed to retain chinese as medium of instruction , chinese secondary schools are required to change into english-medium schools . over 60 schools converted to become national type schools .\n",
            "Predicted Answer: 1957\n",
            "True Answer: 60\n",
            "--------------------------------------------------\n",
            "Question: np complete problems contain lowest likelihood of being located in what problem class ?\n",
            "Context: if a problem x is in c and hard for c , then x is said to be complete for c . this means that x is hardest problem in c . ( since many problems could be equally hard , one might say that x is one of hardest problems in c . ) thus class of np-complete problems contains most difficult problems in np , in sense that they are ones most likely not to be in p . because problem p = np is not solved , being able to reduce a known np-complete problem , π2 , to another problem , π1 , would indicate that there is no known polynomial-time solution for π1 . this is because a polynomial-time solution to π1 would yield a polynomial-time solution to π2 . similarly , because all np problems can be reduced to set , finding an np-complete problem that can be solved in polynomial time would mean that p = np .\n",
            "Predicted Answer: polynomial-time\n",
            "True Answer: np\n",
            "--------------------------------------------------\n",
            "Question: what complexity class is commonly characterized by unknown algorithms to enhance solvability ?\n",
            "Context: complexity class p is often seen as a mathematical abstraction modeling those computational tasks that admit an efficient algorithm . this hypothesis is called thesis . complexity class np , on other hand , contains many problems that people would like to solve efficiently , but for which no efficient algorithm is known , such as boolean satisfiability problem , hamiltonian path problem and vertex cover problem . since deterministic turing machines are special non-deterministic turing machines , it is easily observed that each problem in p is also member of class np .\n",
            "Predicted Answer: satisfiability\n",
            "True Answer: np\n",
            "--------------------------------------------------\n",
            "Question: how many days does parliament have to nominate a first minister after a general election ?\n",
            "Context: under scotland act 1998 , ordinary general elections for scottish parliament are held on first thursday in may every four years ( 1999 , 2003 , 2007 and so on ) . date of poll may be varied by up to one month either way by monarch on proposal of presiding officer . if parliament itself resolves that it should be dissolved ( with at least two-thirds of members voting in favour ) , or if parliament fails to nominate one of its members to be first minister within 28 days of a general election or of position becoming vacant , presiding officer proposes a date for an extraordinary general election and parliament is dissolved by queen by royal proclamation . extraordinary general elections are in addition to ordinary general elections , unless held less than six months before due date of an ordinary general election , in which case they supplant it . following ordinary election reverts to first thursday in may , a multiple of four years after 1999 ( i . e . , 5 may 2011 , 7 may 2015 , etc . ) .\n",
            "Predicted Answer: \n",
            "True Answer: 28\n",
            "--------------------------------------------------\n",
            "Question: at what angle were groups of pistons set in relation to one another in a 4-cylinder compound ?\n",
            "Context: with two-cylinder compounds used in railway work , pistons are connected to cranks as with a two-cylinder simple at out of phase with each other ( quartered ) . when double expansion group is duplicated , producing a 4-cylinder compound , individual pistons within group are usually balanced at , groups being set at to each other . in one case ( first type of compound ) , pistons worked in same phase driving a common crosshead and crank , again set at as for a two-cylinder engine . with 3-cylinder compound arrangement , lp cranks were either set at with hp one at to other two , or in some cases all three cranks were set at .\n",
            "Predicted Answer: three\n",
            "True Answer: 90\n",
            "--------------------------------------------------\n",
            "Question: if polynomial time can be utilized within an np-complete problem , what does imply p is equal to\n",
            "Context: if a problem x is in c and hard for c , then x is said to be complete for c . this means that x is hardest problem in c . ( since many problems could be equally hard , one might say that x is one of hardest problems in c . ) thus class of np-complete problems contains most difficult problems in np , in sense that they are ones most likely not to be in p . because problem p = np is not solved , being able to reduce a known np-complete problem , π2 , to another problem , π1 , would indicate that there is no known polynomial-time solution for π1 . this is because a polynomial-time solution to π1 would yield a polynomial-time solution to π2 . similarly , because all np problems can be reduced to set , finding an np-complete problem that can be solved in polynomial time would mean that p = np .\n",
            "Predicted Answer: polynomial-time\n",
            "True Answer: np\n",
            "--------------------------------------------------\n",
            "Question: what is minimum percent of alcohol content a german law requires all spirits and liqueurs to have ?\n",
            "Context: often rules apply to all goods neutrally , but may have a greater practical effect on imports than domestic products . for such indirect discriminatory ( or indistinctly applicable ) measures court of justice has developed more justifications either those in article 36 , or additional mandatory or overriding requirements such as consumer protection , improving labour standards , protecting environment , press diversity , fairness in commerce , and more categories are not closed . in most famous case ag v für , court of justice found that a german law requiring all spirits and liqueurs ( not just imported ones ) to have a minimum alcohol content of 25 per cent was contrary to tfeu article 34 , because it had a greater negative effect on imports . german liqueurs were over 25 per cent alcohol , but cassis de dijon , which ag wished to import from france , only had 15 to 20 per cent alcohol . court of justice rejected german government ' s arguments that measure proportionately protected public health under tfeu article 36 , because stronger beverages were available and adequate labelling would be enough for consumers to understand what they bought . this rule primarily applies to requirements about a product ' s content or packaging . in walter rau v de smedt court of justice found that a belgian law requiring all margarine to\n",
            "Predicted Answer: 34\n",
            "True Answer: 25\n",
            "--------------------------------------------------\n",
            "Question: what is lowest ranking one of counties could have in terms of most populous counties in\n",
            "Context: its counties of los angeles , orange , san diego , san bernardino , and riverside are five most populous in state and all are in top 15 most populous counties in united states .\n",
            "Predicted Answer: five\n",
            "True Answer: 15\n",
            "--------------------------------------------------\n",
            "Question: how many combinatory and graph theoretical problems , formerly believed to be plagued by intractability , did karp '\n",
            "Context: in 1967 , manuel blum developed an axiomatic complexity theory based on his axioms and proved an important result , so-called , speed-up theorem . field really began to flourish in 1971 when us researcher stephen cook and , working independently , leonid levin in ussr , proved that there exist practically relevant problems that are np-complete . in 1972 , richard karp took this idea a leap forward with his landmark paper , reducibility among combinatorial problems , in which he showed that 21 diverse combinatorial and graph theoretical problems , each infamous for its computational intractability , are np-complete .\n",
            "Predicted Answer: 1972\n",
            "True Answer: 21\n",
            "--------------------------------------------------\n",
            "Question: how many msps are there ?\n",
            "Context: after each election to scottish parliament , at beginning of each parliamentary session , parliament elects one msp to serve as presiding officer , equivalent of speaker ( currently tricia marwick ) , and two msps to serve as deputies ( currently elaine smith and john scott ) . presiding officer and deputies are elected by a secret ballot of 129 msps , which is only secret ballot conducted in scottish parliament . principally , role of presiding officer is to chair chamber proceedings and scottish parliamentary corporate body . when chairing meetings of parliament , presiding officer and his/her deputies must be politically impartial . during debates , presiding officer ( or deputy ) is assisted by parliamentary clerks , who give advice on how to interpret standing orders that govern proceedings of meetings . a vote clerk sits in front of presiding officer and operates electronic voting equipment and chamber clocks .\n",
            "Predicted Answer: chairing\n",
            "True Answer: 129\n",
            "--------------------------------------------------\n",
            "Question: who is owned by ?\n",
            "Context: bskyb utilises pay-tv scrambling system owned by nds , a cisco systems company . there are tight controls over use of decoders they are not available as stand-alone dvb cams ( modules ) . bskyb has design authority over all digital satellite receivers capable of receiving their service . receivers , though designed and built by different manufacturers , must conform to same user interface as all others . this extends to personal video recorder ( pvr ) offering ( branded ) .\n",
            "Predicted Answer: utilises\n",
            "True Answer: nds\n",
            "--------------------------------------------------\n",
            "Question: what is mineral ?\n",
            "Context: due to its electronegativity , oxygen forms chemical bonds with almost all other elements to give corresponding oxides . surface of most metals , such as aluminium and titanium , are oxidized in presence of air and become coated with a thin film of oxide that metal and slows further corrosion . many oxides of transition metals are non-stoichiometric compounds , with slightly less metal than chemical formula would show . for example , mineral feo ( ) is written as fe 1 xo , where x is usually around 0 . 05 .\n",
            "Predicted Answer: non-stoichiometric\n",
            "True Answer: feo\n",
            "--------------------------------------------------\n",
            "Question: who commissioned tapestry ?\n",
            "Context: by far most famous work of norman art is bayeux tapestry , which is not a tapestry but a work of embroidery . it was commissioned by odo , bishop of bayeux and first earl of kent , employing natives from kent who were learned in nordic traditions imported in previous half century by danish vikings .\n",
            "Predicted Answer: half\n",
            "True Answer: odo\n",
            "--------------------------------------------------\n",
            "Question: symbol for mercuric oxide is ?\n",
            "Context: in meantime , on august 1 , 1774 , an experiment conducted by british clergyman joseph priestley focused sunlight on mercuric oxide ( hgo ) inside a glass tube , which liberated a gas he named air . he noted that candles burned brighter in gas and that a mouse was more active and lived longer while breathing it . after breathing gas himself , he wrote feeling of it to my lungs was not sensibly different from that of common air , but i fancied that my breast felt peculiarly light and easy for some time afterwards . priestley published his findings in 1775 in a paper titled an account of further discoveries in air which was included in second volume of his book titled experiments and observations on different kinds of air . because he published his findings first , priestley is usually given priority in discovery .\n",
            "Predicted Answer: august 1 , 1774\n",
            "True Answer: hgo\n",
            "--------------------------------------------------\n",
            "Question: how many victorians are non-religious ?\n",
            "Context: about 61 . of victorians describe themselves as christian . roman catholics form single largest religious group in state with 26 . of victorian population , followed by anglicans and members of uniting church . buddhism is state ' s largest non-christian religion , with 168 , 637 members as of most recent census . victoria is also home of 152 , 775 muslims and 45 , 150 jews . hinduism is fastest growing religion . around of victorians claim no religion . amongst those who declare a religious affiliation , church attendance is low .\n",
            "Predicted Answer: 168\n",
            "True Answer: \n",
            "--------------------------------------------------\n",
            "Question: how many horsepower was watt ' s engine ?\n",
            "Context: in 1781 james watt patented a steam engine that produced continuous rotary motion . watt ' s engines enabled a wide range of manufacturing machinery to be powered . engines could be sited anywhere that water and coal or wood fuel could be obtained . by 1883 , engines that could provide 10 , 000 hp had become feasible . stationary steam engine was a key component of industrial revolution , allowing factories to locate where water power was unavailable . atmospheric engines of newcomen and watt were large compared to amount of power they produced , but high pressure steam engines were light enough to be applied to vehicles such as traction engines and railway locomotives .\n",
            "Predicted Answer: rotary motion . watt ' s engines enabled a wide range of manufacturing machinery to be powered . engines could be sited anywhere that water and coal or wood fuel could be obtained . by 1883 , engines that could provide 10 , 000\n",
            "True Answer: ten\n",
            "--------------------------------------------------\n",
            "Question: how many major ice ages have occurred ?\n",
            "Context: around 2 . 5 million years ago ( ending 11 , 600 years ago ) was geological period of ice ages . since approximately 600 , 000 years ago , six major ice ages have occurred , in which sea level dropped 120 m ( 390 ft ) and much of continental margins became exposed . in early pleistocene , rhine followed a course to northwest , through present north sea . during so-called anglian glaciation ( , 000 yr bp , marine oxygen isotope stage 12 ) , northern part of present north sea was blocked by ice and a large lake developed , that overflowed through english channel . this caused rhine ' s course to be diverted through english channel . since then , during glacial times , river mouth was located offshore of brest , france and rivers , like thames and seine , became tributaries to rhine . during interglacials , when sea level rose to approximately present level , rhine built deltas , in what is now netherlands .\n",
            "Predicted Answer: 120 m ( 390 ft ) and much of continental margins became exposed . in early pleistocene , rhine followed a course to northwest , through present north sea . during so-called anglian glaciation ( , 000\n",
            "True Answer: six\n",
            "--------------------------------------------------\n",
            "Question: when was duchy of normandy founded ?\n",
            "Context: in course of 10th century , initially destructive incursions of norse war bands into rivers of france evolved into more permanent encampments that included local women and personal property . duchy of normandy , which began in 911 as a fiefdom , was established by treaty of between king charles iii of west francia and famed viking ruler rollo , and was situated in former frankish kingdom of neustria . treaty offered rollo and his men french lands between river and atlantic coast in exchange for their protection against further viking incursions . area corresponded to northern part of present-day upper normandy down to river seine , but duchy would eventually extend west beyond seine . territory was roughly equivalent to old province of rouen , and reproduced roman administrative structure of gallia lugdunensis ii ( part of former gallia lugdunensis ) .\n",
            "Predicted Answer: lugdunensis\n",
            "True Answer: 911\n",
            "--------------------------------------------------\n",
            "Question: what percentage of farmland grows wheat ?\n",
            "Context: more than 26 , 000 square kilometres ( 10 , 000 sq mi ) of victorian farmland are sown for grain , mostly in state ' s west . more than of this area is sown for wheat , for barley and for oats . a further 6 , 000 square kilometres ( 2 , 300 sq mi ) is sown for hay . in , victorian farmers produced more than 3 million tonnes of wheat and 2 million tonnes of barley . victorian farms produce nearly of australian pears and third of apples . it is also a leader in stone fruit production . main vegetable crops include asparagus , broccoli , carrots , potatoes and tomatoes . last year , 121 , 200 tonnes of pears and 270 , 000 tonnes of tomatoes were produced .\n",
            "Predicted Answer: \n",
            "True Answer: \n",
            "--------------------------------------------------\n",
            "Question: what are secretions commonly called ?\n",
            "Context: when some species , including chuni , and , are disturbed , they produce secretions ( ink ) that at much same wavelengths as their bodies . juveniles will more brightly in relation to their body size than adults , whose luminescence is diffused over their bodies . detailed statistical investigation has not suggested function of ctenophores ' bioluminescence nor produced any correlation between its exact color and any aspect of animals ' environments , such as depth or whether they live in coastal or mid-ocean waters .\n",
            "Predicted Answer: bioluminescence\n",
            "True Answer: ink\n",
            "--------------------------------------------------\n",
            "Question: how many miles east of berlin is warsaw ?\n",
            "Context: warsaw lies in east-central poland about 300 km ( 190 mi ) from carpathian mountains and about 260 km ( 160 mi ) from baltic sea , 523 km ( 325 mi ) east of berlin , germany . city straddles vistula river . it is located in heartland of masovian plain , and its average elevation is 100 metres ( 330 ft ) above sea level . highest point on left side of city lies at a height of 115 . 7 metres ( 379 . 6 ft ) ( bus depot , district of wola ) , on right side – 122 . 1 metres ( 400 . 6 ft ) ( estate , district of wesoła , by eastern border ) . lowest point lies at a height 75 . 6 metres ( 248 . 0 ft ) ( at right bank of vistula , by eastern border of warsaw ) . there are some hills ( mostly artificial ) located within confines of city – e . g . warsaw uprising hill ( 121 metres ( 397 . 0 ft ) ) , hill ( 138 metres ( 452 . 8 ft ) – highest point of warsaw in general ) .\n",
            "Predicted Answer: 121\n",
            "True Answer: 325\n",
            "--------------------------------------------------\n",
            "Question: how many catholic schools were in victoria ?\n",
            "Context: as of august 2010 , victoria had 1 , 548 public schools , 489 catholic schools and 214 independent schools . just under 540 , 800 students were enrolled in public schools , and just over 311 , 800 in private schools . over 61 per cent of private students attend catholic schools . more than 462 , 000 students were enrolled in primary schools and more than 390 , 000 in secondary schools . retention rates for final two years of secondary school were 77 per cent for public school students and 90 per cent for private school students . victoria has about 63 , 519 full-time teachers .\n",
            "Predicted Answer: \n",
            "True Answer: 489\n",
            "--------------------------------------------------\n",
            "Question: what does ' s name change into ?\n",
            "Context: other third of water flows through kanaal and redistributes in ijssel and nederrijn . ijssel branch carries one ninth of water flow of rhine north into ijsselmeer ( a former bay ) , while nederrijn carries approximately two of flow west along a route parallel to waal . however , at wijk bij duurstede , nederrijn changes its name and becomes lek . it flows farther west , to rejoin noord river into nieuwe maas and to north sea .\n",
            "Predicted Answer: redistributes\n",
            "True Answer: lek\n",
            "--------------------------------------------------\n",
            "Question: how many seats are in debating chamber ?\n",
            "Context: debating chamber of scottish parliament has seating arranged in a hemicycle , which reflects desire to encourage consensus amongst elected members . there are 131 seats in debating chamber . of total 131 seats , 129 are occupied by parliament ' s elected msps and 2 are seats for scottish law officers – lord advocate and solicitor general for scotland , who are not elected members of parliament but are members of scottish government . as such law officers may attend and speak in plenary meetings of parliament but , as they are not elected msps , cannot vote . members are able to sit anywhere in debating chamber , but typically sit in their party groupings . first minister , scottish cabinet ministers and law officers sit in front row , in middle section of chamber . largest party in parliament sits in middle of semicircle , with opposing parties on either side . presiding officer , parliamentary clerks and officials sit opposite members at front of debating chamber .\n",
            "Predicted Answer: 131\n",
            "True Answer: 131\n",
            "--------------------------------------------------\n",
            "Question: how many teams did los angeles used to have ?\n",
            "Context: from 2005 to 2014 , there were two major league soccer teams in los angeles — la galaxy and chivas usa — that both played at stubhub center and were local rivals . however , chivas were suspended following 2014 mls season , with a second mls team scheduled to return in 2018 .\n",
            "Predicted Answer: 2005\n",
            "True Answer: two\n",
            "--------------------------------------------------\n",
            "Question: what does nederrijn change it ' s name to ?\n",
            "Context: other third of water flows through kanaal and redistributes in ijssel and nederrijn . ijssel branch carries one ninth of water flow of rhine north into ijsselmeer ( a former bay ) , while nederrijn carries approximately two of flow west along a route parallel to waal . however , at wijk bij duurstede , nederrijn changes its name and becomes lek . it flows farther west , to rejoin noord river into nieuwe maas and to north sea .\n",
            "Predicted Answer: redistributes\n",
            "True Answer: lek\n",
            "--------------------------------------------------\n",
            "Question: how many botanical gardens does warsaw have ?\n",
            "Context: flora of city may be considered very rich in species . species richness is mainly due to location of warsaw within border region of several big floral regions comprising substantial proportions of areas ( natural forests , wetlands along vistula ) as well as arable land , meadows and forests . bielany forest , located within borders of warsaw , is remaining part of masovian primeval forest . bielany forest nature reserve is connected with kampinos forest . it is home to rich fauna and flora . within forest there are three cycling and walking trails . other big forest area is forest by southern city border . warsaw has also two botanic gardens by park ( a unit of university of warsaw ) as well as by park of culture and rest in ( a unit of polish academy of science ) .\n",
            "Predicted Answer: bielany\n",
            "True Answer: two\n",
            "--------------------------------------------------\n",
            "Question: what is bond order of dioxygen molecules ?\n",
            "Context: in this dioxygen , two oxygen atoms are chemically bonded to each other . bond can be variously described based on level of theory , but is reasonably and simply described as a covalent double bond that results from filling of molecular orbitals formed from atomic orbitals of individual oxygen atoms , filling of which results in a bond order of two . more specifically , double bond is result of sequential , energy , or aufbau , filling of orbitals , and resulting cancellation of contributions from 2s electrons , after sequential filling of low σ and orbitals σ overlap of two atomic 2p orbitals that lie along o-o molecular axis and π overlap of two pairs of atomic 2p orbitals perpendicular to o-o molecular axis , and then cancellation of contributions from remaining two of six 2p electrons after their partial filling of lowest π and orbitals .\n",
            "Predicted Answer: axis\n",
            "True Answer: two\n",
            "--------------------------------------------------\n",
            "Question: how much heavier is oxygen 18 than oxygen 16 ?\n",
            "Context: measure ratio of oxygen-18 and in shells and skeletons of marine organisms to determine what climate was like millions of years ago ( see oxygen isotope ratio cycle ) . seawater molecules that contain lighter isotope , , evaporate at a slightly faster rate than water molecules containing heavier oxygen-18 this disparity increases at lower temperatures . during periods of lower global temperatures , snow and rain from that evaporated water tends to be higher in , and seawater left behind tends to be higher in oxygen-18 . marine organisms then incorporate more oxygen-18 into their skeletons and shells than they would in a warmer climate . also directly measure this ratio in water molecules of ice core samples that are up to several hundreds of thousands of years old .\n",
            "Predicted Answer: evaporate\n",
            "True Answer: \n",
            "--------------------------------------------------\n"
          ]
        }
      ],
      "source": [
        "# Compare the predictions with the actual answers\n",
        "for i in range(100):\n",
        "    print(f\"Question: {questions[i]}\")\n",
        "    print(f\"Context: {contexts[i]}\")\n",
        "    print(f\"Predicted Answer: {preds[i]}\")\n",
        "    print(f\"True Answer: {true_labels[i]}\")\n",
        "    print(\"-\" * 50)"
      ]
    },
    {
      "cell_type": "markdown",
      "metadata": {},
      "source": [
        "##### Evaluate predictions on training set"
      ]
    },
    {
      "cell_type": "code",
      "execution_count": 16,
      "metadata": {
        "id": "nkq7ofTKM3J2",
        "outputId": "cbe2b8d5-a8d3-43f0-f096-558728bbca41"
      },
      "outputs": [
        {
          "name": "stderr",
          "output_type": "stream",
          "text": [
            "Predicting: 100%|██████████| 622/622 [00:42<00:00, 14.77it/s]\n"
          ]
        }
      ],
      "source": [
        "train_preds, train_true_labels, train_contexts, train_questions = predict_qa_context_model_boilerplate(model=model, dataloader=train_dataloader, tokenizer=tokenizer, device=device, inputs = [\"context_question\", \"attention_mask_context_question\"])"
      ]
    },
    {
      "cell_type": "code",
      "execution_count": 17,
      "metadata": {
        "id": "xq15_9YiM3J2",
        "outputId": "b6cde1b3-3ab6-4df7-ed91-c49900ad8fce"
      },
      "outputs": [
        {
          "name": "stdout",
          "output_type": "stream",
          "text": [
            "Question: buddha refused to pay respect to who , during their time of animal sacrifice ?\n",
            "Context: a particular criticism of buddha was vedic animal sacrifice . he also mocked vedic hymn of cosmic man . however , buddha was not , and declared that veda in its true form was declared by kashyapa to certain rishis , who by severe penances had acquired power to see by divine eyes . he names vedic rishis , and declared that original veda of was altered by a few brahmins who introduced animal sacrifices . buddha says that it was on this alteration of true veda that he refused to pay respect to vedas of his time . however , he did not denounce union with brahman , or idea of self uniting with self . at same time , traditional hindu itself gradually underwent profound changes , transforming it into what is recognized as early hinduism .\n",
            "Predicted Answer: vedas\n",
            "True Answer: vedas\n",
            "--------------------------------------------------\n",
            "Question: in what year did henry cavendish recognize hydrogen gas as a discreet substance ?\n",
            "Context: in 1671 , robert boyle discovered and described reaction between iron filings and dilute acids , which results in production of hydrogen gas . in 1766 , henry cavendish was first to recognize hydrogen gas as a discrete substance , by naming gas from a reaction flammable air . he speculated that flammable air was in fact identical to hypothetical substance called phlogiston and further finding in 1781 that gas produces water when burned . he is usually given credit for its discovery as an element . in 1783 , antoine lavoisier gave element name hydrogen ( from greek hydro meaning water and genes meaning creator ) when he and laplace reproduced cavendish ' s finding that water is produced when hydrogen is burned .\n",
            "Predicted Answer: 1671 , robert boyle discovered and described reaction between iron filings and dilute acids , which results in production of hydrogen gas . in 1766 , henry cavendish was first to recognize hydrogen gas as a discrete substance , by naming gas from a reaction flammable air . he speculated that flammable air was in fact identical to hypothetical substance called phlogiston and further finding in 1781 that gas produces water when burned . he is usually given credit for its discovery as an element . in 1783\n",
            "True Answer: 1766\n",
            "--------------------------------------------------\n",
            "Question: what language , according to text , may need double stops to indicate aspiration length ?\n",
            "Context: there are no dedicated ipa symbols for degrees of aspiration and typically only two degrees are marked unaspirated and aspirated . an old symbol for light aspiration was , but this is now obsolete . aspiration modifier letter may be doubled to indicate especially strong or long aspiration . hence , two degrees of aspiration in korean stops are sometimes transcribed or and , but they are usually transcribed and , with details of time given numerically .\n",
            "Predicted Answer: two degrees are marked unaspirated and aspirated . an old symbol for light aspiration was , but this is now obsolete . aspiration modifier letter may be doubled to indicate especially strong or long aspiration . hence , two\n",
            "True Answer: korean\n",
            "--------------------------------------------------\n",
            "Question: what language does ' ' come from ?\n",
            "Context: most of an annelid ' s body consists of segments that are practically identical , having same sets of internal organs and external ( greek , meaning hair ) and , in some species , appendages . however , and rearmost sections are not regarded as true segments as they do not contain standard sets of organs and do not develop in same way as true segments . section , called ( greek meaning in front of and meaning mouth ) contains brain and sense organs , while rearmost , called pygidium ( greek , meaning little tail ) or contains anus , generally on underside . first section behind , called ( greek meaning around and meaning mouth ) , is regarded by some zoologists as not a true segment , but in some polychaetes has and appendages like those of other segments .\n",
            "Predicted Answer: \n",
            "True Answer: greek\n",
            "--------------------------------------------------\n",
            "Question: when was ' world in grey ' published ?\n",
            "Context: brasília has also been focus of modern-day literature . published in 2008 , world in grey dom bosco ' s prophecy , by author ryan j . lucero , tells an story based on famous prophecy from late 19th century by italian saint don bosco . according to don bosco ' s prophecy between parallels 15 and 20 , around a lake which shall be formed a great civilization will thrive , and that will be promised land . brasília lies between parallels s and s , where an artificial lake ( lake ) was formed . don bosco is brasília ' s patron saint .\n",
            "Predicted Answer: \n",
            "True Answer: 2008\n",
            "--------------------------------------------------\n",
            "Question: during 1980s and 1990s , how many people were killed annually because of dog bites ?\n",
            "Context: citing a 2008 study , u . s . center for disease control estimated in 2015 that 4 . 5 million people in usa are bitten by dogs each year . a 2015 study estimated that 1 . of u . s . population is bitten each year . in 1980s and 1990s us averaged 17 fatalities per year , while in 2000s this has increased to 26 . of dog bites are from pet of family or friends , and of attacks occur on property of dog ' s legal owner .\n",
            "Predicted Answer: 2000s\n",
            "True Answer: 17\n",
            "--------------------------------------------------\n",
            "Question: in 1860 , what percentage of city population was composed of german immigrants ?\n",
            "Context: great irish famine brought a large influx of irish immigrants . over 200 , 000 were living in new york by 1860 , upwards of a quarter of city ' s population . there was also extensive immigration from german provinces , where revolutions had disrupted societies , and germans comprised another of new york ' s population by 1860 .\n",
            "Predicted Answer: \n",
            "True Answer: \n",
            "--------------------------------------------------\n",
            "Question: where were eic headquarters located ?\n",
            "Context: company ' s headquarters in london , from which much of india was governed , was east india house in leadenhall street . after occupying premises in philpot lane from 1600 to 1621 in crosby house , bishopsgate , from 1621 to 1638 and in leadenhall street from 1638 to 1648 , company moved into craven house , an elizabethan mansion in leadenhall street . building had become known as east india house by 1661 . it was completely rebuilt and enlarged in and further significantly remodelled and expanded in . it was finally vacated in 1860 and demolished in . site is now occupied by lloyd ' s building .\n",
            "Predicted Answer: 1648\n",
            "True Answer: london\n",
            "--------------------------------------------------\n",
            "Question: how many miles was village frédéric born in located to west of warsaw ?\n",
            "Context: fryderyk chopin was born in wola , 46 kilometres ( 29 miles ) west of warsaw , in what was then duchy of warsaw , a polish state established by napoleon . parish baptismal record gives his birthday as 22 february 1810 , and cites his given names in latin form franciscus ( in polish , he was fryderyk franciszek ) . however , composer and his family used birthdate 1 march , which is now generally accepted as correct date .\n",
            "Predicted Answer: 29\n",
            "True Answer: 29\n",
            "--------------------------------------------------\n",
            "Question: outside of doing it on their own time , what other motivation could students have to take non mandatory\n",
            "Context: centre for co-curricular studies provides elective subjects and language courses outside field of science for students in other faculties and departments . students are encouraged to take these classes either for credit or in their own time , and in some departments this is mandatory . courses exist in a wide range of topics including philosophy , ethics in science and technology , history , modern literature and drama , art in 20th century , film studies . language courses are available in french , german , japanese , italian , russian , spanish , arabic and mandarin chinese . centre for co-curricular studies is home to science communication unit which offers master ' s degrees in science communication and science media production for science graduates .\n",
            "Predicted Answer: arabic\n",
            "True Answer: credit\n",
            "--------------------------------------------------\n",
            "Question: english freemasonry almost came to a halt in what year ?\n",
            "Context: in 1799 , english freemasonry almost came to a halt due to parliamentary proclamation . in wake of french revolution , unlawful societies act 1799 banned any meetings of groups that required their members to take an oath or obligation . grand masters of both moderns and grand lodges called on prime minister william pitt ( who was not a freemason ) and explained to him that freemasonry was a supporter of law and lawfully constituted authority and was much involved in charitable work . as a result , freemasonry was specifically exempted from terms of act , provided that each private lodge ' s secretary placed with local clerk of peace a list of members of his lodge once a year . this continued until 1967 when obligation of provision was rescinded by parliament .\n",
            "Predicted Answer: 1799\n",
            "True Answer: 1799\n",
            "--------------------------------------------------\n",
            "Question: when did cincinnati red stockings come to be ?\n",
            "Context: major league baseball is especially well known for red teams . cincinnati red stockings are oldest professional baseball team , dating back to 1869 . franchise soon relocated to boston and is now atlanta braves , but its name survives as origin for both cincinnati reds and boston red sox . during 1950s when red was strongly associated with communism , modern cincinnati team was known as redlegs and term was used on baseball cards . after red scare faded , team was known as reds again . los angeles angels of anaheim are also known for their color red , as are st . louis cardinals , arizona diamondbacks , and philadelphia phillies .\n",
            "Predicted Answer: 1869\n",
            "True Answer: 1869\n",
            "--------------------------------------------------\n",
            "Question: in what year was musee de quai branly built ?\n",
            "Context: most of postwar ' s presidents of fifth republic wanted to leave their own monuments in paris president georges pompidou started centre georges pompidou ( 1977 ) , valéry giscard d ' began musée d ' orsay ( 1986 ) president françois mitterrand , in power for 14 years , built opéra bastille ( 1985-1989 ) , bibliothèque nationale de france ( 1996 ) , arche de la défense ( 1985-1989 ) , and louvre pyramid with its underground courtyard ( 1983-1989 ) jacques chirac ( 2006 ) , musée du quai branly .\n",
            "Predicted Answer: 1977\n",
            "True Answer: 2006\n",
            "--------------------------------------------------\n",
            "Question: where was mary rumored to have died ?\n",
            "Context: ephesus is a cultic centre of mary , site of first church dedicated to her and rumoured place of her death . ephesus was previously a centre for worship of artemis a virgin goddess . temple of artemis at ephesus being regarded as one of seven wonders of ancient world cult of mary was furthered by queen theodora in 6th century . according to william e . phipps , in book survivals of roman religion gordon laing argues convincingly that worship of artemis as both virgin and mother at grand ephesian temple contributed to veneration of mary .\n",
            "Predicted Answer: artemis\n",
            "True Answer: ephesus\n",
            "--------------------------------------------------\n",
            "Question: in which year did university of tennessee begin competing in southeastern conference of ncaa ?\n",
            "Context: in knoxville , tennessee volunteers college team has played in southeastern conference of national collegiate athletic association since 1932 . football team has won 13 sec championships and 25 bowls , including four sugar bowls , three cotton bowls , an orange bowl and a fiesta bowl . meanwhile , men ' s basketball team has won four sec championships and reached ncaa elite eight in 2010 . in addition , women ' s basketball team has won a host of sec regular-season and tournament titles along with 8 national titles .\n",
            "Predicted Answer: 1932\n",
            "True Answer: 1932\n",
            "--------------------------------------------------\n",
            "Question: until what year frame did gelug exchange gifts with ming ?\n",
            "Context: even though gelug exchanged gifts with and sent missions to ming court up until 1430s , gelug was not mentioned in or lu . on this , historian li says of tsongkhapa ' s refusal of ming invitations to visit yongle emperor ' s court\n",
            "Predicted Answer: 1430s\n",
            "True Answer: 1430s\n",
            "--------------------------------------------------\n",
            "Question: how many wedding gifts did elizabeth and philip receive ?\n",
            "Context: elizabeth and philip were married on 20 november 1947 at westminster abbey . they received 2500 wedding gifts from around world . because britain had not yet completely recovered from devastation of war , elizabeth required ration coupons to buy material for her gown , which was designed by norman hartnell . in post-war britain , it was not acceptable for duke of edinburgh ' s german relations , including his three surviving sisters , to be invited to wedding . duke of windsor , formerly king edward viii , was not invited either .\n",
            "Predicted Answer: 1947\n",
            "True Answer: 2500\n",
            "--------------------------------------------------\n",
            "Question: when did nigeria start reorganizing its healthcare system ?\n",
            "Context: health care delivery in nigeria is a concurrent responsibility of three tiers of government in country , and private sector . nigeria has been reorganising its health system since bamako initiative of 1987 , which formally promoted community-based methods of increasing accessibility of drugs and health care services to population , in part by implementing user fees . new strategy dramatically increased accessibility through community-based healthcare reform , resulting in more efficient and equitable provision of services . a comprehensive approach strategy was extended to all areas of health care , with subsequent improvement in health care indicators and improvement in health care efficiency and cost .\n",
            "Predicted Answer: 1987\n",
            "True Answer: 1987\n",
            "--------------------------------------------------\n",
            "Question: how many spectators watched first arena football league game ?\n",
            "Context: first game in arena football league history was played on june 19 , 1987 , between gladiators and commandos at pittsburgh civic arena in front of 12 , 117 fans . game was deliberately not televised so that it could be analyzed and any follies and failures would not be subject to national public scrutiny . following inaugural game , tweaks and adjustments were made , and first season continued . dynamite and bruisers played in first-ever televised afl game next night , on june 20 , 1987 , at rosemont horizon in suburban chicago on espn with bob rathbun and lee corso calling play . broadcast showed a short clip of game . each team played six games , two against each other team . top two teams , denver and pittsburgh , then competed in first-ever afl championship game , arenabowl i .\n",
            "Predicted Answer: 1987\n",
            "True Answer: 12 , 117\n",
            "--------------------------------------------------\n",
            "Question: what was israel ranked among oecd countries ?\n",
            "Context: education in israel is highly valued in national culture with its historical values dating back to ancient israel and was viewed as one fundamental blocks of ancient israelite life . israeli culture views higher education as key to higher mobility and socioeconomic status in israeli society . emphasis of education within israeli society goes to gulf within jewish diaspora from renaissance and enlightenment movement all way to roots of zionism in 1880s . jewish communities in levant were first to introduce compulsory education for which organized community , not less than parents , was responsible for education of next generation of jews . with contemporary jewish culture ' s strong emphasis , promotion of scholarship and learning and strong propensity to promote cultivation of intellectual pursuits as well as nations high university educational attainment rate exemplifies how highly israeli society values higher education . israeli education system has been praised for various reasons , including its high quality and its major role in spurring israel ' s economic development and technological boom . many international business leaders and organizations such as microsoft founder bill gates have praised israel for its high quality of education in helping spur israel ' s economic development . in 2012 , country ranked second among oecd countries ( tied with japan and after canada ) for percentage of to that have\n",
            "Predicted Answer: 2012\n",
            "True Answer: second\n",
            "--------------------------------------------------\n",
            "Question: in what city is école polytechnique de montréal located ?\n",
            "Context: credentials are typically conferred at undergraduate level , however university-affiliated schools like école de technologie supérieure and école polytechnique de montréal ( both of which are located in quebec ) , also offer graduate and postgraduate programs , in accordance with provincial higher education guidelines . canadian higher education institutions , at all levels , undertake directed and applied research with financing allocated through public funding , private equity , or industry sources .\n",
            "Predicted Answer: university-affiliated\n",
            "True Answer: quebec\n",
            "--------------------------------------------------\n",
            "Question: what used to be considered an art , back in day ?\n",
            "Context: in past times , mending was an art . a meticulous tailor or seamstress could mend rips with thread from hems and seam edges so skillfully that tear was practically invisible . when raw material – cloth – was worth more than labor , it made sense to expend labor in saving it . today clothing is considered a consumable item . clothing is less expensive than labor required to repair it . many people buy a new piece of clothing rather than spend time mending . thrifty still replace zippers and buttons and sew up ripped hems .\n",
            "Predicted Answer: mending\n",
            "True Answer: mending\n",
            "--------------------------------------------------\n",
            "Question: when was elio killed ?\n",
            "Context: a fervent follower of absolutist cause , elío had played an important role in repression of supporters of constitution of 1812 . for this , he was arrested in 1820 and executed in 1822 by garroting . conflict between absolutists and liberals continued , and in period of conservative rule called ominous decade ( ) , which followed trienio liberal , there was ruthless repression by government forces and catholic inquisition . last victim of inquisition was , a teacher accused of being a deist and a mason who was hanged in valencia in 1824 .\n",
            "Predicted Answer: 1824\n",
            "True Answer: 1822\n",
            "--------------------------------------------------\n",
            "Question: how many turkish cypriots voted for annan plan in 2004 ?\n",
            "Context: turkish invasion , followed by occupation and declaration of independence of trnc have been condemned by united nations resolutions , which are reaffirmed by security council every year . last major effort to settle cyprus dispute was annan plan in 2004 , drafted by then secretary general , kofi annan . plan was put to a referendum in both northern cyprus and republic of cyprus . of turkish cypriots voted in support of plan and greek cypriots voted against plan , claiming that it disproportionately favoured turkish side . in total , 66 . of voters rejected annan plan v . on 1 may 2004 cyprus joined european union , together with nine other countries . cyprus was accepted into eu as a whole , although eu legislation is suspended in territory occupied by turkey ( trnc ) , until a final settlement of cyprus problem . in july 2006 , island served as a haven for people fleeing lebanon , due to conflict between israel and hezbollah ( also called july war ) .\n",
            "Predicted Answer: 2006\n",
            "True Answer: \n",
            "--------------------------------------------------\n",
            "Question: what year did bern want to host winter olympics ?\n",
            "Context: bern was a candidate to host 2010 winter olympics , but withdrew its bid in september 2002 after a referendum was passed that showed that bid was not supported by locals . those games were eventually awarded to vancouver , canada .\n",
            "Predicted Answer: 2002\n",
            "True Answer: 2010\n",
            "--------------------------------------------------\n",
            "Question: what can scale factor band 21 be shortened to ?\n",
            "Context: there is no scale factor band 21 ( ) for frequencies above approx 16 khz , forcing encoder to choose between less accurate representation in band 21 or less efficient storage in all bands below band 21 , latter resulting in wasted bitrate in vbr encoding .\n",
            "Predicted Answer: 16\n",
            "True Answer: \n",
            "--------------------------------------------------\n",
            "Question: how much of us believes spielberg is influential ?\n",
            "Context: according to forbes ' most influential celebrities 2014 list , spielberg was listed as most influential celebrity in america . annual list is conducted by market research and it gave more than 6 , 600 celebrities on 46 different personality attributes a score representing how that person is perceived as influencing public , their peers , or both . spielberg received a score of 47 , meaning of us believes he is influential . gerry philpott , president of market research , supported spielberg ' s score by stating , if anyone doubts that steven spielberg has greatly influenced public , think about how many will think for a second before going into water this summer .\n",
            "Predicted Answer: forbes\n",
            "True Answer: \n",
            "--------------------------------------------------\n",
            "Question: how many pilots did fighter command lose ?\n",
            "Context: on 9 september okl appeared to be backing two strategies . its round-the-clock bombing of london was an immediate attempt to force british government to capitulate , but it was also striking at britain ' s vital sea communications to achieve a victory through siege . although weather was poor , heavy raids took place that afternoon on london suburbs and airfield at farnborough . day ' s fighting cost kesselring and luftflotte 2 ( air fleet 2 ) 24 aircraft , including 13 bf 109s . fighter command lost 17 fighters and six pilots . over next few days weather was poor and next main effort would not be made until 15 september 1940 .\n",
            "Predicted Answer: six\n",
            "True Answer: six\n",
            "--------------------------------------------------\n",
            "Question: in what year was book published in which hayek developed hebbian learning ?\n",
            "Context: in sensory order an inquiry into foundations of theoretical psychology ( 1952 ) , hayek independently developed a hebbian learning model of learning and memory – an idea which he first conceived in 1920 , prior to his study of economics . hayek ' s expansion of hebbian synapse construction into a global brain theory has received continued attention in neuroscience , cognitive science , computer science , behavioural science , and evolutionary psychology , by scientists such as gerald edelman , and joaquin fuster .\n",
            "Predicted Answer: 1920\n",
            "True Answer: 1952\n",
            "--------------------------------------------------\n",
            "Question: which city was german diplomat in when he got assassinated ?\n",
            "Context: after 1937 lord mayor and state commissioners of hanover were members of nsdap ( nazi party ) . a large jewish population then existed in hanover . in october 1938 , 484 hanoverian jews of polish origin were expelled to poland , including grynszpan family . however , poland refused to accept them , leaving them stranded at border with thousands of other polish-jewish deportees , fed only intermittently by polish red cross and jewish welfare organisations . ' s son herschel grynszpan was in paris at time . when he learned of what was happening , he drove to german embassy in paris and shot german diplomat eduard ernst vom rath , who died shortly afterwards .\n",
            "Predicted Answer: 1938 , 484\n",
            "True Answer: paris\n",
            "--------------------------------------------------\n",
            "Question: how many billboard chart toppers did american idol contestants have within first ten seasons ?\n",
            "Context: success of american idol has been described as unparalleled in broadcasting history . series was also said by a rival tv executive to be most impactful show in history of television . it has become a recognized springboard for launching career of many artists as bona fide stars . according to billboard magazine , in its first ten years , idol has spawned 345 billboard chart-toppers and a platoon of pop idols , including kelly clarkson , carrie underwood , chris daughtry , fantasia , ruben studdard , jennifer hudson , clay aiken , adam lambert and jordin sparks while remaining a tv ratings juggernaut .\n",
            "Predicted Answer: 345\n",
            "True Answer: 345\n",
            "--------------------------------------------------\n",
            "Question: in what year what new delhi inaugurated as capital of india ?\n",
            "Context: after capital of india moved to delhi , a temporary secretariat building was constructed in a few months in 1912 in north delhi . most of government offices of new capital moved here from ' old secretariat ' in old delhi ( building now houses delhi legislative assembly ) , a decade before new capital was inaugurated in 1931 . many employees were brought into new capital from distant parts of india , including bengal presidency and madras presidency . subsequently housing for them was developed around gole market area in 1920s . built in 1940s , to house government employees , with bungalows for senior officials in nearby lodhi estate area , lodhi colony near historic lodhi gardens , was last residential areas built by british raj .\n",
            "Predicted Answer: bengal\n",
            "True Answer: 1931\n",
            "--------------------------------------------------\n",
            "Question: what causes sharp shadows around buildings ?\n",
            "Context: light pollution is a growing problem in reaction to excess light being given off by numerous signs , houses , and buildings . polluting light is often wasted light involving unnecessary energy costs and carbon dioxide emissions . light pollution is described as artificial light that is excessive or intrudes where it is not wanted . well-designed lighting sends light only where it is needed without scattering it elsewhere . poorly designed lighting can also compromise safety . for example , glare creates safety issues around buildings by causing very sharp shadows , temporarily blinding passersby making them vulnerable to would-be assailants .\n",
            "Predicted Answer: glare\n",
            "True Answer: glare\n",
            "--------------------------------------------------\n",
            "Question: when was macintosh branded as mac ?\n",
            "Context: macintosh ( branded as mac since 1997 ) is a series of personal computers ( pcs ) designed , developed , and marketed by apple inc . steve jobs introduced original macintosh computer on january 24 , 1984 . this was first mass-market personal computer featuring an integral graphical user interface and mouse . this first model was later renamed to macintosh 128k for uniqueness amongst a populous family of subsequently updated models which are also based on apple ' s same proprietary architecture . since 1998 , apple has largely phased out macintosh name in favor of mac , though product family has been nicknamed mac or mac since development of first model .\n",
            "Predicted Answer: 1998\n",
            "True Answer: 1997\n",
            "--------------------------------------------------\n",
            "Question: in what year did barcelona win its first trophy ?\n",
            "Context: fc barcelona had a successful start in regional and national cups , competing in de catalunya and copa del rey . in 1902 , club won its first trophy , copa macaya , and participated in first copa del rey , losing to in final . hans gamper — now known as joan gamper — became club president in 1908 , finding club in financial difficulty after not winning a competition since de catalunya in 1905 . club president on five separate occasions between 1908 and 1925 , he spent 25 years in total at helm . one of his main achievements was ensuring barça acquire its own stadium and thus generate a stable income .\n",
            "Predicted Answer: 1908\n",
            "True Answer: 1902\n",
            "--------------------------------------------------\n",
            "Question: how are many calculations to determine torque done ?\n",
            "Context: all electromagnetic motors , and that includes types mentioned here derive torque from vector product of interacting fields . for calculating torque it is necessary to know fields in air gap . once these have been established by mathematical analysis using fea or other tools torque may be calculated as integral of all vectors of force multiplied by radius of each vector . current flowing in winding is producing fields and for a motor using a magnetic material field is not linearly proportional to current . this makes calculation difficult but a computer can do many calculations needed .\n",
            "Predicted Answer: fea\n",
            "True Answer: fea\n",
            "--------------------------------------------------\n",
            "Question: when was alliance of baptists formed ?\n",
            "Context: following similar conflicts over modernism , southern baptist convention adhered to conservative theology as its official position . two new baptist groups were formed by moderate southern baptists who disagreed with direction in which southern baptist convention was heading alliance of baptists in 1987 and cooperative baptist fellowship in 1991 . members of both groups originally identified as southern baptist , but over time groups became permanent new families of baptists .\n",
            "Predicted Answer: 1987\n",
            "True Answer: 1987\n",
            "--------------------------------------------------\n",
            "Question: when was muso soseki born ?\n",
            "Context: as aristocrats for centuries , samurai developed their own cultures that influenced japanese culture as a whole . culture associated with samurai such as tea ceremony , monochrome ink painting , rock gardens and poetry were adopted by warrior patrons throughout centuries . these practices were adapted from chinese arts . zen monks introduced them to japan and they were allowed to flourish due to interest of powerful warrior elites . musō soseki ( ) was a zen monk who was advisor to both emperor go-daigo and general ashikaga takauji ( ) . musō , as well as other monks , acted as political and cultural diplomat between japan and china . musō was particularly well known for his garden design . another ashikaga patron of arts was yoshimasa . his cultural advisor , zen monk zeami , introduced tea ceremony to him . previously , tea had been used primarily for buddhist monks to stay awake during meditation .\n",
            "Predicted Answer: zen\n",
            "True Answer: 1275\n",
            "--------------------------------------------------\n",
            "Question: when was american declaration of independence issued ?\n",
            "Context: administration of lord north ( ) tried to defeat colonist rebellion by military force . british and american forces clashed in 1775 and , in 1776 , came american declaration of independence . burke was appalled by celebrations in britain of defeat of americans at new york and pennsylvania . he claimed english national character was being changed by this authoritarianism . burke wrote as to good people of england , they seem to partake every day more and more of character of that administration which they have been induced to tolerate . i am satisfied , that within a few years there has been a great change in national character . we seem no longer that eager , inquisitive , jealous , fiery people , which we have been formerly .\n",
            "Predicted Answer: 1776\n",
            "True Answer: 1776\n",
            "--------------------------------------------------\n",
            "Question: how many people died when valencia metro derailed ?\n",
            "Context: valencia metro derailment occurred on 3 july 2006 at 1 pm . cest ( 1100 utc ) between jesús and plaça d ' stations on line 1 of mass transit system . 43 people were killed and more than ten were seriously injured . it was not immediately clear what caused crash . both valencian government spokesman vicente rambla and mayor rita called accident a fortuitous event . however , trade union cc . oo . accused authorities of rushing to say anything but admit that line 1 is in a state of constant deterioration with a failure to carry out maintenance .\n",
            "Predicted Answer: \n",
            "True Answer: 43\n",
            "--------------------------------------------------\n",
            "Question: in what year did umar ibn ad al-aziz die ?\n",
            "Context: only umayyad ruler ( caliphs of damascus ) , umar ibn abd al-aziz , is unanimously praised by sunni sources for his devout piety and justice . in his efforts to spread islam he established liberties for mawali by abolishing jizya tax for converts to islam . imam abu muhammad adbullah ibn abdul hakam stated that umar ibn abd al-aziz also stopped personal allowance offered to his relatives stating that he could only give them an allowance if he gave an allowance to everyone else in empire . umar ibn abd al-aziz was later poisoned in year 720 . when successive governments tried to reverse umar ibn abd al-aziz ' s tax policies it created rebellion .\n",
            "Predicted Answer: jizya\n",
            "True Answer: 720\n",
            "--------------------------------------------------\n",
            "Question: in what year were twice as many glacial earthquakes seen than in any other year in greenland ?\n",
            "Context: in glaciated areas where glacier moves faster than one km per year , glacial earthquakes occur . these are large scale temblors that have seismic magnitudes as high as 6 . 1 . number of glacial earthquakes in greenland peaks every year in july , august and september and is increasing over time . in a study using data from january 1993 through october 2005 , more events were detected every year since 2002 , and twice as many events were recorded in 2005 as there were in any other year . this increase in numbers of glacial earthquakes in greenland may be a response to global warming .\n",
            "Predicted Answer: 2002\n",
            "True Answer: 2005\n",
            "--------------------------------------------------\n",
            "Question: what percentage of population of atlantic city was 65 years of age or older ?\n",
            "Context: in city population was spread out with 25 . under age of 18 , 8 . from 18 to 24 , 31 . from 25 to 44 , 20 . from 45 to 64 , and 14 . who were 65 years of age or older . median age was 35 years . for every 100 females there were 96 . 1 males . for every 100 females age 18 and over , there were 93 . 2 males .\n",
            "Predicted Answer: 45\n",
            "True Answer: 14 .\n",
            "--------------------------------------------------\n",
            "Question: what thus is level of economic incentive and benefit ?\n",
            "Context: a scientific study in journal , biological conservation , states that trophy hunting is of major importance to conservation in africa by creating economic incentives for conservation over vast areas , including areas which may be unsuitable for alternative land uses such as photographic ecotourism . however , another study states that less than of a trophy hunters ' expenditures reach local level , meaning that economic incentive and benefit is minimal , particularly when we consider vast areas of land that hunting concessions occupy .\n",
            "Predicted Answer: hunting\n",
            "True Answer: minimal\n",
            "--------------------------------------------------\n",
            "Question: how many major department stores did baltimore have at time ?\n",
            "Context: all major cities have their distinctive local department stores , which anchored downtown shopping district until arrival of malls in 1960s . washington , for example , after 1887 had woodward & lothrop and garfinckel ' s starting in 1905 . garfield ' s went bankrupt in 1990 , as did woodward & lothrop in 1994 . baltimore had four major department stores hutzler ' s was prestige leader , followed by hecht ' s , hochschild ' s and stewart ' s . they all operated branches in suburbs , but all closed in late twentieth century . by 2015 , most locally owned department stores around country had been consolidated into larger chains , or had closed down entirely .\n",
            "Predicted Answer: 1887\n",
            "True Answer: four\n",
            "--------------------------------------------------\n",
            "Question: when was living learning center accredited as a living building ?\n",
            "Context: tyson research center is a 2 , ( 809 ha ) field station located west of st . louis on meramec river . washington university obtained tyson as surplus property from federal government in 1963 . it is used by university as a biological field station and center . in 2010 living learning center was named one of first two buildings accredited nationwide as a living building under living building challenge , opened to serve as a biological research station and classroom for summer students .\n",
            "Predicted Answer: 1963\n",
            "True Answer: 2010\n",
            "--------------------------------------------------\n",
            "Question: in what year was great fire ?\n",
            "Context: starting as a fishing outpost for european fishermen , st . john ' s consisted mostly of homes of fishermen , sheds , storage shacks , and wharves constructed out of wood . like many other cities of time , as industrial revolution took hold and new methods and materials for construction were introduced , landscape changed as city grew in width and height . great fire of 1892 destroyed most of downtown core , and most residential and other wood-frame buildings date from this period .\n",
            "Predicted Answer: 1892\n",
            "True Answer: 1892\n",
            "--------------------------------------------------\n",
            "Question: what country had most conflicts from 1500s through mid 20th century ?\n",
            "Context: referring to great power relations pre-1960 , joshua baron highlights that starting from around 16th century and rise of several european great powers , military conflicts and confrontations was defining characteristic of diplomacy and relations between such powers . between 1500 and 1953 , there were 64 wars in which at least one great power was opposed to another , and they averaged little more than five years in length . in approximately a 450-year time frame , on average at least two great powers were fighting one another in each and every year . even during period of pax britannica ( or british peace ) between 1815 and 1914 , war and military confrontations among great powers was still a frequent occurrence . in fact , joshua baron points out that , in terms of militarized conflicts or confrontations , uk led way in this period with nineteen such instances against russia ( 8 ) , france ( 5 ) , ( 5 ) and italy ( 1 ) .\n",
            "Predicted Answer: 1953\n",
            "True Answer: uk\n",
            "--------------------------------------------------\n",
            "Question: what do many birds use as a compass ?\n",
            "Context: navigation is based on a variety of senses . many birds have been shown to use a sun compass . using sun for direction involves need for making compensation based on time . navigation has also been shown to be based on a combination of other abilities including ability to detect magnetic fields ( ) , use visual landmarks as well as olfactory cues .\n",
            "Predicted Answer: birds\n",
            "True Answer: sun\n",
            "--------------------------------------------------\n",
            "Question: early courts ' military conscription broke down around what year ?\n",
            "Context: under early courts , when military conscription had been centrally controlled , military affairs had been taken out of hands of provincial aristocracy . but as system broke down after 792 , local power holders again became primary source of military strength . re-establishment of an efficient military system was made gradually through a process of trial-and-error . at that time imperial court did not possess an army but rather relied on an organization of professional warriors composed mainly of , which were appointed to an individual province and , which were appointed over imperial circuits or for specific tasks . this gave rise to japanese military class . nonetheless final authority rested with imperial court .\n",
            "Predicted Answer: 792\n",
            "True Answer: 792\n",
            "--------------------------------------------------\n",
            "Question: festival of diwali is a tradition of what faith ?\n",
            "Context: hyderabad emerged as foremost centre of culture in india with decline of mughal empire . after fall of delhi in 1857 , migration of performing artists to city particularly from north and west of indian sub continent , under patronage of nizam , enriched cultural milieu . this migration resulted in a mingling of north and south indian languages , cultures and religions , which has since led to a co-existence of hindu and muslim traditions , for which city has become noted . viii a further consequence of this mix is that both telugu and urdu are official languages of telangana . mixing of religions has also resulted in many festivals being celebrated in hyderabad such as ganesh chaturthi , diwali and of hindu tradition and eid ul-fitr and eid al-adha by muslims .\n",
            "Predicted Answer: 1857\n",
            "True Answer: hindu\n",
            "--------------------------------------------------\n",
            "Question: into how many groups are germanic languages usually split ?\n",
            "Context: germanic languages are traditionally divided into three groups west , east and north germanic . they remained mutually intelligible throughout migration period . dutch is together with english and german part of west germanic group , that is characterized by a number of phonological and morphological innovations not found in north and east germanic . west germanic varieties of time are generally split into three dialect groups ( north sea germanic ) , ( germanic ) and ( elbe germanic ) . it appears that frankish tribes fit primarily into dialect group with certain influences towards northwest , still seen in modern dutch .\n",
            "Predicted Answer: three\n",
            "True Answer: three\n",
            "--------------------------------------------------\n",
            "Question: how many games could you buy to go with your ps3 when it launched in north america ?\n",
            "Context: playstation 3 launched in north america with 14 titles , with another three being released before end of 2006 . after first week of sales it was confirmed that resistance fall of man from insomniac games was top-selling launch game in north america . game was heavily praised by numerous video game websites , including gamespot and ign , both of whom awarded it their playstation 3 game of year award for 2006 . some titles missed launch window and were delayed until early 2007 , such as elder scrolls iv oblivion , f . e . a . r . and sonic hedgehog . during japanese launch , ridge racer 7 was top-selling game , while mobile suit gundam crossfire also fared well in sales , both of which were offerings from namco bandai games . playstation 3 launched in europe with 24 titles , including ones that were not offered in north american and japanese launches , such as formula one championship edition , motorstorm and virtua fighter 5 . resistance fall of man and motorstorm were most successful titles of 2007 , and both games subsequently received sequels in form of resistance 2 and motorstorm pacific rift .\n",
            "Predicted Answer: 2006\n",
            "True Answer: 14\n",
            "--------------------------------------------------\n",
            "Question: what year did romans invade britain ?\n",
            "Context: archaeological finds suggest that area has been inhabited since stone age . following roman invasion of britain in ad 43 and conquering of local britons in 70 ad fortress settlement of was established . it was an important trading port and defensive outpost of winchester , at site of modern bitterne manor . was defended by a wall and two ditches and is thought to have contained a bath house . was not abandoned until around 410 .\n",
            "Predicted Answer: 43\n",
            "True Answer: ad 43\n",
            "--------------------------------------------------\n",
            "Question: how many us house reps did oklahoma have after 2000 census ?\n",
            "Context: following 2000 census , oklahoma delegation to u . s . house of representatives was reduced from six to five representatives , each serving one congressional district . for 112th congress ( ) , there were no changes in party strength , and delegation included four republicans and one democrat . in 112th congress , oklahoma ' s u . s . senators were republicans jim inhofe and tom coburn , and its u . s . representatives were john sullivan ( ) , dan boren ( ) , frank d . lucas ( ) , tom cole ( ) , and james lankford ( ) .\n",
            "Predicted Answer: four\n",
            "True Answer: five\n",
            "--------------------------------------------------\n",
            "Question: what are parts of quran called that are 30 in total ?\n",
            "Context: in beginning , quran did not have vocalization markings . system of vocalization , as we know it today , seems to have been introduced towards end of ninth century . since it would have been too costly for most muslims to purchase a manuscript , copies of quran were held in mosques in order to make them accessible to people . these copies frequently took form of a series of 30 parts or . in terms of productivity , ottoman copyists provide best example . this was in response to widespread demand , unpopularity of printing methods and for aesthetic reasons .\n",
            "Predicted Answer: 30\n",
            "True Answer: \n",
            "--------------------------------------------------\n",
            "Question: in what year did eisenhower die ?\n",
            "Context: last three years of eisenhower ' s second term in office were ones of relatively good health . eventually after leaving white house , he suffered several additional and ultimately crippling heart attacks . a severe heart attack in august 1965 largely ended his participation in public affairs . in august 1966 he began to show symptoms of cholecystitis , for which he underwent surgery on december 12 , 1966 , when his gallbladder was removed , containing 16 gallstones . after eisenhower ' s death in 1969 ( see below ) , an autopsy unexpectedly revealed an adrenal pheochromocytoma , a benign tumor that may have made president more vulnerable to heart disease . eisenhower suffered seven heart attacks in total from 1955 until his death .\n",
            "Predicted Answer: 1965\n",
            "True Answer: 1969\n",
            "--------------------------------------------------\n",
            "Question: melbourne statistical division population has grown by how many people each year since 2005 ?\n",
            "Context: over two-thirds of melburnians speak only english at home ( 68 . ) . chinese ( mainly cantonese and mandarin ) is language spoken at home ( 3 . ) , with greek third , italian fourth and vietnamese fifth , each with more than 100 , 000 speakers . although victoria ' s net interstate migration has fluctuated , population of melbourne statistical division has grown by about 70 , 000 people a year since 2005 . melbourne has now attracted largest proportion of international overseas immigrants ( 48 , 000 ) finding it outpacing sydney ' s international migrant intake on percentage , along with having strong interstate migration from sydney and other capitals due to more affordable housing and cost of living .\n",
            "Predicted Answer: \n",
            "True Answer: 70 , 000\n",
            "--------------------------------------------------\n",
            "Question: what company produces more coffee than any other in samoa ?\n",
            "Context: staple products of samoa are copra ( dried coconut meat ) , cocoa bean ( for chocolate ) , and bananas . annual production of both bananas and copra has been in range of 13 , 000 to 15 , 000 metric tons ( about 14 , 500 to 16 , 500 short tons ) . if rhinoceros beetle in samoa were eradicated , samoa could produce in excess of 40 , 000 metric tons ( 44 , 000 short tons ) of copra . samoan cocoa beans are of very high quality and used in fine new zealand chocolates . most are hybrids . coffee grows well , but production has been uneven . is biggest coffee producer . rubber has been produced in samoa for many years , but its export value has little impact on economy .\n",
            "Predicted Answer: \n",
            "True Answer: \n",
            "--------------------------------------------------\n",
            "Question: what district is capital of ?\n",
            "Context: capital village of each district administers and coordinates affairs of district and confers each district ' s paramount title , amongst other responsibilities . for example , district of a ' ana has its capital at . paramount title of a ' ana is tuia ' ana . orator group which confers this title – ( house of nine ) – is based at . this is also same for other districts . in district of , paramount title of district – malietoa title – is conferred by based in .\n",
            "Predicted Answer: nine\n",
            "True Answer: a ' ana\n",
            "--------------------------------------------------\n",
            "Question: what state is dayton power and light company located ?\n",
            "Context: in same year first turbogenerator went into service with gaseous hydrogen as a coolant in rotor and stator in 1937 at dayton , ohio , by dayton power & light co . because of thermal conductivity of hydrogen gas , this is most common type in its field today .\n",
            "Predicted Answer: 1937\n",
            "True Answer: ohio\n",
            "--------------------------------------------------\n",
            "Question: when did houston receive a ranking in top of kiplinger ' s best cities list ?\n",
            "Context: in 2008 , houston received top ranking on kiplinger ' s personal finance best cities of 2008 list , which ranks cities on their local economy , employment opportunities , reasonable living costs , and quality of life . city ranked fourth for highest increase in local technological innovation over preceding 15 years , according to forbes magazine . in same year , city ranked second on annual fortune 500 list of company headquarters , first for forbes magazine ' s best cities for college graduates , and first on their list of best cities to buy a home . in 2010 , city was rated best city for shopping , according to forbes .\n",
            "Predicted Answer: forbes magazine . in same year , city ranked second on annual fortune 500 list of company headquarters , first for forbes\n",
            "True Answer: 2008\n",
            "--------------------------------------------------\n",
            "Question: when was peirce born ?\n",
            "Context: charles peirce ( ) was highly influential in laying groundwork for today ' s empirical scientific method . although peirce severely criticized many elements of descartes ' peculiar brand of rationalism , he did not reject rationalism outright . indeed , he concurred with main ideas of rationalism , most importantly idea that rational concepts can be meaningful and idea that rational concepts necessarily go beyond data given by empirical observation . in later years he even emphasized side of then ongoing debate between strict empiricism and strict rationalism , in part to counterbalance excesses to which some of his cohorts had taken pragmatism under data-driven view .\n",
            "Predicted Answer: peirce\n",
            "True Answer: 1839\n",
            "--------------------------------------------------\n",
            "Question: how many people can sit in audience at eton ' s main theatre ?\n",
            "Context: numerous plays are put on every year at eton college there is one main theatre , called farrer ( seating 400 ) and 2 studio theatres , called caccia studio and empty space ( seating 90 and 80 respectively ) . there are about 8 or 9 house productions each year , around 3 or 4 independent plays ( not confined solely to one house , produced , directed and funded by etonians ) and three school plays , one specifically for boys in first two years , and two open to all years . school plays have such good reputations that they are normally fully booked every night . productions also take place in varying locations around school , varying from sports fields to more historic buildings such as upper school and college chapel .\n",
            "Predicted Answer: \n",
            "True Answer: 400\n",
            "--------------------------------------------------\n",
            "Question: what genre of music was was listening to by a different demographic than hard rock ?\n",
            "Context: radio stations played top 40 hits regardless of genre although , most were in same genre until mid-1970s when different forms of popular music started to target different demographic groups , such as disco vs . hard rock . this evolved into specialized radio stations that played specific genres of music , and generally followed evolution of artists in those genres .\n",
            "Predicted Answer: mid-1970s\n",
            "True Answer: disco\n",
            "--------------------------------------------------\n",
            "Question: how much money did preview showings generate in us and canada ?\n",
            "Context: in united states and canada , film opened on 6 november 2015 , and in its opening weekend , was originally projected to gross million from 3 , 927 screens , widest release for a bond film . however , after grossing . 25 million from its early thursday night showings and million on its opening day , weekend projections were increased to million . film ended up grossing . 4 million in its opening weekend ( about million less than skyfall ' s . 6 million debut , including imax previews ) , but nevertheless finished first at box office . imax generated . 1 million for spectre at 374 screens , premium large format made million from 429 cinemas , reaping of film ' s opening , which means that spectre earned . 1 million ( ) of its opening weekend total in large-format venues . cinemark xd generated . 85 million in 112 xd locations .\n",
            "Predicted Answer: 374\n",
            "True Answer: . 25\n",
            "--------------------------------------------------\n",
            "Question: what ethnic group has a tiny population in guinea-bissau ?\n",
            "Context: portuguese natives comprise a very small percentage of . after guinea-bissau gained independence , most of portuguese nationals left country . country has a tiny chinese population . these include traders and merchants of mixed portuguese and chinese ancestry from macau , a former asian portuguese colony .\n",
            "Predicted Answer: macau\n",
            "True Answer: chinese\n",
            "--------------------------------------------------\n",
            "Question: who writes and creates most of her own music ?\n",
            "Context: throughout her career madonna has been involved in writing and producing most of her own music . madonna ' s early songwriting skill was developed during her time with breakfast club in 1979 . according to author carol , her first attempts at songwriting are perceived as an important self-revelation , as madonna said i don ' t know where came from . it was like magic . i ' d write a song every day . i said ' wow , i was meant to do this ' . mark kamins , her first producer , believed that madonna is a much underrated musician and lyricist . rolling stone has named her an exemplary songwriter with a gift for hooks and indelible lyrics . according to freya , madonna ' s talent for developing incredible hooks for her songs allows lyrics to capture attention of audience , even without influence of music . as an example , cites 1985 single into groove and its line live out your fantasy here with me , just let music set you free touch my body , and move in time , now i know you ' re mine . madonna ' s songwriting are often autobiographical over years , dealing with various themes from love and relationships to self-respect and female empowerment . her songs also speak about taboo and unconventional issues of their period\n",
            "Predicted Answer: 1979\n",
            "True Answer: madonna\n",
            "--------------------------------------------------\n",
            "Question: how many weeks will 2016 regular season last ?\n",
            "Context: league ' s 2016 schedule , announced on league ' s website on december 10 , 2015 , shows an eight-team league playing a 16-game regular season over 18 weeks , with two bye weeks for each team , one on a rotational basis and other a universal bye for all teams during independence day weekend , first weekend in july . all teams will qualify for postseason , meaning that regular season will serve only to establish seeding .\n",
            "Predicted Answer: \n",
            "True Answer: 18\n",
            "--------------------------------------------------\n",
            "Question: what is thunders mascot ?\n",
            "Context: oklahoma city thunder of national basketball association ( nba ) has called oklahoma city home since season , when owner clayton bennett relocated franchise from seattle , washington . thunder plays home games at chesapeake energy arena in downtown oklahoma city , known affectionately in national media as ' peake ' and ' loud city ' . thunder is known by several nicknames , including okc thunder and simply okc , and its mascot is rumble bison .\n",
            "Predicted Answer: bison\n",
            "True Answer: bison\n",
            "--------------------------------------------------\n",
            "Question: in what year did student paper common sense begin publication at notre dame ?\n",
            "Context: as at most other universities , notre dame ' s students run a number of news media outlets . nine student-run outlets include three newspapers , both a radio and television station , and several magazines and journals . begun as a one-page journal in september 1876 , scholastic magazine is issued twice monthly and claims to be oldest continuous collegiate publication in united states . other magazine , juggler , is released twice a year and focuses on student literature and artwork . dome yearbook is published annually . newspapers have varying publication interests , with observer published daily and mainly reporting university and other news , and staffed by students from both notre dame and saint mary ' s college . unlike scholastic and dome , observer is an independent publication and does not have a faculty advisor or any editorial oversight from university . in 1987 , when some students believed that observer began to show a conservative bias , a liberal newspaper , common sense was published . likewise , in 2003 , when other students believed that paper showed a liberal bias , conservative paper irish rover went into production . neither paper is published as often as observer however , all three are distributed to all students . finally , in spring 2008 an undergraduate journal for political science research , beyond politics , made its\n",
            "Predicted Answer: 1987\n",
            "True Answer: 1987\n",
            "--------------------------------------------------\n",
            "Question: during which decade did ge start computers ?\n",
            "Context: it has been said that ge got into computer manufacturing because in 1950s they were largest user of computers outside united states federal government , aside from being first business in world to own a computer . its major appliance manufacturing plant appliance park was first non-governmental site to host one . however , in 1970 , ge sold its computer division to honeywell , exiting computer manufacturing industry , though it retained its timesharing operations for some years afterwards . ge was a major provider of computer timesharing services , through general electric information services ( geis , now ) , offering online computing services that included genie .\n",
            "Predicted Answer: 1950s\n",
            "True Answer: 1950s\n",
            "--------------------------------------------------\n",
            "Question: what type of wood did edison use in his improved filament ?\n",
            "Context: thomas edison began serious research into developing a practical incandescent lamp in 1878 . edison filed his first patent application for improvement in electric lights on 14 october 1878 . after many experiments , first with carbon in early 1880s and then with platinum and other metals , in end edison returned to a carbon filament . first successful test was on 22 october 1879 , and lasted 13 . 5 hours . edison continued to improve this design and by 4 november 1879 , filed for a us patent for an electric lamp using a carbon filament or strip coiled and connected . . . to platina contact wires . although patent described several ways of creating carbon filament including using cotton and linen thread , wood splints , papers coiled in various ways , edison and his team later discovered that a carbonized bamboo filament could last more than 1200 hours . in 1880 , oregon railroad and navigation company steamer , columbia , became first application for edison ' s incandescent electric lamps ( it was also first ship to execute use of a dynamo ) .\n",
            "Predicted Answer: 1878\n",
            "True Answer: bamboo\n",
            "--------------------------------------------------\n",
            "Question: how many med schools are there ?\n",
            "Context: city ' s largest private school by number of students is temple university , followed by drexel university . along with university of pennsylvania , temple university and drexel university make up city ' s major research universities . city is also home to five schools of medicine drexel university college of medicine , perelman school of medicine at university of pennsylvania , philadelphia college of osteopathic medicine , temple university school of medicine , and thomas jefferson university . hospitals , universities , and higher education research institutions in philadelphia ' s four congressional districts received more than million in national institutes of health grants in 2015 .\n",
            "Predicted Answer: four\n",
            "True Answer: five\n",
            "--------------------------------------------------\n",
            "Question: what was designation name of sperry device in us ?\n",
            "Context: in 1925 british adopted a new instrument developed by vickers . it was a mechanical analogue computer predictor aa no 1 . given target height its operators tracked target and predictor produced bearing , quadrant elevation and fuse setting . these were passed electrically to guns where they were displayed on repeater dials to layers who ' matched pointers ' ( target data and gun ' s actual data ) to lay guns . this system of repeater electrical dials built on arrangements introduced by british coast artillery in 1880s , and coast artillery was background of many aa officers . similar systems were adopted in other countries and for example later sperry device , designated in us was also used by britain as predictor aa no 2 . height finders were also increasing in size , in britain , world war i barr & stroud ub 2 ( 7 feet optical base ) was replaced by ub 7 ( 9 feet optical base ) and ub 10 ( 18 feet optical base , only used on static aa sites ) . goertz in germany and levallois in france produced 5 metre instruments . however , in most countries main effort in haa guns until mid-1930s was improving existing ones , although various new designs were on drawing boards .\n",
            "Predicted Answer: 1925\n",
            "True Answer: \n",
            "--------------------------------------------------\n",
            "Question: when was lauberhorn ran for first time on lauberhorn above wengen ?\n",
            "Context: in first half of 20th century olympic winter games were held three times in alpine venues 1924 winter olympics in chamonix , france 1928 winter olympics in st . moritz , switzerland and 1936 winter olympics in garmisch-partenkirchen , germany . during world war ii winter games were canceled but after that time winter games have been held in st . moritz ( 1948 ) , cortina d ' ( 1956 ) , innsbruck , austria ( 1964 and 1976 ) , grenoble , france , ( 1968 ) , albertville , france , ( 1992 ) , and torino ( 2006 ) . in 1930 lauberhorn ( lauberhorn race ) , was run for first time on lauberhorn above wengen equally demanding hahnenkamm was first run in same year in , austria . both races continue to be held each january on successive weekends . lauberhorn is more strenuous downhill race at 4 . 5 km ( 2 . 8 mi ) and poses danger to racers who reach 130 km/h ( 81 mph ) within seconds of leaving start gate .\n",
            "Predicted Answer: 1976\n",
            "True Answer: 1930\n",
            "--------------------------------------------------\n",
            "Question: when did australia have a banking crisis ?\n",
            "Context: a brash boosterism that had typified melbourne during this time ended in early 1890s with a severe depression of city ' s economy , sending local finance and property industries into a period of chaos during which 16 small land banks and building societies collapsed , and 133 limited companies went into liquidation . melbourne financial crisis was a contributing factor in australian economic depression of 1890s and australian banking crisis of 1893 . effects of depression on city were profound , with virtually no new construction until late 1890s .\n",
            "Predicted Answer: 133\n",
            "True Answer: 1893 .\n",
            "--------------------------------------------------\n",
            "Question: what band did kanye tour with for a year ?\n",
            "Context: fresh off spending previous year touring world with u2 on their vertigo tour , west felt inspired to compose anthemic rap songs that could operate more efficiently in large arenas . to this end , west incorporated synthesizer into his hip-hop production , utilized slower tempos , and experimented with electronic music and influenced by music of 1980s . in addition to u2 , west drew musical inspiration from arena rock bands such as rolling stones and led zeppelin in terms of melody and chord progression . to make his next effort , third in a planned tetralogy of studio albums , more introspective and personal in lyricism , west listened to folk and country singer-songwriters bob dylan and johnny cash in hopes of developing methods to augment his wordplay and storytelling ability .\n",
            "Predicted Answer: u2\n",
            "True Answer: u2\n",
            "--------------------------------------------------\n",
            "Question: historians suspected that john was at best what ?\n",
            "Context: john ' s lack of religious conviction has been noted by contemporary chroniclers and later historians , with some suspecting that john was at best impious , or even atheistic , a very serious issue at time . contemporary chroniclers catalogued his various anti-religious habits at length , including his failure to take communion , his blasphemous remarks , and his witty but scandalous jokes about church doctrine , including jokes about implausibility of resurrection . they commented on paucity of john ' s charitable donations to church . historian frank mclynn argues that john ' s early years at , combined with his relatively advanced education , may have turned him against church . other historians have been more cautious in interpreting this material , noting that chroniclers also reported john ' s personal interest in life of st wulfstan of worcester and his friendships with several senior clerics , most especially with hugh of lincoln , who was later declared a saint . financial records show a normal royal household engaged in usual feasts and pious observances – albeit with many records showing john ' s offerings to poor to atone for routinely breaking church rules and guidance . historian lewis warren has argued that chronicler accounts were subject to considerable bias and king was at least conventionally devout , citing his pilgrimages and interest in religious scripture and commentaries .\n",
            "Predicted Answer: mclynn\n",
            "True Answer: impious\n",
            "--------------------------------------------------\n",
            "Question: how many bombers hit birmingham ?\n",
            "Context: five nights later , birmingham was hit by 369 bombers from kg 54 , kg 26 , and kg 55 . by end of november , 1 , 100 bombers were available for night raids . an average of 200 were able to strike per night . this weight of attack went on for two months , with luftwaffe dropping 13 , 900 short tons ( 12 , 600 t ) of bombs . in november 1940 , 6 , 000 sorties and 23 major attacks ( more than 100 tons of bombs dropped ) were flown . two heavy ( 50 short tons ( 45 t ) of bombs ) attacks were also flown . in december , only 11 major and five heavy attacks were made .\n",
            "Predicted Answer: 1940 , 6 , 000\n",
            "True Answer: 369\n",
            "--------------------------------------------------\n",
            "Question: serialization of comics became less popular when ?\n",
            "Context: from 1980s , mainstream sensibilities were reasserted and serialization became less common as number of comics magazines decreased and many comics began to be published directly as albums . smaller publishers such as l ' association that published longer works in non-traditional formats by creators also became common . since 1990s , mergers resulted in fewer large publishers , while smaller publishers proliferated . sales overall continued to grow despite trend towards a shrinking print market .\n",
            "Predicted Answer: 1990s\n",
            "True Answer: 1980s\n",
            "--------------------------------------------------\n",
            "Question: what country was top producer of copper in 2005 ?\n",
            "Context: most copper is mined or extracted as copper sulfides from large open pit mines in porphyry copper deposits that contain 0 . 4 to 1 . copper . examples include chuquicamata in chile , bingham canyon mine in utah , united states and el chino mine in new mexico , united states . according to british geological survey , in 2005 , chile was top mine producer of copper with at least one-third world share followed by united states , indonesia and peru . copper can also be recovered through in-situ leach process . several sites in state of arizona are considered prime candidates for this method . amount of copper in use is increasing and quantity available is barely sufficient to allow all countries to reach developed world levels of usage .\n",
            "Predicted Answer: 2005\n",
            "True Answer: chile\n",
            "--------------------------------------------------\n",
            "Question: what is arabic term for surface-level aspects of a text ?\n",
            "Context: commentaries dealing with zahir ( outward aspects ) of text are called tafsir , and hermeneutic and esoteric commentaries dealing with batin are called ta ' wil ( interpretation or explanation ) , which involves taking text back to its beginning . commentators with an esoteric slant believe that ultimate meaning of quran is known only to god . in contrast , quranic literalism , followed by salafis and , is belief that quran should only be taken at its apparent meaning .\n",
            "Predicted Answer: zahir\n",
            "True Answer: zahir\n",
            "--------------------------------------------------\n",
            "Question: what percentage of college-age citizens attend a higher education institution in united states ?\n",
            "Context: total adult literacy rate is 99 percent . portuguese primary school enrollments are close to 100 percent . according to oecd ' s programme for international student assessment ( pisa ) 2009 , average portuguese 15-year-old student , when rated in terms of reading literacy , mathematics and science knowledge , is placed at same level as those students from united states , sweden , germany , ireland , france , denmark , united kingdom , hungary and taipei , with 489 points ( 493 is average ) . over of college-age citizens ( 20 years old ) attend one of country ' s higher education institutions ( compared with in united states and in oecd countries ) . in addition to being a destination for international students , portugal is also among top places of origin for international students . all higher education students , both domestic and international , totaled 380 , 937 in 2005 .\n",
            "Predicted Answer: 15-year-old\n",
            "True Answer: \n",
            "--------------------------------------------------\n",
            "Question: how much did snes cost in uk ?\n",
            "Context: on august 23 , 1991 , nintendo released super nintendo entertainment system , a redesigned version of super famicom , in north america for . snes was released in united kingdom and ireland in april 1992 for , with a german release following a few weeks later . most of pal region versions of console use japanese super famicom design , except for labeling and length of joypad leads . super nes in brazil , although pal , uses north american design . both nes and snes were released in brazil in 1993 by , a joint venture between toy company estrela and consumer electronics company .\n",
            "Predicted Answer: 1991\n",
            "True Answer: \n",
            "--------------------------------------------------\n",
            "Question: in what year did queen win an mtv award ?\n",
            "Context: queen ' s popularity was stimulated in north america when bohemian rhapsody was featured in 1992 comedy film wayne ' s world . its inclusion helped song reach number two on billboard hot 100 for five weeks in 1992 ( it remained in hot 100 for over 40 weeks ) , and won band an mtv award at 1992 mtv video music awards . compilation album classic queen also reached number four on billboard 200 , and is certified three times platinum in us . wayne ' s world footage was used to make a new music video for bohemian rhapsody , with which band and management were delighted .\n",
            "Predicted Answer: four\n",
            "True Answer: 1992\n",
            "--------------------------------------------------\n",
            "Question: what year did king become first hip hop artist to win an apra silver scroll ?\n",
            "Context: in music , popular local bands include five stars , penina o and ' a . sisters ' cover of song sweet inspiration reached number one on new zealand charts in 1974 . king was first hip hop artist to receive prestigious new zealand apra silver scroll award in 1999 for his song reverse resistance . music video for reverse resistance was filmed in ' i at his villages . other successful samoan hip hop artists include rapper scribe , dei hamo , savage and tha whose music video was filmed in samoa .\n",
            "Predicted Answer: 1999\n",
            "True Answer: 1999\n",
            "--------------------------------------------------\n",
            "Question: when did median tribes unify under a single ruler to form median empire ?\n",
            "Context: from late 10th to late 7th centuries bc , iranian peoples , together with kingdoms , fell under domination of assyrian empire , based in northern mesopotamia . under king cyaxares , medes and persians entered into an alliance with nabopolassar of babylon , as well as scythians and cimmerians , and together they attacked assyrian empire . civil war ravaged assyrian empire between 616 bc and 605 bc , thus freeing their respective peoples from three centuries of assyrian rule . unification of median tribes under a single ruler in 728 bc led to foundation of median empire which , by 612 bc , controlled whole iran and eastern anatolia . this marked end of kingdom of urartu as well , which was subsequently conquered and dissolved .\n",
            "Predicted Answer: 728\n",
            "True Answer: 728 bc\n",
            "--------------------------------------------------\n",
            "Question: what year did free media outlets begin to expand ?\n",
            "Context: in early 2000s , print media in somalia reached a peak in activity . around 50 newspapers were published in mogadishu alone during this period , including , mogadishu times , sana ' a , shabelle press , , , sky sport , goal , nation , , panorama , , and . in 2003 , as new free electronic media outlets started to proliferate , advertisers increasingly began switching over from print ads to radio and online commercials in order to reach more customers . a number of broadsheets in circulation subsequently closed down operations , as they were no longer able to cover printing costs in face of electronic revolution . in 2012 , political doon and and sports were reportedly last remaining newspapers printed in capital . according to issa farah , a former editor with broadsheet , newspaper publishing in somalia is likely to experience a resurgence if national somali printing press is re-opened and sector is given adequate public support .\n",
            "Predicted Answer: 2000s\n",
            "True Answer: 2003\n",
            "--------------------------------------------------\n",
            "Question: in meters , how high were 2008 floods ?\n",
            "Context: in 2008 , extreme waves and high tides caused widespread flooding in capital city of majuro and other urban centres , 3 feet ( 0 . 91 m ) above sea level . on christmas morning in 2008 , government declared a state of emergency . in 2013 , heavy waves once again breached city walls of majuro .\n",
            "Predicted Answer: 0\n",
            "True Answer: 0 . 91\n",
            "--------------------------------------------------\n",
            "Question: how many photographs are in byu ' s museum of peoples and cultures ?\n",
            "Context: campus is home to several museums containing exhibits from many different fields of study . byu ' s museum of art , for example , is one of largest and most attended art museums in mountain west . this museum aids in academic pursuits of students at byu via research and study of artworks in its collection . museum is also open to general public and provides educational programming . museum of peoples and cultures is a museum of archaeology and ethnology . it focuses on native cultures and artifacts of great basin , american southwest , mesoamerica , peru , and polynesia . home to more than 40 , 000 artifacts and 50 , 000 photographs , it documents byu ' s archaeological research . byu museum of paleontology was built in 1976 to display many fossils found by byu ' s dr . james a . jensen . it holds many artifacts from jurassic period ( million years ago ) , and is one of top five collections in world of fossils from that time period . it has been featured in magazines , newspapers , and on television internationally . museum receives about 25 , 000 visitors every year . monte l . bean life science museum was formed in 1978 . it features several forms of plant and animal life on display and available for research by students\n",
            "Predicted Answer: 1976\n",
            "True Answer: 50 , 000\n",
            "--------------------------------------------------\n",
            "Question: has world seen many or few changes in observation of dst ?\n",
            "Context: since then , world has seen many enactments , adjustments , and repeals . for specific details , an overview is available at daylight saving time by country .\n",
            "Predicted Answer: enactments\n",
            "True Answer: many\n",
            "--------------------------------------------------\n",
            "Question: in what year did british take swaziland on as a protectorate ?\n",
            "Context: in 1903 , after british victory in anglo-boer war , swaziland became a british protectorate . much of its early administration ( for example , postal services ) being carried out from south africa until 1906 when transvaal colony was granted self-government . following this , swaziland was partitioned into european and non-european ( or native reserves ) areas with former being two-thirds of total land . sobhuza ' s official coronation was in december 1921 after regency of after which he led an unsuccessful deputation to privy council in london in 1922 regarding issue of land .\n",
            "Predicted Answer: 1906\n",
            "True Answer: 1903\n",
            "--------------------------------------------------\n",
            "Question: in what city did tommy flowers work in 1930s ?\n",
            "Context: purely electronic circuit elements soon replaced their mechanical and electromechanical equivalents , at same time that digital calculation replaced analog . engineer tommy flowers , working at post office research station in london in 1930s , began to explore possible use of electronics for telephone exchange . experimental equipment that he built in 1934 went into operation 5 years later , converting a portion of telephone exchange network into an electronic data processing system , using thousands of vacuum tubes . in us , john vincent atanasoff and clifford e . berry of iowa state university developed and tested computer ( abc ) in 1942 , first automatic electronic digital computer . this design was also all-electronic and used about 300 vacuum tubes , with capacitors fixed in a mechanically rotating drum for memory .\n",
            "Predicted Answer: 1942\n",
            "True Answer: london\n",
            "--------------------------------------------------\n",
            "Question: which characteristic of capital letters made it easy to remember .\n",
            "Context: terms upper case and lower case can be written as two consecutive words , connected with a hyphen ( upper-case and lower-case ) , or as a single word ( uppercase and lowercase ) . these terms originated from common layouts of shallow drawers called type cases used to hold movable type for letterpress printing . traditionally , capital letters were stored in a separate case that was located above case that held small letters , and name proved easy to remember since capital letters are taller .\n",
            "Predicted Answer: two consecutive words , connected with a hyphen ( upper-case and lower-case ) , or as a single word ( uppercase and lowercase ) . these terms originated from common layouts of shallow drawers called type cases used to hold movable type for letterpress printing . traditionally , capital letters were stored in a separate case that was located above case that held small letters , and name proved easy to remember since capital letters are taller\n",
            "True Answer: taller\n",
            "--------------------------------------------------\n",
            "Question: in what year did crusades begin ?\n",
            "Context: during high middle ages , which began after 1000 , population of europe increased greatly as technological and agricultural innovations allowed trade to flourish and medieval warm period climate change allowed crop yields to increase . , organisation of peasants into villages that owed rent and labour services to nobles , and feudalism , political structure whereby knights and nobles owed military service to their overlords in return for right to rent from lands and manors , were two of ways society was organised in high middle ages . crusades , first preached in 1095 , were military attempts by western european christians to regain control of holy land from muslims . kings became heads of centralised nation states , reducing crime and violence but making ideal of a unified christendom more distant . intellectual life was marked by scholasticism , a philosophy that emphasised joining faith to reason , and by founding of universities . theology of thomas aquinas , paintings of giotto , poetry of dante and chaucer , travels of marco polo , and architecture of gothic cathedrals such as chartres are among outstanding achievements toward end of this period , and into late middle ages .\n",
            "Predicted Answer: 1000\n",
            "True Answer: 1095\n",
            "--------------------------------------------------\n",
            "Question: how much of bronx ' s population is non-hispanic asian ?\n",
            "Context: according to 2010 census , 53 . of bronx ' s population was of hispanic , latino , or spanish origin ( they may be of any race ) 30 . non-hispanic black or african american , 10 . of population was non-hispanic white , 3 . non-hispanic asian , 0 . from some other race ( non-hispanic ) and 1 . of two or more races ( non-hispanic ) . u . s . census considers bronx to be most diverse area in country . there is an 89 . 7 percent chance that any two residents , chosen at random , would be of different race or ethnicity .\n",
            "Predicted Answer: 30\n",
            "True Answer: 3 .\n",
            "--------------------------------------------------\n",
            "Question: what fraction of japanese garrison on mili died due to hunger ?\n",
            "Context: battle in marshall islands caused irreparable damage , especially on japanese bases . during american bombing , islands ' population suffered from lack of food and various injuries . u . s . attacks started in mid-1943 , and caused half japanese garrison of 5 , 100 people in atoll mili to die from hunger by august 1945 .\n",
            "Predicted Answer: \n",
            "True Answer: half\n",
            "--------------------------------------------------\n",
            "Question: how many departments are there in department of defense ?\n",
            "Context: u . s . air force is a military service organized within department of air force , one of three military departments of department of defense . air force is headed by civilian secretary of air force , who reports to secretary of defense , and is appointed by president with senate confirmation . highest-ranking military officer in department of air force is chief of staff of air force , who exercises supervision over air force units , and serves as a member of joint chiefs of staff . air force combat and mobility forces are assigned , as directed by secretary of defense , to combatant commanders , and neither secretary of air force nor chief of staff have operational command authority over them .\n",
            "Predicted Answer: three\n",
            "True Answer: three\n",
            "--------------------------------------------------\n",
            "Question: what was name of first portable solid state digital audio player ?\n",
            "Context: in second half of ' 90s , mp3 files began to spread on internet . popularity of mp3s began to rise rapidly with advent of nullsoft ' s audio player winamp , released in 1997 . in 1998 , first portable solid state digital audio player , developed by saehan information systems which is headquartered in seoul , south korea , was released and rio was sold afterwards in 1998 , despite legal suppression efforts by riaa .\n",
            "Predicted Answer: 1998\n",
            "True Answer: \n",
            "--------------------------------------------------\n"
          ]
        }
      ],
      "source": [
        "# Compare the predictions with the actual answers\n",
        "for i in range(100):\n",
        "    print(f\"Question: {train_questions[i]}\")\n",
        "    print(f\"Context: {train_contexts[i]}\")\n",
        "    print(f\"Predicted Answer: {train_preds[i]}\")\n",
        "    print(f\"True Answer: {train_true_labels[i]}\")\n",
        "    print(\"-\" * 50)"
      ]
    }
  ],
  "metadata": {
    "accelerator": "GPU",
    "colab": {
      "gpuType": "T4",
      "provenance": []
    },
    "kernelspec": {
      "display_name": "nlp_kernel",
      "language": "python",
      "name": "nlp_env"
    },
    "language_info": {
      "codemirror_mode": {
        "name": "ipython",
        "version": 3
      },
      "file_extension": ".py",
      "mimetype": "text/x-python",
      "name": "python",
      "nbconvert_exporter": "python",
      "pygments_lexer": "ipython3",
      "version": "3.11.11"
    }
  },
  "nbformat": 4,
  "nbformat_minor": 0
}
