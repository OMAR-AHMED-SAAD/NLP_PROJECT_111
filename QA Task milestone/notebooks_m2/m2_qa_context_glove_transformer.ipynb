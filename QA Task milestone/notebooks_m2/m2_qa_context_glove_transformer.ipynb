{
  "cells": [
    {
      "cell_type": "code",
      "execution_count": 2,
      "metadata": {
        "colab": {
          "base_uri": "https://localhost:8080/"
        },
        "id": "4pW2kfwrkpCn",
        "outputId": "5fc40088-ebae-45b6-c848-40e49e9fe482"
      },
      "outputs": [
        {
          "name": "stdout",
          "output_type": "stream",
          "text": [
            "Found existing installation: torch 2.6.0+cu124\n",
            "Uninstalling torch-2.6.0+cu124:\n",
            "  Successfully uninstalled torch-2.6.0+cu124\n",
            "Found existing installation: torchvision 0.21.0+cu124\n",
            "Uninstalling torchvision-0.21.0+cu124:\n",
            "  Successfully uninstalled torchvision-0.21.0+cu124\n",
            "Found existing installation: torchaudio 2.6.0+cu124\n",
            "Uninstalling torchaudio-2.6.0+cu124:\n",
            "  Successfully uninstalled torchaudio-2.6.0+cu124\n"
          ]
        }
      ],
      "source": [
        "!pip uninstall torch torchvision torchaudio -y"
      ]
    },
    {
      "cell_type": "code",
      "execution_count": 3,
      "metadata": {
        "colab": {
          "base_uri": "https://localhost:8080/",
          "height": 1000
        },
        "id": "dtGQP4CSkzrW",
        "outputId": "2e13541e-1e16-40c9-9995-a8914355645a"
      },
      "outputs": [
        {
          "name": "stdout",
          "output_type": "stream",
          "text": [
            "Looking in indexes: https://download.pytorch.org/whl/cu121\n",
            "Collecting torch==2.3.1\n",
            "  Downloading https://download.pytorch.org/whl/cu121/torch-2.3.1%2Bcu121-cp311-cp311-linux_x86_64.whl (781.0 MB)\n",
            "\u001b[2K     \u001b[90m━━━━━━━━━━━━━━━━━━━━━━━━━━━━━━━━━━━━━━━\u001b[0m \u001b[32m781.0/781.0 MB\u001b[0m \u001b[31m2.1 MB/s\u001b[0m eta \u001b[36m0:00:00\u001b[0m\n",
            "\u001b[?25hCollecting torchvision==0.18.1\n",
            "  Downloading https://download.pytorch.org/whl/cu121/torchvision-0.18.1%2Bcu121-cp311-cp311-linux_x86_64.whl (7.0 MB)\n",
            "\u001b[2K     \u001b[90m━━━━━━━━━━━━━━━━━━━━━━━━━━━━━━━━━━━━━━━━\u001b[0m \u001b[32m7.0/7.0 MB\u001b[0m \u001b[31m117.3 MB/s\u001b[0m eta \u001b[36m0:00:00\u001b[0m\n",
            "\u001b[?25hCollecting torchaudio==2.3.1\n",
            "  Downloading https://download.pytorch.org/whl/cu121/torchaudio-2.3.1%2Bcu121-cp311-cp311-linux_x86_64.whl (3.4 MB)\n",
            "\u001b[2K     \u001b[90m━━━━━━━━━━━━━━━━━━━━━━━━━━━━━━━━━━━━━━━━\u001b[0m \u001b[32m3.4/3.4 MB\u001b[0m \u001b[31m91.9 MB/s\u001b[0m eta \u001b[36m0:00:00\u001b[0m\n",
            "\u001b[?25hRequirement already satisfied: filelock in /usr/local/lib/python3.11/dist-packages (from torch==2.3.1) (3.18.0)\n",
            "Requirement already satisfied: typing-extensions>=4.8.0 in /usr/local/lib/python3.11/dist-packages (from torch==2.3.1) (4.13.2)\n",
            "Requirement already satisfied: sympy in /usr/local/lib/python3.11/dist-packages (from torch==2.3.1) (1.13.1)\n",
            "Requirement already satisfied: networkx in /usr/local/lib/python3.11/dist-packages (from torch==2.3.1) (3.4.2)\n",
            "Requirement already satisfied: jinja2 in /usr/local/lib/python3.11/dist-packages (from torch==2.3.1) (3.1.6)\n",
            "Requirement already satisfied: fsspec in /usr/local/lib/python3.11/dist-packages (from torch==2.3.1) (2025.3.2)\n",
            "Collecting nvidia-cuda-nvrtc-cu12==12.1.105 (from torch==2.3.1)\n",
            "  Downloading https://download.pytorch.org/whl/cu121/nvidia_cuda_nvrtc_cu12-12.1.105-py3-none-manylinux1_x86_64.whl (23.7 MB)\n",
            "\u001b[2K     \u001b[90m━━━━━━━━━━━━━━━━━━━━━━━━━━━━━━━━━━━━━━━━\u001b[0m \u001b[32m23.7/23.7 MB\u001b[0m \u001b[31m97.3 MB/s\u001b[0m eta \u001b[36m0:00:00\u001b[0m\n",
            "\u001b[?25hCollecting nvidia-cuda-runtime-cu12==12.1.105 (from torch==2.3.1)\n",
            "  Downloading https://download.pytorch.org/whl/cu121/nvidia_cuda_runtime_cu12-12.1.105-py3-none-manylinux1_x86_64.whl (823 kB)\n",
            "\u001b[2K     \u001b[90m━━━━━━━━━━━━━━━━━━━━━━━━━━━━━━━━━━━━━━\u001b[0m \u001b[32m823.6/823.6 kB\u001b[0m \u001b[31m59.2 MB/s\u001b[0m eta \u001b[36m0:00:00\u001b[0m\n",
            "\u001b[?25hCollecting nvidia-cuda-cupti-cu12==12.1.105 (from torch==2.3.1)\n",
            "  Downloading https://download.pytorch.org/whl/cu121/nvidia_cuda_cupti_cu12-12.1.105-py3-none-manylinux1_x86_64.whl (14.1 MB)\n",
            "\u001b[2K     \u001b[90m━━━━━━━━━━━━━━━━━━━━━━━━━━━━━━━━━━━━━━━\u001b[0m \u001b[32m14.1/14.1 MB\u001b[0m \u001b[31m116.5 MB/s\u001b[0m eta \u001b[36m0:00:00\u001b[0m\n",
            "\u001b[?25hCollecting nvidia-cudnn-cu12==8.9.2.26 (from torch==2.3.1)\n",
            "  Downloading https://download.pytorch.org/whl/cu121/nvidia_cudnn_cu12-8.9.2.26-py3-none-manylinux1_x86_64.whl (731.7 MB)\n",
            "\u001b[2K     \u001b[90m━━━━━━━━━━━━━━━━━━━━━━━━━━━━━━━━━━━━━\u001b[0m \u001b[32m731.7/731.7 MB\u001b[0m \u001b[31m825.2 kB/s\u001b[0m eta \u001b[36m0:00:00\u001b[0m\n",
            "\u001b[?25hCollecting nvidia-cublas-cu12==12.1.3.1 (from torch==2.3.1)\n",
            "  Downloading https://download.pytorch.org/whl/cu121/nvidia_cublas_cu12-12.1.3.1-py3-none-manylinux1_x86_64.whl (410.6 MB)\n",
            "\u001b[2K     \u001b[90m━━━━━━━━━━━━━━━━━━━━━━━━━━━━━━━━━━━━━━━\u001b[0m \u001b[32m410.6/410.6 MB\u001b[0m \u001b[31m4.2 MB/s\u001b[0m eta \u001b[36m0:00:00\u001b[0m\n",
            "\u001b[?25hCollecting nvidia-cufft-cu12==11.0.2.54 (from torch==2.3.1)\n",
            "  Downloading https://download.pytorch.org/whl/cu121/nvidia_cufft_cu12-11.0.2.54-py3-none-manylinux1_x86_64.whl (121.6 MB)\n",
            "\u001b[2K     \u001b[90m━━━━━━━━━━━━━━━━━━━━━━━━━━━━━━━━━━━━━━━\u001b[0m \u001b[32m121.6/121.6 MB\u001b[0m \u001b[31m7.7 MB/s\u001b[0m eta \u001b[36m0:00:00\u001b[0m\n",
            "\u001b[?25hCollecting nvidia-curand-cu12==10.3.2.106 (from torch==2.3.1)\n",
            "  Downloading https://download.pytorch.org/whl/cu121/nvidia_curand_cu12-10.3.2.106-py3-none-manylinux1_x86_64.whl (56.5 MB)\n",
            "\u001b[2K     \u001b[90m━━━━━━━━━━━━━━━━━━━━━━━━━━━━━━━━━━━━━━━━\u001b[0m \u001b[32m56.5/56.5 MB\u001b[0m \u001b[31m13.7 MB/s\u001b[0m eta \u001b[36m0:00:00\u001b[0m\n",
            "\u001b[?25hCollecting nvidia-cusolver-cu12==11.4.5.107 (from torch==2.3.1)\n",
            "  Downloading https://download.pytorch.org/whl/cu121/nvidia_cusolver_cu12-11.4.5.107-py3-none-manylinux1_x86_64.whl (124.2 MB)\n",
            "\u001b[2K     \u001b[90m━━━━━━━━━━━━━━━━━━━━━━━━━━━━━━━━━━━━━━━\u001b[0m \u001b[32m124.2/124.2 MB\u001b[0m \u001b[31m7.7 MB/s\u001b[0m eta \u001b[36m0:00:00\u001b[0m\n",
            "\u001b[?25hCollecting nvidia-cusparse-cu12==12.1.0.106 (from torch==2.3.1)\n",
            "  Downloading https://download.pytorch.org/whl/cu121/nvidia_cusparse_cu12-12.1.0.106-py3-none-manylinux1_x86_64.whl (196.0 MB)\n",
            "\u001b[2K     \u001b[90m━━━━━━━━━━━━━━━━━━━━━━━━━━━━━━━━━━━━━━━\u001b[0m \u001b[32m196.0/196.0 MB\u001b[0m \u001b[31m5.7 MB/s\u001b[0m eta \u001b[36m0:00:00\u001b[0m\n",
            "\u001b[?25hCollecting nvidia-nccl-cu12==2.20.5 (from torch==2.3.1)\n",
            "  Downloading https://download.pytorch.org/whl/cu121/nvidia_nccl_cu12-2.20.5-py3-none-manylinux2014_x86_64.whl (176.2 MB)\n",
            "\u001b[2K     \u001b[90m━━━━━━━━━━━━━━━━━━━━━━━━━━━━━━━━━━━━━━━\u001b[0m \u001b[32m176.2/176.2 MB\u001b[0m \u001b[31m6.6 MB/s\u001b[0m eta \u001b[36m0:00:00\u001b[0m\n",
            "\u001b[?25hCollecting nvidia-nvtx-cu12==12.1.105 (from torch==2.3.1)\n",
            "  Downloading https://download.pytorch.org/whl/cu121/nvidia_nvtx_cu12-12.1.105-py3-none-manylinux1_x86_64.whl (99 kB)\n",
            "\u001b[2K     \u001b[90m━━━━━━━━━━━━━━━━━━━━━━━━━━━━━━━━━━━━━━━━\u001b[0m \u001b[32m99.1/99.1 kB\u001b[0m \u001b[31m9.2 MB/s\u001b[0m eta \u001b[36m0:00:00\u001b[0m\n",
            "\u001b[?25hCollecting triton==2.3.1 (from torch==2.3.1)\n",
            "  Downloading https://download.pytorch.org/whl/triton-2.3.1-cp311-cp311-manylinux_2_17_x86_64.manylinux2014_x86_64.whl (168.1 MB)\n",
            "\u001b[2K     \u001b[90m━━━━━━━━━━━━━━━━━━━━━━━━━━━━━━━━━━━━━━━\u001b[0m \u001b[32m168.1/168.1 MB\u001b[0m \u001b[31m6.7 MB/s\u001b[0m eta \u001b[36m0:00:00\u001b[0m\n",
            "\u001b[?25hRequirement already satisfied: numpy in /usr/local/lib/python3.11/dist-packages (from torchvision==0.18.1) (2.0.2)\n",
            "Requirement already satisfied: pillow!=8.3.*,>=5.3.0 in /usr/local/lib/python3.11/dist-packages (from torchvision==0.18.1) (11.1.0)\n",
            "Requirement already satisfied: nvidia-nvjitlink-cu12 in /usr/local/lib/python3.11/dist-packages (from nvidia-cusolver-cu12==11.4.5.107->torch==2.3.1) (12.5.82)\n",
            "Requirement already satisfied: MarkupSafe>=2.0 in /usr/local/lib/python3.11/dist-packages (from jinja2->torch==2.3.1) (3.0.2)\n",
            "Requirement already satisfied: mpmath<1.4,>=1.1.0 in /usr/local/lib/python3.11/dist-packages (from sympy->torch==2.3.1) (1.3.0)\n",
            "Installing collected packages: triton, nvidia-nvtx-cu12, nvidia-nccl-cu12, nvidia-cusparse-cu12, nvidia-curand-cu12, nvidia-cufft-cu12, nvidia-cuda-runtime-cu12, nvidia-cuda-nvrtc-cu12, nvidia-cuda-cupti-cu12, nvidia-cublas-cu12, nvidia-cusolver-cu12, nvidia-cudnn-cu12, torch, torchvision, torchaudio\n",
            "  Attempting uninstall: triton\n",
            "    Found existing installation: triton 3.2.0\n",
            "    Uninstalling triton-3.2.0:\n",
            "      Successfully uninstalled triton-3.2.0\n",
            "  Attempting uninstall: nvidia-nvtx-cu12\n",
            "    Found existing installation: nvidia-nvtx-cu12 12.4.127\n",
            "    Uninstalling nvidia-nvtx-cu12-12.4.127:\n",
            "      Successfully uninstalled nvidia-nvtx-cu12-12.4.127\n",
            "  Attempting uninstall: nvidia-nccl-cu12\n",
            "    Found existing installation: nvidia-nccl-cu12 2.21.5\n",
            "    Uninstalling nvidia-nccl-cu12-2.21.5:\n",
            "      Successfully uninstalled nvidia-nccl-cu12-2.21.5\n",
            "  Attempting uninstall: nvidia-cusparse-cu12\n",
            "    Found existing installation: nvidia-cusparse-cu12 12.5.1.3\n",
            "    Uninstalling nvidia-cusparse-cu12-12.5.1.3:\n",
            "      Successfully uninstalled nvidia-cusparse-cu12-12.5.1.3\n",
            "  Attempting uninstall: nvidia-curand-cu12\n",
            "    Found existing installation: nvidia-curand-cu12 10.3.6.82\n",
            "    Uninstalling nvidia-curand-cu12-10.3.6.82:\n",
            "      Successfully uninstalled nvidia-curand-cu12-10.3.6.82\n",
            "  Attempting uninstall: nvidia-cufft-cu12\n",
            "    Found existing installation: nvidia-cufft-cu12 11.2.3.61\n",
            "    Uninstalling nvidia-cufft-cu12-11.2.3.61:\n",
            "      Successfully uninstalled nvidia-cufft-cu12-11.2.3.61\n",
            "  Attempting uninstall: nvidia-cuda-runtime-cu12\n",
            "    Found existing installation: nvidia-cuda-runtime-cu12 12.5.82\n",
            "    Uninstalling nvidia-cuda-runtime-cu12-12.5.82:\n",
            "      Successfully uninstalled nvidia-cuda-runtime-cu12-12.5.82\n",
            "  Attempting uninstall: nvidia-cuda-nvrtc-cu12\n",
            "    Found existing installation: nvidia-cuda-nvrtc-cu12 12.5.82\n",
            "    Uninstalling nvidia-cuda-nvrtc-cu12-12.5.82:\n",
            "      Successfully uninstalled nvidia-cuda-nvrtc-cu12-12.5.82\n",
            "  Attempting uninstall: nvidia-cuda-cupti-cu12\n",
            "    Found existing installation: nvidia-cuda-cupti-cu12 12.5.82\n",
            "    Uninstalling nvidia-cuda-cupti-cu12-12.5.82:\n",
            "      Successfully uninstalled nvidia-cuda-cupti-cu12-12.5.82\n",
            "  Attempting uninstall: nvidia-cublas-cu12\n",
            "    Found existing installation: nvidia-cublas-cu12 12.5.3.2\n",
            "    Uninstalling nvidia-cublas-cu12-12.5.3.2:\n",
            "      Successfully uninstalled nvidia-cublas-cu12-12.5.3.2\n",
            "  Attempting uninstall: nvidia-cusolver-cu12\n",
            "    Found existing installation: nvidia-cusolver-cu12 11.6.3.83\n",
            "    Uninstalling nvidia-cusolver-cu12-11.6.3.83:\n",
            "      Successfully uninstalled nvidia-cusolver-cu12-11.6.3.83\n",
            "  Attempting uninstall: nvidia-cudnn-cu12\n",
            "    Found existing installation: nvidia-cudnn-cu12 9.3.0.75\n",
            "    Uninstalling nvidia-cudnn-cu12-9.3.0.75:\n",
            "      Successfully uninstalled nvidia-cudnn-cu12-9.3.0.75\n",
            "Successfully installed nvidia-cublas-cu12-12.1.3.1 nvidia-cuda-cupti-cu12-12.1.105 nvidia-cuda-nvrtc-cu12-12.1.105 nvidia-cuda-runtime-cu12-12.1.105 nvidia-cudnn-cu12-8.9.2.26 nvidia-cufft-cu12-11.0.2.54 nvidia-curand-cu12-10.3.2.106 nvidia-cusolver-cu12-11.4.5.107 nvidia-cusparse-cu12-12.1.0.106 nvidia-nccl-cu12-2.20.5 nvidia-nvtx-cu12-12.1.105 torch-2.3.1+cu121 torchaudio-2.3.1+cu121 torchvision-0.18.1+cu121 triton-2.3.1\n"
          ]
        },
        {
          "data": {
            "application/vnd.colab-display-data+json": {
              "id": "edecb1adbd0c4c60a6ad9508a8e6727c",
              "pip_warning": {
                "packages": [
                  "torch",
                  "torchgen"
                ]
              }
            }
          },
          "metadata": {},
          "output_type": "display_data"
        }
      ],
      "source": [
        "!pip install torch==2.3.1 torchvision==0.18.1 torchaudio==2.3.1 --index-url https://download.pytorch.org/whl/cu121"
      ]
    },
    {
      "cell_type": "markdown",
      "metadata": {
        "id": "furWbet6M3Jn"
      },
      "source": [
        "# Milestone 2 - Training Transformer Models with GloVe embeddings"
      ]
    },
    {
      "cell_type": "code",
      "execution_count": 1,
      "metadata": {
        "colab": {
          "base_uri": "https://localhost:8080/"
        },
        "id": "SkQrxUe4lXaS",
        "outputId": "2ae789fb-7131-4185-9da2-ec6977e2cdc6"
      },
      "outputs": [
        {
          "name": "stdout",
          "output_type": "stream",
          "text": [
            "Collecting torchtext\n",
            "  Downloading torchtext-0.18.0-cp311-cp311-manylinux1_x86_64.whl.metadata (7.9 kB)\n",
            "Requirement already satisfied: tqdm in /usr/local/lib/python3.11/dist-packages (from torchtext) (4.67.1)\n",
            "Requirement already satisfied: requests in /usr/local/lib/python3.11/dist-packages (from torchtext) (2.32.3)\n",
            "Requirement already satisfied: torch>=2.3.0 in /usr/local/lib/python3.11/dist-packages (from torchtext) (2.3.1+cu121)\n",
            "Requirement already satisfied: numpy in /usr/local/lib/python3.11/dist-packages (from torchtext) (2.0.2)\n",
            "Requirement already satisfied: filelock in /usr/local/lib/python3.11/dist-packages (from torch>=2.3.0->torchtext) (3.18.0)\n",
            "Requirement already satisfied: typing-extensions>=4.8.0 in /usr/local/lib/python3.11/dist-packages (from torch>=2.3.0->torchtext) (4.13.2)\n",
            "Requirement already satisfied: sympy in /usr/local/lib/python3.11/dist-packages (from torch>=2.3.0->torchtext) (1.13.1)\n",
            "Requirement already satisfied: networkx in /usr/local/lib/python3.11/dist-packages (from torch>=2.3.0->torchtext) (3.4.2)\n",
            "Requirement already satisfied: jinja2 in /usr/local/lib/python3.11/dist-packages (from torch>=2.3.0->torchtext) (3.1.6)\n",
            "Requirement already satisfied: fsspec in /usr/local/lib/python3.11/dist-packages (from torch>=2.3.0->torchtext) (2025.3.2)\n",
            "Requirement already satisfied: nvidia-cuda-nvrtc-cu12==12.1.105 in /usr/local/lib/python3.11/dist-packages (from torch>=2.3.0->torchtext) (12.1.105)\n",
            "Requirement already satisfied: nvidia-cuda-runtime-cu12==12.1.105 in /usr/local/lib/python3.11/dist-packages (from torch>=2.3.0->torchtext) (12.1.105)\n",
            "Requirement already satisfied: nvidia-cuda-cupti-cu12==12.1.105 in /usr/local/lib/python3.11/dist-packages (from torch>=2.3.0->torchtext) (12.1.105)\n",
            "Requirement already satisfied: nvidia-cudnn-cu12==8.9.2.26 in /usr/local/lib/python3.11/dist-packages (from torch>=2.3.0->torchtext) (8.9.2.26)\n",
            "Requirement already satisfied: nvidia-cublas-cu12==12.1.3.1 in /usr/local/lib/python3.11/dist-packages (from torch>=2.3.0->torchtext) (12.1.3.1)\n",
            "Requirement already satisfied: nvidia-cufft-cu12==11.0.2.54 in /usr/local/lib/python3.11/dist-packages (from torch>=2.3.0->torchtext) (11.0.2.54)\n",
            "Requirement already satisfied: nvidia-curand-cu12==10.3.2.106 in /usr/local/lib/python3.11/dist-packages (from torch>=2.3.0->torchtext) (10.3.2.106)\n",
            "Requirement already satisfied: nvidia-cusolver-cu12==11.4.5.107 in /usr/local/lib/python3.11/dist-packages (from torch>=2.3.0->torchtext) (11.4.5.107)\n",
            "Requirement already satisfied: nvidia-cusparse-cu12==12.1.0.106 in /usr/local/lib/python3.11/dist-packages (from torch>=2.3.0->torchtext) (12.1.0.106)\n",
            "Requirement already satisfied: nvidia-nccl-cu12==2.20.5 in /usr/local/lib/python3.11/dist-packages (from torch>=2.3.0->torchtext) (2.20.5)\n",
            "Requirement already satisfied: nvidia-nvtx-cu12==12.1.105 in /usr/local/lib/python3.11/dist-packages (from torch>=2.3.0->torchtext) (12.1.105)\n",
            "Requirement already satisfied: triton==2.3.1 in /usr/local/lib/python3.11/dist-packages (from torch>=2.3.0->torchtext) (2.3.1)\n",
            "Requirement already satisfied: nvidia-nvjitlink-cu12 in /usr/local/lib/python3.11/dist-packages (from nvidia-cusolver-cu12==11.4.5.107->torch>=2.3.0->torchtext) (12.5.82)\n",
            "Requirement already satisfied: charset-normalizer<4,>=2 in /usr/local/lib/python3.11/dist-packages (from requests->torchtext) (3.4.1)\n",
            "Requirement already satisfied: idna<4,>=2.5 in /usr/local/lib/python3.11/dist-packages (from requests->torchtext) (3.10)\n",
            "Requirement already satisfied: urllib3<3,>=1.21.1 in /usr/local/lib/python3.11/dist-packages (from requests->torchtext) (2.3.0)\n",
            "Requirement already satisfied: certifi>=2017.4.17 in /usr/local/lib/python3.11/dist-packages (from requests->torchtext) (2025.1.31)\n",
            "Requirement already satisfied: MarkupSafe>=2.0 in /usr/local/lib/python3.11/dist-packages (from jinja2->torch>=2.3.0->torchtext) (3.0.2)\n",
            "Requirement already satisfied: mpmath<1.4,>=1.1.0 in /usr/local/lib/python3.11/dist-packages (from sympy->torch>=2.3.0->torchtext) (1.3.0)\n",
            "Downloading torchtext-0.18.0-cp311-cp311-manylinux1_x86_64.whl (2.0 MB)\n",
            "\u001b[2K   \u001b[90m━━━━━━━━━━━━━━━━━━━━━━━━━━━━━━━━━━━━━━━━\u001b[0m \u001b[32m2.0/2.0 MB\u001b[0m \u001b[31m7.9 MB/s\u001b[0m eta \u001b[36m0:00:00\u001b[0m\n",
            "\u001b[?25hInstalling collected packages: torchtext\n",
            "Successfully installed torchtext-0.18.0\n"
          ]
        }
      ],
      "source": [
        "!pip install torchtext"
      ]
    },
    {
      "cell_type": "markdown",
      "metadata": {
        "id": "GiuM_7ioj1Me"
      },
      "source": [
        "### Imports"
      ]
    },
    {
      "cell_type": "code",
      "execution_count": 1,
      "metadata": {
        "colab": {
          "base_uri": "https://localhost:8080/"
        },
        "id": "Rd_xZP2iM3Jq",
        "outputId": "bd880f38-e4d0-47c1-8a54-dddc7b27c9de"
      },
      "outputs": [
        {
          "name": "stdout",
          "output_type": "stream",
          "text": [
            "/\n"
          ]
        },
        {
          "name": "stderr",
          "output_type": "stream",
          "text": [
            "/usr/local/lib/python3.11/dist-packages/torchtext/data/__init__.py:4: UserWarning: \n",
            "/!\\ IMPORTANT WARNING ABOUT TORCHTEXT STATUS /!\\ \n",
            "Torchtext is deprecated and the last released version will be 0.18 (this one). You can silence this warning by calling the following at the beginnign of your scripts: `import torchtext; torchtext.disable_torchtext_deprecation_warning()`\n",
            "  warnings.warn(torchtext._TORCHTEXT_DEPRECATION_MSG)\n",
            "/usr/local/lib/python3.11/dist-packages/torchtext/vocab/__init__.py:4: UserWarning: \n",
            "/!\\ IMPORTANT WARNING ABOUT TORCHTEXT STATUS /!\\ \n",
            "Torchtext is deprecated and the last released version will be 0.18 (this one). You can silence this warning by calling the following at the beginnign of your scripts: `import torchtext; torchtext.disable_torchtext_deprecation_warning()`\n",
            "  warnings.warn(torchtext._TORCHTEXT_DEPRECATION_MSG)\n",
            "/usr/local/lib/python3.11/dist-packages/torchtext/utils.py:4: UserWarning: \n",
            "/!\\ IMPORTANT WARNING ABOUT TORCHTEXT STATUS /!\\ \n",
            "Torchtext is deprecated and the last released version will be 0.18 (this one). You can silence this warning by calling the following at the beginnign of your scripts: `import torchtext; torchtext.disable_torchtext_deprecation_warning()`\n",
            "  warnings.warn(torchtext._TORCHTEXT_DEPRECATION_MSG)\n"
          ]
        }
      ],
      "source": [
        "%cd ..\n",
        "# imports\n",
        "from scripts_m2 import *\n"
      ]
    },
    {
      "cell_type": "markdown",
      "metadata": {
        "id": "UMWcb8n-M3Jr"
      },
      "source": [
        "### 1. Get Dataloaders"
      ]
    },
    {
      "cell_type": "code",
      "execution_count": 7,
      "metadata": {
        "colab": {
          "base_uri": "https://localhost:8080/"
        },
        "id": "21HHPDWUj1Mg",
        "outputId": "d959fd5d-f7d8-463f-b536-5abab206d819"
      },
      "outputs": [
        {
          "name": "stdout",
          "output_type": "stream",
          "text": [
            "Filtered dataset size: 19900 out of original 20000\n",
            "Filtered dataset size: 1986 out of original 2000\n"
          ]
        }
      ],
      "source": [
        "train_dataloader, dev_dataloader, tokenizer = prepare_dataloaders_tokenizer_glove()"
      ]
    },
    {
      "cell_type": "markdown",
      "metadata": {
        "id": "GLzOX80RM3Jy"
      },
      "source": [
        "### 2. Model Training"
      ]
    },
    {
      "cell_type": "markdown",
      "metadata": {
        "id": "F4tMuCuhM3Jy"
      },
      "source": [
        "#### Question [PAD] [SEP] Context [PAD]"
      ]
    },
    {
      "cell_type": "code",
      "execution_count": 8,
      "metadata": {
        "colab": {
          "base_uri": "https://localhost:8080/"
        },
        "id": "F5DWI_gHM3Jz",
        "outputId": "9d4274aa-7c05-40ce-b0d8-db9cdb7a5e42"
      },
      "outputs": [
        {
          "name": "stdout",
          "output_type": "stream",
          "text": [
            "torch.Size([400006, 300])\n"
          ]
        }
      ],
      "source": [
        "print(tokenizer.get_pretrained_embeddings().shape)"
      ]
    },
    {
      "cell_type": "code",
      "execution_count": 12,
      "metadata": {
        "colab": {
          "base_uri": "https://localhost:8080/"
        },
        "id": "zAjCoVWuM3Jz",
        "outputId": "14ebd030-a397-42bd-946f-0fc544616078"
      },
      "outputs": [
        {
          "name": "stderr",
          "output_type": "stream",
          "text": [
            "/usr/local/lib/python3.11/dist-packages/torch/nn/modules/transformer.py:306: UserWarning: enable_nested_tensor is True, but self.use_nested_tensor is False because encoder_layer.self_attn.batch_first was not True(use batch_first for better inference performance)\n",
            "  warnings.warn(f\"enable_nested_tensor is True, but self.use_nested_tensor is False because {why_not_sparsity_fast_path}\")\n",
            "/usr/local/lib/python3.11/dist-packages/torch/optim/lr_scheduler.py:28: UserWarning: The verbose parameter is deprecated. Please use get_last_lr() to access the learning rate.\n",
            "  warnings.warn(\"The verbose parameter is deprecated. Please use get_last_lr() \"\n",
            "Epoch 1/10: 100%|██████████| 311/311 [01:46<00:00,  2.91it/s, loss=7.16]\n"
          ]
        },
        {
          "name": "stdout",
          "output_type": "stream",
          "text": [
            "Epoch 1 Loss: 7.9553\n"
          ]
        },
        {
          "name": "stderr",
          "output_type": "stream",
          "text": [
            "Evaluating: 100%|██████████| 311/311 [01:13<00:00,  4.22it/s]\n"
          ]
        },
        {
          "name": "stdout",
          "output_type": "stream",
          "text": [
            "Training Loss: 7.0516\n",
            "Training Metrics: {'start_accuracy': 0.1606030150753769, 'start_precision': 0.1649086328375284, 'start_recall': 0.1606030150753769, 'start_f1_score': 0.1596812410852993, 'end_accuracy': 0.16698492462311557, 'end_precision': 0.17463271589165058, 'end_recall': 0.16698492462311557, 'end_f1_score': 0.16715886422969242, 'joint_exact_match': np.float64(0.1272361809045226), 'span_overlap_f1': np.float64(0.140417168585722)}\n"
          ]
        },
        {
          "name": "stderr",
          "output_type": "stream",
          "text": [
            "Evaluating: 100%|██████████| 32/32 [00:06<00:00,  4.64it/s]\n"
          ]
        },
        {
          "name": "stdout",
          "output_type": "stream",
          "text": [
            "Validation Loss: 8.4029\n",
            "Validation Metrics: {'start_accuracy': 0.08761329305135952, 'start_precision': 0.1216641184875684, 'start_recall': 0.08761329305135952, 'start_f1_score': 0.08867171528953247, 'end_accuracy': 0.08710976837865056, 'end_precision': 0.10001979842689256, 'end_recall': 0.08710976837865056, 'end_f1_score': 0.08704153234631132, 'joint_exact_match': np.float64(0.06646525679758308), 'span_overlap_f1': np.float64(0.07779636530383446)}\n",
            "Validation loss improved to 8.4029. Saving model state.\n",
            "--------------------------------------------------\n"
          ]
        },
        {
          "name": "stderr",
          "output_type": "stream",
          "text": [
            "Epoch 2/10: 100%|██████████| 311/311 [01:46<00:00,  2.91it/s, loss=6.84]\n"
          ]
        },
        {
          "name": "stdout",
          "output_type": "stream",
          "text": [
            "Epoch 2 Loss: 6.9689\n"
          ]
        },
        {
          "name": "stderr",
          "output_type": "stream",
          "text": [
            "Evaluating: 100%|██████████| 311/311 [01:13<00:00,  4.24it/s]\n"
          ]
        },
        {
          "name": "stdout",
          "output_type": "stream",
          "text": [
            "Training Loss: 6.3834\n",
            "Training Metrics: {'start_accuracy': 0.19331658291457288, 'start_precision': 0.19722693797085256, 'start_recall': 0.19331658291457288, 'start_f1_score': 0.1927455705327044, 'end_accuracy': 0.19859296482412062, 'end_precision': 0.20497943085628204, 'end_recall': 0.19859296482412062, 'end_f1_score': 0.19887735158654848, 'joint_exact_match': np.float64(0.16336683417085426), 'span_overlap_f1': np.float64(0.1768223455471263)}\n"
          ]
        },
        {
          "name": "stderr",
          "output_type": "stream",
          "text": [
            "Evaluating: 100%|██████████| 32/32 [00:07<00:00,  4.37it/s]\n"
          ]
        },
        {
          "name": "stdout",
          "output_type": "stream",
          "text": [
            "Validation Loss: 7.8611\n",
            "Validation Metrics: {'start_accuracy': 0.09919436052366566, 'start_precision': 0.10947514504756094, 'start_recall': 0.09919436052366566, 'start_f1_score': 0.09717065887230927, 'end_accuracy': 0.1027190332326284, 'end_precision': 0.11113342234313812, 'end_recall': 0.1027190332326284, 'end_f1_score': 0.10069986241654762, 'joint_exact_match': np.float64(0.07905337361530715), 'span_overlap_f1': np.float64(0.09180709001177777)}\n",
            "Validation loss improved to 7.8611. Saving model state.\n",
            "--------------------------------------------------\n"
          ]
        },
        {
          "name": "stderr",
          "output_type": "stream",
          "text": [
            "Epoch 3/10: 100%|██████████| 311/311 [01:47<00:00,  2.90it/s, loss=5.94]\n"
          ]
        },
        {
          "name": "stdout",
          "output_type": "stream",
          "text": [
            "Epoch 3 Loss: 6.4732\n"
          ]
        },
        {
          "name": "stderr",
          "output_type": "stream",
          "text": [
            "Evaluating: 100%|██████████| 311/311 [01:13<00:00,  4.25it/s]\n"
          ]
        },
        {
          "name": "stdout",
          "output_type": "stream",
          "text": [
            "Training Loss: 6.1745\n",
            "Training Metrics: {'start_accuracy': 0.21939698492462312, 'start_precision': 0.22527074456876084, 'start_recall': 0.21939698492462312, 'start_f1_score': 0.21988638326295468, 'end_accuracy': 0.22396984924623115, 'end_precision': 0.23314253535827859, 'end_recall': 0.22396984924623115, 'end_f1_score': 0.22560399908322018, 'joint_exact_match': np.float64(0.18829145728643215), 'span_overlap_f1': np.float64(0.20400145912878762)}\n"
          ]
        },
        {
          "name": "stderr",
          "output_type": "stream",
          "text": [
            "Evaluating: 100%|██████████| 32/32 [00:07<00:00,  4.18it/s]\n"
          ]
        },
        {
          "name": "stdout",
          "output_type": "stream",
          "text": [
            "Validation Loss: 7.7389\n",
            "Validation Metrics: {'start_accuracy': 0.11027190332326284, 'start_precision': 0.1295479112147459, 'start_recall': 0.11027190332326284, 'start_f1_score': 0.11298249615118715, 'end_accuracy': 0.1148036253776435, 'end_precision': 0.13422404432439156, 'end_recall': 0.1148036253776435, 'end_f1_score': 0.11692647382133595, 'joint_exact_match': np.float64(0.09113796576032225), 'span_overlap_f1': np.float64(0.10509059605668918)}\n",
            "Validation loss improved to 7.7389. Saving model state.\n",
            "--------------------------------------------------\n"
          ]
        },
        {
          "name": "stderr",
          "output_type": "stream",
          "text": [
            "Epoch 4/10: 100%|██████████| 311/311 [01:46<00:00,  2.92it/s, loss=6.32]\n"
          ]
        },
        {
          "name": "stdout",
          "output_type": "stream",
          "text": [
            "Epoch 4 Loss: 6.2517\n"
          ]
        },
        {
          "name": "stderr",
          "output_type": "stream",
          "text": [
            "Evaluating: 100%|██████████| 311/311 [01:13<00:00,  4.22it/s]\n"
          ]
        },
        {
          "name": "stdout",
          "output_type": "stream",
          "text": [
            "Training Loss: 6.2527\n",
            "Training Metrics: {'start_accuracy': 0.21814070351758794, 'start_precision': 0.22309058370438775, 'start_recall': 0.21814070351758794, 'start_f1_score': 0.21861765856217158, 'end_accuracy': 0.23155778894472362, 'end_precision': 0.23920678902419948, 'end_recall': 0.23155778894472362, 'end_f1_score': 0.2331134401397387, 'joint_exact_match': np.float64(0.18597989949748744), 'span_overlap_f1': np.float64(0.20249990557256195)}\n"
          ]
        },
        {
          "name": "stderr",
          "output_type": "stream",
          "text": [
            "Evaluating: 100%|██████████| 32/32 [00:07<00:00,  4.20it/s]\n"
          ]
        },
        {
          "name": "stdout",
          "output_type": "stream",
          "text": [
            "Validation Loss: 8.0943\n",
            "Validation Metrics: {'start_accuracy': 0.10926485397784491, 'start_precision': 0.11815810325055517, 'start_recall': 0.10926485397784491, 'start_f1_score': 0.1088400643884675, 'end_accuracy': 0.11782477341389729, 'end_precision': 0.13528471558440666, 'end_recall': 0.11782477341389729, 'end_f1_score': 0.11782189442460744, 'joint_exact_match': np.float64(0.08710976837865056), 'span_overlap_f1': np.float64(0.10364315550997415)}\n",
            "Validation loss did not improve. No improvement for 1 epochs.\n",
            "--------------------------------------------------\n"
          ]
        },
        {
          "name": "stderr",
          "output_type": "stream",
          "text": [
            "Epoch 5/10: 100%|██████████| 311/311 [01:46<00:00,  2.91it/s, loss=5.86]\n"
          ]
        },
        {
          "name": "stdout",
          "output_type": "stream",
          "text": [
            "Epoch 5 Loss: 6.1535\n"
          ]
        },
        {
          "name": "stderr",
          "output_type": "stream",
          "text": [
            "Evaluating: 100%|██████████| 311/311 [01:14<00:00,  4.15it/s]\n"
          ]
        },
        {
          "name": "stdout",
          "output_type": "stream",
          "text": [
            "Training Loss: 5.7587\n",
            "Training Metrics: {'start_accuracy': 0.2560804020100503, 'start_precision': 0.2617606890789414, 'start_recall': 0.2560804020100503, 'start_f1_score': 0.25673839290978884, 'end_accuracy': 0.26321608040201006, 'end_precision': 0.27141492326822164, 'end_recall': 0.26321608040201006, 'end_f1_score': 0.2650608701932785, 'joint_exact_match': np.float64(0.21603015075376886), 'span_overlap_f1': np.float64(0.23203213825697358)}\n"
          ]
        },
        {
          "name": "stderr",
          "output_type": "stream",
          "text": [
            "Evaluating: 100%|██████████| 32/32 [00:07<00:00,  4.15it/s]\n"
          ]
        },
        {
          "name": "stdout",
          "output_type": "stream",
          "text": [
            "Validation Loss: 7.6045\n",
            "Validation Metrics: {'start_accuracy': 0.13141993957703926, 'start_precision': 0.14362086104727692, 'start_recall': 0.13141993957703926, 'start_f1_score': 0.13035933524049936, 'end_accuracy': 0.13494461228600202, 'end_precision': 0.15345632765375533, 'end_recall': 0.13494461228600202, 'end_f1_score': 0.13456825434269276, 'joint_exact_match': np.float64(0.1052366565961732), 'span_overlap_f1': np.float64(0.12101165898657372)}\n",
            "Validation loss improved to 7.6045. Saving model state.\n",
            "--------------------------------------------------\n"
          ]
        },
        {
          "name": "stderr",
          "output_type": "stream",
          "text": [
            "Epoch 6/10: 100%|██████████| 311/311 [01:46<00:00,  2.91it/s, loss=5.43]\n"
          ]
        },
        {
          "name": "stdout",
          "output_type": "stream",
          "text": [
            "Epoch 6 Loss: 5.8808\n"
          ]
        },
        {
          "name": "stderr",
          "output_type": "stream",
          "text": [
            "Evaluating: 100%|██████████| 311/311 [01:14<00:00,  4.17it/s]\n"
          ]
        },
        {
          "name": "stdout",
          "output_type": "stream",
          "text": [
            "Training Loss: 5.5742\n",
            "Training Metrics: {'start_accuracy': 0.2614572864321608, 'start_precision': 0.284735532346367, 'start_recall': 0.2614572864321608, 'start_f1_score': 0.26914791304368396, 'end_accuracy': 0.27100502512562813, 'end_precision': 0.2783607304426325, 'end_recall': 0.27100502512562813, 'end_f1_score': 0.27236793653515445, 'joint_exact_match': np.float64(0.21467336683417085), 'span_overlap_f1': np.float64(0.23313645908871306)}\n"
          ]
        },
        {
          "name": "stderr",
          "output_type": "stream",
          "text": [
            "Evaluating: 100%|██████████| 32/32 [00:07<00:00,  4.25it/s]\n"
          ]
        },
        {
          "name": "stdout",
          "output_type": "stream",
          "text": [
            "Validation Loss: 7.7077\n",
            "Validation Metrics: {'start_accuracy': 0.13293051359516617, 'start_precision': 0.16569109292311973, 'start_recall': 0.13293051359516617, 'start_f1_score': 0.13526591825434647, 'end_accuracy': 0.1364551863041289, 'end_precision': 0.15852125756333332, 'end_recall': 0.1364551863041289, 'end_f1_score': 0.13728140803493782, 'joint_exact_match': np.float64(0.09919436052366566), 'span_overlap_f1': np.float64(0.12104448610476204)}\n",
            "Validation loss did not improve. No improvement for 1 epochs.\n",
            "--------------------------------------------------\n"
          ]
        },
        {
          "name": "stderr",
          "output_type": "stream",
          "text": [
            "Epoch 7/10: 100%|██████████| 311/311 [01:46<00:00,  2.91it/s, loss=6.59]\n"
          ]
        },
        {
          "name": "stdout",
          "output_type": "stream",
          "text": [
            "Epoch 7 Loss: 5.6872\n"
          ]
        },
        {
          "name": "stderr",
          "output_type": "stream",
          "text": [
            "Evaluating: 100%|██████████| 311/311 [01:14<00:00,  4.17it/s]\n"
          ]
        },
        {
          "name": "stdout",
          "output_type": "stream",
          "text": [
            "Training Loss: 5.4706\n",
            "Training Metrics: {'start_accuracy': 0.27035175879396983, 'start_precision': 0.2755962442662247, 'start_recall': 0.27035175879396983, 'start_f1_score': 0.27076302341530145, 'end_accuracy': 0.2767839195979899, 'end_precision': 0.28601417577289484, 'end_recall': 0.2767839195979899, 'end_f1_score': 0.27848396801100894, 'joint_exact_match': np.float64(0.23110552763819095), 'span_overlap_f1': np.float64(0.2479309171873859)}\n"
          ]
        },
        {
          "name": "stderr",
          "output_type": "stream",
          "text": [
            "Evaluating: 100%|██████████| 32/32 [00:07<00:00,  4.38it/s]\n"
          ]
        },
        {
          "name": "stdout",
          "output_type": "stream",
          "text": [
            "Validation Loss: 7.8226\n",
            "Validation Metrics: {'start_accuracy': 0.1268882175226586, 'start_precision': 0.1597846938485168, 'start_recall': 0.1268882175226586, 'start_f1_score': 0.12729721831410878, 'end_accuracy': 0.13544813695871097, 'end_precision': 0.1596716442870289, 'end_recall': 0.13544813695871097, 'end_f1_score': 0.13732000378903833, 'joint_exact_match': np.float64(0.10322255790533737), 'span_overlap_f1': np.float64(0.12027738395359122)}\n",
            "Validation loss did not improve. No improvement for 2 epochs.\n",
            "--------------------------------------------------\n"
          ]
        },
        {
          "name": "stderr",
          "output_type": "stream",
          "text": [
            "Epoch 8/10: 100%|██████████| 311/311 [01:47<00:00,  2.90it/s, loss=5.93]\n"
          ]
        },
        {
          "name": "stdout",
          "output_type": "stream",
          "text": [
            "Epoch 8 Loss: 5.8366\n"
          ]
        },
        {
          "name": "stderr",
          "output_type": "stream",
          "text": [
            "Evaluating: 100%|██████████| 311/311 [01:14<00:00,  4.19it/s]\n"
          ]
        },
        {
          "name": "stdout",
          "output_type": "stream",
          "text": [
            "Training Loss: 6.1210\n",
            "Training Metrics: {'start_accuracy': 0.22768844221105528, 'start_precision': 0.2327501737218847, 'start_recall': 0.22768844221105528, 'start_f1_score': 0.2284387730920862, 'end_accuracy': 0.23658291457286432, 'end_precision': 0.24353055707959595, 'end_recall': 0.23658291457286432, 'end_f1_score': 0.23785414624829734, 'joint_exact_match': np.float64(0.19949748743718593), 'span_overlap_f1': np.float64(0.21501822805840232)}\n"
          ]
        },
        {
          "name": "stderr",
          "output_type": "stream",
          "text": [
            "Evaluating: 100%|██████████| 32/32 [00:07<00:00,  4.08it/s]\n"
          ]
        },
        {
          "name": "stdout",
          "output_type": "stream",
          "text": [
            "Validation Loss: 8.0029\n",
            "Validation Metrics: {'start_accuracy': 0.10725075528700906, 'start_precision': 0.12211529733013898, 'start_recall': 0.10725075528700906, 'start_f1_score': 0.10779383921717052, 'end_accuracy': 0.12185297079556898, 'end_precision': 0.13431741418881893, 'end_recall': 0.12185297079556898, 'end_f1_score': 0.12186720697353157, 'joint_exact_match': np.float64(0.09013091641490432), 'span_overlap_f1': np.float64(0.10665019000061839)}\n",
            "Validation loss did not improve. No improvement for 3 epochs.\n",
            "--------------------------------------------------\n"
          ]
        },
        {
          "name": "stderr",
          "output_type": "stream",
          "text": [
            "Epoch 9/10: 100%|██████████| 311/311 [01:48<00:00,  2.87it/s, loss=5.24]\n"
          ]
        },
        {
          "name": "stdout",
          "output_type": "stream",
          "text": [
            "Epoch 9 Loss: 5.3821\n"
          ]
        },
        {
          "name": "stderr",
          "output_type": "stream",
          "text": [
            "Evaluating: 100%|██████████| 311/311 [01:15<00:00,  4.10it/s]\n"
          ]
        },
        {
          "name": "stdout",
          "output_type": "stream",
          "text": [
            "Training Loss: 4.9941\n",
            "Training Metrics: {'start_accuracy': 0.3, 'start_precision': 0.30285210978766763, 'start_recall': 0.3, 'start_f1_score': 0.2995821979845116, 'end_accuracy': 0.30778894472361806, 'end_precision': 0.31409787941139033, 'end_recall': 0.30778894472361806, 'end_f1_score': 0.3086290022082383, 'joint_exact_match': np.float64(0.2570854271356784), 'span_overlap_f1': np.float64(0.2741277468881437)}\n"
          ]
        },
        {
          "name": "stderr",
          "output_type": "stream",
          "text": [
            "Evaluating: 100%|██████████| 32/32 [00:07<00:00,  4.42it/s]\n"
          ]
        },
        {
          "name": "stdout",
          "output_type": "stream",
          "text": [
            "Validation Loss: 7.9381\n",
            "Validation Metrics: {'start_accuracy': 0.1364551863041289, 'start_precision': 0.15090735146552264, 'start_recall': 0.1364551863041289, 'start_f1_score': 0.1361991938752217, 'end_accuracy': 0.1500503524672709, 'end_precision': 0.16981957690021168, 'end_recall': 0.1500503524672709, 'end_f1_score': 0.15056198354773778, 'joint_exact_match': np.float64(0.11278952668680765), 'span_overlap_f1': np.float64(0.13081454076263643)}\n",
            "Validation loss did not improve. No improvement for 4 epochs.\n",
            "--------------------------------------------------\n"
          ]
        },
        {
          "name": "stderr",
          "output_type": "stream",
          "text": [
            "Epoch 10/10: 100%|██████████| 311/311 [01:47<00:00,  2.89it/s, loss=4.88]\n"
          ]
        },
        {
          "name": "stdout",
          "output_type": "stream",
          "text": [
            "Epoch 10 Loss: 5.0359\n"
          ]
        },
        {
          "name": "stderr",
          "output_type": "stream",
          "text": [
            "Evaluating: 100%|██████████| 311/311 [01:14<00:00,  4.20it/s]\n"
          ]
        },
        {
          "name": "stdout",
          "output_type": "stream",
          "text": [
            "Training Loss: 4.7906\n",
            "Training Metrics: {'start_accuracy': 0.3168844221105528, 'start_precision': 0.32202659846144177, 'start_recall': 0.3168844221105528, 'start_f1_score': 0.3169511328348281, 'end_accuracy': 0.32321608040201005, 'end_precision': 0.3298983653540334, 'end_recall': 0.32321608040201005, 'end_f1_score': 0.3241275319923321, 'joint_exact_match': np.float64(0.27673366834170854), 'span_overlap_f1': np.float64(0.294460197170112)}\n"
          ]
        },
        {
          "name": "stderr",
          "output_type": "stream",
          "text": [
            "Evaluating: 100%|██████████| 32/32 [00:06<00:00,  4.61it/s]"
          ]
        },
        {
          "name": "stdout",
          "output_type": "stream",
          "text": [
            "Validation Loss: 8.1551\n",
            "Validation Metrics: {'start_accuracy': 0.13846928499496475, 'start_precision': 0.1527335719905961, 'start_recall': 0.13846928499496475, 'start_f1_score': 0.13891838820326427, 'end_accuracy': 0.14803625377643503, 'end_precision': 0.16599470979710157, 'end_recall': 0.14803625377643503, 'end_f1_score': 0.1486924724942167, 'joint_exact_match': np.float64(0.11933534743202417), 'span_overlap_f1': np.float64(0.1362985430571735)}\n",
            "Validation loss did not improve. No improvement for 5 epochs.\n",
            "Early stopping triggered.\n",
            "Loaded the best model state.\n"
          ]
        },
        {
          "name": "stderr",
          "output_type": "stream",
          "text": [
            "\n"
          ]
        }
      ],
      "source": [
        "device = torch.device('cuda' if torch.cuda.is_available() else 'cpu')\n",
        "\n",
        "model = model = TransformerQAModel3(\n",
        "    vocab_size=10_000,\n",
        "    d_model=300,\n",
        "    num_layers=4,\n",
        "    num_heads=6,\n",
        "    dim_feedforward=512,\n",
        "    max_question_len=20,\n",
        "    max_context_len=249,\n",
        "    dropout=0.01,\n",
        "    pretrained_embeddings=tokenizer.get_pretrained_embeddings(),\n",
        "    freeze_embeddings=True,\n",
        ")\n",
        "model = model.to(device)\n",
        "\n",
        "# Setup an optimizer (e.g., Adam)\n",
        "optimizer = optim.AdamW(model.parameters(), lr=0.001)\n",
        "criterion = nn.CrossEntropyLoss()\n",
        "\n",
        "train_loss, val_loss = train_qa_context_model_boilerplate(\n",
        "    model=model,\n",
        "    train_dataloader=train_dataloader,\n",
        "    val_dataloader=dev_dataloader,\n",
        "    optimizer=optimizer,\n",
        "    criterion=criterion,\n",
        "    num_epochs=10,\n",
        "    device=device,\n",
        "    inputs = [\"context_question\", \"attention_mask_context_question\"],\n",
        "    evaluate_val_dataset=True,\n",
        ")\n"
      ]
    },
    {
      "cell_type": "code",
      "execution_count": 13,
      "metadata": {
        "colab": {
          "base_uri": "https://localhost:8080/",
          "height": 564
        },
        "id": "2j6DCbV-j1Mh",
        "outputId": "75ea6242-91d9-497e-c0c2-3bd9d156fc44"
      },
      "outputs": [
        {
          "data": {
            "image/png": "[encoded data removed]",
            "text/plain": [
              "<Figure size 1000x600 with 1 Axes>"
            ]
          },
          "metadata": {},
          "output_type": "display_data"
        }
      ],
      "source": [
        "# Plotting the training and validation loss\n",
        "plot_loss_curves(train_loss, val_loss)"
      ]
    },
    {
      "cell_type": "markdown",
      "metadata": {
        "id": "YHTi9xI0j1Mh"
      },
      "source": [
        "#### Save Model"
      ]
    },
    {
      "cell_type": "code",
      "execution_count": 17,
      "metadata": {
        "id": "rmP6zvJbM3J0"
      },
      "outputs": [],
      "source": [
        "model_path = \"models/glove_qa_context_model_transformer.pkl\""
      ]
    },
    {
      "cell_type": "code",
      "execution_count": 18,
      "metadata": {
        "colab": {
          "base_uri": "https://localhost:8080/"
        },
        "id": "G16tYCuvM3J0",
        "outputId": "c915c770-f51b-448f-c9e4-8eb0dfe9902d"
      },
      "outputs": [
        {
          "name": "stdout",
          "output_type": "stream",
          "text": [
            "Model saved to glove_qa_context_model_transformer.pkl\n"
          ]
        }
      ],
      "source": [
        "save_model(model, model_path)"
      ]
    },
    {
      "cell_type": "code",
      "execution_count": 19,
      "metadata": {
        "colab": {
          "base_uri": "https://localhost:8080/"
        },
        "id": "tcyNyqXiM3J0",
        "outputId": "7a23e0a2-7455-46e0-8e53-93fd758eed3b"
      },
      "outputs": [
        {
          "name": "stdout",
          "output_type": "stream",
          "text": [
            "Model loaded from glove_qa_context_model_transformer.pkl\n"
          ]
        }
      ],
      "source": [
        "device = torch.device('cuda' if torch.cuda.is_available() else 'cpu')\n",
        "model = load_model(model_path=model_path)"
      ]
    },
    {
      "cell_type": "markdown",
      "metadata": {
        "id": "MXdZXlTWj1Mi"
      },
      "source": [
        "#### Evaluation"
      ]
    },
    {
      "cell_type": "code",
      "execution_count": 20,
      "metadata": {
        "colab": {
          "base_uri": "https://localhost:8080/"
        },
        "id": "pwnFTqXBM3J1",
        "outputId": "677a59c1-f52a-443a-d990-d5f044da0f92"
      },
      "outputs": [
        {
          "name": "stderr",
          "output_type": "stream",
          "text": [
            "Evaluating: 100%|██████████| 311/311 [01:14<00:00,  4.16it/s]"
          ]
        },
        {
          "name": "stdout",
          "output_type": "stream",
          "text": [
            "Validation Loss: 5.7587\n",
            "Validation Metrics: {'start_accuracy': 0.2560804020100503, 'start_precision': 0.2617606890789414, 'start_recall': 0.2560804020100503, 'start_f1_score': 0.25673839290978884, 'end_accuracy': 0.26321608040201006, 'end_precision': 0.27141492326822164, 'end_recall': 0.26321608040201006, 'end_f1_score': 0.2650608701932785, 'joint_exact_match': np.float64(0.21603015075376886), 'span_overlap_f1': np.float64(0.23203213825697352)}\n"
          ]
        },
        {
          "name": "stderr",
          "output_type": "stream",
          "text": [
            "\n"
          ]
        },
        {
          "data": {
            "text/plain": [
              "(5.758705855182513,\n",
              " {'start_accuracy': 0.2560804020100503,\n",
              "  'start_precision': 0.2617606890789414,\n",
              "  'start_recall': 0.2560804020100503,\n",
              "  'start_f1_score': 0.25673839290978884,\n",
              "  'end_accuracy': 0.26321608040201006,\n",
              "  'end_precision': 0.27141492326822164,\n",
              "  'end_recall': 0.26321608040201006,\n",
              "  'end_f1_score': 0.2650608701932785,\n",
              "  'joint_exact_match': np.float64(0.21603015075376886),\n",
              "  'span_overlap_f1': np.float64(0.23203213825697352)})"
            ]
          },
          "execution_count": 20,
          "metadata": {},
          "output_type": "execute_result"
        }
      ],
      "source": [
        "# evaluate the model on the dev set\n",
        "criterion = nn.CrossEntropyLoss()\n",
        "device = 'cuda' if torch.cuda.is_available() else 'cpu'\n",
        "evaluate_qa_context_model_boilerplate(model=model, dataloader=train_dataloader, criterion=criterion, device=device, inputs = [\"context_question\", \"attention_mask_context_question\"])"
      ]
    },
    {
      "cell_type": "code",
      "execution_count": 21,
      "metadata": {
        "colab": {
          "base_uri": "https://localhost:8080/"
        },
        "id": "0KINMB6LM3J1",
        "outputId": "5ea9a249-9cad-463e-b8e0-80755311316c"
      },
      "outputs": [
        {
          "name": "stderr",
          "output_type": "stream",
          "text": [
            "Evaluating: 100%|██████████| 32/32 [00:07<00:00,  4.39it/s]"
          ]
        },
        {
          "name": "stdout",
          "output_type": "stream",
          "text": [
            "Validation Loss: 7.6045\n",
            "Validation Metrics: {'start_accuracy': 0.13141993957703926, 'start_precision': 0.14362086104727692, 'start_recall': 0.13141993957703926, 'start_f1_score': 0.13035933524049936, 'end_accuracy': 0.13494461228600202, 'end_precision': 0.15345632765375533, 'end_recall': 0.13494461228600202, 'end_f1_score': 0.13456825434269276, 'joint_exact_match': np.float64(0.1052366565961732), 'span_overlap_f1': np.float64(0.12101165898657372)}\n"
          ]
        },
        {
          "name": "stderr",
          "output_type": "stream",
          "text": [
            "\n"
          ]
        },
        {
          "data": {
            "text/plain": [
              "(7.604488790035248,\n",
              " {'start_accuracy': 0.13141993957703926,\n",
              "  'start_precision': 0.14362086104727692,\n",
              "  'start_recall': 0.13141993957703926,\n",
              "  'start_f1_score': 0.13035933524049936,\n",
              "  'end_accuracy': 0.13494461228600202,\n",
              "  'end_precision': 0.15345632765375533,\n",
              "  'end_recall': 0.13494461228600202,\n",
              "  'end_f1_score': 0.13456825434269276,\n",
              "  'joint_exact_match': np.float64(0.1052366565961732),\n",
              "  'span_overlap_f1': np.float64(0.12101165898657372)})"
            ]
          },
          "execution_count": 21,
          "metadata": {},
          "output_type": "execute_result"
        }
      ],
      "source": [
        "# evaluate the model on the dev set\n",
        "criterion = nn.CrossEntropyLoss()\n",
        "evaluate_qa_context_model_boilerplate(model=model, dataloader=dev_dataloader, criterion=criterion, device=device, inputs = [\"context_question\", \"attention_mask_context_question\"])"
      ]
    },
    {
      "cell_type": "markdown",
      "metadata": {
        "id": "Dv07h-gfj1Mj"
      },
      "source": [
        "##### Evaluate predictions on test set"
      ]
    },
    {
      "cell_type": "code",
      "execution_count": 22,
      "metadata": {
        "colab": {
          "base_uri": "https://localhost:8080/"
        },
        "id": "OxgMim37M3J1",
        "outputId": "7460aa6b-dbf2-4437-9eee-ab03b451ea3d"
      },
      "outputs": [
        {
          "name": "stderr",
          "output_type": "stream",
          "text": [
            "Predicting: 100%|██████████| 32/32 [00:07<00:00,  4.18it/s]\n"
          ]
        }
      ],
      "source": [
        "preds, true_labels, contexts, questions = predict_qa_context_model_boilerplate(model=model, dataloader=dev_dataloader, tokenizer=tokenizer, device=device, inputs = [\"context_question\", \"attention_mask_context_question\"])"
      ]
    },
    {
      "cell_type": "code",
      "execution_count": 23,
      "metadata": {
        "colab": {
          "base_uri": "https://localhost:8080/"
        },
        "id": "4tpz8QPkM3J2",
        "outputId": "cbf70820-caf9-4334-d447-9f09a4245ea0"
      },
      "outputs": [
        {
          "name": "stdout",
          "output_type": "stream",
          "text": [
            "Question: how many khitan tumens were there ?\n",
            "Context: many han chinese and khitan defected to mongols to fight against jin . two han chinese leaders , shi , liu ( , liu ni ) , and khitan xiao ( ) defected and commanded 3 tumens in mongol army . liu and shi served khan . liu and shi tianxiang led armies against western xia for mongols . there were 4 han tumens and 3 khitan tumens , with each tumen consisting of 10 , 000 troops . three khitan generals ( ) , ( ) and ( ) commanded three khitan tumens and four han generals zhang rou , yan shi , shi , and liu commanded four han tumens under khan .\n",
            "Predicted Answer: \n",
            "True Answer: 3\n",
            "--------------------------------------------------\n",
            "Question: what is atomic number of element oxygen ?\n",
            "Context: oxygen is a chemical element with symbol o and atomic number 8 . it is a member of group on periodic table and is a highly reactive nonmetal and oxidizing agent that readily forms compounds ( notably oxides ) with most elements . by mass , oxygen is third-most abundant element in universe , after hydrogen and helium . at standard temperature and pressure , two atoms of element bind to form dioxygen , a colorless and odorless diatomic gas with formula o 2 . diatomic oxygen gas constitutes 20 . of earth ' s atmosphere . however , monitoring of atmospheric oxygen levels show a global downward trend , because of fossil-fuel burning . oxygen is most abundant element by mass in earth ' s crust as part of oxide compounds such as silicon dioxide , making up almost half of crust ' s mass .\n",
            "Predicted Answer: oxygen\n",
            "True Answer: 8\n",
            "--------------------------------------------------\n",
            "Question: atomic number of periodic table for oxygen ?\n",
            "Context: oxygen is a chemical element with symbol o and atomic number 8 . it is a member of group on periodic table and is a highly reactive nonmetal and oxidizing agent that readily forms compounds ( notably oxides ) with most elements . by mass , oxygen is third-most abundant element in universe , after hydrogen and helium . at standard temperature and pressure , two atoms of element bind to form dioxygen , a colorless and odorless diatomic gas with formula o 2 . diatomic oxygen gas constitutes 20 . of earth ' s atmosphere . however , monitoring of atmospheric oxygen levels show a global downward trend , because of fossil-fuel burning . oxygen is most abundant element by mass in earth ' s crust as part of oxide compounds such as silicon dioxide , making up almost half of crust ' s mass .\n",
            "Predicted Answer: oxygen\n",
            "True Answer: 8\n",
            "--------------------------------------------------\n",
            "Question: how many campuses does university of california have ?\n",
            "Context: tech coast is a moniker that has gained use as a descriptor for region ' s diversified technology and industrial base as well as its multitude of prestigious and world-renowned research universities and other public and private institutions . amongst these include 5 university of california campuses ( irvine , los angeles , riverside , santa barbara , and san diego ) 12 california state university campuses ( bakersfield , channel islands , dominguez hills , fullerton , los angeles , long beach , northridge , pomona , san bernardino , san diego , san marcos , and san luis obispo ) and private institutions such as california institute of technology , chapman university , claremont colleges ( claremont mckenna college , harvey mudd college , pitzer college , pomona college , and scripps college ) , loma linda university , loyola marymount university , occidental college , pepperdine university , university of redlands , university of san diego , and university of southern california .\n",
            "Predicted Answer: 12\n",
            "True Answer: 5\n",
            "--------------------------------------------------\n",
            "Question: how many cylinders does ab engine have ?\n",
            "Context: although reciprocating steam engine is no longer in widespread commercial use , various companies are exploring or exploiting potential of engine as an alternative to internal combustion engines . company ab in sweden has made progress in using modern materials for harnessing power of steam . efficiency of ' s steam engine reaches some on high-pressure engines . it is a single-step , 5-cylinder engine ( no compound ) with superheated steam and consumes approx . 4 kg ( 8 . 8 lb ) of steam per kwh . in citation\n",
            "Predicted Answer: 8\n",
            "True Answer: 5\n",
            "--------------------------------------------------\n",
            "Question: what number did early greeks not regard as a true number ?\n",
            "Context: most early greeks did not even consider 1 to be a number , so they could not consider it to be a prime . by middle ages and renaissance many mathematicians included 1 as first prime number . in mid-18th century christian goldbach listed 1 as first prime in his famous correspondence with leonhard euler -- who did not agree . in 19th century many mathematicians still considered number 1 to be a prime . for example , derrick norman lehmer ' s list of primes up to 10 , 006 , 721 , reprinted as late as 1956 , started with 1 as its first prime . henri lebesgue is said to be last professional mathematician to call 1 prime . by early 20th century , mathematicians began to accept that 1 is not a prime number , but rather forms its own special category as a unit .\n",
            "Predicted Answer: 19th\n",
            "True Answer: 1\n",
            "--------------------------------------------------\n",
            "Question: any even number larger than what cannot be considered prime ?\n",
            "Context: hence , 6 is not prime . image at right illustrates that 12 is not prime 12 = 3 · 4 . no even number greater than 2 is prime because by definition , any such number n has at least three distinct divisors , namely 1 , 2 , and n . this implies that n is not prime . accordingly , term odd prime refers to any prime number greater than 2 . similarly , when written in usual decimal system , all prime numbers larger than 5 end in 1 , 3 , 7 , or 9 , since even numbers are multiples of 2 and numbers ending in 0 or 5 are multiples of 5 .\n",
            "Predicted Answer: 4\n",
            "True Answer: 2\n",
            "--------------------------------------------------\n",
            "Question: what article of grundgesetz grants right to make private schools ?\n",
            "Context: right to create private schools in germany is in article 7 , paragraph 4 of grundgesetz and cannot be suspended even in a state of emergency . it is also not possible to abolish these rights . this unusual protection of private schools was implemented to protect these schools from a second gleichschaltung or similar event in future . still , they are less common than in many other countries . overall , between 1992 and 2008 percent of pupils in such schools in germany increased from 6 . to 7 . ( including rise from 0 . to 6 . in former gdr ) . percent of students in private high schools reached 11 . .\n",
            "Predicted Answer: 7 , paragraph 4\n",
            "True Answer: 7\n",
            "--------------------------------------------------\n",
            "Question: besides 1 , 3 and 7 , what other number must all primes greater than 5 end with ?\n",
            "Context: hence , 6 is not prime . image at right illustrates that 12 is not prime 12 = 3 · 4 . no even number greater than 2 is prime because by definition , any such number n has at least three distinct divisors , namely 1 , 2 , and n . this implies that n is not prime . accordingly , term odd prime refers to any prime number greater than 2 . similarly , when written in usual decimal system , all prime numbers larger than 5 end in 1 , 3 , 7 , or 9 , since even numbers are multiples of 2 and numbers ending in 0 or 5 are multiples of 5 .\n",
            "Predicted Answer: 4 . no even number greater than 2 is prime because by definition , any such number n has at least three distinct divisors , namely 1 , 2 , and n . this implies that n is not prime . accordingly , term odd prime refers to any prime number greater than 2 . similarly , when written in usual decimal system , all prime numbers larger than 5 end in 1 , 3 , 7\n",
            "True Answer: 9\n",
            "--------------------------------------------------\n",
            "Question: what variable is associated with all problems solved within logarithmic space ?\n",
            "Context: similarly , it is not known if l ( set of all problems that can be solved in logarithmic space ) is strictly contained in p or equal to p . again , there are many complexity classes between two , such as nl and nc , and it is not known if they are distinct or equal classes .\n",
            "Predicted Answer: logarithmic\n",
            "True Answer: l\n",
            "--------------------------------------------------\n",
            "Question: what percentage of british children are educated at level in fee-paying schools ?\n",
            "Context: private schools generally prefer to be called independent schools , because of their freedom to operate outside of government and local government control . some of these are also known as public schools . preparatory schools in uk prepare pupils aged up to 13 years old to enter public schools . name public school is based on fact that schools were open to pupils from anywhere , and not merely to those from a certain locality , and of any religion or occupation . according to good schools guide approximately 9 per cent of children being educated in uk are doing so at fee-paying schools at level and 13 per cent at a-level . many independent schools are single-sex ( though this is becoming less common ) . fees range from under , 000 to , 000 and above per year for day pupils , rising to , per year for boarders . for details in scotland , see meeting cost .\n",
            "Predicted Answer: \n",
            "True Answer: 9\n",
            "--------------------------------------------------\n",
            "Question: what complexity class is characterized by a computational tasks and efficient algorithms ?\n",
            "Context: complexity class p is often seen as a mathematical abstraction modeling those computational tasks that admit an efficient algorithm . this hypothesis is called thesis . complexity class np , on other hand , contains many problems that people would like to solve efficiently , but for which no efficient algorithm is known , such as boolean satisfiability problem , hamiltonian path problem and vertex cover problem . since deterministic turing machines are special non-deterministic turing machines , it is easily observed that each problem in p is also member of class np .\n",
            "Predicted Answer: \n",
            "True Answer: p\n",
            "--------------------------------------------------\n",
            "Question: how many members in seats of scottish parliament are members of scottish government ?\n",
            "Context: debating chamber of scottish parliament has seating arranged in a hemicycle , which reflects desire to encourage consensus amongst elected members . there are 131 seats in debating chamber . of total 131 seats , 129 are occupied by parliament ' s elected msps and 2 are seats for scottish law officers – lord advocate and solicitor general for scotland , who are not elected members of parliament but are members of scottish government . as such law officers may attend and speak in plenary meetings of parliament but , as they are not elected msps , cannot vote . members are able to sit anywhere in debating chamber , but typically sit in their party groupings . first minister , scottish cabinet ministers and law officers sit in front row , in middle section of chamber . largest party in parliament sits in middle of semicircle , with opposing parties on either side . presiding officer , parliamentary clerks and officials sit opposite members at front of debating chamber .\n",
            "Predicted Answer: 2 are seats for scottish law officers – lord advocate and solicitor general for scotland , who are not elected members of parliament but are members of scottish government . as such law officers may attend and speak in plenary meetings of parliament but , as they are not elected msps , cannot vote . members are able to sit anywhere in debating chamber , but typically sit in their party groupings . first minister , scottish cabinet\n",
            "True Answer: 2\n",
            "--------------------------------------------------\n",
            "Question: how many vector equations did heaviside and gibbs maxwell ' s 20 scalar into ?\n",
            "Context: origin of electric and magnetic fields would not be fully explained until 1864 when james clerk maxwell unified a number of earlier theories into a set of 20 scalar equations , which were later reformulated into 4 vector equations by oliver heaviside and josiah willard gibbs . these maxwell equations fully described sources of fields as being stationary and moving charges , and interactions of fields themselves . this led maxwell to discover that electric and magnetic fields could be through a wave that traveled at a speed that he calculated to be speed of light . this insight united nascent fields of electromagnetic theory with optics and led directly to a complete description of electromagnetic spectrum .\n",
            "Predicted Answer: 20\n",
            "True Answer: 4\n",
            "--------------------------------------------------\n",
            "Question: integer factorization problem essentially seeks to determine if value of of an input is less than what\n",
            "Context: integer factorization problem is computational problem of determining prime factorization of a given integer . phrased as a decision problem , it is problem of deciding whether input has a factor less than k . no efficient integer factorization algorithm is known , and this fact forms basis of several modern cryptographic systems , such as rsa algorithm . integer factorization problem is in np and in co-np ( and even in up and ) . if problem is np-complete , polynomial time hierarchy will collapse to its first level ( i . e . , np will equal co-np ) . best known algorithm for integer factorization is general number field sieve , which takes time o ( e ( ) 1/3 ( n . log 2 ) 1/3 ( log ( n . log 2 ) ) 2/3 ) to factor an integer . however , best known quantum algorithm for this problem , shor ' s algorithm , does run in polynomial time . unfortunately , this fact doesn ' t say much about where problem lies with respect to complexity classes .\n",
            "Predicted Answer: 2 ) 1/3 ( log ( n . log 2 ) ) 2/3 ) to factor an integer . however , best known quantum algorithm for this problem , shor\n",
            "True Answer: k\n",
            "--------------------------------------------------\n",
            "Question: how many museums are in warsaw ?\n",
            "Context: as interesting examples of expositions most notable are world ' s first museum of posters boasting one of largest collections of art posters in world , museum of hunting and riding and railway museum . from among warsaw ' s 60 museums , most prestigious ones are national museum with a collection of works whose origin ranges in time from antiquity till present epoch as well as one of best collections of paintings in country including some paintings from adolf hitler ' s private collection , and museum of polish army whose set portrays history of arms .\n",
            "Predicted Answer: 60\n",
            "True Answer: 60\n",
            "--------------------------------------------------\n",
            "Question: what light radiation does ozone absorb ?\n",
            "Context: ( o 3 ) is usually known as ozone and is a very reactive allotrope of oxygen that is damaging to lung tissue . ozone is produced in upper atmosphere when o 2 combines with atomic oxygen made by splitting of o 2 by ultraviolet ( uv ) radiation . since ozone absorbs strongly in uv region of spectrum , ozone layer of upper atmosphere functions as a protective radiation shield for planet . near earth ' s surface , it is a pollutant formed as a by-product of automobile exhaust . metastable molecule ( o 4 ) was discovered in 2001 , and was assumed to exist in one of six phases of solid oxygen . it was proven in 2006 that this phase , created by pressurizing o 2 to 20 gpa , is in fact a rhombohedral o 8 cluster . this cluster has potential to be a much more powerful oxidizer than either o 2 or o 3 and may therefore be used in rocket fuel . a metallic phase was discovered in 1990 when solid oxygen is subjected to a pressure of above 96 gpa and it was shown in 1998 that at very low temperatures , this phase becomes superconducting .\n",
            "Predicted Answer: \n",
            "True Answer: uv\n",
            "--------------------------------------------------\n",
            "Question: what is number of constituency msps ?\n",
            "Context: of 129 msps , 73 are elected to represent first past post constituencies and are known as constituency msps . voters choose one member to represent constituency , and member with most votes is returned as a constituency msp . 73 scottish parliament constituencies shared same boundaries as uk parliament constituencies in scotland , prior to 2005 reduction in number of scottish mps , with exception of orkney and shetland which each return their own constituency msp . currently , average scottish parliament constituency comprises 55 , 000 electors . given geographical distribution of population in scotland , this results in constituencies of a smaller area in central lowlands , where bulk of scotland ' s population live , and much larger constituency areas in north and west of country , which have a low population density . island archipelagos of orkney , shetland and western isles comprise a much smaller number of electors , due to their dispersed population and distance from scottish parliament in edinburgh . if a constituency msp resigns from parliament , this triggers a by-election in his or her constituency , where a replacement msp is returned from one of parties by plurality system .\n",
            "Predicted Answer: 55\n",
            "True Answer: 73\n",
            "--------------------------------------------------\n",
            "Question: how many natural reserves are in warsaw ?\n",
            "Context: there are 13 natural reserves in warsaw – among others , bielany forest , woods , czerniaków lake . about 15 kilometres ( 9 miles ) from warsaw , vistula river ' s environment changes strikingly and features a perfectly preserved ecosystem , with a habitat of animals that includes otter , beaver and hundreds of bird species . there are also several lakes in warsaw – mainly oxbow lakes , like czerniaków lake , lakes in or wilanów parks , lake . there are lot of small lakes in parks , but only a few are permanent – majority are emptied before winter to clean them of plants and sediments .\n",
            "Predicted Answer: 13\n",
            "True Answer: 13\n",
            "--------------------------------------------------\n",
            "Question: how many total judges are there in eu ?\n",
            "Context: judicial branch of eu has played an important role in development of eu law , by assuming task of interpreting treaties , and accelerating economic and political integration . today court of justice of european union ( ) is main judicial body , within which there is a higher european court of justice ( commonly abbreviated as ecj ) that deals with cases that contain more public importance , and a general court that deals with issues of detail but without general importance . there is also a civil service tribunal to deal with eu staff issues , and then a separate court of auditors . under treaty on european union article 19 ( 2 ) there is one judge from each member state , 28 at present , who are supposed to possess qualifications required for appointment to highest judicial offices ( or for general court , ability required for appointment to high judicial office ) . a president is elected by judges for three years . under teu article 19 ( 3 ) is to be ultimate court to interpret questions of eu law . in fact , most eu law is applied by member state courts ( english court of appeal , german bundesgerichtshof , belgian cour du travail , etc . ) but they can refer questions to eu court for a preliminary ruling\n",
            "Predicted Answer: three\n",
            "True Answer: 28\n",
            "--------------------------------------------------\n",
            "Question: how many examination boards exist in india ?\n",
            "Context: in india , private schools are called independent schools , but since some private schools receive financial aid from government , it can be an aided or an unaided school . so , in a strict sense , a private school is an unaided independent school . for purpose of this definition , only receipt of financial aid is considered , not land purchased from government at a subsidized rate . it is within power of both union government and state governments to govern schools since education appears in concurrent list of legislative subjects in constitution . practice has been for union government to provide broad policy directions while states create their own rules and regulations for administration of sector . among other things , this has also resulted in 30 different examination boards or academic authorities that conduct examinations for school leaving certificates . prominent examination boards that are present in multiple states are cbse and cisce ,\n",
            "Predicted Answer: 30\n",
            "True Answer: 30\n",
            "--------------------------------------------------\n",
            "Question: what is scientific designation of oxygen ?\n",
            "Context: common allotrope of elemental oxygen on earth is called dioxygen , o 2 . it is form that is a major part of earth ' s atmosphere ( see occurrence ) . o2 has a bond length of 121 pm and a bond energy of 498 , which is smaller than energy of other double bonds or pairs of single bonds in biosphere and responsible for exothermic reaction of o2 with any organic molecule . due to its energy content , o2 is used by complex forms of life , such as animals , in cellular respiration ( see biological role ) . other aspects of o 2 are covered in remainder of this article .\n",
            "Predicted Answer: \n",
            "True Answer: o2\n",
            "--------------------------------------------------\n",
            "Question: what was dalton ' s erroneous formula for water ?\n",
            "Context: john dalton ' s original atomic hypothesis assumed that all elements were monatomic and that atoms in compounds would normally have simplest atomic ratios with respect to one another . for example , dalton assumed that water ' s formula was ho , giving atomic mass of oxygen as 8 times that of hydrogen , instead of modern value of about 16 . in 1805 , joseph louis gay-lussac and alexander von humboldt showed that water is formed of two volumes of hydrogen and one volume of oxygen and by 1811 amedeo avogadro had arrived at correct interpretation of water ' s composition , based on what is now called avogadro ' s law and assumption of diatomic elemental molecules .\n",
            "Predicted Answer: \n",
            "True Answer: ho\n",
            "--------------------------------------------------\n",
            "Question: which country is a traditional ally of israel ?\n",
            "Context: embargo was not uniform across europe . of nine members of european economic community ( eec ) , netherlands faced a complete embargo , uk and france received almost uninterrupted supplies ( having refused to allow america to use their airfields and embargoed arms and supplies to both arabs and israelis ) , while other six faced partial cutbacks . uk had traditionally been an ally of israel , and harold wilson ' s government supported israelis during six-day war . his successor , ted heath , reversed this policy in 1970 , calling for israel to withdraw to its pre-1967 borders .\n",
            "Predicted Answer: france\n",
            "True Answer: uk\n",
            "--------------------------------------------------\n",
            "Question: which country is not badly hit by embargo ?\n",
            "Context: despite being relatively unaffected by embargo , uk nonetheless faced an oil crisis of its own - a series of strikes by coal miners and railroad workers over winter of became a major factor in change of government . heath asked british to heat only one room in their houses over winter . uk , germany , italy , switzerland and norway banned flying , driving and boating on sundays . sweden rationed gasoline and heating oil . netherlands imposed prison sentences for those who used more than their ration of electricity .\n",
            "Predicted Answer: italy\n",
            "True Answer: uk\n",
            "--------------------------------------------------\n",
            "Question: how many members are on warsaw city ?\n",
            "Context: legislative power in warsaw is vested in a unicameral warsaw city council ( rada ) , which comprises 60 members . council members are elected directly every four years . like most legislative bodies , city council divides itself into committees which have oversight of various functions of city government . bills passed by a simple majority are sent to mayor ( president of warsaw ) , who may sign them into law . if mayor vetoes a bill , council has 30 days to override veto by a two-thirds majority vote .\n",
            "Predicted Answer: four\n",
            "True Answer: 60\n",
            "--------------------------------------------------\n",
            "Question: how many seats does victoria have in senate ?\n",
            "Context: politically , victoria has 37 seats in australian house of representatives and 12 seats in australian senate . at state level , parliament of victoria consists of legislative assembly ( lower house ) and legislative council ( upper house ) . victoria is currently governed by labor party , with daniel andrews current premier . personal representative of queen of australia in state is governor of victoria , currently linda dessau . local government is concentrated in 79 municipal districts , including 33 cities , although a number of unincorporated areas still exist , which are administered directly by state .\n",
            "Predicted Answer: 12\n",
            "True Answer: 12\n",
            "--------------------------------------------------\n",
            "Question: how old was temur when he became emperor ?\n",
            "Context: after death of tugh temür in 1332 and subsequent death of ( emperor ) same year , 13-year-old temür ( emperor huizong ) , last of nine successors of kublai khan , was summoned back from guangxi and succeeded to throne . after el temür ' s death , bayan became as powerful an official as el temür had been in beginning of his long reign . as temür grew , he came to disapprove of bayan ' s autocratic rule . in 1340 he allied himself with bayan ' s nephew ' a , who was in discord with bayan , and banished bayan by coup . with dismissal of bayan , seized power of court . his first administration clearly exhibited fresh new spirit . he also gave a few early signs of a new and positive direction in central government . one of his successful projects was to finish official histories of liao , jin , and song dynasties , which were eventually completed in 1345 . yet , resigned his office with approval of temür , marking end of his first administration , and he was not called back until 1349 .\n",
            "Predicted Answer: nine\n",
            "True Answer: 13\n",
            "--------------------------------------------------\n",
            "Question: what is weight of a bushel of coal in pounds ?\n",
            "Context: historical measure of a steam engine ' s energy efficiency was its duty . concept of duty was first introduced by watt in order to illustrate how much more efficient his engines were over earlier newcomen designs . duty is number of of work delivered by burning one bushel ( 94 pounds ) of coal . best examples of newcomen designs had a duty of about 7 million , but most were closer to 5 million . watt ' s original low-pressure designs were able to deliver duty as high as 25 million , but averaged about 17 . this was a three-fold improvement over average newcomen design . early watt engines equipped with high-pressure steam improved this to 65 million .\n",
            "Predicted Answer: 17\n",
            "True Answer: 94\n",
            "--------------------------------------------------\n",
            "Question: how many are there in united states ?\n",
            "Context: and 10-county definitions are not used for greater southern california , one of 11 of united states . ' s area is more expansive , extending east into las vegas , nevada , and south across mexican border into tijuana .\n",
            "Predicted Answer: 11\n",
            "True Answer: 11\n",
            "--------------------------------------------------\n",
            "Question: can bskyb veto presence of channels on their epg ?\n",
            "Context: bskyb has no veto over presence of channels on their epg , with open access being an enforced part of their operating licence from ofcom . any channel which can get carriage on a suitable beam of a satellite at east is entitled to access to bskyb ' s epg for a fee , ranging from , 000 . third-party channels which opt for encryption receive discounts ranging from reduced price to free epg entries , free carriage on a bskyb leased transponder , or actual payment for being carried . however , even in this case , bskyb does not carry any control over channel ' s content or carriage issues such as picture quality .\n",
            "Predicted Answer: veto\n",
            "True Answer: no\n",
            "--------------------------------------------------\n",
            "Question: how many rooms does warsaw historical museum have ?\n",
            "Context: a fine tribute to fall of warsaw and history of poland can be found in warsaw uprising museum and in katyń museum which preserves memory of crime . warsaw uprising museum also operates a rare preserved and operating historic stereoscopic theatre , warsaw . museum of independence preserves patriotic and political objects connected with poland ' s struggles for independence . dating back to 1936 warsaw historical museum contains 60 rooms which host a permanent exhibition of history of warsaw from its origins until today .\n",
            "Predicted Answer: 60\n",
            "True Answer: 60\n",
            "--------------------------------------------------\n",
            "Question: how much capital did uk law require to start a company ?\n",
            "Context: in regard to companies , court of justice held in r ( daily mail and general trust plc ) v hm treasury that member states could restrict a company moving its seat of business , without infringing tfeu article 49 . this meant daily mail newspaper ' s parent company could not evade tax by shifting its residence to netherlands without first settling its tax bills in uk . uk did not need to justify its action , as rules on company seats were not yet harmonised . by contrast , in centros ltd v court of justice found that a uk limited company operating in denmark could not be required to comply with denmark ' s minimum share capital rules . uk law only required of capital to start a company , while denmark ' s legislature took view companies should only be started up if they had 200 , 000 danish krone ( around , 000 ) to protect creditors if company failed and went insolvent . court of justice held that denmark ' s minimum capital law infringed centros ltd ' s freedom of establishment and could not be justified , because a company in uk could admittedly provide services in denmark without being established there , and there were less restrictive means of achieving aim of creditor protection . this approach was criticised as potentially opening eu to\n",
            "Predicted Answer: 200 , 000 danish krone ( around , 000\n",
            "True Answer: \n",
            "--------------------------------------------------\n",
            "Question: how many have occurred in past 6000 yeas ?\n",
            "Context: since yr bp ( = years before present ) , human impact is seen in delta . as a result of increasing land clearance ( bronze age agriculture ) , in upland areas ( central germany ) , sediment load of rhine has strongly increased and delta growth has sped up . this caused increased flooding and sedimentation , ending peat formation in delta . shifting of river channels to new locations , on floodplain ( termed avulsion ) , was main process distributing sediment across delta . over past 6000 years , approximately 80 have occurred . direct human impact in delta started with peat mining , for salt and fuel , from roman times onward . this was followed by embankment , of major distributaries and damming of minor distributaries , which took place in century ad . thereafter , canals were dug , bends were short cut and groynes were built , to prevent river ' s channels from migrating or silting up .\n",
            "Predicted Answer: 80\n",
            "True Answer: 80\n",
            "--------------------------------------------------\n",
            "Question: what is high end of temperature range in winter ?\n",
            "Context: southern california contains a mediterranean climate , with infrequent rain and many sunny days . summers are hot and dry , while winters are a bit warm or mild and wet . serious rain can occur unusually . in summers , temperature ranges are ' s while as winters are ' s , usually all of southern california have mediterranean climate . but snow is very rare in southwest of state , it occurs on southeast of state .\n",
            "Predicted Answer: infrequent\n",
            "True Answer: 70\n",
            "--------------------------------------------------\n",
            "Question: what was average duty of a low-pressure watt engine ?\n",
            "Context: historical measure of a steam engine ' s energy efficiency was its duty . concept of duty was first introduced by watt in order to illustrate how much more efficient his engines were over earlier newcomen designs . duty is number of of work delivered by burning one bushel ( 94 pounds ) of coal . best examples of newcomen designs had a duty of about 7 million , but most were closer to 5 million . watt ' s original low-pressure designs were able to deliver duty as high as 25 million , but averaged about 17 . this was a three-fold improvement over average newcomen design . early watt engines equipped with high-pressure steam improved this to 65 million .\n",
            "Predicted Answer: 17\n",
            "True Answer: 17\n",
            "--------------------------------------------------\n",
            "Question: how many city officials were indicted due to corruption ?\n",
            "Context: in mid-1960s , corruption scandals began to arise among many of city ' s officials , who were mainly elected through traditional old boy network . after a grand jury was convened to investigate , 11 officials were indicted and more were forced to resign . jacksonville consolidation , led by j . j . daniel and claude yates , began to win more support during this period , from both inner city blacks , who wanted more involvement in government , and whites in suburbs , who wanted more services and more control over central city . in 1964 all 15 of duval county ' s public high schools lost their accreditation . this added momentum to proposals for government reform . lower taxes , increased economic development , unification of community , better public spending and effective administration by a more central authority were all cited as reasons for a new consolidated government .\n",
            "Predicted Answer: 15\n",
            "True Answer: 11\n",
            "--------------------------------------------------\n",
            "Question: how many medieval warm period reconstructions were used ?\n",
            "Context: ipcc fourth assessment report ( ar4 ) published in 2007 featured a graph showing 12 proxy based temperature reconstructions , including three highlighted in 2001 third assessment report ( tar ) mann , bradley & hughes 1999 as before , jones et al . 1998 and briffa 2000 had both been calibrated by newer studies . in addition , analysis of medieval warm period cited reconstructions by crowley & lowery 2000 ( as cited in tar ) and osborn & briffa 2006 . ten of these 14 reconstructions covered 1 , 000 years or longer . most reconstructions shared some data series , particularly tree ring data , but newer reconstructions used additional data and covered a wider area , using a variety of statistical methods . section discussed divergence problem affecting certain tree ring data .\n",
            "Predicted Answer: 12 proxy based temperature reconstructions , including three highlighted in 2001 third assessment report ( tar ) mann , bradley & hughes 1999 as before , jones et al . 1998 and briffa 2000 had both been calibrated by newer studies . in addition , analysis of medieval warm period cited reconstructions by crowley & lowery 2000 ( as cited in tar ) and osborn & briffa 2006 . ten of these 14 reconstructions covered 1 , 000\n",
            "True Answer: 14\n",
            "--------------------------------------------------\n",
            "Question: what type of electric current is needed for electrolysis ?\n",
            "Context: oxygen gas can also be produced through electrolysis of water into molecular oxygen and hydrogen . dc electricity must be used if ac is used , gases in each limb consist of hydrogen and oxygen in explosive ratio 2 1 . contrary to popular belief , 2 1 ratio observed in dc electrolysis of acidified water does not prove that empirical formula of water is h2o unless certain assumptions are made about molecular formulae of hydrogen and oxygen themselves . a similar method is o 2 evolution from oxides and . chemical catalysts can be used as well , such as in chemical oxygen generators or oxygen candles that are used as part of life-support equipment on submarines , and are still part of standard equipment on commercial airliners in case of depressurization emergencies . another air separation technology involves forcing air to dissolve through ceramic membranes based on zirconium dioxide by either high pressure or an electric current , to produce nearly pure o 2 gas .\n",
            "Predicted Answer: \n",
            "True Answer: dc\n",
            "--------------------------------------------------\n",
            "Question: what percentage of france ' s population is protestant today ?\n",
            "Context: approximately one million protestants in modern france represent some of its population . most are concentrated in alsace in northeast france and cévennes mountain region in south , who still regard themselves as huguenots to this day . a diaspora of french australians still considers itself huguenot , even after centuries of exile . long integrated into australian society , it is encouraged by huguenot society of australia to embrace and conserve its cultural heritage , aided by society ' s genealogical research services .\n",
            "Predicted Answer: \n",
            "True Answer: \n",
            "--------------------------------------------------\n",
            "Question: how many campuses does california state university have ?\n",
            "Context: tech coast is a moniker that has gained use as a descriptor for region ' s diversified technology and industrial base as well as its multitude of prestigious and world-renowned research universities and other public and private institutions . amongst these include 5 university of california campuses ( irvine , los angeles , riverside , santa barbara , and san diego ) 12 california state university campuses ( bakersfield , channel islands , dominguez hills , fullerton , los angeles , long beach , northridge , pomona , san bernardino , san diego , san marcos , and san luis obispo ) and private institutions such as california institute of technology , chapman university , claremont colleges ( claremont mckenna college , harvey mudd college , pitzer college , pomona college , and scripps college ) , loma linda university , loyola marymount university , occidental college , pepperdine university , university of redlands , university of san diego , and university of southern california .\n",
            "Predicted Answer: 12\n",
            "True Answer: 12\n",
            "--------------------------------------------------\n",
            "Question: how many general principles does social charter declare ?\n",
            "Context: social chapter is a chapter of 1997 treaty of amsterdam covering social policy issues in european union law . basis for social chapter was developed in 1989 by social partners representatives , namely unice , employers ' confederation , european trade union confederation ( etuc ) and , european centre of public enterprises . a toned down version was adopted as social charter at 1989 strasbourg european council . social charter declares 30 general principles , including on fair remuneration of employment , health and safety at work , rights of disabled and elderly , rights of workers , on vocational training and improvements of living conditions . social charter became basis for european community legislation on these issues in 40 pieces of legislation .\n",
            "Predicted Answer: 40\n",
            "True Answer: 30\n",
            "--------------------------------------------------\n",
            "Question: how many academic majors does university grant in total ?\n",
            "Context: college of university of chicago grants bachelor of arts and bachelor of science degrees in 50 academic majors and 28 minors . college ' s academics are divided into five divisions biological sciences collegiate division , physical sciences collegiate division , social sciences collegiate division , humanities collegiate division , and new collegiate division . first four are sections within their corresponding graduate divisions , while new collegiate division administers interdisciplinary majors and studies which do not fit in one of other four divisions .\n",
            "Predicted Answer: \n",
            "True Answer: 50\n",
            "--------------------------------------------------\n",
            "Question: how many academic minors does university grant in total ?\n",
            "Context: college of university of chicago grants bachelor of arts and bachelor of science degrees in 50 academic majors and 28 minors . college ' s academics are divided into five divisions biological sciences collegiate division , physical sciences collegiate division , social sciences collegiate division , humanities collegiate division , and new collegiate division . first four are sections within their corresponding graduate divisions , while new collegiate division administers interdisciplinary majors and studies which do not fit in one of other four divisions .\n",
            "Predicted Answer: \n",
            "True Answer: 28\n",
            "--------------------------------------------------\n",
            "Question: how many people belong to university ' s board of trustees ?\n",
            "Context: university of chicago is governed by a board of trustees . board of trustees oversees long-term development and plans of university and manages fundraising efforts , and is composed of 50 members including university president . directly beneath president are provost , fourteen vice presidents ( including chief financial officer , chief investment officer , and dean of students of university ) , directors of argonne national laboratory and fermilab , secretary of university , and student ombudsperson . as of august , chairman of board of trustees is andrew alper , and president of university is robert zimmer . in december 2013 it was announced that director of argonne national laboratory , eric isaacs , would become provost . isaacs was replaced as provost in march 2016 by daniel .\n",
            "Predicted Answer: 50\n",
            "True Answer: 50\n",
            "--------------------------------------------------\n",
            "Question: does new deal include video on demand and high definition ?\n",
            "Context: agreements include fixed annual carriage fees of for channels with both channel suppliers able to secure additional capped payments if their channels meet certain performance-related targets . currently there is no indication as to whether new deal includes additional video on demand and high definition content which had previously been offered by bskyb . as part of agreements , both bskyb and virgin media agreed to terminate all high court proceedings against each other relating to carriage of their respective basic channels .\n",
            "Predicted Answer: carriage\n",
            "True Answer: no\n",
            "--------------------------------------------------\n",
            "Question: how many private schools existed in new zealand in april 2014 ?\n",
            "Context: as of april 2014 , there are 88 private schools in new zealand , catering for around 28 , 000 students or 3 . of entire student population . private school numbers have been in decline since mid-1970s as a result of many private schools opting to become schools , mostly due of financial difficulties stemming from changes in student numbers and/or economy . schools keep their private school special character and receives state funds in return for having to operate like a state school , e . g . they must teach state curriculum , they must employ registered teachers , and they can ' t charge tuition fees ( they can charge attendance dues for upkeep on school land and buildings ) . largest decline in private school numbers occurred between 1979 and 1984 , when nation ' s catholic school system integrated . as a result , private schools in new zealand are now largely restricted to largest cities ( auckland , hamilton , wellington and christchurch ) and niche markets .\n",
            "Predicted Answer: 88 private schools in new zealand , catering for around 28 , 000\n",
            "True Answer: 88\n",
            "--------------------------------------------------\n",
            "Question: how many research institutes does university run on campus ?\n",
            "Context: university operates 12 research institutes and 113 research centers on campus . among these are oriental museum and research center for near eastern studies owned and operated by a number of national resource centers , including center for middle eastern studies . chicago also operates or is affiliated with a number of research institutions apart from university proper . university partially manages argonne national laboratory , part of united states department of energy ' s national laboratory system , and has a joint stake in fermilab , a nearby particle physics laboratory , as well as a stake in apache point observatory in sunspot , new mexico . faculty and students at adjacent toyota technological institute at chicago collaborate with university , in 2013 , university announced that it was affiliating formerly independent marine biological laboratory in woods hole , mass . although formally unrelated , national opinion research center is located on chicago ' s campus .\n",
            "Predicted Answer: 12\n",
            "True Answer: 12\n",
            "--------------------------------------------------\n",
            "Question: how many drugs approved by fda in 2013 were specialty drugs ?\n",
            "Context: specialty pharmacies supply high cost injectable , oral , infused , or inhaled medications that are used for chronic and complex disease states such as cancer , hepatitis , and rheumatoid arthritis . unlike a traditional community pharmacy where prescriptions for any common medication can be brought in and filled , specialty pharmacies carry novel medications that need to be properly stored , administered , carefully monitored , and clinically managed . in addition to supplying these drugs , specialty pharmacies also provide lab monitoring , adherence counseling , and assist patients with strategies needed to obtain their expensive specialty drugs . it is currently fastest growing sector of pharmaceutical industry with 19 of 28 newly fda approved medications in 2013 being specialty drugs .\n",
            "Predicted Answer: 19\n",
            "True Answer: 19\n",
            "--------------------------------------------------\n",
            "Question: what percentage of private school students go to catholic schools ?\n",
            "Context: as of august 2010 , victoria had 1 , 548 public schools , 489 catholic schools and 214 independent schools . just under 540 , 800 students were enrolled in public schools , and just over 311 , 800 in private schools . over 61 per cent of private students attend catholic schools . more than 462 , 000 students were enrolled in primary schools and more than 390 , 000 in secondary schools . retention rates for final two years of secondary school were 77 per cent for public school students and 90 per cent for private school students . victoria has about 63 , 519 full-time teachers .\n",
            "Predicted Answer: \n",
            "True Answer: 61\n",
            "--------------------------------------------------\n",
            "Question: how many scalar equations were formed into a set by james maxwell ?\n",
            "Context: origin of electric and magnetic fields would not be fully explained until 1864 when james clerk maxwell unified a number of earlier theories into a set of 20 scalar equations , which were later reformulated into 4 vector equations by oliver heaviside and josiah willard gibbs . these maxwell equations fully described sources of fields as being stationary and moving charges , and interactions of fields themselves . this led maxwell to discover that electric and magnetic fields could be through a wave that traveled at a speed that he calculated to be speed of light . this insight united nascent fields of electromagnetic theory with optics and led directly to a complete description of electromagnetic spectrum .\n",
            "Predicted Answer: 20\n",
            "True Answer: 20\n",
            "--------------------------------------------------\n",
            "Question: how many floors are there in building that was completed in 1967 ?\n",
            "Context: tallest building in downtown jacksonville ' s skyline is bank of america tower , constructed in 1990 as barnett center . it has a height of 617 ft ( 188 m ) and includes 42 floors . other notable structures include 37-story wells fargo center ( with its distinctive flared base making it defining building in jacksonville skyline ) , originally built in 1972-74 by independent life and accident insurance company , and 28 floor tower which , when completed in 1967 , was tallest precast , post-tensioned concrete structure in world .\n",
            "Predicted Answer: 42\n",
            "True Answer: 28\n",
            "--------------------------------------------------\n",
            "Question: what percentage of electricity was made by steam turbine in 1990s ?\n",
            "Context: main use for steam turbines is in electricity generation ( in 1990s about of world ' s electric production was by use of steam turbines ) however recent widespread application of large gas turbine units and typical combined cycle power plants has resulted in reduction of this percentage to regime for steam turbines . in electricity production , high speed of turbine rotation matches well with speed of modern electric generators , which are typically direct connected to their driving turbines . in marine service , ( pioneered on ) , steam turbines with reduction gearing ( although has direct turbines to propellers with no reduction gearbox ) dominated large ship propulsion throughout late 20th century , being more efficient ( and requiring far less maintenance ) than reciprocating steam engines . in recent decades , reciprocating diesel engines , and gas turbines , have almost entirely supplanted steam propulsion for marine applications .\n",
            "Predicted Answer: \n",
            "True Answer: 90\n",
            "--------------------------------------------------\n",
            "Question: how many degrees south did amazon rainforest reach from 66-34 mya ?\n",
            "Context: following extinction event , extinction of dinosaurs and wetter climate may have allowed tropical rainforest to spread out across continent . from mya , rainforest extended as far south as . climate fluctuations during last 34 million years have allowed savanna regions to expand into tropics . during oligocene , for example , rainforest spanned a relatively narrow band . it expanded again during middle miocene , then retracted to a mostly inland formation at last glacial maximum . however , rainforest still managed to thrive during these glacial periods , allowing for survival and evolution of a broad diversity of species .\n",
            "Predicted Answer: 34\n",
            "True Answer: 45\n",
            "--------------------------------------------------\n",
            "Question: how many provinces did ottoman empire contain in 17th century ?\n",
            "Context: ottoman empire was an imperial state that lasted from 1299 to 1923 . during 16th and 17th centuries , in particular at height of its power under reign of suleiman magnificent , ottoman empire was a powerful multinational , multilingual empire controlling much of southeast europe , western asia , caucasus , north africa , and horn of africa . at beginning of 17th century empire contained 32 provinces and numerous vassal states . some of these were later absorbed into empire , while others were granted various types of autonomy during course of centuries .\n",
            "Predicted Answer: 32\n",
            "True Answer: 32\n",
            "--------------------------------------------------\n",
            "Question: how many intercollegiate sports does harvard compete in ncaa division i\n",
            "Context: harvard crimson competes in 42 intercollegiate sports in ncaa division i ivy league . harvard has an intense athletic rivalry with yale university culminating in game , although regatta predates football game . this rivalry , though , is put aside every two years when harvard and yale track and field teams come together to compete against a combined oxford university and cambridge university team , a competition that is oldest continuous international amateur competition in world .\n",
            "Predicted Answer: two\n",
            "True Answer: 42\n",
            "--------------------------------------------------\n",
            "Question: at a-level , what percentage of british students attend fee-paying schools ?\n",
            "Context: private schools generally prefer to be called independent schools , because of their freedom to operate outside of government and local government control . some of these are also known as public schools . preparatory schools in uk prepare pupils aged up to 13 years old to enter public schools . name public school is based on fact that schools were open to pupils from anywhere , and not merely to those from a certain locality , and of any religion or occupation . according to good schools guide approximately 9 per cent of children being educated in uk are doing so at fee-paying schools at level and 13 per cent at a-level . many independent schools are single-sex ( though this is becoming less common ) . fees range from under , 000 to , 000 and above per year for day pupils , rising to , per year for boarders . for details in scotland , see meeting cost .\n",
            "Predicted Answer: \n",
            "True Answer: 13\n",
            "--------------------------------------------------\n",
            "Question: how many miles south of san jose is north - south midway point located ?\n",
            "Context: southern california is not a formal geographic designation , and definitions of what constitutes southern california vary . geographically , california ' s north-south midway point lies at exactly 9 ' 58 . 23 latitude , around 11 miles ( 18 km ) south of san jose however , this does not coincide with popular use of term . when state is divided into two areas ( northern and southern california ) , term southern california usually refers to ten southern-most counties of state . this definition coincides neatly with county lines at north latitude , which form northern borders of san luis obispo , kern , and san bernardino counties . another definition for southern california uses point conception and tehachapi mountains as northern boundary .\n",
            "Predicted Answer: 23\n",
            "True Answer: 11\n",
            "--------------------------------------------------\n",
            "Question: how many pieces of legislation has social charter become basis for ?\n",
            "Context: social chapter is a chapter of 1997 treaty of amsterdam covering social policy issues in european union law . basis for social chapter was developed in 1989 by social partners representatives , namely unice , employers ' confederation , european trade union confederation ( etuc ) and , european centre of public enterprises . a toned down version was adopted as social charter at 1989 strasbourg european council . social charter declares 30 general principles , including on fair remuneration of employment , health and safety at work , rights of disabled and elderly , rights of workers , on vocational training and improvements of living conditions . social charter became basis for european community legislation on these issues in 40 pieces of legislation .\n",
            "Predicted Answer: 40\n",
            "True Answer: 40\n",
            "--------------------------------------------------\n",
            "Question: which state route has been in discussion to upgrade to interstate standards ?\n",
            "Context: fresno is largest u . s . city not directly linked to an interstate highway . when interstate highway system was created in 1950s , decision was made to build what is now interstate 5 on west side of central valley , and thus bypass many of population centers in region , instead of upgrading what is now state route 99 . due to rapidly raising population and traffic in cities along sr 99 , as well as desirability of federal funding , much discussion has been made to upgrade it to interstate standards and eventually incorporate it into interstate system , most likely as interstate 9 . major improvements to signage , lane width , median separation , vertical clearance , and other concerns are currently underway .\n",
            "Predicted Answer: 1950s\n",
            "True Answer: 99\n",
            "--------------------------------------------------\n",
            "Question: up to what age do students in united kingdom attend preparatory schools ?\n",
            "Context: private schools generally prefer to be called independent schools , because of their freedom to operate outside of government and local government control . some of these are also known as public schools . preparatory schools in uk prepare pupils aged up to 13 years old to enter public schools . name public school is based on fact that schools were open to pupils from anywhere , and not merely to those from a certain locality , and of any religion or occupation . according to good schools guide approximately 9 per cent of children being educated in uk are doing so at fee-paying schools at level and 13 per cent at a-level . many independent schools are single-sex ( though this is becoming less common ) . fees range from under , 000 to , 000 and above per year for day pupils , rising to , per year for boarders . for details in scotland , see meeting cost .\n",
            "Predicted Answer: 9\n",
            "True Answer: 13\n",
            "--------------------------------------------------\n",
            "Question: how many seats does victoria have in australian house of representatives ?\n",
            "Context: politically , victoria has 37 seats in australian house of representatives and 12 seats in australian senate . at state level , parliament of victoria consists of legislative assembly ( lower house ) and legislative council ( upper house ) . victoria is currently governed by labor party , with daniel andrews current premier . personal representative of queen of australia in state is governor of victoria , currently linda dessau . local government is concentrated in 79 municipal districts , including 33 cities , although a number of unincorporated areas still exist , which are administered directly by state .\n",
            "Predicted Answer: 12\n",
            "True Answer: 37\n",
            "--------------------------------------------------\n",
            "Question: what was percentage of people that voted in favor of pico act of 1859 ?\n",
            "Context: subsequently , californios ( dissatisfied with inequitable taxes and land laws ) and pro-slavery southerners in lightly populated cow counties of southern california attempted three times in 1850s to achieve a separate statehood or territorial status separate from northern california . last attempt , pico act of 1859 , was passed by california state legislature and signed by state governor john b . weller . it was approved overwhelmingly by nearly of voters in proposed territory of colorado . this territory was to include all counties up to then much larger tulare county ( that included what is now kings , most of kern , and part of inyo counties ) and san luis obispo county . proposal was sent to washington , d . c . with a strong advocate in senator milton latham . however , secession crisis following election of abraham lincoln in 1860 led to proposal never coming to a vote .\n",
            "Predicted Answer: 1860\n",
            "True Answer: 75\n",
            "--------------------------------------------------\n",
            "Question: what percentage of filipino tertiary education takes place in private schools ?\n",
            "Context: in philippines , private sector has been a major provider of educational services , accounting for about 7 . of primary enrollment , of secondary enrollment and about of tertiary enrollment . private schools have proven to be efficient in resource utilization . per unit costs in private schools are generally lower when compared to public schools . this situation is more evident at tertiary level . government regulations have given private education more flexibility and autonomy in recent years , notably by lifting moratorium on applications for new courses , new schools and conversions , by liberalizing tuition fee policy for private schools , by replacing values education for third and fourth years with english , mathematics and natural science at option of school , and by issuing revised manual of regulations for private schools in august 1992 .\n",
            "Predicted Answer: \n",
            "True Answer: 80\n",
            "--------------------------------------------------\n",
            "Question: as of 2008 , about what percentage of swedish students attended private schools ?\n",
            "Context: in sweden , pupils are free to choose a private school and private school gets paid same amount as municipal schools . over of swedish pupils were enrolled in private schools in 2008 . sweden is internationally known for this innovative school voucher model that provides swedish pupils with opportunity to choose school they prefer . for instance , biggest school chain , ( knowledge ) , offers 30 schools and a web-based environment , has 700 employees and teaches nearly 10 , 000 pupils . swedish system has been recommended to barack obama .\n",
            "Predicted Answer: sweden\n",
            "True Answer: 10\n",
            "--------------------------------------------------\n",
            "Question: what is expression used to represent a complexity class of counting problems ?\n",
            "Context: other important complexity classes include bpp , zpp and rp , which are defined using probabilistic turing machines ac and nc , which are defined using boolean circuits and and qma , which are defined using quantum turing machines . #p is an important complexity class of counting problems ( not decision problems ) . classes like ip and am are defined using interactive proof systems . all is class of all decision problems .\n",
            "Predicted Answer: ac\n",
            "True Answer: #p\n",
            "--------------------------------------------------\n",
            "Question: at what degree are pistons of a two-cylinder compound connected to cranks ?\n",
            "Context: with two-cylinder compounds used in railway work , pistons are connected to cranks as with a two-cylinder simple at out of phase with each other ( quartered ) . when double expansion group is duplicated , producing a 4-cylinder compound , individual pistons within group are usually balanced at , groups being set at to each other . in one case ( first type of compound ) , pistons worked in same phase driving a common crosshead and crank , again set at as for a two-cylinder engine . with 3-cylinder compound arrangement , lp cranks were either set at with hp one at to other two , or in some cases all three cranks were set at .\n",
            "Predicted Answer: crank\n",
            "True Answer: 90\n",
            "--------------------------------------------------\n",
            "Question: what percentage of electrical power in united states is made by steam turbines ?\n",
            "Context: final major evolution of steam engine design was use of steam turbines starting in late part of 19th century . steam turbines are generally more efficient than reciprocating piston type steam engines ( for outputs above several hundred horsepower ) , have fewer moving parts , and provide rotary power directly instead of through a connecting rod system or similar means . steam turbines virtually replaced reciprocating engines in electricity generating stations early in 20th century , where their efficiency , higher speed appropriate to generator service , and smooth rotation were advantages . today most electric power is provided by steam turbines . in united states of electric power is produced in this way using a variety of heat sources . steam turbines were extensively applied for propulsion of large ships throughout most of 20th century .\n",
            "Predicted Answer: 19th century . steam turbines are generally more efficient than reciprocating piston type steam engines ( for outputs above several hundred horsepower ) , have fewer moving parts , and provide rotary power directly instead of through a connecting rod system or similar means . steam turbines virtually replaced reciprocating engines in electricity generating stations early in\n",
            "True Answer: 90\n",
            "--------------------------------------------------\n",
            "Question: how many developed countries did british researchers use to gather statistics from ?\n",
            "Context: british researchers richard g . wilkinson and kate pickett have found higher rates of health and social problems ( obesity , mental illness , homicides , teenage births , incarceration , child conflict , drug use ) , and lower rates of social goods ( life expectancy by country , educational performance , trust among strangers , women ' s status , social mobility , even numbers of patents issued ) in countries and states with higher inequality . using statistics from 23 developed countries and 50 states of us , they found problems lower in countries like japan and finland and states like utah and new hampshire with high levels of equality , than in countries ( us and uk ) and states ( mississippi and new york ) with large differences in household income .\n",
            "Predicted Answer: 23\n",
            "True Answer: 23\n",
            "--------------------------------------------------\n",
            "Question: during 2012-2013 , how many student were able to take core classes at a single time ?\n",
            "Context: undergraduate students are required to take a distribution of courses to satisfy university ' s core curriculum known as common core . in 2012-2013 , core classes at chicago were limited to 17 students , and are generally led by a full-time professor ( as opposed to a teaching assistant ) . as of school year , 15 courses and demonstrated proficiency in a foreign language are required under core . undergraduate courses at university of chicago are known for their demanding standards , heavy workload and academic difficulty according to uni in usa , among academic cream of american universities – harvard , yale , princeton , mit , and university of chicago – it is that can most convincingly claim to provide most rigorous , intense learning experience .\n",
            "Predicted Answer: 17\n",
            "True Answer: 17\n",
            "--------------------------------------------------\n",
            "Question: in philippines , what percentage of secondary school students attend private schools ?\n",
            "Context: in philippines , private sector has been a major provider of educational services , accounting for about 7 . of primary enrollment , of secondary enrollment and about of tertiary enrollment . private schools have proven to be efficient in resource utilization . per unit costs in private schools are generally lower when compared to public schools . this situation is more evident at tertiary level . government regulations have given private education more flexibility and autonomy in recent years , notably by lifting moratorium on applications for new courses , new schools and conversions , by liberalizing tuition fee policy for private schools , by replacing values education for third and fourth years with english , mathematics and natural science at option of school , and by issuing revised manual of regulations for private schools in august 1992 .\n",
            "Predicted Answer: fourth\n",
            "True Answer: 32\n",
            "--------------------------------------------------\n",
            "Question: as a result of a compromise , about how many chinese schools became national type schools ?\n",
            "Context: after malaysia ' s independence in 1957 , government instructed all schools to surrender their properties and be assimilated into national school system . this caused an uproar among chinese and a compromise was achieved in that schools would instead become national type schools . under such a system , government is only in charge of school curriculum and teaching personnel while lands still belonged to schools . while chinese primary schools were allowed to retain chinese as medium of instruction , chinese secondary schools are required to change into english-medium schools . over 60 schools converted to become national type schools .\n",
            "Predicted Answer: 60\n",
            "True Answer: 60\n",
            "--------------------------------------------------\n",
            "Question: np complete problems contain lowest likelihood of being located in what problem class ?\n",
            "Context: if a problem x is in c and hard for c , then x is said to be complete for c . this means that x is hardest problem in c . ( since many problems could be equally hard , one might say that x is one of hardest problems in c . ) thus class of np-complete problems contains most difficult problems in np , in sense that they are ones most likely not to be in p . because problem p = np is not solved , being able to reduce a known np-complete problem , π2 , to another problem , π1 , would indicate that there is no known polynomial-time solution for π1 . this is because a polynomial-time solution to π1 would yield a polynomial-time solution to π2 . similarly , because all np problems can be reduced to set , finding an np-complete problem that can be solved in polynomial time would mean that p = np .\n",
            "Predicted Answer: hardest\n",
            "True Answer: np\n",
            "--------------------------------------------------\n",
            "Question: what complexity class is commonly characterized by unknown algorithms to enhance solvability ?\n",
            "Context: complexity class p is often seen as a mathematical abstraction modeling those computational tasks that admit an efficient algorithm . this hypothesis is called thesis . complexity class np , on other hand , contains many problems that people would like to solve efficiently , but for which no efficient algorithm is known , such as boolean satisfiability problem , hamiltonian path problem and vertex cover problem . since deterministic turing machines are special non-deterministic turing machines , it is easily observed that each problem in p is also member of class np .\n",
            "Predicted Answer: \n",
            "True Answer: np\n",
            "--------------------------------------------------\n",
            "Question: how many days does parliament have to nominate a first minister after a general election ?\n",
            "Context: under scotland act 1998 , ordinary general elections for scottish parliament are held on first thursday in may every four years ( 1999 , 2003 , 2007 and so on ) . date of poll may be varied by up to one month either way by monarch on proposal of presiding officer . if parliament itself resolves that it should be dissolved ( with at least two-thirds of members voting in favour ) , or if parliament fails to nominate one of its members to be first minister within 28 days of a general election or of position becoming vacant , presiding officer proposes a date for an extraordinary general election and parliament is dissolved by queen by royal proclamation . extraordinary general elections are in addition to ordinary general elections , unless held less than six months before due date of an ordinary general election , in which case they supplant it . following ordinary election reverts to first thursday in may , a multiple of four years after 1999 ( i . e . , 5 may 2011 , 7 may 2015 , etc . ) .\n",
            "Predicted Answer: four years ( 1999 , 2003 , 2007 and so on ) . date of poll may be varied by up to one month either way by monarch on proposal of presiding officer . if parliament itself resolves that it should be dissolved ( with at least two-thirds of members voting in favour ) , or if parliament fails to nominate one of its members to be first minister within 28 days of a general election or of position becoming vacant , presiding officer proposes a date for an extraordinary general election and parliament is dissolved by queen by royal proclamation . extraordinary general elections are in addition to ordinary general elections , unless held less than six months before due date of an ordinary general election , in which case they supplant it . following ordinary election reverts to first thursday in may , a multiple of four\n",
            "True Answer: 28\n",
            "--------------------------------------------------\n",
            "Question: at what angle were groups of pistons set in relation to one another in a 4-cylinder compound ?\n",
            "Context: with two-cylinder compounds used in railway work , pistons are connected to cranks as with a two-cylinder simple at out of phase with each other ( quartered ) . when double expansion group is duplicated , producing a 4-cylinder compound , individual pistons within group are usually balanced at , groups being set at to each other . in one case ( first type of compound ) , pistons worked in same phase driving a common crosshead and crank , again set at as for a two-cylinder engine . with 3-cylinder compound arrangement , lp cranks were either set at with hp one at to other two , or in some cases all three cranks were set at .\n",
            "Predicted Answer: crank\n",
            "True Answer: 90\n",
            "--------------------------------------------------\n",
            "Question: if polynomial time can be utilized within an np-complete problem , what does imply p is equal to\n",
            "Context: if a problem x is in c and hard for c , then x is said to be complete for c . this means that x is hardest problem in c . ( since many problems could be equally hard , one might say that x is one of hardest problems in c . ) thus class of np-complete problems contains most difficult problems in np , in sense that they are ones most likely not to be in p . because problem p = np is not solved , being able to reduce a known np-complete problem , π2 , to another problem , π1 , would indicate that there is no known polynomial-time solution for π1 . this is because a polynomial-time solution to π1 would yield a polynomial-time solution to π2 . similarly , because all np problems can be reduced to set , finding an np-complete problem that can be solved in polynomial time would mean that p = np .\n",
            "Predicted Answer: hardest\n",
            "True Answer: np\n",
            "--------------------------------------------------\n",
            "Question: what is minimum percent of alcohol content a german law requires all spirits and liqueurs to have ?\n",
            "Context: often rules apply to all goods neutrally , but may have a greater practical effect on imports than domestic products . for such indirect discriminatory ( or indistinctly applicable ) measures court of justice has developed more justifications either those in article 36 , or additional mandatory or overriding requirements such as consumer protection , improving labour standards , protecting environment , press diversity , fairness in commerce , and more categories are not closed . in most famous case ag v für , court of justice found that a german law requiring all spirits and liqueurs ( not just imported ones ) to have a minimum alcohol content of 25 per cent was contrary to tfeu article 34 , because it had a greater negative effect on imports . german liqueurs were over 25 per cent alcohol , but cassis de dijon , which ag wished to import from france , only had 15 to 20 per cent alcohol . court of justice rejected german government ' s arguments that measure proportionately protected public health under tfeu article 36 , because stronger beverages were available and adequate labelling would be enough for consumers to understand what they bought . this rule primarily applies to requirements about a product ' s content or packaging . in walter rau v de smedt court of justice found that a belgian law requiring all margarine to\n",
            "Predicted Answer: 34\n",
            "True Answer: 25\n",
            "--------------------------------------------------\n",
            "Question: what is lowest ranking one of counties could have in terms of most populous counties in\n",
            "Context: its counties of los angeles , orange , san diego , san bernardino , and riverside are five most populous in state and all are in top 15 most populous counties in united states .\n",
            "Predicted Answer: 15\n",
            "True Answer: 15\n",
            "--------------------------------------------------\n",
            "Question: how many combinatory and graph theoretical problems , formerly believed to be plagued by intractability , did karp '\n",
            "Context: in 1967 , manuel blum developed an axiomatic complexity theory based on his axioms and proved an important result , so-called , speed-up theorem . field really began to flourish in 1971 when us researcher stephen cook and , working independently , leonid levin in ussr , proved that there exist practically relevant problems that are np-complete . in 1972 , richard karp took this idea a leap forward with his landmark paper , reducibility among combinatorial problems , in which he showed that 21 diverse combinatorial and graph theoretical problems , each infamous for its computational intractability , are np-complete .\n",
            "Predicted Answer: 21\n",
            "True Answer: 21\n",
            "--------------------------------------------------\n",
            "Question: how many msps are there ?\n",
            "Context: after each election to scottish parliament , at beginning of each parliamentary session , parliament elects one msp to serve as presiding officer , equivalent of speaker ( currently tricia marwick ) , and two msps to serve as deputies ( currently elaine smith and john scott ) . presiding officer and deputies are elected by a secret ballot of 129 msps , which is only secret ballot conducted in scottish parliament . principally , role of presiding officer is to chair chamber proceedings and scottish parliamentary corporate body . when chairing meetings of parliament , presiding officer and his/her deputies must be politically impartial . during debates , presiding officer ( or deputy ) is assisted by parliamentary clerks , who give advice on how to interpret standing orders that govern proceedings of meetings . a vote clerk sits in front of presiding officer and operates electronic voting equipment and chamber clocks .\n",
            "Predicted Answer: two\n",
            "True Answer: 129\n",
            "--------------------------------------------------\n",
            "Question: who is owned by ?\n",
            "Context: bskyb utilises pay-tv scrambling system owned by nds , a cisco systems company . there are tight controls over use of decoders they are not available as stand-alone dvb cams ( modules ) . bskyb has design authority over all digital satellite receivers capable of receiving their service . receivers , though designed and built by different manufacturers , must conform to same user interface as all others . this extends to personal video recorder ( pvr ) offering ( branded ) .\n",
            "Predicted Answer: tight\n",
            "True Answer: nds\n",
            "--------------------------------------------------\n",
            "Question: what is mineral ?\n",
            "Context: due to its electronegativity , oxygen forms chemical bonds with almost all other elements to give corresponding oxides . surface of most metals , such as aluminium and titanium , are oxidized in presence of air and become coated with a thin film of oxide that metal and slows further corrosion . many oxides of transition metals are non-stoichiometric compounds , with slightly less metal than chemical formula would show . for example , mineral feo ( ) is written as fe 1 xo , where x is usually around 0 . 05 .\n",
            "Predicted Answer: \n",
            "True Answer: feo\n",
            "--------------------------------------------------\n",
            "Question: who commissioned tapestry ?\n",
            "Context: by far most famous work of norman art is bayeux tapestry , which is not a tapestry but a work of embroidery . it was commissioned by odo , bishop of bayeux and first earl of kent , employing natives from kent who were learned in nordic traditions imported in previous half century by danish vikings .\n",
            "Predicted Answer: \n",
            "True Answer: odo\n",
            "--------------------------------------------------\n",
            "Question: symbol for mercuric oxide is ?\n",
            "Context: in meantime , on august 1 , 1774 , an experiment conducted by british clergyman joseph priestley focused sunlight on mercuric oxide ( hgo ) inside a glass tube , which liberated a gas he named air . he noted that candles burned brighter in gas and that a mouse was more active and lived longer while breathing it . after breathing gas himself , he wrote feeling of it to my lungs was not sensibly different from that of common air , but i fancied that my breast felt peculiarly light and easy for some time afterwards . priestley published his findings in 1775 in a paper titled an account of further discoveries in air which was included in second volume of his book titled experiments and observations on different kinds of air . because he published his findings first , priestley is usually given priority in discovery .\n",
            "Predicted Answer: glass tube , which liberated a gas he named air . he noted that candles burned\n",
            "True Answer: hgo\n",
            "--------------------------------------------------\n",
            "Question: how many victorians are non-religious ?\n",
            "Context: about 61 . of victorians describe themselves as christian . roman catholics form single largest religious group in state with 26 . of victorian population , followed by anglicans and members of uniting church . buddhism is state ' s largest non-christian religion , with 168 , 637 members as of most recent census . victoria is also home of 152 , 775 muslims and 45 , 150 jews . hinduism is fastest growing religion . around of victorians claim no religion . amongst those who declare a religious affiliation , church attendance is low .\n",
            "Predicted Answer: 150\n",
            "True Answer: \n",
            "--------------------------------------------------\n",
            "Question: how many horsepower was watt ' s engine ?\n",
            "Context: in 1781 james watt patented a steam engine that produced continuous rotary motion . watt ' s engines enabled a wide range of manufacturing machinery to be powered . engines could be sited anywhere that water and coal or wood fuel could be obtained . by 1883 , engines that could provide 10 , 000 hp had become feasible . stationary steam engine was a key component of industrial revolution , allowing factories to locate where water power was unavailable . atmospheric engines of newcomen and watt were large compared to amount of power they produced , but high pressure steam engines were light enough to be applied to vehicles such as traction engines and railway locomotives .\n",
            "Predicted Answer: 10 , 000\n",
            "True Answer: ten\n",
            "--------------------------------------------------\n",
            "Question: how many major ice ages have occurred ?\n",
            "Context: around 2 . 5 million years ago ( ending 11 , 600 years ago ) was geological period of ice ages . since approximately 600 , 000 years ago , six major ice ages have occurred , in which sea level dropped 120 m ( 390 ft ) and much of continental margins became exposed . in early pleistocene , rhine followed a course to northwest , through present north sea . during so-called anglian glaciation ( , 000 yr bp , marine oxygen isotope stage 12 ) , northern part of present north sea was blocked by ice and a large lake developed , that overflowed through english channel . this caused rhine ' s course to be diverted through english channel . since then , during glacial times , river mouth was located offshore of brest , france and rivers , like thames and seine , became tributaries to rhine . during interglacials , when sea level rose to approximately present level , rhine built deltas , in what is now netherlands .\n",
            "Predicted Answer: \n",
            "True Answer: six\n",
            "--------------------------------------------------\n",
            "Question: when was duchy of normandy founded ?\n",
            "Context: in course of 10th century , initially destructive incursions of norse war bands into rivers of france evolved into more permanent encampments that included local women and personal property . duchy of normandy , which began in 911 as a fiefdom , was established by treaty of between king charles iii of west francia and famed viking ruler rollo , and was situated in former frankish kingdom of neustria . treaty offered rollo and his men french lands between river and atlantic coast in exchange for their protection against further viking incursions . area corresponded to northern part of present-day upper normandy down to river seine , but duchy would eventually extend west beyond seine . territory was roughly equivalent to old province of rouen , and reproduced roman administrative structure of gallia lugdunensis ii ( part of former gallia lugdunensis ) .\n",
            "Predicted Answer: 911\n",
            "True Answer: 911\n",
            "--------------------------------------------------\n",
            "Question: what percentage of farmland grows wheat ?\n",
            "Context: more than 26 , 000 square kilometres ( 10 , 000 sq mi ) of victorian farmland are sown for grain , mostly in state ' s west . more than of this area is sown for wheat , for barley and for oats . a further 6 , 000 square kilometres ( 2 , 300 sq mi ) is sown for hay . in , victorian farmers produced more than 3 million tonnes of wheat and 2 million tonnes of barley . victorian farms produce nearly of australian pears and third of apples . it is also a leader in stone fruit production . main vegetable crops include asparagus , broccoli , carrots , potatoes and tomatoes . last year , 121 , 200 tonnes of pears and 270 , 000 tonnes of tomatoes were produced .\n",
            "Predicted Answer: \n",
            "True Answer: \n",
            "--------------------------------------------------\n",
            "Question: what are secretions commonly called ?\n",
            "Context: when some species , including chuni , and , are disturbed , they produce secretions ( ink ) that at much same wavelengths as their bodies . juveniles will more brightly in relation to their body size than adults , whose luminescence is diffused over their bodies . detailed statistical investigation has not suggested function of ctenophores ' bioluminescence nor produced any correlation between its exact color and any aspect of animals ' environments , such as depth or whether they live in coastal or mid-ocean waters .\n",
            "Predicted Answer: adults\n",
            "True Answer: ink\n",
            "--------------------------------------------------\n",
            "Question: how many miles east of berlin is warsaw ?\n",
            "Context: warsaw lies in east-central poland about 300 km ( 190 mi ) from carpathian mountains and about 260 km ( 160 mi ) from baltic sea , 523 km ( 325 mi ) east of berlin , germany . city straddles vistula river . it is located in heartland of masovian plain , and its average elevation is 100 metres ( 330 ft ) above sea level . highest point on left side of city lies at a height of 115 . 7 metres ( 379 . 6 ft ) ( bus depot , district of wola ) , on right side – 122 . 1 metres ( 400 . 6 ft ) ( estate , district of wesoła , by eastern border ) . lowest point lies at a height 75 . 6 metres ( 248 . 0 ft ) ( at right bank of vistula , by eastern border of warsaw ) . there are some hills ( mostly artificial ) located within confines of city – e . g . warsaw uprising hill ( 121 metres ( 397 . 0 ft ) ) , hill ( 138 metres ( 452 . 8 ft ) – highest point of warsaw in general ) .\n",
            "Predicted Answer: 300\n",
            "True Answer: 325\n",
            "--------------------------------------------------\n",
            "Question: how many catholic schools were in victoria ?\n",
            "Context: as of august 2010 , victoria had 1 , 548 public schools , 489 catholic schools and 214 independent schools . just under 540 , 800 students were enrolled in public schools , and just over 311 , 800 in private schools . over 61 per cent of private students attend catholic schools . more than 462 , 000 students were enrolled in primary schools and more than 390 , 000 in secondary schools . retention rates for final two years of secondary school were 77 per cent for public school students and 90 per cent for private school students . victoria has about 63 , 519 full-time teachers .\n",
            "Predicted Answer: \n",
            "True Answer: 489\n",
            "--------------------------------------------------\n",
            "Question: what does ' s name change into ?\n",
            "Context: other third of water flows through kanaal and redistributes in ijssel and nederrijn . ijssel branch carries one ninth of water flow of rhine north into ijsselmeer ( a former bay ) , while nederrijn carries approximately two of flow west along a route parallel to waal . however , at wijk bij duurstede , nederrijn changes its name and becomes lek . it flows farther west , to rejoin noord river into nieuwe maas and to north sea .\n",
            "Predicted Answer: third of water flows through kanaal and redistributes in ijssel and nederrijn . ijssel\n",
            "True Answer: lek\n",
            "--------------------------------------------------\n",
            "Question: how many seats are in debating chamber ?\n",
            "Context: debating chamber of scottish parliament has seating arranged in a hemicycle , which reflects desire to encourage consensus amongst elected members . there are 131 seats in debating chamber . of total 131 seats , 129 are occupied by parliament ' s elected msps and 2 are seats for scottish law officers – lord advocate and solicitor general for scotland , who are not elected members of parliament but are members of scottish government . as such law officers may attend and speak in plenary meetings of parliament but , as they are not elected msps , cannot vote . members are able to sit anywhere in debating chamber , but typically sit in their party groupings . first minister , scottish cabinet ministers and law officers sit in front row , in middle section of chamber . largest party in parliament sits in middle of semicircle , with opposing parties on either side . presiding officer , parliamentary clerks and officials sit opposite members at front of debating chamber .\n",
            "Predicted Answer: 2 are seats for scottish law officers – lord advocate and solicitor general for scotland , who are not elected members of parliament but are members of scottish government . as such law officers may attend and speak in plenary meetings of parliament but , as they are not elected msps , cannot vote . members are able to sit anywhere in debating chamber , but typically sit in their party groupings . first minister , scottish cabinet\n",
            "True Answer: 131\n",
            "--------------------------------------------------\n",
            "Question: how many teams did los angeles used to have ?\n",
            "Context: from 2005 to 2014 , there were two major league soccer teams in los angeles — la galaxy and chivas usa — that both played at stubhub center and were local rivals . however , chivas were suspended following 2014 mls season , with a second mls team scheduled to return in 2018 .\n",
            "Predicted Answer: two\n",
            "True Answer: two\n",
            "--------------------------------------------------\n",
            "Question: what does nederrijn change it ' s name to ?\n",
            "Context: other third of water flows through kanaal and redistributes in ijssel and nederrijn . ijssel branch carries one ninth of water flow of rhine north into ijsselmeer ( a former bay ) , while nederrijn carries approximately two of flow west along a route parallel to waal . however , at wijk bij duurstede , nederrijn changes its name and becomes lek . it flows farther west , to rejoin noord river into nieuwe maas and to north sea .\n",
            "Predicted Answer: third of water flows through kanaal and redistributes in ijssel and nederrijn . ijssel\n",
            "True Answer: lek\n",
            "--------------------------------------------------\n",
            "Question: how many botanical gardens does warsaw have ?\n",
            "Context: flora of city may be considered very rich in species . species richness is mainly due to location of warsaw within border region of several big floral regions comprising substantial proportions of areas ( natural forests , wetlands along vistula ) as well as arable land , meadows and forests . bielany forest , located within borders of warsaw , is remaining part of masovian primeval forest . bielany forest nature reserve is connected with kampinos forest . it is home to rich fauna and flora . within forest there are three cycling and walking trails . other big forest area is forest by southern city border . warsaw has also two botanic gardens by park ( a unit of university of warsaw ) as well as by park of culture and rest in ( a unit of polish academy of science ) .\n",
            "Predicted Answer: three\n",
            "True Answer: two\n",
            "--------------------------------------------------\n",
            "Question: what is bond order of dioxygen molecules ?\n",
            "Context: in this dioxygen , two oxygen atoms are chemically bonded to each other . bond can be variously described based on level of theory , but is reasonably and simply described as a covalent double bond that results from filling of molecular orbitals formed from atomic orbitals of individual oxygen atoms , filling of which results in a bond order of two . more specifically , double bond is result of sequential , energy , or aufbau , filling of orbitals , and resulting cancellation of contributions from 2s electrons , after sequential filling of low σ and orbitals σ overlap of two atomic 2p orbitals that lie along o-o molecular axis and π overlap of two pairs of atomic 2p orbitals perpendicular to o-o molecular axis , and then cancellation of contributions from remaining two of six 2p electrons after their partial filling of lowest π and orbitals .\n",
            "Predicted Answer: oxygen\n",
            "True Answer: two\n",
            "--------------------------------------------------\n",
            "Question: how much heavier is oxygen 18 than oxygen 16 ?\n",
            "Context: measure ratio of oxygen-18 and in shells and skeletons of marine organisms to determine what climate was like millions of years ago ( see oxygen isotope ratio cycle ) . seawater molecules that contain lighter isotope , , evaporate at a slightly faster rate than water molecules containing heavier oxygen-18 this disparity increases at lower temperatures . during periods of lower global temperatures , snow and rain from that evaporated water tends to be higher in , and seawater left behind tends to be higher in oxygen-18 . marine organisms then incorporate more oxygen-18 into their skeletons and shells than they would in a warmer climate . also directly measure this ratio in water molecules of ice core samples that are up to several hundreds of thousands of years old .\n",
            "Predicted Answer: measure ratio of oxygen-18 and in shells and skeletons of marine organisms to determine what climate was like millions of years ago ( see oxygen isotope ratio cycle ) . seawater molecules that contain lighter isotope , , evaporate at a slightly faster rate than water molecules containing heavier oxygen-18 this disparity increases at lower temperatures . during periods of lower global temperatures , snow and rain from that evaporated water tends to be higher in , and seawater left behind tends to be higher in oxygen-18 . marine organisms then incorporate more oxygen-18 into their skeletons and shells than they would in a warmer climate . also directly measure this ratio in\n",
            "True Answer: \n",
            "--------------------------------------------------\n"
          ]
        }
      ],
      "source": [
        "# Compare the predictions with the actual answers\n",
        "for i in range(100):\n",
        "    print(f\"Question: {questions[i]}\")\n",
        "    print(f\"Context: {contexts[i]}\")\n",
        "    print(f\"Predicted Answer: {preds[i]}\")\n",
        "    print(f\"True Answer: {true_labels[i]}\")\n",
        "    print(\"-\" * 50)"
      ]
    },
    {
      "cell_type": "markdown",
      "metadata": {
        "id": "2IRWZCjPj1Mj"
      },
      "source": [
        "##### Evaluate predictions on training set"
      ]
    },
    {
      "cell_type": "code",
      "execution_count": 24,
      "metadata": {
        "colab": {
          "base_uri": "https://localhost:8080/"
        },
        "id": "nkq7ofTKM3J2",
        "outputId": "a48bb8ad-fe50-4892-f465-86fc7757b29f"
      },
      "outputs": [
        {
          "name": "stderr",
          "output_type": "stream",
          "text": [
            "Predicting: 100%|██████████| 311/311 [01:17<00:00,  4.03it/s]\n"
          ]
        }
      ],
      "source": [
        "train_preds, train_true_labels, train_contexts, train_questions = predict_qa_context_model_boilerplate(model=model, dataloader=train_dataloader, tokenizer=tokenizer, device=device, inputs = [\"context_question\", \"attention_mask_context_question\"])"
      ]
    },
    {
      "cell_type": "code",
      "execution_count": 25,
      "metadata": {
        "colab": {
          "base_uri": "https://localhost:8080/"
        },
        "id": "xq15_9YiM3J2",
        "outputId": "2d41771e-3407-43f4-c6dd-6b2be9108b0d"
      },
      "outputs": [
        {
          "name": "stdout",
          "output_type": "stream",
          "text": [
            "Question: how many of fortune 500 companies are based in seattle ?\n",
            "Context: still , very large companies dominate business landscape . four companies on 2013 fortune 500 list of united states ' largest companies , based on total revenue , are headquartered in seattle internet retailer amazon . com ( ) , coffee chain starbucks ( ) , department store nordstrom ( ) , and freight forwarder expeditors international of washington ( ) . other fortune 500 companies popularly associated with seattle are based in nearby puget sound cities . warehouse club chain costco ( ) , largest retail company in washington , is based in issaquah . microsoft ( ) is located in redmond . weyerhaeuser , forest products company ( ) , is based in federal way . finally , bellevue is home to truck manufacturer paccar ( ) . other major companies in area include nintendo of america in redmond , t-mobile us in bellevue , expedia inc . in bellevue and providence health & services — state ' s largest health care system and fifth largest employer — in renton . city has a reputation for heavy coffee consumption coffee companies founded or based in seattle include starbucks , seattle ' s best coffee , and tully ' s . there are also many successful independent artisanal espresso roasters and cafés .\n",
            "Predicted Answer: four\n",
            "True Answer: four\n",
            "--------------------------------------------------\n",
            "Question: in what year did network end american programming ?\n",
            "Context: until 1998 , network carried a variety of american programs in addition to its core canadian programming , directly competing with private canadian broadcasters such as ctv and global . since then , it has restricted itself to canadian programs , a handful of british programs , and a few american movies and off-network repeats . since this change , cbc has sometimes struggled to maintain ratings comparable to those it achieved before 1995 , although it has seen somewhat of a ratings resurgence in recent years . in 2007-08 season , hit series such as little mosque on prairie and border helped network achieve its strongest ratings performance in over half a decade .\n",
            "Predicted Answer: 1995\n",
            "True Answer: 1998\n",
            "--------------------------------------------------\n",
            "Question: what does term moors refer to ?\n",
            "Context: term moors has been used in europe in a broader , somewhat derogatory sense to refer to muslims , especially those of arab or berber descent , whether living in north africa or iberia . moors were not a distinct or self-defined people . medieval and early modern europeans applied name to muslim arabs , berbers , black africans and europeans alike .\n",
            "Predicted Answer: \n",
            "True Answer: muslims\n",
            "--------------------------------------------------\n",
            "Question: what percentage of copper has been extracted since 1900 ?\n",
            "Context: copper has been in use at least 10 , 000 years , but more than of all copper ever mined and smelted has been extracted since 1900 , and more than half was extracted in only last 24 years . as with many natural resources , total amount of copper on earth is vast ( around 1014 tons just in top kilometer of earth ' s crust , or about 5 million years ' worth at current rate of extraction ) . however , only a tiny fraction of these reserves is economically viable , given present-day prices and technologies . various estimates of existing copper reserves available for mining vary from 25 years to 60 years , depending on core assumptions such as growth rate . recycling is a major source of copper in modern world . because of these and other factors , future of copper production and supply is subject of much debate , including concept of peak copper , analogous to peak oil .\n",
            "Predicted Answer: half was extracted in only\n",
            "True Answer: \n",
            "--------------------------------------------------\n",
            "Question: in what country was model constitution of 1791 in effect for only one year ?\n",
            "Context: in several nations , rulers welcomed leaders of enlightenment at court and asked them to help design laws and programs to reform system , typically to build stronger national states . these rulers are called enlightened despots by historians . they included frederick great of prussia , catherine great of russia , leopold ii of tuscany , and joseph ii of austria . joseph was over-enthusiastic , announcing so many reforms that had so little support that revolts broke out and his regime became a comedy of errors and nearly all his programs were reversed . senior ministers pombal in portugal and struensee in denmark also governed according to enlightenment ideals . in poland , model constitution of 1791 expressed enlightenment ideals , but was in effect for only one year as nation was partitioned among its neighbors . more enduring were cultural achievements , which created a nationalist spirit in poland .\n",
            "Predicted Answer: \n",
            "True Answer: poland\n",
            "--------------------------------------------------\n",
            "Question: what are sets of three nucleotides known as ?\n",
            "Context: nucleotide sequence of a gene ' s dna specifies amino acid sequence of a protein through genetic code . sets of three nucleotides , known as codons , each correspond to a specific amino acid . 6 additionally , a start codon , and three stop codons indicate beginning and end of protein coding region . there are 64 possible codons ( four possible nucleotides at each of three positions , hence 43 possible codons ) and only 20 standard amino acids hence code is redundant and multiple codons can specify same amino acid . correspondence between codons and amino acids is nearly universal among all known living organisms .\n",
            "Predicted Answer: 43 possible codons ) and only 20 standard amino acids hence code is redundant and multiple codons\n",
            "True Answer: codons\n",
            "--------------------------------------------------\n",
            "Question: what radio stationed owned by nbc played only soft rock ?\n",
            "Context: soft rock reached its commercial peak in mid-to-late 1970s with acts such as toto , england dan & john ford coley , air supply , seals and crofts , america and reformed fleetwood mac , whose rumours ( 1977 ) was best-selling album of decade . by 1977 , some radio stations , like new york ' s and nbc-owned wyny , had switched to an rock format . by 1980s , tastes had changed and radio formats reflected this change , including musical artists such as journey . walter sabo and his team at nbc brought in major personalities from am band to fm band taking format from a background to a foreground listening experience . addition of major radio stars such as dan daniel , steve o ' brien , dick summers , don bleu and tom parker made it possible to fully monetize format and provide foundation for financial success enjoyed to this day\n",
            "Predicted Answer: 1980s\n",
            "True Answer: wyny\n",
            "--------------------------------------------------\n",
            "Question: when mexico one of worst cities in terms of pollution ?\n",
            "Context: by 1990s mexico city had become infamous as one of world ' s most polluted cities however city has become a model for dramatically lowering pollution levels . by 2014 carbon monoxide pollution had dropped dramatically , while levels of sulfur dioxide and nitrogen dioxide were nearly three times lower than in 1992 . levels of signature pollutants in mexico city are similar to those of los angeles . despite cleanup , metropolitan area is still most part of country , with ozone levels 2 . 5 times beyond safe limits .\n",
            "Predicted Answer: 2014\n",
            "True Answer: 1990s\n",
            "--------------------------------------------------\n",
            "Question: when were first multi-party elections held ?\n",
            "Context: country was controlled by a revolutionary council until 1984 . first multi-party elections were held in 1994 . an army uprising in may 1998 led to guinea-bissau civil war and president ' s ousting in june 1999 . elections were held again in 2000 , and kumba ialá was elected president .\n",
            "Predicted Answer: 1999\n",
            "True Answer: 1994\n",
            "--------------------------------------------------\n",
            "Question: how often did discover ipods stopped working , according to their survey ?\n",
            "Context: ipods have been criticized for alleged short life-span and fragile hard drives . a 2005 survey conducted on website found that ipod line had an average failure rate of 13 . ( although they note that comments from respondents indicate that true ipod failure rate may be lower than it appears ) . it concluded that some models were more durable than others . in particular , failure rates for ipods employing hard drives was usually above while those with flash memory had a failure rate below . in late 2005 , many users complained that surface of first generation ipod nano can become scratched easily , rendering screen unusable . a class action lawsuit was also filed . apple initially considered issue a minor defect , but later began shipping these ipods with protective sleeves .\n",
            "Predicted Answer: 13\n",
            "True Answer: 13 .\n",
            "--------------------------------------------------\n",
            "Question: what is ethnicity of artists commonly played on urban adult contemporary radio ?\n",
            "Context: urban ac is a form of ac music geared towards adult african-american audiences , and therefore , artists that are played on these stations are most often black , such as des ' ree , whose album i ain ' t movin ' was massively popular amongst both african american audience as well as wider national audience .\n",
            "Predicted Answer: movin\n",
            "True Answer: black\n",
            "--------------------------------------------------\n",
            "Question: in what year was hopkins school founded in new haven ?\n",
            "Context: hopkins school , a private school , was founded in 1660 and is educational institution in united states . new haven is home to a number of other private schools as well as public magnet schools , including metropolitan business academy , high school in community , hill regional career high school , co-op high school , new haven academy , aces educational center for arts , foote school and sound school , all of which draw students from new haven and suburban towns . new haven is also home to two achievement first charter schools , amistad academy and elm city college prep , and to common ground , an environmental charter school .\n",
            "Predicted Answer: \n",
            "True Answer: 1660\n",
            "--------------------------------------------------\n",
            "Question: if someone serves three consecutive terms as mayor and wants to run again , how many years must they\n",
            "Context: mayor and council members are elected to four-year terms . city council is a unicameral body consisting of 51 council members whose districts are defined by geographic population boundaries . each term for mayor and council members lasts four years and has a three limit , but can resume after a four-year break . new york city administrative code , new york city rules , and city record are code of local laws , compilation of regulations , and official journal , respectively .\n",
            "Predicted Answer: four\n",
            "True Answer: four\n",
            "--------------------------------------------------\n",
            "Question: what japanese carrier was lost in battle of coral sea ?\n",
            "Context: by mid-1942 , japanese found themselves holding a vast area from indian ocean to central pacific , even though they lacked resources to defend or sustain it . moreover , combined fleet doctrine was inadequate to execute proposed barrier defence . instead , japan decided on additional attacks in both south and central pacific . while she had element of surprise at pearl harbor , allied codebreakers had now turned tables . they discovered an attack was planned against port moresby if it fell , japan would control seas to north and west of australia and could isolate country . carrier uss lexington under admiral fletcher joined uss yorktown and an task force to stop japanese advance . resulting battle of coral sea , fought in may 1942 , was first naval battle in which ships involved never sighted each other and only aircraft were used to attack opposing forces . although lexington was sunk and yorktown seriously damaged , japanese lost carrier shōhō , and suffered extensive damage to shōkaku and heavy losses to air wing of zuikaku , both of which missed operation against midway following month . although allied losses were heavier than japanese , attack on port moresby was thwarted and japanese invasion force turned back , a strategic victory for allies . japanese were forced to abandon\n",
            "Predicted Answer: japan\n",
            "True Answer: shōhō\n",
            "--------------------------------------------------\n",
            "Question: from what script does estonian language get its alphabet ?\n",
            "Context: like finnish , estonian employs latin script as basis for its alphabet , which adds letters ä , ö , ü , and õ , plus later additions š and ž . letters c , q , w , x and y are limited to proper names of foreign origin , and f , z , š , and ž appear in loanwords and foreign names only . ö and ü are pronounced similarly to their equivalents in swedish and german . unlike in standard german but like finnish and swedish ( when followed by ' r ' ) , ä is pronounced , as in english mat . vowels ä , ö and ü are clearly separate phonemes and inherent in estonian , although letter shapes come from german . letter õ denotes , unrounded , or a close-mid back unrounded vowel . it is almost identical to bulgarian ъ and vietnamese , and is used to transcribe russian .\n",
            "Predicted Answer: english\n",
            "True Answer: latin\n",
            "--------------------------------------------------\n",
            "Question: what percent of population identified as christians in 2004 ?\n",
            "Context: predominant religions in zhejiang are chinese folk religions , taoist traditions and chinese buddhism . according to surveys conducted in 2007 and 2009 , 23 . of population believes and is involved in cults of ancestors , while 2 . of population identifies as christian , decreasing from 3 . in 2004 . reports didn ' t give figures for other types of religion 74 . of population may be either irreligious or involved in worship of nature deities , buddhism , confucianism , taoism , folk religious sects , and small minorities of muslims .\n",
            "Predicted Answer: 2 . of population identifies as christian , decreasing from 3 . in 2004 .\n",
            "True Answer: 3 .\n",
            "--------------------------------------------------\n",
            "Question: how many terms in a row can a person serve as mayor ?\n",
            "Context: mayor and council members are elected to four-year terms . city council is a unicameral body consisting of 51 council members whose districts are defined by geographic population boundaries . each term for mayor and council members lasts four years and has a three limit , but can resume after a four-year break . new york city administrative code , new york city rules , and city record are code of local laws , compilation of regulations , and official journal , respectively .\n",
            "Predicted Answer: four\n",
            "True Answer: three\n",
            "--------------------------------------------------\n",
            "Question: how many caretaker managers have their been in everton fc ' s history ?\n",
            "Context: current manager , roberto martínez , is fourteenth permanent holder of position since it was established in 1939 . there have also been four caretaker managers , and before 1939 team was selected by either club secretary or by committee . club ' s longest-serving manager has been harry catterick , who was in charge of team from , taking in 594 first team matches . everton manager to win most domestic and international trophies is howard kendall , who won two division one championships , 1984 fa cup , 1984 uefa cup winners ' cup , and three charity shields .\n",
            "Predicted Answer: four\n",
            "True Answer: four\n",
            "--------------------------------------------------\n",
            "Question: which of marshall islands did salazar most likely see ?\n",
            "Context: spanish explorer alonso de salazar was first european to see islands in 1526 , commanding ship santa maria de la victoria , only surviving vessel of expedition . on august 21 , he sighted an island ( probably ) at that he named san bartolome .\n",
            "Predicted Answer: 21\n",
            "True Answer: \n",
            "--------------------------------------------------\n",
            "Question: how many pins did lightning connector have ?\n",
            "Context: apple introduced a new dock connector , named lightning , on september 12 , 2012 with their announcement of iphone 5 , fifth generation ipod touch , and seventh generation ipod nano , which all feature it . new connector replaces older 30-pin dock connector used by older ipods , iphones , and ipads . apple lightning cables have pins on both sides of plug so it can be inserted with either side facing up .\n",
            "Predicted Answer: 12\n",
            "True Answer: 8\n",
            "--------------------------------------------------\n",
            "Question: who was apollo ' s mother ?\n",
            "Context: four days after his birth , apollo killed chthonic dragon python , which lived in delphi beside castalian spring . this was spring which emitted vapors that caused oracle at delphi to give her prophecies . hera sent serpent to hunt leto to her death across world . to protect his mother , apollo begged hephaestus for a bow and arrows . after receiving them , apollo cornered python in sacred cave at delphi . apollo killed python but had to be punished for it , since python was a child of gaia .\n",
            "Predicted Answer: leto\n",
            "True Answer: leto\n",
            "--------------------------------------------------\n",
            "Question: how many institutions of higher education did russia possess in 1974 ?\n",
            "Context: economy of russia became heavily industrialized , accounting for about two-thirds of electricity produced in ussr . it was , by 1961 , third largest producer of petroleum due to new discoveries in region and siberia , trailing only united states and saudi arabia . in 1974 , there were 475 institutes of higher education in republic providing education in 47 languages to some 23 , 941 , 000 students . a network of public-health services provided health care . after 1985 , restructuring policies of gorbachev administration relatively liberalised economy , which had become stagnant since late 1970s , with introduction of non-state owned enterprises such as cooperatives . effects of market policies led to failure of many enterprises and total instability by 1990 .\n",
            "Predicted Answer: 23 , 941 , 000\n",
            "True Answer: 475\n",
            "--------------------------------------------------\n",
            "Question: when was general post office built ?\n",
            "Context: seen in its wider social context , greek revival architecture sounded a new note of sobriety and restraint in public buildings in britain around 1800 as an assertion of nationalism attendant on act of union , napoleonic wars , and clamour for political reform . it was to be william wilkins ' s winning design for public competition for downing college , cambridge that announced greek style was to be dominant idiom in architecture . wilkins and robert smirke went on to build some of most important buildings of era , including theatre royal , covent garden ( ) , general post office ( ) and british museum ( ) , wilkins university college london ( ) and national gallery ( ) . in scotland , thomas hamilton ( ) , in collaboration with artists andrew wilson ( ) and hugh william williams ( ) created monuments and buildings of international significance burns monument at alloway ( 1818 ) and ( royal ) high school in edinburgh ( ) .\n",
            "Predicted Answer: 1800\n",
            "True Answer: \n",
            "--------------------------------------------------\n",
            "Question: a money based economy was first entrenched in what dynasty ?\n",
            "Context: han dynasty was an age of economic prosperity and saw a significant growth of money economy first established during zhou dynasty ( c . bc ) . coinage issued by central government mint in 119 bc remained standard coinage of china until tang dynasty ( ad ) . period saw a number of limited institutional innovations . to pay for its military campaigns and settlement of newly conquered frontier territories , government nationalized private salt and iron industries in 117 bc , but these government monopolies were repealed during eastern han period . science and technology during han period saw significant advances , including papermaking , nautical steering rudder , use of negative numbers in mathematics , map , armillary sphere for astronomy , and a seismometer employing an inverted pendulum .\n",
            "Predicted Answer: \n",
            "True Answer: zhou\n",
            "--------------------------------------------------\n",
            "Question: zelda games were manufactured in what color cartridge ?\n",
            "Context: back of cartridge bears a label with instructions on handling . production and software revision codes were imprinted as stamps on back label to correspond with software version and producer . with exception of legend of zelda and zelda ii adventure of link , manufactured in carts , all licensed ntsc and pal cartridges are a standard shade of gray plastic . unlicensed carts were produced in black , robin egg blue , and gold , and are all slightly different shapes than standard nes cartridges . nintendo also produced carts for internal use at nintendo service centers , although these test carts were never made available for purchase . all licensed us cartridges were made by nintendo , konami and acclaim . for promotion of ducktales remastered , capcom sent 150 limited-edition gold nes cartridges with original game , featuring remastered art as sticker , to different gaming news agencies . instruction label on back included opening lyric from show ' s theme song , life is like a hurricane .\n",
            "Predicted Answer: blue\n",
            "True Answer: gold\n",
            "--------------------------------------------------\n",
            "Question: what type of creature was ?\n",
            "Context: ancient history of kathmandu is described in its traditional myths and legends . according to swayambhu purana , present-day kathmandu was once a huge and deep lake names as it was full of snakes . lake was cut drained by manjusri with his sword and water was evacuated out from there and he established a city called and made ruler of valley land . after sometimes , a demon named closed outlet and valley was again a lake . then lots krishna came to nepal , killed and again drained out water . he has brought some gops with him and made king of nepal .\n",
            "Predicted Answer: \n",
            "True Answer: demon\n",
            "--------------------------------------------------\n",
            "Question: how many times more yield does mechanical pulping process produce when compared to to chemical pulping process\n",
            "Context: mechanical pulping yields almost a tonne of pulp per tonne of dry wood used , which is why mechanical pulps are sometimes referred to as high yield pulps . with almost twice yield as chemical pulping , mechanical pulps is often cheaper . mass-market paperback books and newspapers tend to use mechanical papers . book publishers tend to use acid-free paper , made from fully bleached chemical pulps for hardback and trade paperback books .\n",
            "Predicted Answer: twice\n",
            "True Answer: twice\n",
            "--------------------------------------------------\n",
            "Question: what percentage of homelessness in france does paris house ?\n",
            "Context: in 2012 paris agglomeration ( urban area ) counted 28 , 800 people without a fixed residence , an increase of 84 percent since 2001 it represents 43 percent of homeless in all of france . forty-one percent were women , and 29 percent were accompanied by children . fifty-six percent of homeless were born outside france , largest number coming from africa and eastern europe . city of paris has sixty homeless shelters , called centres d ' et de sociale or , which are funded by city and operated by private charities and associations .\n",
            "Predicted Answer: \n",
            "True Answer: 43\n",
            "--------------------------------------------------\n",
            "Question: what company acquired anheuser-busch brewing company in 2008 ?\n",
            "Context: brewing industry is a global business , consisting of several dominant multinational companies and many thousands of smaller producers ranging from brewpubs to regional breweries . more than 133 billion litres ( 35 billion gallons ) are sold per total global revenues of . 5 billion ( . 7 billion ) in 2006 . history of breweries has been one of absorbing smaller breweries in order to ensure economy of scale . in 2002 south african breweries bought north american miller brewing company to found sabmiller , becoming second largest brewery , after north american . in 2004 belgian interbrew was third largest brewery by volume and brazilian ambev was fifth largest . they merged into inbev , becoming largest brewery . in 2007 , sabmiller surpassed inbev and when it acquired royal grolsch , brewer of dutch premium beer brand grolsch in 2007 . in 2008 , inbev ( second-largest ) bought anheuser-busch ( third largest ) , new anheuser-busch inbev company became again largest brewer in world . as of ab inbev is largest brewery , with sabmiller second , and heineken international third .\n",
            "Predicted Answer: fifth\n",
            "True Answer: inbev\n",
            "--------------------------------------------------\n",
            "Question: new york city is about half distance between washington dc and what city ?\n",
            "Context: new york city is situated in northeastern united states , in southeastern new york state , approximately halfway between washington , d . c . and boston . location at mouth of hudson river , which feeds into a naturally sheltered harbor and then into atlantic ocean , has helped city grow in significance as a trading port . most of new york city is built on three islands of long island , manhattan , and staten island .\n",
            "Predicted Answer: boston\n",
            "True Answer: boston\n",
            "--------------------------------------------------\n",
            "Question: which format is cheaper , lp or ep ?\n",
            "Context: terms such as long-play ( lp ) and ( ep ) describe multi-track records that play much longer than records , which typically do not go much past four minutes per side . an lp can play for up to 30 minutes per side , though most played for about 22 minutes per side , bringing total playing time of a typical lp recording to about forty-five minutes . many lps , however , played for about 15 minutes per side . 7-inch 45 rpm format normally contains one item per side but a 7-inch ep could achieve recording times of 10 to 15 minutes at expense of attenuating and compressing sound to reduce width required by groove . ep discs were generally used to make available tracks not on singles including tracks on lps albums in a smaller , less expensive format for those who had only 45 rpm players . large center hole on 7-inch 45 rpm records allows for easier handling by jukebox mechanisms . term album , originally used to mean a book with liner notes , holding several 78 rpm records each in its own page or sleeve , no longer has any relation to physical format a single lp record , or nowadays more typically a compact disc .\n",
            "Predicted Answer: 78\n",
            "True Answer: lps\n",
            "--------------------------------------------------\n",
            "Question: how many times more abundant than silver is uranium in earth ' s crust ?\n",
            "Context: uranium ' s average concentration in earth ' s crust is ( depending on reference ) 2 to 4 parts per million , or about 40 times as abundant as silver . earth ' s crust from surface to 25 km ( 15 mi ) down is calculated to contain 1017 kg ( lb ) of uranium while oceans may contain 1013 kg ( lb ) . concentration of uranium in soil ranges from 0 . 7 to 11 parts per million ( up to 15 parts per million in farmland soil due to use of phosphate fertilizers ) , and its concentration in sea water is 3 parts per billion .\n",
            "Predicted Answer: 15\n",
            "True Answer: 40\n",
            "--------------------------------------------------\n",
            "Question: what percentage of population of atlantic city was under age of 18 ?\n",
            "Context: in city population was spread out with 25 . under age of 18 , 8 . from 18 to 24 , 31 . from 25 to 44 , 20 . from 45 to 64 , and 14 . who were 65 years of age or older . median age was 35 years . for every 100 females there were 96 . 1 males . for every 100 females age 18 and over , there were 93 . 2 males .\n",
            "Predicted Answer: \n",
            "True Answer: 25 .\n",
            "--------------------------------------------------\n",
            "Question: in what decade did movie theaters become popular ?\n",
            "Context: movie industry was born in paris when auguste and louis lumière projected first motion picture for a paying audience at grand café on 28 december 1895 . many of paris ' halls were transformed into movie theatres when media became popular beginning in 1930s . later , most of largest cinemas were divided into multiple , smaller rooms . paris ' largest cinema room today is in le grand rex theatre with 2 , 700 seats . big multiplex movie theaters have been built since 1990s . ugc ciné cité les halles with 27 screens , mk2 bibliothèque with 20 screens and ugc ciné cité bercy with 18 screens are among largest .\n",
            "Predicted Answer: paris\n",
            "True Answer: 1930s\n",
            "--------------------------------------------------\n",
            "Question: in what year was leasehold of mulberry site due to expire ?\n",
            "Context: house which forms architectural core of palace was built for first duke of buckingham and normanby in 1703 to design of william winde . style chosen was of a large , central block with two smaller flanking service wings . buckingham house was eventually sold by buckingham ' s descendant , sir charles sheffield , in 1761 to george iii for , 000 . sheffield ' s leasehold on mulberry garden site , freehold of which was still owned by royal family , was due to expire in 1774 .\n",
            "Predicted Answer: leasehold\n",
            "True Answer: 1774\n",
            "--------------------------------------------------\n",
            "Question: who owned ?\n",
            "Context: in 1930s , experimental station , owned by philco , became first television station in philadelphia it became nbc ' s first affiliate in 1939 , and later became kyw-tv ( cbs ) . wcau-tv , wpvi-tv , , wphl-tv , and had all been founded by 1970s . in 1952 , wfil ( now wpvi ) premiered television show bandstand , which later became nationally broadcast american bandstand hosted by dick clark . today , as in many large metropolitan areas , each of commercial networks has an affiliate , and call letters have been replaced by corporate ids , , , , , , , plus my phl 17 and cw philly 57 . region is served also by public broadcasting stations ( philadelphia ) , ( wilmington , delaware and philadelphia ) , ( lehigh valley ) , and ( new jersey ) . in september 2007 , philadelphia approved a public-access television cable tv channel .\n",
            "Predicted Answer: \n",
            "True Answer: philco\n",
            "--------------------------------------------------\n",
            "Question: in which century did council of trent occur ?\n",
            "Context: although calvin and huldrych zwingli honored mary as mother of god in 16th century , they did so less than martin luther . thus idea of respect and high honor for mary was not rejected by first protestants but , they came to criticize roman catholics for venerating mary . following council of trent in 16th century , as marian veneration became associated with catholics , protestant interest in mary decreased . during age of enlightenment any residual interest in mary within protestant churches almost disappeared , although anglicans and lutherans continued to honor her .\n",
            "Predicted Answer: 16th\n",
            "True Answer: 16th\n",
            "--------------------------------------------------\n",
            "Question: what color does clock tower glow after a winning football game ?\n",
            "Context: there are traditions long associated with football games . students growl like wildcats when opposing team controls ball , while simulating a paw with their hands . they will also jingle keys at beginning of each kickoff . in past , before tradition was discontinued , students would throw marshmallows during games . clock tower at rebecca crown center glows purple , instead of its usual white , after a winning game , thereby proclaiming happy news . clock tower remains purple until a loss or until end of sports season . whereas formerly clock tower was lighted only for football victories , wins for men ' s basketball and women ' s lacrosse now merit commemoration as well important victories in other sports may also prompt an .\n",
            "Predicted Answer: white\n",
            "True Answer: purple\n",
            "--------------------------------------------------\n",
            "Question: despite not having a good beach , what decade saw southampton become popular for sea bathing ?\n",
            "Context: southampton became a spa town in 1740 . it had also become a popular site for sea bathing by 1760s , despite lack of a good quality beach . innovative buildings specifically for this purpose were built at west quay , with baths that were filled and emptied by flow of tide .\n",
            "Predicted Answer: tide\n",
            "True Answer: 1760s\n",
            "--------------------------------------------------\n",
            "Question: how many movie theater companies are there in montevideo ?\n",
            "Context: montevideo has a very rich architectural heritage and an impressive number of writers , artists , and musicians . uruguayan tango is a unique form of dance that originated in neighbourhoods of montevideo towards end of 1800s . tango , candombe and murga are three main styles of music in this city . city is also centre of cinema of uruguay , which includes commercial , documentary and experimental films . there are two movie theatre companies running seven cinemas , around ten independent ones and four art film cinemas in city . theatre of uruguay is admired inside and outside uruguayan borders . solís theatre is most prominent theatre in uruguay and oldest in south america . there are several notable theatrical companies and thousands of professional actors and amateurs . montevideo playwrights produce dozens of works each year of major note are mauricio , ana and ricardo prieto .\n",
            "Predicted Answer: four\n",
            "True Answer: two\n",
            "--------------------------------------------------\n",
            "Question: how many mayors has detroit had ?\n",
            "Context: beginning with its incorporation in 1802 , detroit has had a total of 74 mayors . detroit ' s last mayor from republican party was louis , who served from 1957 to 1962 . in 1973 , city elected its first black mayor , coleman young . despite development efforts , his combative style during his five terms in office was not well received by many suburban residents . mayor dennis archer , a former michigan supreme court justice , refocused city ' s attention on redevelopment with a plan to permit three casinos downtown . by 2008 , three major casino resort hotels established operations in city .\n",
            "Predicted Answer: five\n",
            "True Answer: 74\n",
            "--------------------------------------------------\n",
            "Question: what is nanjing ' s nationwide ranking for national key disciplines ?\n",
            "Context: nanjing has been educational centre in southern china for more than 1700 years . there are 75 institutions of higher learning till 2013 . number of national key laboratories , national key disciplines and academicians of chinese academy of sciences and chinese academy of engineering all rank third in nation . it boasts some of most prominent educational institutions in region , some of which are listed as follows\n",
            "Predicted Answer: third\n",
            "True Answer: third\n",
            "--------------------------------------------------\n",
            "Question: thickness at bottom of glass panes was once taken as evidence that glass had features of what\n",
            "Context: observation that old windows are sometimes found to be thicker at bottom than at top is often offered as supporting evidence for view that glass flows over a timescale of centuries , assumption being that glass has exhibited liquid property of flowing from one shape to another . this assumption is incorrect , as once solidified , glass stops flowing . reason for observation is that in past , when panes of glass were commonly made by glassblowers , technique used was to spin molten glass so as to create a round , mostly flat and even plate ( crown glass process , described above ) . this plate was then cut to fit a window . pieces were not absolutely flat edges of disk became a different thickness as glass spun . when installed in a window frame , glass would be placed with thicker side down both for sake of stability and to prevent water accumulating in lead cames at bottom of window . occasionally such glass has been found installed with thicker side at top , left or right .\n",
            "Predicted Answer: flows\n",
            "True Answer: liquid\n",
            "--------------------------------------------------\n",
            "Question: when did ariel sharon become prime minister ?\n",
            "Context: after collapse of talks and a controversial visit by likud leader ariel sharon to temple mount , second intifada began . some commentators contend that uprising was pre-planned by yasser arafat due to collapse of peace talks . sharon became prime minister in a 2001 special election . during his tenure , sharon carried out his plan to unilaterally withdraw from gaza strip and also spearheaded construction of israeli west bank barrier , ending intifada . by this time 1 , 100 israelis had been killed , mostly in suicide bombings . palestinian fatalities , by 30 april 2008 , reached 4 , 745 killed by israeli security forces , 44 killed by israeli civilians , and 577 killed by palestinians .\n",
            "Predicted Answer: 2001\n",
            "True Answer: 2001\n",
            "--------------------------------------------------\n",
            "Question: what were dogs in this era most likely to be considered ?\n",
            "Context: most common staple crops consumed during han were wheat , barley , foxtail millet , millet , rice , and beans . commonly eaten fruits and vegetables included chestnuts , pears , plums , peaches , melons , apricots , strawberries , red , jujubes , calabash , bamboo shoots , mustard plant and taro . domesticated animals that were also eaten included chickens , mandarin ducks , geese , cows , sheep , pigs , camels and dogs ( various types were bred specifically for food , while most were used as pets ) . turtles and fish were taken from streams and lakes . commonly hunted game , such as owl , pheasant , magpie , sika deer , and chinese bamboo partridge were consumed . seasonings included sugar , honey , salt and soy sauce . beer and wine were regularly consumed .\n",
            "Predicted Answer: rice\n",
            "True Answer: pets\n",
            "--------------------------------------------------\n",
            "Question: how many of kanye ' s albums placed on 2012 rolling stone list ?\n",
            "Context: in its 2012 list of 500 greatest albums of all time , rolling stone included three of west ' s college dropout at number 298 , late registration at number 118 , and my beautiful dark twisted fantasy at number 353 .\n",
            "Predicted Answer: \n",
            "True Answer: 3\n",
            "--------------------------------------------------\n",
            "Question: what czech dialect is gaining ground in journalism and mass media ?\n",
            "Context: in addition to a spoken standard and a closely related written standard , czech has several regional dialects primarily used in rural areas by speakers less proficient in other dialects or standard czech . during second half of twentieth century , czech dialect use began to weaken . by early 1990s dialect use was stigmatized , associated with shrinking lower class and used in literature or other media for comedic effect . increased travel and media availability to populations has encouraged them to shift to ( or add to their own dialect ) standard czech . although czech has received considerable scholarly interest for a slavic language , this interest has focused primarily on modern standard czech and ancient texts rather than dialects . standard czech is still norm for politicians , businesspeople and other czechs in formal situations , but common czech is gaining ground in journalism and mass media .\n",
            "Predicted Answer: \n",
            "True Answer: common\n",
            "--------------------------------------------------\n",
            "Question: what did athanasius do to avoid speaking to alexander on his deathbed ?\n",
            "Context: frances a . m . forbes writes that when patriarch alexander was on his death-bed he called athanasius , who fled fearing he would be constrained to be made bishop . when bishops of church assembled to elect their new patriarch , whole catholic population surrounded church , holding up their hands to heaven and crying give us athanasius ! bishops had nothing better . athanasius was thus elected , as gregory tells us . . . ( pope gregory i , would have full access to vatican archives ) .\n",
            "Predicted Answer: forbes\n",
            "True Answer: fled\n",
            "--------------------------------------------------\n",
            "Question: how many units of assessment did imperial submit ?\n",
            "Context: imperial submitted a total of 1 , 257 staff across 14 units of assessment to 2014 research excellence framework ( ref ) assessment . in ref results of imperial ' s submitted research was classified as , as , as and as , giving an overall gpa of 3 . 36 . in rankings produced by times higher education based upon ref results imperial was ranked 2nd overall for gpa and 8th for research power ( compared to 6th and 7th respectively in equivalent rankings for rae 2008 ) .\n",
            "Predicted Answer: 14\n",
            "True Answer: 14\n",
            "--------------------------------------------------\n",
            "Question: what year did american idol begin airing ?\n",
            "Context: american idol is an american singing competition series created by simon fuller and produced by 19 entertainment , and is distributed by fremantlemedia north america . it began airing on fox on june 11 , 2002 , as an addition to idols format based on british series pop idol and has since become one of most successful shows in history of american television . concept of series is to find new solo recording artists , with winner being determined by viewers in america . winners chosen by viewers through telephone , internet , and sms text voting were kelly clarkson , ruben studdard , fantasia barrino , carrie underwood , taylor hicks , jordin sparks , david cook , kris allen , lee dewyze , scotty mccreery , phillip phillips , candice glover , caleb johnson , and nick .\n",
            "Predicted Answer: 2002\n",
            "True Answer: 2002\n",
            "--------------------------------------------------\n",
            "Question: in what year did ma yuan die ?\n",
            "Context: eastern han , also known as later han , formally began on 5 august 25 , when liu xiu became emperor guangwu of han . during widespread rebellion against wang mang , state of goguryeo was free to raid han ' s korean commanderies han did not reaffirm its control over region until ad 30 . trưng sisters of vietnam rebelled against han in ad 40 . their rebellion was crushed by han general ma yuan ( d . ad 49 ) in a campaign from ad . wang mang renewed hostilities against xiongnu , who were estranged from han until their leader bi ( ) , a rival claimant to throne against his cousin ( ) , submitted to han as a tributary vassal in ad 50 . this created two rival xiongnu states southern xiongnu led by bi , an ally of han , and northern xiongnu led by , an enemy of han .\n",
            "Predicted Answer: \n",
            "True Answer: ad 49\n",
            "--------------------------------------------------\n",
            "Question: what doric word means assembly ?\n",
            "Context: several instances of popular etymology are attested from ancient authors . thus , greeks most often associated apollo ' s name with greek verb ( ) , to destroy . plato in cratylus connects name with ( ) , redemption , with ( ) , purification , and with ( ) , simple , in particular in reference to thessalian form of name , , and finally with ( ) , . hesychius connects name apollo with doric ( ) , which means assembly , so that apollo would be god of political life , and he also gives explanation ( ) , fold , in which case apollo would be god of flocks and herds . in ancient macedonian language ( pella ) means stone , and some toponyms may be derived from this word ( pella , capital of ancient macedonia ) and ( ) .\n",
            "Predicted Answer: greek\n",
            "True Answer: \n",
            "--------------------------------------------------\n",
            "Question: how many of china unicom ' s towers were cut ?\n",
            "Context: china mobile had more than 2 , 300 base stations suspended due to power disruption or severe telecommunication traffic congestion . half of wireless communications were lost in sichuan province . china unicom ' s service in wenchuan and four nearby counties was cut off , with more than 700 towers suspended .\n",
            "Predicted Answer: four\n",
            "True Answer: 700\n",
            "--------------------------------------------------\n",
            "Question: name elixir implied a solution in what liquid ?\n",
            "Context: in 1937 over 100 people died after ingesting elixir sulfanilamide manufactured by s . e . massengill company of tennessee . product was formulated in diethylene glycol , a highly toxic solvent that is now widely used as antifreeze . under laws extant at that time , prosecution of manufacturer was possible only under technicality that product had been called an elixir , which literally implied a solution in ethanol . in response to this episode , u . s . congress passed federal food , drug , and cosmetic act of 1938 , which for first time required pre-market demonstration of safety before a drug could be sold , and explicitly prohibited false therapeutic claims .\n",
            "Predicted Answer: 100 people died after ingesting elixir sulfanilamide manufactured by s . e . massengill company of tennessee . product was formulated in diethylene glycol , a highly toxic solvent that is now widely used as antifreeze . under laws extant at that time , prosecution of manufacturer was possible only under technicality that product had been called an elixir , which literally implied a solution in ethanol . in response to this episode , u . s . congress passed federal food , drug , and cosmetic\n",
            "True Answer: ethanol\n",
            "--------------------------------------------------\n",
            "Question: what pakistani province is south of punjab ?\n",
            "Context: punjab is pakistan ' s second largest province in terms of land area at 205 , 344 km2 ( 79 , 284 sq mi ) , after balochistan , and is located at north western edge of geologic indian plate in south asia . province is bordered by kashmir ( azad kashmir , pakistan and jammu and kashmir , india ) to northeast , indian states of punjab and rajasthan to east , pakistani province of sindh to south , province of balochistan to southwest , province of khyber pakhtunkhwa to west , and islamabad capital territory to north .\n",
            "Predicted Answer: india\n",
            "True Answer: sindh\n",
            "--------------------------------------------------\n",
            "Question: slash left guns n roses in what year ?\n",
            "Context: in new commercial climate glam metal bands like europe , ratt , white lion and cinderella broke up , whitesnake went on hiatus in 1991 , and while many of these bands would re-unite again in late 1990s or early 2000s , they never reached commercial success they saw in 1980s or early 1990s . other bands such as mötley crüe and poison saw personnel changes which impacted those bands ' commercial viability during decade . in 1995 van halen released balance , a multi-platinum seller that would be band ' s last with sammy hagar on vocals . in 1996 david lee roth returned briefly and his replacement , former extreme singer gary cherone , was fired soon after release of commercially unsuccessful 1998 album van halen iii and van halen would not tour or record again until 2004 . guns n ' roses ' original lineup was whittled away throughout decade . drummer steven adler was fired in 1990 , guitarist izzy stradlin left in late 1991 after recording use your illusion i and ii with band . tensions between other band members and lead singer axl rose continued after release of 1993 covers album spaghetti incident ? guitarist slash left in 1996 , followed by bassist duff mckagan in 1997 . axl rose , only original member , worked with a constantly changing lineup in recording an album that would\n",
            "Predicted Answer: 1998\n",
            "True Answer: 1996\n",
            "--------------------------------------------------\n",
            "Question: when did french take control of region to north of congo river ?\n",
            "Context: area north of congo river came under french sovereignty in 1880 as a result of pierre de brazza ' s treaty with makoko of . this congo colony became known first as french congo , then as middle congo in 1903 . in 1908 , france organized french equatorial africa ( aef ) , comprising middle congo , gabon , chad , and ( modern central african republic ) . french designated brazzaville as federal capital . economic development during first 50 years of colonial rule in congo centered on extraction . methods were often brutal construction of railroad following world war i has been estimated to have cost at least 14 , 000 lives .\n",
            "Predicted Answer: 1908\n",
            "True Answer: 1880\n",
            "--------------------------------------------------\n",
            "Question: what colloquial term is used for plymouth residents ?\n",
            "Context: people from plymouth are known as or less formally as . its meaning is described as a person from devon , deriving from cousin jan ( devon form of john ) , but more particularly in naval circles anyone from plymouth area .\n",
            "Predicted Answer: john\n",
            "True Answer: \n",
            "--------------------------------------------------\n",
            "Question: what is average age that byu students marry according to a 2005 study ?\n",
            "Context: one of characteristics of byu most often pointed out is its reputation for emphasizing a marriage culture . members of church of jesus christ of latter-day saints highly value marriage and family , especially marriage within faith . approximately 51 percent of graduates in byu ' s class of 2005 were married . this is compared to a national marriage average among college graduates of 11 percent . byu students on average marry at age of 22 , according to a 2005 study , while national average age is 25 years for men and 27 years for women .\n",
            "Predicted Answer: 51\n",
            "True Answer: 22\n",
            "--------------------------------------------------\n",
            "Question: what was name of madonna ' s twelfth album ?\n",
            "Context: in 2012 , madonna performed at super bowl xlvi halftime show , visualized by cirque du soleil and jamie king and featured special guests lmfao , nicki minaj , m . i . a . and cee lo green . it became then most-watched super bowl halftime show in history with 114 million viewers , higher than game itself . it was also revealed that singer had signed a three-album deal with interscope records , who would act as distributor in partnership with her 360 deal with live nation . her twelfth studio album , mdna , was released in march 2012 and saw collaboration with various producers , most notably with william orbit again and martin solveig . album was well received by music critics , with priya elan from nme calling it a ridiculously enjoyable romp , citing its psychotic , stuff as some of most visceral stuff she ' s ever done . mdna debuted at number one on billboard 200 and many other countries worldwide . madonna surpassed elvis presley ' s record for most number-one album by a solo artist in uk . lead single give me all your ' , featuring guest vocals from minaj and m . i . a . , became madonna ' s 38th top-ten hit on billboard hot 100 .\n",
            "Predicted Answer: madonna\n",
            "True Answer: mdna\n",
            "--------------------------------------------------\n",
            "Question: when did northern cod fishery collapse ?\n",
            "Context: st . john ' s , and province as a whole , was gravely affected in 1990s by collapse of northern cod fishery , which had been driving force of provincial economy for hundreds of years . after a decade of high unemployment rates and depopulation , city ' s proximity to hibernia , terra nova and white rose oil fields has led to an economic boom that has spurred population growth and commercial development . as a result , st . john ' s area now accounts for about half of province ' s economic output .\n",
            "Predicted Answer: 1990s\n",
            "True Answer: 1990s\n",
            "--------------------------------------------------\n",
            "Question: when did belon make his shipbuilding observations ?\n",
            "Context: one hundred years after fall of constantinople in 1453 , pierre belon described in his work observations in 1553 that , a mixture of pitch and bitumen , was used in dubrovnik for tarring of ships from where it was exported to a market place in venice where it could be bought by anyone . an 1838 edition of mechanics magazine cites an early use of asphalt in france . a pamphlet dated 1621 , by a certain monsieur d ' , states that he had discovered existence ( of asphaltum ) in large quantities in vicinity of neufchatel , and that he proposed to use it in a variety of ways – principally in construction of granaries , and in protecting , by means of arches , in city of paris from intrusion of dirt and filth , which at that time made water unusable . he also on excellence of this material for forming level and durable terraces in palaces , notion of forming such terraces in streets not one likely to cross brain of a parisian of that generation . but it was generally neglected in france until revolution of 1830 . then , in 1830s , there was a surge of interest , and asphalt became widely used for pavements , flat roofs , and lining of cisterns , and in england ,\n",
            "Predicted Answer: 1838\n",
            "True Answer: 1553\n",
            "--------------------------------------------------\n",
            "Question: how many divisions were left in football league after split ?\n",
            "Context: in 1992 , first division clubs resigned from football league en masse and on 27 may 1992 fa premier league was formed as a limited company working out of an office at football association ' s then headquarters in lancaster gate . this meant a break-up of football league that had operated until then with four divisions premier league would operate with a single division and football league with three . there was no change in competition format same number of teams competed in top flight , and promotion and relegation between premier league and new first division remained same as old first and second divisions with three teams relegated from league and three promoted .\n",
            "Predicted Answer: four\n",
            "True Answer: three\n",
            "--------------------------------------------------\n",
            "Question: romans invaded what is now london and established its first major settlement in what year ?\n",
            "Context: although there is evidence of scattered brythonic settlements in area , first major settlement was founded by romans after invasion of 43 ad . this lasted only until around 61 , when iceni tribe led by queen boudica stormed it , burning it to ground . next , heavily planned , incarnation of londinium prospered , and it superseded colchester as capital of roman province of britannia in 100 . at its height in 2nd century , roman london had a population of around 60 , 000 .\n",
            "Predicted Answer: 43 ad . this lasted only until around 61 , when iceni tribe led by queen boudica stormed it , burning it to ground . next , heavily planned , incarnation of londinium prospered , and it superseded colchester as capital of roman province of britannia in 100 . at its height in 2nd\n",
            "True Answer: 43 ad\n",
            "--------------------------------------------------\n",
            "Question: what is highest currently printed denomination of bill ?\n",
            "Context: currently printed denominations are , , , , , , and . notes above denomination stopped being printed in 1946 and were officially withdrawn from circulation in 1969 . these notes were used primarily in inter-bank transactions or by organized crime it was latter usage that prompted president richard nixon to issue an executive order in 1969 halting their use . with advent of electronic banking , they became less necessary . notes in denominations of , , 000 , , 000 , , 000 and , 000 were all produced at one time see large denomination bills in u . s . currency for details . these notes are now collectors ' items and are worth more than their face value to collectors .\n",
            "Predicted Answer: notes\n",
            "True Answer: \n",
            "--------------------------------------------------\n",
            "Question: what did chopin create for grand duke constantine ?\n",
            "Context: in 1817 saxon palace was requisitioned by warsaw ' s russian governor for military use , and warsaw lyceum was reestablished in kazimierz palace ( today rectorate of warsaw university ) . fryderyk and his family moved to a building , which still survives , adjacent to kazimierz palace . during this period , fryderyk was sometimes invited to palace as playmate to son of ruler of russian poland , grand duke constantine he played piano for duke and composed a march for him . julian , in his dramatic eclogue , ( our discourses , 1818 ) , attested to little chopin ' s popularity .\n",
            "Predicted Answer: \n",
            "True Answer: a march\n",
            "--------------------------------------------------\n",
            "Question: how many bus lines does consortium manage ?\n",
            "Context: paris is a major rail , highway , and air transport hub . syndicat des transports d ' île-de-france ( stif ) , formerly syndicat des transports parisiens ( stp ) , oversees transit network in region . syndicate coordinates public transport and contracts it out to ratp ( operating 347 bus lines , métro , eight tramway lines , and sections of rer ) , sncf ( operating suburban rails , one tramway line and other sections of rer ) and consortium of private operators managing 1 , 176 bus lines .\n",
            "Predicted Answer: eight\n",
            "True Answer: 1 , 176\n",
            "--------------------------------------------------\n",
            "Question: in what year did u . s . supreme court entertain a lawsuit filed by 18 new haven\n",
            "Context: in april 2009 , united states supreme court agreed to hear a suit over reverse discrimination brought by 18 white firefighters against city . suit involved 2003 promotion test for new haven fire department . after tests were scored , no black firefighters scored high enough to qualify for consideration for promotion , so city announced that no one would be promoted . in subsequent ricci v . destefano decision court found 5-4 that new haven ' s decision to ignore test results violated title vii of civil rights act of 1964 . as a result , a district court subsequently ordered city to promote 14 of white firefighters .\n",
            "Predicted Answer: 1964\n",
            "True Answer: 2009\n",
            "--------------------------------------------------\n",
            "Question: where does a majority of namibia ' s people live ?\n",
            "Context: about half of population depends on agriculture ( largely subsistence agriculture ) for its livelihood , but namibia must still import some of its food . although per capita gdp is five times per capita gdp of africa ' s poorest countries , majority of namibia ' s people live in rural areas and exist on a subsistence way of life . namibia has one of highest rates of income inequality in world , due in part to fact that there is an urban economy and a more rural economy . inequality figures thus take into account people who do not actually rely on formal economy for their survival . although arable land accounts for only of namibia , nearly half of population is employed in agriculture .\n",
            "Predicted Answer: rural\n",
            "True Answer: rural\n",
            "--------------------------------------------------\n",
            "Question: how big was hard drive in single south korean version ?\n",
            "Context: console was originally planned for a global release through november , but at start of september release in europe and rest of world was delayed until march . with it being a somewhat last-minute delay , some companies had taken deposits for pre-orders , at which sony informed customers that they were eligible for full refunds or could continue pre-order . on january 24 , 2007 , sony announced that playstation 3 would go on sale on march 23 , 2007 , in europe , australia , middle east , africa and new zealand . system sold about 600 , 000 units in its first two days . on march 7 , 2007 , 60 gb playstation 3 launched in singapore with a price of . console was launched in south korea on june 16 , 2007 , as a single version equipped with an 80 gb hard drive and iptv .\n",
            "Predicted Answer: \n",
            "True Answer: 80 gb\n",
            "--------------------------------------------------\n",
            "Question: when did pantages open his movie houses ?\n",
            "Context: seattle was also home base of impresario alexander pantages who , starting in 1902 , opened a number of theaters in city exhibiting vaudeville acts and silent movies . his activities soon expanded , and thrifty greek went on and became one of america ' s greatest theater and movie tycoons . between pantages and his rival john considine , seattle was for a while western united states ' vaudeville mecca . b . marcus , scottish-born and seattle-based architect , built several theaters for pantages , including some in seattle . theaters he built for pantages in seattle have been either demolished or converted to other uses , but many other theaters survive in other cities of u . s . , often retaining pantages name seattle ' s surviving paramount theatre , on which he collaborated , was not a pantages theater .\n",
            "Predicted Answer: 1902\n",
            "True Answer: 1902\n",
            "--------------------------------------------------\n",
            "Question: how many pubs existed on union street in 1930s ?\n",
            "Context: built in 1815 , union street was at heart of plymouth ' s historical culture . it became known as servicemen ' s playground , as it was where sailors from royal navy would seek entertainment of all kinds . during 1930s , there were 30 pubs and it attracted such performers as charlie chaplin to new palace theatre . it is now late-night hub of plymouth ' s entertainment strip , but has a reputation for trouble at closing hours .\n",
            "Predicted Answer: 30\n",
            "True Answer: 30s\n",
            "--------------------------------------------------\n",
            "Question: is one intermetallic that tin forms what ' s other one ?\n",
            "Context: other used are osp ( organic surface protectant ) , immersion silver ( iag ) , immersion tin , electroless nickel with immersion gold coating ( ) , electroless nickel electroless palladium immersion gold ( ) and direct gold plating ( over nickel ) . edge connectors , placed along one edge of some boards , are often nickel plated then gold plated . another coating consideration is rapid diffusion of coating metal into tin solder . tin forms such as and that dissolve into tin or solidus ( ) , stripping surface coating or leaving voids .\n",
            "Predicted Answer: gold\n",
            "True Answer: \n",
            "--------------------------------------------------\n",
            "Question: how many madrasahs are in ?\n",
            "Context: in singapore , madrasahs are private schools which are overseen by majlis islam singapura ( muis , english islamic religious council of singapore ) . there are six madrasahs in singapore , catering to students from primary 1 to secondary 4 . four madrasahs are coeducational and two are for girls . students take a range of islamic studies subjects in addition to mainstream moe curriculum subjects and sit for psle and gce ' o ' levels like their peers . in 2009 , muis introduced joint madrasah system ( jms ) , a joint collaboration of madrasah primary school and secondary schools madrasah aljunied ( offering , or religious stream ) and madrasah ( offering academic stream ) . jms aims to introduce international baccalaureate ( ib ) programme into madrasah by 2019 . students attending a madrasah are required to wear traditional malay attire , including songkok for boys and for girls , in contrast to mainstream government schools which ban religious headgear as singapore is officially a secular state . for students who wish to attend a mainstream school , they may opt to take classes on weekends at madrasah instead of enrolling full-time .\n",
            "Predicted Answer: four\n",
            "True Answer: six\n",
            "--------------------------------------------------\n",
            "Question: what year was first album released ?\n",
            "Context: kanye west began his early production career in mid-1990s , making beats primarily for burgeoning local artists , eventually developing a style that involved speeding up vocal samples from classic soul records . his first official production credits came at age of nineteen when he produced eight tracks on down to earth , 1996 debut album of a chicago rapper named grav . for a time , west acted as a ghost producer for deric . because of his association with , west wasn ' t able to release a solo album , so he formed and became a member and producer of , a late-1990s chicago rap group composed of him , glc , timmy g , really doe , and . his group was managed by john monopoly johnson , don crowley , and happy lewis under management firm hustle period . after attending a series of promotional photo shoots and making some radio appearances , released their first and only studio album world record holders in 1999 . album featured other chicago-based rappers such as rhymefest , mikkey halsted , miss criss , and shayla g . meanwhile , production was handled by west , , , and brian all day miller .\n",
            "Predicted Answer: 1999\n",
            "True Answer: 1999\n",
            "--------------------------------------------------\n",
            "Question: when did die ?\n",
            "Context: structure of a mosque is simple and it expresses openness . calligraphic inscriptions from quran decorate mosques and mausoleums in punjab . inscriptions on bricks and tiles of mausoleum of shah ( 1320 ad ) at multan are outstanding specimens of architectural calligraphy . earliest existing building in south asia with enamelled is tomb of shah yusuf gardezi ( 1150 ad ) at multan . a specimen of sixteenth century at lahore is tomb of sheikh musa ahangar , with its brilliant blue dome . of emperor shah jahan is of a richer and more elaborate nature . pictured wall of lahore fort is last line in in entire world .\n",
            "Predicted Answer: ad\n",
            "True Answer: 1320 ad\n",
            "--------------------------------------------------\n",
            "Question: when was vaccination used to prevent spread of foot-and-mouth virus ?\n",
            "Context: another effective way to decrease transmission rate of infectious diseases is to recognize effects of small-world networks . in epidemics , there are often extensive interactions within hubs or groups of infected individuals and other interactions within discrete hubs of susceptible individuals . despite low interaction between discrete hubs , disease can jump to and spread in a susceptible hub via a single or few interactions with an infected hub . thus , infection rates in small-world networks can be reduced somewhat if interactions between individuals within infected hubs are eliminated ( figure 1 ) . however , infection rates can be drastically reduced if main focus is on prevention of transmission jumps between hubs . use of needle exchange programs in areas with a high density of drug users with hiv is an example of successful implementation of this treatment method . another example is use of ring culling or vaccination of potentially susceptible livestock in adjacent farms to prevent spread of foot-and-mouth virus in 2001 .\n",
            "Predicted Answer: 2001\n",
            "True Answer: 2001\n",
            "--------------------------------------------------\n",
            "Question: when setanta sports could not pay their bill to league , which network took over broadcast rights from\n",
            "Context: bbc ' s highlights package on saturday and sunday nights , as well as other evenings when fixtures justify , will run until 2016 . television rights alone for period 2010 to 2013 have been purchased for . 782 billion . on 22 june 2009 , due to troubles encountered by setanta sports after it failed to meet a final deadline over a million payment to premier league , espn was awarded two packages of uk rights containing a total of 46 matches that were available for season as well as a package of 23 matches per season from to . on 13 june 2012 , premier league announced that bt had been awarded 38 games a season for through seasons at . remaining 116 games were retained by sky who paid . total domestic rights have raised . 018 billion , an increase of 70 . over to rights . value of licensing deal rose by another 70 . in 2015 , when sky and bt paid a total of . 136 billion to renew their contracts with premier league for another three years up to season .\n",
            "Predicted Answer: 2013 have been purchased for . 782 billion . on 22 june 2009 , due to troubles encountered by setanta sports after it failed to meet a final deadline over a million payment to premier league , espn was awarded two packages of uk rights containing a total of 46 matches that were available for season as well as a package of 23 matches per season from to . on 13 june 2012 , premier league announced that bt had been awarded 38 games a season for through seasons at . remaining 116 games were retained by sky who paid . total domestic rights have raised . 018 billion , an increase of 70 . over to rights . value of licensing deal rose by another 70 . in 2015\n",
            "True Answer: espn\n",
            "--------------------------------------------------\n",
            "Question: on what network did turner entertainment ' s film library air prior to creation of tcm ?\n",
            "Context: film library of turner entertainment would serve as base form of programming for tcm upon network ' s launch . before creation of turner classic movies , films from turner ' s library of movies aired on turner broadcasting system ' s cable network tnt – along with colorized versions of black-and-white classics such as maltese falcon . after library was acquired , mgm/ua signed a deal with turner to continue distributing 1986 mgm and to begin distributing pre-1950 warner bros . film libraries for video release ( rest of library went to turner home entertainment ) .\n",
            "Predicted Answer: tcm upon network ' s launch . before creation of turner classic movies , films from turner ' s library of movies aired on turner broadcasting system ' s cable network tnt – along with colorized versions of black-and-white classics such as maltese\n",
            "True Answer: tnt\n",
            "--------------------------------------------------\n",
            "Question: in what century did northern crusades begin ?\n",
            "Context: popes called for crusades to take place elsewhere besides holy land in spain , southern france , and along baltic . spanish crusades became fused with reconquista of spain from muslims . although templars and hospitallers took part in spanish crusades , similar spanish military religious orders were founded , most of which had become part of two main orders of calatrava and santiago by beginning of 12th century . northern europe also remained outside christian influence until 11th century or later , and became a crusading venue as part of northern crusades of 12th to 14th centuries . these crusades also spawned a military order , order of sword brothers . another order , teutonic knights , although originally founded in crusader states , focused much of its activity in baltic after 1225 , and in 1309 moved its headquarters to marienburg in prussia .\n",
            "Predicted Answer: \n",
            "True Answer: 12th\n",
            "--------------------------------------------------\n",
            "Question: which schools of zen likes use of meditation on koan for spiritual breakthroughs ?\n",
            "Context: zen buddhism is divided into two main schools rinzai ( ) and sōtō ( ) , former greatly favouring use in meditation on koan ( , a meditative riddle or puzzle ) as a device for spiritual break-through , and latter ( while certainly employing koans ) focusing more on or just sitting .\n",
            "Predicted Answer: riddle\n",
            "True Answer: rinzai\n",
            "--------------------------------------------------\n",
            "Question: what caused schwarzenegger ' s father gustav ' s death ?\n",
            "Context: on may 20 , 1971 , his brother , meinhard , died in a car accident . meinhard had been drinking and was killed instantly . schwarzenegger did not attend his funeral . meinhard was due to marry erika knapp , and couple had a three-year-old son , patrick . schwarzenegger would pay for patrick ' s education and help him to emigrate to united states . gustav died following year from a stroke . in pumping iron , schwarzenegger claimed that he did not attend his father ' s funeral because he was training for a bodybuilding contest . later , he and film ' s producer said this story was taken from another bodybuilder for purpose of showing extremes that some would go to for their sport and to make schwarzenegger ' s image more cold and machine-like in order to fan controversy for film . barbara baker , his first serious girlfriend , has said he informed her of his father ' s death without emotion and that he never spoke of his brother . over time , he has given at least three versions of why he was absent from his father ' s funeral .\n",
            "Predicted Answer: 20 , 1971 , his brother , meinhard , died in a car accident . meinhard had been drinking and was killed instantly . schwarzenegger did not attend his funeral . meinhard was due to marry erika knapp , and couple had a three-year-old son , patrick\n",
            "True Answer: stroke\n",
            "--------------------------------------------------\n",
            "Question: after 1945 , times supported what party for 5 years afterwards ?\n",
            "Context: historically , paper was not overtly or whig , but has been a long time bastion of english establishment and empire . times adopted a stance described as peculiarly detached at 1945 general election although it was increasingly critical of conservative party ' s campaign , it did not advocate a vote for any one party . however , newspaper reverted to tories for next election five years later . it supported conservatives for subsequent three elections , followed by support for both conservatives and liberal party for next five elections , expressly supporting a coalition in 1974 . paper then backed conservatives solidly until 1997 , when it declined to make any party endorsement but supported individual ( primarily eurosceptic ) candidates .\n",
            "Predicted Answer: 1945\n",
            "True Answer: tory\n",
            "--------------------------------------------------\n",
            "Question: pew research center estimated protestants to be what percentage of europe ' s christian population in 2010 ?\n",
            "Context: in european countries which were most profoundly influenced by reformation , protestantism still remains most practiced religion . these include nordic countries and united kingdom . in other historical protestant strongholds such as germany , netherlands , switzerland , latvia , estonia and hungary , it remains one of most popular religions . although czech republic was site of one of most significant pre-reformation movements , there are only few protestant adherents mainly due to historical reasons like persecution of protestants by catholic habsburgs , restrictions during communist rule , and also ongoing secularization . over last several decades , religious practice has been declining as secularization has increased . according to a 2012 study about religiosity in european union in 2012 by eurobarometer , protestants made up of eu population . according to pew research center , protestants constituted nearly one fifth ( or 17 . ) of continent ' s christian population in 2010 . clarke and beyer estimate that protestants constituted of all europeans in 2009 , while noll claims that less than of them lived in europe in 2010 .\n",
            "Predicted Answer: \n",
            "True Answer: 17 .\n",
            "--------------------------------------------------\n",
            "Question: british architectural library is biggest library of its kind in which continent ?\n",
            "Context: british architectural library , sometimes referred to as riba library , was established in 1834 upon founding of institute with donations from members . now , with over four million items , it is one of three largest architectural libraries in world and largest in europe . some items from collections are on permanent display at victoria and albert museum ( v&a ) in v&a + riba architecture gallery and included in temporary exhibitions at riba and across europe and north america . its collections include\n",
            "Predicted Answer: albert\n",
            "True Answer: europe\n",
            "--------------------------------------------------\n",
            "Question: where was main area where peak of scientific activity take place during islamic golden age ?\n",
            "Context: blossoming literature , philosophy , medicine , and art of iran became major elements in formation of a new age for iranian civilization , during period known as islamic golden age . islamic golden age reached its peak by 10th and 11th centuries , during which iran was main theater of scientific activities . after 10th century , persian language , alongside arabic , was used for scientific , philosophical , historical , musical , and medical works , whereas important iranian writers , such as tusi , avicenna , od din shirazi , and biruni , had major contributions in scientific writing .\n",
            "Predicted Answer: arabic\n",
            "True Answer: iran\n",
            "--------------------------------------------------\n",
            "Question: pope benedict xvi authorized continued use of roman missal in what year ?\n",
            "Context: maintaining continuity with his predecessors , john xxiii continued gradual reform of roman liturgy , and published changes that resulted in 1962 roman missal , last typical edition containing tridentine mass established in 1570 by pope pius v at request of council of trent and whose continued use pope benedict xvi authorized in 2007 , under conditions indicated in his motu proprio summorum pontificum . in response to directives of second vatican council , later editions of roman missal present 1970 form of roman rite .\n",
            "Predicted Answer: 1962\n",
            "True Answer: 2007\n",
            "--------------------------------------------------\n",
            "Question: in what season did american idol start airing on thursday nights ?\n",
            "Context: with exception of seasons one and two , contestants in semifinals onwards perform in front of a studio audience . they perform with a full band in finals . from season four to season nine , american idol band was led by rickey minor from season ten onwards , ray chew . assistance may also be given by vocal coaches and song arrangers , such as michael orland and debra byrd to contestants behind scene . starting with season seven , contestants may perform with a musical instrument from hollywood rounds onwards . in first nine seasons , performances were usually aired live on tuesday nights , followed by results shows on wednesdays in united states and canada , but moved to wednesdays and thursdays in season ten .\n",
            "Predicted Answer: canada\n",
            "True Answer: ten\n",
            "--------------------------------------------------\n",
            "Question: when did konrad zuse create z3 computer ?\n",
            "Context: in 1941 , zuse followed his earlier machine up with z3 , world ' s first working electromechanical programmable , fully automatic digital computer . z3 was built with 2000 relays , implementing a 22 bit word length that operated at a clock frequency of about hz . program code was supplied on punched film while data could be stored in 64 words of memory or supplied from keyboard . it was quite similar to modern machines in some respects , pioneering numerous advances such as floating point numbers . replacement of decimal system ( used in charles babbage ' s earlier design ) by simpler binary system meant that zuse ' s machines were easier to build and potentially more reliable , given technologies available at that time . z3 was turing complete .\n",
            "Predicted Answer: 2000\n",
            "True Answer: 1941\n",
            "--------------------------------------------------\n",
            "Question: which pieces of ice hockey equipment were once made out of wood ?\n",
            "Context: many other types of sports and recreation equipment , such as skis , ice hockey sticks , lacrosse sticks and archery bows , were commonly made of wood in past , but have since been replaced with more modern materials such as aluminium , fiberglass , carbon fiber , titanium , and composite materials . one noteworthy example of this trend is golf club commonly known as wood , head of which was traditionally made of persimmon wood in early days of game of golf , but is now generally made of synthetic materials .\n",
            "Predicted Answer: carbon\n",
            "True Answer: sticks\n",
            "--------------------------------------------------\n",
            "Question: who resigned in 1868 ?\n",
            "Context: palmerston died in 1865 , and after a brief ministry led by russell , derby returned to power . in 1866 , victoria attended state opening of parliament for first time since albert ' s death . following year she supported passing of reform act 1867 which doubled electorate by extending franchise to many urban working men , though she was not in favour of votes for women . derby resigned in 1868 , to be replaced by benjamin disraeli , who charmed victoria . everyone likes flattery , he said , and when you come to royalty you should lay it on with a trowel . with phrase we authors , ma ' am , he complimented her . disraeli ' s ministry only lasted a matter of months , and at end of year his liberal rival , william ewart gladstone , was appointed prime minister . victoria found gladstone ' s demeanour far less appealing he spoke to her , she is thought to have complained , as though she were a public meeting rather than a woman .\n",
            "Predicted Answer: \n",
            "True Answer: derby\n",
            "--------------------------------------------------\n",
            "Question: what year did sony and philips release ?\n",
            "Context: cd was planned to be successor of gramophone record for playing music , rather than primarily as a data storage medium . from its origins as a musical format , cds have grown to encompass other applications . in 1983 , following cd ' s introduction , and presented first experiments with erasable compact discs during 73rd aes convention . in june 1985 , cd-rom ( read-only memory ) and , in 1990 , were introduced , also developed by both sony and philips . recordable cds were a new alternative to tape for recording music and copying music albums without defects introduced in compression used in other digital recording methods . other newer video formats such as dvd and blu-ray use same physical geometry as cd , and most dvd and blu-ray players are backward compatible with audio cd .\n",
            "Predicted Answer: 1985 , cd-rom ( read-only memory ) and , in 1990\n",
            "True Answer: 1990\n",
            "--------------------------------------------------\n",
            "Question: where did yongle emperor greet karmapa ?\n",
            "Context: during his travels beginning in 1403 , was induced by further exhortations by ming court to visit nanjing by april 10 , 1407 . norbu writes that yongle emperor , following tradition of mongol emperors and their reverence for sakya lamas , showed an enormous amount of deference towards . yongle emperor came out of palace in nanjing to greet karmapa and did not require him to kowtow like a tributary vassal . according to karma thinley , emperor gave karmapa place of honor at his left , and on a higher throne than his own . and others describe a similar arrangement made by kublai khan and sakya phagpa lama , writing that kublai would sit on a lower platform than tibetan cleric when receiving religious instructions from him .\n",
            "Predicted Answer: lower\n",
            "True Answer: nanjing\n",
            "--------------------------------------------------\n",
            "Question: in which year was western interprovincial football union founded ?\n",
            "Context: first attempt to establish a proper governing body and adopted current set of rugby rules was foot ball association of canada , organized on march 24 , 1873 followed by canadian rugby football union ( ) founded june 12 , 1880 , which included teams from ontario and quebec . later both ontario and quebec rugby football union ( orfu and ) were formed ( january 1883 ) , and then interprovincial ( 1907 ) and western interprovincial football union ( 1936 ) ( irfu and wifu ) . reorganized into an umbrella organization forming canadian rugby union ( cru ) in 1891 . original forerunners to current canadian football league , was established in 1956 when irfu and wifu formed an umbrella organization , canadian football council ( cfc ) . and then in 1958 cfc left to become cfl .\n",
            "Predicted Answer: 1956 when irfu and wifu formed an umbrella organization , canadian football council ( cfc ) . and then in 1958\n",
            "True Answer: 1936\n",
            "--------------------------------------------------\n",
            "Question: what year did victoria ' s mother die ?\n",
            "Context: in march 1861 , victoria ' s mother died , with victoria at her side . through reading her mother ' s papers , victoria discovered that her mother had loved her deeply she was heart-broken , and blamed conroy and lehzen for wickedly estranging her from her mother . to relieve his wife during her intense and deep grief , albert took on most of her duties , despite being ill himself with chronic stomach trouble . in august , victoria and albert visited their son , prince of wales , who was attending army manoeuvres near dublin , and spent a few days holidaying in killarney . in november , albert was made aware of gossip that his son had slept with an actress in ireland . appalled , albert travelled to cambridge , where his son was studying , to confront him . by beginning of december , albert was very unwell . he was diagnosed with typhoid fever by william jenner , and died on 14 december 1861 . victoria was devastated . she blamed her husband ' s death on worry over prince of wales ' s philandering . he had been killed by that dreadful business , she said . she entered a state of mourning and wore black for remainder of her life . she avoided public appearances , and rarely set foot in london in following years . her seclusion earned her nickname widow\n",
            "Predicted Answer: 1861\n",
            "True Answer: 1861\n",
            "--------------------------------------------------\n",
            "Question: university of southampton has more than what number of students attending ?\n",
            "Context: university of southampton , which was founded in 1862 and received its royal charter as a university in 1952 , has over 22 , 000 students . university is ranked in top 100 research universities in world in academic ranking of world universities 2010 . in 2010 , thes - qs world university rankings positioned university of southampton in top 80 universities in world . university considers itself one of top 5 research universities in uk . university has a global reputation for research into engineering sciences , oceanography , chemistry , cancer sciences , sound and vibration research , computer science and electronics , optoelectronics and textile conservation at textile conservation centre ( which is due to close in october 2009 . ) it is also home to national oceanography centre , southampton ( nocs ) , focus of natural environment research marine research .\n",
            "Predicted Answer: 80 universities in world . university considers itself one of top 5\n",
            "True Answer: 22 , 000\n",
            "--------------------------------------------------\n",
            "Question: in what year did synod in rant against excesses of festival ?\n",
            "Context: in year 743 synod in ( is located near binche in belgium ) spoke out furiously against excesses in month of february . also from same period dates phrase whoever in february by a variety of less honorable acts tries to drive out winter is not a christian , but a pagan . confession books from around 800 contain more information about how people would dress as an animal or old woman during festivities in january and february , even though this was a sin with no small penance . also in spain , san isidoro de sevilla is written complaint in seventh century that people coming out into streets disguised in many cases opposite gender .\n",
            "Predicted Answer: ( is located near binche in belgium ) spoke out furiously\n",
            "True Answer: 743\n",
            "--------------------------------------------------\n",
            "Question: what language does name of niger river come from ?\n",
            "Context: name nigeria was taken from niger river running through country . this name was allegedly coined in late 19th century by british journalist flora shaw , she was inspired by name of river , in preference to terms such as central sudan . origin of name ' ' nigeria ' ' came from name of niger river . word ( niger ) is an alteration of tuareg name used by inhabitants along middle reaches of river around timbuktu prior to 19th-century european colonialism . means river of rivers .\n",
            "Predicted Answer: 19th\n",
            "True Answer: tuareg\n",
            "--------------------------------------------------\n",
            "Question: what process splits chromosome between gametes ?\n",
            "Context: some organisms have multiple copies of chromosomes diploid , triploid , tetraploid and so on . in classical genetics , in a sexually reproducing organism ( typically eukarya ) gamete has half number of chromosomes of somatic cell and genome is a full set of chromosomes in a diploid cell . halving of genetic material in gametes is accomplished by segregation of homologous chromosomes during meiosis . in haploid organisms , including cells of bacteria , archaea , and in organelles including mitochondria and chloroplasts , or viruses , that similarly contain genes , single or set of circular or linear chains of dna ( or rna for some viruses ) , likewise constitute genome . term genome can be applied specifically to mean what is stored on a complete set of nuclear dna ( i . e . , nuclear genome ) but can also be applied to what is stored within organelles that contain their own dna , as with mitochondrial genome or chloroplast genome . additionally , genome can comprise genetic elements such as viruses , plasmids , and transposable elements .\n",
            "Predicted Answer: half number of chromosomes of somatic cell and genome is a full set of chromosomes in a diploid cell . halving of genetic material in gametes is accomplished by segregation of homologous chromosomes during meiosis . in haploid organisms , including cells of bacteria , archaea\n",
            "True Answer: meiosis\n",
            "--------------------------------------------------\n",
            "Question: in what year did stockholm bloodbath take place ?\n",
            "Context: after failed union of sweden and norway of , kalmar union was instituted in 1397 . swedes were reluctant members of union from start . in an attempt to subdue swedes , king christian ii of denmark had large numbers of swedish aristocracy killed in stockholm bloodbath of 1520 . yet this measure only led to further hostilities , and sweden broke away for good in 1523 . norway , on other hand , became an inferior party of union and remained united with denmark until 1814 .\n",
            "Predicted Answer: 1814\n",
            "True Answer: 1520\n",
            "--------------------------------------------------\n"
          ]
        }
      ],
      "source": [
        "# Compare the predictions with the actual answers\n",
        "for i in range(100):\n",
        "    print(f\"Question: {train_questions[i]}\")\n",
        "    print(f\"Context: {train_contexts[i]}\")\n",
        "    print(f\"Predicted Answer: {train_preds[i]}\")\n",
        "    print(f\"True Answer: {train_true_labels[i]}\")\n",
        "    print(\"-\" * 50)"
      ]
    }
  ],
  "metadata": {
    "accelerator": "GPU",
    "colab": {
      "gpuType": "T4",
      "provenance": []
    },
    "kernelspec": {
      "display_name": "main",
      "language": "python",
      "name": "python3"
    },
    "language_info": {
      "codemirror_mode": {
        "name": "ipython",
        "version": 3
      },
      "file_extension": ".py",
      "mimetype": "text/x-python",
      "name": "python",
      "nbconvert_exporter": "python",
      "pygments_lexer": "ipython3",
      "version": "3.12.9"
    }
  },
  "nbformat": 4,
  "nbformat_minor": 0
}
