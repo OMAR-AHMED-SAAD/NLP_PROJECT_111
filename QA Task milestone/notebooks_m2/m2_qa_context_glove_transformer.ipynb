{
  "cells": [
    {
      "cell_type": "markdown",
      "metadata": {
        "id": "furWbet6M3Jn"
      },
      "source": [
        "# Milestone 2 - Training Transformer Models with GloVe embeddings"
      ]
    },
    {
      "cell_type": "markdown",
      "metadata": {},
      "source": [
        "### Imports"
      ]
    },
    {
      "cell_type": "code",
      "execution_count": 1,
      "metadata": {
        "colab": {
          "base_uri": "https://localhost:8080/"
        },
        "id": "Rd_xZP2iM3Jq",
        "outputId": "9e6e465a-f13a-443e-c4aa-035ef5c04a98"
      },
      "outputs": [
        {
          "name": "stderr",
          "output_type": "stream",
          "text": [
            "c:\\Users\\001\\anaconda3\\envs\\nlp_env\\Lib\\site-packages\\IPython\\core\\magics\\osm.py:417: UserWarning: This is now an optional IPython functionality, setting dhist requires you to install the `pickleshare` library.\n",
            "  self.shell.db['dhist'] = compress_dhist(dhist)[-100:]\n"
          ]
        },
        {
          "name": "stdout",
          "output_type": "stream",
          "text": [
            "c:\\Users\\001\\OneDrive\\Desktop\\GUC\\semester 10\\nlp\\NLP_PROJECT_111\\QA Task milestone\n"
          ]
        },
        {
          "name": "stderr",
          "output_type": "stream",
          "text": [
            "c:\\Users\\001\\anaconda3\\envs\\nlp_env\\Lib\\site-packages\\torchtext\\data\\__init__.py:4: UserWarning: \n",
            "/!\\ IMPORTANT WARNING ABOUT TORCHTEXT STATUS /!\\ \n",
            "Torchtext is deprecated and the last released version will be 0.18 (this one). You can silence this warning by calling the following at the beginnign of your scripts: `import torchtext; torchtext.disable_torchtext_deprecation_warning()`\n",
            "  warnings.warn(torchtext._TORCHTEXT_DEPRECATION_MSG)\n",
            "c:\\Users\\001\\anaconda3\\envs\\nlp_env\\Lib\\site-packages\\torchtext\\vocab\\__init__.py:4: UserWarning: \n",
            "/!\\ IMPORTANT WARNING ABOUT TORCHTEXT STATUS /!\\ \n",
            "Torchtext is deprecated and the last released version will be 0.18 (this one). You can silence this warning by calling the following at the beginnign of your scripts: `import torchtext; torchtext.disable_torchtext_deprecation_warning()`\n",
            "  warnings.warn(torchtext._TORCHTEXT_DEPRECATION_MSG)\n",
            "c:\\Users\\001\\anaconda3\\envs\\nlp_env\\Lib\\site-packages\\torchtext\\utils.py:4: UserWarning: \n",
            "/!\\ IMPORTANT WARNING ABOUT TORCHTEXT STATUS /!\\ \n",
            "Torchtext is deprecated and the last released version will be 0.18 (this one). You can silence this warning by calling the following at the beginnign of your scripts: `import torchtext; torchtext.disable_torchtext_deprecation_warning()`\n",
            "  warnings.warn(torchtext._TORCHTEXT_DEPRECATION_MSG)\n"
          ]
        }
      ],
      "source": [
        "%cd ..\n",
        "# imports\n",
        "from scripts_m2 import *\n"
      ]
    },
    {
      "cell_type": "markdown",
      "metadata": {
        "id": "UMWcb8n-M3Jr"
      },
      "source": [
        "### 1. Get Dataloaders"
      ]
    },
    {
      "cell_type": "code",
      "execution_count": 2,
      "metadata": {},
      "outputs": [
        {
          "name": "stdout",
          "output_type": "stream",
          "text": [
            "Filtered dataset size: 19900 out of original 20000\n",
            "Filtered dataset size: 1986 out of original 2000\n"
          ]
        }
      ],
      "source": [
        "train_dataloader, dev_dataloader, tokenizer = prepare_dataloaders_tokenizer_glove()"
      ]
    },
    {
      "cell_type": "markdown",
      "metadata": {
        "id": "GLzOX80RM3Jy"
      },
      "source": [
        "### 2. Model Training"
      ]
    },
    {
      "cell_type": "markdown",
      "metadata": {
        "id": "F4tMuCuhM3Jy"
      },
      "source": [
        "#### Question [PAD] [SEP] Context [PAD]"
      ]
    },
    {
      "cell_type": "code",
      "execution_count": 3,
      "metadata": {
        "colab": {
          "base_uri": "https://localhost:8080/"
        },
        "id": "F5DWI_gHM3Jz",
        "outputId": "fb185619-b220-4d37-aef2-0d0db604c0f0"
      },
      "outputs": [
        {
          "name": "stdout",
          "output_type": "stream",
          "text": [
            "torch.Size([400006, 300])\n"
          ]
        }
      ],
      "source": [
        "print(tokenizer.get_pretrained_embeddings().shape)"
      ]
    },
    {
      "cell_type": "code",
      "execution_count": 4,
      "metadata": {
        "colab": {
          "base_uri": "https://localhost:8080/"
        },
        "id": "zAjCoVWuM3Jz",
        "outputId": "9ee7f527-8404-466d-de5e-8a31d3689f48"
      },
      "outputs": [
        {
          "name": "stderr",
          "output_type": "stream",
          "text": [
            "c:\\Users\\001\\anaconda3\\envs\\nlp_env\\Lib\\site-packages\\torch\\nn\\modules\\transformer.py:306: UserWarning: enable_nested_tensor is True, but self.use_nested_tensor is False because encoder_layer.self_attn.batch_first was not True(use batch_first for better inference performance)\n",
            "  warnings.warn(f\"enable_nested_tensor is True, but self.use_nested_tensor is False because {why_not_sparsity_fast_path}\")\n",
            "c:\\Users\\001\\anaconda3\\envs\\nlp_env\\Lib\\site-packages\\torch\\optim\\lr_scheduler.py:28: UserWarning: The verbose parameter is deprecated. Please use get_last_lr() to access the learning rate.\n",
            "  warnings.warn(\"The verbose parameter is deprecated. Please use get_last_lr() \"\n",
            "Epoch 1/20:   0%|          | 0/622 [00:00<?, ?it/s]c:\\Users\\001\\anaconda3\\envs\\nlp_env\\Lib\\site-packages\\torch\\nn\\functional.py:5504: UserWarning: 1Torch was not compiled with flash attention. (Triggered internally at C:\\cb\\pytorch_1000000000000\\work\\aten\\src\\ATen\\native\\transformers\\cuda\\sdp_utils.cpp:455.)\n",
            "  attn_output = scaled_dot_product_attention(q, k, v, attn_mask, dropout_p, is_causal)\n",
            "Epoch 1/20: 100%|██████████| 622/622 [00:49<00:00, 12.60it/s, loss=11]  \n"
          ]
        },
        {
          "name": "stdout",
          "output_type": "stream",
          "text": [
            "Epoch 1 Loss: 9.6255\n"
          ]
        },
        {
          "name": "stderr",
          "output_type": "stream",
          "text": [
            "Evaluating: 100%|██████████| 622/622 [00:40<00:00, 15.23it/s]\n"
          ]
        },
        {
          "name": "stdout",
          "output_type": "stream",
          "text": [
            "Training Loss: 11.0353\n",
            "Training Metrics: {'start_accuracy': 0.020402010050251256, 'start_precision': 0.02497158966968341, 'start_recall': 0.020402010050251256, 'start_f1_score': 0.021571562743829126, 'end_accuracy': 0.009246231155778894, 'end_precision': 0.025214968530482634, 'end_recall': 0.009246231155778894, 'end_f1_score': 0.011799549034939849, 'joint_exact_match': 0.0, 'span_overlap_f1': 0.010191438635492895}\n"
          ]
        },
        {
          "name": "stderr",
          "output_type": "stream",
          "text": [
            "Evaluating: 100%|██████████| 63/63 [00:04<00:00, 15.10it/s]\n"
          ]
        },
        {
          "name": "stdout",
          "output_type": "stream",
          "text": [
            "Validation Loss: 11.0354\n",
            "Validation Metrics: {'start_accuracy': 0.023162134944612285, 'start_precision': 0.025542186683226692, 'start_recall': 0.023162134944612285, 'start_f1_score': 0.023162537812459368, 'end_accuracy': 0.012084592145015106, 'end_precision': 0.032457319648540546, 'end_recall': 0.012084592145015106, 'end_f1_score': 0.016278726057150483, 'joint_exact_match': 0.0, 'span_overlap_f1': 0.01086367010166862}\n",
            "Validation loss improved to 11.0354. Saving model state.\n",
            "--------------------------------------------------\n"
          ]
        },
        {
          "name": "stderr",
          "output_type": "stream",
          "text": [
            "Epoch 2/20: 100%|██████████| 622/622 [00:49<00:00, 12.62it/s, loss=11]  \n"
          ]
        },
        {
          "name": "stdout",
          "output_type": "stream",
          "text": [
            "Epoch 2 Loss: 11.0331\n"
          ]
        },
        {
          "name": "stderr",
          "output_type": "stream",
          "text": [
            "Evaluating: 100%|██████████| 622/622 [00:40<00:00, 15.33it/s]\n"
          ]
        },
        {
          "name": "stdout",
          "output_type": "stream",
          "text": [
            "Training Loss: 10.9352\n",
            "Training Metrics: {'start_accuracy': 0.024120603015075376, 'start_precision': 0.027519719597318998, 'start_recall': 0.024120603015075376, 'start_f1_score': 0.024901857344360293, 'end_accuracy': 0.027386934673366833, 'end_precision': 0.031525292997221746, 'end_recall': 0.027386934673366833, 'end_f1_score': 0.0283707826982029, 'joint_exact_match': 0.022964824120603015, 'span_overlap_f1': 0.025890752358228786}\n"
          ]
        },
        {
          "name": "stderr",
          "output_type": "stream",
          "text": [
            "Evaluating: 100%|██████████| 63/63 [00:04<00:00, 14.84it/s]\n"
          ]
        },
        {
          "name": "stdout",
          "output_type": "stream",
          "text": [
            "Validation Loss: 10.9039\n",
            "Validation Metrics: {'start_accuracy': 0.027190332326283987, 'start_precision': 0.02858096167526328, 'start_recall': 0.027190332326283987, 'start_f1_score': 0.025837346358535247, 'end_accuracy': 0.02920443101711984, 'end_precision': 0.03546264602178985, 'end_recall': 0.02920443101711984, 'end_f1_score': 0.02825156336124711, 'joint_exact_match': 0.024672708962739175, 'span_overlap_f1': 0.028156397962431502}\n",
            "Validation loss improved to 10.9039. Saving model state.\n",
            "--------------------------------------------------\n"
          ]
        },
        {
          "name": "stderr",
          "output_type": "stream",
          "text": [
            "Epoch 3/20: 100%|██████████| 622/622 [00:50<00:00, 12.33it/s, loss=11]  \n"
          ]
        },
        {
          "name": "stdout",
          "output_type": "stream",
          "text": [
            "Epoch 3 Loss: 10.9807\n"
          ]
        },
        {
          "name": "stderr",
          "output_type": "stream",
          "text": [
            "Evaluating: 100%|██████████| 622/622 [00:42<00:00, 14.57it/s]\n"
          ]
        },
        {
          "name": "stdout",
          "output_type": "stream",
          "text": [
            "Training Loss: 11.0349\n",
            "Training Metrics: {'start_accuracy': 0.017989949748743718, 'start_precision': 0.02173819982464732, 'start_recall': 0.017989949748743718, 'start_f1_score': 0.018862131580745296, 'end_accuracy': 0.022010050251256283, 'end_precision': 0.025332251117352073, 'end_recall': 0.022010050251256283, 'end_f1_score': 0.02280245965902148, 'joint_exact_match': 0.012412060301507538, 'span_overlap_f1': 0.01701094901287002}\n"
          ]
        },
        {
          "name": "stderr",
          "output_type": "stream",
          "text": [
            "Evaluating: 100%|██████████| 63/63 [00:04<00:00, 13.98it/s]\n"
          ]
        },
        {
          "name": "stdout",
          "output_type": "stream",
          "text": [
            "Validation Loss: 11.0349\n",
            "Validation Metrics: {'start_accuracy': 0.019637462235649546, 'start_precision': 0.02608119081491336, 'start_recall': 0.019637462235649546, 'start_f1_score': 0.0210332721198406, 'end_accuracy': 0.019133937562940583, 'end_precision': 0.019837528041055562, 'end_recall': 0.019133937562940583, 'end_f1_score': 0.018178087150657725, 'joint_exact_match': 0.010574018126888218, 'span_overlap_f1': 0.016801793944827555}\n",
            "Validation loss did not improve. No improvement for 1 epochs.\n",
            "--------------------------------------------------\n"
          ]
        },
        {
          "name": "stderr",
          "output_type": "stream",
          "text": [
            "Epoch 4/20: 100%|██████████| 622/622 [00:50<00:00, 12.35it/s, loss=11.1]\n"
          ]
        },
        {
          "name": "stdout",
          "output_type": "stream",
          "text": [
            "Epoch 4 Loss: 11.0382\n"
          ]
        },
        {
          "name": "stderr",
          "output_type": "stream",
          "text": [
            "Evaluating: 100%|██████████| 622/622 [00:43<00:00, 14.29it/s]\n"
          ]
        },
        {
          "name": "stdout",
          "output_type": "stream",
          "text": [
            "Training Loss: 11.0349\n",
            "Training Metrics: {'start_accuracy': 0.008391959798994975, 'start_precision': 0.007852932537129657, 'start_recall': 0.008391959798994975, 'start_f1_score': 0.007101886068770826, 'end_accuracy': 0.008994974874371859, 'end_precision': 0.007921843048657513, 'end_recall': 0.008994974874371859, 'end_f1_score': 0.0077607023575529165, 'joint_exact_match': 0.00030150753768844223, 'span_overlap_f1': 0.011203696372706655}\n"
          ]
        },
        {
          "name": "stderr",
          "output_type": "stream",
          "text": [
            "Evaluating: 100%|██████████| 63/63 [00:04<00:00, 14.35it/s]\n"
          ]
        },
        {
          "name": "stdout",
          "output_type": "stream",
          "text": [
            "Validation Loss: 11.0349\n",
            "Validation Metrics: {'start_accuracy': 0.008056394763343404, 'start_precision': 0.011100550463560895, 'start_recall': 0.008056394763343404, 'start_f1_score': 0.007334630589121384, 'end_accuracy': 0.0075528700906344415, 'end_precision': 0.00856841415081882, 'end_recall': 0.0075528700906344415, 'end_f1_score': 0.0071449495549766595, 'joint_exact_match': 0.0, 'span_overlap_f1': 0.008908633157984045}\n",
            "Validation loss did not improve. No improvement for 2 epochs.\n",
            "--------------------------------------------------\n"
          ]
        },
        {
          "name": "stderr",
          "output_type": "stream",
          "text": [
            "Epoch 5/20: 100%|██████████| 622/622 [00:49<00:00, 12.51it/s, loss=11]  \n"
          ]
        },
        {
          "name": "stdout",
          "output_type": "stream",
          "text": [
            "Epoch 5 Loss: 11.0377\n"
          ]
        },
        {
          "name": "stderr",
          "output_type": "stream",
          "text": [
            "Evaluating: 100%|██████████| 622/622 [00:43<00:00, 14.43it/s]\n"
          ]
        },
        {
          "name": "stdout",
          "output_type": "stream",
          "text": [
            "Training Loss: 11.0348\n",
            "Training Metrics: {'start_accuracy': 0.012814070351758794, 'start_precision': 0.013865637849598374, 'start_recall': 0.012814070351758794, 'start_f1_score': 0.012663908582692557, 'end_accuracy': 0.013015075376884422, 'end_precision': 0.014004649939882055, 'end_recall': 0.013015075376884422, 'end_f1_score': 0.012959140979044145, 'joint_exact_match': 0.008090452261306533, 'span_overlap_f1': 0.012149144745717398}\n"
          ]
        },
        {
          "name": "stderr",
          "output_type": "stream",
          "text": [
            "Evaluating: 100%|██████████| 63/63 [00:04<00:00, 14.39it/s]\n"
          ]
        },
        {
          "name": "stdout",
          "output_type": "stream",
          "text": [
            "Validation Loss: 11.0349\n",
            "Validation Metrics: {'start_accuracy': 0.008559919436052367, 'start_precision': 0.007861517846856392, 'start_recall': 0.008559919436052367, 'start_f1_score': 0.007824312753620208, 'end_accuracy': 0.008056394763343404, 'end_precision': 0.01391486379693638, 'end_recall': 0.008056394763343404, 'end_f1_score': 0.008536233809730445, 'joint_exact_match': 0.004531722054380665, 'span_overlap_f1': 0.00868285049690455}\n",
            "Validation loss did not improve. No improvement for 3 epochs.\n",
            "--------------------------------------------------\n"
          ]
        },
        {
          "name": "stderr",
          "output_type": "stream",
          "text": [
            "Epoch 6/20: 100%|██████████| 622/622 [00:49<00:00, 12.53it/s, loss=11]  \n"
          ]
        },
        {
          "name": "stdout",
          "output_type": "stream",
          "text": [
            "Epoch 6 Loss: 11.0364\n"
          ]
        },
        {
          "name": "stderr",
          "output_type": "stream",
          "text": [
            "Evaluating: 100%|██████████| 622/622 [00:41<00:00, 14.83it/s]\n"
          ]
        },
        {
          "name": "stdout",
          "output_type": "stream",
          "text": [
            "Training Loss: 11.0348\n",
            "Training Metrics: {'start_accuracy': 0.01306532663316583, 'start_precision': 0.01492872674828349, 'start_recall': 0.01306532663316583, 'start_f1_score': 0.013328898479310805, 'end_accuracy': 0.01306532663316583, 'end_precision': 0.014343439262597747, 'end_recall': 0.01306532663316583, 'end_f1_score': 0.013285329184149796, 'joint_exact_match': 0.007738693467336684, 'span_overlap_f1': 0.012014879299156027}\n"
          ]
        },
        {
          "name": "stderr",
          "output_type": "stream",
          "text": [
            "Evaluating: 100%|██████████| 63/63 [00:04<00:00, 14.99it/s]\n"
          ]
        },
        {
          "name": "stdout",
          "output_type": "stream",
          "text": [
            "Validation Loss: 11.0348\n",
            "Validation Metrics: {'start_accuracy': 0.00906344410876133, 'start_precision': 0.011161649690913362, 'start_recall': 0.00906344410876133, 'start_f1_score': 0.00911503540946035, 'end_accuracy': 0.012084592145015106, 'end_precision': 0.015513612147014195, 'end_recall': 0.012084592145015106, 'end_f1_score': 0.011939455799059313, 'joint_exact_match': 0.006545820745216516, 'span_overlap_f1': 0.0108511665653256}\n",
            "Validation loss did not improve. No improvement for 4 epochs.\n",
            "--------------------------------------------------\n"
          ]
        },
        {
          "name": "stderr",
          "output_type": "stream",
          "text": [
            "Epoch 7/20: 100%|██████████| 622/622 [00:49<00:00, 12.68it/s, loss=11]  \n"
          ]
        },
        {
          "name": "stdout",
          "output_type": "stream",
          "text": [
            "Epoch 7 Loss: 11.0374\n"
          ]
        },
        {
          "name": "stderr",
          "output_type": "stream",
          "text": [
            "Evaluating: 100%|██████████| 622/622 [00:42<00:00, 14.79it/s]\n"
          ]
        },
        {
          "name": "stdout",
          "output_type": "stream",
          "text": [
            "Training Loss: 11.0348\n",
            "Training Metrics: {'start_accuracy': 0.011407035175879397, 'start_precision': 0.01268848736269078, 'start_recall': 0.011407035175879397, 'start_f1_score': 0.01166323803224729, 'end_accuracy': 0.010753768844221105, 'end_precision': 0.012256068026318474, 'end_recall': 0.010753768844221105, 'end_f1_score': 0.011116620430772479, 'joint_exact_match': 0.008844221105527638, 'span_overlap_f1': 0.01144135846176147}\n"
          ]
        },
        {
          "name": "stderr",
          "output_type": "stream",
          "text": [
            "Evaluating: 100%|██████████| 63/63 [00:04<00:00, 14.74it/s]"
          ]
        },
        {
          "name": "stdout",
          "output_type": "stream",
          "text": [
            "Validation Loss: 11.0348\n",
            "Validation Metrics: {'start_accuracy': 0.00906344410876133, 'start_precision': 0.007855292870663624, 'start_recall': 0.00906344410876133, 'start_f1_score': 0.007869614439245748, 'end_accuracy': 0.00906344410876133, 'end_precision': 0.008699851593328438, 'end_recall': 0.00906344410876133, 'end_f1_score': 0.008417796109676934, 'joint_exact_match': 0.0075528700906344415, 'span_overlap_f1': 0.009770890539701213}\n",
            "Validation loss did not improve. No improvement for 5 epochs.\n",
            "Early stopping triggered.\n",
            "Loaded the best model state.\n"
          ]
        },
        {
          "name": "stderr",
          "output_type": "stream",
          "text": [
            "\n"
          ]
        }
      ],
      "source": [
        "device = torch.device('cuda' if torch.cuda.is_available() else 'cpu')\n",
        "\n",
        "model = TransformerQAModel3(\n",
        "    vocab_size=10_000,\n",
        "    d_model=300,\n",
        "    num_layers=4,\n",
        "    num_heads=6,\n",
        "    dim_feedforward=512,\n",
        "    max_question_len=20,\n",
        "    max_context_len=249,\n",
        "    dropout=0.01,\n",
        "    pretrained_embeddings=tokenizer.get_pretrained_embeddings(),\n",
        "    freeze_embeddings=True,\n",
        ")\n",
        "model = model.to(device)\n",
        "\n",
        "# Setup an optimizer (e.g., Adam)\n",
        "optimizer = optim.AdamW(model.parameters(), lr=0.001)\n",
        "criterion = nn.CrossEntropyLoss()\n",
        "\n",
        "train_loss, val_loss = train_qa_context_model_boilerplate(\n",
        "    model=model,\n",
        "    train_dataloader=train_dataloader,\n",
        "    val_dataloader=dev_dataloader,\n",
        "    optimizer=optimizer,\n",
        "    criterion=criterion,\n",
        "    num_epochs=20,\n",
        "    device=device,\n",
        "    inputs = [\"context_question\", \"attention_mask_context_question\"],\n",
        "    evaluate_val_dataset=True,\n",
        ")\n"
      ]
    },
    {
      "cell_type": "code",
      "execution_count": 5,
      "metadata": {},
      "outputs": [
        {
          "data": {
            "image/png": "[encoded data removed]",
            "text/plain": [
              "<Figure size 1000x600 with 1 Axes>"
            ]
          },
          "metadata": {},
          "output_type": "display_data"
        }
      ],
      "source": [
        "# Plotting the training and validation loss\n",
        "plot_loss_curves(train_loss, val_loss)"
      ]
    },
    {
      "cell_type": "markdown",
      "metadata": {},
      "source": [
        "#### Save Model"
      ]
    },
    {
      "cell_type": "code",
      "execution_count": 6,
      "metadata": {
        "id": "rmP6zvJbM3J0"
      },
      "outputs": [],
      "source": [
        "model_path = \"models/glove_qa_context_model_transformer.pkl\""
      ]
    },
    {
      "cell_type": "code",
      "execution_count": 7,
      "metadata": {
        "colab": {
          "base_uri": "https://localhost:8080/"
        },
        "id": "G16tYCuvM3J0",
        "outputId": "e78ea058-7c30-4537-8ff4-8a95ba7c854d"
      },
      "outputs": [
        {
          "name": "stdout",
          "output_type": "stream",
          "text": [
            "Model saved to models/glove_qa_context_model_transformer.pkl\n"
          ]
        }
      ],
      "source": [
        "save_model(model, model_path)"
      ]
    },
    {
      "cell_type": "code",
      "execution_count": 8,
      "metadata": {
        "id": "tcyNyqXiM3J0"
      },
      "outputs": [
        {
          "name": "stdout",
          "output_type": "stream",
          "text": [
            "Model loaded from models/glove_qa_context_model_transformer.pkl\n"
          ]
        }
      ],
      "source": [
        "device = torch.device('cuda' if torch.cuda.is_available() else 'cpu')\n",
        "model = load_model(model_path=model_path)"
      ]
    },
    {
      "cell_type": "markdown",
      "metadata": {},
      "source": [
        "#### Evaluation"
      ]
    },
    {
      "cell_type": "code",
      "execution_count": 9,
      "metadata": {
        "id": "pwnFTqXBM3J1",
        "outputId": "7e94a5ef-ada2-4a58-defc-cd367169a425"
      },
      "outputs": [
        {
          "name": "stderr",
          "output_type": "stream",
          "text": [
            "Evaluating: 100%|██████████| 622/622 [00:43<00:00, 14.21it/s]"
          ]
        },
        {
          "name": "stdout",
          "output_type": "stream",
          "text": [
            "Validation Loss: 10.9352\n",
            "Validation Metrics: {'start_accuracy': 0.024120603015075376, 'start_precision': 0.027519719597318998, 'start_recall': 0.024120603015075376, 'start_f1_score': 0.024901857344360293, 'end_accuracy': 0.027386934673366833, 'end_precision': 0.031525292997221746, 'end_recall': 0.027386934673366833, 'end_f1_score': 0.0283707826982029, 'joint_exact_match': 0.022964824120603015, 'span_overlap_f1': 0.025890752358228786}\n"
          ]
        },
        {
          "name": "stderr",
          "output_type": "stream",
          "text": [
            "\n"
          ]
        },
        {
          "data": {
            "text/plain": [
              "(10.935164756713572,\n",
              " {'start_accuracy': 0.024120603015075376,\n",
              "  'start_precision': 0.027519719597318998,\n",
              "  'start_recall': 0.024120603015075376,\n",
              "  'start_f1_score': 0.024901857344360293,\n",
              "  'end_accuracy': 0.027386934673366833,\n",
              "  'end_precision': 0.031525292997221746,\n",
              "  'end_recall': 0.027386934673366833,\n",
              "  'end_f1_score': 0.0283707826982029,\n",
              "  'joint_exact_match': 0.022964824120603015,\n",
              "  'span_overlap_f1': 0.025890752358228786})"
            ]
          },
          "execution_count": 9,
          "metadata": {},
          "output_type": "execute_result"
        }
      ],
      "source": [
        "# evaluate the model on the dev set\n",
        "criterion = nn.CrossEntropyLoss()\n",
        "device = 'cuda' if torch.cuda.is_available() else 'cpu'\n",
        "evaluate_qa_context_model_boilerplate(model=model, dataloader=train_dataloader, criterion=criterion, device=device, inputs = [\"context_question\", \"attention_mask_context_question\"])"
      ]
    },
    {
      "cell_type": "code",
      "execution_count": 10,
      "metadata": {
        "id": "0KINMB6LM3J1",
        "outputId": "a7a6a107-1d16-4dc7-897e-191e9c174461"
      },
      "outputs": [
        {
          "name": "stderr",
          "output_type": "stream",
          "text": [
            "Evaluating: 100%|██████████| 63/63 [00:04<00:00, 14.62it/s]"
          ]
        },
        {
          "name": "stdout",
          "output_type": "stream",
          "text": [
            "Validation Loss: 10.9039\n",
            "Validation Metrics: {'start_accuracy': 0.027190332326283987, 'start_precision': 0.02858096167526328, 'start_recall': 0.027190332326283987, 'start_f1_score': 0.025837346358535247, 'end_accuracy': 0.02920443101711984, 'end_precision': 0.03546264602178985, 'end_recall': 0.02920443101711984, 'end_f1_score': 0.02825156336124711, 'joint_exact_match': 0.024672708962739175, 'span_overlap_f1': 0.028156397962431502}\n"
          ]
        },
        {
          "name": "stderr",
          "output_type": "stream",
          "text": [
            "\n"
          ]
        },
        {
          "data": {
            "text/plain": [
              "(10.903944969177246,\n",
              " {'start_accuracy': 0.027190332326283987,\n",
              "  'start_precision': 0.02858096167526328,\n",
              "  'start_recall': 0.027190332326283987,\n",
              "  'start_f1_score': 0.025837346358535247,\n",
              "  'end_accuracy': 0.02920443101711984,\n",
              "  'end_precision': 0.03546264602178985,\n",
              "  'end_recall': 0.02920443101711984,\n",
              "  'end_f1_score': 0.02825156336124711,\n",
              "  'joint_exact_match': 0.024672708962739175,\n",
              "  'span_overlap_f1': 0.028156397962431502})"
            ]
          },
          "execution_count": 10,
          "metadata": {},
          "output_type": "execute_result"
        }
      ],
      "source": [
        "# evaluate the model on the dev set\n",
        "criterion = nn.CrossEntropyLoss()\n",
        "evaluate_qa_context_model_boilerplate(model=model, dataloader=dev_dataloader, criterion=criterion, device=device, inputs = [\"context_question\", \"attention_mask_context_question\"])"
      ]
    },
    {
      "cell_type": "markdown",
      "metadata": {},
      "source": [
        "##### Evaluate predictions on test set"
      ]
    },
    {
      "cell_type": "code",
      "execution_count": 11,
      "metadata": {
        "id": "OxgMim37M3J1",
        "outputId": "107f8052-6a96-4742-88de-19ef0b781b94"
      },
      "outputs": [
        {
          "name": "stderr",
          "output_type": "stream",
          "text": [
            "Predicting: 100%|██████████| 63/63 [00:04<00:00, 14.11it/s]\n"
          ]
        }
      ],
      "source": [
        "preds, true_labels, contexts, questions = predict_qa_context_model_boilerplate(model=model, dataloader=dev_dataloader, tokenizer=tokenizer, device=device, inputs = [\"context_question\", \"attention_mask_context_question\"])"
      ]
    },
    {
      "cell_type": "code",
      "execution_count": 12,
      "metadata": {
        "id": "4tpz8QPkM3J2",
        "outputId": "35d18808-40e2-456e-8080-370dff9f68d0"
      },
      "outputs": [
        {
          "name": "stdout",
          "output_type": "stream",
          "text": [
            "Question: how many khitan tumens were there ?\n",
            "Context: many han chinese and khitan defected to mongols to fight against jin . two han chinese leaders , shi , liu ( , liu ni ) , and khitan xiao ( ) defected and commanded 3 tumens in mongol army . liu and shi served khan . liu and shi tianxiang led armies against western xia for mongols . there were 4 han tumens and 3 khitan tumens , with each tumen consisting of 10 , 000 troops . three khitan generals ( ) , ( ) and ( ) commanded three khitan tumens and four han generals zhang rou , yan shi , shi , and liu commanded four han tumens under khan .\n",
            "Predicted Answer: rou\n",
            "True Answer: 3\n",
            "--------------------------------------------------\n",
            "Question: what is atomic number of element oxygen ?\n",
            "Context: oxygen is a chemical element with symbol o and atomic number 8 . it is a member of group on periodic table and is a highly reactive nonmetal and oxidizing agent that readily forms compounds ( notably oxides ) with most elements . by mass , oxygen is third-most abundant element in universe , after hydrogen and helium . at standard temperature and pressure , two atoms of element bind to form dioxygen , a colorless and odorless diatomic gas with formula o 2 . diatomic oxygen gas constitutes 20 . of earth ' s atmosphere . however , monitoring of atmospheric oxygen levels show a global downward trend , because of fossil-fuel burning . oxygen is most abundant element by mass in earth ' s crust as part of oxide compounds such as silicon dioxide , making up almost half of crust ' s mass .\n",
            "Predicted Answer: dioxygen\n",
            "True Answer: 8\n",
            "--------------------------------------------------\n",
            "Question: atomic number of periodic table for oxygen ?\n",
            "Context: oxygen is a chemical element with symbol o and atomic number 8 . it is a member of group on periodic table and is a highly reactive nonmetal and oxidizing agent that readily forms compounds ( notably oxides ) with most elements . by mass , oxygen is third-most abundant element in universe , after hydrogen and helium . at standard temperature and pressure , two atoms of element bind to form dioxygen , a colorless and odorless diatomic gas with formula o 2 . diatomic oxygen gas constitutes 20 . of earth ' s atmosphere . however , monitoring of atmospheric oxygen levels show a global downward trend , because of fossil-fuel burning . oxygen is most abundant element by mass in earth ' s crust as part of oxide compounds such as silicon dioxide , making up almost half of crust ' s mass .\n",
            "Predicted Answer: dioxygen\n",
            "True Answer: 8\n",
            "--------------------------------------------------\n",
            "Question: how many campuses does university of california have ?\n",
            "Context: tech coast is a moniker that has gained use as a descriptor for region ' s diversified technology and industrial base as well as its multitude of prestigious and world-renowned research universities and other public and private institutions . amongst these include 5 university of california campuses ( irvine , los angeles , riverside , santa barbara , and san diego ) 12 california state university campuses ( bakersfield , channel islands , dominguez hills , fullerton , los angeles , long beach , northridge , pomona , san bernardino , san diego , san marcos , and san luis obispo ) and private institutions such as california institute of technology , chapman university , claremont colleges ( claremont mckenna college , harvey mudd college , pitzer college , pomona college , and scripps college ) , loma linda university , loyola marymount university , occidental college , pepperdine university , university of redlands , university of san diego , and university of southern california .\n",
            "Predicted Answer: world-renowned\n",
            "True Answer: 5\n",
            "--------------------------------------------------\n",
            "Question: how many cylinders does ab engine have ?\n",
            "Context: although reciprocating steam engine is no longer in widespread commercial use , various companies are exploring or exploiting potential of engine as an alternative to internal combustion engines . company ab in sweden has made progress in using modern materials for harnessing power of steam . efficiency of ' s steam engine reaches some on high-pressure engines . it is a single-step , 5-cylinder engine ( no compound ) with superheated steam and consumes approx . 4 kg ( 8 . 8 lb ) of steam per kwh . in citation\n",
            "Predicted Answer: high-pressure\n",
            "True Answer: 5\n",
            "--------------------------------------------------\n",
            "Question: what number did early greeks not regard as a true number ?\n",
            "Context: most early greeks did not even consider 1 to be a number , so they could not consider it to be a prime . by middle ages and renaissance many mathematicians included 1 as first prime number . in mid-18th century christian goldbach listed 1 as first prime in his famous correspondence with leonhard euler -- who did not agree . in 19th century many mathematicians still considered number 1 to be a prime . for example , derrick norman lehmer ' s list of primes up to 10 , 006 , 721 , reprinted as late as 1956 , started with 1 as its first prime . henri lebesgue is said to be last professional mathematician to call 1 prime . by early 20th century , mathematicians began to accept that 1 is not a prime number , but rather forms its own special category as a unit .\n",
            "Predicted Answer: 721\n",
            "True Answer: 1\n",
            "--------------------------------------------------\n",
            "Question: any even number larger than what cannot be considered prime ?\n",
            "Context: hence , 6 is not prime . image at right illustrates that 12 is not prime 12 = 3 · 4 . no even number greater than 2 is prime because by definition , any such number n has at least three distinct divisors , namely 1 , 2 , and n . this implies that n is not prime . accordingly , term odd prime refers to any prime number greater than 2 . similarly , when written in usual decimal system , all prime numbers larger than 5 end in 1 , 3 , 7 , or 9 , since even numbers are multiples of 2 and numbers ending in 0 or 5 are multiples of 5 .\n",
            "Predicted Answer: \n",
            "True Answer: 2\n",
            "--------------------------------------------------\n",
            "Question: what article of grundgesetz grants right to make private schools ?\n",
            "Context: right to create private schools in germany is in article 7 , paragraph 4 of grundgesetz and cannot be suspended even in a state of emergency . it is also not possible to abolish these rights . this unusual protection of private schools was implemented to protect these schools from a second gleichschaltung or similar event in future . still , they are less common than in many other countries . overall , between 1992 and 2008 percent of pupils in such schools in germany increased from 6 . to 7 . ( including rise from 0 . to 6 . in former gdr ) . percent of students in private high schools reached 11 . .\n",
            "Predicted Answer: grundgesetz\n",
            "True Answer: 7\n",
            "--------------------------------------------------\n",
            "Question: besides 1 , 3 and 7 , what other number must all primes greater than 5 end with ?\n",
            "Context: hence , 6 is not prime . image at right illustrates that 12 is not prime 12 = 3 · 4 . no even number greater than 2 is prime because by definition , any such number n has at least three distinct divisors , namely 1 , 2 , and n . this implies that n is not prime . accordingly , term odd prime refers to any prime number greater than 2 . similarly , when written in usual decimal system , all prime numbers larger than 5 end in 1 , 3 , 7 , or 9 , since even numbers are multiples of 2 and numbers ending in 0 or 5 are multiples of 5 .\n",
            "Predicted Answer: \n",
            "True Answer: 9\n",
            "--------------------------------------------------\n",
            "Question: what variable is associated with all problems solved within logarithmic space ?\n",
            "Context: similarly , it is not known if l ( set of all problems that can be solved in logarithmic space ) is strictly contained in p or equal to p . again , there are many complexity classes between two , such as nl and nc , and it is not known if they are distinct or equal classes .\n",
            "Predicted Answer: logarithmic\n",
            "True Answer: l\n",
            "--------------------------------------------------\n",
            "Question: what percentage of british children are educated at level in fee-paying schools ?\n",
            "Context: private schools generally prefer to be called independent schools , because of their freedom to operate outside of government and local government control . some of these are also known as public schools . preparatory schools in uk prepare pupils aged up to 13 years old to enter public schools . name public school is based on fact that schools were open to pupils from anywhere , and not merely to those from a certain locality , and of any religion or occupation . according to good schools guide approximately 9 per cent of children being educated in uk are doing so at fee-paying schools at level and 13 per cent at a-level . many independent schools are single-sex ( though this is becoming less common ) . fees range from under , 000 to , 000 and above per year for day pupils , rising to , per year for boarders . for details in scotland , see meeting cost .\n",
            "Predicted Answer: single-sex\n",
            "True Answer: 9\n",
            "--------------------------------------------------\n",
            "Question: what complexity class is characterized by a computational tasks and efficient algorithms ?\n",
            "Context: complexity class p is often seen as a mathematical abstraction modeling those computational tasks that admit an efficient algorithm . this hypothesis is called thesis . complexity class np , on other hand , contains many problems that people would like to solve efficiently , but for which no efficient algorithm is known , such as boolean satisfiability problem , hamiltonian path problem and vertex cover problem . since deterministic turing machines are special non-deterministic turing machines , it is easily observed that each problem in p is also member of class np .\n",
            "Predicted Answer: turing\n",
            "True Answer: p\n",
            "--------------------------------------------------\n",
            "Question: how many members in seats of scottish parliament are members of scottish government ?\n",
            "Context: debating chamber of scottish parliament has seating arranged in a hemicycle , which reflects desire to encourage consensus amongst elected members . there are 131 seats in debating chamber . of total 131 seats , 129 are occupied by parliament ' s elected msps and 2 are seats for scottish law officers – lord advocate and solicitor general for scotland , who are not elected members of parliament but are members of scottish government . as such law officers may attend and speak in plenary meetings of parliament but , as they are not elected msps , cannot vote . members are able to sit anywhere in debating chamber , but typically sit in their party groupings . first minister , scottish cabinet ministers and law officers sit in front row , in middle section of chamber . largest party in parliament sits in middle of semicircle , with opposing parties on either side . presiding officer , parliamentary clerks and officials sit opposite members at front of debating chamber .\n",
            "Predicted Answer: msps\n",
            "True Answer: 2\n",
            "--------------------------------------------------\n",
            "Question: how many vector equations did heaviside and gibbs maxwell ' s 20 scalar into ?\n",
            "Context: origin of electric and magnetic fields would not be fully explained until 1864 when james clerk maxwell unified a number of earlier theories into a set of 20 scalar equations , which were later reformulated into 4 vector equations by oliver heaviside and josiah willard gibbs . these maxwell equations fully described sources of fields as being stationary and moving charges , and interactions of fields themselves . this led maxwell to discover that electric and magnetic fields could be through a wave that traveled at a speed that he calculated to be speed of light . this insight united nascent fields of electromagnetic theory with optics and led directly to a complete description of electromagnetic spectrum .\n",
            "Predicted Answer: scalar\n",
            "True Answer: 4\n",
            "--------------------------------------------------\n",
            "Question: integer factorization problem essentially seeks to determine if value of of an input is less than what\n",
            "Context: integer factorization problem is computational problem of determining prime factorization of a given integer . phrased as a decision problem , it is problem of deciding whether input has a factor less than k . no efficient integer factorization algorithm is known , and this fact forms basis of several modern cryptographic systems , such as rsa algorithm . integer factorization problem is in np and in co-np ( and even in up and ) . if problem is np-complete , polynomial time hierarchy will collapse to its first level ( i . e . , np will equal co-np ) . best known algorithm for integer factorization is general number field sieve , which takes time o ( e ( ) 1/3 ( n . log 2 ) 1/3 ( log ( n . log 2 ) ) 2/3 ) to factor an integer . however , best known quantum algorithm for this problem , shor ' s algorithm , does run in polynomial time . unfortunately , this fact doesn ' t say much about where problem lies with respect to complexity classes .\n",
            "Predicted Answer: determining\n",
            "True Answer: k\n",
            "--------------------------------------------------\n",
            "Question: how many museums are in warsaw ?\n",
            "Context: as interesting examples of expositions most notable are world ' s first museum of posters boasting one of largest collections of art posters in world , museum of hunting and riding and railway museum . from among warsaw ' s 60 museums , most prestigious ones are national museum with a collection of works whose origin ranges in time from antiquity till present epoch as well as one of best collections of paintings in country including some paintings from adolf hitler ' s private collection , and museum of polish army whose set portrays history of arms .\n",
            "Predicted Answer: adolf\n",
            "True Answer: 60\n",
            "--------------------------------------------------\n",
            "Question: what light radiation does ozone absorb ?\n",
            "Context: ( o 3 ) is usually known as ozone and is a very reactive allotrope of oxygen that is damaging to lung tissue . ozone is produced in upper atmosphere when o 2 combines with atomic oxygen made by splitting of o 2 by ultraviolet ( uv ) radiation . since ozone absorbs strongly in uv region of spectrum , ozone layer of upper atmosphere functions as a protective radiation shield for planet . near earth ' s surface , it is a pollutant formed as a by-product of automobile exhaust . metastable molecule ( o 4 ) was discovered in 2001 , and was assumed to exist in one of six phases of solid oxygen . it was proven in 2006 that this phase , created by pressurizing o 2 to 20 gpa , is in fact a rhombohedral o 8 cluster . this cluster has potential to be a much more powerful oxidizer than either o 2 or o 3 and may therefore be used in rocket fuel . a metallic phase was discovered in 1990 when solid oxygen is subjected to a pressure of above 96 gpa and it was shown in 1998 that at very low temperatures , this phase becomes superconducting .\n",
            "Predicted Answer: superconducting\n",
            "True Answer: uv\n",
            "--------------------------------------------------\n",
            "Question: what is number of constituency msps ?\n",
            "Context: of 129 msps , 73 are elected to represent first past post constituencies and are known as constituency msps . voters choose one member to represent constituency , and member with most votes is returned as a constituency msp . 73 scottish parliament constituencies shared same boundaries as uk parliament constituencies in scotland , prior to 2005 reduction in number of scottish mps , with exception of orkney and shetland which each return their own constituency msp . currently , average scottish parliament constituency comprises 55 , 000 electors . given geographical distribution of population in scotland , this results in constituencies of a smaller area in central lowlands , where bulk of scotland ' s population live , and much larger constituency areas in north and west of country , which have a low population density . island archipelagos of orkney , shetland and western isles comprise a much smaller number of electors , due to their dispersed population and distance from scottish parliament in edinburgh . if a constituency msp resigns from parliament , this triggers a by-election in his or her constituency , where a replacement msp is returned from one of parties by plurality system .\n",
            "Predicted Answer: msp\n",
            "True Answer: 73\n",
            "--------------------------------------------------\n",
            "Question: how many natural reserves are in warsaw ?\n",
            "Context: there are 13 natural reserves in warsaw – among others , bielany forest , woods , czerniaków lake . about 15 kilometres ( 9 miles ) from warsaw , vistula river ' s environment changes strikingly and features a perfectly preserved ecosystem , with a habitat of animals that includes otter , beaver and hundreds of bird species . there are also several lakes in warsaw – mainly oxbow lakes , like czerniaków lake , lakes in or wilanów parks , lake . there are lot of small lakes in parks , but only a few are permanent – majority are emptied before winter to clean them of plants and sediments .\n",
            "Predicted Answer: \n",
            "True Answer: 13\n",
            "--------------------------------------------------\n",
            "Question: how many total judges are there in eu ?\n",
            "Context: judicial branch of eu has played an important role in development of eu law , by assuming task of interpreting treaties , and accelerating economic and political integration . today court of justice of european union ( ) is main judicial body , within which there is a higher european court of justice ( commonly abbreviated as ecj ) that deals with cases that contain more public importance , and a general court that deals with issues of detail but without general importance . there is also a civil service tribunal to deal with eu staff issues , and then a separate court of auditors . under treaty on european union article 19 ( 2 ) there is one judge from each member state , 28 at present , who are supposed to possess qualifications required for appointment to highest judicial offices ( or for general court , ability required for appointment to high judicial office ) . a president is elected by judges for three years . under teu article 19 ( 3 ) is to be ultimate court to interpret questions of eu law . in fact , most eu law is applied by member state courts ( english court of appeal , german bundesgerichtshof , belgian cour du travail , etc . ) but they can refer questions to eu court for a preliminary ruling\n",
            "Predicted Answer: teu\n",
            "True Answer: 28\n",
            "--------------------------------------------------\n",
            "Question: how many examination boards exist in india ?\n",
            "Context: in india , private schools are called independent schools , but since some private schools receive financial aid from government , it can be an aided or an unaided school . so , in a strict sense , a private school is an unaided independent school . for purpose of this definition , only receipt of financial aid is considered , not land purchased from government at a subsidized rate . it is within power of both union government and state governments to govern schools since education appears in concurrent list of legislative subjects in constitution . practice has been for union government to provide broad policy directions while states create their own rules and regulations for administration of sector . among other things , this has also resulted in 30 different examination boards or academic authorities that conduct examinations for school leaving certificates . prominent examination boards that are present in multiple states are cbse and cisce ,\n",
            "Predicted Answer: receipt\n",
            "True Answer: 30\n",
            "--------------------------------------------------\n",
            "Question: what is scientific designation of oxygen ?\n",
            "Context: common allotrope of elemental oxygen on earth is called dioxygen , o 2 . it is form that is a major part of earth ' s atmosphere ( see occurrence ) . o2 has a bond length of 121 pm and a bond energy of 498 , which is smaller than energy of other double bonds or pairs of single bonds in biosphere and responsible for exothermic reaction of o2 with any organic molecule . due to its energy content , o2 is used by complex forms of life , such as animals , in cellular respiration ( see biological role ) . other aspects of o 2 are covered in remainder of this article .\n",
            "Predicted Answer: respiration\n",
            "True Answer: o2\n",
            "--------------------------------------------------\n",
            "Question: what was dalton ' s erroneous formula for water ?\n",
            "Context: john dalton ' s original atomic hypothesis assumed that all elements were monatomic and that atoms in compounds would normally have simplest atomic ratios with respect to one another . for example , dalton assumed that water ' s formula was ho , giving atomic mass of oxygen as 8 times that of hydrogen , instead of modern value of about 16 . in 1805 , joseph louis gay-lussac and alexander von humboldt showed that water is formed of two volumes of hydrogen and one volume of oxygen and by 1811 amedeo avogadro had arrived at correct interpretation of water ' s composition , based on what is now called avogadro ' s law and assumption of diatomic elemental molecules .\n",
            "Predicted Answer: gay-lussac\n",
            "True Answer: ho\n",
            "--------------------------------------------------\n",
            "Question: which country is a traditional ally of israel ?\n",
            "Context: embargo was not uniform across europe . of nine members of european economic community ( eec ) , netherlands faced a complete embargo , uk and france received almost uninterrupted supplies ( having refused to allow america to use their airfields and embargoed arms and supplies to both arabs and israelis ) , while other six faced partial cutbacks . uk had traditionally been an ally of israel , and harold wilson ' s government supported israelis during six-day war . his successor , ted heath , reversed this policy in 1970 , calling for israel to withdraw to its pre-1967 borders .\n",
            "Predicted Answer: partial\n",
            "True Answer: uk\n",
            "--------------------------------------------------\n",
            "Question: which country is not badly hit by embargo ?\n",
            "Context: despite being relatively unaffected by embargo , uk nonetheless faced an oil crisis of its own - a series of strikes by coal miners and railroad workers over winter of became a major factor in change of government . heath asked british to heat only one room in their houses over winter . uk , germany , italy , switzerland and norway banned flying , driving and boating on sundays . sweden rationed gasoline and heating oil . netherlands imposed prison sentences for those who used more than their ration of electricity .\n",
            "Predicted Answer: boating\n",
            "True Answer: uk\n",
            "--------------------------------------------------\n",
            "Question: how many members are on warsaw city ?\n",
            "Context: legislative power in warsaw is vested in a unicameral warsaw city council ( rada ) , which comprises 60 members . council members are elected directly every four years . like most legislative bodies , city council divides itself into committees which have oversight of various functions of city government . bills passed by a simple majority are sent to mayor ( president of warsaw ) , who may sign them into law . if mayor vetoes a bill , council has 30 days to override veto by a two-thirds majority vote .\n",
            "Predicted Answer: \n",
            "True Answer: 60\n",
            "--------------------------------------------------\n",
            "Question: how many seats does victoria have in senate ?\n",
            "Context: politically , victoria has 37 seats in australian house of representatives and 12 seats in australian senate . at state level , parliament of victoria consists of legislative assembly ( lower house ) and legislative council ( upper house ) . victoria is currently governed by labor party , with daniel andrews current premier . personal representative of queen of australia in state is governor of victoria , currently linda dessau . local government is concentrated in 79 municipal districts , including 33 cities , although a number of unincorporated areas still exist , which are administered directly by state .\n",
            "Predicted Answer: dessau\n",
            "True Answer: 12\n",
            "--------------------------------------------------\n",
            "Question: how old was temur when he became emperor ?\n",
            "Context: after death of tugh temür in 1332 and subsequent death of ( emperor ) same year , 13-year-old temür ( emperor huizong ) , last of nine successors of kublai khan , was summoned back from guangxi and succeeded to throne . after el temür ' s death , bayan became as powerful an official as el temür had been in beginning of his long reign . as temür grew , he came to disapprove of bayan ' s autocratic rule . in 1340 he allied himself with bayan ' s nephew ' a , who was in discord with bayan , and banished bayan by coup . with dismissal of bayan , seized power of court . his first administration clearly exhibited fresh new spirit . he also gave a few early signs of a new and positive direction in central government . one of his successful projects was to finish official histories of liao , jin , and song dynasties , which were eventually completed in 1345 . yet , resigned his office with approval of temür , marking end of his first administration , and he was not called back until 1349 .\n",
            "Predicted Answer: kublai\n",
            "True Answer: 13\n",
            "--------------------------------------------------\n",
            "Question: what is weight of a bushel of coal in pounds ?\n",
            "Context: historical measure of a steam engine ' s energy efficiency was its duty . concept of duty was first introduced by watt in order to illustrate how much more efficient his engines were over earlier newcomen designs . duty is number of of work delivered by burning one bushel ( 94 pounds ) of coal . best examples of newcomen designs had a duty of about 7 million , but most were closer to 5 million . watt ' s original low-pressure designs were able to deliver duty as high as 25 million , but averaged about 17 . this was a three-fold improvement over average newcomen design . early watt engines equipped with high-pressure steam improved this to 65 million .\n",
            "Predicted Answer: newcomen\n",
            "True Answer: 94\n",
            "--------------------------------------------------\n",
            "Question: how many are there in united states ?\n",
            "Context: and 10-county definitions are not used for greater southern california , one of 11 of united states . ' s area is more expansive , extending east into las vegas , nevada , and south across mexican border into tijuana .\n",
            "Predicted Answer: tijuana\n",
            "True Answer: 11\n",
            "--------------------------------------------------\n",
            "Question: can bskyb veto presence of channels on their epg ?\n",
            "Context: bskyb has no veto over presence of channels on their epg , with open access being an enforced part of their operating licence from ofcom . any channel which can get carriage on a suitable beam of a satellite at east is entitled to access to bskyb ' s epg for a fee , ranging from , 000 . third-party channels which opt for encryption receive discounts ranging from reduced price to free epg entries , free carriage on a bskyb leased transponder , or actual payment for being carried . however , even in this case , bskyb does not carry any control over channel ' s content or carriage issues such as picture quality .\n",
            "Predicted Answer: ofcom\n",
            "True Answer: no\n",
            "--------------------------------------------------\n",
            "Question: how many rooms does warsaw historical museum have ?\n",
            "Context: a fine tribute to fall of warsaw and history of poland can be found in warsaw uprising museum and in katyń museum which preserves memory of crime . warsaw uprising museum also operates a rare preserved and operating historic stereoscopic theatre , warsaw . museum of independence preserves patriotic and political objects connected with poland ' s struggles for independence . dating back to 1936 warsaw historical museum contains 60 rooms which host a permanent exhibition of history of warsaw from its origins until today .\n",
            "Predicted Answer: katyń\n",
            "True Answer: 60\n",
            "--------------------------------------------------\n",
            "Question: how much capital did uk law require to start a company ?\n",
            "Context: in regard to companies , court of justice held in r ( daily mail and general trust plc ) v hm treasury that member states could restrict a company moving its seat of business , without infringing tfeu article 49 . this meant daily mail newspaper ' s parent company could not evade tax by shifting its residence to netherlands without first settling its tax bills in uk . uk did not need to justify its action , as rules on company seats were not yet harmonised . by contrast , in centros ltd v court of justice found that a uk limited company operating in denmark could not be required to comply with denmark ' s minimum share capital rules . uk law only required of capital to start a company , while denmark ' s legislature took view companies should only be started up if they had 200 , 000 danish krone ( around , 000 ) to protect creditors if company failed and went insolvent . court of justice held that denmark ' s minimum capital law infringed centros ltd ' s freedom of establishment and could not be justified , because a company in uk could admittedly provide services in denmark without being established there , and there were less restrictive means of achieving aim of creditor protection . this approach was criticised as potentially opening eu to\n",
            "Predicted Answer: centros\n",
            "True Answer: \n",
            "--------------------------------------------------\n",
            "Question: how many have occurred in past 6000 yeas ?\n",
            "Context: since yr bp ( = years before present ) , human impact is seen in delta . as a result of increasing land clearance ( bronze age agriculture ) , in upland areas ( central germany ) , sediment load of rhine has strongly increased and delta growth has sped up . this caused increased flooding and sedimentation , ending peat formation in delta . shifting of river channels to new locations , on floodplain ( termed avulsion ) , was main process distributing sediment across delta . over past 6000 years , approximately 80 have occurred . direct human impact in delta started with peat mining , for salt and fuel , from roman times onward . this was followed by embankment , of major distributaries and damming of minor distributaries , which took place in century ad . thereafter , canals were dug , bends were short cut and groynes were built , to prevent river ' s channels from migrating or silting up .\n",
            "Predicted Answer: groynes\n",
            "True Answer: 80\n",
            "--------------------------------------------------\n",
            "Question: what is high end of temperature range in winter ?\n",
            "Context: southern california contains a mediterranean climate , with infrequent rain and many sunny days . summers are hot and dry , while winters are a bit warm or mild and wet . serious rain can occur unusually . in summers , temperature ranges are ' s while as winters are ' s , usually all of southern california have mediterranean climate . but snow is very rare in southwest of state , it occurs on southeast of state .\n",
            "Predicted Answer: mediterranean\n",
            "True Answer: 70\n",
            "--------------------------------------------------\n",
            "Question: what was average duty of a low-pressure watt engine ?\n",
            "Context: historical measure of a steam engine ' s energy efficiency was its duty . concept of duty was first introduced by watt in order to illustrate how much more efficient his engines were over earlier newcomen designs . duty is number of of work delivered by burning one bushel ( 94 pounds ) of coal . best examples of newcomen designs had a duty of about 7 million , but most were closer to 5 million . watt ' s original low-pressure designs were able to deliver duty as high as 25 million , but averaged about 17 . this was a three-fold improvement over average newcomen design . early watt engines equipped with high-pressure steam improved this to 65 million .\n",
            "Predicted Answer: newcomen\n",
            "True Answer: 17\n",
            "--------------------------------------------------\n",
            "Question: how many city officials were indicted due to corruption ?\n",
            "Context: in mid-1960s , corruption scandals began to arise among many of city ' s officials , who were mainly elected through traditional old boy network . after a grand jury was convened to investigate , 11 officials were indicted and more were forced to resign . jacksonville consolidation , led by j . j . daniel and claude yates , began to win more support during this period , from both inner city blacks , who wanted more involvement in government , and whites in suburbs , who wanted more services and more control over central city . in 1964 all 15 of duval county ' s public high schools lost their accreditation . this added momentum to proposals for government reform . lower taxes , increased economic development , unification of community , better public spending and effective administration by a more central authority were all cited as reasons for a new consolidated government .\n",
            "Predicted Answer: \n",
            "True Answer: 11\n",
            "--------------------------------------------------\n",
            "Question: how many medieval warm period reconstructions were used ?\n",
            "Context: ipcc fourth assessment report ( ar4 ) published in 2007 featured a graph showing 12 proxy based temperature reconstructions , including three highlighted in 2001 third assessment report ( tar ) mann , bradley & hughes 1999 as before , jones et al . 1998 and briffa 2000 had both been calibrated by newer studies . in addition , analysis of medieval warm period cited reconstructions by crowley & lowery 2000 ( as cited in tar ) and osborn & briffa 2006 . ten of these 14 reconstructions covered 1 , 000 years or longer . most reconstructions shared some data series , particularly tree ring data , but newer reconstructions used additional data and covered a wider area , using a variety of statistical methods . section discussed divergence problem affecting certain tree ring data .\n",
            "Predicted Answer: osborn\n",
            "True Answer: 14\n",
            "--------------------------------------------------\n",
            "Question: what type of electric current is needed for electrolysis ?\n",
            "Context: oxygen gas can also be produced through electrolysis of water into molecular oxygen and hydrogen . dc electricity must be used if ac is used , gases in each limb consist of hydrogen and oxygen in explosive ratio 2 1 . contrary to popular belief , 2 1 ratio observed in dc electrolysis of acidified water does not prove that empirical formula of water is h2o unless certain assumptions are made about molecular formulae of hydrogen and oxygen themselves . a similar method is o 2 evolution from oxides and . chemical catalysts can be used as well , such as in chemical oxygen generators or oxygen candles that are used as part of life-support equipment on submarines , and are still part of standard equipment on commercial airliners in case of depressurization emergencies . another air separation technology involves forcing air to dissolve through ceramic membranes based on zirconium dioxide by either high pressure or an electric current , to produce nearly pure o 2 gas .\n",
            "Predicted Answer: life-support\n",
            "True Answer: dc\n",
            "--------------------------------------------------\n",
            "Question: what percentage of france ' s population is protestant today ?\n",
            "Context: approximately one million protestants in modern france represent some of its population . most are concentrated in alsace in northeast france and cévennes mountain region in south , who still regard themselves as huguenots to this day . a diaspora of french australians still considers itself huguenot , even after centuries of exile . long integrated into australian society , it is encouraged by huguenot society of australia to embrace and conserve its cultural heritage , aided by society ' s genealogical research services .\n",
            "Predicted Answer: cévennes\n",
            "True Answer: \n",
            "--------------------------------------------------\n",
            "Question: how many campuses does california state university have ?\n",
            "Context: tech coast is a moniker that has gained use as a descriptor for region ' s diversified technology and industrial base as well as its multitude of prestigious and world-renowned research universities and other public and private institutions . amongst these include 5 university of california campuses ( irvine , los angeles , riverside , santa barbara , and san diego ) 12 california state university campuses ( bakersfield , channel islands , dominguez hills , fullerton , los angeles , long beach , northridge , pomona , san bernardino , san diego , san marcos , and san luis obispo ) and private institutions such as california institute of technology , chapman university , claremont colleges ( claremont mckenna college , harvey mudd college , pitzer college , pomona college , and scripps college ) , loma linda university , loyola marymount university , occidental college , pepperdine university , university of redlands , university of san diego , and university of southern california .\n",
            "Predicted Answer: world-renowned\n",
            "True Answer: 12\n",
            "--------------------------------------------------\n",
            "Question: how many general principles does social charter declare ?\n",
            "Context: social chapter is a chapter of 1997 treaty of amsterdam covering social policy issues in european union law . basis for social chapter was developed in 1989 by social partners representatives , namely unice , employers ' confederation , european trade union confederation ( etuc ) and , european centre of public enterprises . a toned down version was adopted as social charter at 1989 strasbourg european council . social charter declares 30 general principles , including on fair remuneration of employment , health and safety at work , rights of disabled and elderly , rights of workers , on vocational training and improvements of living conditions . social charter became basis for european community legislation on these issues in 40 pieces of legislation .\n",
            "Predicted Answer: unice\n",
            "True Answer: 30\n",
            "--------------------------------------------------\n",
            "Question: how many academic majors does university grant in total ?\n",
            "Context: college of university of chicago grants bachelor of arts and bachelor of science degrees in 50 academic majors and 28 minors . college ' s academics are divided into five divisions biological sciences collegiate division , physical sciences collegiate division , social sciences collegiate division , humanities collegiate division , and new collegiate division . first four are sections within their corresponding graduate divisions , while new collegiate division administers interdisciplinary majors and studies which do not fit in one of other four divisions .\n",
            "Predicted Answer: corresponding\n",
            "True Answer: 50\n",
            "--------------------------------------------------\n",
            "Question: how many academic minors does university grant in total ?\n",
            "Context: college of university of chicago grants bachelor of arts and bachelor of science degrees in 50 academic majors and 28 minors . college ' s academics are divided into five divisions biological sciences collegiate division , physical sciences collegiate division , social sciences collegiate division , humanities collegiate division , and new collegiate division . first four are sections within their corresponding graduate divisions , while new collegiate division administers interdisciplinary majors and studies which do not fit in one of other four divisions .\n",
            "Predicted Answer: corresponding\n",
            "True Answer: 28\n",
            "--------------------------------------------------\n",
            "Question: how many people belong to university ' s board of trustees ?\n",
            "Context: university of chicago is governed by a board of trustees . board of trustees oversees long-term development and plans of university and manages fundraising efforts , and is composed of 50 members including university president . directly beneath president are provost , fourteen vice presidents ( including chief financial officer , chief investment officer , and dean of students of university ) , directors of argonne national laboratory and fermilab , secretary of university , and student ombudsperson . as of august , chairman of board of trustees is andrew alper , and president of university is robert zimmer . in december 2013 it was announced that director of argonne national laboratory , eric isaacs , would become provost . isaacs was replaced as provost in march 2016 by daniel .\n",
            "Predicted Answer: isaacs\n",
            "True Answer: 50\n",
            "--------------------------------------------------\n",
            "Question: does new deal include video on demand and high definition ?\n",
            "Context: agreements include fixed annual carriage fees of for channels with both channel suppliers able to secure additional capped payments if their channels meet certain performance-related targets . currently there is no indication as to whether new deal includes additional video on demand and high definition content which had previously been offered by bskyb . as part of agreements , both bskyb and virgin media agreed to terminate all high court proceedings against each other relating to carriage of their respective basic channels .\n",
            "Predicted Answer: carriage\n",
            "True Answer: no\n",
            "--------------------------------------------------\n",
            "Question: how many private schools existed in new zealand in april 2014 ?\n",
            "Context: as of april 2014 , there are 88 private schools in new zealand , catering for around 28 , 000 students or 3 . of entire student population . private school numbers have been in decline since mid-1970s as a result of many private schools opting to become schools , mostly due of financial difficulties stemming from changes in student numbers and/or economy . schools keep their private school special character and receives state funds in return for having to operate like a state school , e . g . they must teach state curriculum , they must employ registered teachers , and they can ' t charge tuition fees ( they can charge attendance dues for upkeep on school land and buildings ) . largest decline in private school numbers occurred between 1979 and 1984 , when nation ' s catholic school system integrated . as a result , private schools in new zealand are now largely restricted to largest cities ( auckland , hamilton , wellington and christchurch ) and niche markets .\n",
            "Predicted Answer: and/or\n",
            "True Answer: 88\n",
            "--------------------------------------------------\n",
            "Question: how many research institutes does university run on campus ?\n",
            "Context: university operates 12 research institutes and 113 research centers on campus . among these are oriental museum and research center for near eastern studies owned and operated by a number of national resource centers , including center for middle eastern studies . chicago also operates or is affiliated with a number of research institutions apart from university proper . university partially manages argonne national laboratory , part of united states department of energy ' s national laboratory system , and has a joint stake in fermilab , a nearby particle physics laboratory , as well as a stake in apache point observatory in sunspot , new mexico . faculty and students at adjacent toyota technological institute at chicago collaborate with university , in 2013 , university announced that it was affiliating formerly independent marine biological laboratory in woods hole , mass . although formally unrelated , national opinion research center is located on chicago ' s campus .\n",
            "Predicted Answer: fermilab\n",
            "True Answer: 12\n",
            "--------------------------------------------------\n",
            "Question: how many drugs approved by fda in 2013 were specialty drugs ?\n",
            "Context: specialty pharmacies supply high cost injectable , oral , infused , or inhaled medications that are used for chronic and complex disease states such as cancer , hepatitis , and rheumatoid arthritis . unlike a traditional community pharmacy where prescriptions for any common medication can be brought in and filled , specialty pharmacies carry novel medications that need to be properly stored , administered , carefully monitored , and clinically managed . in addition to supplying these drugs , specialty pharmacies also provide lab monitoring , adherence counseling , and assist patients with strategies needed to obtain their expensive specialty drugs . it is currently fastest growing sector of pharmaceutical industry with 19 of 28 newly fda approved medications in 2013 being specialty drugs .\n",
            "Predicted Answer: rheumatoid\n",
            "True Answer: 19\n",
            "--------------------------------------------------\n",
            "Question: what percentage of private school students go to catholic schools ?\n",
            "Context: as of august 2010 , victoria had 1 , 548 public schools , 489 catholic schools and 214 independent schools . just under 540 , 800 students were enrolled in public schools , and just over 311 , 800 in private schools . over 61 per cent of private students attend catholic schools . more than 462 , 000 students were enrolled in primary schools and more than 390 , 000 in secondary schools . retention rates for final two years of secondary school were 77 per cent for public school students and 90 per cent for private school students . victoria has about 63 , 519 full-time teachers .\n",
            "Predicted Answer: 311\n",
            "True Answer: 61\n",
            "--------------------------------------------------\n",
            "Question: how many scalar equations were formed into a set by james maxwell ?\n",
            "Context: origin of electric and magnetic fields would not be fully explained until 1864 when james clerk maxwell unified a number of earlier theories into a set of 20 scalar equations , which were later reformulated into 4 vector equations by oliver heaviside and josiah willard gibbs . these maxwell equations fully described sources of fields as being stationary and moving charges , and interactions of fields themselves . this led maxwell to discover that electric and magnetic fields could be through a wave that traveled at a speed that he calculated to be speed of light . this insight united nascent fields of electromagnetic theory with optics and led directly to a complete description of electromagnetic spectrum .\n",
            "Predicted Answer: scalar\n",
            "True Answer: 20\n",
            "--------------------------------------------------\n",
            "Question: how many floors are there in building that was completed in 1967 ?\n",
            "Context: tallest building in downtown jacksonville ' s skyline is bank of america tower , constructed in 1990 as barnett center . it has a height of 617 ft ( 188 m ) and includes 42 floors . other notable structures include 37-story wells fargo center ( with its distinctive flared base making it defining building in jacksonville skyline ) , originally built in 1972-74 by independent life and accident insurance company , and 28 floor tower which , when completed in 1967 , was tallest precast , post-tensioned concrete structure in world .\n",
            "Predicted Answer: precast\n",
            "True Answer: 28\n",
            "--------------------------------------------------\n",
            "Question: what percentage of electricity was made by steam turbine in 1990s ?\n",
            "Context: main use for steam turbines is in electricity generation ( in 1990s about of world ' s electric production was by use of steam turbines ) however recent widespread application of large gas turbine units and typical combined cycle power plants has resulted in reduction of this percentage to regime for steam turbines . in electricity production , high speed of turbine rotation matches well with speed of modern electric generators , which are typically direct connected to their driving turbines . in marine service , ( pioneered on ) , steam turbines with reduction gearing ( although has direct turbines to propellers with no reduction gearbox ) dominated large ship propulsion throughout late 20th century , being more efficient ( and requiring far less maintenance ) than reciprocating steam engines . in recent decades , reciprocating diesel engines , and gas turbines , have almost entirely supplanted steam propulsion for marine applications .\n",
            "Predicted Answer: entirely\n",
            "True Answer: 90\n",
            "--------------------------------------------------\n",
            "Question: how many degrees south did amazon rainforest reach from 66-34 mya ?\n",
            "Context: following extinction event , extinction of dinosaurs and wetter climate may have allowed tropical rainforest to spread out across continent . from mya , rainforest extended as far south as . climate fluctuations during last 34 million years have allowed savanna regions to expand into tropics . during oligocene , for example , rainforest spanned a relatively narrow band . it expanded again during middle miocene , then retracted to a mostly inland formation at last glacial maximum . however , rainforest still managed to thrive during these glacial periods , allowing for survival and evolution of a broad diversity of species .\n",
            "Predicted Answer: oligocene\n",
            "True Answer: 45\n",
            "--------------------------------------------------\n",
            "Question: how many provinces did ottoman empire contain in 17th century ?\n",
            "Context: ottoman empire was an imperial state that lasted from 1299 to 1923 . during 16th and 17th centuries , in particular at height of its power under reign of suleiman magnificent , ottoman empire was a powerful multinational , multilingual empire controlling much of southeast europe , western asia , caucasus , north africa , and horn of africa . at beginning of 17th century empire contained 32 provinces and numerous vassal states . some of these were later absorbed into empire , while others were granted various types of autonomy during course of centuries .\n",
            "Predicted Answer: vassal\n",
            "True Answer: 32\n",
            "--------------------------------------------------\n",
            "Question: how many intercollegiate sports does harvard compete in ncaa division i\n",
            "Context: harvard crimson competes in 42 intercollegiate sports in ncaa division i ivy league . harvard has an intense athletic rivalry with yale university culminating in game , although regatta predates football game . this rivalry , though , is put aside every two years when harvard and yale track and field teams come together to compete against a combined oxford university and cambridge university team , a competition that is oldest continuous international amateur competition in world .\n",
            "Predicted Answer: \n",
            "True Answer: 42\n",
            "--------------------------------------------------\n",
            "Question: at a-level , what percentage of british students attend fee-paying schools ?\n",
            "Context: private schools generally prefer to be called independent schools , because of their freedom to operate outside of government and local government control . some of these are also known as public schools . preparatory schools in uk prepare pupils aged up to 13 years old to enter public schools . name public school is based on fact that schools were open to pupils from anywhere , and not merely to those from a certain locality , and of any religion or occupation . according to good schools guide approximately 9 per cent of children being educated in uk are doing so at fee-paying schools at level and 13 per cent at a-level . many independent schools are single-sex ( though this is becoming less common ) . fees range from under , 000 to , 000 and above per year for day pupils , rising to , per year for boarders . for details in scotland , see meeting cost .\n",
            "Predicted Answer: single-sex\n",
            "True Answer: 13\n",
            "--------------------------------------------------\n",
            "Question: how many miles south of san jose is north - south midway point located ?\n",
            "Context: southern california is not a formal geographic designation , and definitions of what constitutes southern california vary . geographically , california ' s north-south midway point lies at exactly 9 ' 58 . 23 latitude , around 11 miles ( 18 km ) south of san jose however , this does not coincide with popular use of term . when state is divided into two areas ( northern and southern california ) , term southern california usually refers to ten southern-most counties of state . this definition coincides neatly with county lines at north latitude , which form northern borders of san luis obispo , kern , and san bernardino counties . another definition for southern california uses point conception and tehachapi mountains as northern boundary .\n",
            "Predicted Answer: neatly\n",
            "True Answer: 11\n",
            "--------------------------------------------------\n",
            "Question: how many pieces of legislation has social charter become basis for ?\n",
            "Context: social chapter is a chapter of 1997 treaty of amsterdam covering social policy issues in european union law . basis for social chapter was developed in 1989 by social partners representatives , namely unice , employers ' confederation , european trade union confederation ( etuc ) and , european centre of public enterprises . a toned down version was adopted as social charter at 1989 strasbourg european council . social charter declares 30 general principles , including on fair remuneration of employment , health and safety at work , rights of disabled and elderly , rights of workers , on vocational training and improvements of living conditions . social charter became basis for european community legislation on these issues in 40 pieces of legislation .\n",
            "Predicted Answer: unice\n",
            "True Answer: 40\n",
            "--------------------------------------------------\n",
            "Question: which state route has been in discussion to upgrade to interstate standards ?\n",
            "Context: fresno is largest u . s . city not directly linked to an interstate highway . when interstate highway system was created in 1950s , decision was made to build what is now interstate 5 on west side of central valley , and thus bypass many of population centers in region , instead of upgrading what is now state route 99 . due to rapidly raising population and traffic in cities along sr 99 , as well as desirability of federal funding , much discussion has been made to upgrade it to interstate standards and eventually incorporate it into interstate system , most likely as interstate 9 . major improvements to signage , lane width , median separation , vertical clearance , and other concerns are currently underway .\n",
            "Predicted Answer: desirability\n",
            "True Answer: 99\n",
            "--------------------------------------------------\n",
            "Question: up to what age do students in united kingdom attend preparatory schools ?\n",
            "Context: private schools generally prefer to be called independent schools , because of their freedom to operate outside of government and local government control . some of these are also known as public schools . preparatory schools in uk prepare pupils aged up to 13 years old to enter public schools . name public school is based on fact that schools were open to pupils from anywhere , and not merely to those from a certain locality , and of any religion or occupation . according to good schools guide approximately 9 per cent of children being educated in uk are doing so at fee-paying schools at level and 13 per cent at a-level . many independent schools are single-sex ( though this is becoming less common ) . fees range from under , 000 to , 000 and above per year for day pupils , rising to , per year for boarders . for details in scotland , see meeting cost .\n",
            "Predicted Answer: single-sex\n",
            "True Answer: 13\n",
            "--------------------------------------------------\n",
            "Question: how many seats does victoria have in australian house of representatives ?\n",
            "Context: politically , victoria has 37 seats in australian house of representatives and 12 seats in australian senate . at state level , parliament of victoria consists of legislative assembly ( lower house ) and legislative council ( upper house ) . victoria is currently governed by labor party , with daniel andrews current premier . personal representative of queen of australia in state is governor of victoria , currently linda dessau . local government is concentrated in 79 municipal districts , including 33 cities , although a number of unincorporated areas still exist , which are administered directly by state .\n",
            "Predicted Answer: dessau\n",
            "True Answer: 37\n",
            "--------------------------------------------------\n",
            "Question: what was percentage of people that voted in favor of pico act of 1859 ?\n",
            "Context: subsequently , californios ( dissatisfied with inequitable taxes and land laws ) and pro-slavery southerners in lightly populated cow counties of southern california attempted three times in 1850s to achieve a separate statehood or territorial status separate from northern california . last attempt , pico act of 1859 , was passed by california state legislature and signed by state governor john b . weller . it was approved overwhelmingly by nearly of voters in proposed territory of colorado . this territory was to include all counties up to then much larger tulare county ( that included what is now kings , most of kern , and part of inyo counties ) and san luis obispo county . proposal was sent to washington , d . c . with a strong advocate in senator milton latham . however , secession crisis following election of abraham lincoln in 1860 led to proposal never coming to a vote .\n",
            "Predicted Answer: californios\n",
            "True Answer: 75\n",
            "--------------------------------------------------\n",
            "Question: what percentage of filipino tertiary education takes place in private schools ?\n",
            "Context: in philippines , private sector has been a major provider of educational services , accounting for about 7 . of primary enrollment , of secondary enrollment and about of tertiary enrollment . private schools have proven to be efficient in resource utilization . per unit costs in private schools are generally lower when compared to public schools . this situation is more evident at tertiary level . government regulations have given private education more flexibility and autonomy in recent years , notably by lifting moratorium on applications for new courses , new schools and conversions , by liberalizing tuition fee policy for private schools , by replacing values education for third and fourth years with english , mathematics and natural science at option of school , and by issuing revised manual of regulations for private schools in august 1992 .\n",
            "Predicted Answer: resource\n",
            "True Answer: 80\n",
            "--------------------------------------------------\n",
            "Question: as of 2008 , about what percentage of swedish students attended private schools ?\n",
            "Context: in sweden , pupils are free to choose a private school and private school gets paid same amount as municipal schools . over of swedish pupils were enrolled in private schools in 2008 . sweden is internationally known for this innovative school voucher model that provides swedish pupils with opportunity to choose school they prefer . for instance , biggest school chain , ( knowledge ) , offers 30 schools and a web-based environment , has 700 employees and teaches nearly 10 , 000 pupils . swedish system has been recommended to barack obama .\n",
            "Predicted Answer: \n",
            "True Answer: 10\n",
            "--------------------------------------------------\n",
            "Question: what is expression used to represent a complexity class of counting problems ?\n",
            "Context: other important complexity classes include bpp , zpp and rp , which are defined using probabilistic turing machines ac and nc , which are defined using boolean circuits and and qma , which are defined using quantum turing machines . #p is an important complexity class of counting problems ( not decision problems ) . classes like ip and am are defined using interactive proof systems . all is class of all decision problems .\n",
            "Predicted Answer: #p\n",
            "True Answer: #p\n",
            "--------------------------------------------------\n",
            "Question: at what degree are pistons of a two-cylinder compound connected to cranks ?\n",
            "Context: with two-cylinder compounds used in railway work , pistons are connected to cranks as with a two-cylinder simple at out of phase with each other ( quartered ) . when double expansion group is duplicated , producing a 4-cylinder compound , individual pistons within group are usually balanced at , groups being set at to each other . in one case ( first type of compound ) , pistons worked in same phase driving a common crosshead and crank , again set at as for a two-cylinder engine . with 3-cylinder compound arrangement , lp cranks were either set at with hp one at to other two , or in some cases all three cranks were set at .\n",
            "Predicted Answer: duplicated\n",
            "True Answer: 90\n",
            "--------------------------------------------------\n",
            "Question: what percentage of electrical power in united states is made by steam turbines ?\n",
            "Context: final major evolution of steam engine design was use of steam turbines starting in late part of 19th century . steam turbines are generally more efficient than reciprocating piston type steam engines ( for outputs above several hundred horsepower ) , have fewer moving parts , and provide rotary power directly instead of through a connecting rod system or similar means . steam turbines virtually replaced reciprocating engines in electricity generating stations early in 20th century , where their efficiency , higher speed appropriate to generator service , and smooth rotation were advantages . today most electric power is provided by steam turbines . in united states of electric power is produced in this way using a variety of heat sources . steam turbines were extensively applied for propulsion of large ships throughout most of 20th century .\n",
            "Predicted Answer: \n",
            "True Answer: 90\n",
            "--------------------------------------------------\n",
            "Question: how many developed countries did british researchers use to gather statistics from ?\n",
            "Context: british researchers richard g . wilkinson and kate pickett have found higher rates of health and social problems ( obesity , mental illness , homicides , teenage births , incarceration , child conflict , drug use ) , and lower rates of social goods ( life expectancy by country , educational performance , trust among strangers , women ' s status , social mobility , even numbers of patents issued ) in countries and states with higher inequality . using statistics from 23 developed countries and 50 states of us , they found problems lower in countries like japan and finland and states like utah and new hampshire with high levels of equality , than in countries ( us and uk ) and states ( mississippi and new york ) with large differences in household income .\n",
            "Predicted Answer: teenage\n",
            "True Answer: 23\n",
            "--------------------------------------------------\n",
            "Question: during 2012-2013 , how many student were able to take core classes at a single time ?\n",
            "Context: undergraduate students are required to take a distribution of courses to satisfy university ' s core curriculum known as common core . in 2012-2013 , core classes at chicago were limited to 17 students , and are generally led by a full-time professor ( as opposed to a teaching assistant ) . as of school year , 15 courses and demonstrated proficiency in a foreign language are required under core . undergraduate courses at university of chicago are known for their demanding standards , heavy workload and academic difficulty according to uni in usa , among academic cream of american universities – harvard , yale , princeton , mit , and university of chicago – it is that can most convincingly claim to provide most rigorous , intense learning experience .\n",
            "Predicted Answer: mit\n",
            "True Answer: 17\n",
            "--------------------------------------------------\n",
            "Question: in philippines , what percentage of secondary school students attend private schools ?\n",
            "Context: in philippines , private sector has been a major provider of educational services , accounting for about 7 . of primary enrollment , of secondary enrollment and about of tertiary enrollment . private schools have proven to be efficient in resource utilization . per unit costs in private schools are generally lower when compared to public schools . this situation is more evident at tertiary level . government regulations have given private education more flexibility and autonomy in recent years , notably by lifting moratorium on applications for new courses , new schools and conversions , by liberalizing tuition fee policy for private schools , by replacing values education for third and fourth years with english , mathematics and natural science at option of school , and by issuing revised manual of regulations for private schools in august 1992 .\n",
            "Predicted Answer: resource\n",
            "True Answer: 32\n",
            "--------------------------------------------------\n",
            "Question: as a result of a compromise , about how many chinese schools became national type schools ?\n",
            "Context: after malaysia ' s independence in 1957 , government instructed all schools to surrender their properties and be assimilated into national school system . this caused an uproar among chinese and a compromise was achieved in that schools would instead become national type schools . under such a system , government is only in charge of school curriculum and teaching personnel while lands still belonged to schools . while chinese primary schools were allowed to retain chinese as medium of instruction , chinese secondary schools are required to change into english-medium schools . over 60 schools converted to become national type schools .\n",
            "Predicted Answer: type\n",
            "True Answer: 60\n",
            "--------------------------------------------------\n",
            "Question: np complete problems contain lowest likelihood of being located in what problem class ?\n",
            "Context: if a problem x is in c and hard for c , then x is said to be complete for c . this means that x is hardest problem in c . ( since many problems could be equally hard , one might say that x is one of hardest problems in c . ) thus class of np-complete problems contains most difficult problems in np , in sense that they are ones most likely not to be in p . because problem p = np is not solved , being able to reduce a known np-complete problem , π2 , to another problem , π1 , would indicate that there is no known polynomial-time solution for π1 . this is because a polynomial-time solution to π1 would yield a polynomial-time solution to π2 . similarly , because all np problems can be reduced to set , finding an np-complete problem that can be solved in polynomial time would mean that p = np .\n",
            "Predicted Answer: np-complete\n",
            "True Answer: np\n",
            "--------------------------------------------------\n",
            "Question: what complexity class is commonly characterized by unknown algorithms to enhance solvability ?\n",
            "Context: complexity class p is often seen as a mathematical abstraction modeling those computational tasks that admit an efficient algorithm . this hypothesis is called thesis . complexity class np , on other hand , contains many problems that people would like to solve efficiently , but for which no efficient algorithm is known , such as boolean satisfiability problem , hamiltonian path problem and vertex cover problem . since deterministic turing machines are special non-deterministic turing machines , it is easily observed that each problem in p is also member of class np .\n",
            "Predicted Answer: turing\n",
            "True Answer: np\n",
            "--------------------------------------------------\n",
            "Question: how many days does parliament have to nominate a first minister after a general election ?\n",
            "Context: under scotland act 1998 , ordinary general elections for scottish parliament are held on first thursday in may every four years ( 1999 , 2003 , 2007 and so on ) . date of poll may be varied by up to one month either way by monarch on proposal of presiding officer . if parliament itself resolves that it should be dissolved ( with at least two-thirds of members voting in favour ) , or if parliament fails to nominate one of its members to be first minister within 28 days of a general election or of position becoming vacant , presiding officer proposes a date for an extraordinary general election and parliament is dissolved by queen by royal proclamation . extraordinary general elections are in addition to ordinary general elections , unless held less than six months before due date of an ordinary general election , in which case they supplant it . following ordinary election reverts to first thursday in may , a multiple of four years after 1999 ( i . e . , 5 may 2011 , 7 may 2015 , etc . ) .\n",
            "Predicted Answer: proclamation\n",
            "True Answer: 28\n",
            "--------------------------------------------------\n",
            "Question: at what angle were groups of pistons set in relation to one another in a 4-cylinder compound ?\n",
            "Context: with two-cylinder compounds used in railway work , pistons are connected to cranks as with a two-cylinder simple at out of phase with each other ( quartered ) . when double expansion group is duplicated , producing a 4-cylinder compound , individual pistons within group are usually balanced at , groups being set at to each other . in one case ( first type of compound ) , pistons worked in same phase driving a common crosshead and crank , again set at as for a two-cylinder engine . with 3-cylinder compound arrangement , lp cranks were either set at with hp one at to other two , or in some cases all three cranks were set at .\n",
            "Predicted Answer: duplicated\n",
            "True Answer: 90\n",
            "--------------------------------------------------\n",
            "Question: if polynomial time can be utilized within an np-complete problem , what does imply p is equal to\n",
            "Context: if a problem x is in c and hard for c , then x is said to be complete for c . this means that x is hardest problem in c . ( since many problems could be equally hard , one might say that x is one of hardest problems in c . ) thus class of np-complete problems contains most difficult problems in np , in sense that they are ones most likely not to be in p . because problem p = np is not solved , being able to reduce a known np-complete problem , π2 , to another problem , π1 , would indicate that there is no known polynomial-time solution for π1 . this is because a polynomial-time solution to π1 would yield a polynomial-time solution to π2 . similarly , because all np problems can be reduced to set , finding an np-complete problem that can be solved in polynomial time would mean that p = np .\n",
            "Predicted Answer: np-complete\n",
            "True Answer: np\n",
            "--------------------------------------------------\n",
            "Question: what is minimum percent of alcohol content a german law requires all spirits and liqueurs to have ?\n",
            "Context: often rules apply to all goods neutrally , but may have a greater practical effect on imports than domestic products . for such indirect discriminatory ( or indistinctly applicable ) measures court of justice has developed more justifications either those in article 36 , or additional mandatory or overriding requirements such as consumer protection , improving labour standards , protecting environment , press diversity , fairness in commerce , and more categories are not closed . in most famous case ag v für , court of justice found that a german law requiring all spirits and liqueurs ( not just imported ones ) to have a minimum alcohol content of 25 per cent was contrary to tfeu article 34 , because it had a greater negative effect on imports . german liqueurs were over 25 per cent alcohol , but cassis de dijon , which ag wished to import from france , only had 15 to 20 per cent alcohol . court of justice rejected german government ' s arguments that measure proportionately protected public health under tfeu article 36 , because stronger beverages were available and adequate labelling would be enough for consumers to understand what they bought . this rule primarily applies to requirements about a product ' s content or packaging . in walter rau v de smedt court of justice found that a belgian law requiring all margarine to\n",
            "Predicted Answer: content\n",
            "True Answer: 25\n",
            "--------------------------------------------------\n",
            "Question: what is lowest ranking one of counties could have in terms of most populous counties in\n",
            "Context: its counties of los angeles , orange , san diego , san bernardino , and riverside are five most populous in state and all are in top 15 most populous counties in united states .\n",
            "Predicted Answer: \n",
            "True Answer: 15\n",
            "--------------------------------------------------\n",
            "Question: how many combinatory and graph theoretical problems , formerly believed to be plagued by intractability , did karp '\n",
            "Context: in 1967 , manuel blum developed an axiomatic complexity theory based on his axioms and proved an important result , so-called , speed-up theorem . field really began to flourish in 1971 when us researcher stephen cook and , working independently , leonid levin in ussr , proved that there exist practically relevant problems that are np-complete . in 1972 , richard karp took this idea a leap forward with his landmark paper , reducibility among combinatorial problems , in which he showed that 21 diverse combinatorial and graph theoretical problems , each infamous for its computational intractability , are np-complete .\n",
            "Predicted Answer: karp\n",
            "True Answer: 21\n",
            "--------------------------------------------------\n",
            "Question: how many msps are there ?\n",
            "Context: after each election to scottish parliament , at beginning of each parliamentary session , parliament elects one msp to serve as presiding officer , equivalent of speaker ( currently tricia marwick ) , and two msps to serve as deputies ( currently elaine smith and john scott ) . presiding officer and deputies are elected by a secret ballot of 129 msps , which is only secret ballot conducted in scottish parliament . principally , role of presiding officer is to chair chamber proceedings and scottish parliamentary corporate body . when chairing meetings of parliament , presiding officer and his/her deputies must be politically impartial . during debates , presiding officer ( or deputy ) is assisted by parliamentary clerks , who give advice on how to interpret standing orders that govern proceedings of meetings . a vote clerk sits in front of presiding officer and operates electronic voting equipment and chamber clocks .\n",
            "Predicted Answer: msps\n",
            "True Answer: 129\n",
            "--------------------------------------------------\n",
            "Question: who is owned by ?\n",
            "Context: bskyb utilises pay-tv scrambling system owned by nds , a cisco systems company . there are tight controls over use of decoders they are not available as stand-alone dvb cams ( modules ) . bskyb has design authority over all digital satellite receivers capable of receiving their service . receivers , though designed and built by different manufacturers , must conform to same user interface as all others . this extends to personal video recorder ( pvr ) offering ( branded ) .\n",
            "Predicted Answer: nds\n",
            "True Answer: nds\n",
            "--------------------------------------------------\n",
            "Question: what is mineral ?\n",
            "Context: due to its electronegativity , oxygen forms chemical bonds with almost all other elements to give corresponding oxides . surface of most metals , such as aluminium and titanium , are oxidized in presence of air and become coated with a thin film of oxide that metal and slows further corrosion . many oxides of transition metals are non-stoichiometric compounds , with slightly less metal than chemical formula would show . for example , mineral feo ( ) is written as fe 1 xo , where x is usually around 0 . 05 .\n",
            "Predicted Answer: non-stoichiometric\n",
            "True Answer: feo\n",
            "--------------------------------------------------\n",
            "Question: who commissioned tapestry ?\n",
            "Context: by far most famous work of norman art is bayeux tapestry , which is not a tapestry but a work of embroidery . it was commissioned by odo , bishop of bayeux and first earl of kent , employing natives from kent who were learned in nordic traditions imported in previous half century by danish vikings .\n",
            "Predicted Answer: bayeux\n",
            "True Answer: odo\n",
            "--------------------------------------------------\n",
            "Question: symbol for mercuric oxide is ?\n",
            "Context: in meantime , on august 1 , 1774 , an experiment conducted by british clergyman joseph priestley focused sunlight on mercuric oxide ( hgo ) inside a glass tube , which liberated a gas he named air . he noted that candles burned brighter in gas and that a mouse was more active and lived longer while breathing it . after breathing gas himself , he wrote feeling of it to my lungs was not sensibly different from that of common air , but i fancied that my breast felt peculiarly light and easy for some time afterwards . priestley published his findings in 1775 in a paper titled an account of further discoveries in air which was included in second volume of his book titled experiments and observations on different kinds of air . because he published his findings first , priestley is usually given priority in discovery .\n",
            "Predicted Answer: mercuric\n",
            "True Answer: hgo\n",
            "--------------------------------------------------\n",
            "Question: how many victorians are non-religious ?\n",
            "Context: about 61 . of victorians describe themselves as christian . roman catholics form single largest religious group in state with 26 . of victorian population , followed by anglicans and members of uniting church . buddhism is state ' s largest non-christian religion , with 168 , 637 members as of most recent census . victoria is also home of 152 , 775 muslims and 45 , 150 jews . hinduism is fastest growing religion . around of victorians claim no religion . amongst those who declare a religious affiliation , church attendance is low .\n",
            "Predicted Answer: victorians\n",
            "True Answer: \n",
            "--------------------------------------------------\n",
            "Question: how many horsepower was watt ' s engine ?\n",
            "Context: in 1781 james watt patented a steam engine that produced continuous rotary motion . watt ' s engines enabled a wide range of manufacturing machinery to be powered . engines could be sited anywhere that water and coal or wood fuel could be obtained . by 1883 , engines that could provide 10 , 000 hp had become feasible . stationary steam engine was a key component of industrial revolution , allowing factories to locate where water power was unavailable . atmospheric engines of newcomen and watt were large compared to amount of power they produced , but high pressure steam engines were light enough to be applied to vehicles such as traction engines and railway locomotives .\n",
            "Predicted Answer: newcomen\n",
            "True Answer: ten\n",
            "--------------------------------------------------\n",
            "Question: how many major ice ages have occurred ?\n",
            "Context: around 2 . 5 million years ago ( ending 11 , 600 years ago ) was geological period of ice ages . since approximately 600 , 000 years ago , six major ice ages have occurred , in which sea level dropped 120 m ( 390 ft ) and much of continental margins became exposed . in early pleistocene , rhine followed a course to northwest , through present north sea . during so-called anglian glaciation ( , 000 yr bp , marine oxygen isotope stage 12 ) , northern part of present north sea was blocked by ice and a large lake developed , that overflowed through english channel . this caused rhine ' s course to be diverted through english channel . since then , during glacial times , river mouth was located offshore of brest , france and rivers , like thames and seine , became tributaries to rhine . during interglacials , when sea level rose to approximately present level , rhine built deltas , in what is now netherlands .\n",
            "Predicted Answer: glaciation\n",
            "True Answer: six\n",
            "--------------------------------------------------\n",
            "Question: when was duchy of normandy founded ?\n",
            "Context: in course of 10th century , initially destructive incursions of norse war bands into rivers of france evolved into more permanent encampments that included local women and personal property . duchy of normandy , which began in 911 as a fiefdom , was established by treaty of between king charles iii of west francia and famed viking ruler rollo , and was situated in former frankish kingdom of neustria . treaty offered rollo and his men french lands between river and atlantic coast in exchange for their protection against further viking incursions . area corresponded to northern part of present-day upper normandy down to river seine , but duchy would eventually extend west beyond seine . territory was roughly equivalent to old province of rouen , and reproduced roman administrative structure of gallia lugdunensis ii ( part of former gallia lugdunensis ) .\n",
            "Predicted Answer: francia\n",
            "True Answer: 911\n",
            "--------------------------------------------------\n",
            "Question: what percentage of farmland grows wheat ?\n",
            "Context: more than 26 , 000 square kilometres ( 10 , 000 sq mi ) of victorian farmland are sown for grain , mostly in state ' s west . more than of this area is sown for wheat , for barley and for oats . a further 6 , 000 square kilometres ( 2 , 300 sq mi ) is sown for hay . in , victorian farmers produced more than 3 million tonnes of wheat and 2 million tonnes of barley . victorian farms produce nearly of australian pears and third of apples . it is also a leader in stone fruit production . main vegetable crops include asparagus , broccoli , carrots , potatoes and tomatoes . last year , 121 , 200 tonnes of pears and 270 , 000 tonnes of tomatoes were produced .\n",
            "Predicted Answer: broccoli\n",
            "True Answer: \n",
            "--------------------------------------------------\n",
            "Question: what are secretions commonly called ?\n",
            "Context: when some species , including chuni , and , are disturbed , they produce secretions ( ink ) that at much same wavelengths as their bodies . juveniles will more brightly in relation to their body size than adults , whose luminescence is diffused over their bodies . detailed statistical investigation has not suggested function of ctenophores ' bioluminescence nor produced any correlation between its exact color and any aspect of animals ' environments , such as depth or whether they live in coastal or mid-ocean waters .\n",
            "Predicted Answer: chuni\n",
            "True Answer: ink\n",
            "--------------------------------------------------\n",
            "Question: how many miles east of berlin is warsaw ?\n",
            "Context: warsaw lies in east-central poland about 300 km ( 190 mi ) from carpathian mountains and about 260 km ( 160 mi ) from baltic sea , 523 km ( 325 mi ) east of berlin , germany . city straddles vistula river . it is located in heartland of masovian plain , and its average elevation is 100 metres ( 330 ft ) above sea level . highest point on left side of city lies at a height of 115 . 7 metres ( 379 . 6 ft ) ( bus depot , district of wola ) , on right side – 122 . 1 metres ( 400 . 6 ft ) ( estate , district of wesoła , by eastern border ) . lowest point lies at a height 75 . 6 metres ( 248 . 0 ft ) ( at right bank of vistula , by eastern border of warsaw ) . there are some hills ( mostly artificial ) located within confines of city – e . g . warsaw uprising hill ( 121 metres ( 397 . 0 ft ) ) , hill ( 138 metres ( 452 . 8 ft ) – highest point of warsaw in general ) .\n",
            "Predicted Answer: wesoła\n",
            "True Answer: 325\n",
            "--------------------------------------------------\n",
            "Question: how many catholic schools were in victoria ?\n",
            "Context: as of august 2010 , victoria had 1 , 548 public schools , 489 catholic schools and 214 independent schools . just under 540 , 800 students were enrolled in public schools , and just over 311 , 800 in private schools . over 61 per cent of private students attend catholic schools . more than 462 , 000 students were enrolled in primary schools and more than 390 , 000 in secondary schools . retention rates for final two years of secondary school were 77 per cent for public school students and 90 per cent for private school students . victoria has about 63 , 519 full-time teachers .\n",
            "Predicted Answer: 311\n",
            "True Answer: 489\n",
            "--------------------------------------------------\n",
            "Question: what does ' s name change into ?\n",
            "Context: other third of water flows through kanaal and redistributes in ijssel and nederrijn . ijssel branch carries one ninth of water flow of rhine north into ijsselmeer ( a former bay ) , while nederrijn carries approximately two of flow west along a route parallel to waal . however , at wijk bij duurstede , nederrijn changes its name and becomes lek . it flows farther west , to rejoin noord river into nieuwe maas and to north sea .\n",
            "Predicted Answer: ijssel\n",
            "True Answer: lek\n",
            "--------------------------------------------------\n",
            "Question: how many seats are in debating chamber ?\n",
            "Context: debating chamber of scottish parliament has seating arranged in a hemicycle , which reflects desire to encourage consensus amongst elected members . there are 131 seats in debating chamber . of total 131 seats , 129 are occupied by parliament ' s elected msps and 2 are seats for scottish law officers – lord advocate and solicitor general for scotland , who are not elected members of parliament but are members of scottish government . as such law officers may attend and speak in plenary meetings of parliament but , as they are not elected msps , cannot vote . members are able to sit anywhere in debating chamber , but typically sit in their party groupings . first minister , scottish cabinet ministers and law officers sit in front row , in middle section of chamber . largest party in parliament sits in middle of semicircle , with opposing parties on either side . presiding officer , parliamentary clerks and officials sit opposite members at front of debating chamber .\n",
            "Predicted Answer: msps\n",
            "True Answer: 131\n",
            "--------------------------------------------------\n",
            "Question: how many teams did los angeles used to have ?\n",
            "Context: from 2005 to 2014 , there were two major league soccer teams in los angeles — la galaxy and chivas usa — that both played at stubhub center and were local rivals . however , chivas were suspended following 2014 mls season , with a second mls team scheduled to return in 2018 .\n",
            "Predicted Answer: stubhub\n",
            "True Answer: two\n",
            "--------------------------------------------------\n",
            "Question: what does nederrijn change it ' s name to ?\n",
            "Context: other third of water flows through kanaal and redistributes in ijssel and nederrijn . ijssel branch carries one ninth of water flow of rhine north into ijsselmeer ( a former bay ) , while nederrijn carries approximately two of flow west along a route parallel to waal . however , at wijk bij duurstede , nederrijn changes its name and becomes lek . it flows farther west , to rejoin noord river into nieuwe maas and to north sea .\n",
            "Predicted Answer: ijssel\n",
            "True Answer: lek\n",
            "--------------------------------------------------\n",
            "Question: how many botanical gardens does warsaw have ?\n",
            "Context: flora of city may be considered very rich in species . species richness is mainly due to location of warsaw within border region of several big floral regions comprising substantial proportions of areas ( natural forests , wetlands along vistula ) as well as arable land , meadows and forests . bielany forest , located within borders of warsaw , is remaining part of masovian primeval forest . bielany forest nature reserve is connected with kampinos forest . it is home to rich fauna and flora . within forest there are three cycling and walking trails . other big forest area is forest by southern city border . warsaw has also two botanic gardens by park ( a unit of university of warsaw ) as well as by park of culture and rest in ( a unit of polish academy of science ) .\n",
            "Predicted Answer: kampinos\n",
            "True Answer: two\n",
            "--------------------------------------------------\n",
            "Question: what is bond order of dioxygen molecules ?\n",
            "Context: in this dioxygen , two oxygen atoms are chemically bonded to each other . bond can be variously described based on level of theory , but is reasonably and simply described as a covalent double bond that results from filling of molecular orbitals formed from atomic orbitals of individual oxygen atoms , filling of which results in a bond order of two . more specifically , double bond is result of sequential , energy , or aufbau , filling of orbitals , and resulting cancellation of contributions from 2s electrons , after sequential filling of low σ and orbitals σ overlap of two atomic 2p orbitals that lie along o-o molecular axis and π overlap of two pairs of atomic 2p orbitals perpendicular to o-o molecular axis , and then cancellation of contributions from remaining two of six 2p electrons after their partial filling of lowest π and orbitals .\n",
            "Predicted Answer: dioxygen\n",
            "True Answer: two\n",
            "--------------------------------------------------\n",
            "Question: how much heavier is oxygen 18 than oxygen 16 ?\n",
            "Context: measure ratio of oxygen-18 and in shells and skeletons of marine organisms to determine what climate was like millions of years ago ( see oxygen isotope ratio cycle ) . seawater molecules that contain lighter isotope , , evaporate at a slightly faster rate than water molecules containing heavier oxygen-18 this disparity increases at lower temperatures . during periods of lower global temperatures , snow and rain from that evaporated water tends to be higher in , and seawater left behind tends to be higher in oxygen-18 . marine organisms then incorporate more oxygen-18 into their skeletons and shells than they would in a warmer climate . also directly measure this ratio in water molecules of ice core samples that are up to several hundreds of thousands of years old .\n",
            "Predicted Answer: molecules\n",
            "True Answer: \n",
            "--------------------------------------------------\n"
          ]
        }
      ],
      "source": [
        "# Compare the predictions with the actual answers\n",
        "for i in range(100):\n",
        "    print(f\"Question: {questions[i]}\")\n",
        "    print(f\"Context: {contexts[i]}\")\n",
        "    print(f\"Predicted Answer: {preds[i]}\")\n",
        "    print(f\"True Answer: {true_labels[i]}\")\n",
        "    print(\"-\" * 50)"
      ]
    },
    {
      "cell_type": "markdown",
      "metadata": {},
      "source": [
        "##### Evaluate predictions on training set"
      ]
    },
    {
      "cell_type": "code",
      "execution_count": 13,
      "metadata": {
        "id": "nkq7ofTKM3J2",
        "outputId": "cbe2b8d5-a8d3-43f0-f096-558728bbca41"
      },
      "outputs": [
        {
          "name": "stderr",
          "output_type": "stream",
          "text": [
            "Predicting: 100%|██████████| 622/622 [00:46<00:00, 13.33it/s]\n"
          ]
        }
      ],
      "source": [
        "train_preds, train_true_labels, train_contexts, train_questions = predict_qa_context_model_boilerplate(model=model, dataloader=train_dataloader, tokenizer=tokenizer, device=device, inputs = [\"context_question\", \"attention_mask_context_question\"])"
      ]
    },
    {
      "cell_type": "code",
      "execution_count": 14,
      "metadata": {
        "id": "xq15_9YiM3J2",
        "outputId": "b6cde1b3-3ab6-4df7-ed91-c49900ad8fce"
      },
      "outputs": [
        {
          "name": "stdout",
          "output_type": "stream",
          "text": [
            "Question: how many public golf courses does guam currently have ?\n",
            "Context: lying in western pacific , guam is a popular destination for japanese tourists . its tourist hub , tumon , features over 20 large hotels , a duty free shoppers galleria , pleasure island district , indoor aquarium , sandcastle las shows and other shopping and entertainment venues . it is a relatively short flight from asia or australia compared to hawaii , with hotels and seven public golf courses accommodating over a million tourists per year . although of tourists are japanese , guam receives a sizable number of tourists from south korea , u . s . , philippines , and taiwan . significant sources of revenue include duty-free designer shopping outlets , and american-style malls micronesia mall , guam premier outlets , agana shopping center , and world ' s largest kmart .\n",
            "Predicted Answer: agana\n",
            "True Answer: seven\n",
            "--------------------------------------------------\n",
            "Question: what president ignored eisenhower ' s recommendations in regard to atomic weapons ?\n",
            "Context: in november 1945 , eisenhower returned to washington to replace marshall as chief of staff of army . his main role was rapid demobilization of millions of soldiers , a slow job that was delayed by lack of shipping . eisenhower was convinced in 1946 that soviet union did not want war and that friendly relations could be maintained he strongly supported new united nations and favored its involvement in control of atomic bombs . however , in formulating policies regarding atomic bomb and relations with soviets , truman was guided by u . s . state department and ignored eisenhower and pentagon . indeed , eisenhower had opposed use of atomic bomb against japanese , writing , first , japanese were ready to surrender and it wasn ' t necessary to hit them with that awful thing . second , i hated to see our country be first to use such a weapon . initially , eisenhower was characterized by hopes for cooperation with soviets . he even visited warsaw in 1945 . invited by bolesław bierut and decorated with highest military decoration , he was shocked by scale of destruction in city . however , by mid-1947 , as tensions over economic recovery in germany and greek civil war escalated , eisenhower gave up and agreed with a containment policy to stop soviet expansion .\n",
            "Predicted Answer: wasn\n",
            "True Answer: truman\n",
            "--------------------------------------------------\n",
            "Question: how many rail lines are there on new york city ' s commuter rail network ?\n",
            "Context: new york city ' s commuter rail network is largest in north america . rail network , connecting new york city to its suburbs , consists of long island rail road , metro-north railroad , and new jersey transit . combined systems converge at grand central terminal and pennsylvania station and contain more than 250 stations and 20 rail lines . in queens , elevated airtrain people mover system connects jfk international airport to new york city subway and long island rail road a separate airtrain system is planned alongside grand central parkway to connect laguardia airport to these transit systems . for intercity rail , new york city is served by amtrak , whose busiest station by a significant margin is pennsylvania station on west side of manhattan , from which amtrak provides connections to boston , philadelphia , and washington , d . c . along northeast corridor , as well as long-distance train service to other north american cities .\n",
            "Predicted Answer: parkway\n",
            "True Answer: 20\n",
            "--------------------------------------------------\n",
            "Question: identity achievement rarely occurs before what age ?\n",
            "Context: research since reveals self-examination beginning early in adolescence , but identity achievement rarely occurring before age 18 . freshman year of college influences identity development significantly , but may actually prolong psychosocial moratorium by encouraging reexamination of previous commitments and further exploration of alternate possibilities without encouraging resolution . for most part , evidence has supported erikson ' s stages each correlates with personality traits he originally predicted . studies also confirm impermanence of stages there is no final endpoint in identity development .\n",
            "Predicted Answer: self-examination\n",
            "True Answer: 18\n",
            "--------------------------------------------------\n",
            "Question: slash left guns n roses in what year ?\n",
            "Context: in new commercial climate glam metal bands like europe , ratt , white lion and cinderella broke up , whitesnake went on hiatus in 1991 , and while many of these bands would re-unite again in late 1990s or early 2000s , they never reached commercial success they saw in 1980s or early 1990s . other bands such as mötley crüe and poison saw personnel changes which impacted those bands ' commercial viability during decade . in 1995 van halen released balance , a multi-platinum seller that would be band ' s last with sammy hagar on vocals . in 1996 david lee roth returned briefly and his replacement , former extreme singer gary cherone , was fired soon after release of commercially unsuccessful 1998 album van halen iii and van halen would not tour or record again until 2004 . guns n ' roses ' original lineup was whittled away throughout decade . drummer steven adler was fired in 1990 , guitarist izzy stradlin left in late 1991 after recording use your illusion i and ii with band . tensions between other band members and lead singer axl rose continued after release of 1993 covers album spaghetti incident ? guitarist slash left in 1996 , followed by bassist duff mckagan in 1997 . axl rose , only original member , worked with a constantly changing lineup in recording an album that would\n",
            "Predicted Answer: re-unite\n",
            "True Answer: 1996\n",
            "--------------------------------------------------\n",
            "Question: how many bits are needed to indicate that layer 3 is used ?\n",
            "Context: an mp3 file is made up of mp3 frames , which consist of a header and a data block . this sequence of frames is called an elementary stream . due to byte reservoir , frames are not independent items and cannot usually be extracted on arbitrary frame boundaries . mp3 data blocks contain ( compressed ) audio information in terms of frequencies and amplitudes . diagram shows that mp3 header consists of a sync word , which is used to identify beginning of a valid frame . this is followed by a bit indicating that this is mpeg standard and two bits that indicate that layer 3 is used hence mpeg-1 audio layer 3 or mp3 . after this , values will differ , depending on mp3 file . iso/iec defines range of values for each section of header along with specification of header . most mp3 files today contain id3 metadata , which precedes or follows mp3 frames , as noted in diagram .\n",
            "Predicted Answer: metadata\n",
            "True Answer: two\n",
            "--------------------------------------------------\n",
            "Question: how long did unemployment rates and depopulation suffer in st . john ' s ?\n",
            "Context: st . john ' s , and province as a whole , was gravely affected in 1990s by collapse of northern cod fishery , which had been driving force of provincial economy for hundreds of years . after a decade of high unemployment rates and depopulation , city ' s proximity to hibernia , terra nova and white rose oil fields has led to an economic boom that has spurred population growth and commercial development . as a result , st . john ' s area now accounts for about half of province ' s economic output .\n",
            "Predicted Answer: hibernia\n",
            "True Answer: decade\n",
            "--------------------------------------------------\n",
            "Question: when did bronx ' s income declined ?\n",
            "Context: history of bronx during 20th century may be divided into four periods a boom period during , with a population growth by a factor of six from 200 , 000 in 1900 to 1 . 3 million in 1930 . great depression and post world war ii years saw a slowing of growth leading into an eventual decline . mid to late century were hard times , as bronx declined from a predominantly moderate-income to a predominantly lower-income area with high rates of violent crime and poverty . bronx has experienced an economic and developmental resurgence starting in late 1980s that continues into today .\n",
            "Predicted Answer: moderate-income\n",
            "True Answer: \n",
            "--------------------------------------------------\n",
            "Question: what type of men often grow beards and always wear black ?\n",
            "Context: externally , orthodox jews can be identified by their manner of dress and family lifestyle . orthodox women dress modestly by keeping most of their skin covered . additionally , married women cover their hair , most commonly in form of a scarf , also in form of hats , bandanas , berets , snoods or , sometimes , wigs . orthodox men wear a skullcap known as a kipa and often fringes called tzitzit . haredi men often grow beards and always wear black hats and suits , indoors and outdoors . however , modern orthodox jews are commonly indistinguishable in their dress from those around them .\n",
            "Predicted Answer: tzitzit\n",
            "True Answer: haredi\n",
            "--------------------------------------------------\n",
            "Question: where does oklahoma rank by population ?\n",
            "Context: oklahoma ( cherokee / or translated ( ) , pawnee , cayuga ) is a state located in south central united states . oklahoma is 20th most extensive and 28th most populous of 50 united states . state ' s name is derived from choctaw words okla and , meaning red people . it is also known informally by its nickname , sooner state , in reference to non-native settlers who staked their claims on choicest pieces of land before official opening date , and indian appropriations act of 1889 , which opened door for white settlement in america ' s indian territory . name was settled upon statehood , oklahoma territory and indian territory were merged and indian was dropped from name . on november 16 , 1907 , oklahoma became 46th state to enter union . its residents are known as oklahomans , or informally okies , and its capital and largest city is oklahoma city .\n",
            "Predicted Answer: cayuga\n",
            "True Answer: 28th\n",
            "--------------------------------------------------\n",
            "Question: what percentage of germans are roman catholic ?\n",
            "Context: according to latest nationwide census , roman catholics constituted 30 . of total population of germany , followed by evangelical protestants at 30 . . other religions , atheists or not specified constituted 38 . of population at time . among others are protestants not included in evangelical church of germany , and other christians such as restorationist new apostolic church . protestantism was more common among citizens of germany . north and east germany is predominantly protestant , south and west rather catholic . nowadays there is a non-religious majority in hamburg and east german states .\n",
            "Predicted Answer: protestantism\n",
            "True Answer: 30 . 8\n",
            "--------------------------------------------------\n",
            "Question: when was it clear that cancer had overcome resistance of john xxiii ?\n",
            "Context: on 25 may 1963 , pope suffered another haemorrhage and required several blood transfusions , but cancer had perforated stomach wall and peritonitis soon set in . doctors conferred in a decision regarding this matter and john xxiii ' s aide loris f . capovilla broke news to him saying that cancer had done its work and nothing could be done for him . around this time , his remaining siblings arrived to be with him . by 31 may , it had become clear that cancer had overcome resistance of john xxiii – it had left him confined to his bed .\n",
            "Predicted Answer: peritonitis\n",
            "True Answer: 31 may\n",
            "--------------------------------------------------\n",
            "Question: how many noble truths are there ?\n",
            "Context: buddhism is a nontheistic or philosophy ( sanskrit dharma pali dhamma ) that encompasses a variety of traditions , beliefs and spiritual practices largely based on teachings attributed to gautama buddha , commonly known as buddha ( awakened one ) . according to buddhist tradition , buddha lived and taught in eastern part of indian subcontinent , present-day nepal sometime between 6th and 4th centuries bce . he is recognized by buddhists as an awakened or enlightened teacher who shared his insights to help sentient beings end their suffering through elimination of ignorance and craving . buddhists believe that this is accomplished through direct understanding and perception of dependent origination and four noble truths .\n",
            "Predicted Answer: craving\n",
            "True Answer: 4\n",
            "--------------------------------------------------\n",
            "Question: which animal is main motif of england ' s national football team ?\n",
            "Context: motif of england national football team has three lions passant guardant , emblem of king richard i , who reigned from 1189 to 1199 . lions , often blue , have had minor changes to colour and appearance . initially topped by a crown , this was removed in 1949 when fa was given an official coat of arms by college of arms this introduced ten tudor roses , one for each of regional branches of fa . since 2003 , england top their logo with a star to recognise their world cup win in 1966 this was first embroidered onto left sleeve of home kit , and a year later was moved to its current position , first on away shirt .\n",
            "Predicted Answer: guardant\n",
            "True Answer: lions\n",
            "--------------------------------------------------\n",
            "Question: what was a polish nobleman referred to as before 15th century ?\n",
            "Context: another class of knights were granted land by prince , allowing them economic ability to serve prince militarily . a polish nobleman living at time prior to 15th century was referred to as a , very roughly equivalent to english knight , critical difference being status of was almost strictly hereditary class of all such individuals was known as . representing wealthier families of poland and itinerant knights from abroad seeking their fortunes , this other class of , which became ( szlachta becomes proper term for polish nobility beginning about 15th century ) , gradually formed apart from mieszko i ' s and his successors ' elite retinues . this obtained more privileges granting them favored status . they were absolved from particular burdens and obligations under ducal law , resulting in belief only ( those combining military prowess with birth ) could serve as officials in state administration .\n",
            "Predicted Answer: privileges\n",
            "True Answer: \n",
            "--------------------------------------------------\n",
            "Question: in what century did origins begin ?\n",
            "Context: pan-germanism ' s origins began in early 19th century following napoleonic wars . wars launched a new movement that was born in france itself during french revolution . nationalism during 19th century threatened old aristocratic regimes . many ethnic groups of central and eastern europe had been divided for centuries , ruled over by old monarchies of romanovs and habsburgs . germans , for most part , had been a loose and disunited people since reformation when holy roman empire was shattered into a patchwork of states . new german nationalists , mostly young reformers such as johann tillmann of east prussia , sought to unite all german-speaking and ( volksdeutsche ) people .\n",
            "Predicted Answer: monarchies\n",
            "True Answer: 19th\n",
            "--------------------------------------------------\n",
            "Question: by 1992 who was barcelona ' s most successful manager ?\n",
            "Context: it was ten years after inception of youth program , la masia , when young players began to graduate and play for their first team . one of first graduates , who would later earn international acclaim , was previous barcelona coach pep guardiola . under cruyff ' s guidance , barcelona won four consecutive la liga titles from 1991 to 1994 . they beat sampdoria in both 1989 uefa cup winners ' cup final and 1992 european cup final at wembley , with a free kick goal from dutch international ronald koeman . they also won a copa del rey in 1990 , european super cup in 1992 and three supercopa de españa trophies . with 11 trophies , cruyff became club ' s most successful manager at that point . he also became club ' s longest consecutive serving manager , serving eight years . cruyff ' s fortune was to change , and , in his final two seasons , he failed to win any trophies and fell out with president núñez , resulting in his departure . on legacy of cruyff ' s football philosophy and passing style of play he introduced to club , future coach of barcelona pep guardiola would state , cruyff built cathedral , our job is to maintain and renovate it .\n",
            "Predicted Answer: españa\n",
            "True Answer: cruyff\n",
            "--------------------------------------------------\n",
            "Question: about how many yellow cabs operate in new york ?\n",
            "Context: other features of city ' s transportation infrastructure encompass more than 12 , 000 yellow taxicabs various competing startup transportation network companies and an aerial tramway that transports commuters between roosevelt island and manhattan island .\n",
            "Predicted Answer: taxicabs\n",
            "True Answer: 12 , 000\n",
            "--------------------------------------------------\n",
            "Question: at what age does coming out to adults occur on average ?\n",
            "Context: in terms of sexual identity , adolescence is when most gay/lesbian and transgender adolescents begin to recognize and make sense of their feelings . many adolescents may choose to come out during this period of their life once an identity has been formed many others may go through a period of questioning or denial , which can include experimentation with both homosexual and heterosexual experiences . a study of 194 lesbian , gay , and bisexual youths under age of 21 found that having an awareness of one ' s sexual orientation occurred , on average , around age 10 , but process of coming out to peers and adults occurred around age 16 and 17 , respectively . coming to terms with and creating a positive lgbt identity can be difficult for some youth for a variety of reasons . peer pressure is a large factor when youth who are questioning their sexuality or gender identity are surrounded by heteronormative peers and can cause great distress due to a feeling of being different from everyone else . while coming out can also foster better psychological adjustment , risks associated are real . indeed , coming out in midst of a heteronormative peer environment often comes with risk of ostracism , hurtful jokes , and even violence . because of this , statistically suicide rate amongst lgbt adolescents is up to four times higher than that of their heterosexual peers due to\n",
            "Predicted Answer: hurtful\n",
            "True Answer: 17\n",
            "--------------------------------------------------\n",
            "Question: in what year was universal ' s ill-fated film version of show boat released ?\n",
            "Context: end for came with a lavish version of show boat ( 1936 ) , a remake of its earlier 1929 part-talkie production , and produced as a high-quality , big-budget film rather than as a . new film featured several stars from broadway stage version , which began production in late 1935 , and unlike 1929 film was based on broadway musical rather than novel . carl , jr . ' s spending habits alarmed company stockholders . they would not allow production to start on show boat unless obtained a loan . universal was forced to seek a , 000 production loan from standard capital corporation , pledging laemmle family ' s controlling interest in universal as collateral . it was first time universal had borrowed money for a production in its 26-year history . production went , 000 over budget standard called in loan , cash-strapped universal could not pay , standard foreclosed and seized control of studio on april 2 , 1936 .\n",
            "Predicted Answer: cash-strapped\n",
            "True Answer: 1936\n",
            "--------------------------------------------------\n",
            "Question: how many independent labels did merlin network represent ?\n",
            "Context: in may 2014 , prior to launch of youtube ' s subscription-based music key service , independent music trade organization worldwide independent network alleged that youtube was using non-negotiable contracts with independent labels that were undervalued in comparison to other streaming services , and that youtube would block all music content from labels who do not reach a deal to be included on paid service . in a statement to financial times in june 2014 , robert confirmed that youtube would block content of labels who do not negotiate deals to be included in paid service to ensure that all content on platform is governed by its new contractual terms . stating that of labels had reached deals , he went on to say that while we wish that we had success rate , we understand that is not likely an achievable goal and therefore it is our responsibility to our users and industry to launch enhanced music experience . financial times later reported that youtube had reached an aggregate deal with merlin trade group representing over 20 , 000 independent labels , for their inclusion in service . however , youtube itself has not confirmed deal .\n",
            "Predicted Answer: subscription-based\n",
            "True Answer: 20 , 000\n",
            "--------------------------------------------------\n",
            "Question: how big was impact had on psychology and society of swiss and switzerland ?\n",
            "Context: restoration of power to patriciate was only temporary . after a period of unrest with repeated violent clashes such as of 1839 , civil war ( ) broke out in 1847 when some catholic cantons tried to set up a separate alliance ( sonderbund ) . war lasted for less than a month , causing fewer than 100 casualties , most of which were through friendly fire . yet however minor appears compared with other european riots and wars in 19th century , it nevertheless had a major impact on both psychology and society of swiss and of switzerland .\n",
            "Predicted Answer: patriciate\n",
            "True Answer: major\n",
            "--------------------------------------------------\n",
            "Question: what is maximum acceptable delay per cable ?\n",
            "Context: usb 2 . 0 provides for a maximum cable length of 5 meters for devices running at hi speed ( 480 mbit/s ) . primary reason for this limit is maximum allowed round-trip delay of about 1 . 5 μs . if usb host commands are unanswered by usb device within allowed time , host considers command lost . when adding usb device response time , delays from maximum number of hubs added to delays from connecting cables , maximum acceptable delay per cable amounts to 26 ns . usb 2 . 0 specification requires that cable delay be less than 5 . 2 ns per meter ( 192 000 km/s , which is close to maximum achievable transmission speed for standard copper wire ) .\n",
            "Predicted Answer: μs\n",
            "True Answer: 26 ns\n",
            "--------------------------------------------------\n",
            "Question: suga mama is also a song on which beyoncé album ?\n",
            "Context: in 2006 , beyoncé introduced her all-female tour band suga mama ( also name of a song in b ' day ) which includes bassists , drummers , guitarists , horn players , keyboardists and percussionists . her background singers , mamas , consist of , crystal collins and tiffany riddick . they made their debut appearance at 2006 bet awards and re-appeared in music videos for irreplaceable and green light . band have supported beyoncé in most subsequent live performances , including her 2007 concert tour beyoncé experience , i am . . . world tour and mrs . carter show world tour .\n",
            "Predicted Answer: bassists\n",
            "True Answer: b ' day\n",
            "--------------------------------------------------\n",
            "Question: how many people were confirmed dead ?\n",
            "Context: official figures ( as of july 21 , 2008 12 00 cst ) stated that 69 , 197 were confirmed dead , including 68 , 636 in sichuan province , and 374 , 176 injured , with 18 , 222 listed as missing . earthquake left about 4 . 8 million people homeless , though number could be as high as 11 million . approximately 15 million people lived in affected area . it was deadliest earthquake to hit china since 1976 tangshan earthquake , which killed at least 240 , 000 people , and strongest in country since 1950 earthquake , which registered at 8 . 5 on richter magnitude scale . it is 21st deadliest earthquake of all time . on november 6 , 2008 , central government announced that it would spend 1 trillion rmb ( about us . 5 billion ) over next three years to rebuild areas ravaged by earthquake , as part of chinese economic stimulus program .\n",
            "Predicted Answer: 00\n",
            "True Answer: 69 , 197\n",
            "--------------------------------------------------\n",
            "Question: how many major league baseball world series has nyc teams won ?\n",
            "Context: new york has been described as capital of baseball . there have been 35 major league baseball world series and 73 pennants won by new york teams . it is one of only five metro areas ( los angeles , chicago , , and san francisco bay area being others ) to have two baseball teams . additionally , there have been 14 world series in which two new york city teams played each other , known as a subway series and occurring most recently in 2000 . no other metropolitan area has had this happen more than once ( chicago in 1906 , st . louis in 1944 , and san francisco bay area in 1989 ) . city ' s two current major league baseball teams are new york mets , who play at citi field in queens , and new york yankees , who play at yankee stadium in bronx . who compete in six games of interleague play every regular season that has also come to be called subway series . yankees have won a record 27 championships , while mets have won world series twice . city also was once home to brooklyn dodgers ( now los angeles dodgers ) , who won world series once , and new york giants ( now san francisco giants ) , who won world series five\n",
            "Predicted Answer: mets\n",
            "True Answer: 35\n",
            "--------------------------------------------------\n",
            "Question: what is relationship similarity to ladin ?\n",
            "Context: according to ethnologue , lexical similarity between catalan and other romance languages is with italian with portuguese with spanish with ladin with sardinian and with romanian .\n",
            "Predicted Answer: romance\n",
            "True Answer: \n",
            "--------------------------------------------------\n",
            "Question: who was god of light ?\n",
            "Context: as sun-god and god of light , apollo was also known by epithets ( , , from , light of sun ) , ( , helios , literally sun ) , ( , , literally giving or bringing light ) , and ( , , from proto-greek , light ) . meaning of epithet later became associated with apollo ' s mother leto , who was patron goddess of lycia ( ) and who was identified with wolf ( ) , earning him epithets ( , , literally born of a wolf or born of lycia ) and ( , , from , wolf , and , to kill ) . as god of sun , apollo was called sol ( sol , literally sun in latin ) by romans .\n",
            "Predicted Answer: proto-greek\n",
            "True Answer: apollo\n",
            "--------------------------------------------------\n",
            "Question: when was madonna ' s hit single vogue released ?\n",
            "Context: early 1990s additionally saw rise in mainstream us popularity for house music . pop recording artist madonna ' s 1990 single vogue became an international hit single and topped us charts . single is credited as helping to bring house music to us mainstream .\n",
            "Predicted Answer: \n",
            "True Answer: 1990\n",
            "--------------------------------------------------\n",
            "Question: who was god of colonization ?\n",
            "Context: as god of colonization , apollo gave oracular guidance on colonies , especially during height of colonization , bce . according to greek tradition , he helped cretan or arcadian colonists found city of troy . however , this story may reflect a cultural influence which had reverse direction hittite cuneiform texts mention a minor asian god called or in connection with city of wilusa attested in hittite inscriptions , which is now generally regarded as being identical with greek ilion by most scholars . in this interpretation , apollo ' s title of can simply be read as born in lycia , which effectively severs god ' s supposed link with wolves ( possibly a folk etymology ) .\n",
            "Predicted Answer: cretan\n",
            "True Answer: apollo\n",
            "--------------------------------------------------\n",
            "Question: in which prussian province did a large polish population reside ?\n",
            "Context: in prussian province of posen , with a large polish population , there was strong support for french and angry demonstrations at news of clear manifestation of polish nationalist feeling . calls were also made for polish recruits to desert from prussian these went mainly unheeded . an alarming report on posen situation , sent to bismarck on 16 august 1870 , led to quartering of reserve troop contingents in restive province . franco-prussian war thus turned out to be a significant event also in relations , marking beginning of a prolonged period of repressive measures by authorities and efforts at germanisation .\n",
            "Predicted Answer: prussian\n",
            "True Answer: posen\n",
            "--------------------------------------------------\n",
            "Question: federal records centers are particularly unhelpful to what type of research ?\n",
            "Context: in addition , federal records centers exist in each region that house materials owned by federal agencies . federal records centers are not open for public research . for example , frc in lenexa , kansas holds items from treatment of john f . kennedy after his fatal shooting in 1963 .\n",
            "Predicted Answer: lenexa\n",
            "True Answer: public\n",
            "--------------------------------------------------\n",
            "Question: what advantage was there in being a vestal at games ?\n",
            "Context: augustus ' religious reformations raised funding and public profile of vestals . they were given high-status seating at games and theatres . emperor claudius appointed them as priestesses to cult of deified livia , wife of augustus . they seem to have retained their religious and social distinctions well into 4th century , after political power within empire had shifted to christians . when christian emperor gratian refused office of pontifex maximus , he took steps toward dissolution of order . his successor theodosius i extinguished vesta ' s sacred fire and vacated her temple .\n",
            "Predicted Answer: theodosius\n",
            "True Answer: seating\n",
            "--------------------------------------------------\n",
            "Question: what are symbols used for deuterium and tritium ?\n",
            "Context: hydrogen is only element that has different names for its isotopes in common use today . during early study of radioactivity , various heavy radioactive isotopes were given their own names , but such names are no longer used , except for deuterium and tritium . symbols d and t ( instead of 2h and 3h ) are sometimes used for deuterium and tritium , but corresponding symbol for protium , p , is already in use for phosphorus and thus is not available for protium . in its nomenclatural guidelines , international union of pure and applied chemistry allows any of d , t , 2h , and 3h to be used , although 2h and 3h are preferred .\n",
            "Predicted Answer: protium\n",
            "True Answer: d and t\n",
            "--------------------------------------------------\n",
            "Question: in what year did last major effort to settle cyprus dispute take place ?\n",
            "Context: turkish invasion , followed by occupation and declaration of independence of trnc have been condemned by united nations resolutions , which are reaffirmed by security council every year . last major effort to settle cyprus dispute was annan plan in 2004 , drafted by then secretary general , kofi annan . plan was put to a referendum in both northern cyprus and republic of cyprus . of turkish cypriots voted in support of plan and greek cypriots voted against plan , claiming that it disproportionately favoured turkish side . in total , 66 . of voters rejected annan plan v . on 1 may 2004 cyprus joined european union , together with nine other countries . cyprus was accepted into eu as a whole , although eu legislation is suspended in territory occupied by turkey ( trnc ) , until a final settlement of cyprus problem . in july 2006 , island served as a haven for people fleeing lebanon , due to conflict between israel and hezbollah ( also called july war ) .\n",
            "Predicted Answer: cypriots\n",
            "True Answer: 2004\n",
            "--------------------------------------------------\n",
            "Question: which country has about same size gdp as mexico city ?\n",
            "Context: greater mexico city has a gross domestic product ( gdp ) of billion in 2011 , making mexico city urban agglomeration one of economically largest metropolitan areas in world . city was responsible for generating 15 . of mexico ' s gross domestic product and metropolitan area accounted for about of total national gdp . as a stand-alone country , in 2013 , mexico city would be fifth-largest economy in latin times as large as costa rica ' s and about same size as peru ' s .\n",
            "Predicted Answer: agglomeration\n",
            "True Answer: peru\n",
            "--------------------------------------------------\n",
            "Question: during 1980s and 1990s , how many people were killed annually because of dog bites ?\n",
            "Context: citing a 2008 study , u . s . center for disease control estimated in 2015 that 4 . 5 million people in usa are bitten by dogs each year . a 2015 study estimated that 1 . of u . s . population is bitten each year . in 1980s and 1990s us averaged 17 fatalities per year , while in 2000s this has increased to 26 . of dog bites are from pet of family or friends , and of attacks occur on property of dog ' s legal owner .\n",
            "Predicted Answer: u\n",
            "True Answer: 17\n",
            "--------------------------------------------------\n",
            "Question: where was petersburg located in relation to ford stedman ?\n",
            "Context: three years later , as march 1865 ended , confederate capitol became indefensible . on march 25 , confederate general john b . gordon ' s desperate attack on fort stedman east of petersburg failed . on april 1 , general philip sheridan , assigned to interdict southside railroad , met brigades commanded by george pickett at five forks junction , smashing them , taking thousands of prisoners , and encouraging general grant to order a general advance . when union sixth corps broke through confederate lines on boydton plank road south of petersburg , confederate casualties exceeded 5000 , or about a tenth of lee ' s defending army . general lee then informed jefferson davis that he was about to evacuate richmond .\n",
            "Predicted Answer: stedman\n",
            "True Answer: east\n",
            "--------------------------------------------------\n",
            "Question: how may palestinian refugees are in egypt ?\n",
            "Context: egypt also hosts an unknown number of refugees and asylum seekers , estimated to be between 500 , 000 and 3 million . there are some 70 , 000 palestinian refugees , and about 150 , 000 recently arrived iraqi refugees , but number of largest group , sudanese , is contested . and ancient greek and jewish communities in egypt have almost disappeared , with only a small number remaining in country , but many egyptian jews visit on religious or other occasions and tourism . several important jewish archaeological and historical sites are found in cairo , alexandria and other cities .\n",
            "Predicted Answer: asylum\n",
            "True Answer: 70 , 000\n",
            "--------------------------------------------------\n",
            "Question: great mississippi occurred during what year ?\n",
            "Context: occasional severe flooding is experienced . there was great mississippi flood of 1927 , great flood of 1993 , and widespread flooding and mudslides caused by 1982-1983 el niño event in western united states . localized flooding can , however , occur anywhere , and mudslides from heavy rain can cause problems in any mountainous area , particularly southwest . large stretches of desert shrub in west can fuel spread of wildfires . narrow canyons of many mountain areas in west and severe thunderstorm activity during summer lead to sometimes devastating flash floods as well , while nor ' easter snowstorms can bring activity to a halt throughout northeast ( although heavy snowstorms can occur almost anywhere ) .\n",
            "Predicted Answer: 1982-1983\n",
            "True Answer: 1927\n",
            "--------------------------------------------------\n",
            "Question: does setting clocks ahead add an hour of daylight before or after normal workday ?\n",
            "Context: by synchronously resetting all clocks in a region to one hour ahead of standard time ( one hour fast ) , individuals who follow such a year-round schedule will wake an hour earlier than they would have otherwise they will begin and complete daily work routines an hour earlier , and they will have available to them an extra hour of daylight after their workday activities . however , they will have one less hour of daylight at start of each day , making policy less practical during winter .\n",
            "Predicted Answer: routines\n",
            "True Answer: after\n",
            "--------------------------------------------------\n",
            "Question: when was roman abacus first used ?\n",
            "Context: abacus was initially used for arithmetic tasks . roman abacus was used in babylonia as early as 2400 bc . since then , many other forms of reckoning boards or tables have been invented . in a medieval european counting house , a checkered cloth would be placed on a table , and markers moved around on it according to certain rules , as an aid to calculating sums of money .\n",
            "Predicted Answer: abacus\n",
            "True Answer: 2400 bc\n",
            "--------------------------------------------------\n",
            "Question: what percentage of swazi population are christian ?\n",
            "Context: of total population adheres to christianity , making it most common religion in swaziland . anglican , protestant and indigenous african churches , including african zionist , constitute majority of christians ( ) , followed by roman catholicism at of population . on 18 july 2012 , , was elected anglican bishop of swaziland , becoming first woman to be a bishop in africa . of population follows traditional religions other non-christian religions practised in country include islam ( ) , bahá ' í faith ( 0 . ) , and hinduism ( 0 . ) . there are 14 jewish families .\n",
            "Predicted Answer: non-christian\n",
            "True Answer: \n",
            "--------------------------------------------------\n",
            "Question: what was an early version of fiddle called ?\n",
            "Context: many of instruments used to perform medieval music still exist , but in different forms . medieval instruments included wood flute ( which in 21st century is made of metal ) , recorder and plucked string instruments like lute . as well , early versions of organ , fiddle ( or vielle ) , and trombone ( called sackbut ) existed . medieval instruments in europe had most commonly been used singly , often self accompanied with a drone note , or occasionally in parts . from at least as early as 13th century through 15th century there was a division of instruments into haut ( loud , shrill , outdoor instruments ) and bas ( quieter , more intimate instruments ) .\n",
            "Predicted Answer: vielle\n",
            "True Answer: vielle\n",
            "--------------------------------------------------\n",
            "Question: how many shocks ranged from 4 . 0 ms to 4 . 9 ms ?\n",
            "Context: between 64 and 104 major aftershocks , ranging in magnitude from 4 . 0 to 6 . 1 , were recorded within 72 hours of main quake . according to chinese official counts , by 12 00 cst , november 6 , 2008 there had been 42 , 719 total aftershocks , of which 246 ranged from 4 . 0 ms to 4 . 9 ms , 34 from 5 . 0 ms to 5 . 9 ms , and 8 from 6 . 0 ms to 6 . 4 ms strongest aftershock measured 6 . 4 ms . latest aftershock exceeding m6 occurred on august 5 , 2008 .\n",
            "Predicted Answer: cst\n",
            "True Answer: 246\n",
            "--------------------------------------------------\n",
            "Question: what percentage of city ' s population is caucasian ?\n",
            "Context: city ' s population in 2010 was white ( 33 . non-hispanic white ) , 25 . black ( non-hispanic black ) , 0 . native american , and 12 . asian . hispanics of any race represented 28 . of population , while asians constituted fastest-growing segment of city ' s population between 2000 and 2010 non-hispanic white population declined 3 percent , smallest recorded decline in decades and for first time since civil war , number of blacks declined over a decade .\n",
            "Predicted Answer: fastest-growing\n",
            "True Answer: \n",
            "--------------------------------------------------\n",
            "Question: when did toyotomi hideyoshi first send an army to korea ?\n",
            "Context: in 1592 , and again in 1597 , toyotomi hideyoshi , aiming to invade china ( ) through korea , mobilized an army of 160 , 000 peasants and samurai and deployed them to korea . ( see hideyoshi ' s invasions of korea , ( ? ) . taking advantage of arquebus mastery and extensive wartime experience from sengoku period , japanese samurai armies made major gains in most of korea . kato kiyomasa advanced to territory ( present-day manchuria ) bordering korea to northeast and crossed border into manchuria , but withdrew after retaliatory attacks from jurchens there , as it was clear he had outpaced rest of japanese invasion force . a few of more famous samurai generals of this war were katō kiyomasa , konishi yukinaga , and shimazu yoshihiro . shimazu yoshihiro led some 7 , 000 samurai and , despite being heavily outnumbered , defeated a host of allied ming and korean forces at battle of sacheon in 1598 , near conclusion of campaigns . yoshihiro was feared as ( shimazu ogre ) and his nickname spread across not only korea but to ming dynasty china . in spite of superiority of japanese land forces , ultimately two expeditions failed ( though they did devastate korean landmass ) from factors such as korean naval superiority ( which , led by admiral yi ,\n",
            "Predicted Answer: devastate\n",
            "True Answer: 1592\n",
            "--------------------------------------------------\n",
            "Question: when rule of law become an agenda item for general assembly ?\n",
            "Context: general assembly has considered rule of law as an agenda item since 1992 , with renewed interest since 2006 and has adopted resolutions at its last three sessions . security council has held a number of thematic debates on rule of law , and adopted resolutions emphasizing importance of these issues in context of women , peace and security , children in armed conflict , and protection of civilians in armed conflict . peacebuilding commission has also regularly addressed rule of law issues with respect to countries on its agenda . vienna declaration and programme of action also requires rule of law be included in human rights education .\n",
            "Predicted Answer: declaration\n",
            "True Answer: 1992\n",
            "--------------------------------------------------\n",
            "Question: brain reaches of its adult size by time a person reaches what year of age ?\n",
            "Context: human brain is not fully developed by time a person reaches puberty . between ages of 10 and 25 , brain undergoes changes that have important implications for behavior ( see cognitive development below ) . brain reaches of its adult size by time a person is six years of age . thus , brain does not grow in size much during adolescence . however , creases in brain continue to become more complex until late teens . biggest changes in folds of brain during this time occur in parts of cortex that process cognitive and emotional information .\n",
            "Predicted Answer: puberty\n",
            "True Answer: six\n",
            "--------------------------------------------------\n",
            "Question: how many religious proclamations did madison issue while president ?\n",
            "Context: jefferson and james madison ' s conceptions of separation have long been debated . jefferson refused to issue proclamations of thanksgiving sent to him by congress during his presidency , though he did issue a thanksgiving and prayer proclamation as governor of virginia . madison issued four religious proclamations while president , but vetoed two bills on grounds they violated first amendment . on other hand , both jefferson and madison attended religious services at capitol . years before ratification of constitution , madison contended because if religion be exempt from authority of society at large , still less can it be subject to that of legislative body . after retiring from presidency , madison wrote of total separation of church from state . strongly guarded as is separation between religion & govt in constitution of united states , madison wrote , and he declared , practical distinction between religion and civil government is essential to purity of both , and as guaranteed by constitution of united states . in a letter to edward livingston madison further expanded , we are teaching world great truth that govts . do better without kings & nobles than with them . merit will be doubled by other lesson that religion flourishes in greater purity , without than with aid of govt . madison ' s original draft of\n",
            "Predicted Answer: proclamation\n",
            "True Answer: four\n",
            "--------------------------------------------------\n",
            "Question: when did united states begin to provide foreign aid to israel ?\n",
            "Context: in july 2007 , american business magnate and investor warren buffett ' s holding company berkshire hathaway bought an israeli company , iscar , its first . s . acquisition , for billion . since 1970s , israel has received military aid from united states , as well as economic assistance in form of loan guarantees , which now account for roughly half of israel ' s external debt . israel has one of lowest external debts in developed world , and is a net lender in terms of net external debt ( total value of assets vs . liabilities in debt instruments owed abroad ) , which in december stood at a surplus of billion .\n",
            "Predicted Answer: iscar\n",
            "True Answer: 1970s\n",
            "--------------------------------------------------\n",
            "Question: what must happen quickly for glass to form ?\n",
            "Context: in physics , standard definition of a glass ( or vitreous solid ) is a solid formed by rapid melt quenching . term glass is often used to describe any amorphous solid that exhibits a glass transition temperature tg . if cooling is sufficiently rapid ( relative to characteristic crystallization time ) then crystallization is prevented and instead disordered atomic configuration of supercooled liquid is frozen into solid state at tg . tendency for a material to form a glass while quenched is called ability . this ability can be predicted by rigidity theory . generally , structure of a glass exists in a metastable state with respect to its crystalline form , although in certain circumstances , for example in polymers , there is no crystalline analogue of amorphous phase .\n",
            "Predicted Answer: quenched\n",
            "True Answer: cooling\n",
            "--------------------------------------------------\n",
            "Question: in 2000 , how many families lived in richmond ?\n",
            "Context: as of census of 2000 , there were 197 , 790 people , 84 , 549 households , and 43 , 627 families residing in city . population density was 3 , 292 . 6 people per square mile ( 1 , 271 . ) . there were 92 , 282 housing units at an average density of 1 , 536 . 2 per square mile ( 593 . ) . racial makeup of city was 38 . white , 57 . african american , 0 . native american , 1 . asian , 0 . pacific islander , 1 . from other races , and 1 . from two or more races . hispanic or latino of any race were 2 . of population .\n",
            "Predicted Answer: 549\n",
            "True Answer: 43 , 627\n",
            "--------------------------------------------------\n",
            "Question: in what year did sme merge with another company ?\n",
            "Context: in 2004 , sme and bertelsmann music group merged as sony bmg music entertainment . when sony acquired bmg ' s half of conglomerate in 2008 , sony bmg reverted to sme name . buyout led to dissolution of bmg , which then relaunched as bmg rights management . out of big three record companies , with universal music group being largest and warner music group , sme is middle-sized .\n",
            "Predicted Answer: middle-sized\n",
            "True Answer: 2004\n",
            "--------------------------------------------------\n",
            "Question: what personality trait did feynman acquire from his mother ?\n",
            "Context: young feynman was heavily influenced by his father , who encouraged him to ask questions to challenge orthodox thinking , and who was always ready to teach feynman something new . from his mother he gained sense of humor that he had throughout his life . as a child , he had a talent for engineering , maintained an experimental laboratory in his home , and delighted in repairing radios . when he was in grade school , he created a home burglar alarm system while his parents were out for day running errands .\n",
            "Predicted Answer: feynman\n",
            "True Answer: humor\n",
            "--------------------------------------------------\n",
            "Question: when was robert ' book wrote ?\n",
            "Context: in last years of 19th century term near east acquired considerable disrepute in eyes of english-speaking public as did ottoman empire itself . cause of onus was hamidian massacres of armenians because they were christians , but it seemed to spill over into protracted conflicts of balkans . for a time , near east meant primarily balkans . robert hichens ' book near east ( 1913 ) is subtitled dalmatia , greece and constantinople .\n",
            "Predicted Answer: hichens\n",
            "True Answer: 1913 )\n",
            "--------------------------------------------------\n",
            "Question: what gospel talks about breaking jesus ' legs ?\n",
            "Context: there are several details that are only found in one of gospel accounts . for instance , only matthew ' s gospel mentions an earthquake , resurrected saints who went to city and that roman soldiers were assigned to guard tomb , while mark is only one to state actual time of crucifixion ( third hour , or 9 am ) and centurion ' s report of jesus ' death . gospel of luke ' s unique contributions to narrative include jesus ' words to women who were mourning , one criminal ' s rebuke of other , reaction of multitudes who left beating their breasts , and women preparing spices and ointments before resting on sabbath . john is also only one to refer to request that legs be broken and soldier ' s subsequent piercing of jesus ' side ( as fulfillment of old testament prophecy ) , as well as that nicodemus assisted joseph with burial .\n",
            "Predicted Answer: resting\n",
            "True Answer: john\n",
            "--------------------------------------------------\n",
            "Question: what was sat score , on average , at notre dame when edward malloy became president ?\n",
            "Context: in 18 years under presidency of edward malloy , c . s . c . , ( ) , there was a rapid growth in school ' s reputation , faculty , and resources . he increased faculty by more than 500 professors academic quality of student body has improved dramatically , with average sat score rising from 1240 to 1360 number of minority students more than doubled endowment grew from million to more than billion annual operating budget rose from million to more than million and annual research funding improved from million to more than million . notre dame ' s most ? ] capital campaign raised . 1 billion , far exceeding its goal of million , and is largest in history of catholic higher education .\n",
            "Predicted Answer: 1240\n",
            "True Answer: 1240\n",
            "--------------------------------------------------\n",
            "Question: something that is found at high frequency in europe could be what elsewhere ?\n",
            "Context: coop et al . ( 2009 ) found a selected allele that strongly differentiates french from both yoruba and han could be strongly clinal across europe , or at high frequency in europe and absent elsewhere , or follow any other distribution according to geographic nature of selective pressure . however , we see that global geographic distributions of these putatively selected alleles are largely determined simply by their frequencies in yoruba , french and han ( figure 3 ) . global distributions fall into three major geographic patterns that we interpret as non-african sweeps , west eurasian sweeps and east asian sweeps , respectively .\n",
            "Predicted Answer: clinal\n",
            "True Answer: absent\n",
            "--------------------------------------------------\n",
            "Question: when was battle of actium ?\n",
            "Context: hellenistic period covers period of ancient greek ( hellenic ) history and mediterranean history between death of alexander great in 323 bc and emergence of roman empire as signified by battle of actium in 31 bc and subsequent conquest of ptolemaic egypt following year . at this time , greek cultural influence and power was at its peak in europe , africa and asia , experiencing prosperity and progress in arts , exploration , literature , theatre , architecture , music , mathematics , philosophy , and science . for example , competitive public games took place , ideas in biology , and popular entertainment in theaters . it is often considered a period of transition , sometimes even of decadence or degeneration , compared to enlightenment of greek classical era . hellenistic period saw rise of new comedy , alexandrian poetry , septuagint and philosophies of stoicism and epicureanism . greek science was advanced by works of mathematician euclid and polymath archimedes . religious sphere expanded to include new gods such as serapis , eastern deities such as attis and cybele and greek adoption of buddhism .\n",
            "Predicted Answer: attis\n",
            "True Answer: 31 bc\n",
            "--------------------------------------------------\n",
            "Question: in this article , how many degrees north of true west is west ?\n",
            "Context: this article covers numbered east-west streets in manhattan , new york city . major streets have their own linked articles minor streets are discussed here . streets do not run exactly , because grid plan is aligned with hudson river rather than with cardinal directions . west is approximately 29 degrees north of true west .\n",
            "Predicted Answer: \n",
            "True Answer: 29\n",
            "--------------------------------------------------\n",
            "Question: where did sun offer to fly gay men in 1987 ?\n",
            "Context: eventually resulting in 17 libel writs in total , sun ran a series of false stories about pop musician elton john from 25 february 1987 . they began with an invented account of singer having sexual relationships with rent boys . singer-songwriter was abroad on day indicated in story , as former sun journalist john blake , recently poached by daily mirror , soon discovered . after further stories , in september 1987 , sun accused john of having his rottweiler guard dogs voice boxes surgically removed . in november , daily mirror found their rival ' s only source for rent boy story and he admitted it was a totally fictitious concoction created for money . inaccurate story about his dogs , actually alsatians , put pressure on sun , and john received million in an out of court settlement , then largest damages payment in british history . sun ran a front-page apology on 12 december 1988 , under banner headline sorry , elton . in may 1987 gay men were offered free one-way airline tickets to norway to leave britain for good fly away gays - and we will pay was paper ' s headline . gay church of england clergymen were described in one headline in november 1987 as pulpit poofs .\n",
            "Predicted Answer: front-page\n",
            "True Answer: norway\n",
            "--------------------------------------------------\n",
            "Question: who is downgrading chinook helicopters ?\n",
            "Context: in april 2008 , a contract was signed with boeing for a quick fix solution , so they can fly by 2010 qinetiq will downgrade out some of their more advanced equipment .\n",
            "Predicted Answer: \n",
            "True Answer: qinetiq\n",
            "--------------------------------------------------\n",
            "Question: how many supporters face charges for bridge stunt ?\n",
            "Context: some advocates for tibet , darfur , and spiritual practice falun gong , planned to protest april 9 arrival of torch in san francisco . china had already requested torch route in san francisco be shortened . on april 7 , 2008 , two days prior to actual torch relay , three activists carrying tibetan flags scaled suspension cables of golden gate bridge to unfurl two banners , one saying one world , one dream . free tibet , and other , free tibet ' 08 . among them was san francisco resident laurel sutherlin , who spoke to local tv station live from a cellphone , urging international olympic committee to ask china not to allow torch to go through tibet . sutherlin said he was worried that torch ' s planned route through tibet would lead to more arrests and chinese officials would use force to stifle dissent . three activists and five supporters face charges related to trespassing , conspiracy and causing a public nuisance .\n",
            "Predicted Answer: sutherlin\n",
            "True Answer: five\n",
            "--------------------------------------------------\n",
            "Question: when was pyrenees cup play begun ?\n",
            "Context: with new stadium , barcelona participated in inaugural version of pyrenees cup , which , at time , consisted of best teams of languedoc , midi and aquitaine ( southern france ) , basque country and catalonia all were former members of marca hispanica region . contest was most prestigious in that era . from inaugural year in 1910 to 1913 , barcelona won competition four consecutive times . carles played an integral part of four-time champion , managing side along with and jack greenwell . latter became club ' s first full-time coach in 1917 . last edition was held in 1914 in city of barcelona , which local rivals espanyol won .\n",
            "Predicted Answer: languedoc\n",
            "True Answer: 1910\n",
            "--------------------------------------------------\n",
            "Question: where did west indies merchants in london create a police force ?\n",
            "Context: in 1797 , patrick colquhoun was able to persuade west indies merchants who operated at pool of london on river thames , to establish a police force at docks to prevent rampant theft that was causing annual estimated losses of , 000 worth of cargo . idea of a police , as it then existed in france , was considered as a potentially undesirable foreign import . in building case for police in face of england ' s firm sentiment , colquhoun framed political rationale on economic indicators to show that a police dedicated to crime prevention was perfectly congenial to principle of british constitution . moreover , he went so far as to praise french system , which had reached greatest degree of perfection in his estimation .\n",
            "Predicted Answer: colquhoun\n",
            "True Answer: docks\n",
            "--------------------------------------------------\n",
            "Question: what circuit of us court of appeals is based in richmond ?\n",
            "Context: richmond ' s economy is primarily driven by law , finance , and government , with federal , state , and local governmental agencies , as well as notable legal and banking firms , located in downtown area . city is home to both united states court of appeals for fourth circuit , one of 13 united states courts of appeals , and federal reserve bank of richmond , one of 12 federal reserve banks . dominion resources and meadwestvaco , fortune 500 companies , are headquartered in city , with others in metropolitan area .\n",
            "Predicted Answer: meadwestvaco\n",
            "True Answer: fourth\n",
            "--------------------------------------------------\n",
            "Question: who invited ostrogoths to settle in roman empire ?\n",
            "Context: in 376 , ostrogoths , fleeing from huns , received permission from emperor valens ( r . ) to settle in roman province of thracia in balkans . settlement did not go smoothly , and when roman officials mishandled situation , ostrogoths began to raid and plunder . valens , attempting to put down disorder , was killed fighting ostrogoths at battle of adrianople on 9 august 378 . as well as threat from such tribal confederacies from north , internal divisions within empire , especially within christian church , caused problems . in 400 , visigoths invaded western roman empire and , although briefly forced back from italy , in 410 sacked city of rome . in 406 alans , vandals , and suevi crossed into gaul over next three years they spread across gaul and in 409 crossed pyrenees mountains into modern-day spain . migration period began , where various people , initially largely germanic peoples , moved across europe . franks , alemanni , and burgundians all ended up in northern gaul while angles , saxons , and jutes settled in britain . in huns began invading empire their king attila ( r . ) led invasions into balkans in 442 and 447 , gaul in 451 , and italy in 452 .\n",
            "Predicted Answer: alemanni\n",
            "True Answer: valens\n",
            "--------------------------------------------------\n",
            "Question: who made up most of primary labor force of cotton plantations ?\n",
            "Context: although city lost status of state capital to columbia in 1786 , charleston became even more prosperous in economy of post-revolutionary years . invention of cotton gin in 1793 revolutionized processing of this crop , making cotton profitable . it was more easily grown in upland areas , and cotton quickly became south carolina ' s major export commodity . piedmont region was developed into cotton plantations , to which sea islands and lowcountry were already devoted . slaves were also primary labor force within city , working as domestics , artisans , market workers , and laborers .\n",
            "Predicted Answer: 1793\n",
            "True Answer: slaves\n",
            "--------------------------------------------------\n",
            "Question: what is in english ?\n",
            "Context: or lunch is often elaborate . varieties of ( rice ) , most popular probably being basmati , usually serve as main dish . spices like cumin , cardamom , cloves , cinnamon , and garden sage are used to these different rice delicacies . somalis eat dinner as late as 9 pm . during ramadan , supper is often served after tarawih prayers sometimes as late as 11 pm .\n",
            "Predicted Answer: tarawih\n",
            "True Answer: rice\n",
            "--------------------------------------------------\n",
            "Question: what country borders car in north ?\n",
            "Context: central african republic ( car sango french république pronounced , or centrafrique ) is a landlocked country in central africa . it is bordered by chad to north , sudan to northeast , south sudan to east , democratic republic of congo and republic of congo to south and cameroon to west . car covers a land area of about 620 , 000 square kilometres ( 240 , 000 sq mi ) and had an estimated population of around 4 . 7 million as of .\n",
            "Predicted Answer: centrafrique\n",
            "True Answer: chad\n",
            "--------------------------------------------------\n",
            "Question: which ancient people were mentioned in first written reference to bod tibet ?\n",
            "Context: tibetan name for their land , bod , means tibet or tibetan plateau , although it originally meant central region around lhasa , now known in tibetan as ü . standard tibetan pronunciation of bod , , is transcribed in phonetic transcription , in thl simplified phonetic transcription and poi in tibetan pinyin . some scholars believe first written reference to bod tibet was ancient people recorded in egyptian greek works periplus of erythraean sea ( 1st century ce ) and geographia ( ptolemy , 2nd century ce ) , itself from sanskrit form of indian geographical tradition .\n",
            "Predicted Answer: periplus\n",
            "True Answer: \n",
            "--------------------------------------------------\n",
            "Question: in what century did paris become largely into fashion ?\n",
            "Context: paris has been an international capital of high fashion since 19th century , particularly in domain of haute couture , clothing hand-made to order for private clients . it is home of some of largest fashion houses in world , including dior and chanel , and of many well-known fashion designers , including karl lagerfeld , jean-paul gaultier , christophe josse and christian lacroix . paris fashion week , held in january and july in carrousel du louvre and other city locations , is among top four events of international fashion calendar , along with fashion weeks in milan , london and new york . paris is also home of world ' s largest cosmetics company , l ' , and three of five top global makers of luxury fashion accessories louis vuitton , and cartier .\n",
            "Predicted Answer: josse\n",
            "True Answer: 19th\n",
            "--------------------------------------------------\n",
            "Question: a majority of population educated since what year can speak mandarin ?\n",
            "Context: throughout history there have been a series of lingua francas in area to allow for better communication . dialects spoken in hangzhou , shaoxing , and ningbo have taken on this role historically . since founding of people ' s republic of china in 1949 , mandarin , which is not mutually intelligible with any of local dialects , has been promoted as standard language of communication throughout china . as a result , most of population now can , to some degree , speak and comprehend mandarin and can when necessary . a majority of population educated since 1978 can speak mandarin . urban residents tend to be more fluent in mandarin than rural people . nevertheless , a zhejiang accent is detectable in almost everyone from area communicating in mandarin , and home dialect remains an important part of everyday lives and cultural identities of most zhejiang residents .\n",
            "Predicted Answer: comprehend\n",
            "True Answer: 1978\n",
            "--------------------------------------------------\n",
            "Question: how many people were killed in largest mass execution in us history ?\n",
            "Context: largest single execution in united states history was hanging of 38 american indians convicted of murder and rape during dakota war of 1862 . they were executed simultaneously on december 26 , 1862 , in mankato , minnesota . a single blow from an axe cut rope that held large four-sided platform , and prisoners ( except for one whose rope had broken and who had to be ) fell to their deaths . second-largest mass execution was also a hanging execution of 13 african-american soldiers for taking part in houston riot of 1917 . largest non-military mass execution occurred in one of original thirteen colonies in 1723 , when 26 convicted pirates were hanged in newport , rhode island by order of admiralty court .\n",
            "Predicted Answer: non-military\n",
            "True Answer: 38\n",
            "--------------------------------------------------\n",
            "Question: sound production is achieved using what muscular chamber ?\n",
            "Context: birds have one of most complex respiratory systems of all animal groups . upon inhalation , of fresh air bypasses lungs and flows directly into a posterior air sac which extends from lungs and connects with air spaces in bones and fills them with air . other of air goes directly into lungs . when bird exhales , used air flows out of lung and stored fresh air from posterior air sac is simultaneously forced into lungs . thus , a bird ' s lungs receive a constant supply of fresh air during both inhalation and exhalation . sound production is achieved using syrinx , a muscular chamber incorporating multiple tympanic membranes which diverges from lower end of trachea trachea being elongated in some species , increasing volume of vocalizations and perception of bird ' s size .\n",
            "Predicted Answer: muscular\n",
            "True Answer: syrinx\n",
            "--------------------------------------------------\n",
            "Question: what century did hellenistic become a concept ?\n",
            "Context: hellenistic is a modern word and a 19th-century concept idea of a hellenistic period did not exist in ancient greece . although words related in form or meaning , e . g . hellenist ( ancient greek , ) , have been attested since ancient times , it was j . g . in mid-19th century , who in his classic work geschichte des , i . e . history of hellenism , coined term hellenistic to refer to and define period when greek culture spread in non-greek world after conquest . following , hellenistic and related terms , e . g . hellenism , have been widely used in various contexts a notable such use is in culture and anarchy by matthew arnold , where hellenism is used in contrast with .\n",
            "Predicted Answer: geschichte\n",
            "True Answer: 19th\n",
            "--------------------------------------------------\n",
            "Question: in what year did slavic and finnic tribes rebel varangians ?\n",
            "Context: according to primary chronicle , territories of east slavs in 9th century were divided between varangians and khazars . varangians are first mentioned imposing tribute from slavic and finnic tribes in 859 . in 862 , finnic and slavic tribes in area of novgorod rebelled against varangians , driving them back beyond sea and , refusing them further tribute , set out to govern themselves . tribes had no laws , however , and soon began to make war with one another , prompting them to invite varangians back to rule them and bring peace to region\n",
            "Predicted Answer: khazars\n",
            "True Answer: 862\n",
            "--------------------------------------------------\n",
            "Question: when was overbudget amount discovered ?\n",
            "Context: in 2013 it was found that ministry of defence had overspent on its equipment budget by . on orders that could take up to 39 years to fulfil . ministry of defence has been criticised in past for poor management and financial control , investing in projects that have taken up to 10 and even as much as 15 years to be delivered .\n",
            "Predicted Answer: overspent\n",
            "True Answer: 2013\n",
            "--------------------------------------------------\n",
            "Question: how old was chopin when he left poland ?\n",
            "Context: frédéric françois chopin ( french pronunciation . de . . swa . 22 february or 1 march 1810 – 17 october 1849 ) , born fryderyk franciszek chopin , was a polish and french ( by citizenship and birth of father ) composer and a virtuoso pianist of romantic era , who wrote primarily for solo piano . he gained and has maintained renown worldwide as one of leading musicians of his era , whose poetic genius was based on a professional technique that was without equal in his generation . chopin was born in what was then duchy of warsaw , and grew up in warsaw , which after 1815 became part of congress poland . a child prodigy , he completed his musical education and composed his earlier works in warsaw before leaving poland at age of 20 , less than a month before outbreak of november 1830 uprising .\n",
            "Predicted Answer: fryderyk\n",
            "True Answer: 20\n",
            "--------------------------------------------------\n",
            "Question: what is number of uefa cup winners ' cup competitions barcelona has won ?\n",
            "Context: as of december , barcelona has won 23 la liga , 27 copa del rey , 11 supercopa de españa , three copa eva and two copa de la liga trophies , as well as being record holder for latter four competitions . they have also won five uefa champions league , a record four uefa cup winners ' cup , a shared record five uefa super cup and a record three fifa club world cup trophies . they also won a record three inter-cities fairs cup trophies , considered predecessor to uefa league .\n",
            "Predicted Answer: españa\n",
            "True Answer: four\n",
            "--------------------------------------------------\n",
            "Question: assembly of norfolk island is made of how many seats ?\n",
            "Context: assembly consisted of nine seats , with electors casting nine equal votes , of which no more than two could be given to any individual candidate . it is a method of voting called a weighted first past post system . four of members of assembly formed executive council , which devised policy and acted as an advisory body to administrator . last chief minister of norfolk island was lisle snell . other ministers included minister for tourism , industry and development minister for finance minister for cultural heritage and community services and minister for environment .\n",
            "Predicted Answer: lisle\n",
            "True Answer: nine\n",
            "--------------------------------------------------\n",
            "Question: at serfdom ' s greatest extent , what percentage of western europeans were serfs ?\n",
            "Context: society throughout europe was disturbed by dislocations caused by black death . lands that had been marginally productive were abandoned , as survivors were able to acquire more fertile areas . although serfdom declined in western europe it became more common in eastern europe , as landlords imposed it on those of their tenants who had previously been free . most peasants in western europe managed to change work they had previously owed to their landlords into cash rents . percentage of serfs amongst peasantry declined from a high of 90 to closer to 50 per cent by end of period . landlords also became more conscious of common interests with other landholders , and they joined together to extort privileges from their governments . partly at urging of landlords , governments attempted to legislate a return to economic conditions that existed before black death . became increasingly literate , and urban populations began to imitate nobility ' s interest in chivalry .\n",
            "Predicted Answer: extort\n",
            "True Answer: 90\n",
            "--------------------------------------------------\n",
            "Question: singapore & vietnam shows which influence predominantly ?\n",
            "Context: culture in southeast asia is very diverse on mainland southeast asia , culture is a mix of indochinese ( burma , cambodia , laos and thailand ) and chinese ( singapore and vietnam ) . while in indonesia , philippines and malaysia culture is a mix of indigenous austronesian , indian , islamic , western , and chinese cultures . also brunei shows a strong influence from arabia . singapore and vietnam show more chinese influence in that singapore , although being geographically a southeast asian nation , is home to a large chinese majority and vietnam was in china ' s sphere of influence for much of its history . indian influence in singapore is only evident through tamil migrants , which influenced , to some extent , cuisine of singapore . throughout vietnam ' s history , it has had no direct influence from india - only through contact with thai , khmer and cham peoples .\n",
            "Predicted Answer: austronesian\n",
            "True Answer: chinese\n",
            "--------------------------------------------------\n",
            "Question: when did united grand lodge of england recognize two female masonic lodges ?\n",
            "Context: in general , continental freemasonry is sympathetic to freemasonry amongst women , dating from 1890s when french lodges assisted emergent movement by promoting enough of their members to 33rd degree of ancient and accepted scottish rite to allow them , in 1899 , to form their own grand council , recognised by other continental grand councils of that rite . united grand lodge of england issued a statement in 1999 recognising two women ' s grand lodges there to be regular in all but participants . while they were not , therefore , recognised as regular , they were part of freemasonry in general . attitude of most regular anglo-american grand lodges remains that women freemasons are not legitimate masons .\n",
            "Predicted Answer: recognising\n",
            "True Answer: 1999\n",
            "--------------------------------------------------\n",
            "Question: in what year was ministerial government started in gilbert and ellice islands ?\n",
            "Context: in 1974 ministerial government was introduced to gilbert and ellice islands colony through a change to constitution . in that year a general election was held and a referendum was held in december 1974 to determine whether gilbert islands and ellice islands should each have their own administration . as a consequence of referendum , separation occurred in two stages . tuvaluan order 1975 , which took effect on 1 october 1975 , recognised tuvalu as a separate british dependency with its own government . second stage occurred on 1 january 1976 when separate administrations were created out of civil service of gilbert and ellice islands colony .\n",
            "Predicted Answer: dependency\n",
            "True Answer: 1974\n",
            "--------------------------------------------------\n",
            "Question: in what year was name porter first used for a dark beer ?\n",
            "Context: stout and porter are dark beers made using roasted malts or roast barley , and typically brewed with slow fermenting yeast . there are a number of variations including baltic porter , dry stout , and imperial stout . name porter was first used in 1721 to describe a dark brown beer popular with street and river porters of london . this same beer later also became known as stout , though word stout had been used as early as 1677 . history and development of stout and porter are intertwined .\n",
            "Predicted Answer: malts\n",
            "True Answer: 1721\n",
            "--------------------------------------------------\n",
            "Question: where are located ?\n",
            "Context: sub-groups of croats include bunjevci ( in bačka ) , šokci ( in slavonia and vojvodina ) , ( in kosovo ) , burgenland croats ( in austria ) , bosniaks ( in hungary ) , molise croats ( in italy ) , ( in romania ) , moravian croats ( in czech republic )\n",
            "Predicted Answer: bosniaks\n",
            "True Answer: kosovo\n",
            "--------------------------------------------------\n",
            "Question: where did capital move to after reign of guangwu ?\n",
            "Context: period between foundation of han dynasty and wang mang ' s reign is known as western han dynasty ( simplified chinese traditional chinese pinyin xī hàn ) or former han dynasty ( simplified chinese traditional chinese pinyin ) ( 206 bc – 9 ad ) . during this period capital was at chang ' an ( modern xi ' an ) . from reign of guangwu capital was moved eastward to luoyang . era from his reign until fall of han is known as eastern han dynasty ( simplified chinese traditional chinese pinyin hàn ) or later han dynasty ( simplified chinese traditional chinese pinyin hàn ) ( ad ) .\n",
            "Predicted Answer: hàn\n",
            "True Answer: luoyang\n",
            "--------------------------------------------------\n",
            "Question: input and output devices are known as what term ?\n",
            "Context: a general purpose computer has four main components arithmetic logic unit ( alu ) , control unit , memory , and input and output devices ( collectively termed i/o ) . these parts are interconnected by buses , often made of groups of wires .\n",
            "Predicted Answer: arithmetic\n",
            "True Answer: i/o\n",
            "--------------------------------------------------\n",
            "Question: where was jesse saunders from ?\n",
            "Context: hypnotic electronic dance song on and on , produced in 1984 by chicago dj jesse saunders and co-written by vince lawrence , had elements that became staples of early house sound , such as roland tb-303 bass synthesizer and minimal vocals as well as a roland ( specifically tr-808 ) drum machine and korg ( specifically ) synthesizer . it also utilized bassline from player one ' s disco record space invaders ( 1979 ) . on and on is sometimes cited as ' first house record ' , though other examples from around that time , such as j . m . silk ' s music is key ( 1985 ) , have also been cited .\n",
            "Predicted Answer: bassline\n",
            "True Answer: chicago\n",
            "--------------------------------------------------\n",
            "Question: in approximately what year did a movement in favor of private executions begin in us ?\n",
            "Context: around 1890 , a political movement developed in united states to mandate private executions . several states enacted laws which required executions to be conducted within a wall or enclosure to exclude public view . for example , in 1919 , missouri legislature adopted a statute ( l . 1919 , p . 781 ) which required , sentence of death should be executed within county jail , if convenient , and otherwise within an enclosure near jail . missouri law permitted local sheriff to distribute passes to individuals ( usually local citizens ) whom he believed should witness hanging , but sheriffs – for various reasons – sometimes denied passes to individuals who wanted to watch . missouri executions conducted after 1919 were not public because they were conducted behind closed walls , and general public was not permitted to attend .\n",
            "Predicted Answer: 781\n",
            "True Answer: 1890\n",
            "--------------------------------------------------\n",
            "Question: which animal was shown to have a negative effect on learning behavior due to nutritional deficiencies back in 1951\n",
            "Context: some organizations have begun working with teachers , policymakers , and managed foodservice contractors to mandate improved nutritional content and increased nutritional resources in school cafeterias from primary to university level institutions . health and nutrition have been proven to have close links with overall educational success . currently , less than of american college students report that they eat recommended five servings of fruit and vegetables daily . better nutrition has been shown to have an impact on both cognitive and spatial memory performance a study showed those with higher blood sugar levels performed better on certain memory tests . in another study , those who consumed yogurt performed better on thinking tasks when compared to those that consumed caffeine-free diet soda or confections . nutritional deficiencies have been shown to have a negative effect on learning behavior in mice as far back as 1951 .\n",
            "Predicted Answer: content and increased nutritional resources in school cafeterias from primary to university level institutions . health and nutrition have been proven to have close links with overall educational success . currently , less than of american college students report that they eat recommended five servings of fruit and vegetables daily . better nutrition has been shown to have an impact on both cognitive and spatial memory performance a study showed those with higher blood sugar levels performed better on certain memory tests . in another study , those who consumed yogurt performed better on thinking tasks when compared to those that consumed caffeine-free diet soda or confections\n",
            "True Answer: mice\n",
            "--------------------------------------------------\n",
            "Question: in what year was richmond ' s railroad station renovated ?\n",
            "Context: richmond area also has two railroad stations served by amtrak . each station receives regular service from north of richmond including washington , d . c . , philadelphia , and new york . suburban staples mill road station is located on a major north-south freight line and receives all service to and from all points south including , raleigh , durham , savannah , newport news , williamsburg and florida . richmond ' s only railway station located within city limits , historic main street station , was renovated in 2004 . as of 2010 , station only receives trains headed to and from newport news and williamsburg due to track layout . as a result , staples mill road station receives more trains and serves more passengers overall .\n",
            "Predicted Answer: \n",
            "True Answer: 2004\n",
            "--------------------------------------------------\n",
            "Question: what percent of boston ' s population was white in 1950 ?\n",
            "Context: in 1950 , whites represented 94 . of boston ' s population . from 1950s to end of 20th century , proportion of non-hispanic whites in city declined in 2000 , non-hispanic whites made up 49 . of city ' s population , making city majority-minority for first time . however , in recent years city has experienced significant gentrification , in which affluent whites have moved into formerly non-white areas . in 2006 , us census bureau estimated that non-hispanic whites again formed a slight majority . but as of 2010 , in part due to housing crash , as well as increased efforts to make more affordable housing more available , minority population has rebounded . this may also have to do with an increased latino population and more clarity surrounding us census statistics , which indicate a non-hispanic white population of 47 percent ( some reports give slightly lower figures ) .\n",
            "Predicted Answer: majority-minority\n",
            "True Answer: 94 .\n",
            "--------------------------------------------------\n",
            "Question: what year did mughal emperor completely wave customs ?\n",
            "Context: in 1634 , mughal emperor extended his hospitality to english traders to region of bengal , and in 1717 completely waived customs duties for trade . company ' s mainstay businesses were by then cotton , silk , indigo dye , saltpetre , and tea . dutch were aggressive competitors and had meanwhile expanded their monopoly of spice trade in malaccan straits by ousting portuguese in . with reduced portuguese and spanish influence in region , eic and dutch east india company ( voc ) entered a period of intense competition , resulting in anglo-dutch wars of 17th and 18th centuries .\n",
            "Predicted Answer: eic\n",
            "True Answer: 1717\n",
            "--------------------------------------------------\n",
            "Question: what part of insect has been up for debate ?\n",
            "Context: insects are only group of invertebrates to have developed flight . evolution of insect wings has been a subject of debate . some entomologists suggest that wings are from lobes , or extensions from insect ' s exoskeleton called nota , called theory . other theories are based on a pleural origin . these theories include suggestions that wings originated from modified gills , flaps or as from an appendage of . theory suggests insect wings are modified , a modified appendage at base of legs or coxa . in carboniferous age , some of dragonflies had as much as a 50 cm ( 20 in ) wide wingspan . appearance of gigantic insects has been found to be consistent with high atmospheric oxygen . respiratory system of insects constrains their size , however high oxygen in atmosphere allowed larger sizes . largest flying insects today are much smaller and include several moth species such as atlas moth and white witch ( agrippina ) .\n",
            "Predicted Answer: appendage\n",
            "True Answer: wings\n",
            "--------------------------------------------------\n",
            "Question: how many jewish families are there in swaziland ?\n",
            "Context: of total population adheres to christianity , making it most common religion in swaziland . anglican , protestant and indigenous african churches , including african zionist , constitute majority of christians ( ) , followed by roman catholicism at of population . on 18 july 2012 , , was elected anglican bishop of swaziland , becoming first woman to be a bishop in africa . of population follows traditional religions other non-christian religions practised in country include islam ( ) , bahá ' í faith ( 0 . ) , and hinduism ( 0 . ) . there are 14 jewish families .\n",
            "Predicted Answer: non-christian\n",
            "True Answer: 14\n",
            "--------------------------------------------------\n",
            "Question: beyoncé lost album of year award to which entertainer ?\n",
            "Context: at 57th annual grammy awards in february 2015 , beyoncé was nominated for six awards , ultimately winning three best r&b performance and best r&b song for drunk in love , and best surround sound album for beyoncé . she was nominated for album of year but award was won by beck for his morning phase album . in august , cover of september issue of vogue magazine was unveiled online , beyoncé as cover star , becoming first african-american artist and third african-american woman in general to cover september issue . she headlined 2015 made in america festival in early september and also global citizen festival later that month . beyoncé made an uncredited featured appearance on track hymn for weekend by british rock band coldplay , on their seventh studio album a head full of dreams ( 2015 ) , which saw release in december . on january 7 , 2016 , pepsi announced beyoncé would perform alongside coldplay at super bowl 50 in february . knowles has previously performed at four super bowl shows throughout her career , serving as main headliner of 47th super bowl halftime show in 2013 .\n",
            "Predicted Answer: knowles\n",
            "True Answer: beck\n",
            "--------------------------------------------------\n",
            "Question: in what year did ayutthaya capture lan na ?\n",
            "Context: with burma preoccupied by chinese threat , ayutthaya recovered its territories by 1770 , and went on to capture lan na by 1776 . burma and siam went to war until 1855 , but all resulted in a stalemate , exchanging tenasserim ( to burma ) and lan na ( to ayutthaya ) . faced with a powerful china and a resurgent ayutthaya in east , king bodawpaya turned west , acquiring arakan ( 1785 ) , manipur ( 1814 ) and assam ( 1817 ) . it was second-largest empire in burmese history but also one with a long ill-defined border with british india .\n",
            "Predicted Answer: bodawpaya\n",
            "True Answer: 1776 .\n",
            "--------------------------------------------------\n"
          ]
        }
      ],
      "source": [
        "# Compare the predictions with the actual answers\n",
        "for i in range(100):\n",
        "    print(f\"Question: {train_questions[i]}\")\n",
        "    print(f\"Context: {train_contexts[i]}\")\n",
        "    print(f\"Predicted Answer: {train_preds[i]}\")\n",
        "    print(f\"True Answer: {train_true_labels[i]}\")\n",
        "    print(\"-\" * 50)"
      ]
    }
  ],
  "metadata": {
    "accelerator": "GPU",
    "colab": {
      "gpuType": "T4",
      "provenance": []
    },
    "kernelspec": {
      "display_name": "nlp_kernel",
      "language": "python",
      "name": "nlp_env"
    },
    "language_info": {
      "codemirror_mode": {
        "name": "ipython",
        "version": 3
      },
      "file_extension": ".py",
      "mimetype": "text/x-python",
      "name": "python",
      "nbconvert_exporter": "python",
      "pygments_lexer": "ipython3",
      "version": "3.11.11"
    }
  },
  "nbformat": 4,
  "nbformat_minor": 0
}
