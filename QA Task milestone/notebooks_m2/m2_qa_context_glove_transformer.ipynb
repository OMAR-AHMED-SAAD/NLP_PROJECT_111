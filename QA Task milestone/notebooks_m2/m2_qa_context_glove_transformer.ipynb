{
  "cells": [
    {
      "cell_type": "markdown",
      "metadata": {
        "id": "furWbet6M3Jn"
      },
      "source": [
        "# Milestone 2 - Training Transformer Models with GloVe embeddings"
      ]
    },
    {
      "cell_type": "markdown",
      "metadata": {},
      "source": [
        "### Imports"
      ]
    },
    {
      "cell_type": "code",
      "execution_count": null,
      "metadata": {
        "colab": {
          "base_uri": "https://localhost:8080/"
        },
        "id": "Rd_xZP2iM3Jq",
        "outputId": "9e6e465a-f13a-443e-c4aa-035ef5c04a98"
      },
      "outputs": [],
      "source": [
        "%cd ..\n",
        "# imports\n",
        "from scripts_m2 import *\n"
      ]
    },
    {
      "cell_type": "markdown",
      "metadata": {
        "id": "UMWcb8n-M3Jr"
      },
      "source": [
        "### 1. Get Dataloaders"
      ]
    },
    {
      "cell_type": "code",
      "execution_count": null,
      "metadata": {},
      "outputs": [],
      "source": [
        "train_dataloader, dev_dataloader, tokenizer = prepare_dataloaders_tokenizer_glove()"
      ]
    },
    {
      "cell_type": "markdown",
      "metadata": {
        "id": "GLzOX80RM3Jy"
      },
      "source": [
        "### 2. Model Training"
      ]
    },
    {
      "cell_type": "markdown",
      "metadata": {
        "id": "F4tMuCuhM3Jy"
      },
      "source": [
        "#### Question [PAD] [SEP] Context [PAD]"
      ]
    },
    {
      "cell_type": "code",
      "execution_count": null,
      "metadata": {
        "colab": {
          "base_uri": "https://localhost:8080/"
        },
        "id": "F5DWI_gHM3Jz",
        "outputId": "fb185619-b220-4d37-aef2-0d0db604c0f0"
      },
      "outputs": [],
      "source": [
        "print(tokenizer.get_pretrained_embeddings().shape)"
      ]
    },
    {
      "cell_type": "code",
      "execution_count": null,
      "metadata": {
        "colab": {
          "base_uri": "https://localhost:8080/"
        },
        "id": "zAjCoVWuM3Jz",
        "outputId": "9ee7f527-8404-466d-de5e-8a31d3689f48"
      },
      "outputs": [],
      "source": [
        "device = torch.device('cuda' if torch.cuda.is_available() else 'cpu')\n",
        "\n",
        "model = model = TransformerQAModel3(\n",
        "    vocab_size=10_000,\n",
        "    d_model=300,\n",
        "    num_layers=4,\n",
        "    num_heads=6,\n",
        "    dim_feedforward=512,\n",
        "    max_question_len=23,\n",
        "    max_context_len=318,\n",
        "    dropout=0.01,\n",
        "    pretrained_embeddings= tokenizer.get_pretrained_embeddings(),\n",
        "    freeze_embeddings=False,\n",
        ")\n",
        "model = model.to(device)\n",
        "\n",
        "# Setup an optimizer (e.g., Adam)\n",
        "optimizer = optim.AdamW(model.parameters(), lr=0.001)\n",
        "criterion = nn.CrossEntropyLoss()\n",
        "\n",
        "train_loss, val_loss = train_qa_context_model_boilerplate(\n",
        "    model=model,\n",
        "    train_dataloader=train_dataloader,\n",
        "    val_dataloader=dev_dataloader,\n",
        "    optimizer=optimizer,\n",
        "    criterion=criterion,\n",
        "    num_epochs=10,\n",
        "    device=device,\n",
        "    inputs = [\"context_question\", \"attention_mask_context_question\"],\n",
        "    evaluate_val_dataset=True,\n",
        ")\n"
      ]
    },
    {
      "cell_type": "code",
      "execution_count": null,
      "metadata": {},
      "outputs": [],
      "source": [
        "# Plotting the training and validation loss\n",
        "plot_loss_curves(train_loss, val_loss)"
      ]
    },
    {
      "cell_type": "markdown",
      "metadata": {},
      "source": [
        "#### Save Model"
      ]
    },
    {
      "cell_type": "code",
      "execution_count": null,
      "metadata": {
        "id": "rmP6zvJbM3J0"
      },
      "outputs": [],
      "source": [
        "model_path = \"models/glove_qa_context_model_transformer.pkl\""
      ]
    },
    {
      "cell_type": "code",
      "execution_count": null,
      "metadata": {
        "colab": {
          "base_uri": "https://localhost:8080/"
        },
        "id": "G16tYCuvM3J0",
        "outputId": "e78ea058-7c30-4537-8ff4-8a95ba7c854d"
      },
      "outputs": [],
      "source": [
        "save_model(model, model_path)"
      ]
    },
    {
      "cell_type": "code",
      "execution_count": null,
      "metadata": {
        "id": "tcyNyqXiM3J0"
      },
      "outputs": [],
      "source": [
        "device = torch.device('cuda' if torch.cuda.is_available() else 'cpu')\n",
        "model = load_model(model_path=model_path)"
      ]
    },
    {
      "cell_type": "markdown",
      "metadata": {},
      "source": [
        "#### Evaluation"
      ]
    },
    {
      "cell_type": "code",
      "execution_count": null,
      "metadata": {
        "id": "pwnFTqXBM3J1",
        "outputId": "7e94a5ef-ada2-4a58-defc-cd367169a425"
      },
      "outputs": [],
      "source": [
        "# evaluate the model on the dev set\n",
        "criterion = nn.CrossEntropyLoss()\n",
        "device = 'cuda' if torch.cuda.is_available() else 'cpu'\n",
        "evaluate_qa_context_model_boilerplate(model=model, dataloader=train_dataloader, criterion=criterion, device=device, inputs = [\"context_question\", \"attention_mask_context_question\"])"
      ]
    },
    {
      "cell_type": "code",
      "execution_count": null,
      "metadata": {
        "id": "0KINMB6LM3J1",
        "outputId": "a7a6a107-1d16-4dc7-897e-191e9c174461"
      },
      "outputs": [],
      "source": [
        "# evaluate the model on the dev set\n",
        "criterion = nn.CrossEntropyLoss()\n",
        "evaluate_qa_context_model_boilerplate(model=model, dataloader=dev_dataloader, criterion=criterion, device=device, inputs = [\"context_question\", \"attention_mask_context_question\"])"
      ]
    },
    {
      "cell_type": "markdown",
      "metadata": {},
      "source": [
        "##### Evaluate predictions on test set"
      ]
    },
    {
      "cell_type": "code",
      "execution_count": null,
      "metadata": {
        "id": "OxgMim37M3J1",
        "outputId": "107f8052-6a96-4742-88de-19ef0b781b94"
      },
      "outputs": [],
      "source": [
        "preds, true_labels = predict_qa_context_model_boilerplate(model=model, dataloader=dev_dataloader, tokenizer=tokenizer, device=device, inputs = [\"context_question\", \"attention_mask_context_question\"])"
      ]
    },
    {
      "cell_type": "code",
      "execution_count": null,
      "metadata": {
        "id": "4tpz8QPkM3J2",
        "outputId": "35d18808-40e2-456e-8080-370dff9f68d0"
      },
      "outputs": [],
      "source": [
        "# Compare the predictions with the actual answers\n",
        "for i in range(100):\n",
        "    print(f\"Question: {questions[i]}\")\n",
        "    print(f\"Context: {contexts[i]}\")\n",
        "    print(f\"Predicted Answer: {preds[i]}\")\n",
        "    print(f\"True Answer: {true_labels[i]}\")\n",
        "    print(\"-\" * 50)"
      ]
    },
    {
      "cell_type": "markdown",
      "metadata": {},
      "source": [
        "##### Evaluate predictions on training set"
      ]
    },
    {
      "cell_type": "code",
      "execution_count": null,
      "metadata": {
        "id": "nkq7ofTKM3J2",
        "outputId": "cbe2b8d5-a8d3-43f0-f096-558728bbca41"
      },
      "outputs": [],
      "source": [
        "train_preds, train_true_labels = predict_qa_context_model_boilerplate(model=model, dataloader=train_dataloader, tokenizer=tokenizer, device=device, inputs = [\"context_question\", \"attention_mask_context_question\"])"
      ]
    },
    {
      "cell_type": "code",
      "execution_count": null,
      "metadata": {
        "id": "xq15_9YiM3J2",
        "outputId": "b6cde1b3-3ab6-4df7-ed91-c49900ad8fce"
      },
      "outputs": [],
      "source": [
        "# Compare the predictions with the actual answers\n",
        "for i in range(100):\n",
        "    print(f\"Question: {train_questions[i]}\")\n",
        "    print(f\"Context: {train_context[i]}\")\n",
        "    print(f\"Predicted Answer: {train_preds[i]}\")\n",
        "    print(f\"True Answer: {train_true_labels[i]}\")\n",
        "    print(\"-\" * 50)"
      ]
    }
  ],
  "metadata": {
    "accelerator": "GPU",
    "colab": {
      "gpuType": "T4",
      "provenance": []
    },
    "kernelspec": {
      "display_name": "main",
      "language": "python",
      "name": "python3"
    },
    "language_info": {
      "codemirror_mode": {
        "name": "ipython",
        "version": 3
      },
      "file_extension": ".py",
      "mimetype": "text/x-python",
      "name": "python",
      "nbconvert_exporter": "python",
      "pygments_lexer": "ipython3",
      "version": "3.12.9"
    }
  },
  "nbformat": 4,
  "nbformat_minor": 0
}
