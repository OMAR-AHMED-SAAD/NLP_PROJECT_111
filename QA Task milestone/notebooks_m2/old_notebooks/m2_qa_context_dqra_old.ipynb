{
 "cells": [
  {
   "cell_type": "markdown",
   "metadata": {},
   "source": [
    "# Milestone 2"
   ]
  },
  {
   "cell_type": "code",
   "execution_count": 1,
   "metadata": {},
   "outputs": [
    {
     "name": "stderr",
     "output_type": "stream",
     "text": [
      "/home/karimgamaleldin/.local/lib/python3.10/site-packages/IPython/core/magics/osm.py:417: UserWarning: This is now an optional IPython functionality, setting dhist requires you to install the `pickleshare` library.\n",
      "  self.shell.db['dhist'] = compress_dhist(dhist)[-100:]\n"
     ]
    },
    {
     "name": "stdout",
     "output_type": "stream",
     "text": [
      "/home/karimgamaleldin/NLP_PROJECT_111/QA Task milestone\n"
     ]
    }
   ],
   "source": [
    "%cd ..\n",
    "# imports \n",
    "import numpy as np \n",
    "import matplotlib.pyplot as plt\n",
    "import seaborn as sns\n",
    "import os\n",
    "from scripts_m2 import *\n",
    "import torch \n",
    "from torch import nn \n",
    "from torch import optim"
   ]
  },
  {
   "cell_type": "code",
   "execution_count": 2,
   "metadata": {},
   "outputs": [
    {
     "name": "stdout",
     "output_type": "stream",
     "text": [
      "Loading tokenizer from ./tokenizers/tokenizer.json...\n",
      "Filtered dataset size: 19993 out of original 20000\n",
      "Filtered dataset size: 1996 out of original 2000\n"
     ]
    }
   ],
   "source": [
    "# Getting the dataloaders and tokenizers\n",
    "train_dataloader, dev_dataloader, tokenizer = prepare_dataloaders_tokenizer()"
   ]
  },
  {
   "cell_type": "code",
   "execution_count": 3,
   "metadata": {},
   "outputs": [
    {
     "name": "stderr",
     "output_type": "stream",
     "text": [
      "Epoch 1/10: 100%|██████████| 625/625 [00:41<00:00, 15.15it/s, loss=6.77]\n"
     ]
    },
    {
     "name": "stdout",
     "output_type": "stream",
     "text": [
      "Epoch 1 Loss: 7.4952\n"
     ]
    },
    {
     "name": "stderr",
     "output_type": "stream",
     "text": [
      "Evaluating: 100%|██████████| 625/625 [00:22<00:00, 28.26it/s]\n"
     ]
    },
    {
     "name": "stdout",
     "output_type": "stream",
     "text": [
      "Training Loss: 6.1076\n",
      "Training Metrics: {'start_accuracy': 0.18296403741309458, 'start_precision': 0.1826624741091776, 'start_recall': 0.18296403741309458, 'start_f1_score': 0.18110772717745993, 'end_accuracy': 0.19246736357725203, 'end_precision': 0.19487577723748364, 'end_recall': 0.19246736357725203, 'end_f1_score': 0.19056254943333514, 'joint_exact_match': 0.08688040814285, 'span_overlap_f1': 0.14863436126831062}\n"
     ]
    },
    {
     "name": "stderr",
     "output_type": "stream",
     "text": [
      "Evaluating: 100%|██████████| 63/63 [00:02<00:00, 25.19it/s]\n"
     ]
    },
    {
     "name": "stdout",
     "output_type": "stream",
     "text": [
      "Validation Loss: 7.1863\n",
      "Validation Metrics: {'start_accuracy': 0.1187374749498998, 'start_precision': 0.12767819580498213, 'start_recall': 0.1187374749498998, 'start_f1_score': 0.11571970341834387, 'end_accuracy': 0.12324649298597194, 'end_precision': 0.13662264808669733, 'end_recall': 0.12324649298597194, 'end_f1_score': 0.12183052339485673, 'joint_exact_match': 0.04759519038076152, 'span_overlap_f1': 0.09072806758708166}\n",
      "--------------------------------------------------\n"
     ]
    },
    {
     "name": "stderr",
     "output_type": "stream",
     "text": [
      "Epoch 2/10: 100%|██████████| 625/625 [00:44<00:00, 14.15it/s, loss=6.46]\n"
     ]
    },
    {
     "name": "stdout",
     "output_type": "stream",
     "text": [
      "Epoch 2 Loss: 6.0903\n"
     ]
    },
    {
     "name": "stderr",
     "output_type": "stream",
     "text": [
      "Evaluating: 100%|██████████| 625/625 [00:25<00:00, 24.13it/s]\n"
     ]
    },
    {
     "name": "stdout",
     "output_type": "stream",
     "text": [
      "Training Loss: 5.1979\n",
      "Training Metrics: {'start_accuracy': 0.25073775821537536, 'start_precision': 0.2502817902672543, 'start_recall': 0.25073775821537536, 'start_f1_score': 0.24791695053342697, 'end_accuracy': 0.26434251988195867, 'end_precision': 0.26712087447586635, 'end_recall': 0.26434251988195867, 'end_f1_score': 0.2638428523539505, 'joint_exact_match': 0.14860201070374632, 'span_overlap_f1': 0.2252695098138963}\n"
     ]
    },
    {
     "name": "stderr",
     "output_type": "stream",
     "text": [
      "Evaluating: 100%|██████████| 63/63 [00:02<00:00, 23.26it/s]\n"
     ]
    },
    {
     "name": "stdout",
     "output_type": "stream",
     "text": [
      "Validation Loss: 6.8185\n",
      "Validation Metrics: {'start_accuracy': 0.15581162324649298, 'start_precision': 0.1642578120497005, 'start_recall': 0.15581162324649298, 'start_f1_score': 0.15199544585573213, 'end_accuracy': 0.156312625250501, 'end_precision': 0.16810996783566773, 'end_recall': 0.156312625250501, 'end_f1_score': 0.15391380504163996, 'joint_exact_match': 0.07565130260521043, 'span_overlap_f1': 0.13324929207473998}\n",
      "--------------------------------------------------\n"
     ]
    },
    {
     "name": "stderr",
     "output_type": "stream",
     "text": [
      "Epoch 3/10: 100%|██████████| 625/625 [00:42<00:00, 14.68it/s, loss=5.29]\n"
     ]
    },
    {
     "name": "stdout",
     "output_type": "stream",
     "text": [
      "Epoch 3 Loss: 5.4426\n"
     ]
    },
    {
     "name": "stderr",
     "output_type": "stream",
     "text": [
      "Evaluating: 100%|██████████| 625/625 [00:24<00:00, 25.09it/s]\n"
     ]
    },
    {
     "name": "stdout",
     "output_type": "stream",
     "text": [
      "Training Loss: 4.5271\n",
      "Training Metrics: {'start_accuracy': 0.3187615665482919, 'start_precision': 0.316017369365583, 'start_recall': 0.3187615665482919, 'start_f1_score': 0.3144734345178212, 'end_accuracy': 0.34141949682388834, 'end_precision': 0.338178105251131, 'end_recall': 0.34141949682388834, 'end_f1_score': 0.3364298082297424, 'joint_exact_match': 0.2091732106237183, 'span_overlap_f1': 0.2899057063787068}\n"
     ]
    },
    {
     "name": "stderr",
     "output_type": "stream",
     "text": [
      "Evaluating: 100%|██████████| 63/63 [00:03<00:00, 20.40it/s]\n"
     ]
    },
    {
     "name": "stdout",
     "output_type": "stream",
     "text": [
      "Validation Loss: 6.6489\n",
      "Validation Metrics: {'start_accuracy': 0.16733466933867736, 'start_precision': 0.1730676669607969, 'start_recall': 0.16733466933867736, 'start_f1_score': 0.16350636766026627, 'end_accuracy': 0.1778557114228457, 'end_precision': 0.19162884529707822, 'end_recall': 0.1778557114228457, 'end_f1_score': 0.17516447330858775, 'joint_exact_match': 0.08967935871743488, 'span_overlap_f1': 0.15045454270085087}\n",
      "--------------------------------------------------\n"
     ]
    },
    {
     "name": "stderr",
     "output_type": "stream",
     "text": [
      "Epoch 4/10: 100%|██████████| 625/625 [00:42<00:00, 14.56it/s, loss=5.66]\n"
     ]
    },
    {
     "name": "stdout",
     "output_type": "stream",
     "text": [
      "Epoch 4 Loss: 4.9601\n"
     ]
    },
    {
     "name": "stderr",
     "output_type": "stream",
     "text": [
      "Evaluating: 100%|██████████| 625/625 [00:20<00:00, 29.89it/s]\n"
     ]
    },
    {
     "name": "stdout",
     "output_type": "stream",
     "text": [
      "Training Loss: 4.1028\n",
      "Training Metrics: {'start_accuracy': 0.37943280148051817, 'start_precision': 0.3786020102787435, 'start_recall': 0.37943280148051817, 'start_f1_score': 0.3771071469199683, 'end_accuracy': 0.40464162456859903, 'end_precision': 0.4053625123984153, 'end_recall': 0.40464162456859903, 'end_f1_score': 0.4022163926112928, 'joint_exact_match': 0.2601910668734057, 'span_overlap_f1': 0.3470424077456347}\n"
     ]
    },
    {
     "name": "stderr",
     "output_type": "stream",
     "text": [
      "Evaluating: 100%|██████████| 63/63 [00:02<00:00, 29.54it/s]\n"
     ]
    },
    {
     "name": "stdout",
     "output_type": "stream",
     "text": [
      "Validation Loss: 6.6840\n",
      "Validation Metrics: {'start_accuracy': 0.1743486973947896, 'start_precision': 0.1824529925157131, 'start_recall': 0.1743486973947896, 'start_f1_score': 0.17259319299286208, 'end_accuracy': 0.1908817635270541, 'end_precision': 0.20039174724280742, 'end_recall': 0.1908817635270541, 'end_f1_score': 0.18709078678880522, 'joint_exact_match': 0.0966933867735471, 'span_overlap_f1': 0.1564841671063435}\n",
      "--------------------------------------------------\n"
     ]
    },
    {
     "name": "stderr",
     "output_type": "stream",
     "text": [
      "Epoch 5/10: 100%|██████████| 625/625 [00:35<00:00, 17.47it/s, loss=4.23]\n"
     ]
    },
    {
     "name": "stdout",
     "output_type": "stream",
     "text": [
      "Epoch 5 Loss: 4.5688\n"
     ]
    },
    {
     "name": "stderr",
     "output_type": "stream",
     "text": [
      "Evaluating: 100%|██████████| 625/625 [00:19<00:00, 32.01it/s]\n"
     ]
    },
    {
     "name": "stdout",
     "output_type": "stream",
     "text": [
      "Training Loss: 3.6062\n",
      "Training Metrics: {'start_accuracy': 0.43955384384534585, 'start_precision': 0.438461422199837, 'start_recall': 0.43955384384534585, 'start_f1_score': 0.43659467514295247, 'end_accuracy': 0.45400890311609066, 'end_precision': 0.45489345975088796, 'end_recall': 0.45400890311609066, 'end_f1_score': 0.45067105753297315, 'joint_exact_match': 0.3153603761316461, 'span_overlap_f1': 0.40183263038564354}\n"
     ]
    },
    {
     "name": "stderr",
     "output_type": "stream",
     "text": [
      "Evaluating: 100%|██████████| 63/63 [00:02<00:00, 30.12it/s]\n"
     ]
    },
    {
     "name": "stdout",
     "output_type": "stream",
     "text": [
      "Validation Loss: 6.7941\n",
      "Validation Metrics: {'start_accuracy': 0.18286573146292584, 'start_precision': 0.1879624958712874, 'start_recall': 0.18286573146292584, 'start_f1_score': 0.17878257531367098, 'end_accuracy': 0.18286573146292584, 'end_precision': 0.19257738261785373, 'end_recall': 0.18286573146292584, 'end_f1_score': 0.17966280645560898, 'joint_exact_match': 0.10571142284569138, 'span_overlap_f1': 0.16634628443543675}\n",
      "--------------------------------------------------\n"
     ]
    },
    {
     "name": "stderr",
     "output_type": "stream",
     "text": [
      "Epoch 6/10: 100%|██████████| 625/625 [00:38<00:00, 16.44it/s, loss=3.9] \n"
     ]
    },
    {
     "name": "stdout",
     "output_type": "stream",
     "text": [
      "Epoch 6 Loss: 4.2045\n"
     ]
    },
    {
     "name": "stderr",
     "output_type": "stream",
     "text": [
      "Evaluating: 100%|██████████| 625/625 [00:25<00:00, 24.52it/s]\n"
     ]
    },
    {
     "name": "stdout",
     "output_type": "stream",
     "text": [
      "Training Loss: 3.1211\n",
      "Training Metrics: {'start_accuracy': 0.5063272145250838, 'start_precision': 0.5065904444266717, 'start_recall': 0.5063272145250838, 'start_f1_score': 0.5045918676793094, 'end_accuracy': 0.5293852848496974, 'end_precision': 0.5300937840304387, 'end_recall': 0.5293852848496974, 'end_f1_score': 0.5272375714386422, 'joint_exact_match': 0.3796828890111539, 'span_overlap_f1': 0.47095603572446926}\n"
     ]
    },
    {
     "name": "stderr",
     "output_type": "stream",
     "text": [
      "Evaluating: 100%|██████████| 63/63 [00:02<00:00, 28.46it/s]\n"
     ]
    },
    {
     "name": "stdout",
     "output_type": "stream",
     "text": [
      "Validation Loss: 7.0559\n",
      "Validation Metrics: {'start_accuracy': 0.1813627254509018, 'start_precision': 0.18883820569661106, 'start_recall': 0.1813627254509018, 'start_f1_score': 0.17862794723567393, 'end_accuracy': 0.19138276553106212, 'end_precision': 0.19946346197570755, 'end_recall': 0.19138276553106212, 'end_f1_score': 0.18905260187417935, 'joint_exact_match': 0.10470941883767534, 'span_overlap_f1': 0.16971016354617122}\n",
      "--------------------------------------------------\n"
     ]
    },
    {
     "name": "stderr",
     "output_type": "stream",
     "text": [
      "Epoch 7/10: 100%|██████████| 625/625 [00:42<00:00, 14.67it/s, loss=4.52]\n"
     ]
    },
    {
     "name": "stdout",
     "output_type": "stream",
     "text": [
      "Epoch 7 Loss: 3.8552\n"
     ]
    },
    {
     "name": "stderr",
     "output_type": "stream",
     "text": [
      "Evaluating: 100%|██████████| 625/625 [00:21<00:00, 28.70it/s]\n"
     ]
    },
    {
     "name": "stdout",
     "output_type": "stream",
     "text": [
      "Training Loss: 2.7531\n",
      "Training Metrics: {'start_accuracy': 0.5600960336117641, 'start_precision': 0.561066638169389, 'start_recall': 0.5600960336117641, 'start_f1_score': 0.5591350455610412, 'end_accuracy': 0.5914570099534837, 'end_precision': 0.5929934202127927, 'end_recall': 0.5914570099534837, 'end_f1_score': 0.5893974668765365, 'joint_exact_match': 0.4401040364127445, 'span_overlap_f1': 0.5314358164185153}\n"
     ]
    },
    {
     "name": "stderr",
     "output_type": "stream",
     "text": [
      "Evaluating: 100%|██████████| 63/63 [00:02<00:00, 28.03it/s]\n"
     ]
    },
    {
     "name": "stdout",
     "output_type": "stream",
     "text": [
      "Validation Loss: 7.3578\n",
      "Validation Metrics: {'start_accuracy': 0.17234468937875752, 'start_precision': 0.18339380034080477, 'start_recall': 0.17234468937875752, 'start_f1_score': 0.17147672496804928, 'end_accuracy': 0.18336673346693386, 'end_precision': 0.18930676360545623, 'end_recall': 0.18336673346693386, 'end_f1_score': 0.18065444009483, 'joint_exact_match': 0.09769539078156313, 'span_overlap_f1': 0.1617821993353026}\n",
      "--------------------------------------------------\n"
     ]
    },
    {
     "name": "stderr",
     "output_type": "stream",
     "text": [
      "Epoch 8/10: 100%|██████████| 625/625 [00:39<00:00, 15.77it/s, loss=3.27]\n"
     ]
    },
    {
     "name": "stdout",
     "output_type": "stream",
     "text": [
      "Epoch 8 Loss: 3.5491\n"
     ]
    },
    {
     "name": "stderr",
     "output_type": "stream",
     "text": [
      "Evaluating: 100%|██████████| 625/625 [00:23<00:00, 27.16it/s]\n"
     ]
    },
    {
     "name": "stdout",
     "output_type": "stream",
     "text": [
      "Training Loss: 2.4558\n",
      "Training Metrics: {'start_accuracy': 0.616465763017056, 'start_precision': 0.6165435735465007, 'start_recall': 0.616465763017056, 'start_f1_score': 0.6149236452370532, 'end_accuracy': 0.6339718901615565, 'end_precision': 0.6339527093012826, 'end_recall': 0.6339718901615565, 'end_f1_score': 0.6308635800564192, 'joint_exact_match': 0.49412294303006055, 'span_overlap_f1': 0.5835463665706078}\n"
     ]
    },
    {
     "name": "stderr",
     "output_type": "stream",
     "text": [
      "Evaluating: 100%|██████████| 63/63 [00:02<00:00, 28.48it/s]\n"
     ]
    },
    {
     "name": "stdout",
     "output_type": "stream",
     "text": [
      "Validation Loss: 7.4031\n",
      "Validation Metrics: {'start_accuracy': 0.17685370741482967, 'start_precision': 0.1876275874523896, 'start_recall': 0.17685370741482967, 'start_f1_score': 0.1751739140659554, 'end_accuracy': 0.19438877755511022, 'end_precision': 0.19845809484464355, 'end_recall': 0.19438877755511022, 'end_f1_score': 0.18932184272279723, 'joint_exact_match': 0.10470941883767534, 'span_overlap_f1': 0.16627531061612397}\n",
      "--------------------------------------------------\n"
     ]
    },
    {
     "name": "stderr",
     "output_type": "stream",
     "text": [
      "Epoch 9/10: 100%|██████████| 625/625 [00:41<00:00, 14.94it/s, loss=4.05]\n"
     ]
    },
    {
     "name": "stdout",
     "output_type": "stream",
     "text": [
      "Epoch 9 Loss: 3.2699\n"
     ]
    },
    {
     "name": "stderr",
     "output_type": "stream",
     "text": [
      "Evaluating: 100%|██████████| 625/625 [00:23<00:00, 26.57it/s]\n"
     ]
    },
    {
     "name": "stdout",
     "output_type": "stream",
     "text": [
      "Training Loss: 2.1653\n",
      "Training Metrics: {'start_accuracy': 0.662181763617266, 'start_precision': 0.6627622768224147, 'start_recall': 0.662181763617266, 'start_f1_score': 0.6613070313794926, 'end_accuracy': 0.6830390636722853, 'end_precision': 0.6848475458657911, 'end_recall': 0.6830390636722853, 'end_f1_score': 0.681078956598888, 'joint_exact_match': 0.5440904316510778, 'span_overlap_f1': 0.6352902454235296}\n"
     ]
    },
    {
     "name": "stderr",
     "output_type": "stream",
     "text": [
      "Evaluating: 100%|██████████| 63/63 [00:02<00:00, 24.91it/s]\n"
     ]
    },
    {
     "name": "stdout",
     "output_type": "stream",
     "text": [
      "Validation Loss: 7.7707\n",
      "Validation Metrics: {'start_accuracy': 0.17735470941883769, 'start_precision': 0.18541543646663555, 'start_recall': 0.17735470941883769, 'start_f1_score': 0.17541515297562488, 'end_accuracy': 0.19589178356713427, 'end_precision': 0.20182161696390113, 'end_recall': 0.19589178356713427, 'end_f1_score': 0.1918024391126683, 'joint_exact_match': 0.11523046092184369, 'span_overlap_f1': 0.1811445065569251}\n",
      "--------------------------------------------------\n"
     ]
    },
    {
     "name": "stderr",
     "output_type": "stream",
     "text": [
      "Epoch 10/10: 100%|██████████| 625/625 [00:41<00:00, 15.05it/s, loss=3.91]\n"
     ]
    },
    {
     "name": "stdout",
     "output_type": "stream",
     "text": [
      "Epoch 10 Loss: 3.0263\n"
     ]
    },
    {
     "name": "stderr",
     "output_type": "stream",
     "text": [
      "Evaluating: 100%|██████████| 625/625 [00:20<00:00, 30.63it/s]\n"
     ]
    },
    {
     "name": "stdout",
     "output_type": "stream",
     "text": [
      "Training Loss: 1.8316\n",
      "Training Metrics: {'start_accuracy': 0.7071475016255689, 'start_precision': 0.7076498968055529, 'start_recall': 0.7071475016255689, 'start_f1_score': 0.7065272065585363, 'end_accuracy': 0.7263542239783924, 'end_precision': 0.7274706703085451, 'end_recall': 0.7263542239783924, 'end_f1_score': 0.7247485058540983, 'joint_exact_match': 0.5980093032561397, 'span_overlap_f1': 0.6848519562016209}\n"
     ]
    },
    {
     "name": "stderr",
     "output_type": "stream",
     "text": [
      "Evaluating: 100%|██████████| 63/63 [00:02<00:00, 29.87it/s]"
     ]
    },
    {
     "name": "stdout",
     "output_type": "stream",
     "text": [
      "Validation Loss: 8.3003\n",
      "Validation Metrics: {'start_accuracy': 0.17735470941883769, 'start_precision': 0.17948643316808324, 'start_recall': 0.17735470941883769, 'start_f1_score': 0.1736156731665702, 'end_accuracy': 0.20440881763527055, 'end_precision': 0.2147732134809563, 'end_recall': 0.20440881763527055, 'end_f1_score': 0.20097978733267766, 'joint_exact_match': 0.11523046092184369, 'span_overlap_f1': 0.1794516943978396}\n",
      "--------------------------------------------------\n"
     ]
    },
    {
     "name": "stderr",
     "output_type": "stream",
     "text": [
      "\n"
     ]
    }
   ],
   "source": [
    "vocab_size = 10000         # Size of the vocabulary\n",
    "embed_dim = 300            # Dimensionality of the embeddings\n",
    "hidden_size = 100          # Base hidden size; BiLSTM outputs will be 2*hidden_size\n",
    "dropout = 0.2\n",
    "num_layers = 3          # Number of LSTM layers\n",
    "pad_idx = 1\n",
    "device = torch.device('cuda' if torch.cuda.is_available() else 'cpu')\n",
    "\n",
    "# Instantiate the BiDAF model\n",
    "model = DrQAReader(vocab_size=vocab_size, embed_dim=embed_dim, hidden_size=hidden_size, dropout=dropout, pad_idx=pad_idx, num_layers=num_layers)\n",
    "model = model.to(device)\n",
    "\n",
    "# Setup an optimizer (e.g., Adam)\n",
    "optimizer = optim.AdamW(model.parameters(), lr=0.001)\n",
    "criterion = nn.CrossEntropyLoss(ignore_index=pad_idx)\n",
    "\n",
    "train_loss, val_loss = train_qa_context_model_boilerplate(\n",
    "    model=model, \n",
    "    train_dataloader=train_dataloader, \n",
    "    val_dataloader=dev_dataloader, \n",
    "    optimizer=optimizer, \n",
    "    criterion=criterion, \n",
    "    num_epochs=10, \n",
    "    device=device, \n",
    "    inputs = [\"context\", \"question\", \"attention_mask_question\"],\n",
    "    evaluate_val_dataset=True,\n",
    ")\n"
   ]
  },
  {
   "cell_type": "code",
   "execution_count": 5,
   "metadata": {},
   "outputs": [
    {
     "data": {
      "image/png": "[encoded data removed]",
      "text/plain": [
       "<Figure size 1000x600 with 1 Axes>"
      ]
     },
     "metadata": {},
     "output_type": "display_data"
    }
   ],
   "source": [
    "# Plotting the training and validation loss\n",
    "plot_loss_curves(train_loss, val_loss)"
   ]
  },
  {
   "cell_type": "code",
   "execution_count": 6,
   "metadata": {},
   "outputs": [],
   "source": [
    "model_path = \"models/qa_context_model_dqra.pkl\""
   ]
  },
  {
   "cell_type": "code",
   "execution_count": 7,
   "metadata": {},
   "outputs": [
    {
     "ename": "FileNotFoundError",
     "evalue": "[Errno 2] No such file or directory: 'models/qa_context_model_dqra.pkl'",
     "output_type": "error",
     "traceback": [
      "\u001b[0;31m---------------------------------------------------------------------------\u001b[0m",
      "\u001b[0;31mFileNotFoundError\u001b[0m                         Traceback (most recent call last)",
      "Cell \u001b[0;32mIn[7], line 1\u001b[0m\n\u001b[0;32m----> 1\u001b[0m \u001b[43msave_model\u001b[49m\u001b[43m(\u001b[49m\u001b[43mmodel\u001b[49m\u001b[43m,\u001b[49m\u001b[43m \u001b[49m\u001b[43mmodel_path\u001b[49m\u001b[43m)\u001b[49m\n",
      "File \u001b[0;32m~/NLP_PROJECT_111/QA Task milestone/scripts_m2/train.py:447\u001b[0m, in \u001b[0;36msave_model\u001b[0;34m(model, model_path, save_again)\u001b[0m\n\u001b[1;32m    445\u001b[0m     \u001b[38;5;28mprint\u001b[39m(\u001b[38;5;124mf\u001b[39m\u001b[38;5;124m\"\u001b[39m\u001b[38;5;124mModel file \u001b[39m\u001b[38;5;132;01m{\u001b[39;00mmodel_path\u001b[38;5;132;01m}\u001b[39;00m\u001b[38;5;124m already exists. Skipping save.\u001b[39m\u001b[38;5;124m\"\u001b[39m)\n\u001b[1;32m    446\u001b[0m \u001b[38;5;28;01melse\u001b[39;00m:\n\u001b[0;32m--> 447\u001b[0m     \u001b[38;5;28;01mwith\u001b[39;00m \u001b[38;5;28;43mopen\u001b[39;49m\u001b[43m(\u001b[49m\u001b[43mmodel_path\u001b[49m\u001b[43m,\u001b[49m\u001b[43m \u001b[49m\u001b[38;5;124;43m\"\u001b[39;49m\u001b[38;5;124;43mwb\u001b[39;49m\u001b[38;5;124;43m\"\u001b[39;49m\u001b[43m)\u001b[49m \u001b[38;5;28;01mas\u001b[39;00m f:\n\u001b[1;32m    448\u001b[0m         pickle\u001b[38;5;241m.\u001b[39mdump(model, f)\n\u001b[1;32m    449\u001b[0m         \u001b[38;5;28mprint\u001b[39m(\u001b[38;5;124mf\u001b[39m\u001b[38;5;124m\"\u001b[39m\u001b[38;5;124mModel saved to \u001b[39m\u001b[38;5;132;01m{\u001b[39;00mmodel_path\u001b[38;5;132;01m}\u001b[39;00m\u001b[38;5;124m\"\u001b[39m)\n",
      "\u001b[0;31mFileNotFoundError\u001b[0m: [Errno 2] No such file or directory: 'models/qa_context_model_dqra.pkl'"
     ]
    }
   ],
   "source": [
    "save_model(model, model_path)"
   ]
  },
  {
   "cell_type": "code",
   "execution_count": null,
   "metadata": {},
   "outputs": [
    {
     "name": "stdout",
     "output_type": "stream",
     "text": [
      "Model loaded from models/qa_context_model_dqra.pkl\n"
     ]
    }
   ],
   "source": [
    "model = load_model(model_path=model_path)"
   ]
  },
  {
   "cell_type": "code",
   "execution_count": 10,
   "metadata": {},
   "outputs": [
    {
     "name": "stderr",
     "output_type": "stream",
     "text": [
      "Evaluating: 100%|██████████| 625/625 [00:24<00:00, 25.72it/s]\n"
     ]
    },
    {
     "name": "stdout",
     "output_type": "stream",
     "text": [
      "Validation Loss: 1.8315\n",
      "Validation Metrics: {'start_accuracy': 0.7071475016255689, 'start_precision': 0.7076498968055529, 'start_recall': 0.7071475016255689, 'start_f1_score': 0.7065272065585363, 'end_accuracy': 0.7263542239783924, 'end_precision': 0.7274706703085451, 'end_recall': 0.7263542239783924, 'end_f1_score': 0.7247485058540983, 'joint_exact_match': 0.5980093032561397, 'span_overlap_f1': 0.6848519562016209}\n"
     ]
    },
    {
     "data": {
      "text/plain": [
       "(1.8315112356185914,\n",
       " {'start_accuracy': 0.7071475016255689,\n",
       "  'start_precision': 0.7076498968055529,\n",
       "  'start_recall': 0.7071475016255689,\n",
       "  'start_f1_score': 0.7065272065585363,\n",
       "  'end_accuracy': 0.7263542239783924,\n",
       "  'end_precision': 0.7274706703085451,\n",
       "  'end_recall': 0.7263542239783924,\n",
       "  'end_f1_score': 0.7247485058540983,\n",
       "  'joint_exact_match': 0.5980093032561397,\n",
       "  'span_overlap_f1': 0.6848519562016209})"
      ]
     },
     "execution_count": 10,
     "metadata": {},
     "output_type": "execute_result"
    }
   ],
   "source": [
    "# evaluate the model on the dev set\n",
    "criterion = nn.CrossEntropyLoss(ignore_index=1)\n",
    "evaluate_qa_context_model_boilerplate(model=model, dataloader=train_dataloader, criterion=criterion, device='cuda', inputs = [\"context\", \"question\", \"attention_mask_question\"])"
   ]
  },
  {
   "cell_type": "code",
   "execution_count": 9,
   "metadata": {},
   "outputs": [
    {
     "name": "stderr",
     "output_type": "stream",
     "text": [
      "Evaluating: 100%|██████████| 63/63 [00:02<00:00, 24.60it/s]"
     ]
    },
    {
     "name": "stdout",
     "output_type": "stream",
     "text": [
      "Validation Loss: 8.3003\n",
      "Validation Metrics: {'start_accuracy': 0.17735470941883769, 'start_precision': 0.17948643316808324, 'start_recall': 0.17735470941883769, 'start_f1_score': 0.1736156731665702, 'end_accuracy': 0.20440881763527055, 'end_precision': 0.2147732134809563, 'end_recall': 0.20440881763527055, 'end_f1_score': 0.20097978733267766, 'joint_exact_match': 0.11523046092184369, 'span_overlap_f1': 0.1794516943978396}\n"
     ]
    },
    {
     "name": "stderr",
     "output_type": "stream",
     "text": [
      "\n"
     ]
    },
    {
     "data": {
      "text/plain": [
       "(8.300255904122004,\n",
       " {'start_accuracy': 0.17735470941883769,\n",
       "  'start_precision': 0.17948643316808324,\n",
       "  'start_recall': 0.17735470941883769,\n",
       "  'start_f1_score': 0.1736156731665702,\n",
       "  'end_accuracy': 0.20440881763527055,\n",
       "  'end_precision': 0.2147732134809563,\n",
       "  'end_recall': 0.20440881763527055,\n",
       "  'end_f1_score': 0.20097978733267766,\n",
       "  'joint_exact_match': 0.11523046092184369,\n",
       "  'span_overlap_f1': 0.1794516943978396})"
      ]
     },
     "execution_count": 9,
     "metadata": {},
     "output_type": "execute_result"
    }
   ],
   "source": [
    "# evaluate the model on the dev set\n",
    "criterion = nn.CrossEntropyLoss(ignore_index=1)\n",
    "evaluate_qa_context_model_boilerplate(model=model, dataloader=dev_dataloader, criterion=criterion, device='cuda', inputs = [\"context\", \"question\", \"attention_mask_question\"])"
   ]
  },
  {
   "cell_type": "code",
   "execution_count": 11,
   "metadata": {},
   "outputs": [
    {
     "name": "stderr",
     "output_type": "stream",
     "text": [
      "Predicting: 100%|██████████| 63/63 [00:02<00:00, 26.41it/s]\n"
     ]
    }
   ],
   "source": [
    "preds, true_labels = predict_qa_context_model_boilerplate(model=model, dataloader=dev_dataloader, tokenizer=tokenizer, device='cuda', inputs = [\"context\", \"question\", \"attention_mask_question\"])"
   ]
  },
  {
   "cell_type": "code",
   "execution_count": 12,
   "metadata": {},
   "outputs": [
    {
     "name": "stdout",
     "output_type": "stream",
     "text": [
      "Predicted Answer: a growing sport\n",
      "True Answer: rugby\n",
      "--------------------------------------------------\n",
      "Predicted Answer: rugby is also a growing sport in southern california , particularly at the high school level , with increasing numbers of schools adding rugby as an official school sport\n",
      "True Answer: an official school sport\n",
      "--------------------------------------------------\n",
      "Predicted Answer: high school\n",
      "True Answer: high school\n",
      "--------------------------------------------------\n",
      "Predicted Answer: \n",
      "True Answer: framework\n",
      "--------------------------------------------------\n",
      "Predicted Answer: complexity classes have complicated definitions that do not fit into this framework . thus , a typical complexity class\n",
      "True Answer: complexity classes\n",
      "--------------------------------------------------\n",
      "Predicted Answer: \n",
      "True Answer: complicated definitions\n",
      "--------------------------------------------------\n",
      "Predicted Answer: palm springs\n",
      "True Answer: palm springs\n",
      "--------------------------------------------------\n",
      "Predicted Answer: southern\n",
      "True Answer: southern\n",
      "--------------------------------------------------\n",
      "Predicted Answer: open spaces\n",
      "True Answer: open spaces\n",
      "--------------------------------------------------\n",
      "Predicted Answer: nearby open spaces\n",
      "True Answer: beaches\n",
      "--------------------------------------------------\n",
      "Predicted Answer: top 15\n",
      "True Answer: united states\n",
      "--------------------------------------------------\n",
      "Predicted Answer: los angeles\n",
      "True Answer: counties\n",
      "--------------------------------------------------\n",
      "Predicted Answer: five\n",
      "True Answer: counties\n",
      "--------------------------------------------------\n",
      "Predicted Answer: top 15\n",
      "True Answer: 15\n",
      "--------------------------------------------------\n",
      "Predicted Answer: los angeles\n",
      "True Answer: los angeles\n",
      "--------------------------------------------------\n",
      "Predicted Answer: east\n",
      "True Answer: mexico – united states border\n",
      "--------------------------------------------------\n",
      "Predicted Answer: east\n",
      "True Answer: colorado desert\n",
      "--------------------------------------------------\n",
      "Predicted Answer: east\n",
      "True Answer: mojave desert\n",
      "--------------------------------------------------\n",
      "Predicted Answer: colorado desert and the colorado river at the border with arizona , and the mojave desert at the border with the state of nevada\n",
      "True Answer: colorado river\n",
      "--------------------------------------------------\n",
      "Predicted Answer: \n",
      "True Answer: bounding\n",
      "--------------------------------------------------\n",
      "Predicted Answer: space\n",
      "True Answer: complexity classes\n",
      "--------------------------------------------------\n",
      "Predicted Answer: \n",
      "True Answer: time or space\n",
      "--------------------------------------------------\n",
      "Predicted Answer: san bernardino\n",
      "True Answer: business\n",
      "--------------------------------------------------\n",
      "Predicted Answer: downtown riverside\n",
      "True Answer: riverside\n",
      "--------------------------------------------------\n",
      "Predicted Answer: downtown riverside\n",
      "True Answer: hospitality business / financial centre\n",
      "--------------------------------------------------\n",
      "Predicted Answer: college sports\n",
      "True Answer: ucla\n",
      "--------------------------------------------------\n",
      "Predicted Answer: college sports\n",
      "True Answer: trojans\n",
      "--------------------------------------------------\n",
      "Predicted Answer: the usc trojans both field teams in ncaa division i in the pac - 12 conference , and there is a longtime rivalry\n",
      "True Answer: division i\n",
      "--------------------------------------------------\n",
      "Predicted Answer: usc trojans\n",
      "True Answer: college\n",
      "--------------------------------------------------\n",
      "Predicted Answer: the usc trojans\n",
      "True Answer: pac - 12\n",
      "--------------------------------------------------\n",
      "Predicted Answer: port of los angeles\n",
      "True Answer: port of los angeles\n",
      "--------------------------------------------------\n",
      "Predicted Answer: los angeles , the united states ' busiest commercial port ; the adjacent port of long beach , the united states ' second busiest container\n",
      "True Answer: southern\n",
      "--------------------------------------------------\n",
      "Predicted Answer: port of los angeles\n",
      "True Answer: port of san diego\n",
      "--------------------------------------------------\n",
      "Predicted Answer: jean ' s nephew maciot de bethencourt sold the rights to the islands to enrique pérez de guzmán , 2nd count de niebla\n",
      "True Answer: maciot de bethencourt\n",
      "--------------------------------------------------\n",
      "Predicted Answer: jean ' s nephew maciot\n",
      "True Answer: enrique pérez de guzmán\n",
      "--------------------------------------------------\n",
      "Predicted Answer: \n",
      "True Answer: bethencourt\n",
      "--------------------------------------------------\n",
      "Predicted Answer: downtown los angeles\n",
      "True Answer: central business districts\n",
      "--------------------------------------------------\n",
      "Predicted Answer: \n",
      "True Answer: business\n",
      "--------------------------------------------------\n",
      "Predicted Answer: downtown los angeles\n",
      "True Answer: south coast metro\n",
      "--------------------------------------------------\n",
      "Predicted Answer: los angeles times\n",
      "True Answer: los angeles times\n",
      "--------------------------------------------------\n",
      "Predicted Answer: \" the seven counties of los angeles , san bernardino , orange , riverside , san diego , ventura and santa barbara .\" in 1999 , the times added a newer county\n",
      "True Answer: imperial\n",
      "--------------------------------------------------\n",
      "Predicted Answer: \n",
      "True Answer: 1900\n",
      "--------------------------------------------------\n",
      "Predicted Answer: \n",
      "True Answer: 1999\n",
      "--------------------------------------------------\n",
      "Predicted Answer: 1900\n",
      "True Answer: seven\n",
      "--------------------------------------------------\n",
      "Predicted Answer: nevada\n",
      "True Answer: mexican\n",
      "--------------------------------------------------\n",
      "Predicted Answer: 11\n",
      "True Answer: 11\n",
      "--------------------------------------------------\n",
      "Predicted Answer: the 8 - and 10 - county definitions are not used for the greater southern california megaregion\n",
      "True Answer: nevada\n",
      "--------------------------------------------------\n",
      "Predicted Answer: california megaregion\n",
      "True Answer: tijuana\n",
      "--------------------------------------------------\n",
      "Predicted Answer: california megaregion\n",
      "True Answer: southern california megaregion\n",
      "--------------------------------------------------\n",
      "Predicted Answer: metrolink\n",
      "True Answer: metrolink\n",
      "--------------------------------------------------\n",
      "Predicted Answer: six\n",
      "True Answer: six\n",
      "--------------------------------------------------\n",
      "Predicted Answer: six\n",
      "True Answer: seven\n",
      "--------------------------------------------------\n",
      "Predicted Answer: los angeles\n",
      "True Answer: orange\n",
      "--------------------------------------------------\n",
      "Predicted Answer: nl and nc\n",
      "True Answer: nl and nc\n",
      "--------------------------------------------------\n",
      "Predicted Answer: the time and space hierarchy theorems\n",
      "True Answer: time and space hierarchy theorems\n",
      "--------------------------------------------------\n",
      "Predicted Answer: \n",
      "True Answer: l\n",
      "--------------------------------------------------\n",
      "Predicted Answer: \n",
      "True Answer: exptime\n",
      "--------------------------------------------------\n",
      "Predicted Answer: complexity classes\n",
      "True Answer: pspace\n",
      "--------------------------------------------------\n",
      "Predicted Answer: nl and nc\n",
      "True Answer: strictly contained in p or equal to p\n",
      "--------------------------------------------------\n",
      "Predicted Answer: nl and nc\n",
      "True Answer: complexity classes\n",
      "--------------------------------------------------\n",
      "Predicted Answer: nl and nc\n",
      "True Answer: if they are distinct or equal classes\n",
      "--------------------------------------------------\n",
      "Predicted Answer: measuring the time complexity\n",
      "True Answer: time\n",
      "--------------------------------------------------\n",
      "Predicted Answer: \n",
      "True Answer: best , worst and average\n",
      "--------------------------------------------------\n",
      "Predicted Answer: the time complexity\n",
      "True Answer: complexity measure\n",
      "--------------------------------------------------\n",
      "Predicted Answer: the time complexity\n",
      "True Answer: inputs\n",
      "--------------------------------------------------\n",
      "Predicted Answer: los angeles — the la galaxy and chivas usa — that both played at the stubhub center\n",
      "True Answer: chivas usa\n",
      "--------------------------------------------------\n",
      "Predicted Answer: two\n",
      "True Answer: two\n",
      "--------------------------------------------------\n",
      "Predicted Answer: \n",
      "True Answer: 2018\n",
      "--------------------------------------------------\n",
      "Predicted Answer: la galaxy and chivas usa\n",
      "True Answer: stubhub center\n",
      "--------------------------------------------------\n",
      "Predicted Answer: 2014\n",
      "True Answer: 2014\n",
      "--------------------------------------------------\n",
      "Predicted Answer: hides constant factors and smaller terms . this makes the bounds independent of the specific details of the computational model used\n",
      "True Answer: constant factors and smaller terms\n",
      "--------------------------------------------------\n",
      "Predicted Answer: hides constant factors and smaller terms\n",
      "True Answer: t ( n ) = o ( n2 )\n",
      "--------------------------------------------------\n",
      "Predicted Answer: upper and lower bounds\n",
      "True Answer: big o notation\n",
      "--------------------------------------------------\n",
      "Predicted Answer: big o notation , which hides constant factors and smaller terms . this makes the bounds independent of the specific details of the computational model\n",
      "True Answer: the computational model\n",
      "--------------------------------------------------\n",
      "Predicted Answer: \n",
      "True Answer: the adriatic\n",
      "--------------------------------------------------\n",
      "Predicted Answer: dyrrachium\n",
      "True Answer: dyrrachium\n",
      "--------------------------------------------------\n",
      "Predicted Answer: 1185\n",
      "True Answer: 1185\n",
      "--------------------------------------------------\n",
      "Predicted Answer: nfl\n",
      "True Answer: mlb\n",
      "--------------------------------------------------\n",
      "Predicted Answer: nfl\n",
      "True Answer: nba\n",
      "--------------------------------------------------\n",
      "Predicted Answer: \n",
      "True Answer: la galaxy\n",
      "--------------------------------------------------\n",
      "Predicted Answer: professional sports\n",
      "True Answer: nfl\n",
      "--------------------------------------------------\n",
      "Predicted Answer: ( los angeles kings , anaheim ducks ); and mls ( la galaxy\n",
      "True Answer: los angeles kings\n",
      "--------------------------------------------------\n",
      "Predicted Answer: a computational problem where a single output ( of a total function ) is expected for every input\n",
      "True Answer: a computational problem\n",
      "--------------------------------------------------\n",
      "Predicted Answer: 380 years\n",
      "True Answer: 380 years\n",
      "--------------------------------------------------\n",
      "Predicted Answer: more complex\n",
      "True Answer: a single output\n",
      "--------------------------------------------------\n",
      "Predicted Answer: computational\n",
      "True Answer: a function problem\n",
      "--------------------------------------------------\n",
      "Predicted Answer: every input , but the output is more complex\n",
      "True Answer: complex\n",
      "--------------------------------------------------\n",
      "Predicted Answer: just yes or no\n",
      "True Answer: the integer factorization problem\n",
      "--------------------------------------------------\n",
      "Predicted Answer: the normans\n",
      "True Answer: edward the confessor\n",
      "--------------------------------------------------\n",
      "Predicted Answer: \n",
      "True Answer: hereford\n",
      "--------------------------------------------------\n",
      "Predicted Answer: ralph\n",
      "True Answer: the welsh\n",
      "--------------------------------------------------\n",
      "Predicted Answer: odo , the bishop of bayeux and first earl of kent , employing natives from kent who were learned in the nordic traditions imported in the previous half century by the danish vikings\n",
      "True Answer: odo\n",
      "--------------------------------------------------\n",
      "Predicted Answer: bayeux tapestry\n",
      "True Answer: bayeux tapestry\n",
      "--------------------------------------------------\n",
      "Predicted Answer: not equal to co - np ; however , it has not yet been proven\n",
      "True Answer: reversed\n",
      "--------------------------------------------------\n",
      "Predicted Answer: class containing the complement problems ( i . e . problems with the yes / no answers reversed ) of np problems . it is believed that np is not equal to co - np ; however , it has not yet been proven\n",
      "True Answer: co - np\n",
      "--------------------------------------------------\n",
      "Predicted Answer: danish vikings\n",
      "True Answer: embroidery\n",
      "--------------------------------------------------\n",
      "Predicted Answer: class\n",
      "True Answer: not equal\n",
      "--------------------------------------------------\n",
      "Predicted Answer: complexity - theoretic theorems regularly assume some concrete choice of input encoding\n",
      "True Answer: input encoding\n",
      "--------------------------------------------------\n",
      "Predicted Answer: class\n",
      "True Answer: p is not equal to np\n",
      "--------------------------------------------------\n",
      "Predicted Answer: \n",
      "True Answer: encoding\n",
      "--------------------------------------------------\n"
     ]
    }
   ],
   "source": [
    "# Compare the predictions with the actual answers\n",
    "for i in range(100):\n",
    "    print(f\"Predicted Answer: {preds[i]}\")\n",
    "    print(f\"True Answer: {true_labels[i]}\")\n",
    "    print(\"-\" * 50)"
   ]
  },
  {
   "cell_type": "code",
   "execution_count": 13,
   "metadata": {},
   "outputs": [
    {
     "name": "stderr",
     "output_type": "stream",
     "text": [
      "Predicting: 100%|██████████| 625/625 [00:24<00:00, 25.82it/s]\n"
     ]
    }
   ],
   "source": [
    "train_preds, train_true_labels = predict_qa_context_model_boilerplate(model=model, dataloader=train_dataloader, tokenizer=tokenizer, device='cuda', inputs = [\"context\", \"question\", \"attention_mask_question\"])"
   ]
  },
  {
   "cell_type": "code",
   "execution_count": null,
   "metadata": {},
   "outputs": [
    {
     "name": "stdout",
     "output_type": "stream",
     "text": [
      "Predicted Answer: innate immune system\n",
      "True Answer: humoral ( or antibody )\n",
      "--------------------------------------------------\n",
      "Predicted Answer: pronunciation\n",
      "True Answer: accent\n",
      "--------------------------------------------------\n",
      "Predicted Answer: deputy chief of the defence staff ( capability ), deputy cds ( personnel and training ) and deputy cds ( operations ). the surgeon general\n",
      "True Answer: the surgeon general\n",
      "--------------------------------------------------\n",
      "Predicted Answer: nine children married into royal and noble families across the continent , tying them together and earning her the sobriquet \" the grandmother of europe \". after albert ' s death in 1861\n",
      "True Answer: 1861\n",
      "--------------------------------------------------\n",
      "Predicted Answer: sichuan basin\n",
      "True Answer: hengduan mountains\n",
      "--------------------------------------------------\n",
      "Predicted Answer: widespread\n",
      "True Answer: widespread\n",
      "--------------------------------------------------\n",
      "Predicted Answer: middle power\n",
      "True Answer: india\n",
      "--------------------------------------------------\n",
      "Predicted Answer: 5 , 000\n",
      "True Answer: 5 , 000\n",
      "--------------------------------------------------\n",
      "Predicted Answer: \n",
      "True Answer: an impression of the number of witnesses\n",
      "--------------------------------------------------\n",
      "Predicted Answer: canberra\n",
      "True Answer: royal exhibition building\n",
      "--------------------------------------------------\n",
      "Predicted Answer: missionaries\n",
      "True Answer: missionaries\n",
      "--------------------------------------------------\n",
      "Predicted Answer: chinese lunar calendar\n",
      "True Answer: chinese lunar calendar\n",
      "--------------------------------------------------\n",
      "Predicted Answer: warsash maritime academy\n",
      "True Answer: warsash maritime academy\n",
      "--------------------------------------------------\n",
      "Predicted Answer: 1967\n",
      "True Answer: 1935\n",
      "--------------------------------------------------\n",
      "Predicted Answer: ustream\n",
      "True Answer: ustream\n",
      "--------------------------------------------------\n",
      "Predicted Answer: financial district of lower manhattan\n",
      "True Answer: manhattan\n",
      "--------------------------------------------------\n",
      "Predicted Answer: \n",
      "True Answer: mental maps\n",
      "--------------------------------------------------\n",
      "Predicted Answer: 10 , 550 , 350 ( jan . 2012 census ). paris ' metropolitan area spans most of the paris region and has a population of 12 , 341 , 418 ( jan . 2012 census ), or one - fifth of the population of france . the administrative region covers 12 , 012 km ² ( 4 , 638 mi ²), with approximately 12 million\n",
      "True Answer: 12 million\n",
      "--------------------------------------------------\n",
      "Predicted Answer: pronunciation\n",
      "True Answer: argots\n",
      "--------------------------------------------------\n",
      "Predicted Answer: budget deficit and government debt - to - gdp ratios in the eu . after several upward revisions , the 2009 budget deficit is now estimated at 15 . 7 % of gdp . this , combined with rapidly rising debt levels ( 127 . 9 % of gdp in 2009 ) led to a precipitous increase in borrowing costs , effectively shutting greece out of the global financial markets and resulting in a severe economic\n",
      "True Answer: severe economic\n",
      "--------------------------------------------------\n",
      "Predicted Answer: frankincense\n",
      "True Answer: commerce\n",
      "--------------------------------------------------\n",
      "Predicted Answer: 44\n",
      "True Answer: 5 . 8 million\n",
      "--------------------------------------------------\n",
      "Predicted Answer: lord howe\n",
      "True Answer: lord howe\n",
      "--------------------------------------------------\n",
      "Predicted Answer: conservation and management of biodiversity in antarctica . the antarctic treaty consultative meeting is advised on environmental and conservation issues in antarctica by the committee for environmental protection . a major concern within this committee is the risk to antarctica from unintentional\n",
      "True Answer: non - native species\n",
      "--------------------------------------------------\n",
      "Predicted Answer: tajik is , most likely , the name of a pre - islamic ( before the seventh century a . d .) tribe . according to the library of congress ' s 1997 country study of tajikistan , it is difficult to definitively state the origins of the word \" tajik \" because the term is \" embroiled in twentieth - century political disputes about whether turkic or iranian peoples were the original inhabitants of central asia\n",
      "True Answer: \" land of the tajiks \"\n",
      "--------------------------------------------------\n",
      "Predicted Answer: \" country pub\n",
      "True Answer: country pub\n",
      "--------------------------------------------------\n",
      "Predicted Answer: baddeck\n",
      "True Answer: baddeck\n",
      "--------------------------------------------------\n",
      "Predicted Answer: scheme\n",
      "True Answer: scheme\n",
      "--------------------------------------------------\n",
      "Predicted Answer: ( 1943 – 1992\n",
      "True Answer: 1992 – 2003\n",
      "--------------------------------------------------\n",
      "Predicted Answer: 1962\n",
      "True Answer: 2\n",
      "--------------------------------------------------\n",
      "Predicted Answer: paleolithic societies\n",
      "True Answer: in uncontacted peoples\n",
      "--------------------------------------------------\n",
      "Predicted Answer: 50 %,\n",
      "True Answer: just under 50 %\n",
      "--------------------------------------------------\n",
      "Predicted Answer: \n",
      "True Answer: smallest mounts\n",
      "--------------------------------------------------\n",
      "Predicted Answer: bakhshali\n",
      "True Answer: bakhshali\n",
      "--------------------------------------------------\n",
      "Predicted Answer: 15 %,\n",
      "True Answer: 15 %\n",
      "--------------------------------------------------\n",
      "Predicted Answer: mid - 19th century\n",
      "True Answer: the mid - 19th century\n",
      "--------------------------------------------------\n",
      "Predicted Answer: an ausbau language\n",
      "True Answer: they are roofed by standard german\n",
      "--------------------------------------------------\n",
      "Predicted Answer: \n",
      "True Answer: 19th\n",
      "--------------------------------------------------\n",
      "Predicted Answer: lignite\n",
      "True Answer: lignite\n",
      "--------------------------------------------------\n",
      "Predicted Answer: november 2013\n",
      "True Answer: 2013\n",
      "--------------------------------------------------\n",
      "Predicted Answer: an end product\n",
      "True Answer: an end product\n",
      "--------------------------------------------------\n",
      "Predicted Answer: around nanjing fuzimiao ( confucius temple\n",
      "True Answer: confucius temple\n",
      "--------------------------------------------------\n",
      "Predicted Answer: seven miles ( 11 km ) southeast of richmond and within an hour drive of historic williamsburg , virginia . richmond international is now served by nine\n",
      "True Answer: nine\n",
      "--------------------------------------------------\n",
      "Predicted Answer: egyptian . in response to an advertisement for an acting position , as a young man he said , \" i am not white but i am not exactly black either . my blackness is tending to reddish\n",
      "True Answer: egyptian\n",
      "--------------------------------------------------\n",
      "Predicted Answer: 35\n",
      "True Answer: 35\n",
      "--------------------------------------------------\n",
      "Predicted Answer: practical and theoretical difficulties in determining h . the practical difficulties can be illustrated by the fact that the two most accurate methods , the watt balance and the x - ray crystal density method , do not appear to agree with one another . the most likely reason is that the measurement uncertainty for one ( or both ) of the methods has been estimated too low – it is ( or they are ) not as precise as is currently believed\n",
      "True Answer: the two most accurate methods , the watt balance and the x - ray crystal density method , do not appear\n",
      "--------------------------------------------------\n",
      "Predicted Answer: animal skins\n",
      "True Answer: finds of large numbers of bone and antler pins\n",
      "--------------------------------------------------\n",
      "Predicted Answer: \" cdmx \"), is the capital of mexico . as an \" alpha \" global city , mexico city is one of the most important financial centers in the americas . it is located in the valley of mexico ( valle de méxico ), a large valley in the high plateaus at the center of mexico , at an altitude of 2 , 240 metres ( 7 , 350 ft ). the city consists of sixteen municipalities ( previously called boroughs\n",
      "True Answer: ciudad de méxico\n",
      "--------------------------------------------------\n",
      "Predicted Answer: buddha ( c . 563 - 483 ), founder of buddhism were the most prominent icons of this movement . shramana gave rise to the concept of the cycle of birth and death , the concept of samsara , and the concept of liberation . buddha found a middle way\n",
      "True Answer: orthodoxy of rituals\n",
      "--------------------------------------------------\n",
      "Predicted Answer: abstraction - filtration - comparison test\n",
      "True Answer: doesn ' t affect copyright protection\n",
      "--------------------------------------------------\n",
      "Predicted Answer: sexual arousal , by using brain - scanning techniques . a study on how heterosexual and homosexual men ' s brains react to seeing pictures of naked men and women has found that both hetero - and homosexual men react positively to seeing their preferred sex , using the same brain regions . the only significant group difference between these orientations was found in the amygdala , a brain region known to be involved in regulating fear\n",
      "True Answer: positively\n",
      "--------------------------------------------------\n",
      "Predicted Answer: \n",
      "True Answer: the activity of many brain cells to be recorded all at the same time ;\n",
      "--------------------------------------------------\n",
      "Predicted Answer: 50 %\n",
      "True Answer: less than 1 %\n",
      "--------------------------------------------------\n",
      "Predicted Answer: chris daughtry\n",
      "True Answer: chris daughtry\n",
      "--------------------------------------------------\n",
      "Predicted Answer: 1916\n",
      "True Answer: 1916\n",
      "--------------------------------------------------\n",
      "Predicted Answer: henry hudson parkway\n",
      "True Answer: plaza lafayette\n",
      "--------------------------------------------------\n",
      "Predicted Answer: widespread national pride during the mid - eighteenth century , inspired by the age of enlightenment a half - century earlier . czech historians began to emphasize their people ' s accomplishments\n",
      "True Answer: czech national revival\n",
      "--------------------------------------------------\n",
      "Predicted Answer: short - wavelength light that stimulates the circadian system . the device measures activity and light together at regular time intervals and electronically stores and logs its operating temperature . the daysimeter\n",
      "True Answer: short - wavelength light\n",
      "--------------------------------------------------\n",
      "Predicted Answer: enen - kio\n",
      "True Answer: the united states\n",
      "--------------------------------------------------\n",
      "Predicted Answer: unfavorable\n",
      "True Answer: hewlett - packard\n",
      "--------------------------------------------------\n",
      "Predicted Answer: piano or guitar\n",
      "True Answer: stand - up comedy\n",
      "--------------------------------------------------\n",
      "Predicted Answer: \n",
      "True Answer: best island in the world\n",
      "--------------------------------------------------\n",
      "Predicted Answer: the strategic defence and security review\n",
      "True Answer: the strategic defence and security review\n",
      "--------------------------------------------------\n",
      "Predicted Answer: 20 ° to 27 ° north and south of the equator where the presence of the descending limb of the hadley circulation lowers precipitation so much that with high insolation snow lines reach above 6 , 500 m ( 21 , 330 ft ). between 19 ˚ n and 19 ˚ s , however , precipitation is higher\n",
      "True Answer: precipitation is higher\n",
      "--------------------------------------------------\n",
      "Predicted Answer: silencers bind repressor proteins\n",
      "True Answer: silencers bind repressor proteins\n",
      "--------------------------------------------------\n",
      "Predicted Answer: blood plasma fractions at their own discretion . the watch tower society provides pre - formatted durable power of attorney documents prohibiting major blood components , in which members can specify which allowable fractions and treatments they will personally accept . jehovah ' s witnesses have established hospital liaison committees\n",
      "True Answer: blood plasma fractions\n",
      "--------------------------------------------------\n",
      "Predicted Answer: britain and france on 28 september 1939 , soviet foreign policy became critical of the allies and more pro - german in turn . during the fifth session of the supreme soviet on 31 october 1939 molotov\n",
      "True Answer: molotov\n",
      "--------------------------------------------------\n",
      "Predicted Answer: lowest rating of 7 , the 2012 freedom in the world report also notes improvement , giving myanmar a 6 for improvements in civil liberties and political rights , the release of political prisoners\n",
      "True Answer: myanmar improved yet again , receiving a score of five in civil liberties and a six in political freedom\n",
      "--------------------------------------------------\n",
      "Predicted Answer: comics from english , including russian ( russian : комикс , komiks ) and german\n",
      "True Answer: komiks\n",
      "--------------------------------------------------\n",
      "Predicted Answer: top 3 performance night\n",
      "True Answer: top 3 performance night\n",
      "--------------------------------------------------\n",
      "Predicted Answer: \n",
      "True Answer: 11 ° and 13 ° n\n",
      "--------------------------------------------------\n",
      "Predicted Answer: \n",
      "True Answer: juscelino kubitschek de oliveira\n",
      "--------------------------------------------------\n",
      "Predicted Answer: cycling , hiking , rock climbing , camping , birding , and wintertime snowboarding and skiing\n",
      "True Answer: a ski lift , several runs , a giftshop , and nearby restaurant\n",
      "--------------------------------------------------\n",
      "Predicted Answer: email , web - hosting , or online storage\n",
      "True Answer: email , web - hosting , or online storage services\n",
      "--------------------------------------------------\n",
      "Predicted Answer: january 1 , 2004\n",
      "True Answer: january 1 , 2004\n",
      "--------------------------------------------------\n",
      "Predicted Answer: french\n",
      "True Answer: british government\n",
      "--------------------------------------------------\n",
      "Predicted Answer: germanic\n",
      "True Answer: high german\n",
      "--------------------------------------------------\n",
      "Predicted Answer: pia toscano , one of the presumed favorites to advance far in the season , was unexpectedly eliminated on april 7 , 2011 , finishing in ninth place . her elimination drew criticisms from some former idol contestants , as well as actor tom hanks\n",
      "True Answer: pia toscano\n",
      "--------------------------------------------------\n",
      "Predicted Answer: uk national curriculum\n",
      "True Answer: the uk national curriculum\n",
      "--------------------------------------------------\n",
      "Predicted Answer: 2 march 2009\n",
      "True Answer: 2 march 2009\n",
      "--------------------------------------------------\n",
      "Predicted Answer: \n",
      "True Answer: 30th\n",
      "--------------------------------------------------\n",
      "Predicted Answer: a newer variant\n",
      "True Answer: a newer variant\n",
      "--------------------------------------------------\n",
      "Predicted Answer: afar\n",
      "True Answer: cushitic\n",
      "--------------------------------------------------\n",
      "Predicted Answer: fairmount park art association\n",
      "True Answer: fairmount park art association\n",
      "--------------------------------------------------\n",
      "Predicted Answer: shell oil company\n",
      "True Answer: the nyse\n",
      "--------------------------------------------------\n",
      "Predicted Answer: 409 , 600\n",
      "True Answer: 409 , 600\n",
      "--------------------------------------------------\n",
      "Predicted Answer: \n",
      "True Answer: up to the mountain\n",
      "--------------------------------------------------\n",
      "Predicted Answer: manhattanville\n",
      "True Answer: riverside drive\n",
      "--------------------------------------------------\n",
      "Predicted Answer: military training and cooperation\n",
      "True Answer: military training\n",
      "--------------------------------------------------\n",
      "Predicted Answer: 2006 . in 2011 , the wii version was rereleased under the nintendo selects label . a high - definition port for the wii u , the legend of zelda : twilight princess hd , will be released in march 2016\n",
      "True Answer: march 2016\n",
      "--------------------------------------------------\n",
      "Predicted Answer: craig david , coldplay drummer will champion\n",
      "True Answer: kids can ' t fly\n",
      "--------------------------------------------------\n",
      "Predicted Answer: congress has the sole power to legislate for the united states . under the nondelegation doctrine\n",
      "True Answer: nondelegation doctrine\n",
      "--------------------------------------------------\n",
      "Predicted Answer: 14\n",
      "True Answer: five\n",
      "--------------------------------------------------\n",
      "Predicted Answer: oklahoma city\n",
      "True Answer: oklahoma city\n",
      "--------------------------------------------------\n",
      "Predicted Answer: monophyletic\n",
      "True Answer: monophyletic\n",
      "--------------------------------------------------\n",
      "Predicted Answer: los angeles\n",
      "True Answer: los angeles ; terre haute , indiana ; bridgeport , connecticut ; and pitman , new\n",
      "--------------------------------------------------\n",
      "Predicted Answer: 360\n",
      "True Answer: 701 + range\n",
      "--------------------------------------------------\n",
      "Predicted Answer: anti - colonial leaders from several african countries and allowed the broadcast of anti - colonial propaganda from cairo . beginning in 1958 , nasser had a key role in the discussions among african leaders that led to the establishment of the organisation of african\n",
      "True Answer: organisation of african unity\n",
      "--------------------------------------------------\n",
      "Predicted Answer: excessive american cultural or military influence or control . in various countries around the world , people who believe their local or national culture has become too americanized\n",
      "True Answer: a region or territory is so aligned , supportive , and conducive with the united states\n",
      "--------------------------------------------------\n",
      "Predicted Answer: 2007\n",
      "True Answer: 2007\n",
      "--------------------------------------------------\n"
     ]
    }
   ],
   "source": [
    "# Compare the predictions with the actual answers\n",
    "for i in range(100):\n",
    "    print(f\"Predicted Answer: {train_preds[i]}\")\n",
    "    print(f\"True Answer: {train_true_labels[i]}\")\n",
    "    print(\"-\" * 50)"
   ]
  }
 ],
 "metadata": {
  "kernelspec": {
   "display_name": "Python 3",
   "language": "python",
   "name": "python3"
  },
  "language_info": {
   "codemirror_mode": {
    "name": "ipython",
    "version": 3
   },
   "file_extension": ".py",
   "mimetype": "text/x-python",
   "name": "python",
   "nbconvert_exporter": "python",
   "pygments_lexer": "ipython3",
   "version": "3.10.12"
  }
 },
 "nbformat": 4,
 "nbformat_minor": 2
}
