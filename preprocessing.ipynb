{
 "cells": [
  {
   "cell_type": "markdown",
   "metadata": {},
   "source": [
    "### A notebook to preprocess youtube transcripts of Al Mokhbir Al Eqtsadi episodes."
   ]
  },
  {
   "cell_type": "markdown",
   "metadata": {},
   "source": [
    "##### Imports & Data Loading"
   ]
  },
  {
   "cell_type": "code",
   "execution_count": null,
   "metadata": {},
   "outputs": [],
   "source": [
    "import os\n",
    "import pandas as pd"
   ]
  },
  {
   "cell_type": "code",
   "execution_count": null,
   "metadata": {},
   "outputs": [],
   "source": [
    "def read_episodes_files(file_path: str) -> pd.DataFrame:\n",
    "    \"\"\"\n",
    "    Read all the episodes files in the file_path and return a DataFrame with the content of the files.\n",
    "    \"\"\"\n",
    "    episodes_files = []\n",
    "    for file in os.listdir(file_path):\n",
    "        if file.endswith(\".txt\"):\n",
    "            with open(file_path + file, 'r') as f:\n",
    "                episodes_files.append(f.read())\n",
    "    df = pd.DataFrame(episodes_files, columns=['episode_transcript'])\n",
    "    return df"
   ]
  },
  {
   "cell_type": "code",
   "execution_count": 3,
   "metadata": {},
   "outputs": [
    {
     "data": {
      "text/html": [
       "<div>\n",
       "<style scoped>\n",
       "    .dataframe tbody tr th:only-of-type {\n",
       "        vertical-align: middle;\n",
       "    }\n",
       "\n",
       "    .dataframe tbody tr th {\n",
       "        vertical-align: top;\n",
       "    }\n",
       "\n",
       "    .dataframe thead th {\n",
       "        text-align: right;\n",
       "    }\n",
       "</style>\n",
       "<table border=\"1\" class=\"dataframe\">\n",
       "  <thead>\n",
       "    <tr style=\"text-align: right;\">\n",
       "      <th></th>\n",
       "      <th>episode_transcript</th>\n",
       "    </tr>\n",
       "  </thead>\n",
       "  <tbody>\n",
       "    <tr>\n",
       "      <th>0</th>\n",
       "      <td>ايران واذربيجان بينهم حدود طولها يتجاوز\\nال 75...</td>\n",
       "    </tr>\n",
       "    <tr>\n",
       "      <th>1</th>\n",
       "      <td>قطاع غزه بيتعرض في الاسابيع الاخيره\\nلعدوان اج...</td>\n",
       "    </tr>\n",
       "    <tr>\n",
       "      <th>2</th>\n",
       "      <td>الدول الغربية بقيادة الولايات المتحدة\\nمستمرة ...</td>\n",
       "    </tr>\n",
       "    <tr>\n",
       "      <th>3</th>\n",
       "      <td>في 8 اكتوبر 2023 وبعد يوم واحد من انطلاق\\nعملي...</td>\n",
       "    </tr>\n",
       "    <tr>\n",
       "      <th>4</th>\n",
       "      <td>في 26 يناير سنه 1968 صحيفه انترناشونال\\nهيرال ...</td>\n",
       "    </tr>\n",
       "    <tr>\n",
       "      <th>...</th>\n",
       "      <td>...</td>\n",
       "    </tr>\n",
       "    <tr>\n",
       "      <th>217</th>\n",
       "      <td>محطات الطاقه النوويه ما فيش غير عدد قليل\\nجدا ...</td>\n",
       "    </tr>\n",
       "    <tr>\n",
       "      <th>218</th>\n",
       "      <td>في أواخر شهر مارس اللي فات\\nالرئيس الأمريكي جو...</td>\n",
       "    </tr>\n",
       "    <tr>\n",
       "      <th>219</th>\n",
       "      <td>النفط والغاز والفحم دول هم الانواع\\nالرئيسيه ا...</td>\n",
       "    </tr>\n",
       "    <tr>\n",
       "      <th>220</th>\n",
       "      <td>من حوالي 14 سنة\\nوتحديداً في 30 يونيو 2008\\nوز...</td>\n",
       "    </tr>\n",
       "    <tr>\n",
       "      <th>221</th>\n",
       "      <td>في 5 ديسمبر 2013 الزعيم الجنوب افريقي\\nالشهير ...</td>\n",
       "    </tr>\n",
       "  </tbody>\n",
       "</table>\n",
       "<p>222 rows × 1 columns</p>\n",
       "</div>"
      ],
      "text/plain": [
       "                                    episode_transcript\n",
       "0    ايران واذربيجان بينهم حدود طولها يتجاوز\\nال 75...\n",
       "1    قطاع غزه بيتعرض في الاسابيع الاخيره\\nلعدوان اج...\n",
       "2    الدول الغربية بقيادة الولايات المتحدة\\nمستمرة ...\n",
       "3    في 8 اكتوبر 2023 وبعد يوم واحد من انطلاق\\nعملي...\n",
       "4    في 26 يناير سنه 1968 صحيفه انترناشونال\\nهيرال ...\n",
       "..                                                 ...\n",
       "217  محطات الطاقه النوويه ما فيش غير عدد قليل\\nجدا ...\n",
       "218  في أواخر شهر مارس اللي فات\\nالرئيس الأمريكي جو...\n",
       "219  النفط والغاز والفحم دول هم الانواع\\nالرئيسيه ا...\n",
       "220  من حوالي 14 سنة\\nوتحديداً في 30 يونيو 2008\\nوز...\n",
       "221  في 5 ديسمبر 2013 الزعيم الجنوب افريقي\\nالشهير ...\n",
       "\n",
       "[222 rows x 1 columns]"
      ]
     },
     "execution_count": 3,
     "metadata": {},
     "output_type": "execute_result"
    }
   ],
   "source": [
    "read_episodes_files('Al_Mokhbir_Al_Eqtisadi/raw_data/')"
   ]
  }
 ],
 "metadata": {
  "kernelspec": {
   "display_name": "base",
   "language": "python",
   "name": "python3"
  },
  "language_info": {
   "codemirror_mode": {
    "name": "ipython",
    "version": 3
   },
   "file_extension": ".py",
   "mimetype": "text/x-python",
   "name": "python",
   "nbconvert_exporter": "python",
   "pygments_lexer": "ipython3",
   "version": "3.12.4"
  }
 },
 "nbformat": 4,
 "nbformat_minor": 2
}
